{
 "cells": [
  {
   "cell_type": "code",
   "execution_count": 6,
   "metadata": {},
   "outputs": [],
   "source": [
    "import os\n",
    "import pandas as pd\n",
    "\n",
    "os.sys.path.insert(0, '../script')\n",
    "\n",
    "from evaluation import evaluate_texts, EVALUATION_SETS, preprocess_to_evaluate"
   ]
  },
  {
   "cell_type": "code",
   "execution_count": 7,
   "metadata": {},
   "outputs": [],
   "source": [
    "preprocess_to_evaluate('../model/BIU_nmt.txt', 'BIU_nmt')"
   ]
  },
  {
   "cell_type": "code",
   "execution_count": 8,
   "metadata": {},
   "outputs": [
    {
     "data": {
      "text/html": [
       "<div>\n",
       "<style scoped>\n",
       "    .dataframe tbody tr th:only-of-type {\n",
       "        vertical-align: middle;\n",
       "    }\n",
       "\n",
       "    .dataframe tbody tr th {\n",
       "        vertical-align: top;\n",
       "    }\n",
       "\n",
       "    .dataframe thead th {\n",
       "        text-align: right;\n",
       "    }\n",
       "</style>\n",
       "<table border=\"1\" class=\"dataframe\">\n",
       "  <thead>\n",
       "    <tr style=\"text-align: right;\">\n",
       "      <th></th>\n",
       "      <th>all-cat</th>\n",
       "      <th>old-cat</th>\n",
       "      <th>new-cat</th>\n",
       "      <th>1size</th>\n",
       "      <th>2size</th>\n",
       "      <th>3size</th>\n",
       "      <th>4size</th>\n",
       "      <th>5size</th>\n",
       "      <th>6size</th>\n",
       "      <th>7size</th>\n",
       "    </tr>\n",
       "  </thead>\n",
       "  <tbody>\n",
       "    <tr>\n",
       "      <th>bleu</th>\n",
       "      <td>46.370000</td>\n",
       "      <td>53.630000</td>\n",
       "      <td>37.550000</td>\n",
       "      <td>65.210000</td>\n",
       "      <td>51.000000</td>\n",
       "      <td>43.780000</td>\n",
       "      <td>44.030000</td>\n",
       "      <td>39.220000</td>\n",
       "      <td>47.870000</td>\n",
       "      <td>51.720000</td>\n",
       "    </tr>\n",
       "    <tr>\n",
       "      <th>meteor</th>\n",
       "      <td>0.391809</td>\n",
       "      <td>0.417234</td>\n",
       "      <td>0.362192</td>\n",
       "      <td>0.486835</td>\n",
       "      <td>0.435722</td>\n",
       "      <td>0.388845</td>\n",
       "      <td>0.376948</td>\n",
       "      <td>0.347759</td>\n",
       "      <td>0.359594</td>\n",
       "      <td>0.383348</td>\n",
       "    </tr>\n",
       "    <tr>\n",
       "      <th>ter</th>\n",
       "      <td>0.488673</td>\n",
       "      <td>0.434748</td>\n",
       "      <td>0.552363</td>\n",
       "      <td>0.239367</td>\n",
       "      <td>0.410794</td>\n",
       "      <td>0.506007</td>\n",
       "      <td>0.534005</td>\n",
       "      <td>0.595846</td>\n",
       "      <td>0.498045</td>\n",
       "      <td>0.450704</td>\n",
       "    </tr>\n",
       "  </tbody>\n",
       "</table>\n",
       "</div>"
      ],
      "text/plain": [
       "          all-cat    old-cat    new-cat      1size      2size      3size  \\\n",
       "bleu    46.370000  53.630000  37.550000  65.210000  51.000000  43.780000   \n",
       "meteor   0.391809   0.417234   0.362192   0.486835   0.435722   0.388845   \n",
       "ter      0.488673   0.434748   0.552363   0.239367   0.410794   0.506007   \n",
       "\n",
       "            4size      5size      6size      7size  \n",
       "bleu    44.030000  39.220000  47.870000  51.720000  \n",
       "meteor   0.376948   0.347759   0.359594   0.383348  \n",
       "ter      0.534005   0.595846   0.498045   0.450704  "
      ]
     },
     "execution_count": 8,
     "metadata": {},
     "output_type": "execute_result"
    }
   ],
   "source": [
    "team = 'BIU_nmt'\n",
    "results = {}\n",
    "\n",
    "for eval_set in EVALUATION_SETS:\n",
    "    \n",
    "    results[eval_set] = evaluate_texts(f'../model/BIU_nmt_{eval_set}.txt', eval_set)\n",
    "    \n",
    "df = pd.DataFrame(results)\n",
    "df"
   ]
  }
 ],
 "metadata": {
  "kernelspec": {
   "display_name": "Python 3",
   "language": "python",
   "name": "python3"
  },
  "language_info": {
   "codemirror_mode": {
    "name": "ipython",
    "version": 3
   },
   "file_extension": ".py",
   "mimetype": "text/x-python",
   "name": "python",
   "nbconvert_exporter": "python",
   "pygments_lexer": "ipython3",
   "version": "3.6.7"
  }
 },
 "nbformat": 4,
 "nbformat_minor": 2
}
