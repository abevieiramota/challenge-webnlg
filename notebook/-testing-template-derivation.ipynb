{
 "cells": [
  {
   "cell_type": "markdown",
   "metadata": {},
   "source": [
    "# Testing ideas"
   ]
  },
  {
   "cell_type": "code",
   "execution_count": 3,
   "metadata": {},
   "outputs": [],
   "source": [
    "import os\n",
    "\n",
    "os.sys.path.insert(0, '../script')\n",
    "\n",
    "from template_based import Structure\n",
    "from webnlg_corpus import webnlg"
   ]
  },
  {
   "cell_type": "code",
   "execution_count": 4,
   "metadata": {},
   "outputs": [],
   "source": [
    "corpus = webnlg.load('webnlg_challenge_2017')"
   ]
  },
  {
   "cell_type": "code",
   "execution_count": 10,
   "metadata": {},
   "outputs": [
    {
     "data": {
      "text/plain": [
       "Triple info: Category=Food eid=Id28 idx=train_Food_5_Id28\n",
       "\n",
       "\tModified Triples:\n",
       "\n",
       "Arròs_negre | region | Valencian_Community\n",
       "Valencian_Community | leaderName | Ximo_Puig\n",
       "Spain | currency | Euro\n",
       "Arròs_negre | country | Spain\n",
       "Spain | leaderName | Felipe_VI_of_Spain\n",
       "\n",
       "\n",
       "\tLexicalizations:\n",
       "\n",
       "Ximo Puig is a leader in the Valencian Community where Arros negre comes from. It is a traditional dish from Spain, where the currency is the euro and the leader is Felipe VI of Spain.\n",
       "\n",
       "\n",
       "The Spanish dish Arros negre comes from the region of the Valencian Community, where the leader is Ximo Puig. The leader of Spain is Felipe VI and the currency used in the country is the euro.\n"
      ]
     },
     "execution_count": 10,
     "metadata": {},
     "output_type": "execute_result"
    }
   ],
   "source": [
    "s = corpus.sample(ntriples=[5])\n",
    "s"
   ]
  },
  {
   "cell_type": "code",
   "execution_count": 11,
   "metadata": {},
   "outputs": [
    {
     "data": {
      "text/plain": [
       "[Arròs_negre, \n",
       "\n",
       "\t<region, [\n",
       "\t\t[Valencian_Community, \n",
       "\n",
       "\t\t\t<leaderName, [Ximo_Puig]>]]>,\n",
       "\t<country, [\n",
       "\t\t[Spain, \n",
       "\n",
       "\t\t\t<currency, [Euro]>,\n",
       "\t\t\t<leaderName, [Felipe_VI_of_Spain]>]]>]"
      ]
     },
     "execution_count": 11,
     "metadata": {},
     "output_type": "execute_result"
    }
   ],
   "source": [
    "Structure.from_triples(s.data)"
   ]
  },
  {
   "cell_type": "code",
   "execution_count": null,
   "metadata": {},
   "outputs": [],
   "source": []
  },
  {
   "cell_type": "code",
   "execution_count": null,
   "metadata": {},
   "outputs": [],
   "source": []
  },
  {
   "cell_type": "code",
   "execution_count": null,
   "metadata": {},
   "outputs": [],
   "source": []
  },
  {
   "cell_type": "code",
   "execution_count": null,
   "metadata": {},
   "outputs": [],
   "source": []
  },
  {
   "cell_type": "code",
   "execution_count": null,
   "metadata": {},
   "outputs": [],
   "source": []
  },
  {
   "cell_type": "code",
   "execution_count": null,
   "metadata": {},
   "outputs": [],
   "source": []
  },
  {
   "cell_type": "code",
   "execution_count": 12,
   "metadata": {},
   "outputs": [
    {
     "ename": "NameError",
     "evalue": "name 'template_db' is not defined",
     "output_type": "error",
     "traceback": [
      "\u001b[0;31m---------------------------------------------------------------------------\u001b[0m",
      "\u001b[0;31mNameError\u001b[0m                                 Traceback (most recent call last)",
      "\u001b[0;32m<ipython-input-12-c62c4890a123>\u001b[0m in \u001b[0;36m<module>\u001b[0;34m\u001b[0m\n\u001b[0;32m----> 1\u001b[0;31m \u001b[0mt1\u001b[0m \u001b[0;34m=\u001b[0m \u001b[0mtemplate_db\u001b[0m\u001b[0;34m[\u001b[0m\u001b[0mStructure\u001b[0m\u001b[0;34m.\u001b[0m\u001b[0mfrom_triples\u001b[0m\u001b[0;34m(\u001b[0m\u001b[0;34m[\u001b[0m\u001b[0;34m{\u001b[0m\u001b[0;34m'subject'\u001b[0m\u001b[0;34m:\u001b[0m \u001b[0;34m'A'\u001b[0m\u001b[0;34m,\u001b[0m \u001b[0;34m'predicate'\u001b[0m\u001b[0;34m:\u001b[0m \u001b[0;34m'cityServed'\u001b[0m\u001b[0;34m,\u001b[0m \u001b[0;34m'object'\u001b[0m\u001b[0;34m:\u001b[0m \u001b[0;34m'B'\u001b[0m\u001b[0;34m}\u001b[0m\u001b[0;34m]\u001b[0m\u001b[0;34m)\u001b[0m\u001b[0;34m]\u001b[0m\u001b[0;34m.\u001b[0m\u001b[0mmost_common\u001b[0m\u001b[0;34m(\u001b[0m\u001b[0;36m1\u001b[0m\u001b[0;34m)\u001b[0m\u001b[0;34m[\u001b[0m\u001b[0;36m0\u001b[0m\u001b[0;34m]\u001b[0m\u001b[0;34m[\u001b[0m\u001b[0;36m0\u001b[0m\u001b[0;34m]\u001b[0m\u001b[0;34m\u001b[0m\u001b[0;34m\u001b[0m\u001b[0m\n\u001b[0m\u001b[1;32m      2\u001b[0m \u001b[0;34m\u001b[0m\u001b[0m\n\u001b[1;32m      3\u001b[0m \u001b[0mt1\u001b[0m\u001b[0;34m\u001b[0m\u001b[0;34m\u001b[0m\u001b[0m\n",
      "\u001b[0;31mNameError\u001b[0m: name 'template_db' is not defined"
     ]
    }
   ],
   "source": [
    "t1 = template_db[Structure.from_triples([{'subject': 'A', 'predicate': 'cityServed', 'object': 'B'}])].most_common(1)[0][0]\n",
    "\n",
    "t1"
   ]
  },
  {
   "cell_type": "code",
   "execution_count": 10,
   "metadata": {},
   "outputs": [
    {
     "data": {
      "text/plain": [
       "Structure: <AGENT-1, elevationAboveTheSeaLevel_(in_metres), PATIENT-1>\n",
       "Text: {AGENT-1} is {PATIENT-1} metres above sea level ."
      ]
     },
     "execution_count": 10,
     "metadata": {},
     "output_type": "execute_result"
    }
   ],
   "source": [
    "t2 = template_db[Structure.from_triples([{'subject': 'A', 'predicate': 'elevationAboveTheSeaLevel_(in_metres)', 'object': 'B'}])].most_common(1)[0][0]\n",
    "\n",
    "t2"
   ]
  },
  {
   "cell_type": "code",
   "execution_count": 19,
   "metadata": {},
   "outputs": [
    {
     "data": {
      "text/plain": [
       "('{AGENT-1} serves the city of {PATIENT-1}.',\n",
       " '{AGENT-1} is {PATIENT-1} metres above sea level .')"
      ]
     },
     "execution_count": 19,
     "metadata": {},
     "output_type": "execute_result"
    }
   ],
   "source": [
    "t1.template_text, t2.template_text"
   ]
  },
  {
   "cell_type": "markdown",
   "metadata": {},
   "source": [
    "# (AGENT-1, p1, PATIENT-1), (AGENT-1, p2, PATIENT-1) \n",
    "# ->  \n",
    "# [(AGENT-1, p1, PATIENT-1), (AGENT-1, p2, PATIENT2)]"
   ]
  },
  {
   "cell_type": "code",
   "execution_count": 48,
   "metadata": {},
   "outputs": [],
   "source": [
    "import re\n",
    "\n",
    "RE_REMOVE_FINAL_DOT = re.compile(r'\\.$')\n",
    "# assumes the sentence is in active voice\n",
    "RE_REMOVE_AGENT_1 = re.compile(r'^.*?{AGENT-1}')\n",
    "\n",
    "def make_text(t1, t2):\n",
    "    \n",
    "    t1_ = RE_REMOVE_FINAL_DOT.sub('', t1)\n",
    "    \n",
    "    t2_ = RE_REMOVE_AGENT_1.sub('', t2).replace('{PATIENT-1}', '{PATIENT-2}')\n",
    "    \n",
    "    return '{} and {}'.format(t1_, t2_)"
   ]
  },
  {
   "cell_type": "code",
   "execution_count": 31,
   "metadata": {},
   "outputs": [],
   "source": [
    "def make_structure(h1, h2):\n",
    "    \n",
    "    o1 = Slot('PATIENT-1', [])\n",
    "    p1 = Predicate(h1.predicates[0].value, [o1])\n",
    "    o2 = Slot('PATIENT-2', [])\n",
    "    p2 = Predicate(h2.predicates[0].value, [o2])\n",
    "    \n",
    "    s = Slot('AGENT-1', [p1, p2])\n",
    "    \n",
    "    return Structure(s)"
   ]
  },
  {
   "cell_type": "code",
   "execution_count": 41,
   "metadata": {},
   "outputs": [],
   "source": [
    "def make_template(t1, t2):\n",
    "    \n",
    "    template_text = make_text(t1.template_text, t2.template_text)\n",
    "    structure = make_structure(t1.structure.head, t2.structure.head)\n",
    "    \n",
    "    return Template(structure, template_text, None)"
   ]
  },
  {
   "cell_type": "code",
   "execution_count": 43,
   "metadata": {},
   "outputs": [
    {
     "data": {
      "text/plain": [
       "Structure: <AGENT-1, cityServed, PATIENT-1>\n",
       "<AGENT-1, elevationAboveTheSeaLevel_(in_metres), PATIENT-2>\n",
       "Text: {AGENT-1} serves the city of {PATIENT-1} and  is {PATIENT-2} metres above sea level ."
      ]
     },
     "execution_count": 43,
     "metadata": {},
     "output_type": "execute_result"
    }
   ],
   "source": [
    "template1 = make_template(t1, t2)\n",
    "\n",
    "template1"
   ]
  },
  {
   "cell_type": "code",
   "execution_count": 46,
   "metadata": {},
   "outputs": [
    {
     "data": {
      "text/plain": [
       "Structure: <AGENT-1, elevationAboveTheSeaLevel_(in_metres), PATIENT-1>\n",
       "<AGENT-1, cityServed, PATIENT-2>\n",
       "Text: {AGENT-1} is {PATIENT-1} metres above sea level  and  serves the city of {PATIENT-2}."
      ]
     },
     "execution_count": 46,
     "metadata": {},
     "output_type": "execute_result"
    }
   ],
   "source": [
    "template2 = make_template(t2, t1)\n",
    "\n",
    "template2"
   ]
  },
  {
   "cell_type": "code",
   "execution_count": 44,
   "metadata": {},
   "outputs": [
    {
     "data": {
      "text/plain": [
       "'A serves the city of B and  is C metres above sea level .'"
      ]
     },
     "execution_count": 44,
     "metadata": {},
     "output_type": "execute_result"
    }
   ],
   "source": [
    "s = Structure.from_triples([{'subject': 'A', 'predicate': 'cityServed', 'object': 'B'},\n",
    "                            {'subject': 'A', 'predicate': 'elevationAboveTheSeaLevel_(in_metres)', 'object': 'C'}])\n",
    "\n",
    "template1.fill(s, lambda x: x)"
   ]
  },
  {
   "cell_type": "code",
   "execution_count": 47,
   "metadata": {},
   "outputs": [
    {
     "data": {
      "text/plain": [
       "'A is B metres above sea level  and  serves the city of C.'"
      ]
     },
     "execution_count": 47,
     "metadata": {},
     "output_type": "execute_result"
    }
   ],
   "source": [
    "s = Structure.from_triples([{'subject': 'A', 'predicate': 'elevationAboveTheSeaLevel_(in_metres)', 'object': 'B'},\n",
    "                            {'subject': 'A', 'predicate': 'cityServed', 'object': 'C'}])\n",
    "\n",
    "template2.fill(s, lambda x: x)"
   ]
  },
  {
   "cell_type": "markdown",
   "metadata": {},
   "source": [
    "# JustJoin"
   ]
  },
  {
   "cell_type": "code",
   "execution_count": 51,
   "metadata": {},
   "outputs": [],
   "source": [
    "# make a general one\n",
    "class JustJoinTemplate2:\n",
    "\n",
    "    def fill(self, data, lexicalization_f):\n",
    "\n",
    "        s = lexicalization_f(data.head.value)\n",
    "        p1 = lexicalization_f(data.head.predicates[0].value)\n",
    "        o1 = lexicalization_f(data.head.predicates[0].objects[0].value)\n",
    "        p2 = lexicalization_f(data.head.predicates[0].objects[0].predicates[0].value)\n",
    "        o2 = lexicalization_f(data.head.predicates[0].objects[0].predicates[0].objects[0].value)\n",
    "\n",
    "        return f'{s} {p1} {o1} {p2} {o2}.'\n",
    "\n",
    "    def __repr__(self):\n",
    "        return 'template {s} {p1} {o1} {p2} {o2}.'"
   ]
  },
  {
   "cell_type": "code",
   "execution_count": 53,
   "metadata": {},
   "outputs": [
    {
     "data": {
      "text/plain": [
       "'A elevationAboveTheSeaLevel_(in_metres) B cityServed C.'"
      ]
     },
     "execution_count": 53,
     "metadata": {},
     "output_type": "execute_result"
    }
   ],
   "source": [
    "s = Structure.from_triples([{'subject': 'A', 'predicate': 'elevationAboveTheSeaLevel_(in_metres)', 'object': 'B'},\n",
    "                            {'subject': 'B', 'predicate': 'cityServed', 'object': 'C'}])\n",
    "\n",
    "jjt = JustJoinTemplate2()\n",
    "\n",
    "jjt.fill(s, lambda x: x)"
   ]
  },
  {
   "cell_type": "code",
   "execution_count": 54,
   "metadata": {},
   "outputs": [
    {
     "data": {
      "text/plain": [
       "<A, elevationAboveTheSeaLevel_(in_metres), B>\n",
       "<B, cityServed, C>"
      ]
     },
     "execution_count": 54,
     "metadata": {},
     "output_type": "execute_result"
    }
   ],
   "source": [
    "s.head"
   ]
  },
  {
   "cell_type": "code",
   "execution_count": null,
   "metadata": {},
   "outputs": [],
   "source": []
  }
 ],
 "metadata": {
  "kernelspec": {
   "display_name": "Python 3",
   "language": "python",
   "name": "python3"
  },
  "language_info": {
   "codemirror_mode": {
    "name": "ipython",
    "version": 3
   },
   "file_extension": ".py",
   "mimetype": "text/x-python",
   "name": "python",
   "nbconvert_exporter": "python",
   "pygments_lexer": "ipython3",
   "version": "3.6.7"
  }
 },
 "nbformat": 4,
 "nbformat_minor": 2
}
