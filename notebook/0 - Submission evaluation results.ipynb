{
 "cells": [
  {
   "cell_type": "code",
   "execution_count": 1,
   "metadata": {},
   "outputs": [],
   "source": [
    "import pandas as pd\n",
    "pd.set_option('max_colwidth', 500)\n",
    "%matplotlib inline"
   ]
  },
  {
   "cell_type": "code",
   "execution_count": 2,
   "metadata": {},
   "outputs": [],
   "source": [
    "df = pd.read_csv(\"../data/webnlg2017/webnlg-human-evaluation-master/all_data_final_averaged.csv\")"
   ]
  },
  {
   "cell_type": "code",
   "execution_count": 3,
   "metadata": {},
   "outputs": [
    {
     "name": "stdout",
     "output_type": "stream",
     "text": [
      "<class 'pandas.core.frame.DataFrame'>\n",
      "RangeIndex: 2230 entries, 0 to 2229\n",
      "Data columns (total 14 columns):\n",
      "id            2230 non-null int64\n",
      "mr            2230 non-null object\n",
      "team          2230 non-null object\n",
      "text          2037 non-null object\n",
      "category      2230 non-null object\n",
      "type          2230 non-null object\n",
      "bleu          2230 non-null float64\n",
      "meteor        2230 non-null float64\n",
      "ter           2230 non-null float64\n",
      "systemtype    2230 non-null object\n",
      "triplesize    2230 non-null object\n",
      "fluency       2230 non-null float64\n",
      "grammar       2230 non-null float64\n",
      "semantics     2230 non-null float64\n",
      "dtypes: float64(6), int64(1), object(7)\n",
      "memory usage: 244.0+ KB\n"
     ]
    }
   ],
   "source": [
    "df.info()"
   ]
  },
  {
   "cell_type": "code",
   "execution_count": 6,
   "metadata": {},
   "outputs": [
    {
     "data": {
      "text/plain": [
       "vietnam         223\n",
       "pkuwriter       223\n",
       "adapt           223\n",
       "tilburg-nmt     223\n",
       "upf-forge       223\n",
       "webnlg          223\n",
       "tilburg-pipe    223\n",
       "baseline        223\n",
       "tilburg-smt     223\n",
       "melbourne       223\n",
       "Name: team, dtype: int64"
      ]
     },
     "execution_count": 6,
     "metadata": {},
     "output_type": "execute_result"
    }
   ],
   "source": [
    "df.team.value_counts()"
   ]
  },
  {
   "cell_type": "code",
   "execution_count": 44,
   "metadata": {},
   "outputs": [],
   "source": [
    "df['triple_id'] = pd.factorize(df.mr)[0]\n",
    "df['mr'] = df.mr.str.split('<br>')\n",
    "df['triplesize'] = df.triplesize.str.slice(0, 1).astype('int')"
   ]
  },
  {
   "cell_type": "markdown",
   "metadata": {},
   "source": [
    "# Teams"
   ]
  },
  {
   "cell_type": "code",
   "execution_count": 45,
   "metadata": {},
   "outputs": [
    {
     "data": {
      "text/plain": [
       "array(['adapt', 'baseline', 'melbourne', 'pkuwriter', 'tilburg-nmt',\n",
       "       'tilburg-pipe', 'tilburg-smt', 'upf-forge', 'vietnam', 'webnlg'],\n",
       "      dtype=object)"
      ]
     },
     "execution_count": 45,
     "metadata": {},
     "output_type": "execute_result"
    }
   ],
   "source": [
    "df.team.unique()"
   ]
  },
  {
   "cell_type": "markdown",
   "metadata": {},
   "source": [
    "# Lets have a look at an example of max grade in fluency and 5 triples, with human generated"
   ]
  },
  {
   "cell_type": "code",
   "execution_count": 53,
   "metadata": {},
   "outputs": [],
   "source": [
    "def sample_best(team, best_col, triplesize):\n",
    "    \n",
    "    team_df = df[(df.team == team) & (df.triplesize == triplesize)]\n",
    "    x = team_df.nlargest(1, best_col)\n",
    "    x_human = df[(df.team == 'webnlg') & (df.triple_id == x.triple_id.values[0])]\n",
    "    \n",
    "    return pd.concat([x, x_human]).T"
   ]
  },
  {
   "cell_type": "markdown",
   "metadata": {},
   "source": [
    "## Team adapt"
   ]
  },
  {
   "cell_type": "code",
   "execution_count": 59,
   "metadata": {},
   "outputs": [
    {
     "data": {
      "text/html": [
       "<div>\n",
       "<style scoped>\n",
       "    .dataframe tbody tr th:only-of-type {\n",
       "        vertical-align: middle;\n",
       "    }\n",
       "\n",
       "    .dataframe tbody tr th {\n",
       "        vertical-align: top;\n",
       "    }\n",
       "\n",
       "    .dataframe thead th {\n",
       "        text-align: right;\n",
       "    }\n",
       "</style>\n",
       "<table border=\"1\" class=\"dataframe\">\n",
       "  <thead>\n",
       "    <tr style=\"text-align: right;\">\n",
       "      <th></th>\n",
       "      <th>270</th>\n",
       "      <th>279</th>\n",
       "    </tr>\n",
       "  </thead>\n",
       "  <tbody>\n",
       "    <tr>\n",
       "      <th>id</th>\n",
       "      <td>271</td>\n",
       "      <td>280</td>\n",
       "    </tr>\n",
       "    <tr>\n",
       "      <th>mr</th>\n",
       "      <td>[AC_Hotel_Bella_Sky_Copenhagen | location | Denmark, Marriott_International | foundationPlace | Washington,_D.C., Denmark | leaderName | Lars_Løkke_Rasmussen, AC_Hotel_Bella_Sky_Copenhagen | tenant | Marriott_International, Denmark | language | Greenlandic_language]</td>\n",
       "      <td>[AC_Hotel_Bella_Sky_Copenhagen | location | Denmark, Marriott_International | foundationPlace | Washington,_D.C., Denmark | leaderName | Lars_Løkke_Rasmussen, AC_Hotel_Bella_Sky_Copenhagen | tenant | Marriott_International, Denmark | language | Greenlandic_language]</td>\n",
       "    </tr>\n",
       "    <tr>\n",
       "      <th>team</th>\n",
       "      <td>adapt</td>\n",
       "      <td>webnlg</td>\n",
       "    </tr>\n",
       "    <tr>\n",
       "      <th>text</th>\n",
       "      <td>the leader of denmark is lars lokke rasmussen and one of the languages is greenlandic. the ac hotel bella sky is located in copenhagen and tenanted by marriott international which was founded in washington dc.</td>\n",
       "      <td>ac hotel bella sky copenhagen is in denmark where the leader is lars lokke rasmussen and greenlandic is one of the languages spoken there . the tenant of the ac hotel bella sky copenhagen is the marriott international hotel which was founded in washington , d . c .\\n</td>\n",
       "    </tr>\n",
       "    <tr>\n",
       "      <th>category</th>\n",
       "      <td>Building</td>\n",
       "      <td>Building</td>\n",
       "    </tr>\n",
       "    <tr>\n",
       "      <th>type</th>\n",
       "      <td>seen</td>\n",
       "      <td>seen</td>\n",
       "    </tr>\n",
       "    <tr>\n",
       "      <th>bleu</th>\n",
       "      <td>0.409</td>\n",
       "      <td>1</td>\n",
       "    </tr>\n",
       "    <tr>\n",
       "      <th>meteor</th>\n",
       "      <td>0.376891</td>\n",
       "      <td>1</td>\n",
       "    </tr>\n",
       "    <tr>\n",
       "      <th>ter</th>\n",
       "      <td>59.77</td>\n",
       "      <td>1</td>\n",
       "    </tr>\n",
       "    <tr>\n",
       "      <th>systemtype</th>\n",
       "      <td>neural</td>\n",
       "      <td>human</td>\n",
       "    </tr>\n",
       "    <tr>\n",
       "      <th>triplesize</th>\n",
       "      <td>5</td>\n",
       "      <td>5</td>\n",
       "    </tr>\n",
       "    <tr>\n",
       "      <th>fluency</th>\n",
       "      <td>3</td>\n",
       "      <td>1.66667</td>\n",
       "    </tr>\n",
       "    <tr>\n",
       "      <th>grammar</th>\n",
       "      <td>2.66667</td>\n",
       "      <td>1.66667</td>\n",
       "    </tr>\n",
       "    <tr>\n",
       "      <th>semantics</th>\n",
       "      <td>2.66667</td>\n",
       "      <td>2.66667</td>\n",
       "    </tr>\n",
       "    <tr>\n",
       "      <th>triple_id</th>\n",
       "      <td>27</td>\n",
       "      <td>27</td>\n",
       "    </tr>\n",
       "  </tbody>\n",
       "</table>\n",
       "</div>"
      ],
      "text/plain": [
       "                                                                                                                                                                                                                                                                                   270  \\\n",
       "id                                                                                                                                                                                                                                                                                 271   \n",
       "mr          [AC_Hotel_Bella_Sky_Copenhagen | location | Denmark, Marriott_International | foundationPlace | Washington,_D.C., Denmark | leaderName | Lars_Løkke_Rasmussen, AC_Hotel_Bella_Sky_Copenhagen | tenant | Marriott_International, Denmark | language | Greenlandic_language]   \n",
       "team                                                                                                                                                                                                                                                                             adapt   \n",
       "text                                                                 the leader of denmark is lars lokke rasmussen and one of the languages is greenlandic. the ac hotel bella sky is located in copenhagen and tenanted by marriott international which was founded in washington dc.   \n",
       "category                                                                                                                                                                                                                                                                      Building   \n",
       "type                                                                                                                                                                                                                                                                              seen   \n",
       "bleu                                                                                                                                                                                                                                                                             0.409   \n",
       "meteor                                                                                                                                                                                                                                                                        0.376891   \n",
       "ter                                                                                                                                                                                                                                                                              59.77   \n",
       "systemtype                                                                                                                                                                                                                                                                      neural   \n",
       "triplesize                                                                                                                                                                                                                                                                           5   \n",
       "fluency                                                                                                                                                                                                                                                                              3   \n",
       "grammar                                                                                                                                                                                                                                                                        2.66667   \n",
       "semantics                                                                                                                                                                                                                                                                      2.66667   \n",
       "triple_id                                                                                                                                                                                                                                                                           27   \n",
       "\n",
       "                                                                                                                                                                                                                                                                                    279  \n",
       "id                                                                                                                                                                                                                                                                                  280  \n",
       "mr           [AC_Hotel_Bella_Sky_Copenhagen | location | Denmark, Marriott_International | foundationPlace | Washington,_D.C., Denmark | leaderName | Lars_Løkke_Rasmussen, AC_Hotel_Bella_Sky_Copenhagen | tenant | Marriott_International, Denmark | language | Greenlandic_language]  \n",
       "team                                                                                                                                                                                                                                                                             webnlg  \n",
       "text        ac hotel bella sky copenhagen is in denmark where the leader is lars lokke rasmussen and greenlandic is one of the languages spoken there . the tenant of the ac hotel bella sky copenhagen is the marriott international hotel which was founded in washington , d . c .\\n  \n",
       "category                                                                                                                                                                                                                                                                       Building  \n",
       "type                                                                                                                                                                                                                                                                               seen  \n",
       "bleu                                                                                                                                                                                                                                                                                  1  \n",
       "meteor                                                                                                                                                                                                                                                                                1  \n",
       "ter                                                                                                                                                                                                                                                                                   1  \n",
       "systemtype                                                                                                                                                                                                                                                                        human  \n",
       "triplesize                                                                                                                                                                                                                                                                            5  \n",
       "fluency                                                                                                                                                                                                                                                                         1.66667  \n",
       "grammar                                                                                                                                                                                                                                                                         1.66667  \n",
       "semantics                                                                                                                                                                                                                                                                       2.66667  \n",
       "triple_id                                                                                                                                                                                                                                                                            27  "
      ]
     },
     "execution_count": 59,
     "metadata": {},
     "output_type": "execute_result"
    }
   ],
   "source": [
    "sample_best('adapt', 'fluency', 5)"
   ]
  },
  {
   "cell_type": "markdown",
   "metadata": {},
   "source": [
    "## Team baseline"
   ]
  },
  {
   "cell_type": "code",
   "execution_count": 60,
   "metadata": {},
   "outputs": [
    {
     "data": {
      "text/html": [
       "<div>\n",
       "<style scoped>\n",
       "    .dataframe tbody tr th:only-of-type {\n",
       "        vertical-align: middle;\n",
       "    }\n",
       "\n",
       "    .dataframe tbody tr th {\n",
       "        vertical-align: top;\n",
       "    }\n",
       "\n",
       "    .dataframe thead th {\n",
       "        text-align: right;\n",
       "    }\n",
       "</style>\n",
       "<table border=\"1\" class=\"dataframe\">\n",
       "  <thead>\n",
       "    <tr style=\"text-align: right;\">\n",
       "      <th></th>\n",
       "      <th>211</th>\n",
       "      <th>219</th>\n",
       "    </tr>\n",
       "  </thead>\n",
       "  <tbody>\n",
       "    <tr>\n",
       "      <th>id</th>\n",
       "      <td>212</td>\n",
       "      <td>220</td>\n",
       "    </tr>\n",
       "    <tr>\n",
       "      <th>mr</th>\n",
       "      <td>[200_Public_Square | location | Cleveland, 200_Public_Square | completionDate | 1985, Cleveland | isPartOf | Cuyahoga_County,_Ohio, Cleveland | isPartOf | Ohio, Cleveland | country | United_States]</td>\n",
       "      <td>[200_Public_Square | location | Cleveland, 200_Public_Square | completionDate | 1985, Cleveland | isPartOf | Cuyahoga_County,_Ohio, Cleveland | isPartOf | Ohio, Cleveland | country | United_States]</td>\n",
       "    </tr>\n",
       "    <tr>\n",
       "      <th>team</th>\n",
       "      <td>baseline</td>\n",
       "      <td>webnlg</td>\n",
       "    </tr>\n",
       "    <tr>\n",
       "      <th>text</th>\n",
       "      <td>200 public square in cleveland, cuyahoga county, ohio, united states was completed in 1985.</td>\n",
       "      <td>the 200 public square was completed in 1985 in cuyahoga county , cleveland , ohio , united states .\\n</td>\n",
       "    </tr>\n",
       "    <tr>\n",
       "      <th>category</th>\n",
       "      <td>Building</td>\n",
       "      <td>Building</td>\n",
       "    </tr>\n",
       "    <tr>\n",
       "      <th>type</th>\n",
       "      <td>seen</td>\n",
       "      <td>seen</td>\n",
       "    </tr>\n",
       "    <tr>\n",
       "      <th>bleu</th>\n",
       "      <td>0.218</td>\n",
       "      <td>1</td>\n",
       "    </tr>\n",
       "    <tr>\n",
       "      <th>meteor</th>\n",
       "      <td>0.493012</td>\n",
       "      <td>1</td>\n",
       "    </tr>\n",
       "    <tr>\n",
       "      <th>ter</th>\n",
       "      <td>52.381</td>\n",
       "      <td>1</td>\n",
       "    </tr>\n",
       "    <tr>\n",
       "      <th>systemtype</th>\n",
       "      <td>neural</td>\n",
       "      <td>human</td>\n",
       "    </tr>\n",
       "    <tr>\n",
       "      <th>triplesize</th>\n",
       "      <td>5</td>\n",
       "      <td>5</td>\n",
       "    </tr>\n",
       "    <tr>\n",
       "      <th>fluency</th>\n",
       "      <td>3</td>\n",
       "      <td>2.33333</td>\n",
       "    </tr>\n",
       "    <tr>\n",
       "      <th>grammar</th>\n",
       "      <td>3</td>\n",
       "      <td>2.66667</td>\n",
       "    </tr>\n",
       "    <tr>\n",
       "      <th>semantics</th>\n",
       "      <td>3</td>\n",
       "      <td>2.66667</td>\n",
       "    </tr>\n",
       "    <tr>\n",
       "      <th>triple_id</th>\n",
       "      <td>21</td>\n",
       "      <td>21</td>\n",
       "    </tr>\n",
       "  </tbody>\n",
       "</table>\n",
       "</div>"
      ],
      "text/plain": [
       "                                                                                                                                                                                                              211  \\\n",
       "id                                                                                                                                                                                                            212   \n",
       "mr          [200_Public_Square | location | Cleveland, 200_Public_Square | completionDate | 1985, Cleveland | isPartOf | Cuyahoga_County,_Ohio, Cleveland | isPartOf | Ohio, Cleveland | country | United_States]   \n",
       "team                                                                                                                                                                                                     baseline   \n",
       "text                                                                                                                  200 public square in cleveland, cuyahoga county, ohio, united states was completed in 1985.   \n",
       "category                                                                                                                                                                                                 Building   \n",
       "type                                                                                                                                                                                                         seen   \n",
       "bleu                                                                                                                                                                                                        0.218   \n",
       "meteor                                                                                                                                                                                                   0.493012   \n",
       "ter                                                                                                                                                                                                        52.381   \n",
       "systemtype                                                                                                                                                                                                 neural   \n",
       "triplesize                                                                                                                                                                                                      5   \n",
       "fluency                                                                                                                                                                                                         3   \n",
       "grammar                                                                                                                                                                                                         3   \n",
       "semantics                                                                                                                                                                                                       3   \n",
       "triple_id                                                                                                                                                                                                      21   \n",
       "\n",
       "                                                                                                                                                                                                              219  \n",
       "id                                                                                                                                                                                                            220  \n",
       "mr          [200_Public_Square | location | Cleveland, 200_Public_Square | completionDate | 1985, Cleveland | isPartOf | Cuyahoga_County,_Ohio, Cleveland | isPartOf | Ohio, Cleveland | country | United_States]  \n",
       "team                                                                                                                                                                                                       webnlg  \n",
       "text                                                                                                        the 200 public square was completed in 1985 in cuyahoga county , cleveland , ohio , united states .\\n  \n",
       "category                                                                                                                                                                                                 Building  \n",
       "type                                                                                                                                                                                                         seen  \n",
       "bleu                                                                                                                                                                                                            1  \n",
       "meteor                                                                                                                                                                                                          1  \n",
       "ter                                                                                                                                                                                                             1  \n",
       "systemtype                                                                                                                                                                                                  human  \n",
       "triplesize                                                                                                                                                                                                      5  \n",
       "fluency                                                                                                                                                                                                   2.33333  \n",
       "grammar                                                                                                                                                                                                   2.66667  \n",
       "semantics                                                                                                                                                                                                 2.66667  \n",
       "triple_id                                                                                                                                                                                                      21  "
      ]
     },
     "execution_count": 60,
     "metadata": {},
     "output_type": "execute_result"
    }
   ],
   "source": [
    "sample_best('baseline', 'fluency', 5)"
   ]
  }
 ],
 "metadata": {
  "kernelspec": {
   "display_name": "Python 3",
   "language": "python",
   "name": "python3"
  },
  "language_info": {
   "codemirror_mode": {
    "name": "ipython",
    "version": 3
   },
   "file_extension": ".py",
   "mimetype": "text/x-python",
   "name": "python",
   "nbconvert_exporter": "python",
   "pygments_lexer": "ipython3",
   "version": "3.6.5"
  }
 },
 "nbformat": 4,
 "nbformat_minor": 2
}
