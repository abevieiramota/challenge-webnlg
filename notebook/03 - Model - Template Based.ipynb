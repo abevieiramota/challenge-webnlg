{
 "cells": [
  {
   "cell_type": "code",
   "execution_count": 1,
   "metadata": {},
   "outputs": [],
   "source": [
    "%load_ext autoreload\n",
    "%autoreload 2\n",
    "import os\n",
    "import pandas as pd\n",
    "\n",
    "os.sys.path.insert(0, '../script')\n",
    "\n",
    "from evaluation import evaluate_model, evaluate_texts, EVALUATION_SETS, preprocess_to_evaluate\n",
    "from collections import ChainMap, defaultdict, Counter\n",
    "from template_based import *\n",
    "import re"
   ]
  },
  {
   "cell_type": "code",
   "execution_count": 2,
   "metadata": {},
   "outputs": [],
   "source": [
    "PARENTHESIS_RE = re.compile(r'(.*?)\\((.*?)\\)')\n",
    "CAMELCASE_RE = re.compile(r'([a-z])([A-Z])')\n",
    "\n",
    "def preprocess_so(so):\n",
    "\n",
    "    parenthesis_preprocessed = PARENTHESIS_RE.sub('\\g<2> \\g<1>', so)\n",
    "    underline_removed = parenthesis_preprocessed.replace('_', ' ')\n",
    "    camelcase_preprocessed = CAMELCASE_RE.sub('\\g<1> \\g<2>', underline_removed)\n",
    "\n",
    "    return camelcase_preprocessed.strip('\" ')"
   ]
  },
  {
   "cell_type": "code",
   "execution_count": 52,
   "metadata": {},
   "outputs": [],
   "source": [
    "class TemplateBasedModel:\n",
    "    \n",
    "    def __init__(self, template_db, lexicalization_f):\n",
    "        \n",
    "        fallback_template_db = defaultdict(lambda: Counter([JustJoinTemplate()]))\n",
    "        \n",
    "        self.template_db = ChainMap(template_db, fallback_template_db)\n",
    "        self.ss = StructureData(self.template_db)\n",
    "        self.st = SelectTemplate()\n",
    "        self.mt = MakeText(lexicalization_f=lexicalization_f)\n",
    "    \n",
    "    def predict(self, X):\n",
    "        \n",
    "        result = []\n",
    "        \n",
    "        for x in X:\n",
    "            try:\n",
    "\n",
    "                structured_data = self.ss.structure(x.data)\n",
    "                selected_templates = self.st.select_template(structured_data)\n",
    "                text = self.mt.make_text(selected_templates)\n",
    "\n",
    "                result.append(text)\n",
    "\n",
    "            except Exception as ex:\n",
    "                raise ex\n",
    "        \n",
    "        return result"
   ]
  },
  {
   "cell_type": "code",
   "execution_count": 3,
   "metadata": {},
   "outputs": [],
   "source": [
    "import pickle\n",
    "\n",
    "template_db = None\n",
    "with open('thiago_template_db', 'rb') as f:\n",
    "    template_db = pickle.load(f)\n",
    "    \n",
    "with open('thiago_enhanced_template_db', 'rb') as f:\n",
    "    template_enhanced_db = pickle.load(f)\n",
    "    \n",
    "lexicalization_db = None\n",
    "with open('thiago_lexicalization_db', 'rb') as f:\n",
    "    lexicalization_db = pickle.load(f)"
   ]
  },
  {
   "cell_type": "code",
   "execution_count": 54,
   "metadata": {},
   "outputs": [],
   "source": [
    "def lexicalize(s):\n",
    "    \n",
    "    if s in lexicalization_db:\n",
    "        lexis = lexicalization_db[s]\n",
    "        \n",
    "        return lexis.most_common()[0][0]\n",
    "    else:\n",
    "        return preprocess_so(s)"
   ]
  },
  {
   "cell_type": "code",
   "execution_count": 55,
   "metadata": {},
   "outputs": [],
   "source": [
    "tbm = TemplateBasedModel(template_db=template_db, lexicalization_f=lexicalize)"
   ]
  },
  {
   "cell_type": "code",
   "execution_count": 56,
   "metadata": {},
   "outputs": [
    {
     "name": "stdout",
     "output_type": "stream",
     "text": [
      "CPU times: user 203 ms, sys: 375 ms, total: 578 ms\n",
      "Wall time: 23.3 s\n"
     ]
    },
    {
     "data": {
      "text/plain": [
       "{'bleu': 42.33, 'meteor': 0.4009372192995391, 'ter': 0.5736199034076689}"
      ]
     },
     "execution_count": 56,
     "metadata": {},
     "output_type": "execute_result"
    }
   ],
   "source": [
    "%%time\n",
    "evaluate_model(tbm, 'template-based-model-thiago')"
   ]
  },
  {
   "cell_type": "code",
   "execution_count": 2,
   "metadata": {},
   "outputs": [
    {
     "name": "stdout",
     "output_type": "stream",
     "text": [
      "CPU times: user 46.9 ms, sys: 1.08 s, total: 1.12 s\n",
      "Wall time: 2min 3s\n"
     ]
    }
   ],
   "source": [
    "%%time\n",
    "results = {}\n",
    "\n",
    "for eval_set in EVALUATION_SETS:\n",
    "    \n",
    "    results[eval_set] = evaluate_texts(f'../model/template-based-model-thiago_{eval_set}.txt', eval_set)\n",
    "    \n",
    "df = pd.DataFrame(results)\n",
    "df"
   ]
  },
  {
   "cell_type": "code",
   "execution_count": 3,
   "metadata": {},
   "outputs": [
    {
     "data": {
      "text/html": [
       "<div>\n",
       "<style scoped>\n",
       "    .dataframe tbody tr th:only-of-type {\n",
       "        vertical-align: middle;\n",
       "    }\n",
       "\n",
       "    .dataframe tbody tr th {\n",
       "        vertical-align: top;\n",
       "    }\n",
       "\n",
       "    .dataframe thead th {\n",
       "        text-align: right;\n",
       "    }\n",
       "</style>\n",
       "<table border=\"1\" class=\"dataframe\">\n",
       "  <thead>\n",
       "    <tr style=\"text-align: right;\">\n",
       "      <th></th>\n",
       "      <th>all-cat</th>\n",
       "      <th>old-cat</th>\n",
       "      <th>new-cat</th>\n",
       "      <th>1size</th>\n",
       "      <th>2size</th>\n",
       "      <th>3size</th>\n",
       "      <th>4size</th>\n",
       "      <th>5size</th>\n",
       "      <th>6size</th>\n",
       "      <th>7size</th>\n",
       "    </tr>\n",
       "  </thead>\n",
       "  <tbody>\n",
       "    <tr>\n",
       "      <th>bleu</th>\n",
       "      <td>42.330000</td>\n",
       "      <td>48.380000</td>\n",
       "      <td>34.400000</td>\n",
       "      <td>63.310000</td>\n",
       "      <td>47.490000</td>\n",
       "      <td>40.660000</td>\n",
       "      <td>39.950000</td>\n",
       "      <td>36.810000</td>\n",
       "      <td>38.440000</td>\n",
       "      <td>37.270000</td>\n",
       "    </tr>\n",
       "    <tr>\n",
       "      <th>meteor</th>\n",
       "      <td>0.400937</td>\n",
       "      <td>0.425750</td>\n",
       "      <td>0.372320</td>\n",
       "      <td>0.484139</td>\n",
       "      <td>0.421946</td>\n",
       "      <td>0.392630</td>\n",
       "      <td>0.388002</td>\n",
       "      <td>0.374754</td>\n",
       "      <td>0.408942</td>\n",
       "      <td>0.392329</td>\n",
       "    </tr>\n",
       "    <tr>\n",
       "      <th>ter</th>\n",
       "      <td>0.573620</td>\n",
       "      <td>0.530984</td>\n",
       "      <td>0.623977</td>\n",
       "      <td>0.245742</td>\n",
       "      <td>0.457006</td>\n",
       "      <td>0.580788</td>\n",
       "      <td>0.626860</td>\n",
       "      <td>0.681290</td>\n",
       "      <td>0.830075</td>\n",
       "      <td>0.869354</td>\n",
       "    </tr>\n",
       "  </tbody>\n",
       "</table>\n",
       "</div>"
      ],
      "text/plain": [
       "          all-cat    old-cat    new-cat      1size      2size      3size  \\\n",
       "bleu    42.330000  48.380000  34.400000  63.310000  47.490000  40.660000   \n",
       "meteor   0.400937   0.425750   0.372320   0.484139   0.421946   0.392630   \n",
       "ter      0.573620   0.530984   0.623977   0.245742   0.457006   0.580788   \n",
       "\n",
       "            4size      5size      6size      7size  \n",
       "bleu    39.950000  36.810000  38.440000  37.270000  \n",
       "meteor   0.388002   0.374754   0.408942   0.392329  \n",
       "ter      0.626860   0.681290   0.830075   0.869354  "
      ]
     },
     "execution_count": 3,
     "metadata": {},
     "output_type": "execute_result"
    }
   ],
   "source": [
    "df"
   ]
  },
  {
   "cell_type": "code",
   "execution_count": 22,
   "metadata": {},
   "outputs": [],
   "source": [
    "tbm = TemplateBasedModel(template_db=template_enhanced_db, lexicalization_f=lexicalize)"
   ]
  },
  {
   "cell_type": "code",
   "execution_count": 23,
   "metadata": {},
   "outputs": [
    {
     "name": "stdout",
     "output_type": "stream",
     "text": [
      "CPU times: user 234 ms, sys: 328 ms, total: 562 ms\n",
      "Wall time: 21 s\n"
     ]
    },
    {
     "data": {
      "text/plain": [
       "{'bleu': 42.39, 'meteor': 0.40095348475510767, 'ter': 0.5716341806007189}"
      ]
     },
     "execution_count": 23,
     "metadata": {},
     "output_type": "execute_result"
    }
   ],
   "source": [
    "%%time\n",
    "evaluate_model(tbm, 'template-based-model-enhanced-thiago')"
   ]
  },
  {
   "cell_type": "code",
   "execution_count": 16,
   "metadata": {},
   "outputs": [
    {
     "name": "stdout",
     "output_type": "stream",
     "text": [
      "CPU times: user 31.2 ms, sys: 1.16 s, total: 1.19 s\n",
      "Wall time: 2min 28s\n"
     ]
    }
   ],
   "source": [
    "%%time\n",
    "results = {}\n",
    "\n",
    "for eval_set in EVALUATION_SETS:\n",
    "    \n",
    "    results[eval_set] = evaluate_texts(f'../model/template-based-model-enhanced-thiago_{eval_set}.txt', eval_set)\n",
    "    \n",
    "df = pd.DataFrame(results)\n",
    "df"
   ]
  },
  {
   "cell_type": "code",
   "execution_count": 28,
   "metadata": {},
   "outputs": [
    {
     "name": "stdout",
     "output_type": "stream",
     "text": [
      "Polydor Records is located in london. Alternative rock music Fusion Genre Nu metal. musician Andrew White record Label Polydor Records. musician Andrew White record Label defunct record label Universal Records. musician Andrew White is Alternative rock.\r\n",
      "Rock music music Fusion Genre music Bhangra. NRBQ band Al Anderson instrument Guitar. NRBQ band Al Anderson is Rock music. Rock music stylistic Origin Country music. Country music stylistic Origin Blues.\r\n",
      "Rock music stylistic Origin Blues. Rock music music Fusion Genre music Bhangra. Country music instrument Banjo. NRBQ band Al Anderson is Rock music. Rock music stylistic Origin Country music.\r\n",
      "band Twilight is Black metal. Aaron Turner associated Band/associated Musical Artist band Twilight. Aaron Turner associated Band/associated Musical Artist Old Man Gloom. Aaron Turner instrument Electric guitar. Black metal music Fusion Genre Death metal.\r\n",
      "Raúl Fernando Sendic Rodríguez is the leader of Uruguay. Alfredo Zitarrosa died in Montevideo. Montevideo is in Uruguay. politician Daniel Martínez is the leader of Montevideo. spanish is spoken in Uruguay.\r\n"
     ]
    }
   ],
   "source": [
    "!tail -5 ../model/template-based-model-thiago.txt"
   ]
  },
  {
   "cell_type": "code",
   "execution_count": 27,
   "metadata": {},
   "outputs": [
    {
     "name": "stdout",
     "output_type": "stream",
     "text": [
      "Polydor Records is located in london. Alternative rock music Fusion Genre Nu metal. musician Andrew White record Label Polydor Records. musician Andrew White record Label defunct record label Universal Records. musician Andrew White is Alternative rock.\r\n",
      "Rock music music Fusion Genre music Bhangra. NRBQ band Al Anderson instrument Guitar. NRBQ band Al Anderson is Rock music. Rock music stylistic Origin Country music. Country music stylistic Origin Blues.\r\n",
      "Rock music stylistic Origin Blues. Rock music music Fusion Genre music Bhangra. Country music instrument Banjo. NRBQ band Al Anderson is Rock music. Rock music stylistic Origin Country music.\r\n",
      "band Twilight is Black metal. Aaron Turner associated Band/associated Musical Artist band Twilight. Aaron Turner associated Band/associated Musical Artist Old Man Gloom. Aaron Turner instrument Electric guitar. Black metal music Fusion Genre Death metal.\r\n",
      "Raúl Fernando Sendic Rodríguez is the leader of Uruguay. Alfredo Zitarrosa died in Montevideo. Montevideo is in Uruguay. politician Daniel Martínez is the leader of Montevideo. spanish is spoken in Uruguay.\r\n"
     ]
    }
   ],
   "source": [
    "!tail -5 ../model/template-based-model-enhanced-thiago.txt"
   ]
  }
 ],
 "metadata": {
  "kernelspec": {
   "display_name": "Python 3",
   "language": "python",
   "name": "python3"
  },
  "language_info": {
   "codemirror_mode": {
    "name": "ipython",
    "version": 3
   },
   "file_extension": ".py",
   "mimetype": "text/x-python",
   "name": "python",
   "nbconvert_exporter": "python",
   "pygments_lexer": "ipython3",
   "version": "3.6.7"
  }
 },
 "nbformat": 4,
 "nbformat_minor": 2
}
