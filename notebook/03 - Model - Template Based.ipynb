{
 "cells": [
  {
   "cell_type": "code",
   "execution_count": 13,
   "metadata": {},
   "outputs": [
    {
     "name": "stdout",
     "output_type": "stream",
     "text": [
      "The autoreload extension is already loaded. To reload it, use:\n",
      "  %reload_ext autoreload\n"
     ]
    }
   ],
   "source": [
    "%load_ext autoreload\n",
    "%autoreload 2\n",
    "import os\n",
    "\n",
    "os.sys.path.insert(0, '../script')\n",
    "\n",
    "from evaluation import evaluate_model, evaluate_texts, EVALUATION_SETS\n",
    "from collections import ChainMap, defaultdict, Counter\n",
    "from template_based import *\n",
    "import re"
   ]
  },
  {
   "cell_type": "code",
   "execution_count": 2,
   "metadata": {},
   "outputs": [],
   "source": [
    "PARENTHESIS_RE = re.compile(r'(.*?)\\((.*?)\\)')\n",
    "CAMELCASE_RE = re.compile(r'([a-z])([A-Z])')\n",
    "\n",
    "def preprocess_so(so):\n",
    "\n",
    "    parenthesis_preprocessed = PARENTHESIS_RE.sub('\\g<2> \\g<1>', so)\n",
    "    underline_removed = parenthesis_preprocessed.replace('_', ' ')\n",
    "    camelcase_preprocessed = CAMELCASE_RE.sub('\\g<1> \\g<2>', underline_removed)\n",
    "\n",
    "    return camelcase_preprocessed.strip('\" ')"
   ]
  },
  {
   "cell_type": "code",
   "execution_count": 52,
   "metadata": {},
   "outputs": [],
   "source": [
    "class TemplateBasedModel:\n",
    "    \n",
    "    def __init__(self, template_db, lexicalization_f):\n",
    "        \n",
    "        fallback_template_db = defaultdict(lambda: Counter([JustJoinTemplate()]))\n",
    "        \n",
    "        self.template_db = ChainMap(template_db, fallback_template_db)\n",
    "        self.ss = StructureData(self.template_db)\n",
    "        self.st = SelectTemplate()\n",
    "        self.mt = MakeText(lexicalization_f=lexicalization_f)\n",
    "    \n",
    "    def predict(self, X):\n",
    "        \n",
    "        result = []\n",
    "        \n",
    "        for x in X:\n",
    "            try:\n",
    "\n",
    "                structured_data = self.ss.structure(x.data)\n",
    "                selected_templates = self.st.select_template(structured_data)\n",
    "                text = self.mt.make_text(selected_templates)\n",
    "\n",
    "                result.append(text)\n",
    "\n",
    "            except Exception as ex:\n",
    "                raise ex\n",
    "        \n",
    "        return result"
   ]
  },
  {
   "cell_type": "code",
   "execution_count": 3,
   "metadata": {},
   "outputs": [],
   "source": [
    "import pickle\n",
    "\n",
    "template_db = None\n",
    "with open('thiago_template_db', 'rb') as f:\n",
    "    template_db = pickle.load(f)\n",
    "    \n",
    "with open('thiago_enhanced_template_db', 'rb') as f:\n",
    "    template_enhanced_db = pickle.load(f)\n",
    "    \n",
    "lexicalization_db = None\n",
    "with open('thiago_lexicalization_db', 'rb') as f:\n",
    "    lexicalization_db = pickle.load(f)"
   ]
  },
  {
   "cell_type": "code",
   "execution_count": 54,
   "metadata": {},
   "outputs": [],
   "source": [
    "def lexicalize(s):\n",
    "    \n",
    "    if s in lexicalization_db:\n",
    "        lexis = lexicalization_db[s]\n",
    "        \n",
    "        return lexis.most_common()[0][0]\n",
    "    else:\n",
    "        return preprocess_so(s)"
   ]
  },
  {
   "cell_type": "code",
   "execution_count": 55,
   "metadata": {},
   "outputs": [],
   "source": [
    "tbm = TemplateBasedModel(template_db=template_db, lexicalization_f=lexicalize)"
   ]
  },
  {
   "cell_type": "code",
   "execution_count": 56,
   "metadata": {},
   "outputs": [
    {
     "name": "stdout",
     "output_type": "stream",
     "text": [
      "CPU times: user 203 ms, sys: 375 ms, total: 578 ms\n",
      "Wall time: 23.3 s\n"
     ]
    },
    {
     "data": {
      "text/plain": [
       "{'bleu': 42.33, 'meteor': 0.4009372192995391, 'ter': 0.5736199034076689}"
      ]
     },
     "execution_count": 56,
     "metadata": {},
     "output_type": "execute_result"
    }
   ],
   "source": [
    "%%time\n",
    "evaluate_model(tbm, 'template-based-model-thiago')"
   ]
  },
  {
   "cell_type": "code",
   "execution_count": 14,
   "metadata": {},
   "outputs": [
    {
     "name": "stdout",
     "output_type": "stream",
     "text": [
      "CPU times: user 78.1 ms, sys: 1.23 s, total: 1.31 s\n",
      "Wall time: 2min 15s\n"
     ]
    }
   ],
   "source": [
    "%%time\n",
    "results = {}\n",
    "\n",
    "for eval_set in EVALUATION_SETS:\n",
    "    \n",
    "    results[eval_set] = evaluate_texts(f'../model/template-based-model-thiago_{eval_set}.txt', eval_set)\n",
    "    \n",
    "df = pd.DataFrame(results)\n",
    "df"
   ]
  },
  {
   "cell_type": "code",
   "execution_count": 22,
   "metadata": {},
   "outputs": [],
   "source": [
    "tbm = TemplateBasedModel(template_db=template_enhanced_db, lexicalization_f=lexicalize)"
   ]
  },
  {
   "cell_type": "code",
   "execution_count": 23,
   "metadata": {},
   "outputs": [
    {
     "name": "stdout",
     "output_type": "stream",
     "text": [
      "CPU times: user 234 ms, sys: 328 ms, total: 562 ms\n",
      "Wall time: 21 s\n"
     ]
    },
    {
     "data": {
      "text/plain": [
       "{'bleu': 42.39, 'meteor': 0.40095348475510767, 'ter': 0.5716341806007189}"
      ]
     },
     "execution_count": 23,
     "metadata": {},
     "output_type": "execute_result"
    }
   ],
   "source": [
    "%%time\n",
    "evaluate_model(tbm, 'template-based-model-enhanced-thiago')"
   ]
  },
  {
   "cell_type": "code",
   "execution_count": 16,
   "metadata": {},
   "outputs": [
    {
     "name": "stdout",
     "output_type": "stream",
     "text": [
      "CPU times: user 31.2 ms, sys: 1.16 s, total: 1.19 s\n",
      "Wall time: 2min 28s\n"
     ]
    }
   ],
   "source": [
    "%%time\n",
    "results = {}\n",
    "\n",
    "for eval_set in EVALUATION_SETS:\n",
    "    \n",
    "    results[eval_set] = evaluate_texts(f'../model/template-based-model-enhanced-thiago_{eval_set}.txt', eval_set)\n",
    "    \n",
    "df = pd.DataFrame(results)\n",
    "df"
   ]
  },
  {
   "cell_type": "code",
   "execution_count": 28,
   "metadata": {},
   "outputs": [
    {
     "name": "stdout",
     "output_type": "stream",
     "text": [
      "Polydor Records is located in london. Alternative rock music Fusion Genre Nu metal. musician Andrew White record Label Polydor Records. musician Andrew White record Label defunct record label Universal Records. musician Andrew White is Alternative rock.\r\n",
      "Rock music music Fusion Genre music Bhangra. NRBQ band Al Anderson instrument Guitar. NRBQ band Al Anderson is Rock music. Rock music stylistic Origin Country music. Country music stylistic Origin Blues.\r\n",
      "Rock music stylistic Origin Blues. Rock music music Fusion Genre music Bhangra. Country music instrument Banjo. NRBQ band Al Anderson is Rock music. Rock music stylistic Origin Country music.\r\n",
      "band Twilight is Black metal. Aaron Turner associated Band/associated Musical Artist band Twilight. Aaron Turner associated Band/associated Musical Artist Old Man Gloom. Aaron Turner instrument Electric guitar. Black metal music Fusion Genre Death metal.\r\n",
      "Raúl Fernando Sendic Rodríguez is the leader of Uruguay. Alfredo Zitarrosa died in Montevideo. Montevideo is in Uruguay. politician Daniel Martínez is the leader of Montevideo. spanish is spoken in Uruguay.\r\n"
     ]
    }
   ],
   "source": [
    "!tail -5 ../model/template-based-model-thiago.txt"
   ]
  },
  {
   "cell_type": "code",
   "execution_count": 27,
   "metadata": {},
   "outputs": [
    {
     "name": "stdout",
     "output_type": "stream",
     "text": [
      "Polydor Records is located in london. Alternative rock music Fusion Genre Nu metal. musician Andrew White record Label Polydor Records. musician Andrew White record Label defunct record label Universal Records. musician Andrew White is Alternative rock.\r\n",
      "Rock music music Fusion Genre music Bhangra. NRBQ band Al Anderson instrument Guitar. NRBQ band Al Anderson is Rock music. Rock music stylistic Origin Country music. Country music stylistic Origin Blues.\r\n",
      "Rock music stylistic Origin Blues. Rock music music Fusion Genre music Bhangra. Country music instrument Banjo. NRBQ band Al Anderson is Rock music. Rock music stylistic Origin Country music.\r\n",
      "band Twilight is Black metal. Aaron Turner associated Band/associated Musical Artist band Twilight. Aaron Turner associated Band/associated Musical Artist Old Man Gloom. Aaron Turner instrument Electric guitar. Black metal music Fusion Genre Death metal.\r\n",
      "Raúl Fernando Sendic Rodríguez is the leader of Uruguay. Alfredo Zitarrosa died in Montevideo. Montevideo is in Uruguay. politician Daniel Martínez is the leader of Montevideo. spanish is spoken in Uruguay.\r\n"
     ]
    }
   ],
   "source": [
    "!tail -5 ../model/template-based-model-enhanced-thiago.txt"
   ]
  }
 ],
 "metadata": {
  "kernelspec": {
   "display_name": "Python 3",
   "language": "python",
   "name": "python3"
  },
  "language_info": {
   "codemirror_mode": {
    "name": "ipython",
    "version": 3
   },
   "file_extension": ".py",
   "mimetype": "text/x-python",
   "name": "python",
   "nbconvert_exporter": "python",
   "pygments_lexer": "ipython3",
   "version": "3.6.7"
  }
 },
 "nbformat": 4,
 "nbformat_minor": 2
}
