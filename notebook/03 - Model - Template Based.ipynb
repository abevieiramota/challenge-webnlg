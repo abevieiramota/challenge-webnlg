{
 "cells": [
  {
   "cell_type": "code",
   "execution_count": 1,
   "metadata": {},
   "outputs": [],
   "source": [
    "%load_ext autoreload\n",
    "%autoreload 2\n",
    "import os\n",
    "\n",
    "os.sys.path.insert(0, '../script')\n",
    "\n",
    "from evaluation import evaluate_model\n",
    "from collections import ChainMap, defaultdict, Counter\n",
    "from template_based import *\n",
    "import re"
   ]
  },
  {
   "cell_type": "code",
   "execution_count": 2,
   "metadata": {},
   "outputs": [],
   "source": [
    "PARENTHESIS_RE = re.compile(r'(.*?)\\((.*?)\\)')\n",
    "CAMELCASE_RE = re.compile(r'([a-z])([A-Z])')\n",
    "\n",
    "def preprocess_so(so):\n",
    "\n",
    "    parenthesis_preprocessed = PARENTHESIS_RE.sub('\\g<2> \\g<1>', so)\n",
    "    underline_removed = parenthesis_preprocessed.replace('_', ' ')\n",
    "    camelcase_preprocessed = CAMELCASE_RE.sub('\\g<1> \\g<2>', underline_removed)\n",
    "\n",
    "    return camelcase_preprocessed.strip('\" ')"
   ]
  },
  {
   "cell_type": "code",
   "execution_count": 3,
   "metadata": {},
   "outputs": [],
   "source": [
    "class TemplateBasedModel:\n",
    "    \n",
    "    def __init__(self, template_db, lexicalization_f):\n",
    "        \n",
    "        fallback_template_db = defaultdict(lambda: Counter([JustJoinTemplate()]))\n",
    "        \n",
    "        self.template_db = ChainMap(template_db, fallback_template_db)\n",
    "        self.ss = StructureData(self.template_db)\n",
    "        self.st = SelectTemplate()\n",
    "        self.mt = MakeText(lexicalization_f=lexicalization_f)\n",
    "    \n",
    "    def predict(self, X):\n",
    "        \n",
    "        result = []\n",
    "        \n",
    "        for x in X:\n",
    "            try:\n",
    "\n",
    "                structured_data = self.ss.structure(x)\n",
    "                selected_templates = self.st.select_template(structured_data)\n",
    "                text = self.mt.make_text(selected_templates)\n",
    "\n",
    "                result.append(text)\n",
    "\n",
    "            except Exception as ex:\n",
    "                print(x)\n",
    "                raise ex\n",
    "        \n",
    "        return result"
   ]
  },
  {
   "cell_type": "code",
   "execution_count": 14,
   "metadata": {},
   "outputs": [
    {
     "data": {
      "text/plain": [
       "{'bleu': 28.25, 'meteor': 0.3514776430040795, 'ter': 0.6457524388601327}"
      ]
     },
     "execution_count": 14,
     "metadata": {},
     "output_type": "execute_result"
    }
   ],
   "source": [
    "tbm = TemplateBasedModel(template_db={}, lexicalization_f=preprocess_so)\n",
    "\n",
    "evaluate_model(tbm, 'template-based-model-just-join')"
   ]
  },
  {
   "cell_type": "code",
   "execution_count": 4,
   "metadata": {},
   "outputs": [],
   "source": [
    "from reading_thiagos_templates import read_thiagos_xml_entries, make_template_from_entry\n",
    "import glob\n",
    "\n",
    "filepaths = glob.glob('../../webnlg/data/delexicalized/v1.4/train/**/*.xml', recursive=True)\n",
    "filepaths.extend(glob.glob('../../webnlg/data/delexicalized/v1.4/dev/**/*.xml', recursive=True))\n",
    "\n",
    "template_db = defaultdict(Counter)\n",
    "lexicalization_db = defaultdict(Counter)\n",
    "\n",
    "for filepath in filepaths:\n",
    "    \n",
    "    es = read_thiagos_xml_entries(filepath)\n",
    "    \n",
    "    for e in es:\n",
    "        \n",
    "        try:\n",
    "            ts = make_template_from_entry(e, meta={'filepath': filepath})\n",
    "            for t in ts:\n",
    "                template_db[t.structure][t] += 1\n",
    "        except Exception as ex:\n",
    "            continue"
   ]
  },
  {
   "cell_type": "code",
   "execution_count": 5,
   "metadata": {},
   "outputs": [],
   "source": [
    "def lexicalize(s):\n",
    "    \n",
    "    if s in thiagos_lexicalizations:\n",
    "        lexis = thiagos_lexicalizations[s]\n",
    "        \n",
    "        return lexis.most_common()[0][0]\n",
    "    else:\n",
    "        return preprocess_so(s)\n",
    "    \n",
    "template_db = dict(template_db)\n",
    "    \n",
    "tbm = TemplateBasedModel(template_db=template_db, lexicalization_f=preprocess_so)"
   ]
  },
  {
   "cell_type": "code",
   "execution_count": 8,
   "metadata": {},
   "outputs": [
    {
     "ename": "KeyError",
     "evalue": "'PATIENT-1'",
     "output_type": "error",
     "traceback": [
      "\u001b[0;31m---------------------------------------------------------------------------\u001b[0m",
      "\u001b[0;31mKeyError\u001b[0m                                  Traceback (most recent call last)",
      "\u001b[0;32m<ipython-input-8-7b143c3abf05>\u001b[0m in \u001b[0;36m<module>\u001b[0;34m\u001b[0m\n\u001b[1;32m      3\u001b[0m \u001b[0mt\u001b[0m \u001b[0;34m=\u001b[0m \u001b[0mtemplate_db\u001b[0m\u001b[0;34m[\u001b[0m\u001b[0ms\u001b[0m\u001b[0;34m]\u001b[0m\u001b[0;34m.\u001b[0m\u001b[0mmost_common\u001b[0m\u001b[0;34m(\u001b[0m\u001b[0;36m1\u001b[0m\u001b[0;34m)\u001b[0m\u001b[0;34m[\u001b[0m\u001b[0;36m0\u001b[0m\u001b[0;34m]\u001b[0m\u001b[0;34m[\u001b[0m\u001b[0;36m0\u001b[0m\u001b[0;34m]\u001b[0m\u001b[0;34m\u001b[0m\u001b[0;34m\u001b[0m\u001b[0m\n\u001b[1;32m      4\u001b[0m \u001b[0;34m\u001b[0m\u001b[0m\n\u001b[0;32m----> 5\u001b[0;31m \u001b[0mt\u001b[0m\u001b[0;34m.\u001b[0m\u001b[0mfill\u001b[0m\u001b[0;34m(\u001b[0m\u001b[0ms\u001b[0m\u001b[0;34m,\u001b[0m \u001b[0mpreprocess_so\u001b[0m\u001b[0;34m)\u001b[0m\u001b[0;34m\u001b[0m\u001b[0;34m\u001b[0m\u001b[0m\n\u001b[0m",
      "\u001b[0;32m/mnt/c/Users/1513 MX5_7/Documents/GitHub/challenge-webnlg/script/template_based.py\u001b[0m in \u001b[0;36mfill\u001b[0;34m(self, data, lexicalization_f)\u001b[0m\n\u001b[1;32m    170\u001b[0m         \u001b[0mpositioned_data\u001b[0m \u001b[0;34m=\u001b[0m \u001b[0;34m{\u001b[0m\u001b[0mk\u001b[0m\u001b[0;34m:\u001b[0m \u001b[0mlexicalization_f\u001b[0m\u001b[0;34m(\u001b[0m\u001b[0mv\u001b[0m\u001b[0;34m)\u001b[0m \u001b[0;32mfor\u001b[0m \u001b[0mk\u001b[0m\u001b[0;34m,\u001b[0m\u001b[0mv\u001b[0m \u001b[0;32min\u001b[0m \u001b[0mpositioned_data\u001b[0m\u001b[0;34m.\u001b[0m\u001b[0mitems\u001b[0m\u001b[0;34m(\u001b[0m\u001b[0;34m)\u001b[0m\u001b[0;34m}\u001b[0m\u001b[0;34m\u001b[0m\u001b[0;34m\u001b[0m\u001b[0m\n\u001b[1;32m    171\u001b[0m \u001b[0;34m\u001b[0m\u001b[0m\n\u001b[0;32m--> 172\u001b[0;31m         \u001b[0;32mreturn\u001b[0m \u001b[0mself\u001b[0m\u001b[0;34m.\u001b[0m\u001b[0mtemplate_text\u001b[0m\u001b[0;34m.\u001b[0m\u001b[0mformat\u001b[0m\u001b[0;34m(\u001b[0m\u001b[0;34m**\u001b[0m\u001b[0mpositioned_data\u001b[0m\u001b[0;34m)\u001b[0m\u001b[0;34m\u001b[0m\u001b[0;34m\u001b[0m\u001b[0m\n\u001b[0m\u001b[1;32m    173\u001b[0m \u001b[0;34m\u001b[0m\u001b[0m\n\u001b[1;32m    174\u001b[0m     \u001b[0;32mdef\u001b[0m \u001b[0mposition_data\u001b[0m\u001b[0;34m(\u001b[0m\u001b[0mself\u001b[0m\u001b[0;34m,\u001b[0m \u001b[0mdata\u001b[0m\u001b[0;34m)\u001b[0m\u001b[0;34m:\u001b[0m\u001b[0;34m\u001b[0m\u001b[0;34m\u001b[0m\u001b[0m\n",
      "\u001b[0;31mKeyError\u001b[0m: 'PATIENT-1'"
     ]
    }
   ],
   "source": [
    "s = Structure.from_triples([{'text': 'Ayam_penyet | region | Malaysia', 'subject': 'Ayam_penyet', 'predicate': 'region', 'object': 'Malaysia'}, {'text': 'Malaysia | ethnicGroup | Malaysian_Chinese', 'subject': 'Malaysia', 'predicate': 'ethnicGroup', 'object': 'Malaysian_Chinese'}, {'text': 'Ayam_penyet | country | Indonesia', 'subject': 'Ayam_penyet', 'predicate': 'country', 'object': 'Indonesia'}])\n",
    "\n",
    "t = template_db[s].most_common(1)[0][0]\n",
    "\n",
    "t.fill(s, preprocess_so)"
   ]
  },
  {
   "cell_type": "code",
   "execution_count": 14,
   "metadata": {},
   "outputs": [
    {
     "data": {
      "text/plain": [
       "{'AGENT-1': 'Ayam_penyet', 'PATIENT-2': 'Malaysia', 'BRIDGE-1': 'Indonesia'}"
      ]
     },
     "execution_count": 14,
     "metadata": {},
     "output_type": "execute_result"
    }
   ],
   "source": [
    "t.position_data(s)"
   ]
  },
  {
   "cell_type": "code",
   "execution_count": 12,
   "metadata": {},
   "outputs": [
    {
     "data": {
      "text/plain": [
       "<Ayam_penyet, region, Malaysia>\n",
       "<Malaysia, ethnicGroup, Malaysian_Chinese>\n",
       "<Ayam_penyet, country, Indonesia>"
      ]
     },
     "execution_count": 12,
     "metadata": {},
     "output_type": "execute_result"
    }
   ],
   "source": [
    "s"
   ]
  },
  {
   "cell_type": "code",
   "execution_count": 13,
   "metadata": {},
   "outputs": [
    {
     "data": {
      "text/plain": [
       "<AGENT-1, region, PATIENT-2>\n",
       "<AGENT-1, country, BRIDGE-1>\n",
       "<BRIDGE-1, ethnicGroup, PATIENT-1>"
      ]
     },
     "execution_count": 13,
     "metadata": {},
     "output_type": "execute_result"
    }
   ],
   "source": [
    "t.structure"
   ]
  },
  {
   "cell_type": "code",
   "execution_count": 11,
   "metadata": {},
   "outputs": [
    {
     "data": {
      "text/plain": [
       "'{AGENT-1} is a dish from the region of {PATIENT-2} and is also found in {BRIDGE-1} where {PATIENT-1} are an ethnic group .'"
      ]
     },
     "execution_count": 11,
     "metadata": {},
     "output_type": "execute_result"
    }
   ],
   "source": [
    "t.template_text"
   ]
  },
  {
   "cell_type": "code",
   "execution_count": null,
   "metadata": {},
   "outputs": [],
   "source": [
    "evaluate_model(tbm, 'template-based-model-thiago')"
   ]
  },
  {
   "cell_type": "code",
   "execution_count": 7,
   "metadata": {},
   "outputs": [
    {
     "name": "stdout",
     "output_type": "stream",
     "text": [
      "Abilene Regional Airport serves the city of Abilene, Texas.\r\n",
      "Adolfo Suárez Madrid–Barajas Airport is located in Madrid, Paracuellos de Jarama, San Sebastián de los Reyes and Alcobendas.\r\n",
      "18L/36R is the runway name of Adolfo Suárez Madrid–Barajas Airport.\r\n",
      "The ICAO Location Identifier of Afonso Pena International Airport is SBCT.\r\n",
      "Afonso Pena International Airport serves the city of Curitiba.\r\n",
      "Al-Taqaddum Air Base serves the city of Fallujah.\r\n",
      "The runway length of Al-Taqaddum Air Base is 3684.0.\r\n",
      "14/32 is the runway name of Alderney Airport.\r\n",
      "The runway length of Allama Iqbal International Airport is 3360.12.\r\n",
      "Amsterdam Airport Schiphol 1st runway is Number 18.\r\n"
     ]
    }
   ],
   "source": [
    "!head -10 ../model/template-based-model-thiago.txt"
   ]
  },
  {
   "cell_type": "code",
   "execution_count": 8,
   "metadata": {},
   "outputs": [
    {
     "name": "stdout",
     "output_type": "stream",
     "text": [
      "Abilene Regional Airport city Served Abilene, Texas.\r\n",
      "Adolfo Suárez Madrid–Barajas Airport location Madrid, Paracuellos de Jarama, San Sebastián de los Reyes and Alcobendas.\r\n",
      "Adolfo Suárez Madrid–Barajas Airport runway Name 18L/36R.\r\n",
      "Afonso Pena International Airport ICAO Location Identifier SBCT.\r\n",
      "Afonso Pena International Airport city Served Curitiba.\r\n",
      "Al-Taqaddum Air Base city Served Fallujah.\r\n",
      "Al-Taqaddum Air Base runway Length 3684.0.\r\n",
      "Alderney Airport runway Name 14/32.\r\n",
      "Allama Iqbal International Airport runway Length 3360.12.\r\n",
      "Amsterdam Airport Schiphol 1st runway Number 18.\r\n"
     ]
    }
   ],
   "source": [
    "!head -10 ../model/template-based-model-just-join.txt"
   ]
  },
  {
   "cell_type": "code",
   "execution_count": 28,
   "metadata": {},
   "outputs": [],
   "source": [
    "def get_structure_for_predicate(predicate):\n",
    "    \n",
    "    s0 = Slot('', [])\n",
    "    p0 = Predicate(predicate, [s0])\n",
    "    s1 = Slot('', [p0])\n",
    "    \n",
    "    return Structure(s1)"
   ]
  },
  {
   "cell_type": "markdown",
   "metadata": {},
   "source": [
    "template_db[get_structure_for_predicate('birthDate')]"
   ]
  }
 ],
 "metadata": {
  "kernelspec": {
   "display_name": "Python 3",
   "language": "python",
   "name": "python3"
  },
  "language_info": {
   "codemirror_mode": {
    "name": "ipython",
    "version": 3
   },
   "file_extension": ".py",
   "mimetype": "text/x-python",
   "name": "python",
   "nbconvert_exporter": "python",
   "pygments_lexer": "ipython3",
   "version": "3.6.7"
  }
 },
 "nbformat": 4,
 "nbformat_minor": 2
}
