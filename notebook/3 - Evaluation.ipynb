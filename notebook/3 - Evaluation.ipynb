{
 "cells": [
  {
   "cell_type": "code",
   "execution_count": 3,
   "metadata": {},
   "outputs": [],
   "source": [
    "from spacy.lang.en import English\n",
    "\n",
    "nlp = English()\n",
    "\n",
    "def preprocess_reference(ref):\n",
    "    \n",
    "    doc = nlp(ref)\n",
    "    ref = ' '.join((token.text for token in doc))\n",
    "    \n",
    "    return bytes.decode(str.encode(ref, 'utf-8'), 'ascii', 'ignore')\\\n",
    "                .lower()"
   ]
  },
  {
   "cell_type": "code",
   "execution_count": 4,
   "metadata": {},
   "outputs": [],
   "source": [
    "SUBMISSION_FILEPATHS = [\n",
    "    \"../data/webnlg2017/submissions/melbourne/final_result.txt\",\n",
    "    \"../data/webnlg2017/submissions/tilburg/smt_test.out.ordered\",\n",
    "    \"../data/webnlg2017/submissions/pkuwriter/PKUWriter_results.txt\",\n",
    "    \"../data/webnlg2017/submissions/upf/UPF_All_sent_final.txt\",\n",
    "    \"../data/webnlg2017/submissions/tilburg/template_test.out.ordered\",\n",
    "    \"../data/webnlg2017/submissions/tilburg/nmt_test.out.ordered\",\n",
    "    \"../data/webnlg2017/submissions/baseline_sorted.txt\",\n",
    "    \"../data/webnlg2017/submissions/adaptCenter/ADAPTcentreWebNLGsubmission.txt\",\n",
    "    \"../data/webnlg2017/submissions/uit-danglt-clnlp/Submission-UIT-DANGNT-CLNLP.txt\"\n",
    "]"
   ]
  },
  {
   "cell_type": "markdown",
   "metadata": {},
   "source": [
    "# BLEU"
   ]
  },
  {
   "cell_type": "markdown",
   "metadata": {},
   "source": [
    "## Preprocessing submited files"
   ]
  },
  {
   "cell_type": "code",
   "execution_count": 11,
   "metadata": {},
   "outputs": [],
   "source": [
    "for filepath in SUBMISSION_FILEPATHS:\n",
    "    \n",
    "    with open(filepath) as f, open(filepath + '_ascii', 'w') as f_out:\n",
    "\n",
    "        for ref in f:\n",
    "\n",
    "            f_out.write(preprocess_reference(ref))"
   ]
  },
  {
   "cell_type": "markdown",
   "metadata": {},
   "source": [
    "## Let's have a look at reference texts"
   ]
  },
  {
   "cell_type": "code",
   "execution_count": 8,
   "metadata": {},
   "outputs": [],
   "source": [
    "import xml.etree.ElementTree as ET\n",
    "\n",
    "tree = ET.parse(\"../data/webnlg2017/testdata_with_lex.xml\")\n",
    "root = tree.getroot()\n",
    "\n",
    "references = []\n",
    "\n",
    "for entry in root.iter('entry'):\n",
    "    \n",
    "    references_of_entry = []\n",
    "    for ref in entry.findall('lex'):\n",
    "        \n",
    "        ref_final = preprocess_reference(ref.text)\n",
    "        \n",
    "        references_of_entry.append(ref_final)\n",
    "    \n",
    "    references.append(references_of_entry)"
   ]
  },
  {
   "cell_type": "code",
   "execution_count": 9,
   "metadata": {},
   "outputs": [
    {
     "data": {
      "text/plain": [
       "['abilene , texas is served by the abilene regional airport .',\n",
       " 'abilene regional airport serves the city of abilene in texas .']"
      ]
     },
     "execution_count": 9,
     "metadata": {},
     "output_type": "execute_result"
    }
   ],
   "source": [
    "references[0]"
   ]
  },
  {
   "cell_type": "markdown",
   "metadata": {},
   "source": [
    "## Let's calculate BLEU with NLTK"
   ]
  },
  {
   "cell_type": "code",
   "execution_count": 12,
   "metadata": {},
   "outputs": [
    {
     "data": {
      "text/plain": [
       "0.41672566017154156"
      ]
     },
     "execution_count": 12,
     "metadata": {},
     "output_type": "execute_result"
    }
   ],
   "source": [
    "from nltk.translate.bleu_score import corpus_bleu\n",
    "\n",
    "with open('../data/webnlg2017/submissions/melbourne/final_result.txt_ascii') as f:\n",
    "    \n",
    "    candidates = f.readlines()\n",
    "\n",
    "split_candidates = [candidate.split() for candidate in candidates]\n",
    "split_references = [[reference_text.split() for reference_text in reference] for reference in references]\n",
    "\n",
    "corpus_bleu(split_references, split_candidates)"
   ]
  },
  {
   "cell_type": "code",
   "execution_count": 13,
   "metadata": {},
   "outputs": [],
   "source": [
    "from nltk.translate.bleu_score import sentence_bleu"
   ]
  },
  {
   "cell_type": "code",
   "execution_count": 14,
   "metadata": {},
   "outputs": [
    {
     "data": {
      "text/plain": [
       "0.8349950232057651"
      ]
     },
     "execution_count": 14,
     "metadata": {},
     "output_type": "execute_result"
    }
   ],
   "source": [
    "sentence_bleu(split_references[0], split_candidates[0])"
   ]
  },
  {
   "cell_type": "markdown",
   "metadata": {},
   "source": [
    "# Let's calculate BLEU with multi-bleu.perl\n",
    "\n",
    "https://github.com/moses-smt/mosesdecoder/blob/master/scripts/generic/multi-bleu.perl"
   ]
  },
  {
   "cell_type": "markdown",
   "metadata": {},
   "source": [
    "## First we need to generate reference files"
   ]
  },
  {
   "cell_type": "code",
   "execution_count": 15,
   "metadata": {},
   "outputs": [],
   "source": [
    "import xml.etree.ElementTree as ET\n",
    "from spacy.lang.en import English\n",
    "\n",
    "nlp = English()\n",
    "\n",
    "tree = ET.parse('test_reference_files_bleu/testdata_with_lex.xml')\n",
    "root = tree.getroot()\n",
    "\n",
    "references = []\n",
    "for entry in root.iter('entry'):\n",
    "    \n",
    "    references_of_entry = []\n",
    "    for ref in entry.findall('lex'):\n",
    "        \n",
    "        ref_lower = preprocess_reference(ref.text)\n",
    "        doc = nlp(ref_lower)\n",
    "        ref_final = ' '.join((token.text for token in doc))\n",
    "        \n",
    "        references_of_entry.append(ref_final)\n",
    "    \n",
    "    references.append(references_of_entry)"
   ]
  },
  {
   "cell_type": "code",
   "execution_count": 16,
   "metadata": {},
   "outputs": [],
   "source": [
    "ref_per_id = [[] for _ in range(8)]\n",
    "\n",
    "for i in range(8):\n",
    "    \n",
    "    for reference_list in references:\n",
    "        \n",
    "        if len(reference_list) > i:\n",
    "            \n",
    "            ref_per_id[i].append(reference_list[i])\n",
    "        else:\n",
    "            ref_per_id[i].append('')"
   ]
  },
  {
   "cell_type": "code",
   "execution_count": 17,
   "metadata": {},
   "outputs": [],
   "source": [
    "for i, refs in enumerate(ref_per_id):\n",
    "    \n",
    "    with open('test_reference_files_bleu/ref_{}.txt'.format(i), 'w') as f:\n",
    "        \n",
    "        f.writelines(('{}\\n'.format(ref) for ref in refs))"
   ]
  },
  {
   "cell_type": "code",
   "execution_count": 18,
   "metadata": {},
   "outputs": [
    {
     "name": "stdout",
     "output_type": "stream",
     "text": [
      "abilene regional airport serves the city of abilene , texas . \r\n",
      "adolfo surez madrid  barajas airport is located in madrid , paracuellos de jarama , san sebastin de los reyes and alcobendas . \r\n",
      "18l/36r is the runway name of adolfo surez madrid  barajas airport , new zealand . \r\n",
      "the icao location identifier of afonso pena international airport is sbct . \r\n",
      "afonso pena international airport serves the city of curitiba . \r\n",
      "al - taqaddum air base serves the city of fallujah . \r\n",
      "the runway length of al - taqaddum air base is 3684.0 . \r\n",
      "the runway name of alderney airport is 14/32 . \r\n",
      "the runway length of allama iqbal international airport is 3360.12 . \r\n",
      "the number of the first runway at amsterdam airport schiphol is 18 . \r\n",
      "the 1st runway at amsterdam airport schiphol is made from asphalt . \r\n",
      "the runway name of amsterdam airport schiphol is 06/24 ' kaagbaan ' . \r\n",
      "andrews county airport is 973.0 metres above sea level . \r\n",
      "andrews county , texas is the owner of andrews county airport . \r\n",
      "the runway length of andrews county airport is 896.0 . \r\n",
      "the 1st runway at angola international airport is made from asphalt . \r\n",
      "antwerp international airport is 12.0 metres above sea level . \r\n",
      "antwerp international airport is operated by flemish government . \r\n",
      "the runway length of appleton international airport is 2439.0 . \r\n",
      "the runway length of ardmore airport is 518.0 . \r\n"
     ]
    }
   ],
   "source": [
    "!head -n 20 ../data/webnlg2017/submissions/melbourne/final_result.txt_ascii"
   ]
  },
  {
   "cell_type": "code",
   "execution_count": 19,
   "metadata": {},
   "outputs": [
    {
     "name": "stdout",
     "output_type": "stream",
     "text": [
      "abilene , texas is served by the abilene regional airport .\r\n",
      "adolfo surez madrid   barajas airport can be found in madrid , paracuellos de jarama , san sebastin de los reyes and alcobendas .\r\n",
      "the runway name of adolfo surez madrid   barajas airport is 18l/36r .\r\n",
      "afonso pena international airport icao location idenitifier is sbct .\r\n",
      "afonso pena international airport serves the city of curitiba .\r\n",
      "the al taqaddum air base serves the city of fallujah .\r\n",
      "the runway length of al - taqaddum air base is 3684.0 .\r\n",
      "alderney airport runway name is 14/32 .\r\n",
      "the runway length at allama iqbal international airport is 3,360.12 .\r\n",
      "the first runway at amsterdam 's schiphol airport is known as number 18 .\r\n",
      "the 5th runway at amsterdam airport schiphol has an asphalt surfacing .\r\n",
      "amsterdam airport schiphol runway name is 06/24 kaagbaan .\r\n",
      "andrews county airport is 973 metres above sea level .\r\n",
      "the andrews county airport is owned by andrews county , texas .\r\n",
      "the runway length of andrews county airport is 896 .\r\n",
      "angola international airport is the first runway made of asphalt .\r\n",
      "antwerp international airport is 12 metres above sea level .\r\n",
      "the antwerp international airport is operated by the flemish government .\r\n",
      "the runway length of appleton international airport is 2,439 .\r\n",
      "ardmore airport ( new zealand ) runway length is 518.0 .\r\n"
     ]
    }
   ],
   "source": [
    "!head -n 20 test_reference_files_bleu/ref_0.txt"
   ]
  },
  {
   "cell_type": "markdown",
   "metadata": {},
   "source": [
    "## And then let's try multi-bleu.perl"
   ]
  },
  {
   "cell_type": "markdown",
   "metadata": {},
   "source": [
    "## Melbourne"
   ]
  },
  {
   "cell_type": "code",
   "execution_count": 20,
   "metadata": {},
   "outputs": [
    {
     "name": "stdout",
     "output_type": "stream",
     "text": [
      "BLEU = 42.75, 79.0/53.3/36.3/25.1 (BP=0.966, ratio=0.967, hyp_len=39095, ref_len=40449)\r\n"
     ]
    }
   ],
   "source": [
    "!../evaluation/webnlg2017/webnlg-baseline-master/multi-bleu.perl test_reference_files_bleu/ref_0.txt test_reference_files_bleu/ref_1.txt test_reference_files_bleu/ref_2.txt < ../data/webnlg2017/submissions/melbourne/final_result.txt_ascii"
   ]
  },
  {
   "cell_type": "markdown",
   "metadata": {},
   "source": [
    "## Tilb-SMT"
   ]
  },
  {
   "cell_type": "code",
   "execution_count": 21,
   "metadata": {},
   "outputs": [
    {
     "name": "stdout",
     "output_type": "stream",
     "text": [
      "BLEU = 42.62, 73.6/51.5/35.8/25.5 (BP=0.989, ratio=0.989, hyp_len=40525, ref_len=40990)\r\n"
     ]
    }
   ],
   "source": [
    "!../evaluation/webnlg2017/webnlg-baseline-master/multi-bleu.perl test_reference_files_bleu/ref_0.txt test_reference_files_bleu/ref_1.txt test_reference_files_bleu/ref_2.txt < ../data/webnlg2017/submissions/tilburg/smt_test.out.ordered_ascii"
   ]
  },
  {
   "cell_type": "markdown",
   "metadata": {},
   "source": [
    "## PKUWriter"
   ]
  },
  {
   "cell_type": "code",
   "execution_count": 22,
   "metadata": {},
   "outputs": [
    {
     "name": "stdout",
     "output_type": "stream",
     "text": [
      "BLEU = 36.43, 69.9/45.1/30.9/21.9 (BP=0.953, ratio=0.954, hyp_len=38220, ref_len=40059)\r\n"
     ]
    }
   ],
   "source": [
    "!../evaluation/webnlg2017/webnlg-baseline-master/multi-bleu.perl test_reference_files_bleu/ref_0.txt test_reference_files_bleu/ref_1.txt test_reference_files_bleu/ref_2.txt < ../data/webnlg2017/submissions/pkuwriter/PKUWriter_results.txt_ascii"
   ]
  },
  {
   "cell_type": "markdown",
   "metadata": {},
   "source": [
    "## UPF-FORGe"
   ]
  },
  {
   "cell_type": "code",
   "execution_count": 23,
   "metadata": {},
   "outputs": [
    {
     "name": "stdout",
     "output_type": "stream",
     "text": [
      "BLEU = 36.97, 75.1/47.6/29.4/17.8 (BP=1.000, ratio=1.063, hyp_len=45511, ref_len=42822)\r\n"
     ]
    }
   ],
   "source": [
    "    !../evaluation/webnlg2017/webnlg-baseline-master/multi-bleu.perl test_reference_files_bleu/ref_0.txt test_reference_files_bleu/ref_1.txt test_reference_files_bleu/ref_2.txt < ../data/webnlg2017/submissions/upf/UPF_All_sent_final.txt_ascii"
   ]
  },
  {
   "cell_type": "markdown",
   "metadata": {},
   "source": [
    "## Tilb-Pipeline"
   ]
  },
  {
   "cell_type": "code",
   "execution_count": 26,
   "metadata": {},
   "outputs": [
    {
     "name": "stdout",
     "output_type": "stream",
     "text": [
      "BLEU = 34.26, 81.3/55.3/37.1/24.8 (BP=0.760, ratio=0.784, hyp_len=29516, ref_len=37632)\r\n"
     ]
    }
   ],
   "source": [
    "!../evaluation/webnlg2017/webnlg-baseline-master/multi-bleu.perl test_reference_files_bleu/ref_0.txt test_reference_files_bleu/ref_1.txt test_reference_files_bleu/ref_2.txt < ../data/webnlg2017/submissions/tilburg/template_test.out.ordered_ascii"
   ]
  },
  {
   "cell_type": "markdown",
   "metadata": {},
   "source": [
    "## Tilb-NMT"
   ]
  },
  {
   "cell_type": "code",
   "execution_count": 27,
   "metadata": {},
   "outputs": [
    {
     "name": "stdout",
     "output_type": "stream",
     "text": [
      "BLEU = 33.67, 69.4/42.1/26.4/16.7 (BP=1.000, ratio=1.036, hyp_len=43295, ref_len=41787)\r\n"
     ]
    }
   ],
   "source": [
    "!../evaluation/webnlg2017/webnlg-baseline-master/multi-bleu.perl test_reference_files_bleu/ref_0.txt test_reference_files_bleu/ref_1.txt test_reference_files_bleu/ref_2.txt < ../data/webnlg2017/submissions/tilburg/nmt_test.out.ordered_ascii"
   ]
  },
  {
   "cell_type": "markdown",
   "metadata": {},
   "source": [
    "## Baseline"
   ]
  },
  {
   "cell_type": "code",
   "execution_count": 28,
   "metadata": {},
   "outputs": [
    {
     "name": "stdout",
     "output_type": "stream",
     "text": [
      "BLEU = 31.78, 63.5/39.7/29.1/22.0 (BP=0.891, ratio=0.897, hyp_len=35312, ref_len=39377)\r\n"
     ]
    }
   ],
   "source": [
    "!../evaluation/webnlg2017/webnlg-baseline-master/multi-bleu.perl test_reference_files_bleu/ref_0.txt test_reference_files_bleu/ref_1.txt test_reference_files_bleu/ref_2.txt < ../data/webnlg2017/submissions/baseline_sorted.txt_ascii"
   ]
  },
  {
   "cell_type": "markdown",
   "metadata": {},
   "source": [
    "## Adapt"
   ]
  },
  {
   "cell_type": "code",
   "execution_count": 29,
   "metadata": {},
   "outputs": [
    {
     "name": "stdout",
     "output_type": "stream",
     "text": [
      "BLEU = 30.19, 54.4/34.9/24.4/17.9 (BP=1.000, ratio=1.341, hyp_len=57893, ref_len=43182)\r\n"
     ]
    }
   ],
   "source": [
    "!../evaluation/webnlg2017/webnlg-baseline-master/multi-bleu.perl test_reference_files_bleu/ref_0.txt test_reference_files_bleu/ref_1.txt test_reference_files_bleu/ref_2.txt < ../data/webnlg2017/submissions/adaptCenter/ADAPTcentreWebNLGsubmission.txt_ascii"
   ]
  },
  {
   "cell_type": "markdown",
   "metadata": {},
   "source": [
    "## UIT-VNU"
   ]
  },
  {
   "cell_type": "code",
   "execution_count": 30,
   "metadata": {},
   "outputs": [
    {
     "name": "stdout",
     "output_type": "stream",
     "text": [
      "BLEU = 6.61, 64.5/49.2/33.5/23.7 (BP=0.166, ratio=0.358, hyp_len=11072, ref_len=30966)\r\n"
     ]
    }
   ],
   "source": [
    "!../evaluation/webnlg2017/webnlg-baseline-master/multi-bleu.perl test_reference_files_bleu/ref_0.txt test_reference_files_bleu/ref_1.txt test_reference_files_bleu/ref_2.txt < ../data/webnlg2017/submissions/uit-danglt-clnlp/Submission-UIT-DANGNT-CLNLP.txt_ascii"
   ]
  },
  {
   "cell_type": "code",
   "execution_count": null,
   "metadata": {},
   "outputs": [],
   "source": []
  }
 ],
 "metadata": {
  "kernelspec": {
   "display_name": "Python 3",
   "language": "python",
   "name": "python3"
  },
  "language_info": {
   "codemirror_mode": {
    "name": "ipython",
    "version": 3
   },
   "file_extension": ".py",
   "mimetype": "text/x-python",
   "name": "python",
   "nbconvert_exporter": "python",
   "pygments_lexer": "ipython3",
   "version": "3.6.5"
  }
 },
 "nbformat": 4,
 "nbformat_minor": 2
}
