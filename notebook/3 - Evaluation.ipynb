{
 "cells": [
  {
   "cell_type": "markdown",
   "metadata": {},
   "source": [
    "# BLEU"
   ]
  },
  {
   "cell_type": "markdown",
   "metadata": {},
   "source": [
    "## Let's have a look at one of submissions"
   ]
  },
  {
   "cell_type": "code",
   "execution_count": 1,
   "metadata": {},
   "outputs": [
    {
     "name": "stdout",
     "output_type": "stream",
     "text": [
      "UPF_All_sent_final.txt\tWebNLG_V0.2.pdf\r\n"
     ]
    }
   ],
   "source": [
    "!ls ../data/webnlg2017/submissions/upf/"
   ]
  },
  {
   "cell_type": "code",
   "execution_count": 2,
   "metadata": {},
   "outputs": [
    {
     "name": "stdout",
     "output_type": "stream",
     "text": [
      "the abilene regional airport serves abilene ( texas ) .\r\n",
      "adolfo suárez madrid–barajas airport is in madrid ( paracuellos de jarama , san sebastián de los reyes and alcobendas ) .\r\n",
      "the name of the runway of adolfo suárez madrid–barajas airport is 18l/36r .\r\n",
      "the icao location identifier of the afonso pena international airport is sbct .\r\n",
      "the afonso pena international airport serves curitiba .\r\n",
      "the al-taqaddum air base serves fallujah .\r\n",
      "the length of the runway of al-taqaddum air base is 3684 meters .\r\n",
      "the name of the runway of alderney airport is 14/32 .\r\n",
      "the length of the runway at allama iqbal international airport is 3360.12 meters .\r\n",
      "the number of the first runway at amsterdam airport schiphol is 18 .\r\n"
     ]
    }
   ],
   "source": [
    "!head ../data/webnlg2017/submissions/upf/UPF_All_sent_final.txt"
   ]
  },
  {
   "cell_type": "code",
   "execution_count": 3,
   "metadata": {},
   "outputs": [],
   "source": [
    "with open('../data/webnlg2017/submissions/upf/UPF_All_sent_final.txt') as f:\n",
    "    \n",
    "    candidates = f.readlines()"
   ]
  },
  {
   "cell_type": "markdown",
   "metadata": {},
   "source": [
    "## Let's have a look at reference texts"
   ]
  },
  {
   "cell_type": "code",
   "execution_count": 66,
   "metadata": {},
   "outputs": [],
   "source": [
    "import xml.etree.ElementTree as ET\n",
    "from spacy.lang.en import English\n",
    "\n",
    "nlp = English()\n",
    "\n",
    "tree = ET.parse(\"../data/webnlg2017/testdata_with_lex.xml\")\n",
    "root = tree.getroot()\n",
    "\n",
    "references = []\n",
    "\n",
    "for entry in root.iter('entry'):\n",
    "    \n",
    "    references_of_entry = []\n",
    "    for ref in entry.findall('lex'):\n",
    "        \n",
    "        ref_lower = ref.text.lower()\n",
    "        doc = nlp(ref_lower)\n",
    "        ref_final = ' '.join((token.text for token in doc))\n",
    "        \n",
    "        references_of_entry.append(ref_final)\n",
    "    \n",
    "    references.append(references_of_entry)"
   ]
  },
  {
   "cell_type": "code",
   "execution_count": 67,
   "metadata": {},
   "outputs": [
    {
     "data": {
      "text/plain": [
       "['abilene , texas is served by the abilene regional airport .',\n",
       " 'abilene regional airport serves the city of abilene in texas .']"
      ]
     },
     "execution_count": 67,
     "metadata": {},
     "output_type": "execute_result"
    }
   ],
   "source": [
    "references[0]"
   ]
  },
  {
   "cell_type": "markdown",
   "metadata": {},
   "source": [
    "## Let's calculate BLEU with NLTK"
   ]
  },
  {
   "cell_type": "code",
   "execution_count": 68,
   "metadata": {},
   "outputs": [
    {
     "data": {
      "text/plain": [
       "0.3507279289865484"
      ]
     },
     "execution_count": 68,
     "metadata": {},
     "output_type": "execute_result"
    }
   ],
   "source": [
    "from nltk.translate.bleu_score import corpus_bleu\n",
    "\n",
    "split_candidates = [candidate.split() for candidate in candidates]\n",
    "split_references = [[reference_text.split() for reference_text in reference] for reference in references]\n",
    "\n",
    "corpus_bleu(split_references, split_candidates)"
   ]
  },
  {
   "cell_type": "code",
   "execution_count": 69,
   "metadata": {},
   "outputs": [],
   "source": [
    "from nltk.translate.bleu_score import sentence_bleu"
   ]
  },
  {
   "cell_type": "code",
   "execution_count": 70,
   "metadata": {},
   "outputs": [
    {
     "data": {
      "text/plain": [
       "0.39974977214602886"
      ]
     },
     "execution_count": 70,
     "metadata": {},
     "output_type": "execute_result"
    }
   ],
   "source": [
    "sentence_bleu(split_references[0], split_candidates[0])"
   ]
  },
  {
   "cell_type": "markdown",
   "metadata": {},
   "source": [
    "# Let's calculate BLEU with multi-bleu.perl\n",
    "\n",
    "https://github.com/moses-smt/mosesdecoder/blob/master/scripts/generic/multi-bleu.perl"
   ]
  },
  {
   "cell_type": "markdown",
   "metadata": {},
   "source": [
    "## First we need to generate reference files"
   ]
  },
  {
   "cell_type": "code",
   "execution_count": 84,
   "metadata": {},
   "outputs": [],
   "source": [
    "import xml.etree.ElementTree as ET\n",
    "from spacy.lang.en import English\n",
    "\n",
    "nlp = English()\n",
    "\n",
    "tree = ET.parse('test_reference_files_bleu/testdata_with_lex.xml')\n",
    "root = tree.getroot()\n",
    "\n",
    "references = []\n",
    "for entry in root.iter('entry'):\n",
    "    \n",
    "    references_of_entry = []\n",
    "    for ref in entry.findall('lex'):\n",
    "        \n",
    "        ref_lower = ref.text.lower()\n",
    "        doc = nlp(ref_lower)\n",
    "        ref_final = ' '.join((token.text for token in doc))\n",
    "        \n",
    "        references_of_entry.append(ref_final)\n",
    "    \n",
    "    references.append(references_of_entry)"
   ]
  },
  {
   "cell_type": "code",
   "execution_count": 85,
   "metadata": {},
   "outputs": [],
   "source": [
    "ref_per_id = [[] for _ in range(8)]\n",
    "\n",
    "for i in range(8):\n",
    "    \n",
    "    for reference_list in references:\n",
    "        \n",
    "        if len(reference_list) > i:\n",
    "            \n",
    "            ref_per_id[i].append(reference_list[i])\n",
    "        else:\n",
    "            ref_per_id[i].append('')"
   ]
  },
  {
   "cell_type": "code",
   "execution_count": 86,
   "metadata": {},
   "outputs": [],
   "source": [
    "for i, refs in enumerate(ref_per_id):\n",
    "    \n",
    "    with open('test_reference_files_bleu/ref_{}.txt'.format(i), 'w') as f:\n",
    "        \n",
    "        f.writelines(('{}\\n'.format(ref) for ref in refs))"
   ]
  },
  {
   "cell_type": "markdown",
   "metadata": {},
   "source": [
    "## And then let's try multi-bleu.perl"
   ]
  },
  {
   "cell_type": "markdown",
   "metadata": {},
   "source": [
    "## Melbourne"
   ]
  },
  {
   "cell_type": "code",
   "execution_count": 88,
   "metadata": {},
   "outputs": [
    {
     "name": "stdout",
     "output_type": "stream",
     "text": [
      "BLEU = 35.84, 76.4/48.6/30.5/19.5 (BP=0.929, ratio=0.931, hyp_len=36973, ref_len=39693)\r\n"
     ]
    }
   ],
   "source": [
    "!../evaluation/webnlg2017/webnlg-baseline-master/multi-bleu.perl test_reference_files_bleu/ref_0.txt test_reference_files_bleu/ref_1.txt test_reference_files_bleu/ref_2.txt < ../data/webnlg2017/submissions/melbourne/final_result.txt"
   ]
  },
  {
   "cell_type": "markdown",
   "metadata": {},
   "source": [
    "## Tilb-SMT"
   ]
  },
  {
   "cell_type": "code",
   "execution_count": 89,
   "metadata": {},
   "outputs": [
    {
     "name": "stdout",
     "output_type": "stream",
     "text": [
      "BLEU = 40.66, 73.2/50.6/34.6/24.4 (BP=0.967, ratio=0.968, hyp_len=38994, ref_len=40298)\r\n"
     ]
    }
   ],
   "source": [
    "!../evaluation/webnlg2017/webnlg-baseline-master/multi-bleu.perl test_reference_files_bleu/ref_0.txt test_reference_files_bleu/ref_1.txt test_reference_files_bleu/ref_2.txt < ../data/webnlg2017/submissions/tilburg/smt_test.out.ordered"
   ]
  },
  {
   "cell_type": "markdown",
   "metadata": {},
   "source": [
    "## PKUWriter"
   ]
  },
  {
   "cell_type": "code",
   "execution_count": 90,
   "metadata": {},
   "outputs": [
    {
     "name": "stdout",
     "output_type": "stream",
     "text": [
      "BLEU = 36.38, 69.8/45.0/30.8/21.8 (BP=0.954, ratio=0.955, hyp_len=38247, ref_len=40033)\r\n"
     ]
    }
   ],
   "source": [
    "!../evaluation/webnlg2017/webnlg-baseline-master/multi-bleu.perl test_reference_files_bleu/ref_0.txt test_reference_files_bleu/ref_1.txt test_reference_files_bleu/ref_2.txt < ../data/webnlg2017/submissions/pkuwriter/PKUWriter_results.txt"
   ]
  },
  {
   "cell_type": "markdown",
   "metadata": {},
   "source": [
    "## UPF-FORGe"
   ]
  },
  {
   "cell_type": "code",
   "execution_count": 87,
   "metadata": {},
   "outputs": [
    {
     "name": "stdout",
     "output_type": "stream",
     "text": [
      "BLEU = 35.05, 74.1/45.8/27.6/16.1 (BP=1.000, ratio=1.051, hyp_len=44700, ref_len=42550)\r\n"
     ]
    }
   ],
   "source": [
    "!../evaluation/webnlg2017/webnlg-baseline-master/multi-bleu.perl test_reference_files_bleu/ref_0.txt test_reference_files_bleu/ref_1.txt test_reference_files_bleu/ref_2.txt < ../data/webnlg2017/submissions/upf/UPF_All_sent_final.txt"
   ]
  },
  {
   "cell_type": "markdown",
   "metadata": {},
   "source": [
    "## Tilb-Pipeline"
   ]
  },
  {
   "cell_type": "code",
   "execution_count": 91,
   "metadata": {},
   "outputs": [
    {
     "name": "stdout",
     "output_type": "stream",
     "text": [
      "BLEU = 32.30, 80.0/53.3/35.1/23.1 (BP=0.749, ratio=0.776, hyp_len=29103, ref_len=37505)\r\n"
     ]
    }
   ],
   "source": [
    "!../evaluation/webnlg2017/webnlg-baseline-master/multi-bleu.perl test_reference_files_bleu/ref_0.txt test_reference_files_bleu/ref_1.txt test_reference_files_bleu/ref_2.txt < ../data/webnlg2017/submissions/tilburg/template_test.out.ordered"
   ]
  },
  {
   "cell_type": "markdown",
   "metadata": {},
   "source": [
    "## Tilb-NMT"
   ]
  },
  {
   "cell_type": "code",
   "execution_count": 92,
   "metadata": {},
   "outputs": [
    {
     "name": "stdout",
     "output_type": "stream",
     "text": [
      "BLEU = 32.13, 68.5/40.6/24.9/15.4 (BP=1.000, ratio=1.028, hyp_len=42741, ref_len=41573)\r\n"
     ]
    }
   ],
   "source": [
    "!../evaluation/webnlg2017/webnlg-baseline-master/multi-bleu.perl test_reference_files_bleu/ref_0.txt test_reference_files_bleu/ref_1.txt test_reference_files_bleu/ref_2.txt < ../data/webnlg2017/submissions/tilburg/nmt_test.out.ordered"
   ]
  },
  {
   "cell_type": "markdown",
   "metadata": {},
   "source": [
    "## Baseline"
   ]
  },
  {
   "cell_type": "code",
   "execution_count": 93,
   "metadata": {},
   "outputs": [
    {
     "name": "stdout",
     "output_type": "stream",
     "text": [
      "BLEU = 31.70, 63.4/39.6/28.9/21.9 (BP=0.892, ratio=0.898, hyp_len=35312, ref_len=39332)\r\n"
     ]
    }
   ],
   "source": [
    "!../evaluation/webnlg2017/webnlg-baseline-master/multi-bleu.perl test_reference_files_bleu/ref_0.txt test_reference_files_bleu/ref_1.txt test_reference_files_bleu/ref_2.txt < ../data/webnlg2017/submissions/baseline_sorted.txt"
   ]
  },
  {
   "cell_type": "markdown",
   "metadata": {},
   "source": [
    "## Adapt"
   ]
  },
  {
   "cell_type": "code",
   "execution_count": 94,
   "metadata": {},
   "outputs": [
    {
     "name": "stdout",
     "output_type": "stream",
     "text": [
      "BLEU = 29.84, 54.3/34.6/24.0/17.5 (BP=1.000, ratio=1.325, hyp_len=57002, ref_len=43021)\r\n"
     ]
    }
   ],
   "source": [
    "!../evaluation/webnlg2017/webnlg-baseline-master/multi-bleu.perl test_reference_files_bleu/ref_0.txt test_reference_files_bleu/ref_1.txt test_reference_files_bleu/ref_2.txt < ../data/webnlg2017/submissions/adaptCenter/ADAPTcentreWebNLGsubmission.txt"
   ]
  },
  {
   "cell_type": "markdown",
   "metadata": {},
   "source": [
    "## UIT-VNU"
   ]
  },
  {
   "cell_type": "code",
   "execution_count": 95,
   "metadata": {},
   "outputs": [
    {
     "name": "stdout",
     "output_type": "stream",
     "text": [
      "BLEU = 6.35, 63.8/48.3/32.6/22.8 (BP=0.163, ratio=0.356, hyp_len=10982, ref_len=30883)\r\n"
     ]
    }
   ],
   "source": [
    "!../evaluation/webnlg2017/webnlg-baseline-master/multi-bleu.perl test_reference_files_bleu/ref_0.txt test_reference_files_bleu/ref_1.txt test_reference_files_bleu/ref_2.txt < ../data/webnlg2017/submissions/uit-danglt-clnlp/Submission-UIT-DANGNT-CLNLP.txt"
   ]
  },
  {
   "cell_type": "code",
   "execution_count": null,
   "metadata": {},
   "outputs": [],
   "source": []
  }
 ],
 "metadata": {
  "kernelspec": {
   "display_name": "Python 3",
   "language": "python",
   "name": "python3"
  },
  "language_info": {
   "codemirror_mode": {
    "name": "ipython",
    "version": 3
   },
   "file_extension": ".py",
   "mimetype": "text/x-python",
   "name": "python",
   "nbconvert_exporter": "python",
   "pygments_lexer": "ipython3",
   "version": "3.6.5"
  }
 },
 "nbformat": 4,
 "nbformat_minor": 2
}
