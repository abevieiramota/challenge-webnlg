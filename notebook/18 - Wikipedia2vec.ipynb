{
 "cells": [
  {
   "cell_type": "code",
   "execution_count": 3,
   "metadata": {},
   "outputs": [],
   "source": [
    "from wikipedia2vec import Wikipedia2Vec\n",
    "\n",
    "wiki2vec = Wikipedia2Vec.load('../../../../Desktop/wikipedia2vec/enwiki_20180420_win10_100d.pkl')"
   ]
  },
  {
   "cell_type": "code",
   "execution_count": 7,
   "metadata": {},
   "outputs": [
    {
     "name": "stdout",
     "output_type": "stream",
     "text": [
      "CPU times: user 3.86 s, sys: 2.66 s, total: 6.52 s\n",
      "Wall time: 4.85 s\n"
     ]
    },
    {
     "data": {
      "text/plain": [
       "[(<Word yoda>, 0.99999994),\n",
       " (<Word kenobi>, 0.8112654),\n",
       " (<Word darth>, 0.8020905),\n",
       " (<Word threepio>, 0.7719675),\n",
       " (<Word saesee>, 0.76847756)]"
      ]
     },
     "execution_count": 7,
     "metadata": {},
     "output_type": "execute_result"
    }
   ],
   "source": [
    "%%time\n",
    "\n",
    "wiki2vec.most_similar(wiki2vec.get_word('yoda'), 5)"
   ]
  },
  {
   "cell_type": "code",
   "execution_count": 8,
   "metadata": {},
   "outputs": [],
   "source": [
    "import os\n",
    "\n",
    "os.sys.path.insert(0, '../script')\n",
    "\n",
    "import webnlg"
   ]
  },
  {
   "cell_type": "code",
   "execution_count": 9,
   "metadata": {},
   "outputs": [],
   "source": [
    "corpus = webnlg.load(dataset=['train'])"
   ]
  },
  {
   "cell_type": "code",
   "execution_count": 10,
   "metadata": {},
   "outputs": [
    {
     "data": {
      "text/plain": [
       "Triple info: category=Airport eid=Id60\n",
       "\n",
       "\tModified triples:\n",
       "\n",
       "Al-Taqaddum_Air_Base | runwayLength | 3684.0\n",
       "Al-Taqaddum_Air_Base | cityServed | Fallujah\n",
       "Al-Taqaddum_Air_Base | elevationAboveTheSeaLevel_(in_metres) | 84.0\n",
       "Al-Taqaddum_Air_Base | location | Habbaniyah\n",
       "\n",
       "\n",
       "\tLexicalizations:\n",
       "\n",
       "At 84 metres above sea level, and with a runway length of 3684.0, Al Taqaddum Air Base is located in Habbaniyah and serves the city of Fallujah.\n",
       "\n",
       "\n",
       "Al-Tazaddum Air Base is located in Habbaniyah and serves the city of Fallujah. It is at an altitude of 84 metres above sea level and has a runway 3684 metres in length.\n",
       "\n",
       "\n",
       "Al-Taqaddum Air Base serves the city of Fallujah in Habbaniyah. It is 84 meters above sea level and its length is 3684 m.\n"
      ]
     },
     "execution_count": 10,
     "metadata": {},
     "output_type": "execute_result"
    }
   ],
   "source": [
    "sample = corpus.sample()\n",
    "\n",
    "sample"
   ]
  },
  {
   "cell_type": "code",
   "execution_count": 17,
   "metadata": {},
   "outputs": [
    {
     "data": {
      "text/plain": [
       "[(<Word taqaddum>, 1.0),\n",
       " (<Entity Al-Taqaddum Air Base>, 0.8937969),\n",
       " (<Word taqqadum>, 0.8671477),\n",
       " (<Word tallil>, 0.8494678),\n",
       " (<Entity Baghdad International Airport#Military use>, 0.8275939)]"
      ]
     },
     "execution_count": 17,
     "metadata": {},
     "output_type": "execute_result"
    }
   ],
   "source": [
    "wiki2vec.most_similar(wiki2vec.get_word('Taqaddum'.lower()), 5)"
   ]
  },
  {
   "cell_type": "code",
   "execution_count": null,
   "metadata": {},
   "outputs": [],
   "source": []
  }
 ],
 "metadata": {
  "kernelspec": {
   "display_name": "Python 3",
   "language": "python",
   "name": "python3"
  },
  "language_info": {
   "codemirror_mode": {
    "name": "ipython",
    "version": 3
   },
   "file_extension": ".py",
   "mimetype": "text/x-python",
   "name": "python",
   "nbconvert_exporter": "python",
   "pygments_lexer": "ipython3",
   "version": "3.6.7"
  }
 },
 "nbformat": 4,
 "nbformat_minor": 2
}
