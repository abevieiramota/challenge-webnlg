{
 "cells": [
  {
   "cell_type": "code",
   "execution_count": 1,
   "metadata": {},
   "outputs": [],
   "source": [
    "import os\n",
    "\n",
    "os.sys.path.insert(0, '../script')\n",
    "from webnlg import WebNLGCorpus"
   ]
  },
  {
   "cell_type": "code",
   "execution_count": 63,
   "metadata": {},
   "outputs": [],
   "source": [
    "v_12 = WebNLGCorpus.load(['dev_1.2', 'train_1.2'])\n",
    "\n",
    "test = WebNLGCorpus.load(['test_with_lex'])"
   ]
  },
  {
   "cell_type": "markdown",
   "metadata": {},
   "source": [
    "# Generating a template database\n",
    "\n",
    "predicate -> list of templates"
   ]
  },
  {
   "cell_type": "code",
   "execution_count": 58,
   "metadata": {},
   "outputs": [],
   "source": [
    "from collections import defaultdict\n",
    "from template_extraction import Template\n",
    "\n",
    "template_db = defaultdict(lambda: defaultdict(list))\n",
    "\n",
    "for e in v_12.subset(ntriples=1):\n",
    "    \n",
    "    for lexe in e.entry['lexes']:\n",
    "        \n",
    "        template_text = lexe['template'].replace('AGENT-1', '{subject}').replace('PATIENT-1', '{object}')\n",
    "        \n",
    "        template = Template(template_text)\n",
    "        \n",
    "        template_db[e.get_data()[0]['predicate']][template].append((lexe['ltext'], e.get_data()[0]))"
   ]
  },
  {
   "cell_type": "code",
   "execution_count": 60,
   "metadata": {},
   "outputs": [],
   "source": [
    "from sentence_generation import MostFrequentTemplateSentenceGenerator\n",
    "\n",
    "mfe = MostFrequentTemplateSentenceGenerator()\n",
    "\n",
    "mfe.fit(template_db=template_db)"
   ]
  },
  {
   "cell_type": "code",
   "execution_count": 65,
   "metadata": {},
   "outputs": [
    {
     "data": {
      "text/plain": [
       "Triple info: category=Athlete eid=Id1125\n",
       "\n",
       "\tModified triples:\n",
       "\n",
       "Tennessee_Titans | city | Nashville,_Tennessee\n",
       "\n",
       "\n",
       "\tLexicalizations:\n",
       "\n",
       "Tennessee Titans are based in Nashville, Tennessee.\n",
       "The Tennessee Titans are based in the city of Nashville, Tennessee.\n",
       "American Football team Tennessee Titans are based in the city of Nashville, Tennessee."
      ]
     },
     "execution_count": 65,
     "metadata": {},
     "output_type": "execute_result"
    }
   ],
   "source": [
    "e = test.sample(ntriples=1)\n",
    "\n",
    "e"
   ]
  },
  {
   "cell_type": "code",
   "execution_count": 66,
   "metadata": {},
   "outputs": [
    {
     "data": {
      "text/plain": [
       "'Tennessee_Titans is located in Nashville,_Tennessee .'"
      ]
     },
     "execution_count": 66,
     "metadata": {},
     "output_type": "execute_result"
    }
   ],
   "source": [
    "mfe.generate(e.get_data()[0])"
   ]
  }
 ],
 "metadata": {
  "kernelspec": {
   "display_name": "Python 3",
   "language": "python",
   "name": "python3"
  },
  "language_info": {
   "codemirror_mode": {
    "name": "ipython",
    "version": 3
   },
   "file_extension": ".py",
   "mimetype": "text/x-python",
   "name": "python",
   "nbconvert_exporter": "python",
   "pygments_lexer": "ipython3",
   "version": "3.6.7"
  }
 },
 "nbformat": 4,
 "nbformat_minor": 2
}
