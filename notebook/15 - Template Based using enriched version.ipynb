{
 "cells": [
  {
   "cell_type": "code",
   "execution_count": 1,
   "metadata": {},
   "outputs": [],
   "source": [
    "import os\n",
    "os.sys.path.insert(0, '../script')\n",
    "from webnlg import WebNLGCorpus\n",
    "from evaluation import *\n",
    "from lexicalization import *\n",
    "from sentence_generation import *\n",
    "from content_selection import SelectAllContentSelection\n",
    "from collections import defaultdict, Counter\n",
    "from template_extraction import *\n",
    "from discourse_structuring import DoesntSortDiscourseStructuring\n",
    "from sentence_aggregation import OneSentenceAggregator\n",
    "from text_generation import TemplateBasedTextGenerator\n",
    "import re"
   ]
  },
  {
   "cell_type": "code",
   "execution_count": 2,
   "metadata": {},
   "outputs": [],
   "source": [
    "v_12 = WebNLGCorpus.load(['dev_1.2', 'train_1.2'])\n",
    "v_12_ntriples_1 = v_12.subset(ntriples=1)\n",
    "\n",
    "# content selection\n",
    "cs = SelectAllContentSelection()\n",
    "\n",
    "# sentence generation\n",
    "t = ManualTemplateExtract()\n",
    "template_db = t.extract(v_12_ntriples_1)\n",
    "\n",
    "mfe = MostFrequentTemplateSentenceGenerator()\n",
    "mfe.fit(template_db=template_db)\n",
    "\n",
    "fsg = FallBackPipelineSentenceGenerator([mfe, JustJoinTripleSentenceGenerator()])\n",
    "\n",
    "\n",
    "# lexicalization\n",
    "la = LexicalizeAsAligned()\n",
    "la.fit(v_12_ntriples_1)\n",
    "\n",
    "# discourse structuring\n",
    "ds = DoesntSortDiscourseStructuring()\n",
    "\n",
    "# sentence aggregation\n",
    "sa = OneSentenceAggregator()\n",
    "\n",
    "nlg = TemplateBasedTextGenerator(cs, fsg, la, ds, sa)"
   ]
  },
  {
   "cell_type": "code",
   "execution_count": 3,
   "metadata": {},
   "outputs": [
    {
     "data": {
      "text/plain": [
       "{'bleu': 41.29, 'meteor': 0.3858469043799935, 'ter': 0.6043062477150711}"
      ]
     },
     "execution_count": 3,
     "metadata": {},
     "output_type": "execute_result"
    }
   ],
   "source": [
    "evaluate_model(nlg, 'ola')"
   ]
  },
  {
   "cell_type": "markdown",
   "metadata": {},
   "source": [
    "# Examples"
   ]
  },
  {
   "cell_type": "code",
   "execution_count": 4,
   "metadata": {},
   "outputs": [],
   "source": [
    "test = WebNLGCorpus.load(['test_with_lex'])"
   ]
  },
  {
   "cell_type": "markdown",
   "metadata": {},
   "source": [
    "## Example 1"
   ]
  },
  {
   "cell_type": "code",
   "execution_count": 28,
   "metadata": {},
   "outputs": [
    {
     "data": {
      "text/plain": [
       "Triple info: category=Building eid=Id471\n",
       "\n",
       "\tModified triples:\n",
       "\n",
       "Alan_B._Miller_Hall | buildingStartDate | \"30 March 2007\"\n",
       "Mason_School_of_Business | country | United_States\n",
       "Alan_B._Miller_Hall | currentTenants | Mason_School_of_Business\n",
       "\n",
       "\n",
       "\tLexicalizations:\n",
       "\n",
       "Alan B. Miller Hall was started on March 30,2007 and has The Mason School of Business in the U.S. as a tenant. || \n",
       "Alan B. Miller Hall's building opened in 30th March 2007. The Mason School of Business in the United States are the current tenants of Alan B Miller Hall. || "
      ]
     },
     "execution_count": 28,
     "metadata": {},
     "output_type": "execute_result"
    }
   ],
   "source": [
    "sample = test.sample(ntriples=3)\n",
    "\n",
    "text = nlg.predict_entry(sample.get_data())\n",
    "\n",
    "sample"
   ]
  },
  {
   "cell_type": "code",
   "execution_count": 29,
   "metadata": {},
   "outputs": [
    {
     "data": {
      "text/plain": [
       "'The construction of alan b miller hall began in 30th march 2007 . the mason school of business is in the united states . the mason school of business are the current tenants of alan b miller hall .'"
      ]
     },
     "execution_count": 29,
     "metadata": {},
     "output_type": "execute_result"
    }
   ],
   "source": [
    "text"
   ]
  },
  {
   "cell_type": "markdown",
   "metadata": {},
   "source": [
    "## Example 2"
   ]
  },
  {
   "cell_type": "code",
   "execution_count": 30,
   "metadata": {},
   "outputs": [
    {
     "data": {
      "text/plain": [
       "Triple info: category=SportsTeam eid=Id125\n",
       "\n",
       "\tModified triples:\n",
       "\n",
       "Michele_Marcolini | club | Atalanta_B.C.\n",
       "\n",
       "\n",
       "\tLexicalizations:\n",
       "\n",
       "Michele Marcolini has played for Atalanta BC. || \n",
       "Michele Marcolini is part of the Atalanta B.C. club. || \n",
       "Michele Marcolini plays for Atalanta B.C. || "
      ]
     },
     "execution_count": 30,
     "metadata": {},
     "output_type": "execute_result"
    }
   ],
   "source": [
    "sample = test.sample()\n",
    "\n",
    "text = nlg.predict_entry(sample.get_data())\n",
    "\n",
    "sample"
   ]
  },
  {
   "cell_type": "code",
   "execution_count": 31,
   "metadata": {},
   "outputs": [
    {
     "data": {
      "text/plain": [
       "'michele marcolini plays for Atalanta B.C. .'"
      ]
     },
     "execution_count": 31,
     "metadata": {},
     "output_type": "execute_result"
    }
   ],
   "source": [
    "text"
   ]
  }
 ],
 "metadata": {
  "kernelspec": {
   "display_name": "Python 3",
   "language": "python",
   "name": "python3"
  },
  "language_info": {
   "codemirror_mode": {
    "name": "ipython",
    "version": 3
   },
   "file_extension": ".py",
   "mimetype": "text/x-python",
   "name": "python",
   "nbconvert_exporter": "python",
   "pygments_lexer": "ipython3",
   "version": "3.6.7"
  }
 },
 "nbformat": 4,
 "nbformat_minor": 2
}
