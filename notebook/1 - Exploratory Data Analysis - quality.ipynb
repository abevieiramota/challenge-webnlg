{
 "cells": [
  {
   "cell_type": "code",
   "execution_count": 2,
   "metadata": {},
   "outputs": [],
   "source": [
    "import os\n",
    "\n",
    "os.sys.path.insert(0, '../script')\n",
    "\n",
    "from webnlg import WebNLGCorpus"
   ]
  },
  {
   "cell_type": "code",
   "execution_count": 3,
   "metadata": {},
   "outputs": [],
   "source": [
    "train_dev = WebNLGCorpus.load(dataset=['train', 'dev'])"
   ]
  },
  {
   "cell_type": "code",
   "execution_count": 5,
   "metadata": {},
   "outputs": [
    {
     "data": {
      "text/plain": [
       "20553                          Amdavad_ni_Gufa\n",
       "5611     Visvesvaraya_Technological_University\n",
       "6597                             Bandeja_paisa\n",
       "5834                Adams_County,_Pennsylvania\n",
       "7865                                Eric_Flint\n",
       "7465                              Sweet_potato\n",
       "1446                                 A.S._Roma\n",
       "20653                                Arem-arem\n",
       "13581                                 Apollo_8\n",
       "3455                            AIDS_(journal)\n",
       "Name: m_subject, dtype: object"
      ]
     },
     "execution_count": 5,
     "metadata": {},
     "output_type": "execute_result"
    }
   ],
   "source": [
    "train_dev.mdf.m_subject.sample(n=10, random_state=100)"
   ]
  },
  {
   "cell_type": "markdown",
   "metadata": {},
   "source": [
    "So, there are subjects(probably predicates and objects too) that have *underlines* and *parenthesis*."
   ]
  },
  {
   "cell_type": "code",
   "execution_count": 11,
   "metadata": {},
   "outputs": [
    {
     "data": {
      "text/plain": [
       "(23021, 5)"
      ]
     },
     "execution_count": 11,
     "metadata": {},
     "output_type": "execute_result"
    }
   ],
   "source": [
    "train_dev.mdf.shape"
   ]
  },
  {
   "cell_type": "markdown",
   "metadata": {},
   "source": [
    "## How many has underlines or parenthesis?"
   ]
  },
  {
   "cell_type": "code",
   "execution_count": 10,
   "metadata": {},
   "outputs": [
    {
     "data": {
      "text/plain": [
       "17505"
      ]
     },
     "execution_count": 10,
     "metadata": {},
     "output_type": "execute_result"
    }
   ],
   "source": [
    "has_underline_parenthesis = train_dev.mdf.m_subject.str.match(r'.*[_\\(\\)].*')\n",
    "\n",
    "has_underline_parenthesis.sum()"
   ]
  },
  {
   "cell_type": "code",
   "execution_count": 22,
   "metadata": {},
   "outputs": [
    {
     "data": {
      "text/html": [
       "<div>\n",
       "<style scoped>\n",
       "    .dataframe tbody tr th:only-of-type {\n",
       "        vertical-align: middle;\n",
       "    }\n",
       "\n",
       "    .dataframe tbody tr th {\n",
       "        vertical-align: top;\n",
       "    }\n",
       "\n",
       "    .dataframe thead th {\n",
       "        text-align: right;\n",
       "    }\n",
       "</style>\n",
       "<table border=\"1\" class=\"dataframe\">\n",
       "  <thead>\n",
       "    <tr style=\"text-align: right;\">\n",
       "      <th></th>\n",
       "      <th>idx</th>\n",
       "      <th>mtext</th>\n",
       "      <th>m_subject</th>\n",
       "      <th>m_predicate</th>\n",
       "      <th>m_object</th>\n",
       "    </tr>\n",
       "  </thead>\n",
       "  <tbody>\n",
       "    <tr>\n",
       "      <th>3118</th>\n",
       "      <td>15_39</td>\n",
       "      <td>A.D._Isidro_Metapán | ground | \"Metapán, El Sa...</td>\n",
       "      <td>A.D._Isidro_Metapán</td>\n",
       "      <td>ground</td>\n",
       "      <td>\"Metapán, El Salvador\"</td>\n",
       "    </tr>\n",
       "    <tr>\n",
       "      <th>8484</th>\n",
       "      <td>26_167</td>\n",
       "      <td>A_Glastonbury_Romance | precededBy | Wolf_Solent</td>\n",
       "      <td>A_Glastonbury_Romance</td>\n",
       "      <td>precededBy</td>\n",
       "      <td>Wolf_Solent</td>\n",
       "    </tr>\n",
       "    <tr>\n",
       "      <th>10099</th>\n",
       "      <td>29_203</td>\n",
       "      <td>United_States | leaderName | John_Roberts</td>\n",
       "      <td>United_States</td>\n",
       "      <td>leaderName</td>\n",
       "      <td>John_Roberts</td>\n",
       "    </tr>\n",
       "    <tr>\n",
       "      <th>146</th>\n",
       "      <td>0_146</td>\n",
       "      <td>Antwerp_International_Airport | owner | Flemis...</td>\n",
       "      <td>Antwerp_International_Airport</td>\n",
       "      <td>owner</td>\n",
       "      <td>Flemish_Region</td>\n",
       "    </tr>\n",
       "    <tr>\n",
       "      <th>18840</th>\n",
       "      <td>48_17</td>\n",
       "      <td>Balder_(comicsCharacter) | creator | Stan_Lee</td>\n",
       "      <td>Balder_(comicsCharacter)</td>\n",
       "      <td>creator</td>\n",
       "      <td>Stan_Lee</td>\n",
       "    </tr>\n",
       "    <tr>\n",
       "      <th>133</th>\n",
       "      <td>0_133</td>\n",
       "      <td>Angola_International_Airport | 1st_runway_Leng...</td>\n",
       "      <td>Angola_International_Airport</td>\n",
       "      <td>1st_runway_LengthFeet</td>\n",
       "      <td>13123</td>\n",
       "    </tr>\n",
       "    <tr>\n",
       "      <th>22134</th>\n",
       "      <td>89_8</td>\n",
       "      <td>United_States_Air_Force | battles | Invasion_o...</td>\n",
       "      <td>United_States_Air_Force</td>\n",
       "      <td>battles</td>\n",
       "      <td>Invasion_of_Grenada</td>\n",
       "    </tr>\n",
       "    <tr>\n",
       "      <th>2054</th>\n",
       "      <td>10_133</td>\n",
       "      <td>Antwerp_International_Airport | operatingOrgan...</td>\n",
       "      <td>Antwerp_International_Airport</td>\n",
       "      <td>operatingOrganisation</td>\n",
       "      <td>Flemish_Government</td>\n",
       "    </tr>\n",
       "    <tr>\n",
       "      <th>1693</th>\n",
       "      <td>8_1</td>\n",
       "      <td>11th_Mississippi_Infantry_Monument | country |...</td>\n",
       "      <td>11th_Mississippi_Infantry_Monument</td>\n",
       "      <td>country</td>\n",
       "      <td>\"United States\"</td>\n",
       "    </tr>\n",
       "    <tr>\n",
       "      <th>18232</th>\n",
       "      <td>46_49</td>\n",
       "      <td>Elliot_See | deathPlace | St._Louis</td>\n",
       "      <td>Elliot_See</td>\n",
       "      <td>deathPlace</td>\n",
       "      <td>St._Louis</td>\n",
       "    </tr>\n",
       "  </tbody>\n",
       "</table>\n",
       "</div>"
      ],
      "text/plain": [
       "          idx                                              mtext  \\\n",
       "3118    15_39  A.D._Isidro_Metapán | ground | \"Metapán, El Sa...   \n",
       "8484   26_167   A_Glastonbury_Romance | precededBy | Wolf_Solent   \n",
       "10099  29_203          United_States | leaderName | John_Roberts   \n",
       "146     0_146  Antwerp_International_Airport | owner | Flemis...   \n",
       "18840   48_17      Balder_(comicsCharacter) | creator | Stan_Lee   \n",
       "133     0_133  Angola_International_Airport | 1st_runway_Leng...   \n",
       "22134    89_8  United_States_Air_Force | battles | Invasion_o...   \n",
       "2054   10_133  Antwerp_International_Airport | operatingOrgan...   \n",
       "1693      8_1  11th_Mississippi_Infantry_Monument | country |...   \n",
       "18232   46_49                Elliot_See | deathPlace | St._Louis   \n",
       "\n",
       "                                m_subject            m_predicate  \\\n",
       "3118                  A.D._Isidro_Metapán                 ground   \n",
       "8484                A_Glastonbury_Romance             precededBy   \n",
       "10099                       United_States             leaderName   \n",
       "146         Antwerp_International_Airport                  owner   \n",
       "18840            Balder_(comicsCharacter)                creator   \n",
       "133          Angola_International_Airport  1st_runway_LengthFeet   \n",
       "22134             United_States_Air_Force                battles   \n",
       "2054        Antwerp_International_Airport  operatingOrganisation   \n",
       "1693   11th_Mississippi_Infantry_Monument                country   \n",
       "18232                          Elliot_See             deathPlace   \n",
       "\n",
       "                     m_object  \n",
       "3118   \"Metapán, El Salvador\"  \n",
       "8484              Wolf_Solent  \n",
       "10099            John_Roberts  \n",
       "146            Flemish_Region  \n",
       "18840                Stan_Lee  \n",
       "133                     13123  \n",
       "22134     Invasion_of_Grenada  \n",
       "2054       Flemish_Government  \n",
       "1693          \"United States\"  \n",
       "18232               St._Louis  "
      ]
     },
     "execution_count": 22,
     "metadata": {},
     "output_type": "execute_result"
    }
   ],
   "source": [
    "# some samples\n",
    "train_dev.mdf[has_underline_parenthesis].sample(n=10, random_state=200)"
   ]
  },
  {
   "cell_type": "code",
   "execution_count": 13,
   "metadata": {},
   "outputs": [
    {
     "data": {
      "text/html": [
       "<div>\n",
       "<style scoped>\n",
       "    .dataframe tbody tr th:only-of-type {\n",
       "        vertical-align: middle;\n",
       "    }\n",
       "\n",
       "    .dataframe tbody tr th {\n",
       "        vertical-align: top;\n",
       "    }\n",
       "\n",
       "    .dataframe thead th {\n",
       "        text-align: right;\n",
       "    }\n",
       "</style>\n",
       "<table border=\"1\" class=\"dataframe\">\n",
       "  <thead>\n",
       "    <tr style=\"text-align: right;\">\n",
       "      <th></th>\n",
       "      <th>idx</th>\n",
       "      <th>mtext</th>\n",
       "      <th>m_subject</th>\n",
       "      <th>m_predicate</th>\n",
       "      <th>m_object</th>\n",
       "    </tr>\n",
       "  </thead>\n",
       "  <tbody>\n",
       "    <tr>\n",
       "      <th>12218</th>\n",
       "      <td>35_42</td>\n",
       "      <td>Turkey | leaderName | Ahmet_Davutoğlu</td>\n",
       "      <td>Turkey</td>\n",
       "      <td>leaderName</td>\n",
       "      <td>Ahmet_Davutoğlu</td>\n",
       "    </tr>\n",
       "    <tr>\n",
       "      <th>20934</th>\n",
       "      <td>69_32</td>\n",
       "      <td>Bionico | dishVariation | Honey</td>\n",
       "      <td>Bionico</td>\n",
       "      <td>dishVariation</td>\n",
       "      <td>Honey</td>\n",
       "    </tr>\n",
       "    <tr>\n",
       "      <th>810</th>\n",
       "      <td>3_168</td>\n",
       "      <td>Dublin | leaderTitle | European_Parliament</td>\n",
       "      <td>Dublin</td>\n",
       "      <td>leaderTitle</td>\n",
       "      <td>European_Parliament</td>\n",
       "    </tr>\n",
       "    <tr>\n",
       "      <th>2956</th>\n",
       "      <td>13_268</td>\n",
       "      <td>Singapore | leaderName | Halimah_Yacob</td>\n",
       "      <td>Singapore</td>\n",
       "      <td>leaderName</td>\n",
       "      <td>Halimah_Yacob</td>\n",
       "    </tr>\n",
       "    <tr>\n",
       "      <th>16947</th>\n",
       "      <td>43_179</td>\n",
       "      <td>France | leaderName | Manuel_Valls</td>\n",
       "      <td>France</td>\n",
       "      <td>leaderName</td>\n",
       "      <td>Manuel_Valls</td>\n",
       "    </tr>\n",
       "    <tr>\n",
       "      <th>17122</th>\n",
       "      <td>43_238</td>\n",
       "      <td>Binignit | mainIngredients | Banana</td>\n",
       "      <td>Binignit</td>\n",
       "      <td>mainIngredients</td>\n",
       "      <td>Banana</td>\n",
       "    </tr>\n",
       "    <tr>\n",
       "      <th>13024</th>\n",
       "      <td>36_158</td>\n",
       "      <td>Bionico | course | Dessert</td>\n",
       "      <td>Bionico</td>\n",
       "      <td>course</td>\n",
       "      <td>Dessert</td>\n",
       "    </tr>\n",
       "    <tr>\n",
       "      <th>21735</th>\n",
       "      <td>83_15</td>\n",
       "      <td>Italy | language | Italian_language</td>\n",
       "      <td>Italy</td>\n",
       "      <td>language</td>\n",
       "      <td>Italian_language</td>\n",
       "    </tr>\n",
       "    <tr>\n",
       "      <th>575</th>\n",
       "      <td>2_31</td>\n",
       "      <td>Bananaman | starring | Graeme_Garden</td>\n",
       "      <td>Bananaman</td>\n",
       "      <td>starring</td>\n",
       "      <td>Graeme_Garden</td>\n",
       "    </tr>\n",
       "    <tr>\n",
       "      <th>1247</th>\n",
       "      <td>5_150</td>\n",
       "      <td>Bhajji | related | Pakora</td>\n",
       "      <td>Bhajji</td>\n",
       "      <td>related</td>\n",
       "      <td>Pakora</td>\n",
       "    </tr>\n",
       "  </tbody>\n",
       "</table>\n",
       "</div>"
      ],
      "text/plain": [
       "          idx                                       mtext  m_subject  \\\n",
       "12218   35_42       Turkey | leaderName | Ahmet_Davutoğlu     Turkey   \n",
       "20934   69_32             Bionico | dishVariation | Honey    Bionico   \n",
       "810     3_168  Dublin | leaderTitle | European_Parliament     Dublin   \n",
       "2956   13_268      Singapore | leaderName | Halimah_Yacob  Singapore   \n",
       "16947  43_179          France | leaderName | Manuel_Valls     France   \n",
       "17122  43_238         Binignit | mainIngredients | Banana   Binignit   \n",
       "13024  36_158                  Bionico | course | Dessert    Bionico   \n",
       "21735   83_15         Italy | language | Italian_language      Italy   \n",
       "575      2_31        Bananaman | starring | Graeme_Garden  Bananaman   \n",
       "1247    5_150                   Bhajji | related | Pakora     Bhajji   \n",
       "\n",
       "           m_predicate             m_object  \n",
       "12218       leaderName      Ahmet_Davutoğlu  \n",
       "20934    dishVariation                Honey  \n",
       "810        leaderTitle  European_Parliament  \n",
       "2956        leaderName        Halimah_Yacob  \n",
       "16947       leaderName         Manuel_Valls  \n",
       "17122  mainIngredients               Banana  \n",
       "13024           course              Dessert  \n",
       "21735         language     Italian_language  \n",
       "575           starring        Graeme_Garden  \n",
       "1247           related               Pakora  "
      ]
     },
     "execution_count": 13,
     "metadata": {},
     "output_type": "execute_result"
    }
   ],
   "source": [
    "# and without parenthesis or underlines\n",
    "train_dev.mdf[~has_underline_parenthesis].sample(n=10, random_state=123)"
   ]
  },
  {
   "cell_type": "markdown",
   "metadata": {},
   "source": [
    "## How underlines are lexicalized?"
   ]
  },
  {
   "cell_type": "code",
   "execution_count": 24,
   "metadata": {},
   "outputs": [
    {
     "data": {
      "text/plain": [
       "Triple info: {'category': 'SportsTeam', 'eid': 'Id48', 'idx': '15_47', 'ntriples': 2}\n",
       "\n",
       "\tModified triples:\n",
       "\n",
       "A.D._Isidro_Metapán | manager | Jorge_Humberto_Rodríguez\n",
       "Jorge_Humberto_Rodríguez | club | El_Salvador_national_football_team\n",
       "\n",
       "\n",
       "\tLexicalizations:\n",
       "\n",
       "Jorge Humberto Rodríguez manages the A.D. Isidro Metapan and plays for the El Salvador national football team.\n",
       "Jorge Humberto Rodríguez, who is a member of the El Salvador National Football Team, also manages the team.\n",
       "Once manager of A D Isidro Metapán, Jorge Humberto Rodriguez, plays for the El Salvador national football team."
      ]
     },
     "execution_count": 24,
     "metadata": {},
     "output_type": "execute_result"
    }
   ],
   "source": [
    "train_dev.sample(idx='15_47')"
   ]
  },
  {
   "cell_type": "markdown",
   "metadata": {},
   "source": [
    "**Hey, take a look at the second lexicalization! Where is the lexicalization of the first triple?! '*also manages the team.*'**"
   ]
  },
  {
   "cell_type": "markdown",
   "metadata": {},
   "source": [
    "### Well, underline translates to a space?"
   ]
  },
  {
   "cell_type": "code",
   "execution_count": 21,
   "metadata": {},
   "outputs": [
    {
     "data": {
      "text/plain": [
       "14814                           Ampara Hospital\n",
       "5983                                  Alan Bean\n",
       "5443     Accademia di Architettura di Mendrisio\n",
       "8786                                  A.S. Roma\n",
       "21626                             United States\n",
       "5834                 Adams County, Pennsylvania\n",
       "8165              Acta Palaeontologica Polonica\n",
       "3585                              United States\n",
       "3580                             A Severed Wasp\n",
       "19954                           A Long Long Way\n",
       "Name: m_subject, dtype: object"
      ]
     },
     "execution_count": 21,
     "metadata": {},
     "output_type": "execute_result"
    }
   ],
   "source": [
    "train_dev.mdf.m_subject.str.translate('_'.maketrans({'_': ' '})).sample(n=10, random_state=200)"
   ]
  },
  {
   "cell_type": "markdown",
   "metadata": {},
   "source": [
    "Looks fine"
   ]
  },
  {
   "cell_type": "markdown",
   "metadata": {},
   "source": [
    "## How parenthesis are lexicalized?"
   ]
  },
  {
   "cell_type": "code",
   "execution_count": 26,
   "metadata": {},
   "outputs": [
    {
     "data": {
      "text/plain": [
       "Triple info: {'category': 'ComicsCharacter', 'eid': 'Id18', 'idx': '48_17', 'ntriples': 3}\n",
       "\n",
       "\tModified triples:\n",
       "\n",
       "Balder_(comicsCharacter) | creator | Jack_Kirby\n",
       "Jack_Kirby | nationality | Americans\n",
       "Balder_(comicsCharacter) | creator | Stan_Lee\n",
       "\n",
       "\n",
       "\tLexicalizations:\n",
       "\n",
       "Stan Lee and American Jack Kirby created the comic character Balder.\n",
       "Stan Lee and the American, Jack Kirby created the comic character of Balder."
      ]
     },
     "execution_count": 26,
     "metadata": {},
     "output_type": "execute_result"
    }
   ],
   "source": [
    "sample = train_dev.sample(idx='48_17')\n",
    "sample"
   ]
  },
  {
   "cell_type": "markdown",
   "metadata": {},
   "source": [
    "So, is the content between parenthesis some sort of qualifier of the main content?"
   ]
  },
  {
   "cell_type": "markdown",
   "metadata": {},
   "source": [
    "Let's remove the parenthesis and place the content before the main content"
   ]
  },
  {
   "cell_type": "code",
   "execution_count": 30,
   "metadata": {},
   "outputs": [
    {
     "data": {
      "text/plain": [
       "18838    comicsCharacter Balder_\n",
       "18839                 Jack_Kirby\n",
       "18840    comicsCharacter Balder_\n",
       "Name: m_subject, dtype: object"
      ]
     },
     "execution_count": 30,
     "metadata": {},
     "output_type": "execute_result"
    }
   ],
   "source": [
    "sample.mdf.m_subject.str.replace('(.*?)\\((.*?)\\)', '\\g<2> \\g<1>')"
   ]
  },
  {
   "cell_type": "markdown",
   "metadata": {},
   "source": [
    "And then remove spaces"
   ]
  },
  {
   "cell_type": "code",
   "execution_count": 31,
   "metadata": {},
   "outputs": [
    {
     "data": {
      "text/plain": [
       "18838    comicsCharacter Balder \n",
       "18839                 Jack Kirby\n",
       "18840    comicsCharacter Balder \n",
       "Name: m_subject, dtype: object"
      ]
     },
     "execution_count": 31,
     "metadata": {},
     "output_type": "execute_result"
    }
   ],
   "source": [
    "sample.mdf.m_subject.str.replace('(.*?)\\((.*?)\\)', '\\g<2> \\g<1>').str.replace('_', ' ')"
   ]
  },
  {
   "cell_type": "markdown",
   "metadata": {},
   "source": [
    "Maybe trim?"
   ]
  },
  {
   "cell_type": "code",
   "execution_count": 33,
   "metadata": {},
   "outputs": [
    {
     "data": {
      "text/plain": [
       "18838    comicsCharacter Balder\n",
       "18839                Jack Kirby\n",
       "18840    comicsCharacter Balder\n",
       "Name: m_subject, dtype: object"
      ]
     },
     "execution_count": 33,
     "metadata": {},
     "output_type": "execute_result"
    }
   ],
   "source": [
    "sample.mdf.m_subject.str.replace('(.*?)\\((.*?)\\)', '\\g<2> \\g<1>').str.replace('_', ' ').str.strip()"
   ]
  },
  {
   "cell_type": "markdown",
   "metadata": {},
   "source": [
    "Now, let's deal with these camelCase like tokens"
   ]
  },
  {
   "cell_type": "code",
   "execution_count": 46,
   "metadata": {},
   "outputs": [
    {
     "data": {
      "text/plain": [
       "18838    comics Character Balder\n",
       "18839                 Jack Kirby\n",
       "18840    comics Character Balder\n",
       "Name: m_subject, dtype: object"
      ]
     },
     "execution_count": 46,
     "metadata": {},
     "output_type": "execute_result"
    }
   ],
   "source": [
    "sample.mdf.m_subject\\\n",
    "    .str.replace('(.*?)\\((.*?)\\)', '\\g<2> \\g<1>')\\\n",
    "    .str.replace('_', ' ')\\\n",
    "    .str.replace('([a-z])([A-Z])', '\\g<1> \\g<2>')\\\n",
    "    .str.strip()"
   ]
  },
  {
   "cell_type": "markdown",
   "metadata": {},
   "source": [
    "# Let's inspect more values\n",
    "\n",
    "looking at both m_subject, m_predicate and m_object"
   ]
  },
  {
   "cell_type": "code",
   "execution_count": 36,
   "metadata": {},
   "outputs": [
    {
     "data": {
      "text/html": [
       "<div>\n",
       "<style scoped>\n",
       "    .dataframe tbody tr th:only-of-type {\n",
       "        vertical-align: middle;\n",
       "    }\n",
       "\n",
       "    .dataframe tbody tr th {\n",
       "        vertical-align: top;\n",
       "    }\n",
       "\n",
       "    .dataframe thead th {\n",
       "        text-align: right;\n",
       "    }\n",
       "</style>\n",
       "<table border=\"1\" class=\"dataframe\">\n",
       "  <thead>\n",
       "    <tr style=\"text-align: right;\">\n",
       "      <th></th>\n",
       "      <th>idx</th>\n",
       "      <th>mtext</th>\n",
       "      <th>m_subject</th>\n",
       "      <th>m_predicate</th>\n",
       "      <th>m_object</th>\n",
       "    </tr>\n",
       "  </thead>\n",
       "  <tbody>\n",
       "    <tr>\n",
       "      <th>3782</th>\n",
       "      <td>16_201</td>\n",
       "      <td>Wizards_at_War | publisher | Harcourt_(publisher)</td>\n",
       "      <td>Wizards_at_War</td>\n",
       "      <td>publisher</td>\n",
       "      <td>Harcourt_(publisher)</td>\n",
       "    </tr>\n",
       "    <tr>\n",
       "      <th>18306</th>\n",
       "      <td>47_9</td>\n",
       "      <td>Jens_Härtel | club | SV_Babelsberg_03</td>\n",
       "      <td>Jens_Härtel</td>\n",
       "      <td>club</td>\n",
       "      <td>SV_Babelsberg_03</td>\n",
       "    </tr>\n",
       "    <tr>\n",
       "      <th>6709</th>\n",
       "      <td>25_46</td>\n",
       "      <td>Spain | leaderName | Felipe_VI_of_Spain</td>\n",
       "      <td>Spain</td>\n",
       "      <td>leaderName</td>\n",
       "      <td>Felipe_VI_of_Spain</td>\n",
       "    </tr>\n",
       "    <tr>\n",
       "      <th>11568</th>\n",
       "      <td>33_174</td>\n",
       "      <td>Adolfo_Suárez_Madrid–Barajas_Airport | locatio...</td>\n",
       "      <td>Adolfo_Suárez_Madrid–Barajas_Airport</td>\n",
       "      <td>location</td>\n",
       "      <td>San_Sebastián_de_los_Reyes</td>\n",
       "    </tr>\n",
       "    <tr>\n",
       "      <th>11408</th>\n",
       "      <td>33_134</td>\n",
       "      <td>Greenville,_Wisconsin | isPartOf | Menasha_(to...</td>\n",
       "      <td>Greenville,_Wisconsin</td>\n",
       "      <td>isPartOf</td>\n",
       "      <td>Menasha_(town),_Wisconsin</td>\n",
       "    </tr>\n",
       "    <tr>\n",
       "      <th>195</th>\n",
       "      <td>0_195</td>\n",
       "      <td>Atlantic_City_International_Airport | operatin...</td>\n",
       "      <td>Atlantic_City_International_Airport</td>\n",
       "      <td>operatingOrganisation</td>\n",
       "      <td>Port_Authority_of_New_York_and_New_Jersey</td>\n",
       "    </tr>\n",
       "    <tr>\n",
       "      <th>4501</th>\n",
       "      <td>19_42</td>\n",
       "      <td>School of Business and Social Sciences at the ...</td>\n",
       "      <td>School of Business and Social Sciences at the ...</td>\n",
       "      <td>numberOfStudents</td>\n",
       "      <td>16000</td>\n",
       "    </tr>\n",
       "    <tr>\n",
       "      <th>837</th>\n",
       "      <td>3_195</td>\n",
       "      <td>Julia_Morgan | significantBuilding | Riverside...</td>\n",
       "      <td>Julia_Morgan</td>\n",
       "      <td>significantBuilding</td>\n",
       "      <td>Riverside_Art_Museum</td>\n",
       "    </tr>\n",
       "    <tr>\n",
       "      <th>13184</th>\n",
       "      <td>36_190</td>\n",
       "      <td>Indonesia | leaderName | Jusuf_Kalla</td>\n",
       "      <td>Indonesia</td>\n",
       "      <td>leaderName</td>\n",
       "      <td>Jusuf_Kalla</td>\n",
       "    </tr>\n",
       "    <tr>\n",
       "      <th>7366</th>\n",
       "      <td>25_211</td>\n",
       "      <td>Beef_kway_teow | region | Singapore</td>\n",
       "      <td>Beef_kway_teow</td>\n",
       "      <td>region</td>\n",
       "      <td>Singapore</td>\n",
       "    </tr>\n",
       "  </tbody>\n",
       "</table>\n",
       "</div>"
      ],
      "text/plain": [
       "          idx                                              mtext  \\\n",
       "3782   16_201  Wizards_at_War | publisher | Harcourt_(publisher)   \n",
       "18306    47_9              Jens_Härtel | club | SV_Babelsberg_03   \n",
       "6709    25_46            Spain | leaderName | Felipe_VI_of_Spain   \n",
       "11568  33_174  Adolfo_Suárez_Madrid–Barajas_Airport | locatio...   \n",
       "11408  33_134  Greenville,_Wisconsin | isPartOf | Menasha_(to...   \n",
       "195     0_195  Atlantic_City_International_Airport | operatin...   \n",
       "4501    19_42  School of Business and Social Sciences at the ...   \n",
       "837     3_195  Julia_Morgan | significantBuilding | Riverside...   \n",
       "13184  36_190               Indonesia | leaderName | Jusuf_Kalla   \n",
       "7366   25_211                Beef_kway_teow | region | Singapore   \n",
       "\n",
       "                                               m_subject  \\\n",
       "3782                                      Wizards_at_War   \n",
       "18306                                        Jens_Härtel   \n",
       "6709                                               Spain   \n",
       "11568               Adolfo_Suárez_Madrid–Barajas_Airport   \n",
       "11408                              Greenville,_Wisconsin   \n",
       "195                  Atlantic_City_International_Airport   \n",
       "4501   School of Business and Social Sciences at the ...   \n",
       "837                                         Julia_Morgan   \n",
       "13184                                          Indonesia   \n",
       "7366                                      Beef_kway_teow   \n",
       "\n",
       "                 m_predicate                                   m_object  \n",
       "3782               publisher                       Harcourt_(publisher)  \n",
       "18306                   club                           SV_Babelsberg_03  \n",
       "6709              leaderName                         Felipe_VI_of_Spain  \n",
       "11568               location                 San_Sebastián_de_los_Reyes  \n",
       "11408               isPartOf                  Menasha_(town),_Wisconsin  \n",
       "195    operatingOrganisation  Port_Authority_of_New_York_and_New_Jersey  \n",
       "4501        numberOfStudents                                      16000  \n",
       "837      significantBuilding                       Riverside_Art_Museum  \n",
       "13184             leaderName                                Jusuf_Kalla  \n",
       "7366                  region                                  Singapore  "
      ]
     },
     "execution_count": 36,
     "metadata": {},
     "output_type": "execute_result"
    }
   ],
   "source": [
    "train_dev.mdf.sample(n=10, random_state=1)"
   ]
  },
  {
   "cell_type": "markdown",
   "metadata": {},
   "source": [
    "And that comma?!"
   ]
  },
  {
   "cell_type": "code",
   "execution_count": 37,
   "metadata": {},
   "outputs": [
    {
     "data": {
      "text/plain": [
       "Triple info: {'category': 'Airport', 'eid': 'Id135', 'idx': '33_134', 'ntriples': 4}\n",
       "\n",
       "\tModified triples:\n",
       "\n",
       "Appleton_International_Airport | location | Greenville,_Wisconsin\n",
       "Greenville,_Wisconsin | isPartOf | Ellington,_Wisconsin\n",
       "Greenville,_Wisconsin | isPartOf | Menasha_(town),_Wisconsin\n",
       "Appleton_International_Airport | cityServed | Appleton,_Wisconsin\n",
       "\n",
       "\n",
       "\tLexicalizations:\n",
       "\n",
       "Part of both Ellington, and the town of Menasha, Appleton, Wisconsin is a city which is served by Appleton International Airport.\n",
       "Greenville, Wisconsin, a part of Ellington and the town of Menasha, is home to the Appleton International Airport. The city of Appleton, Wisconsin, is served by the Appleton International Airport.\n",
       "Appleton International airport serves the city of Appleton in Greenville, Wisconsin. Both Ellington and Menasha (town) are parts of Greenville."
      ]
     },
     "execution_count": 37,
     "metadata": {},
     "output_type": "execute_result"
    }
   ],
   "source": [
    "train_dev.sample(idx='33_134')"
   ]
  },
  {
   "cell_type": "markdown",
   "metadata": {},
   "source": [
    "Well, it looks like it's lexicalizad as it is... Let's see other examples"
   ]
  },
  {
   "cell_type": "code",
   "execution_count": 44,
   "metadata": {},
   "outputs": [
    {
     "data": {
      "text/plain": [
       "Triple info: {'category': 'Airport', 'eid': 'Id90', 'idx': '10_89', 'ntriples': 2}\n",
       "\n",
       "\tModified triples:\n",
       "\n",
       "Allama_Iqbal_International_Airport | location | Punjab,_Pakistan\n",
       "Punjab,_Pakistan | leaderTitle | Provincial_Assembly_of_the_Punjab\n",
       "\n",
       "\n",
       "\tLexicalizations:\n",
       "\n",
       "Allama Iqbal International Airport is located in Punjab, Pakistan, which is led by the Provincial Assembly of the Punjab.\n",
       "Punjab, Pakistan, led by the Provincial Assembly, is the location of Allama Iqbal International Airport.\n",
       "Allama Iqbal International Airport is located in Punjab, Pakistan which is led by the Provincial Assembly of the Punjab."
      ]
     },
     "execution_count": 44,
     "metadata": {},
     "output_type": "execute_result"
    }
   ],
   "source": [
    "examples = train_dev.mdf[train_dev.mdf.m_subject.str.match('.*,.*')].sample(n=10, random_state=123).idx\n",
    "\n",
    "train_dev.sample(idx=examples.iloc[0])"
   ]
  },
  {
   "cell_type": "markdown",
   "metadata": {},
   "source": [
    "Well, it seens it's lexicalized as it is"
   ]
  },
  {
   "cell_type": "markdown",
   "metadata": {},
   "source": [
    "More examples"
   ]
  },
  {
   "cell_type": "code",
   "execution_count": null,
   "metadata": {},
   "outputs": [],
   "source": [
    "'Balder_(comicsCharacter)'"
   ]
  },
  {
   "cell_type": "code",
   "execution_count": 45,
   "metadata": {},
   "outputs": [
    {
     "data": {
      "text/html": [
       "<div>\n",
       "<style scoped>\n",
       "    .dataframe tbody tr th:only-of-type {\n",
       "        vertical-align: middle;\n",
       "    }\n",
       "\n",
       "    .dataframe tbody tr th {\n",
       "        vertical-align: top;\n",
       "    }\n",
       "\n",
       "    .dataframe thead th {\n",
       "        text-align: right;\n",
       "    }\n",
       "</style>\n",
       "<table border=\"1\" class=\"dataframe\">\n",
       "  <thead>\n",
       "    <tr style=\"text-align: right;\">\n",
       "      <th></th>\n",
       "      <th>idx</th>\n",
       "      <th>mtext</th>\n",
       "      <th>m_subject</th>\n",
       "      <th>m_predicate</th>\n",
       "      <th>m_object</th>\n",
       "    </tr>\n",
       "  </thead>\n",
       "  <tbody>\n",
       "    <tr>\n",
       "      <th>632</th>\n",
       "      <td>2_88</td>\n",
       "      <td>Roy_Thomas | award | Alley_Award</td>\n",
       "      <td>Roy_Thomas</td>\n",
       "      <td>award</td>\n",
       "      <td>Alley_Award</td>\n",
       "    </tr>\n",
       "    <tr>\n",
       "      <th>15587</th>\n",
       "      <td>40_93</td>\n",
       "      <td>Punjab,_Pakistan | country | Pakistan</td>\n",
       "      <td>Punjab,_Pakistan</td>\n",
       "      <td>country</td>\n",
       "      <td>Pakistan</td>\n",
       "    </tr>\n",
       "    <tr>\n",
       "      <th>21855</th>\n",
       "      <td>85_2</td>\n",
       "      <td>United_Kingdom | leaderName | Elizabeth_II</td>\n",
       "      <td>United_Kingdom</td>\n",
       "      <td>leaderName</td>\n",
       "      <td>Elizabeth_II</td>\n",
       "    </tr>\n",
       "    <tr>\n",
       "      <th>17853</th>\n",
       "      <td>45_125</td>\n",
       "      <td>Mason_School_of_Business | country | United_St...</td>\n",
       "      <td>Mason_School_of_Business</td>\n",
       "      <td>country</td>\n",
       "      <td>United_States</td>\n",
       "    </tr>\n",
       "    <tr>\n",
       "      <th>18834</th>\n",
       "      <td>48_15</td>\n",
       "      <td>Balder_(comicsCharacter) | alternativeName | \"...</td>\n",
       "      <td>Balder_(comicsCharacter)</td>\n",
       "      <td>alternativeName</td>\n",
       "      <td>\"Balder Odinson\"</td>\n",
       "    </tr>\n",
       "    <tr>\n",
       "      <th>12195</th>\n",
       "      <td>35_37</td>\n",
       "      <td>14th_New_Jersey_Volunteer_Infantry_Monument | ...</td>\n",
       "      <td>14th_New_Jersey_Volunteer_Infantry_Monument</td>\n",
       "      <td>category</td>\n",
       "      <td>Historic_districts_in_the_United_States</td>\n",
       "    </tr>\n",
       "    <tr>\n",
       "      <th>16884</th>\n",
       "      <td>43_158</td>\n",
       "      <td>Bakso | ingredient | Celery</td>\n",
       "      <td>Bakso</td>\n",
       "      <td>ingredient</td>\n",
       "      <td>Celery</td>\n",
       "    </tr>\n",
       "    <tr>\n",
       "      <th>13387</th>\n",
       "      <td>36_230</td>\n",
       "      <td>Spain | ethnicGroup | Spaniards</td>\n",
       "      <td>Spain</td>\n",
       "      <td>ethnicGroup</td>\n",
       "      <td>Spaniards</td>\n",
       "    </tr>\n",
       "    <tr>\n",
       "      <th>4572</th>\n",
       "      <td>19_52</td>\n",
       "      <td>Acharya_Institute_of_Technology | numberOfPost...</td>\n",
       "      <td>Acharya_Institute_of_Technology</td>\n",
       "      <td>numberOfPostgraduateStudents</td>\n",
       "      <td>700</td>\n",
       "    </tr>\n",
       "    <tr>\n",
       "      <th>15455</th>\n",
       "      <td>40_67</td>\n",
       "      <td>United_States_Air_Force | transportAircraft | ...</td>\n",
       "      <td>United_States_Air_Force</td>\n",
       "      <td>transportAircraft</td>\n",
       "      <td>Boeing_C-17_Globemaster_III</td>\n",
       "    </tr>\n",
       "  </tbody>\n",
       "</table>\n",
       "</div>"
      ],
      "text/plain": [
       "          idx                                              mtext  \\\n",
       "632      2_88                   Roy_Thomas | award | Alley_Award   \n",
       "15587   40_93              Punjab,_Pakistan | country | Pakistan   \n",
       "21855    85_2         United_Kingdom | leaderName | Elizabeth_II   \n",
       "17853  45_125  Mason_School_of_Business | country | United_St...   \n",
       "18834   48_15  Balder_(comicsCharacter) | alternativeName | \"...   \n",
       "12195   35_37  14th_New_Jersey_Volunteer_Infantry_Monument | ...   \n",
       "16884  43_158                        Bakso | ingredient | Celery   \n",
       "13387  36_230                    Spain | ethnicGroup | Spaniards   \n",
       "4572    19_52  Acharya_Institute_of_Technology | numberOfPost...   \n",
       "15455   40_67  United_States_Air_Force | transportAircraft | ...   \n",
       "\n",
       "                                         m_subject  \\\n",
       "632                                     Roy_Thomas   \n",
       "15587                             Punjab,_Pakistan   \n",
       "21855                               United_Kingdom   \n",
       "17853                     Mason_School_of_Business   \n",
       "18834                     Balder_(comicsCharacter)   \n",
       "12195  14th_New_Jersey_Volunteer_Infantry_Monument   \n",
       "16884                                        Bakso   \n",
       "13387                                        Spain   \n",
       "4572               Acharya_Institute_of_Technology   \n",
       "15455                      United_States_Air_Force   \n",
       "\n",
       "                        m_predicate                                 m_object  \n",
       "632                           award                              Alley_Award  \n",
       "15587                       country                                 Pakistan  \n",
       "21855                    leaderName                             Elizabeth_II  \n",
       "17853                       country                            United_States  \n",
       "18834               alternativeName                         \"Balder Odinson\"  \n",
       "12195                      category  Historic_districts_in_the_United_States  \n",
       "16884                    ingredient                                   Celery  \n",
       "13387                   ethnicGroup                                Spaniards  \n",
       "4572   numberOfPostgraduateStudents                                      700  \n",
       "15455             transportAircraft              Boeing_C-17_Globemaster_III  "
      ]
     },
     "execution_count": 45,
     "metadata": {},
     "output_type": "execute_result"
    }
   ],
   "source": [
    "train_dev.mdf.sample(n=10, random_state=2)"
   ]
  }
 ],
 "metadata": {
  "kernelspec": {
   "display_name": "Python 3",
   "language": "python",
   "name": "python3"
  },
  "language_info": {
   "codemirror_mode": {
    "name": "ipython",
    "version": 3
   },
   "file_extension": ".py",
   "mimetype": "text/x-python",
   "name": "python",
   "nbconvert_exporter": "python",
   "pygments_lexer": "ipython3",
   "version": "3.6.5"
  }
 },
 "nbformat": 4,
 "nbformat_minor": 2
}
