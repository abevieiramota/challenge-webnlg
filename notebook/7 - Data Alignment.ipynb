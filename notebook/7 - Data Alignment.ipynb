{
 "cells": [
  {
   "cell_type": "code",
   "execution_count": 2,
   "metadata": {},
   "outputs": [],
   "source": [
    "import os\n",
    "\n",
    "os.sys.path.insert(0, '../script')\n",
    "from webnlg import WebNLGCorpus"
   ]
  },
  {
   "cell_type": "code",
   "execution_count": 8,
   "metadata": {},
   "outputs": [],
   "source": [
    "from data_alignment import RootDataAlignmentModel, NGramDataAlignmentModel, SPODataAlignmentModel\n",
    "from textacy import similarity\n",
    "import spacy\n",
    "from spacy import displacy\n",
    "import logging\n",
    "\n",
    "for clazz in [RootDataAlignmentModel, NGramDataAlignmentModel, SPODataAlignmentModel]:\n",
    "\n",
    "    logger = logging.getLogger(clazz.__name__)\n",
    "    handler = logging.StreamHandler()\n",
    "    handler.setFormatter(logging.Formatter('%(asctime)s - %(name)s - %(levelname)s - %(message)s'))\n",
    "    logger.addHandler(handler)\n",
    "    logger.setLevel(logging.DEBUG)"
   ]
  },
  {
   "cell_type": "code",
   "execution_count": 9,
   "metadata": {},
   "outputs": [],
   "source": [
    "nlp = spacy.load('en_core_web_lg')"
   ]
  },
  {
   "cell_type": "code",
   "execution_count": 5,
   "metadata": {},
   "outputs": [
    {
     "name": "stderr",
     "output_type": "stream",
     "text": [
      "2018-12-14 19:19:16,999 - RootDataAlignmentModel - DEBUG - Initialized with similarity_metric [<function jaro_winkler at 0x7f09f15f61e0>], nlp = [<spacy.lang.en.English object at 0x7f0a283ed358>]\n",
      "2018-12-14 19:19:17,027 - RootDataAlignmentModel - DEBUG - Aligning [Abelardo Vieira Mota is eating apple] with [{'subject': 'Abelardo Vieira Mota', 'predicate': 'eat', 'object': 'apple'}]\n",
      "2018-12-14 19:19:17,040 - RootDataAlignmentModel - DEBUG - similarities \n",
      "{'subject': [(Abelardo Vieira Mota, 1.0), (Mota, 0.43333333333333335), (is, 0.0), (apple, 0.3333333333333333), (Abelardo, 0.96), (Vieira, 0.4388888888888889)], 'predicate': [(Abelardo Vieira Mota, 0.4611111111111111), (Mota, 0.5555555555555555), (is, 0.0), (apple, 0.5111111111111111), (Abelardo, 0.4861111111111111), (Vieira, 0.5)], 'object': [(Abelardo Vieira Mota, 0.3333333333333333), (Mota, 0.0), (is, 0.0), (apple, 1.0), (Abelardo, 0.3833333333333333), (Vieira, 0.45555555555555555)]}\n",
      "2018-12-14 19:19:17,042 - RootDataAlignmentModel - DEBUG - Selected subject_span [Abelardo Vieira Mota] with similarity [1.0] for [Abelardo Vieira Mota]\n",
      "2018-12-14 19:19:17,054 - RootDataAlignmentModel - DEBUG - Selected object_span [apple] with similarity [1.0] for [apple]\n"
     ]
    },
    {
     "data": {
      "text/html": [
       "<div class=\"entities\" style=\"line-height: 2.5\">\n",
       "<mark class=\"entity\" style=\"background: #ddd; padding: 0.45em 0.6em; margin: 0 0.25em; line-height: 1; border-radius: 0.35em; box-decoration-break: clone; -webkit-box-decoration-break: clone\">\n",
       "    Abelardo Vieira Mota\n",
       "    <span style=\"font-size: 0.8em; font-weight: bold; line-height: 1; border-radius: 0.35em; text-transform: uppercase; vertical-align: middle; margin-left: 0.5rem\">subject</span>\n",
       "</mark>\n",
       " is eating \n",
       "<mark class=\"entity\" style=\"background: #ddd; padding: 0.45em 0.6em; margin: 0 0.25em; line-height: 1; border-radius: 0.35em; box-decoration-break: clone; -webkit-box-decoration-break: clone\">\n",
       "    apple\n",
       "    <span style=\"font-size: 0.8em; font-weight: bold; line-height: 1; border-radius: 0.35em; text-transform: uppercase; vertical-align: middle; margin-left: 0.5rem\">object</span>\n",
       "</mark>\n",
       "</div>"
      ],
      "text/plain": [
       "<IPython.core.display.HTML object>"
      ]
     },
     "metadata": {},
     "output_type": "display_data"
    }
   ],
   "source": [
    "rda = RootDataAlignmentModel(similarity.jaro_winkler, nlp)\n",
    "rda.render_aligned('Abelardo Vieira Mota is eating apple',\n",
    "                   {\n",
    "                        'subject': 'Abelardo Vieira Mota',\n",
    "                        'predicate': 'eat',\n",
    "                        'object': 'apple'\n",
    "                   })"
   ]
  },
  {
   "cell_type": "code",
   "execution_count": 6,
   "metadata": {},
   "outputs": [
    {
     "name": "stderr",
     "output_type": "stream",
     "text": [
      "2018-12-14 19:19:22,941 - NGramDataAlignmentModel - DEBUG - Initialized with similarity_metric [<function jaccard at 0x7f09f15f6048>], max_n = [4]\n",
      "2018-12-14 19:19:22,973 - NGramDataAlignmentModel - DEBUG - Similarities from subject [(Abelardo, (Abelardo, 0.6153846153846154)), (Vieira, (Vieira, 0.38461538461538464)), (Mota, (Mota, 0.3076923076923077)), (is, (is, 0.07142857142857142)), (eating, (eating, 0.26666666666666666)), (apple, (apple, 0.21428571428571427)), (Abelardo Vieira, (Abelardo Vieira, 0.8461538461538461)), (Vieira Mota, (Vieira Mota, 0.6923076923076923)), (Mota is, (Mota is, 0.42857142857142855)), (is eating, (is eating, 0.3125)), (eating apple, (eating apple, 0.375)), (Abelardo Vieira Mota, (Abelardo Vieira Mota, 1.0)), (Vieira Mota is, (Vieira Mota is, 0.6428571428571429)), (Mota is eating, (Mota is eating, 0.4375)), (is eating apple, (is eating apple, 0.35294117647058826)), (Abelardo Vieira Mota is, (Abelardo Vieira Mota is, 0.9285714285714286)), (Vieira Mota is eating, (Vieira Mota is eating, 0.5625)), (Mota is eating apple, (Mota is eating apple, 0.47058823529411764))]\n",
      "2018-12-14 19:19:22,975 - NGramDataAlignmentModel - DEBUG - Selected subject_span [Abelardo Vieira Mota] with similarity [1.0] for [Abelardo Vieira Mota]\n",
      "2018-12-14 19:19:22,976 - NGramDataAlignmentModel - DEBUG - Similarities from object [(Abelardo, (Abelardo, 0.3333333333333333)), (Vieira, (Vieira, 0.2857142857142857)), (Mota, (Mota, 0.14285714285714285)), (is, (is, 0.0)), (eating, (eating, 0.25)), (apple, (apple, 1.0)), (Abelardo Vieira, (Abelardo Vieira, 0.25)), (Vieira Mota, (Vieira Mota, 0.18181818181818182)), (Mota is, (Mota is, 0.1)), (is eating, (is eating, 0.2)), (eating apple, (eating apple, 0.4444444444444444)), (Abelardo Vieira Mota, (Abelardo Vieira Mota, 0.21428571428571427)), (Vieira Mota is, (Vieira Mota is, 0.16666666666666666)), (Mota is eating, (Mota is eating, 0.16666666666666666)), (is eating apple, (is eating apple, 0.4)), (Abelardo Vieira Mota is, (Abelardo Vieira Mota is, 0.2)), (Vieira Mota is eating, (Vieira Mota is eating, 0.14285714285714285)), (Mota is eating apple, (Mota is eating apple, 0.3333333333333333))]\n",
      "2018-12-14 19:19:22,979 - NGramDataAlignmentModel - DEBUG - Selected object_span [apple] with similarity [1.0] for [apple]\n"
     ]
    },
    {
     "data": {
      "text/html": [
       "<div class=\"entities\" style=\"line-height: 2.5\">\n",
       "<mark class=\"entity\" style=\"background: #ddd; padding: 0.45em 0.6em; margin: 0 0.25em; line-height: 1; border-radius: 0.35em; box-decoration-break: clone; -webkit-box-decoration-break: clone\">\n",
       "    Abelardo Vieira Mota\n",
       "    <span style=\"font-size: 0.8em; font-weight: bold; line-height: 1; border-radius: 0.35em; text-transform: uppercase; vertical-align: middle; margin-left: 0.5rem\">subject</span>\n",
       "</mark>\n",
       " is eating \n",
       "<mark class=\"entity\" style=\"background: #ddd; padding: 0.45em 0.6em; margin: 0 0.25em; line-height: 1; border-radius: 0.35em; box-decoration-break: clone; -webkit-box-decoration-break: clone\">\n",
       "    apple\n",
       "    <span style=\"font-size: 0.8em; font-weight: bold; line-height: 1; border-radius: 0.35em; text-transform: uppercase; vertical-align: middle; margin-left: 0.5rem\">object</span>\n",
       "</mark>\n",
       "</div>"
      ],
      "text/plain": [
       "<IPython.core.display.HTML object>"
      ]
     },
     "metadata": {},
     "output_type": "display_data"
    }
   ],
   "source": [
    "nda = NGramDataAlignmentModel(similarity_metric=similarity.jaccard, nlp=nlp)\n",
    "nda.render_aligned('Abelardo Vieira Mota is eating apple',\n",
    "                   {\n",
    "                        'subject': 'Abelardo Vieira Mota',\n",
    "                        'predicate': 'eat',\n",
    "                        'object': 'apple'\n",
    "                   })"
   ]
  },
  {
   "cell_type": "code",
   "execution_count": 7,
   "metadata": {},
   "outputs": [
    {
     "name": "stderr",
     "output_type": "stream",
     "text": [
      "2018-12-14 19:19:28,118 - SPODataAlignmentModel - DEBUG - Identified subject = [Abelardo Vieira Mota], predicate = [is eating], object = [apple]\n"
     ]
    },
    {
     "data": {
      "text/html": [
       "<div class=\"entities\" style=\"line-height: 2.5\">\n",
       "<mark class=\"entity\" style=\"background: #ddd; padding: 0.45em 0.6em; margin: 0 0.25em; line-height: 1; border-radius: 0.35em; box-decoration-break: clone; -webkit-box-decoration-break: clone\">\n",
       "    Abelardo Vieira Mota\n",
       "    <span style=\"font-size: 0.8em; font-weight: bold; line-height: 1; border-radius: 0.35em; text-transform: uppercase; vertical-align: middle; margin-left: 0.5rem\">subject</span>\n",
       "</mark>\n",
       " is eating \n",
       "<mark class=\"entity\" style=\"background: #ddd; padding: 0.45em 0.6em; margin: 0 0.25em; line-height: 1; border-radius: 0.35em; box-decoration-break: clone; -webkit-box-decoration-break: clone\">\n",
       "    apple\n",
       "    <span style=\"font-size: 0.8em; font-weight: bold; line-height: 1; border-radius: 0.35em; text-transform: uppercase; vertical-align: middle; margin-left: 0.5rem\">object</span>\n",
       "</mark>\n",
       "</div>"
      ],
      "text/plain": [
       "<IPython.core.display.HTML object>"
      ]
     },
     "metadata": {},
     "output_type": "display_data"
    }
   ],
   "source": [
    "spo = SPODataAlignmentModel(nlp=nlp)\n",
    "spo.render_aligned('Abelardo Vieira Mota is eating apple',\n",
    "                   {\n",
    "                        'subject': 'Abelardo Vieira Mota',\n",
    "                        'predicate': 'eat',\n",
    "                        'object': 'apple'\n",
    "                   })"
   ]
  },
  {
   "cell_type": "code",
   "execution_count": null,
   "metadata": {},
   "outputs": [],
   "source": []
  }
 ],
 "metadata": {
  "kernelspec": {
   "display_name": "Python 3",
   "language": "python",
   "name": "python3"
  },
  "language_info": {
   "codemirror_mode": {
    "name": "ipython",
    "version": 3
   },
   "file_extension": ".py",
   "mimetype": "text/x-python",
   "name": "python",
   "nbconvert_exporter": "python",
   "pygments_lexer": "ipython3",
   "version": "3.6.7"
  }
 },
 "nbformat": 4,
 "nbformat_minor": 2
}
