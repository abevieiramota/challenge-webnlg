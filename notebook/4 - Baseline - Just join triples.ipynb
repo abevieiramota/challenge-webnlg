{
 "cells": [
  {
   "cell_type": "markdown",
   "metadata": {},
   "source": [
    "# Let's generate the baseline"
   ]
  },
  {
   "cell_type": "code",
   "execution_count": 1,
   "metadata": {},
   "outputs": [],
   "source": [
    "%run ../script/webnlg.py\n",
    "import pandas as pd\n",
    "\n",
    "pd.set_option('max_colwidth', 100)\n",
    "\n",
    "test = WebNLGCorpus.load(\"test_with_lex\")"
   ]
  },
  {
   "cell_type": "code",
   "execution_count": 57,
   "metadata": {},
   "outputs": [],
   "source": [
    "def join_triples(g):\n",
    "    \n",
    "    return ' '.join(g.mtext.str.replace('[|_\"]', ' ').str.replace(r'\\s+', ' ').tolist())\n",
    "\n",
    "baseline = test.mdf.groupby('idx').apply(join_triples).to_frame().reset_index()\n",
    "baseline.rename(columns={0: 'text'}, inplace=True)\n",
    "baseline['id'] = baseline.idx.str.split('_').apply(lambda v: v[1]).astype('int')"
   ]
  },
  {
   "cell_type": "code",
   "execution_count": 58,
   "metadata": {},
   "outputs": [
    {
     "data": {
      "text/html": [
       "<div>\n",
       "<style scoped>\n",
       "    .dataframe tbody tr th:only-of-type {\n",
       "        vertical-align: middle;\n",
       "    }\n",
       "\n",
       "    .dataframe tbody tr th {\n",
       "        vertical-align: top;\n",
       "    }\n",
       "\n",
       "    .dataframe thead th {\n",
       "        text-align: right;\n",
       "    }\n",
       "</style>\n",
       "<table border=\"1\" class=\"dataframe\">\n",
       "  <thead>\n",
       "    <tr style=\"text-align: right;\">\n",
       "      <th></th>\n",
       "      <th>idx</th>\n",
       "      <th>text</th>\n",
       "      <th>id</th>\n",
       "    </tr>\n",
       "  </thead>\n",
       "  <tbody>\n",
       "    <tr>\n",
       "      <th>0</th>\n",
       "      <td>0_0</td>\n",
       "      <td>Abilene Regional Airport cityServed Abilene, Texas</td>\n",
       "      <td>0</td>\n",
       "    </tr>\n",
       "    <tr>\n",
       "      <th>1</th>\n",
       "      <td>0_1</td>\n",
       "      <td>Adolfo Suárez Madrid–Barajas Airport location Madrid, Paracuellos de Jarama, San Sebastián de lo...</td>\n",
       "      <td>1</td>\n",
       "    </tr>\n",
       "    <tr>\n",
       "      <th>2</th>\n",
       "      <td>0_10</td>\n",
       "      <td>Amsterdam Airport Schiphol 5th runway SurfaceType Asphalt</td>\n",
       "      <td>10</td>\n",
       "    </tr>\n",
       "    <tr>\n",
       "      <th>3</th>\n",
       "      <td>0_100</td>\n",
       "      <td>A.D. Isidro Metapán league Salvadoran Primera División</td>\n",
       "      <td>100</td>\n",
       "    </tr>\n",
       "    <tr>\n",
       "      <th>4</th>\n",
       "      <td>0_1000</td>\n",
       "      <td>Alfons Gorbach deathPlace Austria</td>\n",
       "      <td>1000</td>\n",
       "    </tr>\n",
       "  </tbody>\n",
       "</table>\n",
       "</div>"
      ],
      "text/plain": [
       "      idx  \\\n",
       "0     0_0   \n",
       "1     0_1   \n",
       "2    0_10   \n",
       "3   0_100   \n",
       "4  0_1000   \n",
       "\n",
       "                                                                                                  text  \\\n",
       "0                                                   Abilene Regional Airport cityServed Abilene, Texas   \n",
       "1  Adolfo Suárez Madrid–Barajas Airport location Madrid, Paracuellos de Jarama, San Sebastián de lo...   \n",
       "2                                           Amsterdam Airport Schiphol 5th runway SurfaceType Asphalt    \n",
       "3                                               A.D. Isidro Metapán league Salvadoran Primera División   \n",
       "4                                                                    Alfons Gorbach deathPlace Austria   \n",
       "\n",
       "     id  \n",
       "0     0  \n",
       "1     1  \n",
       "2    10  \n",
       "3   100  \n",
       "4  1000  "
      ]
     },
     "execution_count": 58,
     "metadata": {},
     "output_type": "execute_result"
    }
   ],
   "source": [
    "baseline.head()"
   ]
  },
  {
   "cell_type": "code",
   "execution_count": 59,
   "metadata": {},
   "outputs": [],
   "source": [
    "import codecs\n",
    "\n",
    "with codecs.open('models/baseline/output.txt', 'w', 'utf-8') as f:\n",
    "    \n",
    "    for _, text in baseline.sort_values('id').text.iteritems():\n",
    "        \n",
    "        f.write(text)\n",
    "        f.write('\\n')"
   ]
  },
  {
   "cell_type": "code",
   "execution_count": 1,
   "metadata": {},
   "outputs": [
    {
     "name": "stdout",
     "output_type": "stream",
     "text": [
      "Abilene Regional Airport cityServed Abilene, Texas\r\n",
      "Adolfo Suárez Madrid–Barajas Airport location Madrid, Paracuellos de Jarama, San Sebastián de los Reyes and Alcobendas \r\n",
      "Adolfo Suárez Madrid–Barajas Airport runwayName 18L/36R \r\n",
      "Afonso Pena International Airport ICAO Location Identifier SBCT \r\n",
      "Afonso Pena International Airport cityServed Curitiba\r\n",
      "Al-Taqaddum Air Base cityServed Fallujah\r\n",
      "Al-Taqaddum Air Base runwayLength 3684.0\r\n",
      "Alderney Airport runwayName 14/32 \r\n",
      "Allama Iqbal International Airport runwayLength 3360.12\r\n",
      "Amsterdam Airport Schiphol 1st runway Number 18\r\n"
     ]
    }
   ],
   "source": [
    "!head models/baseline/output.txt"
   ]
  },
  {
   "cell_type": "code",
   "execution_count": 3,
   "metadata": {},
   "outputs": [
    {
     "name": "stdout",
     "output_type": "stream",
     "text": [
      "Files creating finished for:  baseline\n"
     ]
    }
   ],
   "source": [
    "!python ../evaluation/webnlg2017/webnlg-automatic-evaluation-v2/evaluation_v2.py --team_name baseline --team_filepath models/baseline/output.txt --outdir models/baseline/"
   ]
  },
  {
   "cell_type": "code",
   "execution_count": 4,
   "metadata": {},
   "outputs": [
    {
     "name": "stdout",
     "output_type": "stream",
     "text": [
      "BLEU = 23.56, 61.2/34.8/19.6/11.4 (BP=0.896, ratio=0.901, hyp_len=36820, ref_len=40883)\n"
     ]
    }
   ],
   "source": [
    "!../evaluation/webnlg2017/webnlg-baseline-master/multi-bleu.perl -lc ../evaluation/webnlg2017/webnlg-automatic-evaluation/references/gold-all-cat-reference0.lex ../evaluation/webnlg2017/webnlg-automatic-evaluation/references/gold-all-cat-reference1.lex ../evaluation/webnlg2017/webnlg-automatic-evaluation/references/gold-all-cat-reference2.lex < models/baseline/baseline_all-cat.txt"
   ]
  }
 ],
 "metadata": {
  "kernelspec": {
   "display_name": "Python 3",
   "language": "python",
   "name": "python3"
  },
  "language_info": {
   "codemirror_mode": {
    "name": "ipython",
    "version": 3
   },
   "file_extension": ".py",
   "mimetype": "text/x-python",
   "name": "python",
   "nbconvert_exporter": "python",
   "pygments_lexer": "ipython3",
   "version": "3.6.5"
  }
 },
 "nbformat": 4,
 "nbformat_minor": 2
}
