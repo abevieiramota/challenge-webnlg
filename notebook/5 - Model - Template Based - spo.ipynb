{
 "cells": [
  {
   "cell_type": "code",
   "execution_count": 4,
   "metadata": {},
   "outputs": [],
   "source": [
    "import spacy\n",
    "\n",
    "nlp = spacy.load('en_core_web_lg')"
   ]
  },
  {
   "cell_type": "code",
   "execution_count": 187,
   "metadata": {},
   "outputs": [
    {
     "name": "stdout",
     "output_type": "stream",
     "text": [
      "subject Eleanor Rigby\n",
      "verb picks up\n",
      "object the rice\n"
     ]
    }
   ],
   "source": [
    "doc = nlp('Eleanor Rigby picks up the rice in the church')\n",
    "\n",
    "for node in doc:\n",
    "    \n",
    "    if node.dep_ == 'nsubj':\n",
    "        \n",
    "        print('subject', get_span(doc, node))\n",
    "        \n",
    "    if node.pos_ == 'VERB':\n",
    "        \n",
    "        \n",
    "        prt_children = [c for c in node.children if c.dep_ == 'prt']\\\n",
    "        [0]\n",
    "        \n",
    "        if prt_children.i < node.i:\n",
    "            \n",
    "            s, e = prt_children.i, node.i\n",
    "        else:\n",
    "            s, e = node.i, prt_children.i\n",
    "            \n",
    "        print('verb', doc[s: e + 1])\n",
    "        \n",
    "    if node.dep_ == 'dobj':\n",
    "        \n",
    "        det_children = [c for c in node.children if c.dep_ == 'det']\\\n",
    "        [0]\n",
    "        \n",
    "        if det_children.i < node.i:\n",
    "            \n",
    "            s, e = det_children.i, node.i\n",
    "        else:\n",
    "            s, e = node.i, det_children.i\n",
    "            \n",
    "        print('object', doc[s: e + 1])"
   ]
  },
  {
   "cell_type": "code",
   "execution_count": 191,
   "metadata": {},
   "outputs": [],
   "source": [
    "%run ../script/webnlg.py\n",
    "\n",
    "train = WebNLGCorpus.load('train')\n",
    "\n",
    "train_1 = train.subset(ntriples=1)"
   ]
  },
  {
   "cell_type": "code",
   "execution_count": 193,
   "metadata": {},
   "outputs": [],
   "source": [
    "s = train_1.sample()"
   ]
  },
  {
   "cell_type": "code",
   "execution_count": 194,
   "metadata": {},
   "outputs": [
    {
     "data": {
      "text/html": [
       "<div>\n",
       "<style scoped>\n",
       "    .dataframe tbody tr th:only-of-type {\n",
       "        vertical-align: middle;\n",
       "    }\n",
       "\n",
       "    .dataframe tbody tr th {\n",
       "        vertical-align: top;\n",
       "    }\n",
       "\n",
       "    .dataframe thead th {\n",
       "        text-align: right;\n",
       "    }\n",
       "</style>\n",
       "<table border=\"1\" class=\"dataframe\">\n",
       "  <thead>\n",
       "    <tr style=\"text-align: right;\">\n",
       "      <th></th>\n",
       "      <th>comment</th>\n",
       "      <th>idx</th>\n",
       "      <th>lid</th>\n",
       "      <th>ltext</th>\n",
       "    </tr>\n",
       "  </thead>\n",
       "  <tbody>\n",
       "    <tr>\n",
       "      <th>2509</th>\n",
       "      <td>good</td>\n",
       "      <td>4_189</td>\n",
       "      <td>Id1</td>\n",
       "      <td>The United States is the country of origin of Lippincott, Williams &amp; Wilkins.</td>\n",
       "    </tr>\n",
       "    <tr>\n",
       "      <th>2510</th>\n",
       "      <td>good</td>\n",
       "      <td>4_189</td>\n",
       "      <td>Id2</td>\n",
       "      <td>Lippincott, Williams, and Wilkins is located in the United States.</td>\n",
       "    </tr>\n",
       "    <tr>\n",
       "      <th>2511</th>\n",
       "      <td>good</td>\n",
       "      <td>4_189</td>\n",
       "      <td>Id3</td>\n",
       "      <td>Lippincott Williams &amp; Wilkins are from the United States.</td>\n",
       "    </tr>\n",
       "  </tbody>\n",
       "</table>\n",
       "</div>"
      ],
      "text/plain": [
       "     comment    idx  lid  \\\n",
       "2509    good  4_189  Id1   \n",
       "2510    good  4_189  Id2   \n",
       "2511    good  4_189  Id3   \n",
       "\n",
       "                                                                              ltext  \n",
       "2509  The United States is the country of origin of Lippincott, Williams & Wilkins.  \n",
       "2510             Lippincott, Williams, and Wilkins is located in the United States.  \n",
       "2511                      Lippincott Williams & Wilkins are from the United States.  "
      ]
     },
     "execution_count": 194,
     "metadata": {},
     "output_type": "execute_result"
    }
   ],
   "source": [
    "s.ldf"
   ]
  },
  {
   "cell_type": "code",
   "execution_count": 195,
   "metadata": {},
   "outputs": [
    {
     "data": {
      "text/html": [
       "<div>\n",
       "<style scoped>\n",
       "    .dataframe tbody tr th:only-of-type {\n",
       "        vertical-align: middle;\n",
       "    }\n",
       "\n",
       "    .dataframe tbody tr th {\n",
       "        vertical-align: top;\n",
       "    }\n",
       "\n",
       "    .dataframe thead th {\n",
       "        text-align: right;\n",
       "    }\n",
       "</style>\n",
       "<table border=\"1\" class=\"dataframe\">\n",
       "  <thead>\n",
       "    <tr style=\"text-align: right;\">\n",
       "      <th></th>\n",
       "      <th>idx</th>\n",
       "      <th>mtext</th>\n",
       "      <th>m_subject</th>\n",
       "      <th>m_predicate</th>\n",
       "      <th>m_object</th>\n",
       "    </tr>\n",
       "  </thead>\n",
       "  <tbody>\n",
       "    <tr>\n",
       "      <th>1067</th>\n",
       "      <td>4_189</td>\n",
       "      <td>Lippincott_Williams_&amp;_Wilkins | country | United_States</td>\n",
       "      <td>Lippincott_Williams_&amp;_Wilkins</td>\n",
       "      <td>country</td>\n",
       "      <td>United_States</td>\n",
       "    </tr>\n",
       "  </tbody>\n",
       "</table>\n",
       "</div>"
      ],
      "text/plain": [
       "        idx                                                    mtext  \\\n",
       "1067  4_189  Lippincott_Williams_&_Wilkins | country | United_States   \n",
       "\n",
       "                          m_subject m_predicate       m_object  \n",
       "1067  Lippincott_Williams_&_Wilkins     country  United_States  "
      ]
     },
     "execution_count": 195,
     "metadata": {},
     "output_type": "execute_result"
    }
   ],
   "source": [
    "s.mdf"
   ]
  },
  {
   "cell_type": "code",
   "execution_count": 199,
   "metadata": {},
   "outputs": [
    {
     "name": "stdout",
     "output_type": "stream",
     "text": [
      "The United States is the country of origin of Lippincott, Williams & Wilkins.\n",
      "is\n",
      "Lippincott, Williams, and Wilkins is located in the United States.\n",
      "located\n",
      "Lippincott Williams & Wilkins are from the United States.\n",
      "are\n"
     ]
    }
   ],
   "source": [
    "for text in s.ldf.ltext.values:\n",
    "    \n",
    "    print(text)\n",
    "    doc = nlp(text)\n",
    "    \n",
    "    root = [node for node in doc if node.head == node][0]\n",
    "    \n",
    "    nodes = [root]\n",
    "    \n",
    "    for node in nodes:\n",
    "        \n",
    "        \n",
    "    \n",
    "    print(root)"
   ]
  },
  {
   "cell_type": "code",
   "execution_count": null,
   "metadata": {},
   "outputs": [],
   "source": []
  },
  {
   "cell_type": "code",
   "execution_count": null,
   "metadata": {},
   "outputs": [],
   "source": []
  },
  {
   "cell_type": "code",
   "execution_count": null,
   "metadata": {},
   "outputs": [],
   "source": []
  },
  {
   "cell_type": "code",
   "execution_count": null,
   "metadata": {},
   "outputs": [],
   "source": []
  },
  {
   "cell_type": "code",
   "execution_count": null,
   "metadata": {},
   "outputs": [],
   "source": []
  },
  {
   "cell_type": "code",
   "execution_count": null,
   "metadata": {},
   "outputs": [],
   "source": []
  },
  {
   "cell_type": "code",
   "execution_count": null,
   "metadata": {},
   "outputs": [],
   "source": []
  },
  {
   "cell_type": "code",
   "execution_count": null,
   "metadata": {},
   "outputs": [],
   "source": []
  },
  {
   "cell_type": "code",
   "execution_count": null,
   "metadata": {},
   "outputs": [],
   "source": []
  },
  {
   "cell_type": "code",
   "execution_count": null,
   "metadata": {},
   "outputs": [],
   "source": []
  },
  {
   "cell_type": "code",
   "execution_count": null,
   "metadata": {},
   "outputs": [],
   "source": []
  },
  {
   "cell_type": "markdown",
   "metadata": {},
   "source": [
    "# Data Alignment"
   ]
  },
  {
   "cell_type": "code",
   "execution_count": 13,
   "metadata": {},
   "outputs": [],
   "source": [
    "from nltk.stem import WordNetLemmatizer\n",
    "\n",
    "def split(spo):\n",
    "    \n",
    "    return spo.split(' ')\n",
    "\n",
    "lemmatizer = WordNetLemmatizer()\n",
    "\n",
    "def lemmatize(spo):\n",
    "    \n",
    "    return ' '.join((lemmatizer.lemmatize(spo_) for spo_ in split(spo)))\n",
    "\n",
    "from nltk.stem.porter import PorterStemmer\n",
    "from nltk.stem.lancaster import LancasterStemmer\n",
    "from nltk.stem import SnowballStemmer\n",
    "\n",
    "stemmer_ = 'lancaster'\n",
    "\n",
    "if stemmer_ == 'lancaster':\n",
    "    stemmer = LancasterStemmer()\n",
    "elif stemmer == 'porter':\n",
    "    stemmer = PorterStemmer()\n",
    "else:\n",
    "    stemmer = SnowballStemmer()\n",
    "\n",
    "def stem(spo):\n",
    "    \n",
    "    return ' '.join((stemmer.stem(spo_) for spo_ in split(spo)))\n",
    "\n",
    "c_detect_camelcase = re.compile(r'(?<=[a-z])([A-Z])')\n",
    "def split_by_camelcase(spo):\n",
    "    \n",
    "    return c_detect_camelcase.sub(r' \\1', spo)\n",
    "\n",
    "c_chars_to_remove = re.compile(r'[_]')\n",
    "def remove_unwanted_char(spo):\n",
    "    \n",
    "    return c_chars_to_remove.sub(' ', spo)\n",
    "\n",
    "def to_lower(spo):\n",
    "    \n",
    "    return spo.lower()\n",
    "\n",
    "from functools import reduce\n",
    "\n",
    "spo_pipeline = [split_by_camelcase, remove_unwanted_char, to_lower, stem]\n",
    "def preprocess_spo(spo):\n",
    "    \n",
    "    return reduce(lambda v, f: f(v), spo_pipeline, spo)\n",
    "    \n",
    "def preprocess_triple(triple):\n",
    "\n",
    "    return {k:preprocess_spo(v) for k, v in triple.items()}    \n",
    "\n",
    "lexe_pipeline = [to_lower, stem]\n",
    "def preprocess_lexe(lexe):\n",
    "    \n",
    "    return reduce(lambda v, f: f(v), lexe_pipeline, lexe)"
   ]
  },
  {
   "cell_type": "code",
   "execution_count": 14,
   "metadata": {},
   "outputs": [],
   "source": [
    "def replace_sop(m):\n",
    "    \n",
    "    return \"<{}>\".format(next((k for k, v in m.groupdict().items() if v)))\n",
    "\n",
    "def simple_align(triple, lexe):\n",
    "    \n",
    "    preprocessed_triple = preprocess_triple(triple)\n",
    "    \n",
    "    preprocessed_lexe = preprocess_lexe(lexe)\n",
    "    \n",
    "    regex = '((?P<subject>{m_subject})|(?P<predicate>{m_predicate})|(?P<object>{m_object}))'.format(**preprocessed_triple)\n",
    "    \n",
    "    return re.compile(regex).sub(replace_sop, preprocessed_lexe)"
   ]
  },
  {
   "cell_type": "code",
   "execution_count": 15,
   "metadata": {},
   "outputs": [
    {
     "data": {
      "text/plain": [
       "'the <object> ar the <predicate> in <subject>.'"
      ]
     },
     "execution_count": 15,
     "metadata": {},
     "output_type": "execute_result"
    }
   ],
   "source": [
    "c = simple_align(e.triples(kind='dict')[0], e.lexes()[0])\n",
    "c"
   ]
  },
  {
   "cell_type": "code",
   "execution_count": 53,
   "metadata": {},
   "outputs": [],
   "source": [
    "c_search_spo = re.compile(r'((?P<object><object>)|(?P<predicate><predicate>)|(?P<subject><subject>))')\n",
    "\n",
    "def count_spo(s):\n",
    "    \n",
    "    return [t[0] for t in c_search_spo.findall(s)]"
   ]
  },
  {
   "cell_type": "code",
   "execution_count": 63,
   "metadata": {},
   "outputs": [
    {
     "data": {
      "text/plain": [
       "('the character, <subject>es, was <predicate> by <object>.',\n",
       " ['<subject>', '<predicate>', '<object>'],\n",
       " {'m_object': 'Len_Wein', 'm_predicate': 'creator', 'm_subject': 'Aurakles'})"
      ]
     },
     "execution_count": 63,
     "metadata": {},
     "output_type": "execute_result"
    }
   ],
   "source": [
    "e = train.sample()\n",
    "c = simple_align(e.triples(kind='dict')[0], e.lexes()[0])\n",
    "c, count_spo(c), e.triples()[0]"
   ]
  },
  {
   "cell_type": "code",
   "execution_count": 43,
   "metadata": {},
   "outputs": [
    {
     "data": {
      "text/plain": [
       "'<subject> is a <object>.'"
      ]
     },
     "execution_count": 43,
     "metadata": {},
     "output_type": "execute_result"
    }
   ],
   "source": [
    "c"
   ]
  },
  {
   "cell_type": "code",
   "execution_count": 44,
   "metadata": {},
   "outputs": [
    {
     "data": {
      "text/plain": [
       "{'object': None, 'predicate': None, 'subject': '<subject>'}"
      ]
     },
     "execution_count": 44,
     "metadata": {},
     "output_type": "execute_result"
    }
   ],
   "source": [
    "c_search_spo.match(c).groupdict()"
   ]
  },
  {
   "cell_type": "code",
   "execution_count": 52,
   "metadata": {},
   "outputs": [
    {
     "data": {
      "text/plain": [
       "[('<subject>', '', '', '<subject>'),\n",
       " ('<object>', '<object>', '', ''),\n",
       " ('<predicate>', '', '<predicate>', ''),\n",
       " ('<subject>', '', '', '<subject>')]"
      ]
     },
     "execution_count": 52,
     "metadata": {},
     "output_type": "execute_result"
    }
   ],
   "source": [
    "c_search_spo.findall('<subject> <object> <predicate> <subject>')"
   ]
  },
  {
   "cell_type": "markdown",
   "metadata": {},
   "source": [
    "# Spacy"
   ]
  },
  {
   "cell_type": "code",
   "execution_count": 51,
   "metadata": {},
   "outputs": [],
   "source": [
    "import spacy\n",
    "%run ../script/spacy_util.py\n",
    "\n",
    "nlp = spacy.load('en_core_web_lg')"
   ]
  },
  {
   "cell_type": "code",
   "execution_count": 15,
   "metadata": {},
   "outputs": [
    {
     "data": {
      "text/plain": [
       "[{'m_object': 'Left_Ecology_Freedom',\n",
       "  'm_predicate': 'leaderParty',\n",
       "  'm_subject': 'Gubbio'}]"
      ]
     },
     "execution_count": 15,
     "metadata": {},
     "output_type": "execute_result"
    }
   ],
   "source": [
    "e.triples()"
   ]
  },
  {
   "cell_type": "code",
   "execution_count": 63,
   "metadata": {},
   "outputs": [
    {
     "name": "stdout",
     "output_type": "stream",
     "text": [
      "[{'m_object': 'Spain', 'm_predicate': 'country', 'm_subject': 'Arròs_negre'},\n",
      " {'m_object': 'White_rice',\n",
      "  'm_predicate': 'ingredient',\n",
      "  'm_subject': 'Arròs_negre'}]\n",
      "White rice is an ingredient of Arros negre which is a traditional dish from Spain.\n"
     ]
    },
    {
     "data": {
      "text/html": [
       "<div class=\"entities\" style=\"line-height: 2.5\">\n",
       "<mark class=\"entity\" style=\"background: #ddd; padding: 0.45em 0.6em; margin: 0 0.25em; line-height: 1; border-radius: 0.35em; box-decoration-break: clone; -webkit-box-decoration-break: clone\">\n",
       "    White rice\n",
       "    <span style=\"font-size: 0.8em; font-weight: bold; line-height: 1; border-radius: 0.35em; text-transform: uppercase; vertical-align: middle; margin-left: 0.5rem\"></span>\n",
       "</mark>\n",
       " is \n",
       "<mark class=\"entity\" style=\"background: #ddd; padding: 0.45em 0.6em; margin: 0 0.25em; line-height: 1; border-radius: 0.35em; box-decoration-break: clone; -webkit-box-decoration-break: clone\">\n",
       "    an ingredient\n",
       "    <span style=\"font-size: 0.8em; font-weight: bold; line-height: 1; border-radius: 0.35em; text-transform: uppercase; vertical-align: middle; margin-left: 0.5rem\"></span>\n",
       "</mark>\n",
       " of Arros negre which is \n",
       "<mark class=\"entity\" style=\"background: #ddd; padding: 0.45em 0.6em; margin: 0 0.25em; line-height: 1; border-radius: 0.35em; box-decoration-break: clone; -webkit-box-decoration-break: clone\">\n",
       "    a traditional dish\n",
       "    <span style=\"font-size: 0.8em; font-weight: bold; line-height: 1; border-radius: 0.35em; text-transform: uppercase; vertical-align: middle; margin-left: 0.5rem\"></span>\n",
       "</mark>\n",
       " from \n",
       "<mark class=\"entity\" style=\"background: #ddd; padding: 0.45em 0.6em; margin: 0 0.25em; line-height: 1; border-radius: 0.35em; box-decoration-break: clone; -webkit-box-decoration-break: clone\">\n",
       "    Spain\n",
       "    <span style=\"font-size: 0.8em; font-weight: bold; line-height: 1; border-radius: 0.35em; text-transform: uppercase; vertical-align: middle; margin-left: 0.5rem\"></span>\n",
       "</mark>\n",
       ".</div>"
      ],
      "text/plain": [
       "<IPython.core.display.HTML object>"
      ]
     },
     "metadata": {},
     "output_type": "display_data"
    },
    {
     "data": {
      "text/html": [
       "<div class=\"entities\" style=\"line-height: 2.5\">\n",
       "<mark class=\"entity\" style=\"background: #ddd; padding: 0.45em 0.6em; margin: 0 0.25em; line-height: 1; border-radius: 0.35em; box-decoration-break: clone; -webkit-box-decoration-break: clone\">\n",
       "    White rice\n",
       "    <span style=\"font-size: 0.8em; font-weight: bold; line-height: 1; border-radius: 0.35em; text-transform: uppercase; vertical-align: middle; margin-left: 0.5rem\"></span>\n",
       "</mark>\n",
       " is \n",
       "<mark class=\"entity\" style=\"background: #ddd; padding: 0.45em 0.6em; margin: 0 0.25em; line-height: 1; border-radius: 0.35em; box-decoration-break: clone; -webkit-box-decoration-break: clone\">\n",
       "    an ingredient\n",
       "    <span style=\"font-size: 0.8em; font-weight: bold; line-height: 1; border-radius: 0.35em; text-transform: uppercase; vertical-align: middle; margin-left: 0.5rem\"></span>\n",
       "</mark>\n",
       " of Arros negre which is \n",
       "<mark class=\"entity\" style=\"background: #ddd; padding: 0.45em 0.6em; margin: 0 0.25em; line-height: 1; border-radius: 0.35em; box-decoration-break: clone; -webkit-box-decoration-break: clone\">\n",
       "    a traditional dish\n",
       "    <span style=\"font-size: 0.8em; font-weight: bold; line-height: 1; border-radius: 0.35em; text-transform: uppercase; vertical-align: middle; margin-left: 0.5rem\"></span>\n",
       "</mark>\n",
       " from \n",
       "<mark class=\"entity\" style=\"background: #ddd; padding: 0.45em 0.6em; margin: 0 0.25em; line-height: 1; border-radius: 0.35em; box-decoration-break: clone; -webkit-box-decoration-break: clone\">\n",
       "    Spain\n",
       "    <span style=\"font-size: 0.8em; font-weight: bold; line-height: 1; border-radius: 0.35em; text-transform: uppercase; vertical-align: middle; margin-left: 0.5rem\"></span>\n",
       "</mark>\n",
       ".</div>"
      ],
      "text/plain": [
       "<IPython.core.display.HTML object>"
      ]
     },
     "metadata": {},
     "output_type": "display_data"
    }
   ],
   "source": [
    "e = train.sample()\n",
    "pprint(e.triples())\n",
    "\n",
    "print(e.lexes()[0])\n",
    "doc = nlp(e.lexes()[0])\n",
    "\n",
    "displacy_noun_chunks(doc)\n",
    "displacy_noun_chunks(doc)"
   ]
  },
  {
   "cell_type": "code",
   "execution_count": 24,
   "metadata": {},
   "outputs": [
    {
     "data": {
      "text/html": [
       "<div>\n",
       "<style scoped>\n",
       "    .dataframe tbody tr th:only-of-type {\n",
       "        vertical-align: middle;\n",
       "    }\n",
       "\n",
       "    .dataframe tbody tr th {\n",
       "        vertical-align: top;\n",
       "    }\n",
       "\n",
       "    .dataframe thead th {\n",
       "        text-align: right;\n",
       "    }\n",
       "</style>\n",
       "<table border=\"1\" class=\"dataframe\">\n",
       "  <thead>\n",
       "    <tr style=\"text-align: right;\">\n",
       "      <th></th>\n",
       "      <th>Text</th>\n",
       "      <th>POS</th>\n",
       "      <th>Dep</th>\n",
       "      <th>Tag</th>\n",
       "      <th>Shape</th>\n",
       "      <th>Alpha</th>\n",
       "      <th>Stop</th>\n",
       "      <th>Head</th>\n",
       "      <th>Left</th>\n",
       "      <th>Right</th>\n",
       "      <th>Entity</th>\n",
       "      <th>EntIOB</th>\n",
       "      <th>Lemma</th>\n",
       "    </tr>\n",
       "  </thead>\n",
       "  <tbody>\n",
       "    <tr>\n",
       "      <th>0</th>\n",
       "      <td>The</td>\n",
       "      <td>determiner</td>\n",
       "      <td>det</td>\n",
       "      <td>DT</td>\n",
       "      <td>Xxx</td>\n",
       "      <td>X</td>\n",
       "      <td>--</td>\n",
       "      <td>Freedom</td>\n",
       "      <td>The</td>\n",
       "      <td>The</td>\n",
       "      <td></td>\n",
       "      <td>O</td>\n",
       "      <td>the</td>\n",
       "    </tr>\n",
       "    <tr>\n",
       "      <th>1</th>\n",
       "      <td>Left</td>\n",
       "      <td>proper noun</td>\n",
       "      <td>compound</td>\n",
       "      <td>NNP</td>\n",
       "      <td>Xxxx</td>\n",
       "      <td>X</td>\n",
       "      <td>--</td>\n",
       "      <td>Freedom</td>\n",
       "      <td>Left</td>\n",
       "      <td>Left</td>\n",
       "      <td></td>\n",
       "      <td>O</td>\n",
       "      <td>left</td>\n",
       "    </tr>\n",
       "    <tr>\n",
       "      <th>2</th>\n",
       "      <td>Ecology</td>\n",
       "      <td>proper noun</td>\n",
       "      <td>compound</td>\n",
       "      <td>NNP</td>\n",
       "      <td>Xxxxx</td>\n",
       "      <td>X</td>\n",
       "      <td>--</td>\n",
       "      <td>Freedom</td>\n",
       "      <td>Ecology</td>\n",
       "      <td>Ecology</td>\n",
       "      <td></td>\n",
       "      <td>O</td>\n",
       "      <td>ecology</td>\n",
       "    </tr>\n",
       "    <tr>\n",
       "      <th>3</th>\n",
       "      <td>Freedom</td>\n",
       "      <td>proper noun</td>\n",
       "      <td>nsubj</td>\n",
       "      <td>NNP</td>\n",
       "      <td>Xxxxx</td>\n",
       "      <td>X</td>\n",
       "      <td>--</td>\n",
       "      <td>are</td>\n",
       "      <td>The</td>\n",
       "      <td>Freedom</td>\n",
       "      <td></td>\n",
       "      <td>O</td>\n",
       "      <td>freedom</td>\n",
       "    </tr>\n",
       "    <tr>\n",
       "      <th>4</th>\n",
       "      <td>are</td>\n",
       "      <td>verb</td>\n",
       "      <td>ROOT</td>\n",
       "      <td>VBP</td>\n",
       "      <td>xxx</td>\n",
       "      <td>X</td>\n",
       "      <td>--</td>\n",
       "      <td>are</td>\n",
       "      <td>The</td>\n",
       "      <td>.</td>\n",
       "      <td></td>\n",
       "      <td>O</td>\n",
       "      <td>be</td>\n",
       "    </tr>\n",
       "    <tr>\n",
       "      <th>5</th>\n",
       "      <td>the</td>\n",
       "      <td>determiner</td>\n",
       "      <td>det</td>\n",
       "      <td>DT</td>\n",
       "      <td>xxx</td>\n",
       "      <td>X</td>\n",
       "      <td>--</td>\n",
       "      <td>party</td>\n",
       "      <td>the</td>\n",
       "      <td>the</td>\n",
       "      <td></td>\n",
       "      <td>O</td>\n",
       "      <td>the</td>\n",
       "    </tr>\n",
       "    <tr>\n",
       "      <th>6</th>\n",
       "      <td>leading</td>\n",
       "      <td>verb</td>\n",
       "      <td>amod</td>\n",
       "      <td>VBG</td>\n",
       "      <td>xxxx</td>\n",
       "      <td>X</td>\n",
       "      <td>--</td>\n",
       "      <td>party</td>\n",
       "      <td>leading</td>\n",
       "      <td>leading</td>\n",
       "      <td></td>\n",
       "      <td>O</td>\n",
       "      <td>lead</td>\n",
       "    </tr>\n",
       "    <tr>\n",
       "      <th>7</th>\n",
       "      <td>party</td>\n",
       "      <td>noun</td>\n",
       "      <td>attr</td>\n",
       "      <td>NN</td>\n",
       "      <td>xxxx</td>\n",
       "      <td>X</td>\n",
       "      <td>--</td>\n",
       "      <td>are</td>\n",
       "      <td>the</td>\n",
       "      <td>Gubbio</td>\n",
       "      <td></td>\n",
       "      <td>O</td>\n",
       "      <td>party</td>\n",
       "    </tr>\n",
       "    <tr>\n",
       "      <th>8</th>\n",
       "      <td>in</td>\n",
       "      <td>adposition</td>\n",
       "      <td>prep</td>\n",
       "      <td>IN</td>\n",
       "      <td>xx</td>\n",
       "      <td>X</td>\n",
       "      <td>--</td>\n",
       "      <td>party</td>\n",
       "      <td>in</td>\n",
       "      <td>Gubbio</td>\n",
       "      <td></td>\n",
       "      <td>O</td>\n",
       "      <td>in</td>\n",
       "    </tr>\n",
       "    <tr>\n",
       "      <th>9</th>\n",
       "      <td>Gubbio</td>\n",
       "      <td>proper noun</td>\n",
       "      <td>pobj</td>\n",
       "      <td>NNP</td>\n",
       "      <td>Xxxxx</td>\n",
       "      <td>X</td>\n",
       "      <td>--</td>\n",
       "      <td>in</td>\n",
       "      <td>Gubbio</td>\n",
       "      <td>Gubbio</td>\n",
       "      <td>GPE</td>\n",
       "      <td>B</td>\n",
       "      <td>gubbio</td>\n",
       "    </tr>\n",
       "    <tr>\n",
       "      <th>10</th>\n",
       "      <td>.</td>\n",
       "      <td>punctuation</td>\n",
       "      <td>punct</td>\n",
       "      <td>.</td>\n",
       "      <td>.</td>\n",
       "      <td>--</td>\n",
       "      <td>--</td>\n",
       "      <td>are</td>\n",
       "      <td>.</td>\n",
       "      <td>.</td>\n",
       "      <td></td>\n",
       "      <td>O</td>\n",
       "      <td>.</td>\n",
       "    </tr>\n",
       "  </tbody>\n",
       "</table>\n",
       "</div>"
      ],
      "text/plain": [
       "       Text          POS       Dep  Tag  Shape Alpha Stop     Head     Left  \\\n",
       "0       The   determiner       det   DT    Xxx     X   --  Freedom      The   \n",
       "1      Left  proper noun  compound  NNP   Xxxx     X   --  Freedom     Left   \n",
       "2   Ecology  proper noun  compound  NNP  Xxxxx     X   --  Freedom  Ecology   \n",
       "3   Freedom  proper noun     nsubj  NNP  Xxxxx     X   --      are      The   \n",
       "4       are         verb      ROOT  VBP    xxx     X   --      are      The   \n",
       "5       the   determiner       det   DT    xxx     X   --    party      the   \n",
       "6   leading         verb      amod  VBG   xxxx     X   --    party  leading   \n",
       "7     party         noun      attr   NN   xxxx     X   --      are      the   \n",
       "8        in   adposition      prep   IN     xx     X   --    party       in   \n",
       "9    Gubbio  proper noun      pobj  NNP  Xxxxx     X   --       in   Gubbio   \n",
       "10        .  punctuation     punct    .      .    --   --      are        .   \n",
       "\n",
       "      Right Entity EntIOB    Lemma  \n",
       "0       The             O      the  \n",
       "1      Left             O     left  \n",
       "2   Ecology             O  ecology  \n",
       "3   Freedom             O  freedom  \n",
       "4         .             O       be  \n",
       "5       the             O      the  \n",
       "6   leading             O     lead  \n",
       "7    Gubbio             O    party  \n",
       "8    Gubbio             O       in  \n",
       "9    Gubbio    GPE      B   gubbio  \n",
       "10        .             O        .  "
      ]
     },
     "execution_count": 24,
     "metadata": {},
     "output_type": "execute_result"
    }
   ],
   "source": [
    "doc_to_df(doc)"
   ]
  },
  {
   "cell_type": "code",
   "execution_count": 172,
   "metadata": {},
   "outputs": [],
   "source": [
    "def mask_noun_chunks(doc):\n",
    "    \n",
    "    lexe_s = list(doc.text)\n",
    "    for nc in doc.noun_chunks:\n",
    "\n",
    "        lexe_s[nc.start_char: nc.end_char] = '#' * len(nc.__str__())\n",
    "        \n",
    "    return ''.join(lexe_s)"
   ]
  },
  {
   "cell_type": "code",
   "execution_count": 197,
   "metadata": {},
   "outputs": [],
   "source": [
    "values = []\n",
    "\n",
    "for _ in range(10):\n",
    "    \n",
    "    e = train.sample()\n",
    "    \n",
    "    for lexe in e.lexes():\n",
    "        \n",
    "        doc = nlp(lexe)\n",
    "        \n",
    "        values.append({\n",
    "            'lexe': lexe,\n",
    "            'noun_chunks': list(doc.noun_chunks),\n",
    "            'masked': mask_noun_chunks(doc),\n",
    "            'triples': e.triples()\n",
    "        })"
   ]
  },
  {
   "cell_type": "code",
   "execution_count": 207,
   "metadata": {},
   "outputs": [],
   "source": [
    "df = pd.DataFrame(values)\n",
    "df.to_html('oi.html')"
   ]
  },
  {
   "cell_type": "code",
   "execution_count": 205,
   "metadata": {},
   "outputs": [
    {
     "data": {
      "text/plain": [
       "[{'m_object': 'Switzerland',\n",
       "  'm_predicate': 'country',\n",
       "  'm_subject': 'Accademia_di_Architettura_di_Mendrisio'},\n",
       " {'m_object': 'Meride',\n",
       "  'm_predicate': 'neighboringMunicipality',\n",
       "  'm_subject': 'Mendrisio'},\n",
       " {'m_object': 'Mendrisio',\n",
       "  'm_predicate': 'city',\n",
       "  'm_subject': 'Accademia_di_Architettura_di_Mendrisio'},\n",
       " {'m_object': 'Johann_Schneider-Ammann',\n",
       "  'm_predicate': 'leaderName',\n",
       "  'm_subject': 'Switzerland'}]"
      ]
     },
     "execution_count": 205,
     "metadata": {},
     "output_type": "execute_result"
    }
   ],
   "source": [
    "train.sample().triples()"
   ]
  },
  {
   "cell_type": "code",
   "execution_count": null,
   "metadata": {},
   "outputs": [],
   "source": []
  }
 ],
 "metadata": {
  "kernelspec": {
   "display_name": "Python 3",
   "language": "python",
   "name": "python3"
  },
  "language_info": {
   "codemirror_mode": {
    "name": "ipython",
    "version": 3
   },
   "file_extension": ".py",
   "mimetype": "text/x-python",
   "name": "python",
   "nbconvert_exporter": "python",
   "pygments_lexer": "ipython3",
   "version": "3.6.5"
  }
 },
 "nbformat": 4,
 "nbformat_minor": 2
}
