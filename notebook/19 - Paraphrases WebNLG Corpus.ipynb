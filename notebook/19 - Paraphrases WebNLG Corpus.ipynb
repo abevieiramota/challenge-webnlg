{
 "cells": [
  {
   "cell_type": "code",
   "execution_count": 1,
   "metadata": {},
   "outputs": [],
   "source": [
    "import os\n",
    "\n",
    "os.sys.path.insert(0, '../script')\n",
    "\n",
    "import webnlg"
   ]
  },
  {
   "cell_type": "code",
   "execution_count": 2,
   "metadata": {},
   "outputs": [
    {
     "data": {
      "text/plain": [
       "dict_keys(['dev', 'train', 'test_no_lex', 'test_unseen_with_lex', 'test_with_lex', 'dev_1.2', 'train_1.2'])"
      ]
     },
     "execution_count": 2,
     "metadata": {},
     "output_type": "execute_result"
    }
   ],
   "source": [
    "webnlg.DATASETS_FILEPATHS.keys()"
   ]
  },
  {
   "cell_type": "code",
   "execution_count": 3,
   "metadata": {},
   "outputs": [],
   "source": [
    "corpus = webnlg.load(dataset=['dev', 'train', 'test_with_lex'])"
   ]
  },
  {
   "cell_type": "code",
   "execution_count": 21,
   "metadata": {},
   "outputs": [
    {
     "data": {
      "text/plain": [
       "Triple info: category=Food eid=Id213\n",
       "\n",
       "\tModified triples:\n",
       "\n",
       "Philippines | ethnicGroup | Ilocano_people\n",
       "Philippines | language | Arabic\n",
       "Philippines | ethnicGroup | Zamboangans\n",
       "Philippines | language | Philippine_Spanish\n",
       "Batchoy | country | Philippines\n",
       "\n",
       "\n",
       "\tLexicalizations:\n",
       "\n",
       "Batchoy is eaten in the Philippines where Philippine Spanish and Arabic are spoken. It is also where the Zamboangans and Ilocano people are two of the ethnic groups.\n",
       "\n",
       "\n",
       "Zamboangans and Ilocano people are ethnic groups from the Philippines which is home to the dish batchoy and where Philippine Spanish and Arabic are spoken.\n",
       "\n",
       "\n",
       "Batchoy comes from the Philippines, where Philippine Spanish and Arabic are among the languages spoken, and the Zamboangans and IIocano people are ethnic groups.\n"
      ]
     },
     "execution_count": 21,
     "metadata": {},
     "output_type": "execute_result"
    }
   ],
   "source": [
    "sample = corpus.sample(seed=300)\n",
    "\n",
    "sample"
   ]
  },
  {
   "cell_type": "code",
   "execution_count": 25,
   "metadata": {},
   "outputs": [],
   "source": [
    "def pairing(iterable):\n",
    "    \n",
    "    for i, item1 in enumerate(iterable):\n",
    "        \n",
    "        for j, item2 in enumerate(iterable):\n",
    "            \n",
    "            if i != j:\n",
    "                \n",
    "                yield (item1, item2)"
   ]
  },
  {
   "cell_type": "code",
   "execution_count": 26,
   "metadata": {},
   "outputs": [
    {
     "data": {
      "text/plain": [
       "[('Batchoy is eaten in the Philippines where Philippine Spanish and Arabic are spoken. It is also where the Zamboangans and Ilocano people are two of the ethnic groups.',\n",
       "  'Zamboangans and Ilocano people are ethnic groups from the Philippines which is home to the dish batchoy and where Philippine Spanish and Arabic are spoken.'),\n",
       " ('Batchoy is eaten in the Philippines where Philippine Spanish and Arabic are spoken. It is also where the Zamboangans and Ilocano people are two of the ethnic groups.',\n",
       "  'Batchoy comes from the Philippines, where Philippine Spanish and Arabic are among the languages spoken, and the Zamboangans and IIocano people are ethnic groups.'),\n",
       " ('Zamboangans and Ilocano people are ethnic groups from the Philippines which is home to the dish batchoy and where Philippine Spanish and Arabic are spoken.',\n",
       "  'Batchoy is eaten in the Philippines where Philippine Spanish and Arabic are spoken. It is also where the Zamboangans and Ilocano people are two of the ethnic groups.'),\n",
       " ('Zamboangans and Ilocano people are ethnic groups from the Philippines which is home to the dish batchoy and where Philippine Spanish and Arabic are spoken.',\n",
       "  'Batchoy comes from the Philippines, where Philippine Spanish and Arabic are among the languages spoken, and the Zamboangans and IIocano people are ethnic groups.'),\n",
       " ('Batchoy comes from the Philippines, where Philippine Spanish and Arabic are among the languages spoken, and the Zamboangans and IIocano people are ethnic groups.',\n",
       "  'Batchoy is eaten in the Philippines where Philippine Spanish and Arabic are spoken. It is also where the Zamboangans and Ilocano people are two of the ethnic groups.'),\n",
       " ('Batchoy comes from the Philippines, where Philippine Spanish and Arabic are among the languages spoken, and the Zamboangans and IIocano people are ethnic groups.',\n",
       "  'Zamboangans and Ilocano people are ethnic groups from the Philippines which is home to the dish batchoy and where Philippine Spanish and Arabic are spoken.')]"
      ]
     },
     "execution_count": 26,
     "metadata": {},
     "output_type": "execute_result"
    }
   ],
   "source": [
    "list(pairing(sample.lexes()))"
   ]
  },
  {
   "cell_type": "code",
   "execution_count": 29,
   "metadata": {},
   "outputs": [],
   "source": [
    "with open('paraphrases.txt', 'w') as f:\n",
    "    \n",
    "    f.write('input,output\\n')\n",
    "    \n",
    "    i = 0\n",
    "    \n",
    "    for entry in corpus:\n",
    "        \n",
    "        for pair in pairing(entry.lexes()):\n",
    "            \n",
    "            f.write('{},{}\\n'.format(*pair))\n",
    "            i += 1"
   ]
  },
  {
   "cell_type": "markdown",
   "metadata": {},
   "source": [
    "# Delexicalized"
   ]
  },
  {
   "cell_type": "code",
   "execution_count": 42,
   "metadata": {},
   "outputs": [],
   "source": [
    "delex = webnlg.load(dataset=['dev_1.2', 'train_1.2'])\n",
    "\n",
    "with open('paraphrases_delex.txt', 'w') as f:\n",
    "    \n",
    "    f.write('input,output\\n')\n",
    "    \n",
    "    i = 0\n",
    "    \n",
    "    for entry in delex:\n",
    "        \n",
    "        for pair in pairing([l['template'] for l in entry.entry['lexes']]):\n",
    "            \n",
    "            f.write('{},{}\\n'.format(*pair))\n",
    "            i += 1"
   ]
  },
  {
   "cell_type": "code",
   "execution_count": 43,
   "metadata": {},
   "outputs": [
    {
     "name": "stdout",
     "output_type": "stream",
     "text": [
      "input,output\r\n",
      "AGENT-1 was created by PATIENT-1 .,The creator of AGENT-1 is PATIENT-1 .\r\n",
      "AGENT-1 was created by PATIENT-1 .,AGENT-1 , was created by PATIENT-1 .\r\n",
      "The creator of AGENT-1 is PATIENT-1 .,AGENT-1 was created by PATIENT-1 .\r\n",
      "The creator of AGENT-1 is PATIENT-1 .,AGENT-1 , was created by PATIENT-1 .\r\n",
      "AGENT-1 , was created by PATIENT-1 .,AGENT-1 was created by PATIENT-1 .\r\n",
      "AGENT-1 , was created by PATIENT-1 .,The creator of AGENT-1 is PATIENT-1 .\r\n",
      "AGENT-1 was created by PATIENT-1 .,AGENT-1 was created by PATIENT-1 .\r\n",
      "AGENT-1 was created by PATIENT-1 .,AGENT-1 was created by PATIENT-1 .\r\n",
      "AGENT-1 was created by PATIENT-1 .,AGENT-1 was created by PATIENT-1 .\r\n"
     ]
    }
   ],
   "source": [
    "!head paraphrases_delex.txt"
   ]
  }
 ],
 "metadata": {
  "kernelspec": {
   "display_name": "Python 3",
   "language": "python",
   "name": "python3"
  },
  "language_info": {
   "codemirror_mode": {
    "name": "ipython",
    "version": 3
   },
   "file_extension": ".py",
   "mimetype": "text/x-python",
   "name": "python",
   "nbconvert_exporter": "python",
   "pygments_lexer": "ipython3",
   "version": "3.6.7"
  }
 },
 "nbformat": 4,
 "nbformat_minor": 2
}
