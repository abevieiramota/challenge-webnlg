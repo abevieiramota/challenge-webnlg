{
 "cells": [
  {
   "cell_type": "code",
   "execution_count": 1,
   "metadata": {},
   "outputs": [],
   "source": [
    "import os\n",
    "\n",
    "os.sys.path.insert(0, '../script')\n",
    "import webnlg\n",
    "\n",
    "import pandas as pd\n",
    "import numpy as np\n",
    "from matplotlib import pyplot as plt\n",
    "\n",
    "%matplotlib inline\n",
    "\n",
    "pd.set_option('max_colwidth', 1000)\n",
    "\n",
    "import seaborn as sns"
   ]
  },
  {
   "cell_type": "code",
   "execution_count": 2,
   "metadata": {},
   "outputs": [
    {
     "data": {
      "text/plain": [
       "dict_keys(['dev', 'train', 'test_no_lex', 'test_unseen_with_lex', 'test_with_lex', 'dev_1.2', 'train_1.2'])"
      ]
     },
     "execution_count": 2,
     "metadata": {},
     "output_type": "execute_result"
    }
   ],
   "source": [
    "# datasets\n",
    "webnlg.DATASETS_FILEPATHS.keys()"
   ]
  },
  {
   "cell_type": "markdown",
   "metadata": {},
   "source": [
    "# Dataset format"
   ]
  },
  {
   "cell_type": "markdown",
   "metadata": {},
   "source": [
    "## Train dataset directory tree"
   ]
  },
  {
   "cell_type": "markdown",
   "metadata": {},
   "source": [
    "<img src=\"../img/dataset_train_directory.jpg\" />"
   ]
  },
  {
   "cell_type": "markdown",
   "metadata": {},
   "source": [
    "### 1triples_Airport_train_challenge.xml"
   ]
  },
  {
   "cell_type": "markdown",
   "metadata": {},
   "source": [
    "<img src=\"../img/dataset_format_example.jpg\" />"
   ]
  },
  {
   "cell_type": "markdown",
   "metadata": {},
   "source": [
    "## Test dataset is all in one file, testdata_no_lex.xml"
   ]
  },
  {
   "cell_type": "markdown",
   "metadata": {},
   "source": [
    "<img src=\"../img/dataset_test_example.jpg\" />"
   ]
  },
  {
   "cell_type": "markdown",
   "metadata": {},
   "source": [
    "# Dataset Stats"
   ]
  },
  {
   "cell_type": "code",
   "execution_count": 3,
   "metadata": {},
   "outputs": [],
   "source": [
    "# loads datasets\n",
    "\n",
    "train_dev = webnlg.load(dataset=['train', 'dev'])\n",
    "test_with_lex = webnlg.load(dataset=['test_with_lex'])\n",
    "test_unseen_with_lex = webnlg.load(dataset=['test_unseen_with_lex'])\n",
    "\n",
    "datasets = [train_dev, test_with_lex, test_unseen_with_lex]"
   ]
  },
  {
   "cell_type": "code",
   "execution_count": 4,
   "metadata": {
    "scrolled": true
   },
   "outputs": [
    {
     "data": {
      "text/html": [
       "<div>\n",
       "<style scoped>\n",
       "    .dataframe tbody tr th:only-of-type {\n",
       "        vertical-align: middle;\n",
       "    }\n",
       "\n",
       "    .dataframe tbody tr th {\n",
       "        vertical-align: top;\n",
       "    }\n",
       "\n",
       "    .dataframe thead th {\n",
       "        text-align: right;\n",
       "    }\n",
       "</style>\n",
       "<table border=\"1\" class=\"dataframe\">\n",
       "  <thead>\n",
       "    <tr style=\"text-align: right;\">\n",
       "      <th></th>\n",
       "      <th>n_entries</th>\n",
       "      <th>n_distinct_triples</th>\n",
       "      <th>n_distinct_lexes</th>\n",
       "      <th>n_lexes</th>\n",
       "      <th>n_triples</th>\n",
       "    </tr>\n",
       "  </thead>\n",
       "  <tbody>\n",
       "    <tr>\n",
       "      <th>train_dev</th>\n",
       "      <td>7812</td>\n",
       "      <td>2131</td>\n",
       "      <td>20308</td>\n",
       "      <td>20370</td>\n",
       "      <td>23021</td>\n",
       "    </tr>\n",
       "    <tr>\n",
       "      <th>test_with_lex</th>\n",
       "      <td>1862</td>\n",
       "      <td>2331</td>\n",
       "      <td>4922</td>\n",
       "      <td>4928</td>\n",
       "      <td>5378</td>\n",
       "    </tr>\n",
       "    <tr>\n",
       "      <th>test_unseen_with_lex</th>\n",
       "      <td>891</td>\n",
       "      <td>1068</td>\n",
       "      <td>2430</td>\n",
       "      <td>2433</td>\n",
       "      <td>2450</td>\n",
       "    </tr>\n",
       "  </tbody>\n",
       "</table>\n",
       "</div>"
      ],
      "text/plain": [
       "                      n_entries  n_distinct_triples  n_distinct_lexes  \\\n",
       "train_dev                  7812                2131             20308   \n",
       "test_with_lex              1862                2331              4922   \n",
       "test_unseen_with_lex        891                1068              2430   \n",
       "\n",
       "                      n_lexes  n_triples  \n",
       "train_dev               20370      23021  \n",
       "test_with_lex            4928       5378  \n",
       "test_unseen_with_lex     2433       2450  "
      ]
     },
     "execution_count": 4,
     "metadata": {},
     "output_type": "execute_result"
    }
   ],
   "source": [
    "# generate some statistics\n",
    "\n",
    "datasets_stats = pd.DataFrame({\n",
    "    # number of entries\n",
    "    'n_entries': [len(ds.edf) for ds in datasets],\n",
    "    # number of distinct triples\n",
    "    'n_distinct_triples': [ds.mdf.mtext.nunique() for ds in datasets],\n",
    "    # number of distinct generated texts\n",
    "    'n_distinct_lexes': [ds.ldf.ltext.nunique() for ds in datasets],\n",
    "    # number of generated texts\n",
    "    'n_lexes': [len(ds.ldf) for ds in datasets],\n",
    "    # number of triples -> each entry can have up to 7 triples\n",
    "    'n_triples': [len(ds.mdf) for ds in datasets]\n",
    "    }, index=[ds.dataset_name for ds in datasets])\n",
    "\n",
    "datasets_stats"
   ]
  },
  {
   "cell_type": "code",
   "execution_count": 5,
   "metadata": {},
   "outputs": [
    {
     "data": {
      "text/plain": [
       "(0.0, 100.0]      9319\n",
       "(100.0, 200.0]    9064\n",
       "(200.0, 300.0]    1796\n",
       "(300.0, 400.0]     183\n",
       "(400.0, 500.0]       8\n",
       "Name: ltext, dtype: int64"
      ]
     },
     "execution_count": 5,
     "metadata": {},
     "output_type": "execute_result"
    }
   ],
   "source": [
    "# text length frequencies\n",
    "\n",
    "pd.cut(train_dev.ldf.ltext.str.len(), \n",
    "       bins=[0.0, 100.0, 200.0, 300.0, 400.0, 500.0]).value_counts()"
   ]
  },
  {
   "cell_type": "markdown",
   "metadata": {},
   "source": [
    "## Is there any duplicated lexicalized text?\n",
    "\n",
    "Here I test if there are two or more different entries with the same lexicalization."
   ]
  },
  {
   "cell_type": "code",
   "execution_count": 6,
   "metadata": {},
   "outputs": [
    {
     "data": {
      "text/plain": [
       "ltext\n",
       "Barack Obama is the leader of the United States.                                                                    3\n",
       "Joe Biden is a United States leader.                                                                                3\n",
       "Joe Biden is a leader of the United States.                                                                         3\n",
       "St Vincent-St Mary High School, Akron, Summit County, Ohio, United States is the ground of Akron Summit Assault.    3\n",
       "103 Colmore Row was completed in 1976.                                                                              2\n",
       "Name: idx, dtype: int64"
      ]
     },
     "execution_count": 6,
     "metadata": {},
     "output_type": "execute_result"
    }
   ],
   "source": [
    "# group by ltext\n",
    "#    counts uniques idx(entry identifier) inside a group\n",
    "lexis_counts = train_dev.ldf.groupby('ltext').idx.unique().apply(len)\n",
    "\n",
    "# some examples of lexicalizations that occur in different entries\n",
    "lexis_counts.nlargest(5)"
   ]
  },
  {
   "cell_type": "code",
   "execution_count": 7,
   "metadata": {},
   "outputs": [
    {
     "name": "stdout",
     "output_type": "stream",
     "text": [
      "There are 58 lexicalizations that occurs in more than one entry. The ammount of 'duplicated' lexicalizations is 120\n"
     ]
    }
   ],
   "source": [
    "print(\"There are {} lexicalizations that occurs in more than one entry. The ammount of 'duplicated' lexicalizations is {}\"\\\n",
    "      .format(\n",
    "        len(lexis_counts[lexis_counts > 1]), \n",
    "        lexis_counts[lexis_counts > 1].sum()\n",
    "      ))"
   ]
  },
  {
   "cell_type": "markdown",
   "metadata": {},
   "source": [
    "#### Let's analyze some example"
   ]
  },
  {
   "cell_type": "code",
   "execution_count": 8,
   "metadata": {},
   "outputs": [
    {
     "name": "stdout",
     "output_type": "stream",
     "text": [
      "Triple info: category=Building eid=Id232 idx=train_Building_1_Id232\n",
      "\n",
      "\tModified triples:\n",
      "\n",
      "United_States | leaderName | Barack_Obama\n",
      "\n",
      "\n",
      "\tLexicalizations:\n",
      "\n",
      "The leader of the United States was Barack Obama.\n",
      "\n",
      "\n",
      "Barack Obama is the leader of the U.S.\n",
      "\n",
      "\n",
      "Barack Obama is the leader of the United States.\n",
      "\n",
      "\n",
      "\n",
      "\n",
      "---------------------------------------------------------------------------------------\n",
      "\n",
      "\n",
      "Triple info: category=WrittenWork eid=Id211 idx=train_WrittenWork_1_Id211\n",
      "\n",
      "\tModified triples:\n",
      "\n",
      "United_States | leaderName | Barack_Obama\n",
      "\n",
      "\n",
      "\tLexicalizations:\n",
      "\n",
      "The leader of the United States is Barack Obama.\n",
      "\n",
      "\n",
      "Barack Obama is the leader of the United States.\n",
      "\n",
      "\n",
      "Barack Obama is the president of the US.\n",
      "\n",
      "\n",
      "\n",
      "\n",
      "---------------------------------------------------------------------------------------\n",
      "\n",
      "\n",
      "Triple info: category=Food eid=Id267 idx=train_Food_1_Id267\n",
      "\n",
      "\tModified triples:\n",
      "\n",
      "United_States | leaderName | Barack_Obama\n",
      "\n",
      "\n",
      "\tLexicalizations:\n",
      "\n",
      "Barack Obama is a leader of the United States.\n",
      "\n",
      "\n",
      "Barack Obama is the leader of the United States.\n",
      "\n",
      "\n",
      "Barack Obama is the leader of United States.\n",
      "\n",
      "\n",
      "\n",
      "\n",
      "---------------------------------------------------------------------------------------\n",
      "\n",
      "\n"
     ]
    }
   ],
   "source": [
    "# gets the idx of entrys which lexicalization is Barack Obama is the leader of the United States.\n",
    "barack_obama_idx = train_dev.ldf[train_dev.ldf.ltext == 'Barack Obama is the leader of the United States.'].idx\n",
    "\n",
    "# prints those entries\n",
    "\n",
    "for idx in barack_obama_idx:\n",
    "    \n",
    "    print(train_dev.sample(idx=idx))\n",
    "    print('\\n\\n---------------------------------------------------------------------------------------\\n\\n')"
   ]
  },
  {
   "cell_type": "markdown",
   "metadata": {},
   "source": [
    "<img src=\"../img/barack_obama_food.jpg\" />"
   ]
  },
  {
   "cell_type": "markdown",
   "metadata": {},
   "source": [
    "Is Barack Obama a Food? I've sent an e-mail to Anastasia Shimorina."
   ]
  },
  {
   "cell_type": "markdown",
   "metadata": {},
   "source": [
    "<img src=\"../img/barack_obama_food_explanation.jpg\" />"
   ]
  },
  {
   "cell_type": "markdown",
   "metadata": {},
   "source": [
    "One example of entry among the Food category that contains the triple United_States | leader | Barack_Obama:"
   ]
  },
  {
   "cell_type": "markdown",
   "metadata": {},
   "source": [
    "<img src=\"../img/barack_obama_food2.jpg\" />"
   ]
  },
  {
   "cell_type": "markdown",
   "metadata": {},
   "source": [
    "So, every triple in the Xtriplesize_category, X > 1, is in 1triplesize_category ?\n",
    "    \n",
    "Let's test.\n",
    "\n",
    "! I'm putting dev and train together !"
   ]
  },
  {
   "cell_type": "code",
   "execution_count": 9,
   "metadata": {},
   "outputs": [
    {
     "name": "stdout",
     "output_type": "stream",
     "text": [
      "Testing category: [Airport]\n",
      "Number of triples in X>1 tripleset that aren't in 1 tripleset: [38]\n",
      "Example of triple:  United_States_Air_Force | transportAircraft | Boeing_C-17_Globemaster_III\n",
      "\n",
      "\n",
      "Triple info: category=Airport eid=Id73 idx=train_Airport_5_Id73\n",
      "\n",
      "\tModified triples:\n",
      "\n",
      "Al_Asad_Airbase | operatingOrganisation | United_States_Air_Force\n",
      "United_States_Air_Force | battles | Invasion_of_Grenada\n",
      "United_States_Air_Force | attackAircraft | Lockheed_AC-130\n",
      "United_States_Air_Force | transportAircraft | Boeing_C-17_Globemaster_III\n",
      "United_States_Air_Force | aircraftFighter | McDonnell_Douglas_F-15_Eagle\n",
      "\n",
      "\n",
      "\tLexicalizations:\n",
      "\n",
      "he United States Air Force is the operating organisation for Al Asad airbase. The USAF fought in the Grenada Invasion. Weapons and aircraft located at that base are the Lockheed AC-130, the Boeing C-17 Globemaster III and the McDonnell Douglas F-15 Eagle.\n",
      "\n",
      "\n",
      "The United States Air force operates the Al Asad Airbase. The United States Air Force was involved in the battle of the Invasion of Grenada. The Lockheed AC-130 can be found on the USAF aircraft carriers. The Boeing C-17 Globemaster III is a transport plane owned by the air force and they own the fighter McDonnell Douglas F-15 Eagle.\n",
      "\n",
      "\n",
      "The United States Air Force is the operating organisation for Al Asad airbase,and the Lockheed AC-130 can be found on its aircraft carriers.The Boeing C-17 Globemaster III is a transport aircraft while the McDonnell Douglas F-15 is an aircraft fighter used by the USAF.The United States Air Force was involved in battles at the Invasion of Grenada.\n",
      "\n",
      "\n",
      "\n",
      "\n",
      "Testing category: [Astronaut]\n",
      "Number of triples in X>1 tripleset that aren't in 1 tripleset: [9]\n",
      "Example of triple:  Elliot_See | deathDate | \"1966-02-28\"\n",
      "\n",
      "\n",
      "Triple info: category=Astronaut eid=Id66 idx=train_Astronaut_7_Id66\n",
      "\n",
      "\tModified triples:\n",
      "\n",
      "Elliot_See | almaMater | University_of_Texas_at_Austin\n",
      "University_of_Texas_at_Austin | affiliations | University_of_Texas_System\n",
      "Elliot_See | nationality | United_States\n",
      "Elliot_See | birthDate | \"1927-07-23\"\n",
      "Elliot_See | birthPlace | Dallas\n",
      "Elliot_See | deathPlace | St._Louis\n",
      "Elliot_See | deathDate | \"1966-02-28\"\n",
      "\n",
      "\n",
      "\tLexicalizations:\n",
      "\n",
      "Elliot See was an American born on July 23, 1927 in Dallas. He graduated from U of Texas at Austin which is a part of the U of Texas system. See died on Feb 28, 1966 in St. Louis.\n",
      "\n",
      "\n",
      "Elliot See was an American who attended the University of Texas at Austin, which is affiliated with the University of Texas system. He was born in Dallas on 23rd July 1927 and died in St Louis on 1966-02-28.\n",
      "\n",
      "\n",
      "American Elliot See was born in Dallas on the 23rd of July 1927. He studied at the University of Texas at Austin, which is affiliated to the University of Texas system. He died on the 28th of February 1966 in St. Louis.\n",
      "\n",
      "\n",
      "\n",
      "\n",
      "Testing category: [Building]\n",
      "Number of triples in X>1 tripleset that aren't in 1 tripleset: [29]\n",
      "Example of triple:  Asilomar_Conference_Grounds | yearOfConstruction | 1913\n",
      "\n",
      "\n",
      "Triple info: category=Building eid=Id110 idx=train_Building_5_Id110\n",
      "\n",
      "\tModified triples:\n",
      "\n",
      "Asilomar_Conference_Grounds | location | \"Asilomar Blvd., Pacific Grove, California\"\n",
      "Asilomar_Conference_Grounds | added to the National Register of Historic Places | \"1987-02-27\"\n",
      "Asilomar_Conference_Grounds | architecturalStyle | American_Craftsman\n",
      "Asilomar_Conference_Grounds | ReferenceNumber in the National Register of Historic Places | \"87000823\"\n",
      "Asilomar_Conference_Grounds | yearOfConstruction | 1913\n",
      "\n",
      "\n",
      "\tLexicalizations:\n",
      "\n",
      "Asilomar Conference Grounds was constructed in 1913 and is located on Asilomar Blvd, Pacific Grove, California. It was added to the National Register of Historic Places on February the 27nd 1987 with the reference number 87000823. The Grounds have the architectural style of American Craftsman.\n",
      "\n",
      "\n",
      "Asilomar Conference Grounds, is located on Asilomar Blvd, in Pacific Grove, California. They were constructed in the American Craftsman style in 1913, and has been added to the National Register of Historic Places on 27 February, 1987 (reference number 87000823).\n",
      "\n",
      "\n",
      "Asilomar Conference Grounds which was constructed in 1913 in the architectural style of American Craftsman is located at Asilomar Blvd., Pacific Grove, California. It was added to the National Register of Historic Places on 27 February 1987 with the reference number 87000823.\n",
      "\n",
      "\n",
      "\n",
      "\n",
      "Testing category: [City]\n",
      "Testing category: [ComicsCharacter]\n",
      "Number of triples in X>1 tripleset that aren't in 1 tripleset: [9]\n",
      "Example of triple:  Bill_Oddie | birthPlace | Lancashire\n",
      "\n",
      "\n",
      "Triple info: category=ComicsCharacter eid=Id5 idx=dev_ComicsCharacter_2_Id5\n",
      "\n",
      "\tModified triples:\n",
      "\n",
      "Bananaman | starring | Bill_Oddie\n",
      "Bill_Oddie | birthPlace | Lancashire\n",
      "\n",
      "\n",
      "\tLexicalizations:\n",
      "\n",
      "Bill Oddie, who stars in Bananaman, was born in Lancashire.\n",
      "\n",
      "\n",
      "Bananaman starred Bill Oddie who was born in Lancashire.\n",
      "\n",
      "\n",
      "Bill Oddie, who was born in Lancashire, starred in Bananaman.\n",
      "\n",
      "\n",
      "\n",
      "\n",
      "Testing category: [Food]\n",
      "Number of triples in X>1 tripleset that aren't in 1 tripleset: [34]\n",
      "Example of triple:  Bhajji | alternativeName | \"Bhaji, bajji\"\n",
      "\n",
      "\n",
      "Triple info: category=Food eid=Id212 idx=train_Food_3_Id212\n",
      "\n",
      "\tModified triples:\n",
      "\n",
      "Bhajji | country | India\n",
      "Bhajji | alternativeName | \"Bhaji, bajji\"\n",
      "Bhajji | ingredient | Gram_flour\n",
      "\n",
      "\n",
      "\tLexicalizations:\n",
      "\n",
      "Coming form India and made with gram flour,Bhajji, has the alternative names Bhaji and bajji.\n",
      "\n",
      "\n",
      "An ingredient of bhajji is gram flour, bhajji is from India and has the alternatives names of bhaji and bajji.\n",
      "\n",
      "\n",
      "Bhajji originate from India where they are also known as Bhaji or bajji. One of the ingredients used is gram flour.\n",
      "\n",
      "\n",
      "\n",
      "\n",
      "Testing category: [Monument]\n",
      "Number of triples in X>1 tripleset that aren't in 1 tripleset: [5]\n",
      "Example of triple:  11th_Mississippi_Infantry_Monument | established | 2000\n",
      "\n",
      "\n",
      "Triple info: category=Monument eid=Id5 idx=train_Monument_3_Id5\n",
      "\n",
      "\tModified triples:\n",
      "\n",
      "11th_Mississippi_Infantry_Monument | location | Adams_County,_Pennsylvania\n",
      "11th_Mississippi_Infantry_Monument | established | 2000\n",
      "11th_Mississippi_Infantry_Monument | category | Contributing_property\n",
      "\n",
      "\n",
      "\tLexicalizations:\n",
      "\n",
      "The 11th Mississippi Infantry Monument which is located in Adams County, Pennsylvania. It was established in 2000 and falls under the category of contributing property.\n",
      "\n",
      "\n",
      "The location of the 11th Mississippi Infantry Monument is Adams County, Pennsylvania and was established in 2000 where it is categorised as contributing property,.\n",
      "\n",
      "\n",
      "The 11th Mississippi Infantry Monument (completed in 2000) is located in Adams County, Pennsylvania, and falls under the category of Contributing property.\n",
      "\n",
      "\n",
      "\n",
      "\n",
      "Testing category: [SportsTeam]\n",
      "Number of triples in X>1 tripleset that aren't in 1 tripleset: [29]\n",
      "Example of triple:  A.F.C._Blackpool | ground | Blackpool\n",
      "\n",
      "\n",
      "Triple info: category=SportsTeam eid=Id60 idx=train_SportsTeam_4_Id60\n",
      "\n",
      "\tModified triples:\n",
      "\n",
      "A.F.C._Blackpool | manager | Stuart_Parker_(footballer)\n",
      "Stuart_Parker_(footballer) | club | KV_Mechelen\n",
      "Blackpool | leader | Gordon_Marsden\n",
      "A.F.C._Blackpool | ground | Blackpool\n",
      "\n",
      "\n",
      "\tLexicalizations:\n",
      "\n",
      "AFC Blackpool is based in the city of Blackpool where Gordon Marsden is one of the leaders. It is managed by the Footballer Stuart Parker who has represented the club KV Mechelen.\n",
      "\n",
      "\n",
      "Stuart Parker is part of the KV Mechelen Club and manager of A.F.C. Blackpool whose ground is in Blackpool. The leader of Blackpool is Gordon Marsden.\n",
      "\n",
      "\n",
      "\n",
      "\n",
      "Testing category: [University]\n",
      "Number of triples in X>1 tripleset that aren't in 1 tripleset: [7]\n",
      "Example of triple:  Kerala | has to its northwest | Mahé,_India\n",
      "\n",
      "\n",
      "Triple info: category=University eid=Id7 idx=train_University_4_Id7\n",
      "\n",
      "\tModified triples:\n",
      "\n",
      "AWH_Engineering_College | country | India\n",
      "AWH_Engineering_College | established | 2001\n",
      "AWH_Engineering_College | state | Kerala\n",
      "Kerala | has to its northwest | Mahé,_India\n",
      "\n",
      "\n",
      "\tLexicalizations:\n",
      "\n",
      "Northwest of Mahe, India is the state of Kerala which is the location of the AWH Engineering College which was established in 2001.\n",
      "\n",
      "\n",
      "The AWH Engineering College in Kerala, India was established in 2001, it is located southeast of Mahe.\n",
      "\n",
      "\n",
      "AWH Engineering College is located in Kerala, India. It was established in 2001. It has Mahe, India to its northwest.\n",
      "\n",
      "\n",
      "\n",
      "\n",
      "Testing category: [WrittenWork]\n"
     ]
    },
    {
     "name": "stdout",
     "output_type": "stream",
     "text": [
      "Number of triples in X>1 tripleset that aren't in 1 tripleset: [24]\n",
      "Example of triple:  1634:_The_Ram_Rebellion | author | Eric_Flint\n",
      "\n",
      "\n",
      "Triple info: category=WrittenWork eid=Id20 idx=train_WrittenWork_4_Id20\n",
      "\n",
      "\tModified triples:\n",
      "\n",
      "1634:_The_Ram_Rebellion | author | Eric_Flint\n",
      "1634:_The_Ram_Rebellion | mediaType | Hardcover\n",
      "1634:_The_Ram_Rebellion | numberOfPages | \"512\"\n",
      "1634:_The_Ram_Rebellion | ISBN_number | \"1-4165-2060-0\"\n",
      "\n",
      "\n",
      "\tLexicalizations:\n",
      "\n",
      "Eric Flint wrote the book \"1634: The Ram Rebellion\" and is 512 pages long. It can be found in hardcover and has the ISBN number 1-4165-2060-0.\n",
      "\n",
      "\n",
      "The book titled 1634: The Ram Rebellion by Eric Flint is a hardcover, has 512 pages and an ISBN number of 1-4165-2060-0.\n",
      "\n",
      "\n",
      "Eric Flint is the author of 1634: The Ram Rebellion which is a hardcover book. It has 512 pages and the ISBN number is 1-4165-2060-0.\n",
      "\n",
      "\n",
      "\n",
      "\n"
     ]
    }
   ],
   "source": [
    "from config import CATEGORIES\n",
    "\n",
    "for category in CATEGORIES:\n",
    "    \n",
    "    print(\"Testing category: [{}]\".format(category))\n",
    "    \n",
    "    triple_1_entries = train_dev.subset(ntriples=[1], categories=[category]).mdf\n",
    "    \n",
    "    triple_gt1_entries = train_dev.subset(ntriples=[2, 3, 4, 5, 6, 7], categories=[category]).mdf\n",
    "    \n",
    "    if len(triple_gt1_entries) == 0:\n",
    "        \n",
    "        continue\n",
    "    \n",
    "    not_in_triple1 = triple_gt1_entries[~triple_gt1_entries.mtext.isin(triple_1_entries.mtext)]\n",
    "    \n",
    "    print(\"Number of triples in X>1 tripleset that aren't in 1 tripleset: [{}]\"\\\n",
    "          .format(len(not_in_triple1.mtext.unique())))\n",
    "    if len(not_in_triple1):\n",
    "        \n",
    "        triple_sample = not_in_triple1.sample()\n",
    "        print('Example of triple: ', triple_sample.mtext.values[0])\n",
    "        sample = train_dev.sample(idx=triple_sample.idx.values[0])\n",
    "        print('\\n')\n",
    "        print(sample)\n",
    "        \n",
    "    print('\\n')"
   ]
  },
  {
   "cell_type": "markdown",
   "metadata": {},
   "source": [
    "So, there are triples in X>1 triplesets datasets wich doesn't occur in the respective 1 tripleset dataset, of the same category."
   ]
  },
  {
   "cell_type": "markdown",
   "metadata": {},
   "source": [
    "### And what about if all triples in Xtriple set are in 1triple set?"
   ]
  },
  {
   "cell_type": "code",
   "execution_count": 10,
   "metadata": {},
   "outputs": [
    {
     "name": "stdout",
     "output_type": "stream",
     "text": [
      "There are 176 distinct triples in X>1 datasets that aren't in 1 datasets\n"
     ]
    }
   ],
   "source": [
    "triple_1 = train_dev.subset(ntriples=[1]).mdf\n",
    "triples_gt1 = train_dev.subset(ntriples=[2, 3, 4, 5, 6, 7]).mdf\n",
    "\n",
    "in_gt1_not_1 = triples_gt1[~triples_gt1.mtext.isin(triple_1.mtext)]\n",
    "\n",
    "print(\"There are {} distinct triples in X>1 datasets that aren't in 1 datasets\"\\\n",
    "      .format(len(in_gt1_not_1.mtext.unique())))"
   ]
  },
  {
   "cell_type": "code",
   "execution_count": 11,
   "metadata": {},
   "outputs": [
    {
     "name": "stdout",
     "output_type": "stream",
     "text": [
      "Triple: Mendrisio | neighboringMunicipality | Meride\n",
      "\n",
      "\n",
      "Triple info: category=University eid=Id17 idx=train_University_5_Id17\n",
      "\n",
      "\tModified triples:\n",
      "\n",
      "Accademia_di_Architettura_di_Mendrisio | country | Switzerland\n",
      "Mendrisio | neighboringMunicipality | Meride\n",
      "Accademia_di_Architettura_di_Mendrisio | city | Mendrisio\n",
      "Switzerland | leaderName | Johann_Schneider-Ammann\n",
      "Switzerland | legislature | Federal_Assembly_(Switzerland)\n",
      "\n",
      "\n",
      "\tLexicalizations:\n",
      "\n",
      "The Accedemia di Architettura di Mendrisio is located in Mendrisio, Switzerland. Mendrisio's neighbouring municipality is Meride. The leader of Switzerland is Johann Schneider-Ammann and its legislature is the Federal Assembly.\n",
      "\n",
      "\n",
      "The Swiss legislature is the Federal Assembly and the leader of the country is Johann Schneider-Ammann. The Accademia di Architettura di Mendrisio is located in the city of Mendrisio which neighbours the municipality of Meride.\n",
      "\n",
      "\n",
      "The Accademia di Architettura di Mendrisio is neighboured by Meride in Switzerland. The country is led by Johann Schneider-Ammann and the Federal Assembly.\n",
      "\n",
      "\n"
     ]
    }
   ],
   "source": [
    "sample = in_gt1_not_1.sample()\n",
    "\n",
    "print('Triple: {}'.format(sample.mtext.values[0]))\n",
    "\n",
    "print('\\n')\n",
    "\n",
    "print(train_dev.sample(idx=sample.idx.values[0]))"
   ]
  },
  {
   "cell_type": "markdown",
   "metadata": {},
   "source": [
    "So, there are triples in X>1 datasets that don't occur in 1 datasets at all. This impacts my approach of generating templates with 1 datasets only :)"
   ]
  },
  {
   "cell_type": "markdown",
   "metadata": {},
   "source": [
    "### Now, all 1triple set occur in X>1?"
   ]
  },
  {
   "cell_type": "code",
   "execution_count": 12,
   "metadata": {},
   "outputs": [
    {
     "name": "stdout",
     "output_type": "stream",
     "text": [
      "There are 312 distinct triples in 1 datasets that aren't in X>1 datasets\n"
     ]
    }
   ],
   "source": [
    "in_1_not_gt1 = triple_1[~triple_1.mtext.isin(triples_gt1.mtext)]\n",
    "\n",
    "print(\"There are {} distinct triples in 1 datasets that aren't in X>1 datasets\"\\\n",
    "      .format(len(in_1_not_gt1.mtext.unique())))"
   ]
  },
  {
   "cell_type": "code",
   "execution_count": 13,
   "metadata": {},
   "outputs": [
    {
     "name": "stdout",
     "output_type": "stream",
     "text": [
      "Triple: New_Jersey | largestCity | Newark,_New_Jersey\n",
      "\n",
      "\n",
      "Triple info: category=City eid=Id202 idx=train_City_1_Id202\n",
      "\n",
      "\tModified triples:\n",
      "\n",
      "New_Jersey | largestCity | Newark,_New_Jersey\n",
      "\n",
      "\n",
      "\tLexicalizations:\n",
      "\n",
      "Newark is the largest city of New Jersey.\n",
      "\n",
      "\n",
      "The largest city in New Jersey is Newark.\n",
      "\n",
      "\n"
     ]
    }
   ],
   "source": [
    "sample = in_1_not_gt1.sample()\n",
    "\n",
    "print('Triple: {}'.format(sample.mtext.values[0]))\n",
    "\n",
    "print('\\n')\n",
    "\n",
    "print(train_dev.sample(idx=sample.idx.values[0]))"
   ]
  },
  {
   "cell_type": "markdown",
   "metadata": {},
   "source": [
    "## Distribution per category and number of triples"
   ]
  },
  {
   "cell_type": "code",
   "execution_count": 14,
   "metadata": {},
   "outputs": [],
   "source": [
    "def heatmap_by_category_ntriples(ds):\n",
    "    \n",
    "    # makes a figure\n",
    "    _, ax = plt.subplots(1, 1, figsize=(8, 8))\n",
    "    # heatmap of counts per category x ntriples\n",
    "    sns.heatmap(pd.crosstab(ds.category, ds.ntriples), \n",
    "                # annotate counts\n",
    "                annot=True,\n",
    "                ax=ax,\n",
    "                # integer formatting\n",
    "                fmt='d',\n",
    "                cmap='Blues')"
   ]
  },
  {
   "cell_type": "markdown",
   "metadata": {},
   "source": [
    "### train_dev"
   ]
  },
  {
   "cell_type": "code",
   "execution_count": 15,
   "metadata": {},
   "outputs": [
    {
     "data": {
      "image/png": "[encoded data removed]",
      "text/plain": [
       "<Figure size 576x576 with 2 Axes>"
      ]
     },
     "metadata": {
      "needs_background": "light"
     },
     "output_type": "display_data"
    }
   ],
   "source": [
    "heatmap_by_category_ntriples(train_dev.edf)"
   ]
  },
  {
   "cell_type": "markdown",
   "metadata": {},
   "source": [
    "### test_unseen_with_lex\n",
    "\n",
    "unseen categories"
   ]
  },
  {
   "cell_type": "code",
   "execution_count": 16,
   "metadata": {},
   "outputs": [
    {
     "data": {
      "image/png": "[encoded data removed]",
      "text/plain": [
       "<Figure size 576x576 with 2 Axes>"
      ]
     },
     "metadata": {
      "needs_background": "light"
     },
     "output_type": "display_data"
    }
   ],
   "source": [
    "heatmap_by_category_ntriples(test_unseen_with_lex.edf)"
   ]
  },
  {
   "cell_type": "markdown",
   "metadata": {},
   "source": [
    "# Have a look at a sample"
   ]
  },
  {
   "cell_type": "code",
   "execution_count": 17,
   "metadata": {},
   "outputs": [
    {
     "data": {
      "text/plain": [
       "Triple info: category=Astronaut eid=Id19 idx=train_Astronaut_1_Id19\n",
       "\n",
       "\tModified triples:\n",
       "\n",
       "Alan_Shepard | status | \"Deceased\"\n",
       "\n",
       "\n",
       "\tLexicalizations:\n",
       "\n",
       "Alan Shepard is dead.\n",
       "\n",
       "\n",
       "Alan Shepard is deceased.\n"
      ]
     },
     "execution_count": 17,
     "metadata": {},
     "output_type": "execute_result"
    }
   ],
   "source": [
    "train_dev.sample(category='Astronaut', ntriples=1, seed=100)"
   ]
  },
  {
   "cell_type": "markdown",
   "metadata": {},
   "source": [
    "# Is there any duplicates?"
   ]
  },
  {
   "cell_type": "markdown",
   "metadata": {},
   "source": [
    "## Is there any modified triple duplicated in a tripleset?\n",
    "\n",
    "No"
   ]
  },
  {
   "cell_type": "code",
   "execution_count": 18,
   "metadata": {},
   "outputs": [],
   "source": [
    "# count how many entries has duplicated mtriples among its mtriples\n",
    "def n_duplicated_mtriples_per_entry(ds):\n",
    "    \n",
    "    # group by\n",
    "    #    idx, mtext -> if there is a group with more than 1 element\n",
    "    #       it means that there are duplicateds mtext(mtext) in a tripleset(idx)\n",
    "    mtriples_count_per_entry = ds.mdf.groupby(['idx', 'mtext']).size()\n",
    "    \n",
    "    # sum(true = 1 false = 0) the cases of duplications\n",
    "    return (mtriples_count_per_entry > 1).sum()"
   ]
  },
  {
   "cell_type": "code",
   "execution_count": 19,
   "metadata": {},
   "outputs": [
    {
     "data": {
      "text/plain": [
       "train_dev               0\n",
       "test_with_lex           0\n",
       "test_unseen_with_lex    0\n",
       "Name: number of cases of triples duplicated in a tripleset, dtype: int64"
      ]
     },
     "execution_count": 19,
     "metadata": {},
     "output_type": "execute_result"
    }
   ],
   "source": [
    "pd.Series({dataset.dataset_name: n_duplicated_mtriples_per_entry(dataset)\n",
    "             for dataset in datasets},\n",
    "          name='number of cases of triples duplicated in a tripleset')"
   ]
  },
  {
   "cell_type": "markdown",
   "metadata": {},
   "source": [
    "## Is there any modified triple duplicated among all entries?\n",
    "\n",
    "yes"
   ]
  },
  {
   "cell_type": "code",
   "execution_count": 20,
   "metadata": {},
   "outputs": [],
   "source": [
    "# counts, for each mtriple, in how many entries it occurs\n",
    "def mtriples_count(ds):\n",
    "    \n",
    "    return ds.mdf.mtext.value_counts()\n",
    "\n",
    "def mtriples_count_describe(ds):\n",
    "    \n",
    "    s = mtriples_count(ds).describe()\n",
    "    s.name = ds.dataset_name\n",
    "    \n",
    "    return s"
   ]
  },
  {
   "cell_type": "code",
   "execution_count": 21,
   "metadata": {},
   "outputs": [
    {
     "data": {
      "text/html": [
       "<div>\n",
       "<style scoped>\n",
       "    .dataframe tbody tr th:only-of-type {\n",
       "        vertical-align: middle;\n",
       "    }\n",
       "\n",
       "    .dataframe tbody tr th {\n",
       "        vertical-align: top;\n",
       "    }\n",
       "\n",
       "    .dataframe thead th {\n",
       "        text-align: right;\n",
       "    }\n",
       "</style>\n",
       "<table border=\"1\" class=\"dataframe\">\n",
       "  <thead>\n",
       "    <tr style=\"text-align: right;\">\n",
       "      <th></th>\n",
       "      <th>train_dev</th>\n",
       "      <th>test_with_lex</th>\n",
       "      <th>test_unseen_with_lex</th>\n",
       "    </tr>\n",
       "  </thead>\n",
       "  <tbody>\n",
       "    <tr>\n",
       "      <th>count</th>\n",
       "      <td>2131.000000</td>\n",
       "      <td>2331.000000</td>\n",
       "      <td>1068.000000</td>\n",
       "    </tr>\n",
       "    <tr>\n",
       "      <th>mean</th>\n",
       "      <td>10.802909</td>\n",
       "      <td>2.307164</td>\n",
       "      <td>2.294007</td>\n",
       "    </tr>\n",
       "    <tr>\n",
       "      <th>std</th>\n",
       "      <td>13.211164</td>\n",
       "      <td>2.216992</td>\n",
       "      <td>1.641108</td>\n",
       "    </tr>\n",
       "    <tr>\n",
       "      <th>min</th>\n",
       "      <td>1.000000</td>\n",
       "      <td>1.000000</td>\n",
       "      <td>1.000000</td>\n",
       "    </tr>\n",
       "    <tr>\n",
       "      <th>25%</th>\n",
       "      <td>3.000000</td>\n",
       "      <td>1.000000</td>\n",
       "      <td>1.000000</td>\n",
       "    </tr>\n",
       "    <tr>\n",
       "      <th>50%</th>\n",
       "      <td>7.000000</td>\n",
       "      <td>2.000000</td>\n",
       "      <td>2.000000</td>\n",
       "    </tr>\n",
       "    <tr>\n",
       "      <th>75%</th>\n",
       "      <td>13.000000</td>\n",
       "      <td>3.000000</td>\n",
       "      <td>3.000000</td>\n",
       "    </tr>\n",
       "    <tr>\n",
       "      <th>max</th>\n",
       "      <td>123.000000</td>\n",
       "      <td>39.000000</td>\n",
       "      <td>10.000000</td>\n",
       "    </tr>\n",
       "  </tbody>\n",
       "</table>\n",
       "</div>"
      ],
      "text/plain": [
       "         train_dev  test_with_lex  test_unseen_with_lex\n",
       "count  2131.000000    2331.000000           1068.000000\n",
       "mean     10.802909       2.307164              2.294007\n",
       "std      13.211164       2.216992              1.641108\n",
       "min       1.000000       1.000000              1.000000\n",
       "25%       3.000000       1.000000              1.000000\n",
       "50%       7.000000       2.000000              2.000000\n",
       "75%      13.000000       3.000000              3.000000\n",
       "max     123.000000      39.000000             10.000000"
      ]
     },
     "execution_count": 21,
     "metadata": {},
     "output_type": "execute_result"
    }
   ],
   "source": [
    "# ex: on average, each triple of train_dev dataset occurs in 10.8 entries\n",
    "#     on maximum, 123 times\n",
    "pd.concat([mtriples_count_describe(ds) for ds in datasets], axis=1)"
   ]
  },
  {
   "cell_type": "code",
   "execution_count": 22,
   "metadata": {},
   "outputs": [
    {
     "data": {
      "text/plain": [
       "English_language | spokenIn | Great_Britain    123\n",
       "United_States | capital | Washington,_D.C.     105\n",
       "United_States | language | English_language    102\n",
       "Name: mtext, dtype: int64"
      ]
     },
     "execution_count": 22,
     "metadata": {},
     "output_type": "execute_result"
    }
   ],
   "source": [
    "# most frequent triples in train dataset\n",
    "\n",
    "cm_train = mtriples_count(train_dev)\n",
    "\n",
    "cm_train.head(3)"
   ]
  },
  {
   "cell_type": "code",
   "execution_count": 23,
   "metadata": {},
   "outputs": [
    {
     "data": {
      "text/plain": [
       "<matplotlib.axes._subplots.AxesSubplot at 0x7fbc0b3f4828>"
      ]
     },
     "execution_count": 23,
     "metadata": {},
     "output_type": "execute_result"
    },
    {
     "data": {
      "image/png": "[encoded data removed]",
      "text/plain": [
       "<Figure size 864x360 with 1 Axes>"
      ]
     },
     "metadata": {
      "needs_background": "light"
     },
     "output_type": "display_data"
    }
   ],
   "source": [
    "mtriples_count(train_dev).hist(bins=20, figsize=(12, 5))"
   ]
  },
  {
   "cell_type": "markdown",
   "metadata": {},
   "source": [
    "## Are entries with shared triples lexicalized the same way?\n",
    "\n",
    "Remember that the same triple can appear in more than one entry.\n",
    "\n",
    "There are some patterns..."
   ]
  },
  {
   "cell_type": "code",
   "execution_count": 24,
   "metadata": {},
   "outputs": [],
   "source": [
    "# groups by mtext and lists the lexicalizations\n",
    "def mtriples_with_generated_lexes(ds):\n",
    "    \n",
    "    # merges modified triple dataset and lexicalization dataset\n",
    "    df = pd.merge(ds.mdf, ds.ldf)\n",
    "    \n",
    "    # groups by triple and for each triple generates a list of lexicalizations\n",
    "    ddf = df.groupby('mtext').ltext.apply(list).to_frame()\n",
    "    # adds a column with the number of lexicalizations\n",
    "    ddf['size'] = ddf.ltext.apply(len)\n",
    "    \n",
    "    return ddf\n",
    "\n",
    "# prints triple and its lexicalizations\n",
    "def print_mtriple_with_generated_lexes(mtriple):\n",
    "    \n",
    "    print(\"triple: \", mtriple.name, '\\n')\n",
    "    for ltext in mtriple.ltext:\n",
    "        print(\"lexicalization: \", ltext, '\\n')"
   ]
  },
  {
   "cell_type": "markdown",
   "metadata": {},
   "source": [
    "### train_dev"
   ]
  },
  {
   "cell_type": "markdown",
   "metadata": {},
   "source": [
    "For example: \n",
    "\n",
    "* *11_Diagonal_Street | floorArea | 1200 (square metres)* appears in entries with eids 3_14(size = 1) and 29_14(size = 4)"
   ]
  },
  {
   "cell_type": "code",
   "execution_count": 25,
   "metadata": {},
   "outputs": [
    {
     "data": {
      "text/plain": [
       "Triple info: category=Building eid=Id15 idx=train_Building_4_Id15\n",
       "\n",
       "\tModified triples:\n",
       "\n",
       "11_Diagonal_Street | completionDate | 1983\n",
       "11_Diagonal_Street | floorCount | 20\n",
       "11_Diagonal_Street | architect | Helmut_Jahn\n",
       "11_Diagonal_Street | floorArea | 1200 (square metres)\n",
       "\n",
       "\n",
       "\tLexicalizations:\n",
       "\n",
       "The architect of 11 Diagonal Street is Helmut Jahn and it was completed in 1983. It has 20 floors and a floor area of 1200 square metres.\n",
       "\n",
       "\n",
       "11 Diagonal Street was designed by Helmut Jahn and was completed in 1983. It has 20 floors and an area of 1200 square metres.\n",
       "\n",
       "\n",
       "Helmut Jahn was the architect of 11 Diagonal Street which was completed in 1983 with 20 floors and a total floor area of 1200 square metres.\n"
      ]
     },
     "execution_count": 25,
     "metadata": {},
     "output_type": "execute_result"
    }
   ],
   "source": [
    "train_dev.sample(idx='train_Building_4_Id15')"
   ]
  },
  {
   "cell_type": "code",
   "execution_count": 26,
   "metadata": {},
   "outputs": [
    {
     "data": {
      "text/plain": [
       "Triple info: category=Building eid=Id15 idx=train_Building_1_Id15\n",
       "\n",
       "\tModified triples:\n",
       "\n",
       "11_Diagonal_Street | floorArea | 1200 (square metres)\n",
       "\n",
       "\n",
       "\tLexicalizations:\n",
       "\n",
       "11 Diagonal Street has a floor area of 1200 square metres.\n"
      ]
     },
     "execution_count": 26,
     "metadata": {},
     "output_type": "execute_result"
    }
   ],
   "source": [
    "train_dev.sample(idx='train_Building_1_Id15')"
   ]
  },
  {
   "cell_type": "code",
   "execution_count": 27,
   "metadata": {},
   "outputs": [],
   "source": [
    "mtriples_w_lexes_train = mtriples_with_generated_lexes(train_dev)"
   ]
  },
  {
   "cell_type": "code",
   "execution_count": 28,
   "metadata": {},
   "outputs": [
    {
     "data": {
      "text/plain": [
       "count    2131.000000\n",
       "mean       28.432191\n",
       "std        34.977128\n",
       "min         1.000000\n",
       "25%         6.000000\n",
       "50%        17.000000\n",
       "75%        36.000000\n",
       "max       319.000000\n",
       "Name: size, dtype: float64"
      ]
     },
     "execution_count": 28,
     "metadata": {},
     "output_type": "execute_result"
    }
   ],
   "source": [
    "# on average, each triple occurs in 28 lexicalizations\n",
    "# on maximum, 319\n",
    "mtriples_w_lexes_train['size'].describe()"
   ]
  },
  {
   "cell_type": "code",
   "execution_count": 29,
   "metadata": {},
   "outputs": [
    {
     "data": {
      "text/plain": [
       "<matplotlib.axes._subplots.AxesSubplot at 0x7fbc0abf1588>"
      ]
     },
     "execution_count": 29,
     "metadata": {},
     "output_type": "execute_result"
    },
    {
     "data": {
      "image/png": "[encoded data removed]",
      "text/plain": [
       "<Figure size 864x360 with 1 Axes>"
      ]
     },
     "metadata": {
      "needs_background": "light"
     },
     "output_type": "display_data"
    }
   ],
   "source": [
    "mtriples_w_lexes_train['size'].hist(bins=20, figsize=(12, 5))"
   ]
  },
  {
   "cell_type": "code",
   "execution_count": 30,
   "metadata": {},
   "outputs": [
    {
     "name": "stdout",
     "output_type": "stream",
     "text": [
      "triple:  11_Diagonal_Street | floorArea | 1200 (square metres) \n",
      "\n",
      "lexicalization:  11 Diagonal Street has a floor area of 1200 square metres. \n",
      "\n",
      "lexicalization:  The architect of 11 Diagonal Street is Helmut Jahn and it was completed in 1983. It has 20 floors and a floor area of 1200 square metres. \n",
      "\n",
      "lexicalization:  11 Diagonal Street was designed by Helmut Jahn and was completed in 1983. It has 20 floors and an area of 1200 square metres. \n",
      "\n",
      "lexicalization:  Helmut Jahn was the architect of 11 Diagonal Street which was completed in 1983 with 20 floors and a total floor area of 1200 square metres. \n",
      "\n"
     ]
    }
   ],
   "source": [
    "# some examples of triples that are lexicalizad in more than one way\n",
    "mtriples_w_lexes_train_size_lt_5 = mtriples_w_lexes_train[mtriples_w_lexes_train['size'] < 5]\n",
    "\n",
    "print_mtriple_with_generated_lexes(mtriples_w_lexes_train_size_lt_5.iloc[0, :])"
   ]
  },
  {
   "cell_type": "code",
   "execution_count": 31,
   "metadata": {},
   "outputs": [
    {
     "name": "stdout",
     "output_type": "stream",
     "text": [
      "triple:  103_Colmore_Row | architect | John_Madin \n",
      "\n",
      "lexicalization:  Architect John Madin, designed 103 Colmore Row, located on Colmore Row, in Birmingham, England. \n",
      "\n",
      "lexicalization:  John Madin designed 103 Colmore Row, Birmingham, England. \n",
      "\n",
      "lexicalization:  103 Colmore Row located in Birmingham, England was designed by the architect John Madin. \n",
      "\n",
      "lexicalization:  103 Colmore Row, located at Colmore Row, was designed by the architect, John Madin. \n",
      "\n",
      "lexicalization:  John Madin is the architect of 103 Colmore Row, located in Colmore Row. \n",
      "\n",
      "lexicalization:  Architect John Madin designed 103 Colmore Row, located at Colmore Row. \n",
      "\n",
      "lexicalization:  103 Colmore Row was designed by John Madin, born in Birmingham. \n",
      "\n",
      "lexicalization:  103 Colmore Row was designed by the architect John Madin who was born in Birmingham. \n",
      "\n",
      "lexicalization:  Architect John Madin, born in Birmingham, designed 103 Colmore Row. \n",
      "\n",
      "lexicalization:  John Madin was an architect from Birmingham who designed 103 Colmore Row. \n",
      "\n",
      "lexicalization:  103 Colmore Row was designed by the architect John Madin whose hometown was Birmingham. \n",
      "\n",
      "lexicalization:  John Madin from Birmingham was the architect of 103 Colmore Row. \n",
      "\n",
      "lexicalization:  103 Colmore Row, designed by the architect John Madin is located in Birmingham. \n",
      "\n",
      "lexicalization:  103 Colmore Row, designed by architect John Madin, is located in Birmingham. \n",
      "\n",
      "lexicalization:  103 Colmore Row is located in Birmingham and was designed by the architect John Madin. \n",
      "\n",
      "lexicalization:  103 Colmore Row in Birmingham, England was completed in 1976 and designed by John Madin. It has 23 floors. \n",
      "\n",
      "lexicalization:  103 Colmore Row is located on Colmore Row, Birmingham, England. It was designed by the architect, John Madin, has 23 floors and the building of it was completed in 1976. \n",
      "\n",
      "lexicalization:  103 Colmore Row, Birmingham, England, with 23 floors, was designed by the architect John Madin and was completed in 1976. \n",
      "\n",
      "lexicalization:  John Madin was the architect of 103 Colmore Row which has 23 floors and was completed in 1976. \n",
      "\n",
      "lexicalization:  Designed by architect John Madin, 103 Colmore Row was completed in 1976, is comprised of 23 floors and is located at Colmore Row. \n",
      "\n",
      "lexicalization:  103 Colmore Row, designed by John Madin (born in Birmingham) is located in Colmore Row, Birmingham, England. It's architectural style is Brutalist. \n",
      "\n",
      "lexicalization:  An example of Brutalist architecture, 103 Colmore Row, in Birmingham, was conceived by local-born architect John Madin. \n",
      "\n",
      "lexicalization:  103 Colmore Row, Birmingham, England was designed by the architect John Madin, who was born in the city. The architectural style of 103 Colmore Row falls under Brutalist architecture. \n",
      "\n",
      "lexicalization:  103 Colmore Row was designed by the architect, John Madin, who was born in Birmingham. The building is in the architectural style \" Brutalist architecture\". \n",
      "\n",
      "lexicalization:  103 Colmore Row is located at Colmore Row and designed by John Madin born in Birmingham. It has the Brutalist architecture style. \n",
      "\n",
      "lexicalization:  103 Colmore Row (located in Colmore Row) is in the architectural style \" Brutalist architecture\", and was designed by Birmingham born architect, John Madin. \n",
      "\n",
      "lexicalization:  Born in Birmingham, John Madin designed 103 Colmore Row, which was completed in 1976 in Colmore Row, Birmingham, England. \n",
      "\n",
      "lexicalization:  103 Colmore Row, in Birmingham, England, was designed by the architect John Madin, who was born in Birmingham; it was completed in 1976. \n",
      "\n",
      "lexicalization:  John Madin was an architect who was born in Birmingham. He designed 103 Colmore Row, which was completed in 1976. \n",
      "\n",
      "lexicalization:  The architect John Madin was born in Birmingham and designed 103 Colmore Row which was completed in 1976. \n",
      "\n",
      "lexicalization:  103 Colmore Row, completed in 1976, is located at Colmore Row and was designed by the architect John Madin, born in Birmingham. \n",
      "\n",
      "lexicalization:  Designed by the architect John Madin (born in Birmingham), 103 Colmore Row has 23 floors and is located in Birmingham, England. \n",
      "\n",
      "lexicalization:  The architect John Madin was born in Birmingham, England, and designed 103 Colmore Row which has 23 floors and is located in the city. \n",
      "\n",
      "lexicalization:  John Madin (born in Birmingham) was the architect of 103 Colmore Row. Colmore Row, which is a 23 floor building. \n",
      "\n",
      "lexicalization:  Consisting of 23 floors, 103 Colman Row is located in Colman Row and was designed by Birmingham born, John Madin. \n",
      "\n",
      "lexicalization:  The 23 floor building at 103 Colmore Row in Birmingham was designed by John Madin, a local architect. \n",
      "\n",
      "lexicalization:  103 Colmore Row was designed by the architect, John Madin and it is located in Birmingham. It has 23 floors and it was completed in 1976. \n",
      "\n",
      "lexicalization:  103 Colmore Row in Birmingham was completed in 1976 with 23 floors and was designed by the architect John Madin. \n",
      "\n",
      "lexicalization:  103 Colmore Row in Birmingham, Alabama, designed by architect John Main, has 23 floors and was completed in 1976. \n",
      "\n",
      "lexicalization:  103 Colmore Row was designed by the architect, John Madin who was born in Birmingham which has the postcode area 'B' and is where the Liberal Democrats are the leaders. \n",
      "\n",
      "lexicalization:  John Madin, born in Birmingham, designed 103 Colmore Row. The B postcode is the postal code of Birmingham and the Liberal Democrats are leaders there. \n",
      "\n",
      "lexicalization:  Designer of 103 Colmore Row, John Madin's hometown was Birmingham, a town lead by the Liberal Democrats and the postcode area 'B'. \n",
      "\n",
      "lexicalization:  The architect John Madin who designed 103 Colmore Row was born in Birmingham which has the B postcode and is lead by the Liberal Democrats. \n",
      "\n",
      "lexicalization:  Birmingham has the B postcode and one of the city leaders is Labour politician John Clancy. The architect who designed 103 Colmore Row, John Madin, was born in the city. \n",
      "\n",
      "lexicalization:  John Madin the architect who designed 130 Colmore Row, was born in Birmingham which has the postcode 'B'and is where Labour politician John Clancy is leader. \n",
      "\n",
      "lexicalization:  103 Colmore Row was designed by Birmingham born architect John Madin. The British politician Khalid Mahmood is a leader in the city an the postcode is the letter B. \n",
      "\n",
      "lexicalization:  103 Colmore Row was designed by the architect John Madin, who was born in Birmingham. Khalid Mahmood is one of the leaders of Birmingham and the city has the postcode area 'B'. \n",
      "\n",
      "lexicalization:  Lead by Andrew Mitchell and with the postcode area 'B', Birmingham is the hometown of architect John Madin, whom designed 102 Colmore Row. \n",
      "\n",
      "lexicalization:  Birmingham, which has the B postcode is lead by Andrew Mitchell and is the hometown of architect John Madin who designed 103 Colmore Row. \n",
      "\n",
      "lexicalization:  103 Colmore Row was designed by the architect John Madin, who was born in Birmingham. The postal code of Birmingham is B and the leader is Andrew Mitchell. \n",
      "\n",
      "lexicalization:  The Conservative Party lead Birmingham which has the B postal code and is the birthplace of architect John Madin who designed 103 Colmore Row. \n",
      "\n",
      "lexicalization:  The B postcode area is the postal code of Birmingham which is lead by the Conservative Party (UK). The city is the birthplace of the architect John Madin who designed 103 Colmore Row. \n",
      "\n",
      "lexicalization:  103 Colmore Row was designed by the architect John Madin, who was born in Birmingham, UK (postcode area 'B'), governed by the Conservative Party. \n",
      "\n",
      "lexicalization:  The leader of Birmingham which has the B postcode is the Conservative Party (UK). The city is the home town of John Madin, the architect who designed 103 Colmore Row. \n",
      "\n",
      "lexicalization:  103 Colmore Row was designed by the architect John Madin, from Birmingham, UK (postcode 'B'), governed by the Conservative Party. \n",
      "\n",
      "lexicalization:  Tory-controlled Birmingham (postcode area B), is home to John Madin, the architect who designed 103 Colmore Row. \n",
      "\n",
      "lexicalization:  103 Colmore Row is located on Colmore Row, Birmingham, England. It was designed by the architect, John Madin, Who was born in Birmingham. It has 23 floors and was completed in 1976. \n",
      "\n",
      "lexicalization:  103 Colmore Row, Birmingham, England was designed by the architect John Madin, who was born in the city. The building has 23 floors and construction was completed in 1976. \n",
      "\n",
      "lexicalization:  103 Colmore Row, completed in 1976 with 23 floors, is located on Colmore Row in Birmingham, England. It was designed by architect John Madin, who was born in Birmingham. \n",
      "\n",
      "lexicalization:  John Madin was the architect of the building located at 103 Colmore Row .The building was completed in 1976. \n",
      "\n",
      "lexicalization:  Designed by, Birmingham born, architect, John Madin,103 Colmore Row was completed in 1976. It is located in Colmore Row and has 23 floors. \n",
      "\n",
      "lexicalization:  Architect John Madin (born in Birmingham) designed 103 Colmore Row in 1976 (located at Colmore Row and boasts 23 floors). \n",
      "\n",
      "lexicalization:  Birmingham is lead by the Birmingham City Council and the Liberal Democrats. The town (which has the B postcode) is the birthplace of the architect John Madin who designed 103 Colmore Row. \n",
      "\n",
      "lexicalization:  Birmingham is lead by Liberal Democrats, is governed by The Birmingham City Council (has postal code B) and is home to architect John Madin, who designed 103 Colmore Row. \n",
      "\n",
      "lexicalization:  Architect John Madin (born in Birmingham) designed 103 Colmore Row; Birmingham(postal code B) is governed by The Labour Party's(UK) Birmingham City Council. \n",
      "\n",
      "lexicalization:  The B postcode area is the postal code of Birmingham, which is led by the UK Labour Party and is governed by Birmingham City Council. John Madin, the architect who designed 103 Colmore Row, was born in Birmingham. \n",
      "\n",
      "lexicalization:  103 Colmore Row, Birmingham (postcode area 'B'), was designed by the architect John Madin who was born in the city. Birmingham's governing body is Birmingham City Council, which is lead by the Labour Party. \n",
      "\n",
      "lexicalization:  103 Colmore Row was designed by the architect, John Madin, who was born in Birmingham, with postcode area 'B'. Khalid Mahmood (British politician) is one of the leaders of Birmingham, alongside Birmingham City Council. \n",
      "\n",
      "lexicalization:  Birmingham's governing body is the City Council and Khalid Mahmood, a British politician is one of the leaders. The city is the birthplace of John Madin, the architect who designed 103 Colmore Row, and has the \"B\" postcode. \n",
      "\n",
      "lexicalization:  The governing body of Birmingham is the City Council and is lead by Andrew Mitchell. The city, which has the B postcode, is the hometown of architect John Madin who designed 103 Colmore Row. \n",
      "\n",
      "lexicalization:  Architect John Madin, of Birmingham, designed 103 Colmore Row; Birmingham postal code is B and is led by the Birmingham City Council and Andrew Mitchell. \n",
      "\n",
      "lexicalization:  Birmingham is lead by the City Council and the Labour Party and has the B postcode. It is the hometown of the architect John Madin who designed 103 Colmore Row. \n",
      "\n",
      "lexicalization:  The B postcode area is the postal code of Birmingham, which is led by the UK Labour Party and governed by Birmingham City Council. It is also the hometown of Joh Madin, the architect who designed 103 Colmore Row. \n",
      "\n",
      "lexicalization:  The governing body of Birmingham (which has the B postcode) is the City Council lead by the UK Labour Party. The city is the home town of John Madin, the architect who designed 103 Colmore Row. \n",
      "\n",
      "lexicalization:  Birminham, which has the B postcode, is lead by Labour politician John Clancy and the Birmingham City Council. It is the home town of architect John Madin who designed 103 Colmore Row. \n",
      "\n",
      "lexicalization:  103 Colmore Row was designed by the architect, John Madin, who originated from Birmingham (postal code 'B'). Labour politician, John Clancy is the leader of Birmingham, with Birmingham City Council as the governing body . \n",
      "\n",
      "lexicalization:  The governing body of Birmingham, which has the B postcode, is the City Council along with labour politician John Clancy. It is the home town of architect John Madin who designed 103 Colmore Row. \n",
      "\n",
      "lexicalization:  103 Colmore Row was designed by the architect, John Madin, who was born in Birmingham. With the postcode ''B'', Birmingham is run by Birmingham City Council with Khalid Mahmood as one of its leaders. \n",
      "\n",
      "lexicalization:  The governing body of Birmingham is the City Council along with the British politician Khalid Mahmood. The city, which has the B postcode, is the home town of John Madin who was the architect responsible for 103 Colmore Row. \n",
      "\n",
      "lexicalization:  Birmingham on the B postcode area is governed by the Birmingham council of which Khalid Mahmood is a member. 103 Colmore Row was designed by native son John Maddin. \n",
      "\n",
      "lexicalization:  John Madin, who was the architect of 103 Colmore Row was born in Birmingham. The governing body of the city (which has the B postcode) is the City Council lead by the UK Conservative Party. \n",
      "\n",
      "lexicalization:  Birmingham City Council governs the city of Birmingham which has the postcode area \"B\". It is lead by the Conservative Party(UK) and is the hometown of John Madin, the architect who designed 103 Colmore Row. \n",
      "\n",
      "lexicalization:  103 Colmore Row was designed by the architect John Madin, who was born in Birmingham. The leader of Birmingham is the Conservative Party (UK), and it has the postcode area 'B'. Its governing body is Birmingham City Council. \n",
      "\n",
      "lexicalization:  John Madin is an architect who was born in Birmingham, England and designed 103 Colmore Row. \n",
      "\n",
      "lexicalization:  103 Colmore Row located on Colmore Row, Birmingham, England, was designed by architect John Madin born in Birmingham. \n",
      "\n",
      "lexicalization:  103 Colmore Row is located on Colmore Row, Birmingham, England and was designed by the architect John Madin who calls the city his hometown. \n",
      "\n",
      "lexicalization:  John Madin was born in Birmingham (with Andrew Mitchell as a key leader) and became an architect, designing 103 Colmore Row. \n",
      "\n",
      "lexicalization:  Andrew Mitchell is a leader in Birmingham where the architect John Madin who designed 103 Colmore Row was born. \n",
      "\n",
      "lexicalization:  John Clancy is a labor politican who leads Birmingham, where architect John Madin, who designed 103 Colmore Row, was born. \n",
      "\n",
      "lexicalization:  John Clancy is the leader of Birmingham where John Madin, the designer of 103 Colmore Row, was born. \n",
      "\n",
      "lexicalization:  Labour politician, John Clancy is the leader of Birmingham. John Madin was born in this city and was the architect of 103 Colmore Row. \n",
      "\n",
      "lexicalization:  Birmingham born architect John Madin designed 103 Colmore Row. The British politician Khalid Mahmood is one of the leaders in Birmingham. \n",
      "\n",
      "lexicalization:  Khalid Mahmood is one of the leaders of Birmingham which was the birthplace of architect, John Madin, who designed 103 Colmore Row. \n",
      "\n",
      "lexicalization:  The architect John Madin was born in Birmingham (now led by the Labour Party) and designed 103 Colmore Row. \n",
      "\n",
      "lexicalization:  Birmingham, led by the Labour Party, was the birthplace of John Madin who was the architect that designed 103 Colmore Row. \n",
      "\n",
      "lexicalization:  103 Colmore Row was designed by the architect, John Madin who was born in Birmingham which is lead by The Labour Party. \n",
      "\n",
      "lexicalization:  Birmingham, which is lead by the Labour politician John Clancy, is the home town of the architect John Madin who designed 103 Colmore Row. \n",
      "\n",
      "lexicalization:  103 Colmore Row was designed by the architect John Madin, born in Birmingham whose leader is Labour politician John Clancy. \n",
      "\n",
      "lexicalization:  Labour politician, John Clancy is the leader of Birmingham, this city is the hometown of Joh Madin, who was the architect of 103 Colmore Row. \n",
      "\n",
      "lexicalization:  103 Colmore Row was designed by the architect John Madin whose home town is Birmingham, a town where Khalid Mahmood (British politician) is one of the leaders. \n",
      "\n",
      "lexicalization:  Khalid Mahmood is a British politician and one of the leaders of Birmingham which is the home town of the architect John Madin who designed 103 Colmore Row. \n",
      "\n",
      "lexicalization:  103 Colmore Row was designed by the architect Jhon Madin who was born in birgmingham where the leader is the conservative party (UK). \n",
      "\n",
      "lexicalization:  Birmingham, led by the Conservative Party, was the birthplace of John Madin who designed 103 Colmore Row. \n",
      "\n",
      "lexicalization:  The Liberal Democrats lead Birmingham, home town of architect John Madin, who designed 103 Colmore Row. \n",
      "\n",
      "lexicalization:  John Madin, who designed 103 Colmore Row, comes from Birmingham, which is run by the Liberal Democrats. \n",
      "\n",
      "lexicalization:  103 Colmore Row was designed by the architect, John Madin. \n",
      "\n",
      "lexicalization:  103 Colmore Row was designed by the architect John Madin. \n",
      "\n",
      "lexicalization:  The architect John Madin was the designer of 103 Colmore Row, which is located in his home city of Birmingham. Labour politician, John Clancy is the leader of Birmingham and the city has the postal code 'B'. \n",
      "\n",
      "lexicalization:  103 Colmore Row was designed by the architect, John Madin, Birmingham native. Birmingham has the postcode area 'B' and is lead by Labour politician, John Clancy. \n",
      "\n",
      "lexicalization:  Labour politician, John Clancy is the leader of Birmingham which has the postcode area 'B' and is home town of John Madin the architect who designed 103 Colmore Row. \n",
      "\n",
      "lexicalization:  103 Colmore Row was designed by the architect John Madin, who was born in Birmingham, where the postal code is 'B'. Andrew Mitchell is the leader of the city and Birmingham City Council is the governing body. \n",
      "\n",
      "lexicalization:  The City Council is the governing body for Birmingham where Andrew Mitchell is a leader. The city has the B postcode and is the birthplace of the Architect John Madin who designed 103 Colmore Row. \n",
      "\n",
      "lexicalization:  Birmingham is lead by Andrew Mitchell and the Birmingham City Council. The town, which has the B postcode, is the birthplace of architect John Madin who designed 103 Colmore Row. \n",
      "\n"
     ]
    }
   ],
   "source": [
    "# some examples of triples that are lexicalizad in more than a hundred ways\n",
    "mtriples_w_lexes_train_size_lt_5 = mtriples_w_lexes_train[mtriples_w_lexes_train['size'] > 100]\n",
    "\n",
    "print_mtriple_with_generated_lexes(mtriples_w_lexes_train_size_lt_5.iloc[0, :])"
   ]
  },
  {
   "cell_type": "markdown",
   "metadata": {},
   "source": [
    "### test_with_lex\n",
    "\n",
    "no, you mustn't see the test data"
   ]
  },
  {
   "cell_type": "markdown",
   "metadata": {},
   "source": [
    "# And what about lexicalizations for same predicates?"
   ]
  },
  {
   "cell_type": "code",
   "execution_count": 32,
   "metadata": {},
   "outputs": [],
   "source": [
    "# groups by m_predicate and lists the lexicalizations\n",
    "def m_predicates_with_generated_lexes(ds):\n",
    "    \n",
    "    # merges modified triple dataset and lexicalization dataset\n",
    "    df = pd.merge(ds.mdf, ds.ldf)\n",
    "    \n",
    "    # groups by triple and for each triple generates a list of lexicalizations\n",
    "    ddf = df.groupby('predicate').ltext.apply(list).to_frame()\n",
    "    # adds a column with the number of lexicalizations\n",
    "    ddf['size'] = ddf.ltext.apply(len)\n",
    "    \n",
    "    return ddf\n",
    "\n",
    "# prints triple and its lexicalizations\n",
    "def print_m_predicate_with_generated_lexes(mtriple):\n",
    "    \n",
    "    print(\"predicate: \", mtriple.name, '\\n')\n",
    "    for ltext in sorted(mtriple.ltext):\n",
    "        print(\"lexicalization: \", ltext, '\\n')"
   ]
  },
  {
   "cell_type": "code",
   "execution_count": 33,
   "metadata": {},
   "outputs": [],
   "source": [
    "m_predicates_w_lexes_train = m_predicates_with_generated_lexes(train_dev)"
   ]
  },
  {
   "cell_type": "code",
   "execution_count": 34,
   "metadata": {},
   "outputs": [
    {
     "data": {
      "text/plain": [
       "count     246.000000\n",
       "mean      246.296748\n",
       "std       597.935924\n",
       "min         1.000000\n",
       "25%        20.000000\n",
       "50%        67.000000\n",
       "75%       219.500000\n",
       "max      6345.000000\n",
       "Name: size, dtype: float64"
      ]
     },
     "execution_count": 34,
     "metadata": {},
     "output_type": "execute_result"
    }
   ],
   "source": [
    "# on average, each predicate occurs in 246 lexicalizations\n",
    "# on maximum, 6345\n",
    "\n",
    "m_predicates_w_lexes_train['size'].describe()"
   ]
  },
  {
   "cell_type": "code",
   "execution_count": 35,
   "metadata": {},
   "outputs": [
    {
     "data": {
      "text/html": [
       "<div>\n",
       "<style scoped>\n",
       "    .dataframe tbody tr th:only-of-type {\n",
       "        vertical-align: middle;\n",
       "    }\n",
       "\n",
       "    .dataframe tbody tr th {\n",
       "        vertical-align: top;\n",
       "    }\n",
       "\n",
       "    .dataframe thead th {\n",
       "        text-align: right;\n",
       "    }\n",
       "</style>\n",
       "<table border=\"1\" class=\"dataframe\">\n",
       "  <thead>\n",
       "    <tr style=\"text-align: right;\">\n",
       "      <th></th>\n",
       "      <th>predicate</th>\n",
       "      <th>size</th>\n",
       "    </tr>\n",
       "  </thead>\n",
       "  <tbody>\n",
       "    <tr>\n",
       "      <th>0</th>\n",
       "      <td>country</td>\n",
       "      <td>6345</td>\n",
       "    </tr>\n",
       "    <tr>\n",
       "      <th>1</th>\n",
       "      <td>location</td>\n",
       "      <td>4046</td>\n",
       "    </tr>\n",
       "    <tr>\n",
       "      <th>2</th>\n",
       "      <td>leaderName</td>\n",
       "      <td>3537</td>\n",
       "    </tr>\n",
       "    <tr>\n",
       "      <th>3</th>\n",
       "      <td>ingredient</td>\n",
       "      <td>1930</td>\n",
       "    </tr>\n",
       "    <tr>\n",
       "      <th>4</th>\n",
       "      <td>region</td>\n",
       "      <td>1673</td>\n",
       "    </tr>\n",
       "    <tr>\n",
       "      <th>5</th>\n",
       "      <td>isPartOf</td>\n",
       "      <td>1640</td>\n",
       "    </tr>\n",
       "    <tr>\n",
       "      <th>6</th>\n",
       "      <td>language</td>\n",
       "      <td>1596</td>\n",
       "    </tr>\n",
       "    <tr>\n",
       "      <th>7</th>\n",
       "      <td>ethnicGroup</td>\n",
       "      <td>1524</td>\n",
       "    </tr>\n",
       "    <tr>\n",
       "      <th>8</th>\n",
       "      <td>birthPlace</td>\n",
       "      <td>1281</td>\n",
       "    </tr>\n",
       "    <tr>\n",
       "      <th>9</th>\n",
       "      <td>club</td>\n",
       "      <td>1145</td>\n",
       "    </tr>\n",
       "    <tr>\n",
       "      <th>10</th>\n",
       "      <td>capital</td>\n",
       "      <td>1133</td>\n",
       "    </tr>\n",
       "    <tr>\n",
       "      <th>11</th>\n",
       "      <td>runwayLength</td>\n",
       "      <td>967</td>\n",
       "    </tr>\n",
       "    <tr>\n",
       "      <th>12</th>\n",
       "      <td>mainIngredients</td>\n",
       "      <td>878</td>\n",
       "    </tr>\n",
       "    <tr>\n",
       "      <th>13</th>\n",
       "      <td>cityServed</td>\n",
       "      <td>859</td>\n",
       "    </tr>\n",
       "    <tr>\n",
       "      <th>14</th>\n",
       "      <td>creator</td>\n",
       "      <td>842</td>\n",
       "    </tr>\n",
       "    <tr>\n",
       "      <th>15</th>\n",
       "      <td>city</td>\n",
       "      <td>831</td>\n",
       "    </tr>\n",
       "    <tr>\n",
       "      <th>16</th>\n",
       "      <td>operatingOrganisation</td>\n",
       "      <td>827</td>\n",
       "    </tr>\n",
       "    <tr>\n",
       "      <th>17</th>\n",
       "      <td>ground</td>\n",
       "      <td>797</td>\n",
       "    </tr>\n",
       "    <tr>\n",
       "      <th>18</th>\n",
       "      <td>dishVariation</td>\n",
       "      <td>738</td>\n",
       "    </tr>\n",
       "    <tr>\n",
       "      <th>19</th>\n",
       "      <td>almaMater</td>\n",
       "      <td>730</td>\n",
       "    </tr>\n",
       "  </tbody>\n",
       "</table>\n",
       "</div>"
      ],
      "text/plain": [
       "                predicate  size\n",
       "0                 country  6345\n",
       "1                location  4046\n",
       "2              leaderName  3537\n",
       "3              ingredient  1930\n",
       "4                  region  1673\n",
       "5                isPartOf  1640\n",
       "6                language  1596\n",
       "7             ethnicGroup  1524\n",
       "8              birthPlace  1281\n",
       "9                    club  1145\n",
       "10                capital  1133\n",
       "11           runwayLength   967\n",
       "12        mainIngredients   878\n",
       "13             cityServed   859\n",
       "14                creator   842\n",
       "15                   city   831\n",
       "16  operatingOrganisation   827\n",
       "17                 ground   797\n",
       "18          dishVariation   738\n",
       "19              almaMater   730"
      ]
     },
     "execution_count": 35,
     "metadata": {},
     "output_type": "execute_result"
    }
   ],
   "source": [
    "# who is the biggest guys?\n",
    "\n",
    "m_predicates_w_lexes_train.nlargest(20, 'size').reset_index()[['predicate', 'size']]"
   ]
  },
  {
   "cell_type": "code",
   "execution_count": 36,
   "metadata": {},
   "outputs": [
    {
     "data": {
      "text/plain": [
       "<matplotlib.axes._subplots.AxesSubplot at 0x7fbc0b1fcb00>"
      ]
     },
     "execution_count": 36,
     "metadata": {},
     "output_type": "execute_result"
    },
    {
     "data": {
      "image/png": "[encoded data removed]",
      "text/plain": [
       "<Figure size 864x360 with 1 Axes>"
      ]
     },
     "metadata": {
      "needs_background": "light"
     },
     "output_type": "display_data"
    }
   ],
   "source": [
    "m_predicates_w_lexes_train['size'].hist(bins=20, figsize=(12, 5))"
   ]
  },
  {
   "cell_type": "code",
   "execution_count": 37,
   "metadata": {},
   "outputs": [
    {
     "name": "stdout",
     "output_type": "stream",
     "text": [
      "predicate:  website \n",
      "\n",
      "lexicalization:  Ampara Hospital has a website. \n",
      "\n",
      "lexicalization:  Ampara Hospital is located in the Ampara District region in the Eastern Province state of Sri Lanka, has 476 bed count and a website. \n",
      "\n",
      "lexicalization:  Ampara Hospital, which has a website, has 476 beds and is located in Ampara District in the Eastern Province State of Sri Lanka. \n",
      "\n",
      "lexicalization:  Located in the region of Ampara District, in the Eastern Province of Sri Lanka, is Ampara Hospital. It has a bed count of 476 and has a website. \n",
      "\n"
     ]
    }
   ],
   "source": [
    "# one example of a predicate lexicalized less than 10 times\n",
    "m_predicates_w_lexes_train_size_lt_5 = m_predicates_w_lexes_train[m_predicates_w_lexes_train['size'] < 10]\n",
    "\n",
    "print_m_predicate_with_generated_lexes(m_predicates_w_lexes_train_size_lt_5.sample().iloc[0, :])"
   ]
  },
  {
   "cell_type": "code",
   "execution_count": 38,
   "metadata": {},
   "outputs": [],
   "source": [
    "# one example of a predicate lexicalized more than 6k times\n",
    "m_predicates_w_lexes_train_size_lt_5 = m_predicates_w_lexes_train[m_predicates_w_lexes_train['size'] > 6000]\n",
    "\n",
    "#print_m_predicate_with_generated_lexes(m_predicates_w_lexes_train_size_lt_5.sample().iloc[0, :])"
   ]
  },
  {
   "cell_type": "markdown",
   "metadata": {},
   "source": [
    "## Number of distinct subjects, predicates, objects"
   ]
  },
  {
   "cell_type": "markdown",
   "metadata": {},
   "source": [
    "### for each dataset"
   ]
  },
  {
   "cell_type": "code",
   "execution_count": 39,
   "metadata": {},
   "outputs": [],
   "source": [
    "def report_n_distinct_s_p_o(mdf):\n",
    "    \n",
    "    return {'subject': mdf.subject.nunique(),\n",
    "            'predicate': mdf.predicate.nunique(),\n",
    "            'object': mdf.object.nunique(),\n",
    "            # defined as a subject ou object\n",
    "            'subject_and_object': pd.concat([mdf.subject, mdf.object]).nunique(),\n",
    "            # vocabulary size\n",
    "            'vocabulary': pd.concat([mdf.subject, mdf.object, mdf.predicate]).nunique()\n",
    "           }"
   ]
  },
  {
   "cell_type": "code",
   "execution_count": 40,
   "metadata": {},
   "outputs": [
    {
     "data": {
      "text/html": [
       "<div>\n",
       "<style scoped>\n",
       "    .dataframe tbody tr th:only-of-type {\n",
       "        vertical-align: middle;\n",
       "    }\n",
       "\n",
       "    .dataframe tbody tr th {\n",
       "        vertical-align: top;\n",
       "    }\n",
       "\n",
       "    .dataframe thead th {\n",
       "        text-align: right;\n",
       "    }\n",
       "</style>\n",
       "<table border=\"1\" class=\"dataframe\">\n",
       "  <thead>\n",
       "    <tr style=\"text-align: right;\">\n",
       "      <th></th>\n",
       "      <th>object</th>\n",
       "      <th>predicate</th>\n",
       "      <th>subject</th>\n",
       "      <th>subject_and_object</th>\n",
       "      <th>vocabulary</th>\n",
       "      <th>unique_triples</th>\n",
       "    </tr>\n",
       "  </thead>\n",
       "  <tbody>\n",
       "    <tr>\n",
       "      <th>train_dev</th>\n",
       "      <td>1642</td>\n",
       "      <td>246</td>\n",
       "      <td>434</td>\n",
       "      <td>1771</td>\n",
       "      <td>2017</td>\n",
       "      <td>2131</td>\n",
       "    </tr>\n",
       "    <tr>\n",
       "      <th>test_with_lex</th>\n",
       "      <td>1888</td>\n",
       "      <td>300</td>\n",
       "      <td>575</td>\n",
       "      <td>2125</td>\n",
       "      <td>2425</td>\n",
       "      <td>2331</td>\n",
       "    </tr>\n",
       "    <tr>\n",
       "      <th>test_unseen_with_lex</th>\n",
       "      <td>898</td>\n",
       "      <td>159</td>\n",
       "      <td>238</td>\n",
       "      <td>1002</td>\n",
       "      <td>1161</td>\n",
       "      <td>1068</td>\n",
       "    </tr>\n",
       "  </tbody>\n",
       "</table>\n",
       "</div>"
      ],
      "text/plain": [
       "                      object  predicate  subject  subject_and_object  \\\n",
       "train_dev               1642        246      434                1771   \n",
       "test_with_lex           1888        300      575                2125   \n",
       "test_unseen_with_lex     898        159      238                1002   \n",
       "\n",
       "                      vocabulary  unique_triples  \n",
       "train_dev                   2017            2131  \n",
       "test_with_lex               2425            2331  \n",
       "test_unseen_with_lex        1161            1068  "
      ]
     },
     "execution_count": 40,
     "metadata": {},
     "output_type": "execute_result"
    }
   ],
   "source": [
    "df = pd.DataFrame(data = [report_n_distinct_s_p_o(ds.mdf) for ds in datasets],\n",
    "             index = [ds.dataset_name for ds in datasets])\n",
    "\n",
    "df['unique_triples'] = [ds.mdf.mtext.nunique() for ds in datasets]\n",
    "df"
   ]
  },
  {
   "cell_type": "markdown",
   "metadata": {},
   "source": [
    "### among all datasets"
   ]
  },
  {
   "cell_type": "code",
   "execution_count": 41,
   "metadata": {},
   "outputs": [
    {
     "data": {
      "text/html": [
       "<div>\n",
       "<style scoped>\n",
       "    .dataframe tbody tr th:only-of-type {\n",
       "        vertical-align: middle;\n",
       "    }\n",
       "\n",
       "    .dataframe tbody tr th {\n",
       "        vertical-align: top;\n",
       "    }\n",
       "\n",
       "    .dataframe thead th {\n",
       "        text-align: right;\n",
       "    }\n",
       "</style>\n",
       "<table border=\"1\" class=\"dataframe\">\n",
       "  <thead>\n",
       "    <tr style=\"text-align: right;\">\n",
       "      <th></th>\n",
       "      <th>subject</th>\n",
       "      <th>predicate</th>\n",
       "      <th>object</th>\n",
       "      <th>subject_and_object</th>\n",
       "      <th>vocabulary</th>\n",
       "    </tr>\n",
       "  </thead>\n",
       "  <tbody>\n",
       "    <tr>\n",
       "      <th>all</th>\n",
       "      <td>667</td>\n",
       "      <td>354</td>\n",
       "      <td>2505</td>\n",
       "      <td>2730</td>\n",
       "      <td>3084</td>\n",
       "    </tr>\n",
       "  </tbody>\n",
       "</table>\n",
       "</div>"
      ],
      "text/plain": [
       "     subject  predicate  object  subject_and_object  vocabulary\n",
       "all      667        354    2505                2730        3084"
      ]
     },
     "execution_count": 41,
     "metadata": {},
     "output_type": "execute_result"
    }
   ],
   "source": [
    "pd.DataFrame(report_n_distinct_s_p_o(pd.concat([ds.mdf for ds in datasets])),\n",
    "             index=['all'])"
   ]
  },
  {
   "cell_type": "markdown",
   "metadata": {},
   "source": [
    "## Most frequent subjects, predicates, objects\n",
    "\n",
    "in relation to amount of entries in which they occur, not the amount of lexicalizations where they appear(remember that an entry can have more than one lexicalization)"
   ]
  },
  {
   "cell_type": "code",
   "execution_count": 42,
   "metadata": {},
   "outputs": [],
   "source": [
    "def most_frequent(ds, type_, n=5):\n",
    "    \n",
    "    if type_ == 'subject':\n",
    "        return ds.mdf.subject.value_counts().nlargest(n)\n",
    "    if type_ == 'object':\n",
    "        return ds.mdf.object.value_counts().nlargest(n)\n",
    "    if type_ == 'predicate':\n",
    "        return ds.mdf.predicate.value_counts().nlargest(n)"
   ]
  },
  {
   "cell_type": "markdown",
   "metadata": {},
   "source": [
    "### train_dev"
   ]
  },
  {
   "cell_type": "code",
   "execution_count": 43,
   "metadata": {},
   "outputs": [
    {
     "data": {
      "text/plain": [
       "United_States                      760\n",
       "Acharya_Institute_of_Technology    539\n",
       "Alan_Shepard                       478\n",
       "Elliot_See                         474\n",
       "Alan_Bean                          410\n",
       "Name: subject, dtype: int64"
      ]
     },
     "execution_count": 43,
     "metadata": {},
     "output_type": "execute_result"
    }
   ],
   "source": [
    "most_frequent(train_dev, 'subject')"
   ]
  },
  {
   "cell_type": "code",
   "execution_count": 44,
   "metadata": {},
   "outputs": [
    {
     "data": {
      "text/plain": [
       "United_States       944\n",
       "English_language    294\n",
       "Indonesia           185\n",
       "Spain               169\n",
       "Italy               142\n",
       "Name: object, dtype: int64"
      ]
     },
     "execution_count": 44,
     "metadata": {},
     "output_type": "execute_result"
    }
   ],
   "source": [
    "most_frequent(train_dev, 'object')"
   ]
  },
  {
   "cell_type": "code",
   "execution_count": 45,
   "metadata": {},
   "outputs": [
    {
     "data": {
      "text/plain": [
       "country       2409\n",
       "location      1537\n",
       "leaderName    1385\n",
       "ingredient     738\n",
       "isPartOf       641\n",
       "Name: predicate, dtype: int64"
      ]
     },
     "execution_count": 45,
     "metadata": {},
     "output_type": "execute_result"
    }
   ],
   "source": [
    "most_frequent(train_dev, 'predicate')"
   ]
  },
  {
   "cell_type": "markdown",
   "metadata": {},
   "source": [
    "## Distribution of vocabulary"
   ]
  },
  {
   "cell_type": "markdown",
   "metadata": {},
   "source": [
    "### m_subject"
   ]
  },
  {
   "cell_type": "code",
   "execution_count": 46,
   "metadata": {},
   "outputs": [
    {
     "data": {
      "text/plain": [
       "count    434.000000\n",
       "mean      53.043779\n",
       "std       79.166678\n",
       "min        1.000000\n",
       "50%       20.000000\n",
       "75%       79.750000\n",
       "90%      124.000000\n",
       "99%      409.670000\n",
       "max      760.000000\n",
       "Name: subject, dtype: float64"
      ]
     },
     "execution_count": 46,
     "metadata": {},
     "output_type": "execute_result"
    }
   ],
   "source": [
    "m_subject_vc = train_dev.mdf.subject.value_counts()\n",
    "\n",
    "m_subject_vc.describe(percentiles=[.5, .75, .9, .99])"
   ]
  },
  {
   "cell_type": "markdown",
   "metadata": {},
   "source": [
    "* 50% dos m_subject ocorrem 20 ou menos vezes\n",
    "* 50% dos m_subject ocorrem 21 ou mais vezes"
   ]
  },
  {
   "cell_type": "code",
   "execution_count": 47,
   "metadata": {},
   "outputs": [
    {
     "data": {
      "text/plain": [
       "<matplotlib.axes._subplots.AxesSubplot at 0x7fbc0b4de978>"
      ]
     },
     "execution_count": 47,
     "metadata": {},
     "output_type": "execute_result"
    },
    {
     "data": {
      "image/png": "[encoded data removed]",
      "text/plain": [
       "<Figure size 864x360 with 1 Axes>"
      ]
     },
     "metadata": {
      "needs_background": "light"
     },
     "output_type": "display_data"
    }
   ],
   "source": [
    "m_subject_vc.hist(bins=20, figsize=(12, 5))"
   ]
  },
  {
   "cell_type": "markdown",
   "metadata": {},
   "source": [
    "### m_predicate"
   ]
  },
  {
   "cell_type": "code",
   "execution_count": 48,
   "metadata": {},
   "outputs": [
    {
     "data": {
      "text/plain": [
       "count     246.000000\n",
       "mean       93.581301\n",
       "std       228.610263\n",
       "min         1.000000\n",
       "50%        25.000000\n",
       "75%        80.000000\n",
       "90%       228.000000\n",
       "99%      1093.850000\n",
       "max      2409.000000\n",
       "Name: predicate, dtype: float64"
      ]
     },
     "execution_count": 48,
     "metadata": {},
     "output_type": "execute_result"
    }
   ],
   "source": [
    "m_predicate_vc = train_dev.mdf.predicate.value_counts()\n",
    "\n",
    "m_predicate_vc.describe(percentiles=[.5, .75, .9, .99])"
   ]
  },
  {
   "cell_type": "markdown",
   "metadata": {},
   "source": [
    "* 50% dos m_predicate ocorrem 25 ou menos vezes\n",
    "* 50% dos m_predicate ocorrem 26 ou mais vezes"
   ]
  },
  {
   "cell_type": "code",
   "execution_count": 49,
   "metadata": {},
   "outputs": [
    {
     "data": {
      "text/plain": [
       "<matplotlib.axes._subplots.AxesSubplot at 0x7fbc0e3fdc50>"
      ]
     },
     "execution_count": 49,
     "metadata": {},
     "output_type": "execute_result"
    },
    {
     "data": {
      "image/png": "[encoded data removed]",
      "text/plain": [
       "<Figure size 864x360 with 1 Axes>"
      ]
     },
     "metadata": {
      "needs_background": "light"
     },
     "output_type": "display_data"
    }
   ],
   "source": [
    "m_predicate_vc.hist(bins=20, figsize=(12, 5))"
   ]
  },
  {
   "cell_type": "markdown",
   "metadata": {},
   "source": [
    "### m_object"
   ]
  },
  {
   "cell_type": "code",
   "execution_count": 50,
   "metadata": {},
   "outputs": [
    {
     "data": {
      "text/plain": [
       "count    1642.000000\n",
       "mean       14.020097\n",
       "std        30.023659\n",
       "min         1.000000\n",
       "50%         7.000000\n",
       "75%        16.000000\n",
       "90%        31.000000\n",
       "99%        93.180000\n",
       "max       944.000000\n",
       "Name: object, dtype: float64"
      ]
     },
     "execution_count": 50,
     "metadata": {},
     "output_type": "execute_result"
    }
   ],
   "source": [
    "m_object_vc = train_dev.mdf.object.value_counts()\n",
    "\n",
    "m_object_vc.describe(percentiles=[.5, .75, .9, .99])"
   ]
  },
  {
   "cell_type": "markdown",
   "metadata": {},
   "source": [
    "* 50% dos m_object ocorrem 7 ou menos vezes\n",
    "* 50% dos m_object ocorrem 8 ou mais vezes"
   ]
  },
  {
   "cell_type": "code",
   "execution_count": 51,
   "metadata": {},
   "outputs": [
    {
     "data": {
      "text/plain": [
       "<matplotlib.axes._subplots.AxesSubplot at 0x7fbc0c172b00>"
      ]
     },
     "execution_count": 51,
     "metadata": {},
     "output_type": "execute_result"
    },
    {
     "data": {
      "image/png": "[encoded data removed]",
      "text/plain": [
       "<Figure size 864x360 with 1 Axes>"
      ]
     },
     "metadata": {
      "needs_background": "light"
     },
     "output_type": "display_data"
    }
   ],
   "source": [
    "m_object_vc.hist(bins=20, figsize=(12, 5))"
   ]
  },
  {
   "cell_type": "markdown",
   "metadata": {},
   "source": [
    "# Is tripleset connected?\n",
    "\n",
    "is there a path between any pair of triples?"
   ]
  },
  {
   "cell_type": "markdown",
   "metadata": {},
   "source": [
    "## Let's check a sample"
   ]
  },
  {
   "cell_type": "markdown",
   "metadata": {},
   "source": [
    "### non connected example\n",
    "\n",
    "This example looks like a case of verbalization containing more information than data!"
   ]
  },
  {
   "cell_type": "code",
   "execution_count": 52,
   "metadata": {},
   "outputs": [
    {
     "name": "stdout",
     "output_type": "stream",
     "text": [
      "Triple info: category=Food eid=Id186 idx=train_Food_4_Id186\n",
      "\n",
      "\tModified triples:\n",
      "\n",
      "Batagor | country | Indonesia\n",
      "Siomay | dishVariation | Shumai\n",
      "Shumai | dishVariation | Siomay\n",
      "Batagor | ingredient | Peanut_sauce\n",
      "\n",
      "\n",
      "\tLexicalizations:\n",
      "\n",
      "Batagor comes from Indonesia, it includes peanut sauce and is a variation on Shumai/Siomay.\n",
      "\n",
      "\n",
      "Shumai is a variation of Siomay and they are both types of the same dish. Batagor is found in Indonesia and has peanut sauce as an ingredient.\n",
      "\n",
      "\n",
      "Batagor, a variant of Shumai and Siomay, contains peanut sauce and originates from Indonesia.\n",
      "\n",
      "\n"
     ]
    },
    {
     "data": {
      "image/png": "[encoded data removed]",
      "text/plain": [
       "<Figure size 1080x1080 with 1 Axes>"
      ]
     },
     "metadata": {
      "needs_background": "light"
     },
     "output_type": "display_data"
    }
   ],
   "source": [
    "s = train_dev.sample(idx='train_Food_4_Id186')\n",
    "\n",
    "print(s)\n",
    "s.draw_graph()"
   ]
  },
  {
   "cell_type": "markdown",
   "metadata": {},
   "source": [
    "### connected example"
   ]
  },
  {
   "cell_type": "code",
   "execution_count": 53,
   "metadata": {},
   "outputs": [
    {
     "name": "stdout",
     "output_type": "stream",
     "text": [
      "Triple info: category=Food eid=Id101 idx=train_Food_4_Id101\n",
      "\n",
      "\tModified triples:\n",
      "\n",
      "Bacon_sandwich | dishVariation | BLT\n",
      "BLT | dishVariation | Club_sandwich\n",
      "Bacon_sandwich | ingredient | Condiment\n",
      "Bacon_sandwich | country | United_Kingdom\n",
      "\n",
      "\n",
      "\tLexicalizations:\n",
      "\n",
      "The country that bacon sandwich comes from is the United Kingdom. It can be served with condiments and variations include the BLT and club sandwich.\n",
      "\n",
      "\n",
      "Bacon sandwich is a dish from the United Kingdom and condiments are used to prepare it.BLT is a variation of a Club Sandwich.\n",
      "\n",
      "\n",
      "The BLT is a bacon sandwich, a variant of the Club sandwich. The bacon sandwich uses condiments and originates from the United Kingdom.\n",
      "\n",
      "\n"
     ]
    },
    {
     "data": {
      "image/png": "[encoded data removed]",
      "text/plain": [
       "<Figure size 1080x1080 with 1 Axes>"
      ]
     },
     "metadata": {
      "needs_background": "light"
     },
     "output_type": "display_data"
    }
   ],
   "source": [
    "s = train_dev.sample(idx='train_Food_4_Id101')\n",
    "\n",
    "print(s)\n",
    "s.draw_graph()"
   ]
  },
  {
   "cell_type": "markdown",
   "metadata": {},
   "source": [
    "## Let's check all tripleset"
   ]
  },
  {
   "cell_type": "code",
   "execution_count": 54,
   "metadata": {},
   "outputs": [],
   "source": [
    "import networkx as nx\n",
    "\n",
    "def entries_is_connected_df(mdf):\n",
    "\n",
    "    is_connected = []\n",
    "\n",
    "    for idx, entry_group in mdf.groupby('idx'):\n",
    "\n",
    "        entry_group.reset_index(inplace=True)\n",
    "\n",
    "        d_g = nx.from_pandas_edgelist(entry_group, 'subject', 'object', 'predicate', create_using=nx.DiGraph())\n",
    "        u_g = nx.Graph(d_g)\n",
    "\n",
    "        is_connected.append([idx, nx.is_connected(u_g)])\n",
    "\n",
    "    is_connected_df = pd.DataFrame(is_connected, columns=['idx', 'is_connected'])\n",
    "    \n",
    "    return is_connected_df.is_connected.value_counts()"
   ]
  },
  {
   "cell_type": "markdown",
   "metadata": {},
   "source": [
    "### train_dev"
   ]
  },
  {
   "cell_type": "code",
   "execution_count": 55,
   "metadata": {},
   "outputs": [
    {
     "data": {
      "text/plain": [
       "True     7800\n",
       "False      12\n",
       "Name: is_connected, dtype: int64"
      ]
     },
     "execution_count": 55,
     "metadata": {},
     "output_type": "execute_result"
    }
   ],
   "source": [
    "entries_is_connected_df(train_dev.mdf)"
   ]
  },
  {
   "cell_type": "markdown",
   "metadata": {},
   "source": [
    "### test_unseen_with_lex"
   ]
  },
  {
   "cell_type": "code",
   "execution_count": 56,
   "metadata": {},
   "outputs": [
    {
     "data": {
      "text/plain": [
       "True     1858\n",
       "False       4\n",
       "Name: is_connected, dtype: int64"
      ]
     },
     "execution_count": 56,
     "metadata": {},
     "output_type": "execute_result"
    }
   ],
   "source": [
    "entries_is_connected_df(test_with_lex.mdf)"
   ]
  },
  {
   "cell_type": "markdown",
   "metadata": {},
   "source": [
    "# Is it possible to determine a 'root' entity?"
   ]
  },
  {
   "cell_type": "code",
   "execution_count": 57,
   "metadata": {},
   "outputs": [
    {
     "data": {
      "image/png": "[encoded data removed]",
      "text/plain": [
       "<Figure size 1080x1080 with 1 Axes>"
      ]
     },
     "metadata": {
      "needs_background": "light"
     },
     "output_type": "display_data"
    }
   ],
   "source": [
    "entry = train_dev.sample(idx='train_Food_4_Id101')\n",
    "entry.draw_graph()"
   ]
  },
  {
   "cell_type": "code",
   "execution_count": 58,
   "metadata": {},
   "outputs": [
    {
     "data": {
      "text/plain": [
       "[('Bacon_sandwich', 3),\n",
       " ('BLT', 2),\n",
       " ('Club_sandwich', 1),\n",
       " ('Condiment', 1),\n",
       " ('United_Kingdom', 1)]"
      ]
     },
     "execution_count": 58,
     "metadata": {},
     "output_type": "execute_result"
    }
   ],
   "source": [
    "sorted(entry.get_graph().degree, key=lambda x: x[1], reverse=True)"
   ]
  }
 ],
 "metadata": {
  "kernelspec": {
   "display_name": "Python 3",
   "language": "python",
   "name": "python3"
  },
  "language_info": {
   "codemirror_mode": {
    "name": "ipython",
    "version": 3
   },
   "file_extension": ".py",
   "mimetype": "text/x-python",
   "name": "python",
   "nbconvert_exporter": "python",
   "pygments_lexer": "ipython3",
   "version": "3.6.7"
  }
 },
 "nbformat": 4,
 "nbformat_minor": 2
}
