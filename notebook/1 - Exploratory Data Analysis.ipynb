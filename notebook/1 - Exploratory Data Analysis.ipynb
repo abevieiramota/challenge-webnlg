{
 "cells": [
  {
   "cell_type": "code",
   "execution_count": 1,
   "metadata": {},
   "outputs": [],
   "source": [
    "import os\n",
    "\n",
    "os.sys.path.insert(0, '../script')"
   ]
  },
  {
   "cell_type": "code",
   "execution_count": 4,
   "metadata": {},
   "outputs": [],
   "source": [
    "import pandas as pd\n",
    "from matplotlib import pyplot as plt\n",
    "from webnlg import WebNLGCorpus, DATASETS_FILEPATHS\n",
    "%matplotlib inline\n",
    "\n",
    "pd.set_option('max_colwidth', 1000)\n",
    "\n",
    "import seaborn as sns"
   ]
  },
  {
   "cell_type": "code",
   "execution_count": 5,
   "metadata": {},
   "outputs": [
    {
     "data": {
      "text/plain": [
       "dict_keys(['dev', 'train', 'test_no_lex', 'test_unseen_with_lex', 'test_with_lex'])"
      ]
     },
     "execution_count": 5,
     "metadata": {},
     "output_type": "execute_result"
    }
   ],
   "source": [
    "# datasets\n",
    "DATASETS_FILEPATHS.keys()"
   ]
  },
  {
   "cell_type": "markdown",
   "metadata": {},
   "source": [
    "# Dataset Stats"
   ]
  },
  {
   "cell_type": "code",
   "execution_count": 6,
   "metadata": {},
   "outputs": [],
   "source": [
    "# loads datasets\n",
    "\n",
    "train = WebNLGCorpus.load(dataset='train')\n",
    "dev = WebNLGCorpus.load(dataset='dev')\n",
    "test_no_lex = WebNLGCorpus.load(dataset='test_no_lex')\n",
    "test_unseen_with_lex = WebNLGCorpus.load(dataset='test_unseen_with_lex')\n",
    "test_with_lex = WebNLGCorpus.load(dataset='test_with_lex')\n",
    "\n",
    "datasets = [train, dev, test_no_lex, test_unseen_with_lex, test_with_lex]"
   ]
  },
  {
   "cell_type": "code",
   "execution_count": 8,
   "metadata": {
    "scrolled": true
   },
   "outputs": [
    {
     "data": {
      "text/html": [
       "<div>\n",
       "<style scoped>\n",
       "    .dataframe tbody tr th:only-of-type {\n",
       "        vertical-align: middle;\n",
       "    }\n",
       "\n",
       "    .dataframe tbody tr th {\n",
       "        vertical-align: top;\n",
       "    }\n",
       "\n",
       "    .dataframe thead th {\n",
       "        text-align: right;\n",
       "    }\n",
       "</style>\n",
       "<table border=\"1\" class=\"dataframe\">\n",
       "  <thead>\n",
       "    <tr style=\"text-align: right;\">\n",
       "      <th></th>\n",
       "      <th>n_distinct_lexes</th>\n",
       "      <th>n_distinct_triples</th>\n",
       "      <th>n_entries</th>\n",
       "      <th>n_triples</th>\n",
       "    </tr>\n",
       "  </thead>\n",
       "  <tbody>\n",
       "    <tr>\n",
       "      <th>train</th>\n",
       "      <td>18051</td>\n",
       "      <td>2090</td>\n",
       "      <td>6940</td>\n",
       "      <td>20458</td>\n",
       "    </tr>\n",
       "    <tr>\n",
       "      <th>dev</th>\n",
       "      <td>2266</td>\n",
       "      <td>1102</td>\n",
       "      <td>872</td>\n",
       "      <td>2563</td>\n",
       "    </tr>\n",
       "    <tr>\n",
       "      <th>test_no_lex</th>\n",
       "      <td>0</td>\n",
       "      <td>2331</td>\n",
       "      <td>1862</td>\n",
       "      <td>5378</td>\n",
       "    </tr>\n",
       "    <tr>\n",
       "      <th>test_unseen_with_lex</th>\n",
       "      <td>2430</td>\n",
       "      <td>1068</td>\n",
       "      <td>891</td>\n",
       "      <td>2450</td>\n",
       "    </tr>\n",
       "    <tr>\n",
       "      <th>test_with_lex</th>\n",
       "      <td>4922</td>\n",
       "      <td>2331</td>\n",
       "      <td>1862</td>\n",
       "      <td>5378</td>\n",
       "    </tr>\n",
       "  </tbody>\n",
       "</table>\n",
       "</div>"
      ],
      "text/plain": [
       "                      n_distinct_lexes  n_distinct_triples  n_entries  \\\n",
       "train                            18051                2090       6940   \n",
       "dev                               2266                1102        872   \n",
       "test_no_lex                          0                2331       1862   \n",
       "test_unseen_with_lex              2430                1068        891   \n",
       "test_with_lex                     4922                2331       1862   \n",
       "\n",
       "                      n_triples  \n",
       "train                     20458  \n",
       "dev                        2563  \n",
       "test_no_lex                5378  \n",
       "test_unseen_with_lex       2450  \n",
       "test_with_lex              5378  "
      ]
     },
     "execution_count": 8,
     "metadata": {},
     "output_type": "execute_result"
    }
   ],
   "source": [
    "# generate some statistics\n",
    "\n",
    "datasets_stats = pd.DataFrame({\n",
    "    # number of entries\n",
    "    'n_entries': [len(ds) for ds in datasets],\n",
    "    # number of distinct triples\n",
    "    'n_distinct_triples': [ds.mdf.mtext.nunique() for ds in datasets],\n",
    "    # number of distinct generated texts - if test_no_lex, returns 0\n",
    "    'n_distinct_lexes': [ds.ldf.ltext.nunique() if ds.dataset != 'test_no_lex' else 0 for ds in datasets],\n",
    "    # number of triples -> each entry can have up to 7 triples\n",
    "    'n_triples': [len(ds.mdf) for ds in datasets]\n",
    "    }, index=[ds.dataset for ds in datasets])\n",
    "\n",
    "datasets_stats"
   ]
  },
  {
   "cell_type": "markdown",
   "metadata": {},
   "source": [
    "## Is there any duplicated lexicalized text?"
   ]
  },
  {
   "cell_type": "code",
   "execution_count": 9,
   "metadata": {},
   "outputs": [
    {
     "data": {
      "text/plain": [
       "St Vincent-St Mary High School, Akron, Summit County, Ohio, United States is the ground of Akron Summit Assault.    3\n",
       "Barack Obama is the leader of the United States.                                                                    3\n",
       "Joe Biden is a leader of the United States.                                                                         3\n",
       "Binignit is a dessert from the region of Visayas, Philippines. Taro and banana are prominent ingredients.           2\n",
       "Texas is located in the United States.                                                                              2\n",
       "Name: ltext, dtype: int64"
      ]
     },
     "execution_count": 9,
     "metadata": {},
     "output_type": "execute_result"
    }
   ],
   "source": [
    "train.ldf.ltext.value_counts().nlargest(5)"
   ]
  },
  {
   "cell_type": "code",
   "execution_count": 18,
   "metadata": {},
   "outputs": [
    {
     "data": {
      "text/html": [
       "<div>\n",
       "<style scoped>\n",
       "    .dataframe tbody tr th:only-of-type {\n",
       "        vertical-align: middle;\n",
       "    }\n",
       "\n",
       "    .dataframe tbody tr th {\n",
       "        vertical-align: top;\n",
       "    }\n",
       "\n",
       "    .dataframe thead th {\n",
       "        text-align: right;\n",
       "    }\n",
       "</style>\n",
       "<table border=\"1\" class=\"dataframe\">\n",
       "  <thead>\n",
       "    <tr style=\"text-align: right;\">\n",
       "      <th></th>\n",
       "      <th>category</th>\n",
       "      <th>content</th>\n",
       "      <th>eid</th>\n",
       "      <th>idx</th>\n",
       "      <th>ntriples</th>\n",
       "      <th>size</th>\n",
       "    </tr>\n",
       "  </thead>\n",
       "  <tbody>\n",
       "    <tr>\n",
       "      <th>873</th>\n",
       "      <td>Building</td>\n",
       "      <td>b'&lt;entry category=\"Building\" eid=\"Id232\" size=\"1\"&gt;\\n      &lt;originaltripleset&gt;\\n        &lt;otriple&gt;United_States | leader | Barack_Obama&lt;/otriple&gt;\\n      &lt;/originaltripleset&gt;\\n      &lt;originaltripleset&gt;\\n        &lt;otriple&gt;United_States | leaderName | Barack_Obama&lt;/otriple&gt;\\n      &lt;/originaltripleset&gt;\\n      &lt;modifiedtripleset&gt;\\n        &lt;mtriple&gt;United_States | leaderName | Barack_Obama&lt;/mtriple&gt;\\n      &lt;/modifiedtripleset&gt;\\n      &lt;lex comment=\"good\" lid=\"Id1\"&gt;The leader of the United States was Barack Obama.&lt;/lex&gt;\\n      &lt;lex comment=\"good\" lid=\"Id2\"&gt;Barack Obama is the leader of the U.S.&lt;/lex&gt;\\n      &lt;lex comment=\"good\" lid=\"Id3\"&gt;Barack Obama is the leader of the United States.&lt;/lex&gt;\\n    &lt;/entry&gt;\\n    '</td>\n",
       "      <td>Id232</td>\n",
       "      <td>3_231</td>\n",
       "      <td>1</td>\n",
       "      <td>1</td>\n",
       "    </tr>\n",
       "    <tr>\n",
       "      <th>1088</th>\n",
       "      <td>WrittenWork</td>\n",
       "      <td>b'&lt;entry category=\"WrittenWork\" eid=\"Id211\" size=\"1\"&gt;\\n      &lt;originaltripleset&gt;\\n        &lt;otriple&gt;United_States | leaderName | Barack_Obama&lt;/otriple&gt;\\n      &lt;/originaltripleset&gt;\\n      &lt;originaltripleset&gt;\\n        &lt;otriple&gt;United_States | leader | Barack_Obama&lt;/otriple&gt;\\n      &lt;/originaltripleset&gt;\\n      &lt;modifiedtripleset&gt;\\n        &lt;mtriple&gt;United_States | leaderName | Barack_Obama&lt;/mtriple&gt;\\n      &lt;/modifiedtripleset&gt;\\n      &lt;lex comment=\"good\" lid=\"Id1\"&gt;The leader of the United States is Barack Obama.&lt;/lex&gt;\\n      &lt;lex comment=\"good\" lid=\"Id2\"&gt;Barack Obama is the leader of the United States.&lt;/lex&gt;\\n      &lt;lex comment=\"good\" lid=\"Id3\"&gt;Barack Obama is the president of the US.&lt;/lex&gt;\\n    &lt;/entry&gt;\\n    '</td>\n",
       "      <td>Id211</td>\n",
       "      <td>4_210</td>\n",
       "      <td>1</td>\n",
       "      <td>1</td>\n",
       "    </tr>\n",
       "    <tr>\n",
       "      <th>1363</th>\n",
       "      <td>Food</td>\n",
       "      <td>b'&lt;entry category=\"Food\" eid=\"Id267\" size=\"1\"&gt;\\n      &lt;originaltripleset&gt;\\n        &lt;otriple&gt;United_States | leader | Barack_Obama&lt;/otriple&gt;\\n      &lt;/originaltripleset&gt;\\n      &lt;modifiedtripleset&gt;\\n        &lt;mtriple&gt;United_States | leaderName | Barack_Obama&lt;/mtriple&gt;\\n      &lt;/modifiedtripleset&gt;\\n      &lt;lex comment=\"good\" lid=\"Id1\"&gt;Barack Obama is a leader of the United States.&lt;/lex&gt;\\n      &lt;lex comment=\"good\" lid=\"Id2\"&gt;Barack Obama is the leader of the United States.&lt;/lex&gt;\\n      &lt;lex comment=\"good\" lid=\"Id3\"&gt;Barack Obama is the leader of United States.&lt;/lex&gt;\\n    &lt;/entry&gt;\\n    '</td>\n",
       "      <td>Id267</td>\n",
       "      <td>5_266</td>\n",
       "      <td>1</td>\n",
       "      <td>1</td>\n",
       "    </tr>\n",
       "  </tbody>\n",
       "</table>\n",
       "</div>"
      ],
      "text/plain": [
       "         category  \\\n",
       "873      Building   \n",
       "1088  WrittenWork   \n",
       "1363         Food   \n",
       "\n",
       "                                                                                                                                                                                                                                                                                                                                                                                                                                                                                                                                                                                                                                                                                                                                        content  \\\n",
       "873       b'<entry category=\"Building\" eid=\"Id232\" size=\"1\">\\n      <originaltripleset>\\n        <otriple>United_States | leader | Barack_Obama</otriple>\\n      </originaltripleset>\\n      <originaltripleset>\\n        <otriple>United_States | leaderName | Barack_Obama</otriple>\\n      </originaltripleset>\\n      <modifiedtripleset>\\n        <mtriple>United_States | leaderName | Barack_Obama</mtriple>\\n      </modifiedtripleset>\\n      <lex comment=\"good\" lid=\"Id1\">The leader of the United States was Barack Obama.</lex>\\n      <lex comment=\"good\" lid=\"Id2\">Barack Obama is the leader of the U.S.</lex>\\n      <lex comment=\"good\" lid=\"Id3\">Barack Obama is the leader of the United States.</lex>\\n    </entry>\\n    '   \n",
       "1088  b'<entry category=\"WrittenWork\" eid=\"Id211\" size=\"1\">\\n      <originaltripleset>\\n        <otriple>United_States | leaderName | Barack_Obama</otriple>\\n      </originaltripleset>\\n      <originaltripleset>\\n        <otriple>United_States | leader | Barack_Obama</otriple>\\n      </originaltripleset>\\n      <modifiedtripleset>\\n        <mtriple>United_States | leaderName | Barack_Obama</mtriple>\\n      </modifiedtripleset>\\n      <lex comment=\"good\" lid=\"Id1\">The leader of the United States is Barack Obama.</lex>\\n      <lex comment=\"good\" lid=\"Id2\">Barack Obama is the leader of the United States.</lex>\\n      <lex comment=\"good\" lid=\"Id3\">Barack Obama is the president of the US.</lex>\\n    </entry>\\n    '   \n",
       "1363                                                                                                                                    b'<entry category=\"Food\" eid=\"Id267\" size=\"1\">\\n      <originaltripleset>\\n        <otriple>United_States | leader | Barack_Obama</otriple>\\n      </originaltripleset>\\n      <modifiedtripleset>\\n        <mtriple>United_States | leaderName | Barack_Obama</mtriple>\\n      </modifiedtripleset>\\n      <lex comment=\"good\" lid=\"Id1\">Barack Obama is a leader of the United States.</lex>\\n      <lex comment=\"good\" lid=\"Id2\">Barack Obama is the leader of the United States.</lex>\\n      <lex comment=\"good\" lid=\"Id3\">Barack Obama is the leader of United States.</lex>\\n    </entry>\\n    '   \n",
       "\n",
       "        eid    idx  ntriples size  \n",
       "873   Id232  3_231         1    1  \n",
       "1088  Id211  4_210         1    1  \n",
       "1363  Id267  5_266         1    1  "
      ]
     },
     "execution_count": 18,
     "metadata": {},
     "output_type": "execute_result"
    }
   ],
   "source": [
    "barack_obama_idx = train.ldf[train.ldf.ltext == 'Barack Obama is the leader of the United States.'].idx\n",
    "\n",
    "train.edf[train.edf.idx.isin(barack_obama_idx)]"
   ]
  },
  {
   "cell_type": "markdown",
   "metadata": {},
   "source": [
    "Is Barack Obama a Food? I've sent an e-mail to Anastasia Shimorina."
   ]
  },
  {
   "cell_type": "markdown",
   "metadata": {},
   "source": [
    "## Distribution per category and number of triples"
   ]
  },
  {
   "cell_type": "code",
   "execution_count": 19,
   "metadata": {},
   "outputs": [],
   "source": [
    "def heatmap_by_category_ntriples(ds):\n",
    "    \n",
    "    # makes a figure\n",
    "    _, ax = plt.subplots(1, 1, figsize=(8, 8))\n",
    "    # heatmap of counts per category x ntriples\n",
    "    sns.heatmap(pd.crosstab(ds.category, ds.ntriples), \n",
    "                # annotate counts\n",
    "                annot=True,\n",
    "                ax=ax,\n",
    "                # integer formatting\n",
    "                fmt='d',\n",
    "                cmap='Blues')"
   ]
  },
  {
   "cell_type": "markdown",
   "metadata": {},
   "source": [
    "### train"
   ]
  },
  {
   "cell_type": "code",
   "execution_count": 20,
   "metadata": {},
   "outputs": [
    {
     "data": {
      "image/png": "[encoded data removed]",
      "text/plain": [
       "<Figure size 576x576 with 2 Axes>"
      ]
     },
     "metadata": {},
     "output_type": "display_data"
    }
   ],
   "source": [
    "heatmap_by_category_ntriples(train.edf)"
   ]
  },
  {
   "cell_type": "markdown",
   "metadata": {},
   "source": [
    "### dev"
   ]
  },
  {
   "cell_type": "code",
   "execution_count": 21,
   "metadata": {},
   "outputs": [
    {
     "data": {
      "image/png": "[encoded data removed]",
      "text/plain": [
       "<Figure size 576x576 with 2 Axes>"
      ]
     },
     "metadata": {},
     "output_type": "display_data"
    }
   ],
   "source": [
    "heatmap_by_category_ntriples(dev.edf)"
   ]
  },
  {
   "cell_type": "markdown",
   "metadata": {},
   "source": [
    "### test_no_lex\n",
    "\n",
    "there are categories on test that there aren't on train, like Artist"
   ]
  },
  {
   "cell_type": "code",
   "execution_count": 22,
   "metadata": {},
   "outputs": [
    {
     "data": {
      "image/png": "[encoded data removed]",
      "text/plain": [
       "<Figure size 576x576 with 2 Axes>"
      ]
     },
     "metadata": {},
     "output_type": "display_data"
    }
   ],
   "source": [
    "heatmap_by_category_ntriples(test_no_lex.edf)"
   ]
  },
  {
   "cell_type": "markdown",
   "metadata": {},
   "source": [
    "### test_unseen_with_lex"
   ]
  },
  {
   "cell_type": "code",
   "execution_count": 23,
   "metadata": {},
   "outputs": [
    {
     "data": {
      "image/png": "[encoded data removed]",
      "text/plain": [
       "<Figure size 576x576 with 2 Axes>"
      ]
     },
     "metadata": {},
     "output_type": "display_data"
    }
   ],
   "source": [
    "heatmap_by_category_ntriples(test_unseen_with_lex.edf)"
   ]
  },
  {
   "cell_type": "markdown",
   "metadata": {},
   "source": [
    "# Have a look at a sample"
   ]
  },
  {
   "cell_type": "code",
   "execution_count": 24,
   "metadata": {},
   "outputs": [
    {
     "data": {
      "text/plain": [
       "1675    United_States | leader | Joe_Biden\n",
       "Name: mtext, dtype: object"
      ]
     },
     "execution_count": 24,
     "metadata": {},
     "output_type": "execute_result"
    }
   ],
   "source": [
    "train.sample(category='Astronaut', ntriples=1, random_state=100).mdf.mtext"
   ]
  },
  {
   "cell_type": "code",
   "execution_count": 25,
   "metadata": {},
   "outputs": [
    {
     "data": {
      "text/plain": [
       "42    Alan_Shepard | deathPlace | California\n",
       "Name: mtext, dtype: object"
      ]
     },
     "execution_count": 25,
     "metadata": {},
     "output_type": "execute_result"
    }
   ],
   "source": [
    "dev.sample(category='Astronaut', ntriples=1, random_state=100).mdf.mtext"
   ]
  },
  {
   "cell_type": "code",
   "execution_count": 26,
   "metadata": {},
   "outputs": [
    {
     "data": {
      "text/plain": [
       "138    Apollo_8 | backup pilot | Buzz_Aldrin\n",
       "Name: mtext, dtype: object"
      ]
     },
     "execution_count": 26,
     "metadata": {},
     "output_type": "execute_result"
    }
   ],
   "source": [
    "test_no_lex.sample(category='Astronaut', ntriples=1, random_state=100).mdf.mtext"
   ]
  },
  {
   "cell_type": "code",
   "execution_count": 27,
   "metadata": {},
   "outputs": [
    {
     "data": {
      "text/plain": [
       "177    Alison_O'Donnell | genre | Jazz\n",
       "Name: mtext, dtype: object"
      ]
     },
     "execution_count": 27,
     "metadata": {},
     "output_type": "execute_result"
    }
   ],
   "source": [
    "test_unseen_with_lex.sample(ntriples=1, random_state=100).mdf.mtext"
   ]
  },
  {
   "cell_type": "markdown",
   "metadata": {},
   "source": [
    "# Is there any duplicates?"
   ]
  },
  {
   "cell_type": "markdown",
   "metadata": {},
   "source": [
    "## Is there any modified triple duplicated in a tripleset?\n",
    "\n",
    "No"
   ]
  },
  {
   "cell_type": "code",
   "execution_count": 35,
   "metadata": {},
   "outputs": [],
   "source": [
    "# count how many entries has duplicated mtriples among its mtriples\n",
    "def n_duplicated_mtriples_per_entry(ds):\n",
    "    \n",
    "    mtriples_count_per_entry = ds.mdf.groupby(['idx', 'mtext']).size()\n",
    "    \n",
    "    return (mtriples_count_per_entry > 1).sum()"
   ]
  },
  {
   "cell_type": "code",
   "execution_count": 38,
   "metadata": {},
   "outputs": [
    {
     "data": {
      "text/plain": [
       "dev                     0\n",
       "test_no_lex             0\n",
       "test_unseen_with_lex    0\n",
       "test_with_lex           0\n",
       "train                   0\n",
       "Name: number of cases of triples duplicated in a tripleset, dtype: int64"
      ]
     },
     "execution_count": 38,
     "metadata": {},
     "output_type": "execute_result"
    }
   ],
   "source": [
    "pd.Series({dataset.dataset: n_duplicated_mtriples_per_entry(dataset)\n",
    "             for dataset in datasets},\n",
    "          name='number of cases of triples duplicated in a tripleset')"
   ]
  },
  {
   "cell_type": "markdown",
   "metadata": {},
   "source": [
    "## Is there any modified triple duplicated among all entries?\n",
    "\n",
    "yes"
   ]
  },
  {
   "cell_type": "code",
   "execution_count": 59,
   "metadata": {},
   "outputs": [],
   "source": [
    "# counts, for each mtriple, in how many entries it occurs\n",
    "def mtriples_count(ds):\n",
    "    \n",
    "    return ds.mdf.mtext.value_counts()\n",
    "\n",
    "def mtriples_count_describe(ds):\n",
    "    \n",
    "    s = mtriples_count(ds).describe()\n",
    "    s.name = ds.dataset\n",
    "    \n",
    "    return s"
   ]
  },
  {
   "cell_type": "code",
   "execution_count": 57,
   "metadata": {},
   "outputs": [
    {
     "data": {
      "text/html": [
       "<div>\n",
       "<style scoped>\n",
       "    .dataframe tbody tr th:only-of-type {\n",
       "        vertical-align: middle;\n",
       "    }\n",
       "\n",
       "    .dataframe tbody tr th {\n",
       "        vertical-align: top;\n",
       "    }\n",
       "\n",
       "    .dataframe thead th {\n",
       "        text-align: right;\n",
       "    }\n",
       "</style>\n",
       "<table border=\"1\" class=\"dataframe\">\n",
       "  <thead>\n",
       "    <tr style=\"text-align: right;\">\n",
       "      <th></th>\n",
       "      <th>train</th>\n",
       "      <th>dev</th>\n",
       "      <th>test_no_lex</th>\n",
       "      <th>test_unseen_with_lex</th>\n",
       "      <th>test_with_lex</th>\n",
       "    </tr>\n",
       "  </thead>\n",
       "  <tbody>\n",
       "    <tr>\n",
       "      <th>count</th>\n",
       "      <td>2090.000000</td>\n",
       "      <td>1102.000000</td>\n",
       "      <td>2331.000000</td>\n",
       "      <td>1068.000000</td>\n",
       "      <td>2331.000000</td>\n",
       "    </tr>\n",
       "    <tr>\n",
       "      <th>mean</th>\n",
       "      <td>9.788517</td>\n",
       "      <td>2.325771</td>\n",
       "      <td>2.307164</td>\n",
       "      <td>2.294007</td>\n",
       "      <td>2.307164</td>\n",
       "    </tr>\n",
       "    <tr>\n",
       "      <th>std</th>\n",
       "      <td>11.838439</td>\n",
       "      <td>2.014941</td>\n",
       "      <td>2.216992</td>\n",
       "      <td>1.641108</td>\n",
       "      <td>2.216992</td>\n",
       "    </tr>\n",
       "    <tr>\n",
       "      <th>min</th>\n",
       "      <td>1.000000</td>\n",
       "      <td>1.000000</td>\n",
       "      <td>1.000000</td>\n",
       "      <td>1.000000</td>\n",
       "      <td>1.000000</td>\n",
       "    </tr>\n",
       "    <tr>\n",
       "      <th>25%</th>\n",
       "      <td>2.000000</td>\n",
       "      <td>1.000000</td>\n",
       "      <td>1.000000</td>\n",
       "      <td>1.000000</td>\n",
       "      <td>1.000000</td>\n",
       "    </tr>\n",
       "    <tr>\n",
       "      <th>50%</th>\n",
       "      <td>6.000000</td>\n",
       "      <td>2.000000</td>\n",
       "      <td>2.000000</td>\n",
       "      <td>2.000000</td>\n",
       "      <td>2.000000</td>\n",
       "    </tr>\n",
       "    <tr>\n",
       "      <th>75%</th>\n",
       "      <td>12.000000</td>\n",
       "      <td>3.000000</td>\n",
       "      <td>3.000000</td>\n",
       "      <td>3.000000</td>\n",
       "      <td>3.000000</td>\n",
       "    </tr>\n",
       "    <tr>\n",
       "      <th>max</th>\n",
       "      <td>111.000000</td>\n",
       "      <td>15.000000</td>\n",
       "      <td>39.000000</td>\n",
       "      <td>10.000000</td>\n",
       "      <td>39.000000</td>\n",
       "    </tr>\n",
       "  </tbody>\n",
       "</table>\n",
       "</div>"
      ],
      "text/plain": [
       "             train          dev  test_no_lex  test_unseen_with_lex  \\\n",
       "count  2090.000000  1102.000000  2331.000000           1068.000000   \n",
       "mean      9.788517     2.325771     2.307164              2.294007   \n",
       "std      11.838439     2.014941     2.216992              1.641108   \n",
       "min       1.000000     1.000000     1.000000              1.000000   \n",
       "25%       2.000000     1.000000     1.000000              1.000000   \n",
       "50%       6.000000     2.000000     2.000000              2.000000   \n",
       "75%      12.000000     3.000000     3.000000              3.000000   \n",
       "max     111.000000    15.000000    39.000000             10.000000   \n",
       "\n",
       "       test_with_lex  \n",
       "count    2331.000000  \n",
       "mean        2.307164  \n",
       "std         2.216992  \n",
       "min         1.000000  \n",
       "25%         1.000000  \n",
       "50%         2.000000  \n",
       "75%         3.000000  \n",
       "max        39.000000  "
      ]
     },
     "execution_count": 57,
     "metadata": {},
     "output_type": "execute_result"
    }
   ],
   "source": [
    "# ex: em média, cada triple no dataset train está repetida 9.7 vezes\n",
    "#     no máximo, 111 vezes\n",
    "pd.concat([mtriples_count_describe(ds) for ds in datasets], axis=1)"
   ]
  },
  {
   "cell_type": "code",
   "execution_count": 61,
   "metadata": {},
   "outputs": [
    {
     "data": {
      "text/plain": [
       "English_language | spokenIn | Great_Britain    111\n",
       "United_States | capital | Washington,_D.C.      98\n",
       "United_States | leaderName | Barack_Obama       88\n",
       "Name: mtext, dtype: int64"
      ]
     },
     "execution_count": 61,
     "metadata": {},
     "output_type": "execute_result"
    }
   ],
   "source": [
    "# most frequent triples in train dataset\n",
    "\n",
    "cm_train = mtriples_count(train)\n",
    "\n",
    "cm_train.head(3)"
   ]
  },
  {
   "cell_type": "markdown",
   "metadata": {},
   "source": [
    "## Are entries with shared triples lexicalized the same way?\n",
    "\n",
    "Remember that the same triple can appear in entries with different size of tripleset.\n",
    "\n",
    "There are some patterns..."
   ]
  },
  {
   "cell_type": "code",
   "execution_count": 75,
   "metadata": {},
   "outputs": [],
   "source": [
    "def mtriples_with_generated_lexes(ds):\n",
    "    \n",
    "    # merges modified triple dataset and lexicalization dataset\n",
    "    df = pd.merge(ds.mdf, ds.ldf)\n",
    "    \n",
    "    # groups by triple and for each triple generates a list of lexicalizations\n",
    "    ddf = df.groupby('mtext').ltext.apply(list).to_frame()\n",
    "    # adds a column with the number of lexicalizations\n",
    "    ddf['size'] = ddf.ltext.apply(len)\n",
    "    \n",
    "    return ddf\n",
    "\n",
    "# prints triple and its lexicalizations\n",
    "def print_mtriple_with_generated_lexes(mtriple):\n",
    "    \n",
    "    print(\"triple: \", mtriple.index.values[0], '\\n')\n",
    "    for ltext in mtriple.ltext.tolist()[0]:\n",
    "        print(\"lexicalization: \", ltext, '\\n')"
   ]
  },
  {
   "cell_type": "markdown",
   "metadata": {},
   "source": [
    "### train"
   ]
  },
  {
   "cell_type": "markdown",
   "metadata": {},
   "source": [
    "For example: \n",
    "\n",
    "* *11_Diagonal_Street | floorArea | 1200 (square metres)* appears in entries with eids 3_14(size = 1) and 29_14(size = 4)"
   ]
  },
  {
   "cell_type": "code",
   "execution_count": 76,
   "metadata": {},
   "outputs": [
    {
     "name": "stdout",
     "output_type": "stream",
     "text": [
      "triple:  11_Diagonal_Street | floorArea | 1200 (square metres) \n",
      "\n",
      "lexicalization:  11 Diagonal Street has a floor area of 1200 square metres. \n",
      "\n",
      "lexicalization:  The architect of 11 Diagonal Street is Helmut Jahn and it was completed in 1983. It has 20 floors and a floor area of 1200 square metres. \n",
      "\n",
      "lexicalization:  11 Diagonal Street was designed by Helmut Jahn and was completed in 1983. It has 20 floors and an area of 1200 square metres. \n",
      "\n",
      "lexicalization:  Helmut Jahn was the architect of 11 Diagonal Street which was completed in 1983 with 20 floors and a total floor area of 1200 square metres. \n",
      "\n"
     ]
    }
   ],
   "source": [
    "mtriples_w_lexes_train = mtriples_with_generated_lexes(train)\n",
    "\n",
    "mtriples_w_lexes_train_size_lt_5 = mtriples_w_lexes_train[mtriples_w_lexes_train['size'] < 5]\n",
    "\n",
    "print_mtriple_with_generated_lexes(mtriples_w_lexes_train_size_lt_5.head(1))"
   ]
  },
  {
   "cell_type": "markdown",
   "metadata": {},
   "source": [
    "### dev"
   ]
  },
  {
   "cell_type": "code",
   "execution_count": 77,
   "metadata": {},
   "outputs": [
    {
     "name": "stdout",
     "output_type": "stream",
     "text": [
      "triple:  1._FC_Köln | manager | Peter_Stöger \n",
      "\n",
      "lexicalization:  Peter Stoger is the manager of FC Kolin. \n",
      "\n",
      "lexicalization:  Peter Stöger is manager of 1. FC Köln. \n",
      "\n",
      "lexicalization:  The manager of 1. FC Koln is Peter Stoger. \n",
      "\n"
     ]
    }
   ],
   "source": [
    "mtriples_w_lexes_dev = mtriples_with_generated_lexes(dev)\n",
    "\n",
    "mtriples_w_lexes_dev_size_lt_5 = mtriples_w_lexes_dev[mtriples_w_lexes_dev['size'] < 5]\n",
    "\n",
    "print_mtriple_with_generated_lexes(mtriples_w_lexes_dev_size_lt_5.head(1))"
   ]
  },
  {
   "cell_type": "markdown",
   "metadata": {},
   "source": [
    "### test_with_lex\n",
    "\n",
    "no, you mustn't see the test data"
   ]
  },
  {
   "cell_type": "markdown",
   "metadata": {},
   "source": [
    "## Number of distinct subjects, predicates, objects"
   ]
  },
  {
   "cell_type": "markdown",
   "metadata": {},
   "source": [
    "### for each dataset"
   ]
  },
  {
   "cell_type": "code",
   "execution_count": 80,
   "metadata": {},
   "outputs": [],
   "source": [
    "def report_n_distinct_s_p_o(mdf):\n",
    "    \n",
    "    return {'subject': mdf.m_subject.nunique(),\n",
    "            'predicate': mdf.m_predicate.nunique(),\n",
    "            'object': mdf.m_object.nunique(),\n",
    "            # defined as a subject ou object\n",
    "            'subject_and_object': pd.concat([mdf.m_subject, mdf.m_object]).nunique(),\n",
    "            # vocabulary size\n",
    "            'vocabulary': pd.concat([mdf.m_subject, mdf.m_object, mdf.m_predicate]).nunique()\n",
    "           }"
   ]
  },
  {
   "cell_type": "code",
   "execution_count": 83,
   "metadata": {},
   "outputs": [
    {
     "data": {
      "text/html": [
       "<div>\n",
       "<style scoped>\n",
       "    .dataframe tbody tr th:only-of-type {\n",
       "        vertical-align: middle;\n",
       "    }\n",
       "\n",
       "    .dataframe tbody tr th {\n",
       "        vertical-align: top;\n",
       "    }\n",
       "\n",
       "    .dataframe thead th {\n",
       "        text-align: right;\n",
       "    }\n",
       "</style>\n",
       "<table border=\"1\" class=\"dataframe\">\n",
       "  <thead>\n",
       "    <tr style=\"text-align: right;\">\n",
       "      <th></th>\n",
       "      <th>object</th>\n",
       "      <th>predicate</th>\n",
       "      <th>subject</th>\n",
       "      <th>subject_and_object</th>\n",
       "      <th>vocabulary</th>\n",
       "      <th>unique_triples</th>\n",
       "    </tr>\n",
       "  </thead>\n",
       "  <tbody>\n",
       "    <tr>\n",
       "      <th>train</th>\n",
       "      <td>1619</td>\n",
       "      <td>246</td>\n",
       "      <td>430</td>\n",
       "      <td>1755</td>\n",
       "      <td>2001</td>\n",
       "      <td>2090</td>\n",
       "    </tr>\n",
       "    <tr>\n",
       "      <th>dev</th>\n",
       "      <td>918</td>\n",
       "      <td>186</td>\n",
       "      <td>304</td>\n",
       "      <td>1059</td>\n",
       "      <td>1245</td>\n",
       "      <td>1102</td>\n",
       "    </tr>\n",
       "    <tr>\n",
       "      <th>test_no_lex</th>\n",
       "      <td>1888</td>\n",
       "      <td>300</td>\n",
       "      <td>575</td>\n",
       "      <td>2125</td>\n",
       "      <td>2425</td>\n",
       "      <td>2331</td>\n",
       "    </tr>\n",
       "    <tr>\n",
       "      <th>test_unseen_with_lex</th>\n",
       "      <td>898</td>\n",
       "      <td>159</td>\n",
       "      <td>238</td>\n",
       "      <td>1002</td>\n",
       "      <td>1161</td>\n",
       "      <td>1068</td>\n",
       "    </tr>\n",
       "    <tr>\n",
       "      <th>test_with_lex</th>\n",
       "      <td>1888</td>\n",
       "      <td>300</td>\n",
       "      <td>575</td>\n",
       "      <td>2125</td>\n",
       "      <td>2425</td>\n",
       "      <td>2331</td>\n",
       "    </tr>\n",
       "  </tbody>\n",
       "</table>\n",
       "</div>"
      ],
      "text/plain": [
       "                      object  predicate  subject  subject_and_object  \\\n",
       "train                   1619        246      430                1755   \n",
       "dev                      918        186      304                1059   \n",
       "test_no_lex             1888        300      575                2125   \n",
       "test_unseen_with_lex     898        159      238                1002   \n",
       "test_with_lex           1888        300      575                2125   \n",
       "\n",
       "                      vocabulary  unique_triples  \n",
       "train                       2001            2090  \n",
       "dev                         1245            1102  \n",
       "test_no_lex                 2425            2331  \n",
       "test_unseen_with_lex        1161            1068  \n",
       "test_with_lex               2425            2331  "
      ]
     },
     "execution_count": 83,
     "metadata": {},
     "output_type": "execute_result"
    }
   ],
   "source": [
    "df = pd.DataFrame(data = [report_n_distinct_s_p_o(ds.mdf) for ds in datasets],\n",
    "             index = [ds.dataset for ds in datasets])\n",
    "\n",
    "df['unique_triples'] = [ds.mdf.mtext.nunique() for ds in datasets]\n",
    "df"
   ]
  },
  {
   "cell_type": "markdown",
   "metadata": {},
   "source": [
    "### among all datasets"
   ]
  },
  {
   "cell_type": "code",
   "execution_count": 84,
   "metadata": {},
   "outputs": [
    {
     "data": {
      "text/html": [
       "<div>\n",
       "<style scoped>\n",
       "    .dataframe tbody tr th:only-of-type {\n",
       "        vertical-align: middle;\n",
       "    }\n",
       "\n",
       "    .dataframe tbody tr th {\n",
       "        vertical-align: top;\n",
       "    }\n",
       "\n",
       "    .dataframe thead th {\n",
       "        text-align: right;\n",
       "    }\n",
       "</style>\n",
       "<table border=\"1\" class=\"dataframe\">\n",
       "  <thead>\n",
       "    <tr style=\"text-align: right;\">\n",
       "      <th></th>\n",
       "      <th>object</th>\n",
       "      <th>predicate</th>\n",
       "      <th>subject</th>\n",
       "      <th>subject_and_object</th>\n",
       "      <th>vocabulary</th>\n",
       "    </tr>\n",
       "  </thead>\n",
       "  <tbody>\n",
       "    <tr>\n",
       "      <th>all</th>\n",
       "      <td>2505</td>\n",
       "      <td>354</td>\n",
       "      <td>667</td>\n",
       "      <td>2730</td>\n",
       "      <td>3084</td>\n",
       "    </tr>\n",
       "  </tbody>\n",
       "</table>\n",
       "</div>"
      ],
      "text/plain": [
       "     object  predicate  subject  subject_and_object  vocabulary\n",
       "all    2505        354      667                2730        3084"
      ]
     },
     "execution_count": 84,
     "metadata": {},
     "output_type": "execute_result"
    }
   ],
   "source": [
    "pd.DataFrame(report_n_distinct_s_p_o(pd.concat([ds.mdf for ds in datasets])),\n",
    "             index=['all'])"
   ]
  },
  {
   "cell_type": "markdown",
   "metadata": {},
   "source": [
    "## Most frequent subjects, predicates, objects"
   ]
  },
  {
   "cell_type": "code",
   "execution_count": 39,
   "metadata": {},
   "outputs": [],
   "source": [
    "def most_frequent(ds, type_, n=5):\n",
    "    \n",
    "    if type_ == 'subject':\n",
    "        return ds.mdf.m_subject.value_counts().nlargest(n)\n",
    "    if type_ == 'object':\n",
    "        return ds.mdf.m_object.value_counts().nlargest(n)\n",
    "    if type_ == 'predicate':\n",
    "        return ds.mdf.m_predicate.value_counts().nlargest(n)"
   ]
  },
  {
   "cell_type": "markdown",
   "metadata": {},
   "source": [
    "### train"
   ]
  },
  {
   "cell_type": "code",
   "execution_count": 40,
   "metadata": {},
   "outputs": [
    {
     "data": {
      "text/plain": [
       "United_States                      692\n",
       "Acharya_Institute_of_Technology    452\n",
       "Elliot_See                         416\n",
       "Alan_Shepard                       399\n",
       "Alan_Bean                          385\n",
       "Name: m_subject, dtype: int64"
      ]
     },
     "execution_count": 40,
     "metadata": {},
     "output_type": "execute_result"
    }
   ],
   "source": [
    "most_frequent(train, 'subject')"
   ]
  },
  {
   "cell_type": "code",
   "execution_count": 41,
   "metadata": {},
   "outputs": [
    {
     "data": {
      "text/plain": [
       "United_States       858\n",
       "English_language    264\n",
       "Indonesia           166\n",
       "Spain               150\n",
       "Washington,_D.C.    122\n",
       "Name: m_object, dtype: int64"
      ]
     },
     "execution_count": 41,
     "metadata": {},
     "output_type": "execute_result"
    }
   ],
   "source": [
    "most_frequent(train, 'object')"
   ]
  },
  {
   "cell_type": "code",
   "execution_count": 42,
   "metadata": {},
   "outputs": [
    {
     "data": {
      "text/plain": [
       "country       2150\n",
       "location      1363\n",
       "leaderName    1227\n",
       "ingredient     652\n",
       "isPartOf       573\n",
       "Name: m_predicate, dtype: int64"
      ]
     },
     "execution_count": 42,
     "metadata": {},
     "output_type": "execute_result"
    }
   ],
   "source": [
    "most_frequent(train, 'predicate')"
   ]
  },
  {
   "cell_type": "markdown",
   "metadata": {},
   "source": [
    "### dev"
   ]
  },
  {
   "cell_type": "code",
   "execution_count": 43,
   "metadata": {},
   "outputs": [
    {
     "data": {
      "text/plain": [
       "Acharya_Institute_of_Technology    87\n",
       "Alan_Shepard                       79\n",
       "United_States                      68\n",
       "Elliot_See                         58\n",
       "Buzz_Aldrin                        53\n",
       "Name: m_subject, dtype: int64"
      ]
     },
     "execution_count": 43,
     "metadata": {},
     "output_type": "execute_result"
    }
   ],
   "source": [
    "most_frequent(dev, 'subject')"
   ]
  },
  {
   "cell_type": "code",
   "execution_count": 44,
   "metadata": {},
   "outputs": [
    {
     "data": {
      "text/plain": [
       "United_States       86\n",
       "English_language    30\n",
       "Italy               20\n",
       "India               20\n",
       "Indonesia           19\n",
       "Name: m_object, dtype: int64"
      ]
     },
     "execution_count": 44,
     "metadata": {},
     "output_type": "execute_result"
    }
   ],
   "source": [
    "most_frequent(dev, 'object')"
   ]
  },
  {
   "cell_type": "code",
   "execution_count": 45,
   "metadata": {},
   "outputs": [
    {
     "data": {
      "text/plain": [
       "country       259\n",
       "location      174\n",
       "leaderName    158\n",
       "ingredient     86\n",
       "region         80\n",
       "Name: m_predicate, dtype: int64"
      ]
     },
     "execution_count": 45,
     "metadata": {},
     "output_type": "execute_result"
    }
   ],
   "source": [
    "most_frequent(dev, 'predicate')"
   ]
  },
  {
   "cell_type": "markdown",
   "metadata": {},
   "source": [
    "# Is tripleset connected?\n",
    "\n",
    "is there a path between any pair of triples?"
   ]
  },
  {
   "cell_type": "markdown",
   "metadata": {},
   "source": [
    "## Let's check a sample"
   ]
  },
  {
   "cell_type": "markdown",
   "metadata": {},
   "source": [
    "### non connected example"
   ]
  },
  {
   "cell_type": "code",
   "execution_count": 85,
   "metadata": {},
   "outputs": [
    {
     "data": {
      "image/png": "[encoded data removed]",
      "text/plain": [
       "<Figure size 720x432 with 1 Axes>"
      ]
     },
     "metadata": {},
     "output_type": "display_data"
    }
   ],
   "source": [
    "train.sample(idx='25_185').draw_graph()"
   ]
  },
  {
   "cell_type": "markdown",
   "metadata": {},
   "source": [
    "### connected example"
   ]
  },
  {
   "cell_type": "code",
   "execution_count": 86,
   "metadata": {},
   "outputs": [
    {
     "data": {
      "image/png": "[encoded data removed]",
      "text/plain": [
       "<Figure size 720x432 with 1 Axes>"
      ]
     },
     "metadata": {},
     "output_type": "display_data"
    }
   ],
   "source": [
    "train.sample(idx='25_100').draw_graph()"
   ]
  },
  {
   "cell_type": "markdown",
   "metadata": {},
   "source": [
    "## Let's check all tripleset"
   ]
  },
  {
   "cell_type": "code",
   "execution_count": 87,
   "metadata": {},
   "outputs": [],
   "source": [
    "def entries_is_connected_df(mdf):\n",
    "\n",
    "    is_connected = []\n",
    "\n",
    "    for idx, entry_group in mdf.groupby('idx'):\n",
    "\n",
    "        entry_group.reset_index(inplace=True)\n",
    "\n",
    "        d_g = nx.from_pandas_edgelist(entry_group, 'm_subject', 'm_object', 'm_predicate', create_using=nx.DiGraph())\n",
    "        u_g = nx.Graph(d_g)\n",
    "\n",
    "        is_connected.append([idx, nx.is_connected(u_g)])\n",
    "\n",
    "    is_connected_df = pd.DataFrame(is_connected, columns=['idx', 'is_connected'])\n",
    "    \n",
    "    return is_connected_df.is_connected.value_counts()"
   ]
  },
  {
   "cell_type": "markdown",
   "metadata": {},
   "source": [
    "### train"
   ]
  },
  {
   "cell_type": "code",
   "execution_count": 88,
   "metadata": {},
   "outputs": [
    {
     "data": {
      "text/plain": [
       "True     6930\n",
       "False      10\n",
       "Name: is_connected, dtype: int64"
      ]
     },
     "execution_count": 88,
     "metadata": {},
     "output_type": "execute_result"
    }
   ],
   "source": [
    "entries_is_connected_df(train.mdf)"
   ]
  },
  {
   "cell_type": "markdown",
   "metadata": {},
   "source": [
    "### dev"
   ]
  },
  {
   "cell_type": "code",
   "execution_count": 89,
   "metadata": {},
   "outputs": [
    {
     "data": {
      "text/plain": [
       "True     870\n",
       "False      2\n",
       "Name: is_connected, dtype: int64"
      ]
     },
     "execution_count": 89,
     "metadata": {},
     "output_type": "execute_result"
    }
   ],
   "source": [
    "entries_is_connected_df(dev.mdf)"
   ]
  },
  {
   "cell_type": "markdown",
   "metadata": {},
   "source": [
    "### test_unseen_with_lex"
   ]
  },
  {
   "cell_type": "code",
   "execution_count": 90,
   "metadata": {},
   "outputs": [
    {
     "data": {
      "text/plain": [
       "True     887\n",
       "False      4\n",
       "Name: is_connected, dtype: int64"
      ]
     },
     "execution_count": 90,
     "metadata": {},
     "output_type": "execute_result"
    }
   ],
   "source": [
    "entries_is_connected_df(test_unseen_with_lex.mdf)"
   ]
  },
  {
   "cell_type": "markdown",
   "metadata": {},
   "source": [
    "# Is it possible to determine a 'root' entity?"
   ]
  },
  {
   "cell_type": "code",
   "execution_count": 91,
   "metadata": {},
   "outputs": [
    {
     "data": {
      "image/png": "[encoded data removed]",
      "text/plain": [
       "<Figure size 720x432 with 1 Axes>"
      ]
     },
     "metadata": {},
     "output_type": "display_data"
    }
   ],
   "source": [
    "entry = train.sample(idx='25_100')\n",
    "entry.draw_graph()"
   ]
  },
  {
   "cell_type": "code",
   "execution_count": 92,
   "metadata": {},
   "outputs": [
    {
     "data": {
      "text/plain": [
       "[('Bacon_sandwich', 3),\n",
       " ('BLT', 2),\n",
       " ('Club_sandwich', 1),\n",
       " ('Condiment', 1),\n",
       " ('United_Kingdom', 1)]"
      ]
     },
     "execution_count": 92,
     "metadata": {},
     "output_type": "execute_result"
    }
   ],
   "source": [
    "sorted(entry.graph.degree, key=lambda x: x[1], reverse=True)"
   ]
  },
  {
   "cell_type": "markdown",
   "metadata": {},
   "source": [
    "# Typos\n",
    "\n",
    "\"Afonso Pena International Airport ICAO Location **Idenitifier** is SBCT.\"\n",
    "\n",
    "rather than\n",
    "\n",
    "\"Afonso Pena International Airport ICAO Location **Identifier** is SBCT.\""
   ]
  },
  {
   "cell_type": "code",
   "execution_count": 9,
   "metadata": {},
   "outputs": [
    {
     "data": {
      "text/plain": [
       "Triple info: {'category': 'Airport', 'eid': 'Id4', 'idx': '0_3', 'ntriples': 1}\n",
       "\n",
       "\tModified triples:\n",
       "\n",
       "Afonso_Pena_International_Airport | ICAO_Location_Identifier | \"SBCT\"\n",
       "\n",
       "\n",
       "\tLexicalizations:\n",
       "\n",
       "Afonso Pena International Airport ICAO Location Idenitifier is SBCT.\n",
       "SBCT is the ICAO location identifier of Afonso Pena International Airport."
      ]
     },
     "execution_count": 9,
     "metadata": {},
     "output_type": "execute_result"
    }
   ],
   "source": [
    "e = test_with_lex.sample(idx='0_3')\n",
    "e"
   ]
  },
  {
   "cell_type": "code",
   "execution_count": 16,
   "metadata": {},
   "outputs": [],
   "source": [
    "from nltk.translate.bleu_score import sentence_bleu, SmoothingFunction\n",
    "\n",
    "lex = WebNLGCorpus.load(\"test_with_lex\")\n",
    "\n",
    "s_multiwordexpressions = lex.mdf.m_subject.str.lower().str.replace('_', ' ').str.split().tolist()\n",
    "o_multiwordexpressions = lex.mdf.m_object.str.lower().str.replace('_', ' ').str.split().tolist()\n",
    "\n",
    "all_multiwordexpressions = s_multiwordexpressions + o_multiwordexpressions\n",
    "all_multiwordexpressions = list(set([tuple(s) for s in all_multiwordexpressions]))\n",
    "\n",
    "from nltk.tokenize.mwe import MWETokenizer\n",
    "\n",
    "t = MWETokenizer(all_multiwordexpressions)\n",
    "\n",
    "from textacy.preprocess import preprocess_text\n",
    "\n",
    "def preprocess(ref):\n",
    "    \n",
    "    ref = preprocess_text(ref, no_accents=True, lowercase=True, no_punct=True)\n",
    "    \n",
    "    return t.tokenize(ref.split())\n",
    "\n",
    "cc = SmoothingFunction()\n",
    "def bleu(e, text):\n",
    "    \n",
    "    references = [preprocess(ref) for ref in e.ldf.ltext.tolist()]\n",
    "\n",
    "    # TODO: same smoothing as Moses?\n",
    "    return sentence_bleu(references, preprocess(text), smoothing_function=cc.method3)"
   ]
  },
  {
   "cell_type": "code",
   "execution_count": 17,
   "metadata": {},
   "outputs": [
    {
     "data": {
      "text/plain": [
       "0.5081327481546147"
      ]
     },
     "execution_count": 17,
     "metadata": {},
     "output_type": "execute_result"
    }
   ],
   "source": [
    "bleu(e, 'Afonso Pena International Airport ICAO Location Identifier is SBCT.')"
   ]
  },
  {
   "cell_type": "code",
   "execution_count": 18,
   "metadata": {},
   "outputs": [
    {
     "data": {
      "text/plain": [
       "1.0"
      ]
     },
     "execution_count": 18,
     "metadata": {},
     "output_type": "execute_result"
    }
   ],
   "source": [
    "bleu(e, 'Afonso Pena International Airport ICAO Location Idenitifier is SBCT.')"
   ]
  }
 ],
 "metadata": {
  "kernelspec": {
   "display_name": "Python 3",
   "language": "python",
   "name": "python3"
  },
  "language_info": {
   "codemirror_mode": {
    "name": "ipython",
    "version": 3
   },
   "file_extension": ".py",
   "mimetype": "text/x-python",
   "name": "python",
   "nbconvert_exporter": "python",
   "pygments_lexer": "ipython3",
   "version": "3.6.5"
  }
 },
 "nbformat": 4,
 "nbformat_minor": 2
}
