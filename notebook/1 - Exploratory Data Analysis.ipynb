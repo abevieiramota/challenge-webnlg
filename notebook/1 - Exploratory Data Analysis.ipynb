{
 "cells": [
  {
   "cell_type": "code",
   "execution_count": 3,
   "metadata": {},
   "outputs": [],
   "source": [
    "import pandas as pd\n",
    "from matplotlib import pyplot as plt\n",
    "%run ../script/webnlg.py\n",
    "%matplotlib inline\n",
    "\n",
    "pd.set_option('max_colwidth', 1000)\n",
    "\n",
    "import seaborn as sns"
   ]
  },
  {
   "cell_type": "code",
   "execution_count": 4,
   "metadata": {},
   "outputs": [
    {
     "data": {
      "text/plain": [
       "dict_keys(['dev', 'train', 'test_no_lex', 'test_unseen_with_lex', 'test_with_lex'])"
      ]
     },
     "execution_count": 4,
     "metadata": {},
     "output_type": "execute_result"
    }
   ],
   "source": [
    "DATASETS_FILEPATHS.keys()"
   ]
  },
  {
   "cell_type": "markdown",
   "metadata": {},
   "source": [
    "# Dataset Stats"
   ]
  },
  {
   "cell_type": "code",
   "execution_count": 5,
   "metadata": {},
   "outputs": [],
   "source": [
    "train = WebNLGCorpus.load(dataset='train')\n",
    "dev = WebNLGCorpus.load(dataset='dev')\n",
    "test_no_lex = WebNLGCorpus.load(dataset='test_no_lex')\n",
    "test_unseen_with_lex = WebNLGCorpus.load(dataset='test_unseen_with_lex')\n",
    "test_with_lex = WebNLGCorpus.load(dataset='test_with_lex')\n",
    "\n",
    "datasets = [train, dev, test_no_lex, test_unseen_with_lex, test_with_lex]"
   ]
  },
  {
   "cell_type": "code",
   "execution_count": 8,
   "metadata": {
    "scrolled": true
   },
   "outputs": [
    {
     "data": {
      "text/html": [
       "<div>\n",
       "<style scoped>\n",
       "    .dataframe tbody tr th:only-of-type {\n",
       "        vertical-align: middle;\n",
       "    }\n",
       "\n",
       "    .dataframe tbody tr th {\n",
       "        vertical-align: top;\n",
       "    }\n",
       "\n",
       "    .dataframe thead th {\n",
       "        text-align: right;\n",
       "    }\n",
       "</style>\n",
       "<table border=\"1\" class=\"dataframe\">\n",
       "  <thead>\n",
       "    <tr style=\"text-align: right;\">\n",
       "      <th></th>\n",
       "      <th>n_distinct_lexes</th>\n",
       "      <th>n_distinct_triples</th>\n",
       "      <th>n_entries</th>\n",
       "      <th>n_triples</th>\n",
       "    </tr>\n",
       "  </thead>\n",
       "  <tbody>\n",
       "    <tr>\n",
       "      <th>train</th>\n",
       "      <td>18051</td>\n",
       "      <td>2090</td>\n",
       "      <td>6940</td>\n",
       "      <td>20458</td>\n",
       "    </tr>\n",
       "    <tr>\n",
       "      <th>dev</th>\n",
       "      <td>2266</td>\n",
       "      <td>1102</td>\n",
       "      <td>872</td>\n",
       "      <td>2563</td>\n",
       "    </tr>\n",
       "    <tr>\n",
       "      <th>test_no_lex</th>\n",
       "      <td>0</td>\n",
       "      <td>2331</td>\n",
       "      <td>1862</td>\n",
       "      <td>5378</td>\n",
       "    </tr>\n",
       "    <tr>\n",
       "      <th>test_unseen_with_lex</th>\n",
       "      <td>2430</td>\n",
       "      <td>1068</td>\n",
       "      <td>891</td>\n",
       "      <td>2450</td>\n",
       "    </tr>\n",
       "    <tr>\n",
       "      <th>test_with_lex</th>\n",
       "      <td>4922</td>\n",
       "      <td>2331</td>\n",
       "      <td>1862</td>\n",
       "      <td>5378</td>\n",
       "    </tr>\n",
       "    <tr>\n",
       "      <th>Total</th>\n",
       "      <td>27669</td>\n",
       "      <td>8922</td>\n",
       "      <td>12427</td>\n",
       "      <td>36227</td>\n",
       "    </tr>\n",
       "  </tbody>\n",
       "</table>\n",
       "</div>"
      ],
      "text/plain": [
       "                      n_distinct_lexes  n_distinct_triples  n_entries  \\\n",
       "train                            18051                2090       6940   \n",
       "dev                               2266                1102        872   \n",
       "test_no_lex                          0                2331       1862   \n",
       "test_unseen_with_lex              2430                1068        891   \n",
       "test_with_lex                     4922                2331       1862   \n",
       "Total                            27669                8922      12427   \n",
       "\n",
       "                      n_triples  \n",
       "train                     20458  \n",
       "dev                        2563  \n",
       "test_no_lex                5378  \n",
       "test_unseen_with_lex       2450  \n",
       "test_with_lex              5378  \n",
       "Total                     36227  "
      ]
     },
     "execution_count": 8,
     "metadata": {},
     "output_type": "execute_result"
    }
   ],
   "source": [
    "datasets_stats = pd.DataFrame({\n",
    "    'n_entries': [len(ds) for ds in datasets],\n",
    "    'n_distinct_triples': [ds.mdf.mtext.unique().shape[0] for ds in datasets],\n",
    "    'n_distinct_lexes': [ds.ldf.ltext.unique().shape[0] if ds.dataset != 'test_no_lex' else 0 for ds in datasets],\n",
    "    'n_triples': [len(ds.mdf) for ds in datasets]\n",
    "    }, index=[ds.dataset for ds in datasets])\n",
    "\n",
    "datasets_stats.loc['Total'] = datasets_stats.sum()\n",
    "\n",
    "datasets_stats"
   ]
  },
  {
   "cell_type": "markdown",
   "metadata": {},
   "source": [
    "## Distribution per category and number of triples"
   ]
  },
  {
   "cell_type": "code",
   "execution_count": 9,
   "metadata": {},
   "outputs": [],
   "source": [
    "def heatmap_by_category_ntriples(ds):\n",
    "    \n",
    "    fig, ax = plt.subplots(1, 1, figsize=(8, 8))\n",
    "    sns.heatmap(pd.crosstab(ds.category, ds.ntriples), \n",
    "                annot=True,\n",
    "                ax=ax,\n",
    "                fmt='d',\n",
    "                cmap='Blues')"
   ]
  },
  {
   "cell_type": "markdown",
   "metadata": {},
   "source": [
    "### train"
   ]
  },
  {
   "cell_type": "code",
   "execution_count": 10,
   "metadata": {},
   "outputs": [
    {
     "data": {
      "image/png": "[encoded data removed]",
      "text/plain": [
       "<Figure size 576x576 with 2 Axes>"
      ]
     },
     "metadata": {},
     "output_type": "display_data"
    }
   ],
   "source": [
    "heatmap_by_category_ntriples(train.edf)"
   ]
  },
  {
   "cell_type": "markdown",
   "metadata": {},
   "source": [
    "### dev"
   ]
  },
  {
   "cell_type": "code",
   "execution_count": 11,
   "metadata": {},
   "outputs": [
    {
     "data": {
      "image/png": "[encoded data removed]",
      "text/plain": [
       "<Figure size 576x576 with 2 Axes>"
      ]
     },
     "metadata": {},
     "output_type": "display_data"
    }
   ],
   "source": [
    "heatmap_by_category_ntriples(dev.edf)"
   ]
  },
  {
   "cell_type": "markdown",
   "metadata": {},
   "source": [
    "### test_no_lex"
   ]
  },
  {
   "cell_type": "code",
   "execution_count": 12,
   "metadata": {},
   "outputs": [
    {
     "data": {
      "image/png": "[encoded data removed]",
      "text/plain": [
       "<Figure size 576x576 with 2 Axes>"
      ]
     },
     "metadata": {},
     "output_type": "display_data"
    }
   ],
   "source": [
    "heatmap_by_category_ntriples(test_no_lex.edf)"
   ]
  },
  {
   "cell_type": "markdown",
   "metadata": {},
   "source": [
    "### test_unseen_with_lex"
   ]
  },
  {
   "cell_type": "code",
   "execution_count": 13,
   "metadata": {},
   "outputs": [
    {
     "data": {
      "image/png": "[encoded data removed]",
      "text/plain": [
       "<Figure size 576x576 with 2 Axes>"
      ]
     },
     "metadata": {},
     "output_type": "display_data"
    }
   ],
   "source": [
    "heatmap_by_category_ntriples(test_unseen_with_lex.edf)"
   ]
  },
  {
   "cell_type": "markdown",
   "metadata": {},
   "source": [
    "# Have a look at a sample"
   ]
  },
  {
   "cell_type": "code",
   "execution_count": 14,
   "metadata": {},
   "outputs": [
    {
     "data": {
      "text/plain": [
       "1675    United_States | leader | Joe_Biden\n",
       "Name: mtext, dtype: object"
      ]
     },
     "execution_count": 14,
     "metadata": {},
     "output_type": "execute_result"
    }
   ],
   "source": [
    "train.sample(category='Astronaut', ntriples=1, random_state=100).mdf.mtext"
   ]
  },
  {
   "cell_type": "code",
   "execution_count": 15,
   "metadata": {},
   "outputs": [
    {
     "data": {
      "text/plain": [
       "42    Alan_Shepard | deathPlace | California\n",
       "Name: mtext, dtype: object"
      ]
     },
     "execution_count": 15,
     "metadata": {},
     "output_type": "execute_result"
    }
   ],
   "source": [
    "dev.sample(category='Astronaut', ntriples=1, random_state=100).mdf.mtext"
   ]
  },
  {
   "cell_type": "code",
   "execution_count": 16,
   "metadata": {},
   "outputs": [
    {
     "data": {
      "text/plain": [
       "138    Apollo_8 | backup pilot | Buzz_Aldrin\n",
       "Name: mtext, dtype: object"
      ]
     },
     "execution_count": 16,
     "metadata": {},
     "output_type": "execute_result"
    }
   ],
   "source": [
    "test_no_lex.sample(category='Astronaut', ntriples=1, random_state=100).mdf.mtext"
   ]
  },
  {
   "cell_type": "code",
   "execution_count": 17,
   "metadata": {},
   "outputs": [
    {
     "data": {
      "text/plain": [
       "177    Alison_O'Donnell | genre | Jazz\n",
       "Name: mtext, dtype: object"
      ]
     },
     "execution_count": 17,
     "metadata": {},
     "output_type": "execute_result"
    }
   ],
   "source": [
    "test_unseen_with_lex.sample(ntriples=1, random_state=100).mdf.mtext"
   ]
  },
  {
   "cell_type": "markdown",
   "metadata": {},
   "source": [
    "# Is there any duplicates?"
   ]
  },
  {
   "cell_type": "markdown",
   "metadata": {},
   "source": [
    "## Is there any modified triple duplicated intra entry?\n",
    "\n",
    "No"
   ]
  },
  {
   "cell_type": "code",
   "execution_count": 18,
   "metadata": {},
   "outputs": [],
   "source": [
    "# count how many entries has duplicated mtriples among its mtriples\n",
    "def is_there_duplicated_mtriples_per_entry(ds):\n",
    "    \n",
    "    mtriples_count_per_entry = ds.mdf.groupby(['idx', 'mtext']).size()\n",
    "    \n",
    "    return (mtriples_count_per_entry > 1).sum()"
   ]
  },
  {
   "cell_type": "markdown",
   "metadata": {},
   "source": [
    "### train"
   ]
  },
  {
   "cell_type": "code",
   "execution_count": 19,
   "metadata": {},
   "outputs": [
    {
     "data": {
      "text/plain": [
       "0"
      ]
     },
     "execution_count": 19,
     "metadata": {},
     "output_type": "execute_result"
    }
   ],
   "source": [
    "is_there_duplicated_mtriples_per_entry(train)"
   ]
  },
  {
   "cell_type": "markdown",
   "metadata": {},
   "source": [
    "### dev"
   ]
  },
  {
   "cell_type": "code",
   "execution_count": 20,
   "metadata": {},
   "outputs": [
    {
     "data": {
      "text/plain": [
       "0"
      ]
     },
     "execution_count": 20,
     "metadata": {},
     "output_type": "execute_result"
    }
   ],
   "source": [
    "is_there_duplicated_mtriples_per_entry(dev)"
   ]
  },
  {
   "cell_type": "markdown",
   "metadata": {},
   "source": [
    "### test_no_lex"
   ]
  },
  {
   "cell_type": "code",
   "execution_count": 21,
   "metadata": {},
   "outputs": [
    {
     "data": {
      "text/plain": [
       "0"
      ]
     },
     "execution_count": 21,
     "metadata": {},
     "output_type": "execute_result"
    }
   ],
   "source": [
    "is_there_duplicated_mtriples_per_entry(test_no_lex)"
   ]
  },
  {
   "cell_type": "markdown",
   "metadata": {},
   "source": [
    "### test_unseen_with_lex"
   ]
  },
  {
   "cell_type": "code",
   "execution_count": 22,
   "metadata": {},
   "outputs": [
    {
     "data": {
      "text/plain": [
       "0"
      ]
     },
     "execution_count": 22,
     "metadata": {},
     "output_type": "execute_result"
    }
   ],
   "source": [
    "is_there_duplicated_mtriples_per_entry(test_unseen_with_lex)"
   ]
  },
  {
   "cell_type": "markdown",
   "metadata": {},
   "source": [
    "## Is there any modified triple duplicated inter entry?\n",
    "\n",
    "yes"
   ]
  },
  {
   "cell_type": "code",
   "execution_count": 23,
   "metadata": {},
   "outputs": [],
   "source": [
    "# counts, for each mtriple, in how many entries it occurs\n",
    "def count_mtriple(ds):\n",
    "    \n",
    "    return ds.mdf.mtext.value_counts()"
   ]
  },
  {
   "cell_type": "markdown",
   "metadata": {},
   "source": [
    "### train"
   ]
  },
  {
   "cell_type": "code",
   "execution_count": 24,
   "metadata": {},
   "outputs": [
    {
     "data": {
      "text/plain": [
       "count    2090.000000\n",
       "mean        9.788517\n",
       "std        11.838439\n",
       "min         1.000000\n",
       "25%         2.000000\n",
       "50%         6.000000\n",
       "75%        12.000000\n",
       "max       111.000000\n",
       "Name: mtext, dtype: float64"
      ]
     },
     "execution_count": 24,
     "metadata": {},
     "output_type": "execute_result"
    }
   ],
   "source": [
    "cm_train = count_mtriple(train)\n",
    "cm_train.describe()"
   ]
  },
  {
   "cell_type": "code",
   "execution_count": 25,
   "metadata": {},
   "outputs": [
    {
     "data": {
      "text/plain": [
       "English_language | spokenIn | Great_Britain    111\n",
       "United_States | capital | Washington,_D.C.      98\n",
       "United_States | language | English_language     88\n",
       "Name: mtext, dtype: int64"
      ]
     },
     "execution_count": 25,
     "metadata": {},
     "output_type": "execute_result"
    }
   ],
   "source": [
    "cm_train.head(3)"
   ]
  },
  {
   "cell_type": "markdown",
   "metadata": {},
   "source": [
    "### dev"
   ]
  },
  {
   "cell_type": "code",
   "execution_count": 26,
   "metadata": {},
   "outputs": [
    {
     "data": {
      "text/plain": [
       "count    1102.000000\n",
       "mean        2.325771\n",
       "std         2.014941\n",
       "min         1.000000\n",
       "25%         1.000000\n",
       "50%         2.000000\n",
       "75%         3.000000\n",
       "max        15.000000\n",
       "Name: mtext, dtype: float64"
      ]
     },
     "execution_count": 26,
     "metadata": {},
     "output_type": "execute_result"
    }
   ],
   "source": [
    "cm_dev = count_mtriple(dev)\n",
    "cm_dev.describe()"
   ]
  },
  {
   "cell_type": "code",
   "execution_count": 27,
   "metadata": {},
   "outputs": [
    {
     "data": {
      "text/plain": [
       "Baku_Turkish_Martyrs'_Memorial | location | Azerbaijan               15\n",
       "Al_Asad_Airbase | operatingOrganisation | United_States_Air_Force    14\n",
       "United_States | language | English_language                          14\n",
       "Name: mtext, dtype: int64"
      ]
     },
     "execution_count": 27,
     "metadata": {},
     "output_type": "execute_result"
    }
   ],
   "source": [
    "cm_dev.head(3)"
   ]
  },
  {
   "cell_type": "markdown",
   "metadata": {},
   "source": [
    "### test_no_lex"
   ]
  },
  {
   "cell_type": "code",
   "execution_count": 28,
   "metadata": {},
   "outputs": [
    {
     "data": {
      "text/plain": [
       "count    2331.000000\n",
       "mean        2.307164\n",
       "std         2.216992\n",
       "min         1.000000\n",
       "25%         1.000000\n",
       "50%         2.000000\n",
       "75%         3.000000\n",
       "max        39.000000\n",
       "Name: mtext, dtype: float64"
      ]
     },
     "execution_count": 28,
     "metadata": {},
     "output_type": "execute_result"
    }
   ],
   "source": [
    "cm_test_no_lex = count_mtriple(test_no_lex)\n",
    "cm_test_no_lex.describe()"
   ]
  },
  {
   "cell_type": "code",
   "execution_count": 29,
   "metadata": {},
   "outputs": [
    {
     "data": {
      "text/plain": [
       "United_States | capital | Washington,_D.C.         39\n",
       "United_States | ethnicGroup | Asian_Americans      32\n",
       "United_States | ethnicGroup | African_Americans    28\n",
       "Name: mtext, dtype: int64"
      ]
     },
     "execution_count": 29,
     "metadata": {},
     "output_type": "execute_result"
    }
   ],
   "source": [
    "cm_test_no_lex.head(3)"
   ]
  },
  {
   "cell_type": "markdown",
   "metadata": {},
   "source": [
    "### test_unseen_with_lex"
   ]
  },
  {
   "cell_type": "code",
   "execution_count": 30,
   "metadata": {},
   "outputs": [
    {
     "data": {
      "text/plain": [
       "count    1068.000000\n",
       "mean        2.294007\n",
       "std         1.641108\n",
       "min         1.000000\n",
       "25%         1.000000\n",
       "50%         2.000000\n",
       "75%         3.000000\n",
       "max        10.000000\n",
       "Name: mtext, dtype: float64"
      ]
     },
     "execution_count": 30,
     "metadata": {},
     "output_type": "execute_result"
    }
   ],
   "source": [
    "cm_test_unseen_with_lex = count_mtriple(test_unseen_with_lex)\n",
    "cm_test_unseen_with_lex.describe()"
   ]
  },
  {
   "cell_type": "code",
   "execution_count": 31,
   "metadata": {},
   "outputs": [
    {
     "data": {
      "text/plain": [
       "AIDAstella | operator | AIDA_Cruises                                   10\n",
       "James_Craig_Watson | deathPlace | Madison,_Wisconsin                    9\n",
       "United_States | ethnicGroup | Native_Americans_in_the_United_States     9\n",
       "Name: mtext, dtype: int64"
      ]
     },
     "execution_count": 31,
     "metadata": {},
     "output_type": "execute_result"
    }
   ],
   "source": [
    "cm_test_unseen_with_lex.head(3)"
   ]
  },
  {
   "cell_type": "markdown",
   "metadata": {},
   "source": [
    "## Are entries with shared triples lexicalized the same way?\n",
    "\n",
    "There are some patterns..."
   ]
  },
  {
   "cell_type": "code",
   "execution_count": 32,
   "metadata": {},
   "outputs": [],
   "source": [
    "def mtriples_with_generated_lexes(ds):\n",
    "    \n",
    "    df = pd.merge(ds.mdf, ds.ldf)\n",
    "    \n",
    "    ddf = df.groupby('mtext').ltext.apply(list).to_frame()\n",
    "    ddf['size'] = ddf.ltext.apply(len)\n",
    "    \n",
    "    return ddf\n",
    "    \n",
    "def print_mtriple_with_generated_lexes(mtriple):\n",
    "    \n",
    "    print(mtriple.index.values[0], '\\n')\n",
    "    for ltext in mtriple.ltext.tolist()[0]:\n",
    "        print(ltext, '\\n')"
   ]
  },
  {
   "cell_type": "markdown",
   "metadata": {},
   "source": [
    "### train"
   ]
  },
  {
   "cell_type": "code",
   "execution_count": 33,
   "metadata": {},
   "outputs": [
    {
     "name": "stdout",
     "output_type": "stream",
     "text": [
      "11_Diagonal_Street | floorArea | 1200 (square metres) \n",
      "\n",
      "11 Diagonal Street has a floor area of 1200 square metres. \n",
      "\n",
      "The architect of 11 Diagonal Street is Helmut Jahn and it was completed in 1983. It has 20 floors and a floor area of 1200 square metres. \n",
      "\n",
      "11 Diagonal Street was designed by Helmut Jahn and was completed in 1983. It has 20 floors and an area of 1200 square metres. \n",
      "\n",
      "Helmut Jahn was the architect of 11 Diagonal Street which was completed in 1983 with 20 floors and a total floor area of 1200 square metres. \n",
      "\n"
     ]
    }
   ],
   "source": [
    "mtriples_w_lexes_train = mtriples_with_generated_lexes(train)\n",
    "\n",
    "mtriples_w_lexes_train_size_lt_5 = mtriples_w_lexes_train[mtriples_w_lexes_train['size'] < 5]\n",
    "\n",
    "print_mtriple_with_generated_lexes(mtriples_w_lexes_train_size_lt_5.head(1))"
   ]
  },
  {
   "cell_type": "markdown",
   "metadata": {},
   "source": [
    "### dev"
   ]
  },
  {
   "cell_type": "code",
   "execution_count": 34,
   "metadata": {},
   "outputs": [
    {
     "name": "stdout",
     "output_type": "stream",
     "text": [
      "1._FC_Köln | manager | Peter_Stöger \n",
      "\n",
      "Peter Stoger is the manager of FC Kolin. \n",
      "\n",
      "Peter Stöger is manager of 1. FC Köln. \n",
      "\n",
      "The manager of 1. FC Koln is Peter Stoger. \n",
      "\n"
     ]
    }
   ],
   "source": [
    "mtriples_w_lexes_dev = mtriples_with_generated_lexes(dev)\n",
    "\n",
    "mtriples_w_lexes_dev_size_lt_5 = mtriples_w_lexes_dev[mtriples_w_lexes_dev['size'] < 5]\n",
    "\n",
    "print_mtriple_with_generated_lexes(mtriples_w_lexes_dev_size_lt_5.head(1))"
   ]
  },
  {
   "cell_type": "markdown",
   "metadata": {},
   "source": [
    "### test_with_lex\n",
    "\n",
    "no, you mustn't see the test data"
   ]
  },
  {
   "cell_type": "markdown",
   "metadata": {},
   "source": [
    "## Number of distinct subjects, predicates, objects"
   ]
  },
  {
   "cell_type": "markdown",
   "metadata": {},
   "source": [
    "### for each dataset"
   ]
  },
  {
   "cell_type": "code",
   "execution_count": 35,
   "metadata": {},
   "outputs": [],
   "source": [
    "def report_n_distinct_s_p_o(mdf):\n",
    "    \n",
    "    return {'n_distinct_s': len(mdf.m_subject.unique()),\n",
    "            'n_distinct_p': len(mdf.m_predicate.unique()),\n",
    "            'n_distinct_o': len(mdf.m_object.unique()),\n",
    "            # defined as a subject ou object\n",
    "            'n_s_o': len(pd.concat([mdf.m_subject, mdf.m_object]).unique()),\n",
    "            # vocabulary size\n",
    "            'vocabulary_size': len(pd.concat([mdf.m_subject, mdf.m_object, mdf.m_predicate]).unique())\n",
    "           }"
   ]
  },
  {
   "cell_type": "code",
   "execution_count": 37,
   "metadata": {},
   "outputs": [
    {
     "data": {
      "text/html": [
       "<div>\n",
       "<style scoped>\n",
       "    .dataframe tbody tr th:only-of-type {\n",
       "        vertical-align: middle;\n",
       "    }\n",
       "\n",
       "    .dataframe tbody tr th {\n",
       "        vertical-align: top;\n",
       "    }\n",
       "\n",
       "    .dataframe thead th {\n",
       "        text-align: right;\n",
       "    }\n",
       "</style>\n",
       "<table border=\"1\" class=\"dataframe\">\n",
       "  <thead>\n",
       "    <tr style=\"text-align: right;\">\n",
       "      <th></th>\n",
       "      <th>n_distinct_o</th>\n",
       "      <th>n_distinct_p</th>\n",
       "      <th>n_distinct_s</th>\n",
       "      <th>n_s_o</th>\n",
       "      <th>vocabulary_size</th>\n",
       "    </tr>\n",
       "  </thead>\n",
       "  <tbody>\n",
       "    <tr>\n",
       "      <th>train</th>\n",
       "      <td>1619</td>\n",
       "      <td>246</td>\n",
       "      <td>430</td>\n",
       "      <td>1755</td>\n",
       "      <td>2001</td>\n",
       "    </tr>\n",
       "    <tr>\n",
       "      <th>dev</th>\n",
       "      <td>918</td>\n",
       "      <td>186</td>\n",
       "      <td>304</td>\n",
       "      <td>1059</td>\n",
       "      <td>1245</td>\n",
       "    </tr>\n",
       "    <tr>\n",
       "      <th>test_no_lex</th>\n",
       "      <td>1888</td>\n",
       "      <td>300</td>\n",
       "      <td>575</td>\n",
       "      <td>2125</td>\n",
       "      <td>2425</td>\n",
       "    </tr>\n",
       "    <tr>\n",
       "      <th>test_unseen_with_lex</th>\n",
       "      <td>898</td>\n",
       "      <td>159</td>\n",
       "      <td>238</td>\n",
       "      <td>1002</td>\n",
       "      <td>1161</td>\n",
       "    </tr>\n",
       "    <tr>\n",
       "      <th>test_with_lex</th>\n",
       "      <td>1888</td>\n",
       "      <td>300</td>\n",
       "      <td>575</td>\n",
       "      <td>2125</td>\n",
       "      <td>2425</td>\n",
       "    </tr>\n",
       "  </tbody>\n",
       "</table>\n",
       "</div>"
      ],
      "text/plain": [
       "                      n_distinct_o  n_distinct_p  n_distinct_s  n_s_o  \\\n",
       "train                         1619           246           430   1755   \n",
       "dev                            918           186           304   1059   \n",
       "test_no_lex                   1888           300           575   2125   \n",
       "test_unseen_with_lex           898           159           238   1002   \n",
       "test_with_lex                 1888           300           575   2125   \n",
       "\n",
       "                      vocabulary_size  \n",
       "train                            2001  \n",
       "dev                              1245  \n",
       "test_no_lex                      2425  \n",
       "test_unseen_with_lex             1161  \n",
       "test_with_lex                    2425  "
      ]
     },
     "execution_count": 37,
     "metadata": {},
     "output_type": "execute_result"
    }
   ],
   "source": [
    "pd.DataFrame(data = [report_n_distinct_s_p_o(ds.mdf) for ds in datasets],\n",
    "             index = [ds.dataset for ds in datasets])"
   ]
  },
  {
   "cell_type": "markdown",
   "metadata": {},
   "source": [
    "### among all datasets"
   ]
  },
  {
   "cell_type": "code",
   "execution_count": 38,
   "metadata": {},
   "outputs": [
    {
     "data": {
      "text/html": [
       "<div>\n",
       "<style scoped>\n",
       "    .dataframe tbody tr th:only-of-type {\n",
       "        vertical-align: middle;\n",
       "    }\n",
       "\n",
       "    .dataframe tbody tr th {\n",
       "        vertical-align: top;\n",
       "    }\n",
       "\n",
       "    .dataframe thead th {\n",
       "        text-align: right;\n",
       "    }\n",
       "</style>\n",
       "<table border=\"1\" class=\"dataframe\">\n",
       "  <thead>\n",
       "    <tr style=\"text-align: right;\">\n",
       "      <th></th>\n",
       "      <th>n_distinct_o</th>\n",
       "      <th>n_distinct_p</th>\n",
       "      <th>n_distinct_s</th>\n",
       "      <th>n_s_o</th>\n",
       "      <th>vocabulary_size</th>\n",
       "    </tr>\n",
       "  </thead>\n",
       "  <tbody>\n",
       "    <tr>\n",
       "      <th>all</th>\n",
       "      <td>2505</td>\n",
       "      <td>354</td>\n",
       "      <td>667</td>\n",
       "      <td>2730</td>\n",
       "      <td>3084</td>\n",
       "    </tr>\n",
       "  </tbody>\n",
       "</table>\n",
       "</div>"
      ],
      "text/plain": [
       "     n_distinct_o  n_distinct_p  n_distinct_s  n_s_o  vocabulary_size\n",
       "all          2505           354           667   2730             3084"
      ]
     },
     "execution_count": 38,
     "metadata": {},
     "output_type": "execute_result"
    }
   ],
   "source": [
    "pd.DataFrame(report_n_distinct_s_p_o(pd.concat([ds.mdf for ds in datasets])),\n",
    "             index=['all'])"
   ]
  },
  {
   "cell_type": "markdown",
   "metadata": {},
   "source": [
    "## Most frequent subjects, predicates, objects"
   ]
  },
  {
   "cell_type": "code",
   "execution_count": 39,
   "metadata": {},
   "outputs": [],
   "source": [
    "def most_frequent(ds, type_, n=5):\n",
    "    \n",
    "    if type_ == 'subject':\n",
    "        return ds.mdf.m_subject.value_counts().nlargest(n)\n",
    "    if type_ == 'object':\n",
    "        return ds.mdf.m_object.value_counts().nlargest(n)\n",
    "    if type_ == 'predicate':\n",
    "        return ds.mdf.m_predicate.value_counts().nlargest(n)"
   ]
  },
  {
   "cell_type": "markdown",
   "metadata": {},
   "source": [
    "### train"
   ]
  },
  {
   "cell_type": "code",
   "execution_count": 40,
   "metadata": {},
   "outputs": [
    {
     "data": {
      "text/plain": [
       "United_States                      692\n",
       "Acharya_Institute_of_Technology    452\n",
       "Elliot_See                         416\n",
       "Alan_Shepard                       399\n",
       "Alan_Bean                          385\n",
       "Name: m_subject, dtype: int64"
      ]
     },
     "execution_count": 40,
     "metadata": {},
     "output_type": "execute_result"
    }
   ],
   "source": [
    "most_frequent(train, 'subject')"
   ]
  },
  {
   "cell_type": "code",
   "execution_count": 41,
   "metadata": {},
   "outputs": [
    {
     "data": {
      "text/plain": [
       "United_States       858\n",
       "English_language    264\n",
       "Indonesia           166\n",
       "Spain               150\n",
       "Washington,_D.C.    122\n",
       "Name: m_object, dtype: int64"
      ]
     },
     "execution_count": 41,
     "metadata": {},
     "output_type": "execute_result"
    }
   ],
   "source": [
    "most_frequent(train, 'object')"
   ]
  },
  {
   "cell_type": "code",
   "execution_count": 42,
   "metadata": {},
   "outputs": [
    {
     "data": {
      "text/plain": [
       "country       2150\n",
       "location      1363\n",
       "leaderName    1227\n",
       "ingredient     652\n",
       "isPartOf       573\n",
       "Name: m_predicate, dtype: int64"
      ]
     },
     "execution_count": 42,
     "metadata": {},
     "output_type": "execute_result"
    }
   ],
   "source": [
    "most_frequent(train, 'predicate')"
   ]
  },
  {
   "cell_type": "markdown",
   "metadata": {},
   "source": [
    "### dev"
   ]
  },
  {
   "cell_type": "code",
   "execution_count": 43,
   "metadata": {},
   "outputs": [
    {
     "data": {
      "text/plain": [
       "Acharya_Institute_of_Technology    87\n",
       "Alan_Shepard                       79\n",
       "United_States                      68\n",
       "Elliot_See                         58\n",
       "Buzz_Aldrin                        53\n",
       "Name: m_subject, dtype: int64"
      ]
     },
     "execution_count": 43,
     "metadata": {},
     "output_type": "execute_result"
    }
   ],
   "source": [
    "most_frequent(dev, 'subject')"
   ]
  },
  {
   "cell_type": "code",
   "execution_count": 44,
   "metadata": {},
   "outputs": [
    {
     "data": {
      "text/plain": [
       "United_States       86\n",
       "English_language    30\n",
       "Italy               20\n",
       "India               20\n",
       "Indonesia           19\n",
       "Name: m_object, dtype: int64"
      ]
     },
     "execution_count": 44,
     "metadata": {},
     "output_type": "execute_result"
    }
   ],
   "source": [
    "most_frequent(dev, 'object')"
   ]
  },
  {
   "cell_type": "code",
   "execution_count": 45,
   "metadata": {},
   "outputs": [
    {
     "data": {
      "text/plain": [
       "country       259\n",
       "location      174\n",
       "leaderName    158\n",
       "ingredient     86\n",
       "region         80\n",
       "Name: m_predicate, dtype: int64"
      ]
     },
     "execution_count": 45,
     "metadata": {},
     "output_type": "execute_result"
    }
   ],
   "source": [
    "most_frequent(dev, 'predicate')"
   ]
  },
  {
   "cell_type": "markdown",
   "metadata": {},
   "source": [
    "### test_unseen_with_lex"
   ]
  },
  {
   "cell_type": "code",
   "execution_count": 46,
   "metadata": {},
   "outputs": [
    {
     "data": {
      "text/plain": [
       "Aaron_Turner        48\n",
       "Alison_O'Donnell    45\n",
       "Andrew_Rayel        42\n",
       "Albert_B._White     38\n",
       "ALCO_RS-3           38\n",
       "Name: m_subject, dtype: int64"
      ]
     },
     "execution_count": 46,
     "metadata": {},
     "output_type": "execute_result"
    }
   ],
   "source": [
    "most_frequent(test_unseen_with_lex, 'subject')"
   ]
  },
  {
   "cell_type": "code",
   "execution_count": 47,
   "metadata": {},
   "outputs": [
    {
     "data": {
      "text/plain": [
       "United_States       41\n",
       "\"solo_singer\"       31\n",
       "2006-12-31          24\n",
       "Rhythm_and_blues    19\n",
       "AIDA_Cruises        17\n",
       "Name: m_object, dtype: int64"
      ]
     },
     "execution_count": 47,
     "metadata": {},
     "output_type": "execute_result"
    }
   ],
   "source": [
    "most_frequent(test_unseen_with_lex, 'object')"
   ]
  },
  {
   "cell_type": "code",
   "execution_count": 48,
   "metadata": {},
   "outputs": [
    {
     "data": {
      "text/plain": [
       "birthPlace                                224\n",
       "club                                      158\n",
       "genre                                     131\n",
       "associatedBand/associatedMusicalArtist    126\n",
       "deathPlace                                 73\n",
       "Name: m_predicate, dtype: int64"
      ]
     },
     "execution_count": 48,
     "metadata": {},
     "output_type": "execute_result"
    }
   ],
   "source": [
    "most_frequent(test_unseen_with_lex, 'predicate')"
   ]
  },
  {
   "cell_type": "markdown",
   "metadata": {},
   "source": [
    "# Is tripleset connected?\n",
    "\n",
    "there is a path between any pair of triples"
   ]
  },
  {
   "cell_type": "markdown",
   "metadata": {},
   "source": [
    "## Let's check a sample"
   ]
  },
  {
   "cell_type": "markdown",
   "metadata": {},
   "source": [
    "### non connected example"
   ]
  },
  {
   "cell_type": "code",
   "execution_count": 49,
   "metadata": {},
   "outputs": [
    {
     "data": {
      "image/png": "[encoded data removed]",
      "text/plain": [
       "<Figure size 720x432 with 1 Axes>"
      ]
     },
     "metadata": {},
     "output_type": "display_data"
    }
   ],
   "source": [
    "train.sample(idx='25_185').draw_graph()"
   ]
  },
  {
   "cell_type": "markdown",
   "metadata": {},
   "source": [
    "### connected example"
   ]
  },
  {
   "cell_type": "code",
   "execution_count": 50,
   "metadata": {},
   "outputs": [
    {
     "data": {
      "image/png": "[encoded data removed]",
      "text/plain": [
       "<Figure size 720x432 with 1 Axes>"
      ]
     },
     "metadata": {},
     "output_type": "display_data"
    }
   ],
   "source": [
    "train.sample(idx='25_100').draw_graph()"
   ]
  },
  {
   "cell_type": "markdown",
   "metadata": {},
   "source": [
    "## Let's check all tripleset"
   ]
  },
  {
   "cell_type": "code",
   "execution_count": 51,
   "metadata": {},
   "outputs": [],
   "source": [
    "def entries_is_connected_df(mdf):\n",
    "\n",
    "    is_connected = []\n",
    "\n",
    "    for idx, entry_group in mdf.groupby('idx'):\n",
    "\n",
    "        entry_group.reset_index(inplace=True)\n",
    "\n",
    "        d_g = nx.from_pandas_edgelist(entry_group, 'm_subject', 'm_object', 'm_predicate', create_using=nx.DiGraph())\n",
    "        u_g = nx.Graph(d_g)\n",
    "\n",
    "        is_connected.append([idx, nx.is_connected(u_g)])\n",
    "\n",
    "    is_connected_df = pd.DataFrame(is_connected, columns=['idx', 'is_connected'])\n",
    "    \n",
    "    return is_connected_df.is_connected.value_counts()"
   ]
  },
  {
   "cell_type": "markdown",
   "metadata": {},
   "source": [
    "### train"
   ]
  },
  {
   "cell_type": "code",
   "execution_count": 52,
   "metadata": {},
   "outputs": [
    {
     "data": {
      "text/plain": [
       "True     6930\n",
       "False      10\n",
       "Name: is_connected, dtype: int64"
      ]
     },
     "execution_count": 52,
     "metadata": {},
     "output_type": "execute_result"
    }
   ],
   "source": [
    "entries_is_connected_df(train.mdf)"
   ]
  },
  {
   "cell_type": "markdown",
   "metadata": {},
   "source": [
    "### dev"
   ]
  },
  {
   "cell_type": "code",
   "execution_count": 53,
   "metadata": {},
   "outputs": [
    {
     "data": {
      "text/plain": [
       "True     870\n",
       "False      2\n",
       "Name: is_connected, dtype: int64"
      ]
     },
     "execution_count": 53,
     "metadata": {},
     "output_type": "execute_result"
    }
   ],
   "source": [
    "entries_is_connected_df(dev.mdf)"
   ]
  },
  {
   "cell_type": "markdown",
   "metadata": {},
   "source": [
    "### test_unseen_with_lex"
   ]
  },
  {
   "cell_type": "code",
   "execution_count": 54,
   "metadata": {},
   "outputs": [
    {
     "data": {
      "text/plain": [
       "True     887\n",
       "False      4\n",
       "Name: is_connected, dtype: int64"
      ]
     },
     "execution_count": 54,
     "metadata": {},
     "output_type": "execute_result"
    }
   ],
   "source": [
    "entries_is_connected_df(test_unseen_with_lex.mdf)"
   ]
  },
  {
   "cell_type": "markdown",
   "metadata": {},
   "source": [
    "# Is it possible to determine a 'root' entity?"
   ]
  },
  {
   "cell_type": "code",
   "execution_count": 55,
   "metadata": {},
   "outputs": [
    {
     "data": {
      "image/png": "[encoded data removed]",
      "text/plain": [
       "<Figure size 720x432 with 1 Axes>"
      ]
     },
     "metadata": {},
     "output_type": "display_data"
    }
   ],
   "source": [
    "entry = train.sample(idx='25_100')\n",
    "entry.draw_graph()"
   ]
  },
  {
   "cell_type": "code",
   "execution_count": 56,
   "metadata": {},
   "outputs": [
    {
     "data": {
      "text/plain": [
       "[('Bacon_sandwich', 3),\n",
       " ('BLT', 2),\n",
       " ('Club_sandwich', 1),\n",
       " ('Condiment', 1),\n",
       " ('United_Kingdom', 1)]"
      ]
     },
     "execution_count": 56,
     "metadata": {},
     "output_type": "execute_result"
    }
   ],
   "source": [
    "sorted(entry.graph.degree, key=lambda x: x[1], reverse=True)"
   ]
  },
  {
   "cell_type": "code",
   "execution_count": null,
   "metadata": {},
   "outputs": [],
   "source": []
  }
 ],
 "metadata": {
  "kernelspec": {
   "display_name": "Python 3",
   "language": "python",
   "name": "python3"
  },
  "language_info": {
   "codemirror_mode": {
    "name": "ipython",
    "version": 3
   },
   "file_extension": ".py",
   "mimetype": "text/x-python",
   "name": "python",
   "nbconvert_exporter": "python",
   "pygments_lexer": "ipython3",
   "version": "3.6.5"
  }
 },
 "nbformat": 4,
 "nbformat_minor": 2
}
