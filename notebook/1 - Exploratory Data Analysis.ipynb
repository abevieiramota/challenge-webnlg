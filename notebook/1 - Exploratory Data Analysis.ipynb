{
 "cells": [
  {
   "cell_type": "code",
   "execution_count": 1,
   "metadata": {},
   "outputs": [],
   "source": [
    "import os\n",
    "\n",
    "os.sys.path.insert(0, '../script')"
   ]
  },
  {
   "cell_type": "code",
   "execution_count": 2,
   "metadata": {},
   "outputs": [],
   "source": [
    "import pandas as pd\n",
    "from matplotlib import pyplot as plt\n",
    "from webnlg_old import WebNLGCorpus, DATASETS_FILEPATHS\n",
    "%matplotlib inline\n",
    "\n",
    "pd.set_option('max_colwidth', 1000)\n",
    "\n",
    "import seaborn as sns"
   ]
  },
  {
   "cell_type": "code",
   "execution_count": 3,
   "metadata": {},
   "outputs": [
    {
     "data": {
      "text/plain": [
       "dict_keys(['dev', 'train', 'test_no_lex', 'test_unseen_with_lex', 'test_with_lex'])"
      ]
     },
     "execution_count": 3,
     "metadata": {},
     "output_type": "execute_result"
    }
   ],
   "source": [
    "# datasets\n",
    "DATASETS_FILEPATHS.keys()"
   ]
  },
  {
   "cell_type": "markdown",
   "metadata": {},
   "source": [
    "# Dataset format"
   ]
  },
  {
   "cell_type": "markdown",
   "metadata": {},
   "source": [
    "## Train dataset directory tree"
   ]
  },
  {
   "cell_type": "markdown",
   "metadata": {},
   "source": [
    "<img src=\"../img/dataset_train_directory.jpg\" />"
   ]
  },
  {
   "cell_type": "markdown",
   "metadata": {},
   "source": [
    "### 1triples_Airport_train_challenge.xml"
   ]
  },
  {
   "cell_type": "markdown",
   "metadata": {},
   "source": [
    "<img src=\"../img/dataset_format_example.jpg\" />"
   ]
  },
  {
   "cell_type": "markdown",
   "metadata": {},
   "source": [
    "## Test dataset is all in one file, testdata_no_lex.xml"
   ]
  },
  {
   "cell_type": "markdown",
   "metadata": {},
   "source": [
    "<img src=\"../img/dataset_test_example.jpg\" />"
   ]
  },
  {
   "cell_type": "markdown",
   "metadata": {},
   "source": [
    "# Dataset Stats"
   ]
  },
  {
   "cell_type": "code",
   "execution_count": 4,
   "metadata": {},
   "outputs": [],
   "source": [
    "# loads datasets\n",
    "\n",
    "train_dev = WebNLGCorpus.load(dataset=['train', 'dev'])\n",
    "test_with_lex = WebNLGCorpus.load(dataset='test_with_lex')\n",
    "test_unseen_with_lex = WebNLGCorpus.load(dataset='test_unseen_with_lex')\n",
    "\n",
    "datasets = [train_dev, test_with_lex, test_unseen_with_lex]"
   ]
  },
  {
   "cell_type": "code",
   "execution_count": 5,
   "metadata": {
    "scrolled": true
   },
   "outputs": [
    {
     "data": {
      "text/html": [
       "<div>\n",
       "<style scoped>\n",
       "    .dataframe tbody tr th:only-of-type {\n",
       "        vertical-align: middle;\n",
       "    }\n",
       "\n",
       "    .dataframe tbody tr th {\n",
       "        vertical-align: top;\n",
       "    }\n",
       "\n",
       "    .dataframe thead th {\n",
       "        text-align: right;\n",
       "    }\n",
       "</style>\n",
       "<table border=\"1\" class=\"dataframe\">\n",
       "  <thead>\n",
       "    <tr style=\"text-align: right;\">\n",
       "      <th></th>\n",
       "      <th>avg_lexes_length</th>\n",
       "      <th>n_distinct_lexes</th>\n",
       "      <th>n_distinct_triples</th>\n",
       "      <th>n_entries</th>\n",
       "      <th>n_lexes</th>\n",
       "      <th>n_triples</th>\n",
       "    </tr>\n",
       "  </thead>\n",
       "  <tbody>\n",
       "    <tr>\n",
       "      <th>train_dev</th>\n",
       "      <td>117.367354</td>\n",
       "      <td>20308</td>\n",
       "      <td>2131</td>\n",
       "      <td>7812</td>\n",
       "      <td>20370</td>\n",
       "      <td>23021</td>\n",
       "    </tr>\n",
       "    <tr>\n",
       "      <th>test_with_lex</th>\n",
       "      <td>114.805195</td>\n",
       "      <td>4922</td>\n",
       "      <td>2331</td>\n",
       "      <td>1862</td>\n",
       "      <td>4928</td>\n",
       "      <td>5378</td>\n",
       "    </tr>\n",
       "    <tr>\n",
       "      <th>test_unseen_with_lex</th>\n",
       "      <td>110.532676</td>\n",
       "      <td>2430</td>\n",
       "      <td>1068</td>\n",
       "      <td>891</td>\n",
       "      <td>2433</td>\n",
       "      <td>2450</td>\n",
       "    </tr>\n",
       "  </tbody>\n",
       "</table>\n",
       "</div>"
      ],
      "text/plain": [
       "                      avg_lexes_length  n_distinct_lexes  n_distinct_triples  \\\n",
       "train_dev                   117.367354             20308                2131   \n",
       "test_with_lex               114.805195              4922                2331   \n",
       "test_unseen_with_lex        110.532676              2430                1068   \n",
       "\n",
       "                      n_entries  n_lexes  n_triples  \n",
       "train_dev                  7812    20370      23021  \n",
       "test_with_lex              1862     4928       5378  \n",
       "test_unseen_with_lex        891     2433       2450  "
      ]
     },
     "execution_count": 5,
     "metadata": {},
     "output_type": "execute_result"
    }
   ],
   "source": [
    "# generate some statistics\n",
    "\n",
    "datasets_stats = pd.DataFrame({\n",
    "    # number of entries\n",
    "    'n_entries': [len(ds) for ds in datasets],\n",
    "    # number of distinct triples\n",
    "    'n_distinct_triples': [ds.mdf.mtext.nunique() for ds in datasets],\n",
    "    # number of distinct generated texts - if test_no_lex, returns 0\n",
    "    'n_distinct_lexes': [ds.ldf.ltext.nunique() for ds in datasets],\n",
    "    # number of generated texts\n",
    "    'n_lexes': [ds.ldf.shape[0] for ds in datasets],\n",
    "    # number of triples -> each entry can have up to 7 triples\n",
    "    'n_triples': [len(ds.mdf) for ds in datasets],\n",
    "    # average text length\n",
    "    'avg_lexes_length': [ds.ldf.ltext.str.len().mean() for ds in datasets]\n",
    "    }, index=[ds.dataset for ds in datasets])\n",
    "\n",
    "datasets_stats"
   ]
  },
  {
   "cell_type": "markdown",
   "metadata": {},
   "source": [
    "## Is there any duplicated lexicalized text?\n",
    "\n",
    "Here I test if there are two or more different entries with the same lexicalization."
   ]
  },
  {
   "cell_type": "code",
   "execution_count": 6,
   "metadata": {},
   "outputs": [
    {
     "data": {
      "text/plain": [
       "ltext\n",
       "Barack Obama is the leader of the United States.                                                                    3\n",
       "Joe Biden is a United States leader.                                                                                3\n",
       "Joe Biden is a leader of the United States.                                                                         3\n",
       "St Vincent-St Mary High School, Akron, Summit County, Ohio, United States is the ground of Akron Summit Assault.    3\n",
       "103 Colmore Row was completed in 1976.                                                                              2\n",
       "Name: idx, dtype: int64"
      ]
     },
     "execution_count": 6,
     "metadata": {},
     "output_type": "execute_result"
    }
   ],
   "source": [
    "# group by ltext\n",
    "#    counts uniques idx(entry identifier) inside a group\n",
    "lexis_counts = train_dev.ldf.groupby('ltext').idx.unique().apply(len)\n",
    "\n",
    "# some examples of lexicalizations that occur in different entries\n",
    "lexis_counts.nlargest(5)"
   ]
  },
  {
   "cell_type": "code",
   "execution_count": 7,
   "metadata": {},
   "outputs": [
    {
     "name": "stdout",
     "output_type": "stream",
     "text": [
      "There are 58 lexicalizations that occurs in more than one entry. The ammount of 'duplicated' lexicalizations is 120\n"
     ]
    }
   ],
   "source": [
    "print(\"There are {} lexicalizations that occurs in more than one entry. The ammount of 'duplicated' lexicalizations is {}\"\\\n",
    "      .format(\n",
    "        len(lexis_counts[lexis_counts > 1]), \n",
    "        lexis_counts[lexis_counts > 1].sum()\n",
    "      ))"
   ]
  },
  {
   "cell_type": "markdown",
   "metadata": {},
   "source": [
    "#### Let's analyze some example"
   ]
  },
  {
   "cell_type": "code",
   "execution_count": 8,
   "metadata": {},
   "outputs": [
    {
     "name": "stdout",
     "output_type": "stream",
     "text": [
      "Triple info: {'category': 'Building', 'eid': 'Id232', 'idx': '3_231', 'ntriples': 1}\n",
      "\n",
      "\tModified triples:\n",
      "\n",
      "United_States | leaderName | Barack_Obama\n",
      "\n",
      "\n",
      "\tLexicalizations:\n",
      "\n",
      "The leader of the United States was Barack Obama.\n",
      "Barack Obama is the leader of the U.S.\n",
      "Barack Obama is the leader of the United States.\n",
      "\n",
      "\n",
      "---------------------------------------------------------------------------------------\n",
      "\n",
      "\n",
      "Triple info: {'category': 'WrittenWork', 'eid': 'Id211', 'idx': '4_210', 'ntriples': 1}\n",
      "\n",
      "\tModified triples:\n",
      "\n",
      "United_States | leaderName | Barack_Obama\n",
      "\n",
      "\n",
      "\tLexicalizations:\n",
      "\n",
      "The leader of the United States is Barack Obama.\n",
      "Barack Obama is the leader of the United States.\n",
      "Barack Obama is the president of the US.\n",
      "\n",
      "\n",
      "---------------------------------------------------------------------------------------\n",
      "\n",
      "\n",
      "Triple info: {'category': 'Food', 'eid': 'Id267', 'idx': '5_266', 'ntriples': 1}\n",
      "\n",
      "\tModified triples:\n",
      "\n",
      "United_States | leaderName | Barack_Obama\n",
      "\n",
      "\n",
      "\tLexicalizations:\n",
      "\n",
      "Barack Obama is a leader of the United States.\n",
      "Barack Obama is the leader of the United States.\n",
      "Barack Obama is the leader of United States.\n",
      "\n",
      "\n",
      "---------------------------------------------------------------------------------------\n",
      "\n",
      "\n"
     ]
    }
   ],
   "source": [
    "# gets the idx of entrys which lexicalization is Barack Obama is the leader of the United States.\n",
    "barack_obama_idx = train_dev.ldf[train_dev.ldf.ltext == 'Barack Obama is the leader of the United States.'].idx\n",
    "\n",
    "# prints those entries\n",
    "\n",
    "for idx in barack_obama_idx:\n",
    "    \n",
    "    print(train_dev.sample(idx=idx))\n",
    "    print('\\n\\n---------------------------------------------------------------------------------------\\n\\n')"
   ]
  },
  {
   "cell_type": "markdown",
   "metadata": {},
   "source": [
    "<img src=\"../img/barack_obama_food.jpg\" />"
   ]
  },
  {
   "cell_type": "markdown",
   "metadata": {},
   "source": [
    "Is Barack Obama a Food? I've sent an e-mail to Anastasia Shimorina."
   ]
  },
  {
   "cell_type": "markdown",
   "metadata": {},
   "source": [
    "<img src=\"../img/barack_obama_food_explanation.jpg\" />"
   ]
  },
  {
   "cell_type": "markdown",
   "metadata": {},
   "source": [
    "One example of entry among the Food category that contains the triple United_States | leader | Barack_Obama:"
   ]
  },
  {
   "cell_type": "markdown",
   "metadata": {},
   "source": [
    "<img src=\"../img/barack_obama_food2.jpg\" />"
   ]
  },
  {
   "cell_type": "markdown",
   "metadata": {},
   "source": [
    "So, every triple in the Xtriplesize_category, X > 1, is in 1triplesize_category ?\n",
    "    \n",
    "Let's test.\n",
    "\n",
    "! I'm putting dev and train together !"
   ]
  },
  {
   "cell_type": "code",
   "execution_count": null,
   "metadata": {},
   "outputs": [],
   "source": [
    "from config import CATEGORIES\n",
    "\n",
    "for category in CATEGORIES:\n",
    "    \n",
    "    print(\"Testing category: [{}]\".format(category))\n",
    "    \n",
    "    triple_1_entries = train_dev.subset(ntriples=[1], categories=[category]).mdf\n",
    "    \n",
    "    triple_gt1_entries = train_dev.subset(ntriples=[2, 3, 4, 5, 6, 7], categories=[category]).mdf\n",
    "    \n",
    "    not_in_triple1 = triple_gt1_entries[~triple_gt1_entries.mtext.isin(triple_1_entries.mtext)]\n",
    "    \n",
    "    print(\"Number of triples in X>1 tripleset that aren't in 1 tripleset: [{}]\"\\\n",
    "          .format(len(not_in_triple1.mtext.unique())))\n",
    "    if len(not_in_triple1):\n",
    "        \n",
    "        triple_sample = not_in_triple1.sample()\n",
    "        print('Example of triple: ', triple_sample.mtext.values[0])\n",
    "        sample = train_dev.sample(idx=triple_sample.idx.values[0])\n",
    "        print('\\n')\n",
    "        print(sample)\n",
    "        \n",
    "    print('\\n')"
   ]
  },
  {
   "cell_type": "markdown",
   "metadata": {},
   "source": [
    "So, there are triples in X>1 triplesets datasets wich doesn't occur in the respective 1 tripleset dataset, of the same category."
   ]
  },
  {
   "cell_type": "markdown",
   "metadata": {},
   "source": [
    "### And what about if all triples in Xtriple set are in 1triple set?"
   ]
  },
  {
   "cell_type": "code",
   "execution_count": 10,
   "metadata": {},
   "outputs": [
    {
     "name": "stdout",
     "output_type": "stream",
     "text": [
      "There are 176 distinct triples in X>1 datasets that aren't in 1 datasets\n"
     ]
    }
   ],
   "source": [
    "triple_1 = train_dev.subset(ntriples=[1]).mdf\n",
    "triples_gt1 = train_dev.subset(ntriples=[2, 3, 4, 5, 6, 7]).mdf\n",
    "\n",
    "in_gt1_not_1 = triples_gt1[~triples_gt1.mtext.isin(triple_1.mtext)]\n",
    "\n",
    "print(\"There are {} distinct triples in X>1 datasets that aren't in 1 datasets\"\\\n",
    "      .format(len(in_gt1_not_1.mtext.unique())))"
   ]
  },
  {
   "cell_type": "code",
   "execution_count": 11,
   "metadata": {},
   "outputs": [
    {
     "name": "stdout",
     "output_type": "stream",
     "text": [
      "Triple: Ardmore_Airport_(New_Zealand) | runwayLength | 518.0\n",
      "\n",
      "\n",
      "Triple info: {'category': 'Airport', 'eid': 'Id137', 'idx': '49_136', 'ntriples': 3}\n",
      "\n",
      "\tModified triples:\n",
      "\n",
      "Ardmore_Airport_(New_Zealand) | 3rd_runway_SurfaceType | Poaceae\n",
      "Ardmore_Airport_(New_Zealand) | elevationAboveTheSeaLevel_(in_metres) | 34.0\n",
      "Ardmore_Airport_(New_Zealand) | runwayLength | 518.0\n",
      "\n",
      "\n",
      "\tLexicalizations:\n",
      "\n",
      "The 3rd runway at Ardmore Airport in New Zealand (which is 34 meters above sea level ) is made of Poaceae and has a length of 518.0.\n",
      "Ardmore Airport (New Zealand) is 34 metres above sea level, a runway length of 518, and a 3rd runway surfaced with poaceae.\n",
      "The 3rd runway at Ardmore Airport (New Zealand) is made of Poaceae. It is 34 m above sea level and its length is 518 feet.\n"
     ]
    }
   ],
   "source": [
    "sample = in_gt1_not_1.sample()\n",
    "\n",
    "print('Triple: {}'.format(sample.mtext.values[0]))\n",
    "\n",
    "print('\\n')\n",
    "\n",
    "print(train_dev.sample(idx=sample.idx.values[0]))"
   ]
  },
  {
   "cell_type": "markdown",
   "metadata": {},
   "source": [
    "So, there are triples in X>1 datasets that don't occur in 1 datasets at all. This impacts my approach of generating templates with 1 datasets only :)"
   ]
  },
  {
   "cell_type": "markdown",
   "metadata": {},
   "source": [
    "### Now, all 1triple set occur in X>1?"
   ]
  },
  {
   "cell_type": "code",
   "execution_count": 12,
   "metadata": {},
   "outputs": [
    {
     "name": "stdout",
     "output_type": "stream",
     "text": [
      "There are 312 distinct triples in 1 datasets that aren't in X>1 datasets\n"
     ]
    }
   ],
   "source": [
    "in_1_not_gt1 = triple_1[~triple_1.mtext.isin(triples_gt1.mtext)]\n",
    "\n",
    "print(\"There are {} distinct triples in 1 datasets that aren't in X>1 datasets\"\\\n",
    "      .format(len(in_1_not_gt1.mtext.unique())))"
   ]
  },
  {
   "cell_type": "code",
   "execution_count": 13,
   "metadata": {},
   "outputs": [
    {
     "name": "stdout",
     "output_type": "stream",
     "text": [
      "Triple: Ashgabat_International_Airport | 1st_runway_LengthFeet | 12467\n",
      "\n",
      "\n",
      "Triple info: {'category': 'Airport', 'eid': 'Id172', 'idx': '0_171', 'ntriples': 1}\n",
      "\n",
      "\tModified triples:\n",
      "\n",
      "Ashgabat_International_Airport | 1st_runway_LengthFeet | 12467\n",
      "\n",
      "\n",
      "\tLexicalizations:\n",
      "\n",
      "The length of the first runway at Ashgabat International Airport is 12467 feet.\n",
      "The 1st runway at Ashgabat International airport is 12467 feet in length.\n",
      "Ashgabat International Airport's 1st runway has a length of 12467 feet.\n"
     ]
    }
   ],
   "source": [
    "sample = in_1_not_gt1.sample()\n",
    "\n",
    "print('Triple: {}'.format(sample.mtext.values[0]))\n",
    "\n",
    "print('\\n')\n",
    "\n",
    "print(train_dev.sample(idx=sample.idx.values[0]))"
   ]
  },
  {
   "cell_type": "markdown",
   "metadata": {},
   "source": [
    "## Distribution per category and number of triples"
   ]
  },
  {
   "cell_type": "code",
   "execution_count": 14,
   "metadata": {},
   "outputs": [],
   "source": [
    "def heatmap_by_category_ntriples(ds):\n",
    "    \n",
    "    # makes a figure\n",
    "    _, ax = plt.subplots(1, 1, figsize=(8, 8))\n",
    "    # heatmap of counts per category x ntriples\n",
    "    sns.heatmap(pd.crosstab(ds.category, ds.ntriples), \n",
    "                # annotate counts\n",
    "                annot=True,\n",
    "                ax=ax,\n",
    "                # integer formatting\n",
    "                fmt='d',\n",
    "                cmap='Blues')"
   ]
  },
  {
   "cell_type": "markdown",
   "metadata": {},
   "source": [
    "### train_dev"
   ]
  },
  {
   "cell_type": "code",
   "execution_count": 15,
   "metadata": {},
   "outputs": [
    {
     "data": {
      "image/png": "[encoded data removed]",
      "text/plain": [
       "<Figure size 576x576 with 2 Axes>"
      ]
     },
     "metadata": {
      "needs_background": "light"
     },
     "output_type": "display_data"
    }
   ],
   "source": [
    "heatmap_by_category_ntriples(train_dev.edf)"
   ]
  },
  {
   "cell_type": "markdown",
   "metadata": {},
   "source": [
    "### test_unseen_with_lex\n",
    "\n",
    "unseen categories"
   ]
  },
  {
   "cell_type": "code",
   "execution_count": 17,
   "metadata": {},
   "outputs": [
    {
     "data": {
      "image/png": "[encoded data removed]",
      "text/plain": [
       "<Figure size 576x576 with 2 Axes>"
      ]
     },
     "metadata": {
      "needs_background": "light"
     },
     "output_type": "display_data"
    }
   ],
   "source": [
    "heatmap_by_category_ntriples(test_unseen_with_lex.edf)"
   ]
  },
  {
   "cell_type": "markdown",
   "metadata": {},
   "source": [
    "# Have a look at a sample"
   ]
  },
  {
   "cell_type": "code",
   "execution_count": 18,
   "metadata": {},
   "outputs": [
    {
     "data": {
      "text/plain": [
       "Triple info: {'category': 'Astronaut', 'eid': 'Id12', 'idx': '7_11', 'ntriples': 1}\n",
       "\n",
       "\tModified triples:\n",
       "\n",
       "Alan_Shepard | birthDate | \"1923-11-18\"\n",
       "\n",
       "\n",
       "\tLexicalizations:\n",
       "\n",
       "Alan Shepard was born November 18th, 1923.\n",
       "Alan Shepard was born on November 18, 1923.\n",
       "Alan Shepard was born on Nov 18, 1923.\n",
       "Alan Shepard was born on 1923-11-18.\n",
       "Alan Shepard was born on the 18th of November 1923."
      ]
     },
     "execution_count": 18,
     "metadata": {},
     "output_type": "execute_result"
    }
   ],
   "source": [
    "train_dev.sample(category='Astronaut', ntriples=1, random_state=100)"
   ]
  },
  {
   "cell_type": "markdown",
   "metadata": {},
   "source": [
    "# Is there any duplicates?"
   ]
  },
  {
   "cell_type": "markdown",
   "metadata": {},
   "source": [
    "## Is there any modified triple duplicated in a tripleset?\n",
    "\n",
    "No"
   ]
  },
  {
   "cell_type": "code",
   "execution_count": 21,
   "metadata": {},
   "outputs": [],
   "source": [
    "# count how many entries has duplicated mtriples among its mtriples\n",
    "def n_duplicated_mtriples_per_entry(ds):\n",
    "    \n",
    "    # group by\n",
    "    #    idx, mtext -> if there is a group with more than 1 element\n",
    "    #       it means that there are duplicateds mtext(mtext) in a tripleset(idx)\n",
    "    mtriples_count_per_entry = ds.mdf.groupby(['idx', 'mtext']).size()\n",
    "    \n",
    "    # sum(true = 1 false = 0) the cases of duplications\n",
    "    return (mtriples_count_per_entry > 1).sum()"
   ]
  },
  {
   "cell_type": "code",
   "execution_count": 22,
   "metadata": {},
   "outputs": [
    {
     "data": {
      "text/plain": [
       "test_unseen_with_lex    0\n",
       "test_with_lex           0\n",
       "train_dev               0\n",
       "Name: number of cases of triples duplicated in a tripleset, dtype: int64"
      ]
     },
     "execution_count": 22,
     "metadata": {},
     "output_type": "execute_result"
    }
   ],
   "source": [
    "pd.Series({dataset.dataset: n_duplicated_mtriples_per_entry(dataset)\n",
    "             for dataset in datasets},\n",
    "          name='number of cases of triples duplicated in a tripleset')"
   ]
  },
  {
   "cell_type": "markdown",
   "metadata": {},
   "source": [
    "## Is there any modified triple duplicated among all entries?\n",
    "\n",
    "yes"
   ]
  },
  {
   "cell_type": "code",
   "execution_count": 23,
   "metadata": {},
   "outputs": [],
   "source": [
    "# counts, for each mtriple, in how many entries it occurs\n",
    "def mtriples_count(ds):\n",
    "    \n",
    "    return ds.mdf.mtext.value_counts()\n",
    "\n",
    "def mtriples_count_describe(ds):\n",
    "    \n",
    "    s = mtriples_count(ds).describe()\n",
    "    s.name = ds.dataset\n",
    "    \n",
    "    return s"
   ]
  },
  {
   "cell_type": "code",
   "execution_count": 24,
   "metadata": {},
   "outputs": [
    {
     "data": {
      "text/html": [
       "<div>\n",
       "<style scoped>\n",
       "    .dataframe tbody tr th:only-of-type {\n",
       "        vertical-align: middle;\n",
       "    }\n",
       "\n",
       "    .dataframe tbody tr th {\n",
       "        vertical-align: top;\n",
       "    }\n",
       "\n",
       "    .dataframe thead th {\n",
       "        text-align: right;\n",
       "    }\n",
       "</style>\n",
       "<table border=\"1\" class=\"dataframe\">\n",
       "  <thead>\n",
       "    <tr style=\"text-align: right;\">\n",
       "      <th></th>\n",
       "      <th>train_dev</th>\n",
       "      <th>test_with_lex</th>\n",
       "      <th>test_unseen_with_lex</th>\n",
       "    </tr>\n",
       "  </thead>\n",
       "  <tbody>\n",
       "    <tr>\n",
       "      <th>count</th>\n",
       "      <td>2131.000000</td>\n",
       "      <td>2331.000000</td>\n",
       "      <td>1068.000000</td>\n",
       "    </tr>\n",
       "    <tr>\n",
       "      <th>mean</th>\n",
       "      <td>10.802909</td>\n",
       "      <td>2.307164</td>\n",
       "      <td>2.294007</td>\n",
       "    </tr>\n",
       "    <tr>\n",
       "      <th>std</th>\n",
       "      <td>13.211164</td>\n",
       "      <td>2.216992</td>\n",
       "      <td>1.641108</td>\n",
       "    </tr>\n",
       "    <tr>\n",
       "      <th>min</th>\n",
       "      <td>1.000000</td>\n",
       "      <td>1.000000</td>\n",
       "      <td>1.000000</td>\n",
       "    </tr>\n",
       "    <tr>\n",
       "      <th>25%</th>\n",
       "      <td>3.000000</td>\n",
       "      <td>1.000000</td>\n",
       "      <td>1.000000</td>\n",
       "    </tr>\n",
       "    <tr>\n",
       "      <th>50%</th>\n",
       "      <td>7.000000</td>\n",
       "      <td>2.000000</td>\n",
       "      <td>2.000000</td>\n",
       "    </tr>\n",
       "    <tr>\n",
       "      <th>75%</th>\n",
       "      <td>13.000000</td>\n",
       "      <td>3.000000</td>\n",
       "      <td>3.000000</td>\n",
       "    </tr>\n",
       "    <tr>\n",
       "      <th>max</th>\n",
       "      <td>123.000000</td>\n",
       "      <td>39.000000</td>\n",
       "      <td>10.000000</td>\n",
       "    </tr>\n",
       "  </tbody>\n",
       "</table>\n",
       "</div>"
      ],
      "text/plain": [
       "         train_dev  test_with_lex  test_unseen_with_lex\n",
       "count  2131.000000    2331.000000           1068.000000\n",
       "mean     10.802909       2.307164              2.294007\n",
       "std      13.211164       2.216992              1.641108\n",
       "min       1.000000       1.000000              1.000000\n",
       "25%       3.000000       1.000000              1.000000\n",
       "50%       7.000000       2.000000              2.000000\n",
       "75%      13.000000       3.000000              3.000000\n",
       "max     123.000000      39.000000             10.000000"
      ]
     },
     "execution_count": 24,
     "metadata": {},
     "output_type": "execute_result"
    }
   ],
   "source": [
    "# ex: on average, each triple of train_dev dataset occurs in 10.8 entries\n",
    "#     on maximum, 123 times\n",
    "pd.concat([mtriples_count_describe(ds) for ds in datasets], axis=1)"
   ]
  },
  {
   "cell_type": "code",
   "execution_count": 25,
   "metadata": {},
   "outputs": [
    {
     "data": {
      "text/plain": [
       "English_language | spokenIn | Great_Britain    123\n",
       "United_States | capital | Washington,_D.C.     105\n",
       "United_States | language | English_language    102\n",
       "Name: mtext, dtype: int64"
      ]
     },
     "execution_count": 25,
     "metadata": {},
     "output_type": "execute_result"
    }
   ],
   "source": [
    "# most frequent triples in train dataset\n",
    "\n",
    "cm_train = mtriples_count(train_dev)\n",
    "\n",
    "cm_train.head(3)"
   ]
  },
  {
   "cell_type": "code",
   "execution_count": 26,
   "metadata": {},
   "outputs": [
    {
     "data": {
      "text/plain": [
       "<matplotlib.axes._subplots.AxesSubplot at 0x7fe0f29d3a90>"
      ]
     },
     "execution_count": 26,
     "metadata": {},
     "output_type": "execute_result"
    },
    {
     "data": {
      "image/png": "[encoded data removed]",
      "text/plain": [
       "<Figure size 864x360 with 1 Axes>"
      ]
     },
     "metadata": {
      "needs_background": "light"
     },
     "output_type": "display_data"
    }
   ],
   "source": [
    "mtriples_count(train_dev).hist(bins=20, figsize=(12, 5))"
   ]
  },
  {
   "cell_type": "markdown",
   "metadata": {},
   "source": [
    "## Are entries with shared triples lexicalized the same way?\n",
    "\n",
    "Remember that the same triple can appear in more than one entry.\n",
    "\n",
    "There are some patterns..."
   ]
  },
  {
   "cell_type": "code",
   "execution_count": 27,
   "metadata": {},
   "outputs": [],
   "source": [
    "# groups by mtext and lists the lexicalizations\n",
    "def mtriples_with_generated_lexes(ds):\n",
    "    \n",
    "    # merges modified triple dataset and lexicalization dataset\n",
    "    df = pd.merge(ds.mdf, ds.ldf)\n",
    "    \n",
    "    # groups by triple and for each triple generates a list of lexicalizations\n",
    "    ddf = df.groupby('mtext').ltext.apply(list).to_frame()\n",
    "    # adds a column with the number of lexicalizations\n",
    "    ddf['size'] = ddf.ltext.apply(len)\n",
    "    \n",
    "    return ddf\n",
    "\n",
    "# prints triple and its lexicalizations\n",
    "def print_mtriple_with_generated_lexes(mtriple):\n",
    "    \n",
    "    print(\"triple: \", mtriple.name, '\\n')\n",
    "    for ltext in mtriple.ltext:\n",
    "        print(\"lexicalization: \", ltext, '\\n')"
   ]
  },
  {
   "cell_type": "markdown",
   "metadata": {},
   "source": [
    "### train_dev"
   ]
  },
  {
   "cell_type": "markdown",
   "metadata": {},
   "source": [
    "For example: \n",
    "\n",
    "* *11_Diagonal_Street | floorArea | 1200 (square metres)* appears in entries with eids 3_14(size = 1) and 29_14(size = 4)"
   ]
  },
  {
   "cell_type": "code",
   "execution_count": 28,
   "metadata": {},
   "outputs": [
    {
     "data": {
      "text/plain": [
       "Triple info: {'category': 'Building', 'eid': 'Id15', 'idx': '29_14', 'ntriples': 4}\n",
       "\n",
       "\tModified triples:\n",
       "\n",
       "11_Diagonal_Street | completionDate | 1983\n",
       "11_Diagonal_Street | floorCount | 20\n",
       "11_Diagonal_Street | architect | Helmut_Jahn\n",
       "11_Diagonal_Street | floorArea | 1200 (square metres)\n",
       "\n",
       "\n",
       "\tLexicalizations:\n",
       "\n",
       "The architect of 11 Diagonal Street is Helmut Jahn and it was completed in 1983. It has 20 floors and a floor area of 1200 square metres.\n",
       "11 Diagonal Street was designed by Helmut Jahn and was completed in 1983. It has 20 floors and an area of 1200 square metres.\n",
       "Helmut Jahn was the architect of 11 Diagonal Street which was completed in 1983 with 20 floors and a total floor area of 1200 square metres."
      ]
     },
     "execution_count": 28,
     "metadata": {},
     "output_type": "execute_result"
    }
   ],
   "source": [
    "train_dev.sample(idx='29_14')"
   ]
  },
  {
   "cell_type": "code",
   "execution_count": 29,
   "metadata": {},
   "outputs": [
    {
     "data": {
      "text/plain": [
       "Triple info: {'category': 'Building', 'eid': 'Id15', 'idx': '3_14', 'ntriples': 1}\n",
       "\n",
       "\tModified triples:\n",
       "\n",
       "11_Diagonal_Street | floorArea | 1200 (square metres)\n",
       "\n",
       "\n",
       "\tLexicalizations:\n",
       "\n",
       "11 Diagonal Street has a floor area of 1200 square metres."
      ]
     },
     "execution_count": 29,
     "metadata": {},
     "output_type": "execute_result"
    }
   ],
   "source": [
    "train_dev.sample(idx='3_14')"
   ]
  },
  {
   "cell_type": "code",
   "execution_count": 30,
   "metadata": {},
   "outputs": [],
   "source": [
    "mtriples_w_lexes_train = mtriples_with_generated_lexes(train_dev)"
   ]
  },
  {
   "cell_type": "code",
   "execution_count": 31,
   "metadata": {},
   "outputs": [
    {
     "data": {
      "text/plain": [
       "count    2131.000000\n",
       "mean       28.432191\n",
       "std        34.977128\n",
       "min         1.000000\n",
       "25%         6.000000\n",
       "50%        17.000000\n",
       "75%        36.000000\n",
       "max       319.000000\n",
       "Name: size, dtype: float64"
      ]
     },
     "execution_count": 31,
     "metadata": {},
     "output_type": "execute_result"
    }
   ],
   "source": [
    "# on average, each triple occurs in 28 lexicalizations\n",
    "# on maximum, 319\n",
    "mtriples_w_lexes_train['size'].describe()"
   ]
  },
  {
   "cell_type": "code",
   "execution_count": 32,
   "metadata": {},
   "outputs": [
    {
     "data": {
      "text/plain": [
       "<matplotlib.axes._subplots.AxesSubplot at 0x7fe0f3715ef0>"
      ]
     },
     "execution_count": 32,
     "metadata": {},
     "output_type": "execute_result"
    },
    {
     "data": {
      "image/png": "[encoded data removed]",
      "text/plain": [
       "<Figure size 864x360 with 1 Axes>"
      ]
     },
     "metadata": {
      "needs_background": "light"
     },
     "output_type": "display_data"
    }
   ],
   "source": [
    "mtriples_w_lexes_train['size'].hist(bins=20, figsize=(12, 5))"
   ]
  },
  {
   "cell_type": "code",
   "execution_count": 33,
   "metadata": {},
   "outputs": [
    {
     "name": "stdout",
     "output_type": "stream",
     "text": [
      "triple:  11_Diagonal_Street | floorArea | 1200 (square metres) \n",
      "\n",
      "lexicalization:  11 Diagonal Street has a floor area of 1200 square metres. \n",
      "\n",
      "lexicalization:  The architect of 11 Diagonal Street is Helmut Jahn and it was completed in 1983. It has 20 floors and a floor area of 1200 square metres. \n",
      "\n",
      "lexicalization:  11 Diagonal Street was designed by Helmut Jahn and was completed in 1983. It has 20 floors and an area of 1200 square metres. \n",
      "\n",
      "lexicalization:  Helmut Jahn was the architect of 11 Diagonal Street which was completed in 1983 with 20 floors and a total floor area of 1200 square metres. \n",
      "\n"
     ]
    }
   ],
   "source": [
    "# some examples of triples that are lexicalizad in more than one way\n",
    "mtriples_w_lexes_train_size_lt_5 = mtriples_w_lexes_train[mtriples_w_lexes_train['size'] < 5]\n",
    "\n",
    "print_mtriple_with_generated_lexes(mtriples_w_lexes_train_size_lt_5.iloc[0, :])"
   ]
  },
  {
   "cell_type": "code",
   "execution_count": null,
   "metadata": {},
   "outputs": [],
   "source": [
    "# some examples of triples that are lexicalizad in more than a hundred ways\n",
    "mtriples_w_lexes_train_size_lt_5 = mtriples_w_lexes_train[mtriples_w_lexes_train['size'] > 100]\n",
    "\n",
    "print_mtriple_with_generated_lexes(mtriples_w_lexes_train_size_lt_5.iloc[0, :])"
   ]
  },
  {
   "cell_type": "markdown",
   "metadata": {},
   "source": [
    "### test_with_lex\n",
    "\n",
    "no, you mustn't see the test data"
   ]
  },
  {
   "cell_type": "markdown",
   "metadata": {},
   "source": [
    "# And what about lexicalizations for same predicates?"
   ]
  },
  {
   "cell_type": "code",
   "execution_count": 35,
   "metadata": {},
   "outputs": [],
   "source": [
    "# groups by m_predicate and lists the lexicalizations\n",
    "def m_predicates_with_generated_lexes(ds):\n",
    "    \n",
    "    # merges modified triple dataset and lexicalization dataset\n",
    "    df = pd.merge(ds.mdf, ds.ldf)\n",
    "    \n",
    "    # groups by triple and for each triple generates a list of lexicalizations\n",
    "    ddf = df.groupby('m_predicate').ltext.apply(list).to_frame()\n",
    "    # adds a column with the number of lexicalizations\n",
    "    ddf['size'] = ddf.ltext.apply(len)\n",
    "    \n",
    "    return ddf\n",
    "\n",
    "# prints triple and its lexicalizations\n",
    "def print_m_predicate_with_generated_lexes(mtriple):\n",
    "    \n",
    "    print(\"m_predicate: \", mtriple.name, '\\n')\n",
    "    for ltext in sorted(mtriple.ltext):\n",
    "        print(\"lexicalization: \", ltext, '\\n')"
   ]
  },
  {
   "cell_type": "code",
   "execution_count": 36,
   "metadata": {},
   "outputs": [],
   "source": [
    "m_predicates_w_lexes_train = m_predicates_with_generated_lexes(train_dev)"
   ]
  },
  {
   "cell_type": "code",
   "execution_count": 37,
   "metadata": {},
   "outputs": [
    {
     "data": {
      "text/plain": [
       "count     246.000000\n",
       "mean      246.296748\n",
       "std       597.935924\n",
       "min         1.000000\n",
       "25%        20.000000\n",
       "50%        67.000000\n",
       "75%       219.500000\n",
       "max      6345.000000\n",
       "Name: size, dtype: float64"
      ]
     },
     "execution_count": 37,
     "metadata": {},
     "output_type": "execute_result"
    }
   ],
   "source": [
    "# on average, each predicate occurs in 246 lexicalizations\n",
    "# on maximum, 6345\n",
    "\n",
    "m_predicates_w_lexes_train['size'].describe()"
   ]
  },
  {
   "cell_type": "code",
   "execution_count": 38,
   "metadata": {},
   "outputs": [
    {
     "data": {
      "text/html": [
       "<div>\n",
       "<style scoped>\n",
       "    .dataframe tbody tr th:only-of-type {\n",
       "        vertical-align: middle;\n",
       "    }\n",
       "\n",
       "    .dataframe tbody tr th {\n",
       "        vertical-align: top;\n",
       "    }\n",
       "\n",
       "    .dataframe thead th {\n",
       "        text-align: right;\n",
       "    }\n",
       "</style>\n",
       "<table border=\"1\" class=\"dataframe\">\n",
       "  <thead>\n",
       "    <tr style=\"text-align: right;\">\n",
       "      <th></th>\n",
       "      <th>m_predicate</th>\n",
       "      <th>size</th>\n",
       "    </tr>\n",
       "  </thead>\n",
       "  <tbody>\n",
       "    <tr>\n",
       "      <th>0</th>\n",
       "      <td>country</td>\n",
       "      <td>6345</td>\n",
       "    </tr>\n",
       "    <tr>\n",
       "      <th>1</th>\n",
       "      <td>location</td>\n",
       "      <td>4046</td>\n",
       "    </tr>\n",
       "    <tr>\n",
       "      <th>2</th>\n",
       "      <td>leaderName</td>\n",
       "      <td>3537</td>\n",
       "    </tr>\n",
       "    <tr>\n",
       "      <th>3</th>\n",
       "      <td>ingredient</td>\n",
       "      <td>1930</td>\n",
       "    </tr>\n",
       "    <tr>\n",
       "      <th>4</th>\n",
       "      <td>region</td>\n",
       "      <td>1673</td>\n",
       "    </tr>\n",
       "    <tr>\n",
       "      <th>5</th>\n",
       "      <td>isPartOf</td>\n",
       "      <td>1640</td>\n",
       "    </tr>\n",
       "    <tr>\n",
       "      <th>6</th>\n",
       "      <td>language</td>\n",
       "      <td>1596</td>\n",
       "    </tr>\n",
       "    <tr>\n",
       "      <th>7</th>\n",
       "      <td>ethnicGroup</td>\n",
       "      <td>1524</td>\n",
       "    </tr>\n",
       "    <tr>\n",
       "      <th>8</th>\n",
       "      <td>birthPlace</td>\n",
       "      <td>1281</td>\n",
       "    </tr>\n",
       "    <tr>\n",
       "      <th>9</th>\n",
       "      <td>club</td>\n",
       "      <td>1145</td>\n",
       "    </tr>\n",
       "    <tr>\n",
       "      <th>10</th>\n",
       "      <td>capital</td>\n",
       "      <td>1133</td>\n",
       "    </tr>\n",
       "    <tr>\n",
       "      <th>11</th>\n",
       "      <td>runwayLength</td>\n",
       "      <td>967</td>\n",
       "    </tr>\n",
       "    <tr>\n",
       "      <th>12</th>\n",
       "      <td>mainIngredients</td>\n",
       "      <td>878</td>\n",
       "    </tr>\n",
       "    <tr>\n",
       "      <th>13</th>\n",
       "      <td>cityServed</td>\n",
       "      <td>859</td>\n",
       "    </tr>\n",
       "    <tr>\n",
       "      <th>14</th>\n",
       "      <td>creator</td>\n",
       "      <td>842</td>\n",
       "    </tr>\n",
       "    <tr>\n",
       "      <th>15</th>\n",
       "      <td>city</td>\n",
       "      <td>831</td>\n",
       "    </tr>\n",
       "    <tr>\n",
       "      <th>16</th>\n",
       "      <td>operatingOrganisation</td>\n",
       "      <td>827</td>\n",
       "    </tr>\n",
       "    <tr>\n",
       "      <th>17</th>\n",
       "      <td>ground</td>\n",
       "      <td>797</td>\n",
       "    </tr>\n",
       "    <tr>\n",
       "      <th>18</th>\n",
       "      <td>dishVariation</td>\n",
       "      <td>738</td>\n",
       "    </tr>\n",
       "    <tr>\n",
       "      <th>19</th>\n",
       "      <td>almaMater</td>\n",
       "      <td>730</td>\n",
       "    </tr>\n",
       "  </tbody>\n",
       "</table>\n",
       "</div>"
      ],
      "text/plain": [
       "              m_predicate  size\n",
       "0                 country  6345\n",
       "1                location  4046\n",
       "2              leaderName  3537\n",
       "3              ingredient  1930\n",
       "4                  region  1673\n",
       "5                isPartOf  1640\n",
       "6                language  1596\n",
       "7             ethnicGroup  1524\n",
       "8              birthPlace  1281\n",
       "9                    club  1145\n",
       "10                capital  1133\n",
       "11           runwayLength   967\n",
       "12        mainIngredients   878\n",
       "13             cityServed   859\n",
       "14                creator   842\n",
       "15                   city   831\n",
       "16  operatingOrganisation   827\n",
       "17                 ground   797\n",
       "18          dishVariation   738\n",
       "19              almaMater   730"
      ]
     },
     "execution_count": 38,
     "metadata": {},
     "output_type": "execute_result"
    }
   ],
   "source": [
    "# who is the biggest guys?\n",
    "\n",
    "m_predicates_w_lexes_train.nlargest(20, 'size').reset_index()[['m_predicate', 'size']]"
   ]
  },
  {
   "cell_type": "code",
   "execution_count": 39,
   "metadata": {},
   "outputs": [
    {
     "data": {
      "text/plain": [
       "<matplotlib.axes._subplots.AxesSubplot at 0x7fe0f43471d0>"
      ]
     },
     "execution_count": 39,
     "metadata": {},
     "output_type": "execute_result"
    },
    {
     "data": {
      "image/png": "[encoded data removed]",
      "text/plain": [
       "<Figure size 864x360 with 1 Axes>"
      ]
     },
     "metadata": {
      "needs_background": "light"
     },
     "output_type": "display_data"
    }
   ],
   "source": [
    "m_predicates_w_lexes_train['size'].hist(bins=20, figsize=(12, 5))"
   ]
  },
  {
   "cell_type": "code",
   "execution_count": 40,
   "metadata": {},
   "outputs": [
    {
     "name": "stdout",
     "output_type": "stream",
     "text": [
      "m_predicate:  4th_runway_SurfaceType \n",
      "\n",
      "lexicalization:  Amsterdam Airport Schiphol is -3.3528 metres above sea level and the 4th runway is made of asphalt. \n",
      "\n",
      "lexicalization:  Amsterdam Airport Schiphol is 3.3528 below sea level and its fourth runway is made from asphalt. \n",
      "\n",
      "lexicalization:  Andrews County Airport is 973 metres above sea level and The 4th runway is made of Asphalt. \n",
      "\n",
      "lexicalization:  The 4th runway at Amsterdam Airport Schipol has a surface of asphalt. \n",
      "\n",
      "lexicalization:  The 4th runway at Andrews County Airport is made of Asphalt. \n",
      "\n",
      "lexicalization:  The Andrews County Airport fourth runway is made of asphalt. \n",
      "\n",
      "lexicalization:  The fourth runway at Andrews County Airport is made from asphalt. \n",
      "\n",
      "lexicalization:  The fourth runway at Andrews County Airport is made of asphalt and the airport is 973 below sea level. \n",
      "\n",
      "lexicalization:  The fourth runway at Schiphol Airport in Amsterdam is made of asphalt. \n",
      "\n"
     ]
    }
   ],
   "source": [
    "# one example of a predicate lexicalized less than 10 times\n",
    "m_predicates_w_lexes_train_size_lt_5 = m_predicates_w_lexes_train[m_predicates_w_lexes_train['size'] < 10]\n",
    "\n",
    "print_m_predicate_with_generated_lexes(m_predicates_w_lexes_train_size_lt_5.sample().iloc[0, :])"
   ]
  },
  {
   "cell_type": "code",
   "execution_count": null,
   "metadata": {},
   "outputs": [],
   "source": [
    "# one example of a predicate lexicalized more than 6k times\n",
    "m_predicates_w_lexes_train_size_lt_5 = m_predicates_w_lexes_train[m_predicates_w_lexes_train['size'] > 6000]\n",
    "\n",
    "print_m_predicate_with_generated_lexes(m_predicates_w_lexes_train_size_lt_5.sample().iloc[0, :])"
   ]
  },
  {
   "cell_type": "markdown",
   "metadata": {},
   "source": [
    "## Number of distinct subjects, predicates, objects"
   ]
  },
  {
   "cell_type": "markdown",
   "metadata": {},
   "source": [
    "### for each dataset"
   ]
  },
  {
   "cell_type": "code",
   "execution_count": 42,
   "metadata": {},
   "outputs": [],
   "source": [
    "def report_n_distinct_s_p_o(mdf):\n",
    "    \n",
    "    return {'subject': mdf.m_subject.nunique(),\n",
    "            'predicate': mdf.m_predicate.nunique(),\n",
    "            'object': mdf.m_object.nunique(),\n",
    "            # defined as a subject ou object\n",
    "            'subject_and_object': pd.concat([mdf.m_subject, mdf.m_object]).nunique(),\n",
    "            # vocabulary size\n",
    "            'vocabulary': pd.concat([mdf.m_subject, mdf.m_object, mdf.m_predicate]).nunique()\n",
    "           }"
   ]
  },
  {
   "cell_type": "code",
   "execution_count": 43,
   "metadata": {},
   "outputs": [
    {
     "data": {
      "text/html": [
       "<div>\n",
       "<style scoped>\n",
       "    .dataframe tbody tr th:only-of-type {\n",
       "        vertical-align: middle;\n",
       "    }\n",
       "\n",
       "    .dataframe tbody tr th {\n",
       "        vertical-align: top;\n",
       "    }\n",
       "\n",
       "    .dataframe thead th {\n",
       "        text-align: right;\n",
       "    }\n",
       "</style>\n",
       "<table border=\"1\" class=\"dataframe\">\n",
       "  <thead>\n",
       "    <tr style=\"text-align: right;\">\n",
       "      <th></th>\n",
       "      <th>object</th>\n",
       "      <th>predicate</th>\n",
       "      <th>subject</th>\n",
       "      <th>subject_and_object</th>\n",
       "      <th>vocabulary</th>\n",
       "      <th>unique_triples</th>\n",
       "    </tr>\n",
       "  </thead>\n",
       "  <tbody>\n",
       "    <tr>\n",
       "      <th>train_dev</th>\n",
       "      <td>1642</td>\n",
       "      <td>246</td>\n",
       "      <td>434</td>\n",
       "      <td>1771</td>\n",
       "      <td>2017</td>\n",
       "      <td>2131</td>\n",
       "    </tr>\n",
       "    <tr>\n",
       "      <th>test_with_lex</th>\n",
       "      <td>1888</td>\n",
       "      <td>300</td>\n",
       "      <td>575</td>\n",
       "      <td>2125</td>\n",
       "      <td>2425</td>\n",
       "      <td>2331</td>\n",
       "    </tr>\n",
       "    <tr>\n",
       "      <th>test_unseen_with_lex</th>\n",
       "      <td>898</td>\n",
       "      <td>159</td>\n",
       "      <td>238</td>\n",
       "      <td>1002</td>\n",
       "      <td>1161</td>\n",
       "      <td>1068</td>\n",
       "    </tr>\n",
       "  </tbody>\n",
       "</table>\n",
       "</div>"
      ],
      "text/plain": [
       "                      object  predicate  subject  subject_and_object  \\\n",
       "train_dev               1642        246      434                1771   \n",
       "test_with_lex           1888        300      575                2125   \n",
       "test_unseen_with_lex     898        159      238                1002   \n",
       "\n",
       "                      vocabulary  unique_triples  \n",
       "train_dev                   2017            2131  \n",
       "test_with_lex               2425            2331  \n",
       "test_unseen_with_lex        1161            1068  "
      ]
     },
     "execution_count": 43,
     "metadata": {},
     "output_type": "execute_result"
    }
   ],
   "source": [
    "df = pd.DataFrame(data = [report_n_distinct_s_p_o(ds.mdf) for ds in datasets],\n",
    "             index = [ds.dataset for ds in datasets])\n",
    "\n",
    "df['unique_triples'] = [ds.mdf.mtext.nunique() for ds in datasets]\n",
    "df"
   ]
  },
  {
   "cell_type": "markdown",
   "metadata": {},
   "source": [
    "### among all datasets"
   ]
  },
  {
   "cell_type": "code",
   "execution_count": 44,
   "metadata": {},
   "outputs": [
    {
     "data": {
      "text/html": [
       "<div>\n",
       "<style scoped>\n",
       "    .dataframe tbody tr th:only-of-type {\n",
       "        vertical-align: middle;\n",
       "    }\n",
       "\n",
       "    .dataframe tbody tr th {\n",
       "        vertical-align: top;\n",
       "    }\n",
       "\n",
       "    .dataframe thead th {\n",
       "        text-align: right;\n",
       "    }\n",
       "</style>\n",
       "<table border=\"1\" class=\"dataframe\">\n",
       "  <thead>\n",
       "    <tr style=\"text-align: right;\">\n",
       "      <th></th>\n",
       "      <th>object</th>\n",
       "      <th>predicate</th>\n",
       "      <th>subject</th>\n",
       "      <th>subject_and_object</th>\n",
       "      <th>vocabulary</th>\n",
       "    </tr>\n",
       "  </thead>\n",
       "  <tbody>\n",
       "    <tr>\n",
       "      <th>all</th>\n",
       "      <td>2505</td>\n",
       "      <td>354</td>\n",
       "      <td>667</td>\n",
       "      <td>2730</td>\n",
       "      <td>3084</td>\n",
       "    </tr>\n",
       "  </tbody>\n",
       "</table>\n",
       "</div>"
      ],
      "text/plain": [
       "     object  predicate  subject  subject_and_object  vocabulary\n",
       "all    2505        354      667                2730        3084"
      ]
     },
     "execution_count": 44,
     "metadata": {},
     "output_type": "execute_result"
    }
   ],
   "source": [
    "pd.DataFrame(report_n_distinct_s_p_o(pd.concat([ds.mdf for ds in datasets])),\n",
    "             index=['all'])"
   ]
  },
  {
   "cell_type": "markdown",
   "metadata": {},
   "source": [
    "## Most frequent subjects, predicates, objects\n",
    "\n",
    "in relation to amount of entries in which they occur, not the amount of lexicalizations where they appear(remember that an entry can have more than one lexicalization)"
   ]
  },
  {
   "cell_type": "code",
   "execution_count": 45,
   "metadata": {},
   "outputs": [],
   "source": [
    "def most_frequent(ds, type_, n=5):\n",
    "    \n",
    "    if type_ == 'subject':\n",
    "        return ds.mdf.m_subject.value_counts().nlargest(n)\n",
    "    if type_ == 'object':\n",
    "        return ds.mdf.m_object.value_counts().nlargest(n)\n",
    "    if type_ == 'predicate':\n",
    "        return ds.mdf.m_predicate.value_counts().nlargest(n)"
   ]
  },
  {
   "cell_type": "markdown",
   "metadata": {},
   "source": [
    "### train_dev"
   ]
  },
  {
   "cell_type": "code",
   "execution_count": 46,
   "metadata": {},
   "outputs": [
    {
     "data": {
      "text/plain": [
       "United_States                      760\n",
       "Acharya_Institute_of_Technology    539\n",
       "Alan_Shepard                       478\n",
       "Elliot_See                         474\n",
       "Alan_Bean                          410\n",
       "Name: m_subject, dtype: int64"
      ]
     },
     "execution_count": 46,
     "metadata": {},
     "output_type": "execute_result"
    }
   ],
   "source": [
    "most_frequent(train_dev, 'subject')"
   ]
  },
  {
   "cell_type": "code",
   "execution_count": 47,
   "metadata": {},
   "outputs": [
    {
     "data": {
      "text/plain": [
       "United_States       944\n",
       "English_language    294\n",
       "Indonesia           185\n",
       "Spain               169\n",
       "Italy               142\n",
       "Name: m_object, dtype: int64"
      ]
     },
     "execution_count": 47,
     "metadata": {},
     "output_type": "execute_result"
    }
   ],
   "source": [
    "most_frequent(train_dev, 'object')"
   ]
  },
  {
   "cell_type": "code",
   "execution_count": 48,
   "metadata": {},
   "outputs": [
    {
     "data": {
      "text/plain": [
       "country       2409\n",
       "location      1537\n",
       "leaderName    1385\n",
       "ingredient     738\n",
       "isPartOf       641\n",
       "Name: m_predicate, dtype: int64"
      ]
     },
     "execution_count": 48,
     "metadata": {},
     "output_type": "execute_result"
    }
   ],
   "source": [
    "most_frequent(train_dev, 'predicate')"
   ]
  },
  {
   "cell_type": "markdown",
   "metadata": {},
   "source": [
    "## Distribution of vocabulary"
   ]
  },
  {
   "cell_type": "markdown",
   "metadata": {},
   "source": [
    "### m_subject"
   ]
  },
  {
   "cell_type": "code",
   "execution_count": 49,
   "metadata": {},
   "outputs": [
    {
     "data": {
      "text/plain": [
       "count    434.000000\n",
       "mean      53.043779\n",
       "std       79.166678\n",
       "min        1.000000\n",
       "50%       20.000000\n",
       "75%       79.750000\n",
       "90%      124.000000\n",
       "99%      409.670000\n",
       "max      760.000000\n",
       "Name: m_subject, dtype: float64"
      ]
     },
     "execution_count": 49,
     "metadata": {},
     "output_type": "execute_result"
    }
   ],
   "source": [
    "m_subject_vc = train_dev.mdf.m_subject.value_counts()\n",
    "\n",
    "m_subject_vc.describe(percentiles=[.5, .75, .9, .99])"
   ]
  },
  {
   "cell_type": "markdown",
   "metadata": {},
   "source": [
    "* 50% dos m_subject ocorrem 20 ou menos vezes\n",
    "* 50% dos m_subject ocorrem 21 ou mais vezes"
   ]
  },
  {
   "cell_type": "code",
   "execution_count": 50,
   "metadata": {},
   "outputs": [
    {
     "data": {
      "text/plain": [
       "<matplotlib.axes._subplots.AxesSubplot at 0x7fe0f4da0ef0>"
      ]
     },
     "execution_count": 50,
     "metadata": {},
     "output_type": "execute_result"
    },
    {
     "data": {
      "image/png": "[encoded data removed]",
      "text/plain": [
       "<Figure size 864x360 with 1 Axes>"
      ]
     },
     "metadata": {
      "needs_background": "light"
     },
     "output_type": "display_data"
    }
   ],
   "source": [
    "m_subject_vc.hist(bins=20, figsize=(12, 5))"
   ]
  },
  {
   "cell_type": "markdown",
   "metadata": {},
   "source": [
    "### m_predicate"
   ]
  },
  {
   "cell_type": "code",
   "execution_count": 51,
   "metadata": {},
   "outputs": [
    {
     "data": {
      "text/plain": [
       "count     246.000000\n",
       "mean       93.581301\n",
       "std       228.610263\n",
       "min         1.000000\n",
       "50%        25.000000\n",
       "75%        80.000000\n",
       "90%       228.000000\n",
       "99%      1093.850000\n",
       "max      2409.000000\n",
       "Name: m_predicate, dtype: float64"
      ]
     },
     "execution_count": 51,
     "metadata": {},
     "output_type": "execute_result"
    }
   ],
   "source": [
    "m_predicate_vc = train_dev.mdf.m_predicate.value_counts()\n",
    "\n",
    "m_predicate_vc.describe(percentiles=[.5, .75, .9, .99])"
   ]
  },
  {
   "cell_type": "markdown",
   "metadata": {},
   "source": [
    "* 50% dos m_predicate ocorrem 25 ou menos vezes\n",
    "* 50% dos m_predicate ocorrem 26 ou mais vezes"
   ]
  },
  {
   "cell_type": "code",
   "execution_count": 52,
   "metadata": {},
   "outputs": [
    {
     "data": {
      "text/plain": [
       "<matplotlib.axes._subplots.AxesSubplot at 0x7fe0f3233d30>"
      ]
     },
     "execution_count": 52,
     "metadata": {},
     "output_type": "execute_result"
    },
    {
     "data": {
      "image/png": "[encoded data removed]",
      "text/plain": [
       "<Figure size 864x360 with 1 Axes>"
      ]
     },
     "metadata": {
      "needs_background": "light"
     },
     "output_type": "display_data"
    }
   ],
   "source": [
    "m_predicate_vc.hist(bins=20, figsize=(12, 5))"
   ]
  },
  {
   "cell_type": "markdown",
   "metadata": {},
   "source": [
    "### m_object"
   ]
  },
  {
   "cell_type": "code",
   "execution_count": 53,
   "metadata": {},
   "outputs": [
    {
     "data": {
      "text/plain": [
       "count    1642.000000\n",
       "mean       14.020097\n",
       "std        30.023659\n",
       "min         1.000000\n",
       "50%         7.000000\n",
       "75%        16.000000\n",
       "90%        31.000000\n",
       "99%        93.180000\n",
       "max       944.000000\n",
       "Name: m_object, dtype: float64"
      ]
     },
     "execution_count": 53,
     "metadata": {},
     "output_type": "execute_result"
    }
   ],
   "source": [
    "m_object_vc = train_dev.mdf.m_object.value_counts()\n",
    "\n",
    "m_object_vc.describe(percentiles=[.5, .75, .9, .99])"
   ]
  },
  {
   "cell_type": "markdown",
   "metadata": {},
   "source": [
    "* 50% dos m_object ocorrem 7 ou menos vezes\n",
    "* 50% dos m_object ocorrem 8 ou mais vezes"
   ]
  },
  {
   "cell_type": "code",
   "execution_count": 54,
   "metadata": {},
   "outputs": [
    {
     "data": {
      "text/plain": [
       "<matplotlib.axes._subplots.AxesSubplot at 0x7fe0f4f5b240>"
      ]
     },
     "execution_count": 54,
     "metadata": {},
     "output_type": "execute_result"
    },
    {
     "data": {
      "image/png": "[encoded data removed]",
      "text/plain": [
       "<Figure size 864x360 with 1 Axes>"
      ]
     },
     "metadata": {
      "needs_background": "light"
     },
     "output_type": "display_data"
    }
   ],
   "source": [
    "m_object_vc.hist(bins=20, figsize=(12, 5))"
   ]
  },
  {
   "cell_type": "markdown",
   "metadata": {},
   "source": [
    "# Is tripleset connected?\n",
    "\n",
    "is there a path between any pair of triples?"
   ]
  },
  {
   "cell_type": "markdown",
   "metadata": {},
   "source": [
    "## Let's check a sample"
   ]
  },
  {
   "cell_type": "markdown",
   "metadata": {},
   "source": [
    "### non connected example\n",
    "\n",
    "This example looks like a case of verbalization containing more information than data!"
   ]
  },
  {
   "cell_type": "code",
   "execution_count": 55,
   "metadata": {},
   "outputs": [
    {
     "name": "stdout",
     "output_type": "stream",
     "text": [
      "Triple info: {'category': 'Food', 'eid': 'Id186', 'idx': '25_185', 'ntriples': 4}\n",
      "\n",
      "\tModified triples:\n",
      "\n",
      "Batagor | country | Indonesia\n",
      "Siomay | dishVariation | Shumai\n",
      "Shumai | dishVariation | Siomay\n",
      "Batagor | ingredient | Peanut_sauce\n",
      "\n",
      "\n",
      "\tLexicalizations:\n",
      "\n",
      "Batagor comes from Indonesia, it includes peanut sauce and is a variation on Shumai/Siomay.\n",
      "Shumai is a variation of Siomay and they are both types of the same dish. Batagor is found in Indonesia and has peanut sauce as an ingredient.\n",
      "Batagor, a variant of Shumai and Siomay, contains peanut sauce and originates from Indonesia.\n"
     ]
    },
    {
     "data": {
      "image/png": "[encoded data removed]",
      "text/plain": [
       "<Figure size 720x432 with 1 Axes>"
      ]
     },
     "metadata": {
      "needs_background": "light"
     },
     "output_type": "display_data"
    }
   ],
   "source": [
    "s = train_dev.sample(idx='25_185')\n",
    "\n",
    "print(s)\n",
    "s.draw_graph()"
   ]
  },
  {
   "cell_type": "markdown",
   "metadata": {},
   "source": [
    "### connected example"
   ]
  },
  {
   "cell_type": "code",
   "execution_count": 56,
   "metadata": {},
   "outputs": [
    {
     "name": "stdout",
     "output_type": "stream",
     "text": [
      "Triple info: {'category': 'Food', 'eid': 'Id101', 'idx': '25_100', 'ntriples': 4}\n",
      "\n",
      "\tModified triples:\n",
      "\n",
      "Bacon_sandwich | dishVariation | BLT\n",
      "BLT | dishVariation | Club_sandwich\n",
      "Bacon_sandwich | ingredient | Condiment\n",
      "Bacon_sandwich | country | United_Kingdom\n",
      "\n",
      "\n",
      "\tLexicalizations:\n",
      "\n",
      "The country that bacon sandwich comes from is the United Kingdom. It can be served with condiments and variations include the BLT and club sandwich.\n",
      "Bacon sandwich is a dish from the United Kingdom and condiments are used to prepare it.BLT is a variation of a Club Sandwich.\n",
      "The BLT is a bacon sandwich, a variant of the Club sandwich. The bacon sandwich uses condiments and originates from the United Kingdom.\n"
     ]
    },
    {
     "data": {
      "image/png": "[encoded data removed]",
      "text/plain": [
       "<Figure size 720x432 with 1 Axes>"
      ]
     },
     "metadata": {
      "needs_background": "light"
     },
     "output_type": "display_data"
    }
   ],
   "source": [
    "s = train_dev.sample(idx='25_100')\n",
    "\n",
    "print(s)\n",
    "s.draw_graph()"
   ]
  },
  {
   "cell_type": "markdown",
   "metadata": {},
   "source": [
    "## Let's check all tripleset"
   ]
  },
  {
   "cell_type": "code",
   "execution_count": 57,
   "metadata": {},
   "outputs": [],
   "source": [
    "import networkx as nx\n",
    "\n",
    "def entries_is_connected_df(mdf):\n",
    "\n",
    "    is_connected = []\n",
    "\n",
    "    for idx, entry_group in mdf.groupby('idx'):\n",
    "\n",
    "        entry_group.reset_index(inplace=True)\n",
    "\n",
    "        d_g = nx.from_pandas_edgelist(entry_group, 'm_subject', 'm_object', 'm_predicate', create_using=nx.DiGraph())\n",
    "        u_g = nx.Graph(d_g)\n",
    "\n",
    "        is_connected.append([idx, nx.is_connected(u_g)])\n",
    "\n",
    "    is_connected_df = pd.DataFrame(is_connected, columns=['idx', 'is_connected'])\n",
    "    \n",
    "    return is_connected_df.is_connected.value_counts()"
   ]
  },
  {
   "cell_type": "markdown",
   "metadata": {},
   "source": [
    "### train_dev"
   ]
  },
  {
   "cell_type": "code",
   "execution_count": 58,
   "metadata": {},
   "outputs": [
    {
     "data": {
      "text/plain": [
       "True     7800\n",
       "False      12\n",
       "Name: is_connected, dtype: int64"
      ]
     },
     "execution_count": 58,
     "metadata": {},
     "output_type": "execute_result"
    }
   ],
   "source": [
    "entries_is_connected_df(train_dev.mdf)"
   ]
  },
  {
   "cell_type": "markdown",
   "metadata": {},
   "source": [
    "### test_unseen_with_lex"
   ]
  },
  {
   "cell_type": "code",
   "execution_count": 59,
   "metadata": {},
   "outputs": [
    {
     "data": {
      "text/plain": [
       "True     1858\n",
       "False       4\n",
       "Name: is_connected, dtype: int64"
      ]
     },
     "execution_count": 59,
     "metadata": {},
     "output_type": "execute_result"
    }
   ],
   "source": [
    "entries_is_connected_df(test_with_lex.mdf)"
   ]
  },
  {
   "cell_type": "markdown",
   "metadata": {},
   "source": [
    "# Is it possible to determine a 'root' entity?"
   ]
  },
  {
   "cell_type": "code",
   "execution_count": 60,
   "metadata": {},
   "outputs": [
    {
     "data": {
      "image/png": "[encoded data removed]",
      "text/plain": [
       "<Figure size 720x432 with 1 Axes>"
      ]
     },
     "metadata": {
      "needs_background": "light"
     },
     "output_type": "display_data"
    }
   ],
   "source": [
    "entry = train_dev.sample(idx='25_100')\n",
    "entry.draw_graph()"
   ]
  },
  {
   "cell_type": "code",
   "execution_count": 61,
   "metadata": {},
   "outputs": [
    {
     "data": {
      "text/plain": [
       "[('Bacon_sandwich', 3),\n",
       " ('BLT', 2),\n",
       " ('Club_sandwich', 1),\n",
       " ('Condiment', 1),\n",
       " ('United_Kingdom', 1)]"
      ]
     },
     "execution_count": 61,
     "metadata": {},
     "output_type": "execute_result"
    }
   ],
   "source": [
    "sorted(entry.graph.degree, key=lambda x: x[1], reverse=True)"
   ]
  },
  {
   "cell_type": "markdown",
   "metadata": {},
   "source": [
    "# Typos\n",
    "\n",
    "\"Afonso Pena International Airport ICAO Location **Idenitifier** is SBCT.\"\n",
    "\n",
    "rather than\n",
    "\n",
    "\"Afonso Pena International Airport ICAO Location **Identifier** is SBCT.\""
   ]
  },
  {
   "cell_type": "code",
   "execution_count": 62,
   "metadata": {},
   "outputs": [],
   "source": [
    "test_with_lex = WebNLGCorpus.load(dataset='test_with_lex')"
   ]
  },
  {
   "cell_type": "code",
   "execution_count": 63,
   "metadata": {},
   "outputs": [
    {
     "data": {
      "text/plain": [
       "Triple info: {'category': 'Airport', 'eid': 'Id4', 'idx': '0_3', 'ntriples': 1}\n",
       "\n",
       "\tModified triples:\n",
       "\n",
       "Afonso_Pena_International_Airport | ICAO_Location_Identifier | \"SBCT\"\n",
       "\n",
       "\n",
       "\tLexicalizations:\n",
       "\n",
       "Afonso Pena International Airport ICAO Location Idenitifier is SBCT.\n",
       "SBCT is the ICAO location identifier of Afonso Pena International Airport."
      ]
     },
     "execution_count": 63,
     "metadata": {},
     "output_type": "execute_result"
    }
   ],
   "source": [
    "e = test_with_lex.sample(idx='0_3')\n",
    "e"
   ]
  },
  {
   "cell_type": "code",
   "execution_count": 64,
   "metadata": {},
   "outputs": [],
   "source": [
    "from nltk.translate.bleu_score import sentence_bleu, SmoothingFunction\n",
    "\n",
    "s_multiwordexpressions = test_with_lex.mdf.m_subject.str.lower().str.replace('_', ' ').str.split().tolist()\n",
    "o_multiwordexpressions = test_with_lex.mdf.m_object.str.lower().str.replace('_', ' ').str.split().tolist()\n",
    "\n",
    "all_multiwordexpressions = s_multiwordexpressions + o_multiwordexpressions\n",
    "all_multiwordexpressions = list(set([tuple(s) for s in all_multiwordexpressions]))\n",
    "\n",
    "from nltk.tokenize.mwe import MWETokenizer\n",
    "\n",
    "t = MWETokenizer(all_multiwordexpressions)\n",
    "\n",
    "from textacy.preprocess import preprocess_text\n",
    "\n",
    "def preprocess(ref):\n",
    "    \n",
    "    ref = preprocess_text(ref, no_accents=True, lowercase=True, no_punct=True)\n",
    "    \n",
    "    return t.tokenize(ref.split())\n",
    "\n",
    "cc = SmoothingFunction()\n",
    "def bleu(e, text):\n",
    "    \n",
    "    references = [preprocess(ref) for ref in e.ldf.ltext.tolist()]\n",
    "\n",
    "    # TODO: same smoothing as Moses?\n",
    "    return sentence_bleu(references, preprocess(text), smoothing_function=cc.method3)"
   ]
  },
  {
   "cell_type": "code",
   "execution_count": 65,
   "metadata": {},
   "outputs": [
    {
     "data": {
      "text/plain": [
       "0.5081327481546147"
      ]
     },
     "execution_count": 65,
     "metadata": {},
     "output_type": "execute_result"
    }
   ],
   "source": [
    "bleu(e, 'Afonso Pena International Airport ICAO Location Identifier is SBCT.')"
   ]
  },
  {
   "cell_type": "code",
   "execution_count": 66,
   "metadata": {},
   "outputs": [
    {
     "data": {
      "text/plain": [
       "1.0"
      ]
     },
     "execution_count": 66,
     "metadata": {},
     "output_type": "execute_result"
    }
   ],
   "source": [
    "bleu(e, 'Afonso Pena International Airport ICAO Location Idenitifier is SBCT.')"
   ]
  }
 ],
 "metadata": {
  "kernelspec": {
   "display_name": "Python 3",
   "language": "python",
   "name": "python3"
  },
  "language_info": {
   "codemirror_mode": {
    "name": "ipython",
    "version": 3
   },
   "file_extension": ".py",
   "mimetype": "text/x-python",
   "name": "python",
   "nbconvert_exporter": "python",
   "pygments_lexer": "ipython3",
   "version": "3.6.7"
  }
 },
 "nbformat": 4,
 "nbformat_minor": 2
}
