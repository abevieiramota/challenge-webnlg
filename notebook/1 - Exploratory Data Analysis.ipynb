{
 "cells": [
  {
   "cell_type": "code",
   "execution_count": 4,
   "metadata": {},
   "outputs": [],
   "source": [
    "import pandas as pd\n",
    "from matplotlib import pyplot as plt\n",
    "%run ../script/webnlg.py\n",
    "%matplotlib inline\n",
    "\n",
    "pd.set_option('max_colwidth', 1000)"
   ]
  },
  {
   "cell_type": "markdown",
   "metadata": {},
   "source": [
    "# Dataset Stats"
   ]
  },
  {
   "cell_type": "code",
   "execution_count": 5,
   "metadata": {},
   "outputs": [
    {
     "data": {
      "text/html": [
       "<div>\n",
       "<style scoped>\n",
       "    .dataframe tbody tr th:only-of-type {\n",
       "        vertical-align: middle;\n",
       "    }\n",
       "\n",
       "    .dataframe tbody tr th {\n",
       "        vertical-align: top;\n",
       "    }\n",
       "\n",
       "    .dataframe thead th {\n",
       "        text-align: right;\n",
       "    }\n",
       "</style>\n",
       "<table border=\"1\" class=\"dataframe\">\n",
       "  <thead>\n",
       "    <tr style=\"text-align: right;\">\n",
       "      <th>ntriples</th>\n",
       "      <th>1</th>\n",
       "      <th>2</th>\n",
       "      <th>3</th>\n",
       "      <th>4</th>\n",
       "      <th>5</th>\n",
       "      <th>6</th>\n",
       "      <th>7</th>\n",
       "      <th>All</th>\n",
       "    </tr>\n",
       "    <tr>\n",
       "      <th>category</th>\n",
       "      <th></th>\n",
       "      <th></th>\n",
       "      <th></th>\n",
       "      <th></th>\n",
       "      <th></th>\n",
       "      <th></th>\n",
       "      <th></th>\n",
       "      <th></th>\n",
       "    </tr>\n",
       "  </thead>\n",
       "  <tbody>\n",
       "    <tr>\n",
       "      <th>Airport</th>\n",
       "      <td>301</td>\n",
       "      <td>193</td>\n",
       "      <td>187</td>\n",
       "      <td>207</td>\n",
       "      <td>202</td>\n",
       "      <td>0</td>\n",
       "      <td>0</td>\n",
       "      <td>1090</td>\n",
       "    </tr>\n",
       "    <tr>\n",
       "      <th>Astronaut</th>\n",
       "      <td>72</td>\n",
       "      <td>46</td>\n",
       "      <td>64</td>\n",
       "      <td>82</td>\n",
       "      <td>86</td>\n",
       "      <td>90</td>\n",
       "      <td>90</td>\n",
       "      <td>530</td>\n",
       "    </tr>\n",
       "    <tr>\n",
       "      <th>Building</th>\n",
       "      <td>236</td>\n",
       "      <td>171</td>\n",
       "      <td>203</td>\n",
       "      <td>206</td>\n",
       "      <td>156</td>\n",
       "      <td>0</td>\n",
       "      <td>0</td>\n",
       "      <td>972</td>\n",
       "    </tr>\n",
       "    <tr>\n",
       "      <th>City</th>\n",
       "      <td>243</td>\n",
       "      <td>0</td>\n",
       "      <td>0</td>\n",
       "      <td>0</td>\n",
       "      <td>0</td>\n",
       "      <td>0</td>\n",
       "      <td>0</td>\n",
       "      <td>243</td>\n",
       "    </tr>\n",
       "    <tr>\n",
       "      <th>ComicsCharacter</th>\n",
       "      <td>98</td>\n",
       "      <td>77</td>\n",
       "      <td>64</td>\n",
       "      <td>35</td>\n",
       "      <td>11</td>\n",
       "      <td>0</td>\n",
       "      <td>0</td>\n",
       "      <td>285</td>\n",
       "    </tr>\n",
       "    <tr>\n",
       "      <th>Food</th>\n",
       "      <td>272</td>\n",
       "      <td>278</td>\n",
       "      <td>314</td>\n",
       "      <td>323</td>\n",
       "      <td>237</td>\n",
       "      <td>0</td>\n",
       "      <td>0</td>\n",
       "      <td>1424</td>\n",
       "    </tr>\n",
       "    <tr>\n",
       "      <th>Monument</th>\n",
       "      <td>38</td>\n",
       "      <td>32</td>\n",
       "      <td>42</td>\n",
       "      <td>48</td>\n",
       "      <td>45</td>\n",
       "      <td>36</td>\n",
       "      <td>26</td>\n",
       "      <td>267</td>\n",
       "    </tr>\n",
       "    <tr>\n",
       "      <th>SportsTeam</th>\n",
       "      <td>251</td>\n",
       "      <td>170</td>\n",
       "      <td>170</td>\n",
       "      <td>150</td>\n",
       "      <td>45</td>\n",
       "      <td>0</td>\n",
       "      <td>0</td>\n",
       "      <td>786</td>\n",
       "    </tr>\n",
       "    <tr>\n",
       "      <th>University</th>\n",
       "      <td>58</td>\n",
       "      <td>39</td>\n",
       "      <td>58</td>\n",
       "      <td>73</td>\n",
       "      <td>62</td>\n",
       "      <td>62</td>\n",
       "      <td>54</td>\n",
       "      <td>406</td>\n",
       "    </tr>\n",
       "    <tr>\n",
       "      <th>WrittenWork</th>\n",
       "      <td>219</td>\n",
       "      <td>202</td>\n",
       "      <td>248</td>\n",
       "      <td>170</td>\n",
       "      <td>98</td>\n",
       "      <td>0</td>\n",
       "      <td>0</td>\n",
       "      <td>937</td>\n",
       "    </tr>\n",
       "    <tr>\n",
       "      <th>All</th>\n",
       "      <td>1788</td>\n",
       "      <td>1208</td>\n",
       "      <td>1350</td>\n",
       "      <td>1294</td>\n",
       "      <td>942</td>\n",
       "      <td>188</td>\n",
       "      <td>170</td>\n",
       "      <td>6940</td>\n",
       "    </tr>\n",
       "  </tbody>\n",
       "</table>\n",
       "</div>"
      ],
      "text/plain": [
       "ntriples            1     2     3     4    5    6    7   All\n",
       "category                                                    \n",
       "Airport           301   193   187   207  202    0    0  1090\n",
       "Astronaut          72    46    64    82   86   90   90   530\n",
       "Building          236   171   203   206  156    0    0   972\n",
       "City              243     0     0     0    0    0    0   243\n",
       "ComicsCharacter    98    77    64    35   11    0    0   285\n",
       "Food              272   278   314   323  237    0    0  1424\n",
       "Monument           38    32    42    48   45   36   26   267\n",
       "SportsTeam        251   170   170   150   45    0    0   786\n",
       "University         58    39    58    73   62   62   54   406\n",
       "WrittenWork       219   202   248   170   98    0    0   937\n",
       "All              1788  1208  1350  1294  942  188  170  6940"
      ]
     },
     "execution_count": 5,
     "metadata": {},
     "output_type": "execute_result"
    }
   ],
   "source": [
    "corpus = WebNLGCorpus()\n",
    "\n",
    "corpus.datasets_size()"
   ]
  },
  {
   "cell_type": "code",
   "execution_count": 45,
   "metadata": {},
   "outputs": [
    {
     "data": {
      "text/html": [
       "<div>\n",
       "<style scoped>\n",
       "    .dataframe tbody tr th:only-of-type {\n",
       "        vertical-align: middle;\n",
       "    }\n",
       "\n",
       "    .dataframe tbody tr th {\n",
       "        vertical-align: top;\n",
       "    }\n",
       "\n",
       "    .dataframe thead th {\n",
       "        text-align: right;\n",
       "    }\n",
       "</style>\n",
       "<table border=\"1\" class=\"dataframe\">\n",
       "  <thead>\n",
       "    <tr style=\"text-align: right;\">\n",
       "      <th>ntriples</th>\n",
       "      <th>1</th>\n",
       "      <th>2</th>\n",
       "      <th>3</th>\n",
       "      <th>4</th>\n",
       "      <th>5</th>\n",
       "      <th>6</th>\n",
       "      <th>7</th>\n",
       "      <th>All</th>\n",
       "    </tr>\n",
       "    <tr>\n",
       "      <th>category</th>\n",
       "      <th></th>\n",
       "      <th></th>\n",
       "      <th></th>\n",
       "      <th></th>\n",
       "      <th></th>\n",
       "      <th></th>\n",
       "      <th></th>\n",
       "      <th></th>\n",
       "    </tr>\n",
       "  </thead>\n",
       "  <tbody>\n",
       "    <tr>\n",
       "      <th>Airport</th>\n",
       "      <td>0.043372</td>\n",
       "      <td>0.027810</td>\n",
       "      <td>0.026945</td>\n",
       "      <td>0.029827</td>\n",
       "      <td>0.029107</td>\n",
       "      <td>0.000000</td>\n",
       "      <td>0.000000</td>\n",
       "      <td>0.157061</td>\n",
       "    </tr>\n",
       "    <tr>\n",
       "      <th>Astronaut</th>\n",
       "      <td>0.010375</td>\n",
       "      <td>0.006628</td>\n",
       "      <td>0.009222</td>\n",
       "      <td>0.011816</td>\n",
       "      <td>0.012392</td>\n",
       "      <td>0.012968</td>\n",
       "      <td>0.012968</td>\n",
       "      <td>0.076369</td>\n",
       "    </tr>\n",
       "    <tr>\n",
       "      <th>Building</th>\n",
       "      <td>0.034006</td>\n",
       "      <td>0.024640</td>\n",
       "      <td>0.029251</td>\n",
       "      <td>0.029683</td>\n",
       "      <td>0.022478</td>\n",
       "      <td>0.000000</td>\n",
       "      <td>0.000000</td>\n",
       "      <td>0.140058</td>\n",
       "    </tr>\n",
       "    <tr>\n",
       "      <th>City</th>\n",
       "      <td>0.035014</td>\n",
       "      <td>0.000000</td>\n",
       "      <td>0.000000</td>\n",
       "      <td>0.000000</td>\n",
       "      <td>0.000000</td>\n",
       "      <td>0.000000</td>\n",
       "      <td>0.000000</td>\n",
       "      <td>0.035014</td>\n",
       "    </tr>\n",
       "    <tr>\n",
       "      <th>ComicsCharacter</th>\n",
       "      <td>0.014121</td>\n",
       "      <td>0.011095</td>\n",
       "      <td>0.009222</td>\n",
       "      <td>0.005043</td>\n",
       "      <td>0.001585</td>\n",
       "      <td>0.000000</td>\n",
       "      <td>0.000000</td>\n",
       "      <td>0.041066</td>\n",
       "    </tr>\n",
       "    <tr>\n",
       "      <th>Food</th>\n",
       "      <td>0.039193</td>\n",
       "      <td>0.040058</td>\n",
       "      <td>0.045245</td>\n",
       "      <td>0.046542</td>\n",
       "      <td>0.034150</td>\n",
       "      <td>0.000000</td>\n",
       "      <td>0.000000</td>\n",
       "      <td>0.205187</td>\n",
       "    </tr>\n",
       "    <tr>\n",
       "      <th>Monument</th>\n",
       "      <td>0.005476</td>\n",
       "      <td>0.004611</td>\n",
       "      <td>0.006052</td>\n",
       "      <td>0.006916</td>\n",
       "      <td>0.006484</td>\n",
       "      <td>0.005187</td>\n",
       "      <td>0.003746</td>\n",
       "      <td>0.038473</td>\n",
       "    </tr>\n",
       "    <tr>\n",
       "      <th>SportsTeam</th>\n",
       "      <td>0.036167</td>\n",
       "      <td>0.024496</td>\n",
       "      <td>0.024496</td>\n",
       "      <td>0.021614</td>\n",
       "      <td>0.006484</td>\n",
       "      <td>0.000000</td>\n",
       "      <td>0.000000</td>\n",
       "      <td>0.113256</td>\n",
       "    </tr>\n",
       "    <tr>\n",
       "      <th>University</th>\n",
       "      <td>0.008357</td>\n",
       "      <td>0.005620</td>\n",
       "      <td>0.008357</td>\n",
       "      <td>0.010519</td>\n",
       "      <td>0.008934</td>\n",
       "      <td>0.008934</td>\n",
       "      <td>0.007781</td>\n",
       "      <td>0.058501</td>\n",
       "    </tr>\n",
       "    <tr>\n",
       "      <th>WrittenWork</th>\n",
       "      <td>0.031556</td>\n",
       "      <td>0.029107</td>\n",
       "      <td>0.035735</td>\n",
       "      <td>0.024496</td>\n",
       "      <td>0.014121</td>\n",
       "      <td>0.000000</td>\n",
       "      <td>0.000000</td>\n",
       "      <td>0.135014</td>\n",
       "    </tr>\n",
       "    <tr>\n",
       "      <th>All</th>\n",
       "      <td>0.257637</td>\n",
       "      <td>0.174063</td>\n",
       "      <td>0.194524</td>\n",
       "      <td>0.186455</td>\n",
       "      <td>0.135735</td>\n",
       "      <td>0.027089</td>\n",
       "      <td>0.024496</td>\n",
       "      <td>1.000000</td>\n",
       "    </tr>\n",
       "  </tbody>\n",
       "</table>\n",
       "</div>"
      ],
      "text/plain": [
       "ntriples                1         2         3         4         5         6  \\\n",
       "category                                                                      \n",
       "Airport          0.043372  0.027810  0.026945  0.029827  0.029107  0.000000   \n",
       "Astronaut        0.010375  0.006628  0.009222  0.011816  0.012392  0.012968   \n",
       "Building         0.034006  0.024640  0.029251  0.029683  0.022478  0.000000   \n",
       "City             0.035014  0.000000  0.000000  0.000000  0.000000  0.000000   \n",
       "ComicsCharacter  0.014121  0.011095  0.009222  0.005043  0.001585  0.000000   \n",
       "Food             0.039193  0.040058  0.045245  0.046542  0.034150  0.000000   \n",
       "Monument         0.005476  0.004611  0.006052  0.006916  0.006484  0.005187   \n",
       "SportsTeam       0.036167  0.024496  0.024496  0.021614  0.006484  0.000000   \n",
       "University       0.008357  0.005620  0.008357  0.010519  0.008934  0.008934   \n",
       "WrittenWork      0.031556  0.029107  0.035735  0.024496  0.014121  0.000000   \n",
       "All              0.257637  0.174063  0.194524  0.186455  0.135735  0.027089   \n",
       "\n",
       "ntriples                7       All  \n",
       "category                             \n",
       "Airport          0.000000  0.157061  \n",
       "Astronaut        0.012968  0.076369  \n",
       "Building         0.000000  0.140058  \n",
       "City             0.000000  0.035014  \n",
       "ComicsCharacter  0.000000  0.041066  \n",
       "Food             0.000000  0.205187  \n",
       "Monument         0.003746  0.038473  \n",
       "SportsTeam       0.000000  0.113256  \n",
       "University       0.007781  0.058501  \n",
       "WrittenWork      0.000000  0.135014  \n",
       "All              0.024496  1.000000  "
      ]
     },
     "execution_count": 45,
     "metadata": {},
     "output_type": "execute_result"
    }
   ],
   "source": [
    "corpus.datasets_size(normalize=True)"
   ]
  },
  {
   "cell_type": "markdown",
   "metadata": {},
   "source": [
    "# Have a look at a sample"
   ]
  },
  {
   "cell_type": "code",
   "execution_count": 155,
   "metadata": {},
   "outputs": [
    {
     "data": {
      "text/html": [
       "<table border=\"1\" class=\"dataframe\">\n",
       "  <thead>\n",
       "    <tr style=\"text-align: right;\">\n",
       "      <th></th>\n",
       "      <th>m_subject</th>\n",
       "      <th>m_predicate</th>\n",
       "      <th>m_object</th>\n",
       "    </tr>\n",
       "  </thead>\n",
       "  <tbody>\n",
       "    <tr>\n",
       "      <th>0</th>\n",
       "      <td>Arion_(comicsCharacter)</td>\n",
       "      <td>creator</td>\n",
       "      <td>Jan_Duursema</td>\n",
       "    </tr>\n",
       "  </tbody>\n",
       "</table>"
      ],
      "text/plain": [
       "<IPython.core.display.HTML object>"
      ]
     },
     "metadata": {},
     "output_type": "display_data"
    },
    {
     "data": {
      "text/html": [
       "<table border=\"1\" class=\"dataframe\">\n",
       "  <thead>\n",
       "    <tr style=\"text-align: right;\">\n",
       "      <th></th>\n",
       "      <th>ltext</th>\n",
       "    </tr>\n",
       "  </thead>\n",
       "  <tbody>\n",
       "    <tr>\n",
       "      <th>0</th>\n",
       "      <td>The comic character, Arion, was created by Jan Duursema.</td>\n",
       "    </tr>\n",
       "    <tr>\n",
       "      <th>1</th>\n",
       "      <td>The comic book character Arion was created by Jan Duursema.</td>\n",
       "    </tr>\n",
       "  </tbody>\n",
       "</table>"
      ],
      "text/plain": [
       "<IPython.core.display.HTML object>"
      ]
     },
     "metadata": {},
     "output_type": "display_data"
    }
   ],
   "source": [
    "corpus.sample('ComicsCharacter', 1).display()"
   ]
  },
  {
   "cell_type": "code",
   "execution_count": 156,
   "metadata": {},
   "outputs": [
    {
     "data": {
      "text/html": [
       "<table border=\"1\" class=\"dataframe\">\n",
       "  <thead>\n",
       "    <tr style=\"text-align: right;\">\n",
       "      <th></th>\n",
       "      <th>m_subject</th>\n",
       "      <th>m_predicate</th>\n",
       "      <th>m_object</th>\n",
       "    </tr>\n",
       "  </thead>\n",
       "  <tbody>\n",
       "    <tr>\n",
       "      <th>0</th>\n",
       "      <td>Amazing-Man_(comicsCharacter)</td>\n",
       "      <td>alternativeName</td>\n",
       "      <td>\"John Aman\"</td>\n",
       "    </tr>\n",
       "  </tbody>\n",
       "</table>"
      ],
      "text/plain": [
       "<IPython.core.display.HTML object>"
      ]
     },
     "metadata": {},
     "output_type": "display_data"
    },
    {
     "data": {
      "text/html": [
       "<table border=\"1\" class=\"dataframe\">\n",
       "  <thead>\n",
       "    <tr style=\"text-align: right;\">\n",
       "      <th></th>\n",
       "      <th>ltext</th>\n",
       "    </tr>\n",
       "  </thead>\n",
       "  <tbody>\n",
       "    <tr>\n",
       "      <th>0</th>\n",
       "      <td>John Aman, is the alternative name for the comic character, Amazing-Man.</td>\n",
       "    </tr>\n",
       "    <tr>\n",
       "      <th>1</th>\n",
       "      <td>The comic book character Amazing-Man's alter ego is John Aman.</td>\n",
       "    </tr>\n",
       "    <tr>\n",
       "      <th>2</th>\n",
       "      <td>John Aman is also known as Amazing-Man in the comics genre.</td>\n",
       "    </tr>\n",
       "  </tbody>\n",
       "</table>"
      ],
      "text/plain": [
       "<IPython.core.display.HTML object>"
      ]
     },
     "metadata": {},
     "output_type": "display_data"
    }
   ],
   "source": [
    "corpus.sample('ComicsCharacter', 1).display()"
   ]
  },
  {
   "cell_type": "markdown",
   "metadata": {},
   "source": [
    "# Is there any duplicates?"
   ]
  },
  {
   "cell_type": "markdown",
   "metadata": {},
   "source": [
    "## Is there any modified triple duplicated intra entry?\n",
    "\n",
    "No"
   ]
  },
  {
   "cell_type": "code",
   "execution_count": 162,
   "metadata": {},
   "outputs": [
    {
     "data": {
      "text/plain": [
       "0"
      ]
     },
     "execution_count": 162,
     "metadata": {},
     "output_type": "execute_result"
    }
   ],
   "source": [
    "mtriple_count_per_entry = corpus.mdf.groupby(['category', 'ntriples', 'eid', 'mtext']).size()\n",
    "(mtriple_count_per_entry > 1).sum()"
   ]
  },
  {
   "cell_type": "markdown",
   "metadata": {},
   "source": [
    "## Is there any modified triple duplicated inter entry?"
   ]
  },
  {
   "cell_type": "code",
   "execution_count": 196,
   "metadata": {},
   "outputs": [
    {
     "data": {
      "text/html": [
       "<div>\n",
       "<style scoped>\n",
       "    .dataframe tbody tr th:only-of-type {\n",
       "        vertical-align: middle;\n",
       "    }\n",
       "\n",
       "    .dataframe tbody tr th {\n",
       "        vertical-align: top;\n",
       "    }\n",
       "\n",
       "    .dataframe thead th {\n",
       "        text-align: right;\n",
       "    }\n",
       "</style>\n",
       "<table border=\"1\" class=\"dataframe\">\n",
       "  <thead>\n",
       "    <tr style=\"text-align: right;\">\n",
       "      <th></th>\n",
       "      <th>ntriples</th>\n",
       "      <th>1</th>\n",
       "      <th>2</th>\n",
       "      <th>3</th>\n",
       "      <th>4</th>\n",
       "      <th>5</th>\n",
       "      <th>6</th>\n",
       "      <th>7</th>\n",
       "    </tr>\n",
       "    <tr>\n",
       "      <th>mtext</th>\n",
       "      <th>category</th>\n",
       "      <th></th>\n",
       "      <th></th>\n",
       "      <th></th>\n",
       "      <th></th>\n",
       "      <th></th>\n",
       "      <th></th>\n",
       "      <th></th>\n",
       "    </tr>\n",
       "  </thead>\n",
       "  <tbody>\n",
       "    <tr>\n",
       "      <th>Acharya_Institute_of_Technology | affiliation | Visvesvaraya_Technological_University</th>\n",
       "      <th>University</th>\n",
       "      <td>1</td>\n",
       "      <td>3</td>\n",
       "      <td>8</td>\n",
       "      <td>15</td>\n",
       "      <td>15</td>\n",
       "      <td>21</td>\n",
       "      <td>17</td>\n",
       "    </tr>\n",
       "    <tr>\n",
       "      <th>English_language | spokenIn | Great_Britain</th>\n",
       "      <th>WrittenWork</th>\n",
       "      <td>1</td>\n",
       "      <td>6</td>\n",
       "      <td>8</td>\n",
       "      <td>39</td>\n",
       "      <td>57</td>\n",
       "      <td>0</td>\n",
       "      <td>0</td>\n",
       "    </tr>\n",
       "    <tr>\n",
       "      <th rowspan=\"4\" valign=\"top\">United_States | capital | Washington,_D.C.</th>\n",
       "      <th>Building</th>\n",
       "      <td>1</td>\n",
       "      <td>0</td>\n",
       "      <td>2</td>\n",
       "      <td>3</td>\n",
       "      <td>5</td>\n",
       "      <td>0</td>\n",
       "      <td>0</td>\n",
       "    </tr>\n",
       "    <tr>\n",
       "      <th>City</th>\n",
       "      <td>1</td>\n",
       "      <td>0</td>\n",
       "      <td>0</td>\n",
       "      <td>0</td>\n",
       "      <td>0</td>\n",
       "      <td>0</td>\n",
       "      <td>0</td>\n",
       "    </tr>\n",
       "    <tr>\n",
       "      <th>Food</th>\n",
       "      <td>1</td>\n",
       "      <td>1</td>\n",
       "      <td>5</td>\n",
       "      <td>10</td>\n",
       "      <td>16</td>\n",
       "      <td>0</td>\n",
       "      <td>0</td>\n",
       "    </tr>\n",
       "    <tr>\n",
       "      <th>WrittenWork</th>\n",
       "      <td>1</td>\n",
       "      <td>3</td>\n",
       "      <td>10</td>\n",
       "      <td>13</td>\n",
       "      <td>26</td>\n",
       "      <td>0</td>\n",
       "      <td>0</td>\n",
       "    </tr>\n",
       "    <tr>\n",
       "      <th rowspan=\"4\" valign=\"top\">United_States | language | English_language</th>\n",
       "      <th>Building</th>\n",
       "      <td>1</td>\n",
       "      <td>1</td>\n",
       "      <td>2</td>\n",
       "      <td>3</td>\n",
       "      <td>8</td>\n",
       "      <td>0</td>\n",
       "      <td>0</td>\n",
       "    </tr>\n",
       "    <tr>\n",
       "      <th>City</th>\n",
       "      <td>1</td>\n",
       "      <td>0</td>\n",
       "      <td>0</td>\n",
       "      <td>0</td>\n",
       "      <td>0</td>\n",
       "      <td>0</td>\n",
       "      <td>0</td>\n",
       "    </tr>\n",
       "    <tr>\n",
       "      <th>Food</th>\n",
       "      <td>1</td>\n",
       "      <td>1</td>\n",
       "      <td>0</td>\n",
       "      <td>0</td>\n",
       "      <td>7</td>\n",
       "      <td>0</td>\n",
       "      <td>0</td>\n",
       "    </tr>\n",
       "    <tr>\n",
       "      <th>WrittenWork</th>\n",
       "      <td>0</td>\n",
       "      <td>4</td>\n",
       "      <td>16</td>\n",
       "      <td>21</td>\n",
       "      <td>22</td>\n",
       "      <td>0</td>\n",
       "      <td>0</td>\n",
       "    </tr>\n",
       "    <tr>\n",
       "      <th rowspan=\"3\" valign=\"top\">United_States | leaderName | Barack_Obama</th>\n",
       "      <th>Building</th>\n",
       "      <td>1</td>\n",
       "      <td>0</td>\n",
       "      <td>1</td>\n",
       "      <td>4</td>\n",
       "      <td>4</td>\n",
       "      <td>0</td>\n",
       "      <td>0</td>\n",
       "    </tr>\n",
       "    <tr>\n",
       "      <th>Food</th>\n",
       "      <td>1</td>\n",
       "      <td>1</td>\n",
       "      <td>3</td>\n",
       "      <td>3</td>\n",
       "      <td>7</td>\n",
       "      <td>0</td>\n",
       "      <td>0</td>\n",
       "    </tr>\n",
       "    <tr>\n",
       "      <th>WrittenWork</th>\n",
       "      <td>1</td>\n",
       "      <td>5</td>\n",
       "      <td>13</td>\n",
       "      <td>16</td>\n",
       "      <td>28</td>\n",
       "      <td>0</td>\n",
       "      <td>0</td>\n",
       "    </tr>\n",
       "  </tbody>\n",
       "</table>\n",
       "</div>"
      ],
      "text/plain": [
       "ntriples                                                                                           1  \\\n",
       "mtext                                                                                 category         \n",
       "Acharya_Institute_of_Technology | affiliation | Visvesvaraya_Technological_University University   1   \n",
       "English_language | spokenIn | Great_Britain                                           WrittenWork  1   \n",
       "United_States | capital | Washington,_D.C.                                            Building     1   \n",
       "                                                                                      City         1   \n",
       "                                                                                      Food         1   \n",
       "                                                                                      WrittenWork  1   \n",
       "United_States | language | English_language                                           Building     1   \n",
       "                                                                                      City         1   \n",
       "                                                                                      Food         1   \n",
       "                                                                                      WrittenWork  0   \n",
       "United_States | leaderName | Barack_Obama                                             Building     1   \n",
       "                                                                                      Food         1   \n",
       "                                                                                      WrittenWork  1   \n",
       "\n",
       "ntriples                                                                                           2  \\\n",
       "mtext                                                                                 category         \n",
       "Acharya_Institute_of_Technology | affiliation | Visvesvaraya_Technological_University University   3   \n",
       "English_language | spokenIn | Great_Britain                                           WrittenWork  6   \n",
       "United_States | capital | Washington,_D.C.                                            Building     0   \n",
       "                                                                                      City         0   \n",
       "                                                                                      Food         1   \n",
       "                                                                                      WrittenWork  3   \n",
       "United_States | language | English_language                                           Building     1   \n",
       "                                                                                      City         0   \n",
       "                                                                                      Food         1   \n",
       "                                                                                      WrittenWork  4   \n",
       "United_States | leaderName | Barack_Obama                                             Building     0   \n",
       "                                                                                      Food         1   \n",
       "                                                                                      WrittenWork  5   \n",
       "\n",
       "ntriples                                                                                            3  \\\n",
       "mtext                                                                                 category          \n",
       "Acharya_Institute_of_Technology | affiliation | Visvesvaraya_Technological_University University    8   \n",
       "English_language | spokenIn | Great_Britain                                           WrittenWork   8   \n",
       "United_States | capital | Washington,_D.C.                                            Building      2   \n",
       "                                                                                      City          0   \n",
       "                                                                                      Food          5   \n",
       "                                                                                      WrittenWork  10   \n",
       "United_States | language | English_language                                           Building      2   \n",
       "                                                                                      City          0   \n",
       "                                                                                      Food          0   \n",
       "                                                                                      WrittenWork  16   \n",
       "United_States | leaderName | Barack_Obama                                             Building      1   \n",
       "                                                                                      Food          3   \n",
       "                                                                                      WrittenWork  13   \n",
       "\n",
       "ntriples                                                                                            4  \\\n",
       "mtext                                                                                 category          \n",
       "Acharya_Institute_of_Technology | affiliation | Visvesvaraya_Technological_University University   15   \n",
       "English_language | spokenIn | Great_Britain                                           WrittenWork  39   \n",
       "United_States | capital | Washington,_D.C.                                            Building      3   \n",
       "                                                                                      City          0   \n",
       "                                                                                      Food         10   \n",
       "                                                                                      WrittenWork  13   \n",
       "United_States | language | English_language                                           Building      3   \n",
       "                                                                                      City          0   \n",
       "                                                                                      Food          0   \n",
       "                                                                                      WrittenWork  21   \n",
       "United_States | leaderName | Barack_Obama                                             Building      4   \n",
       "                                                                                      Food          3   \n",
       "                                                                                      WrittenWork  16   \n",
       "\n",
       "ntriples                                                                                            5  \\\n",
       "mtext                                                                                 category          \n",
       "Acharya_Institute_of_Technology | affiliation | Visvesvaraya_Technological_University University   15   \n",
       "English_language | spokenIn | Great_Britain                                           WrittenWork  57   \n",
       "United_States | capital | Washington,_D.C.                                            Building      5   \n",
       "                                                                                      City          0   \n",
       "                                                                                      Food         16   \n",
       "                                                                                      WrittenWork  26   \n",
       "United_States | language | English_language                                           Building      8   \n",
       "                                                                                      City          0   \n",
       "                                                                                      Food          7   \n",
       "                                                                                      WrittenWork  22   \n",
       "United_States | leaderName | Barack_Obama                                             Building      4   \n",
       "                                                                                      Food          7   \n",
       "                                                                                      WrittenWork  28   \n",
       "\n",
       "ntriples                                                                                            6  \\\n",
       "mtext                                                                                 category          \n",
       "Acharya_Institute_of_Technology | affiliation | Visvesvaraya_Technological_University University   21   \n",
       "English_language | spokenIn | Great_Britain                                           WrittenWork   0   \n",
       "United_States | capital | Washington,_D.C.                                            Building      0   \n",
       "                                                                                      City          0   \n",
       "                                                                                      Food          0   \n",
       "                                                                                      WrittenWork   0   \n",
       "United_States | language | English_language                                           Building      0   \n",
       "                                                                                      City          0   \n",
       "                                                                                      Food          0   \n",
       "                                                                                      WrittenWork   0   \n",
       "United_States | leaderName | Barack_Obama                                             Building      0   \n",
       "                                                                                      Food          0   \n",
       "                                                                                      WrittenWork   0   \n",
       "\n",
       "ntriples                                                                                            7  \n",
       "mtext                                                                                 category         \n",
       "Acharya_Institute_of_Technology | affiliation | Visvesvaraya_Technological_University University   17  \n",
       "English_language | spokenIn | Great_Britain                                           WrittenWork   0  \n",
       "United_States | capital | Washington,_D.C.                                            Building      0  \n",
       "                                                                                      City          0  \n",
       "                                                                                      Food          0  \n",
       "                                                                                      WrittenWork   0  \n",
       "United_States | language | English_language                                           Building      0  \n",
       "                                                                                      City          0  \n",
       "                                                                                      Food          0  \n",
       "                                                                                      WrittenWork   0  \n",
       "United_States | leaderName | Barack_Obama                                             Building      0  \n",
       "                                                                                      Food          0  \n",
       "                                                                                      WrittenWork   0  "
      ]
     },
     "execution_count": 196,
     "metadata": {},
     "output_type": "execute_result"
    }
   ],
   "source": [
    "mtriples_count = corpus.mdf.groupby(['mtext', 'category', 'ntriples']).size()\n",
    "\n",
    "top_5 = mtriples_count.sum(level=[0]).nlargest(5)\n",
    "\n",
    "mtriples_count.loc[(top_5.index, slice(None), slice(None))].unstack(level=2, fill_value=0).sort_index(level=0)"
   ]
  },
  {
   "cell_type": "markdown",
   "metadata": {},
   "source": [
    "## Are entries with shared triples lexicalized the same way?\n",
    "\n",
    "There are some patterns..."
   ]
  },
  {
   "cell_type": "code",
   "execution_count": 218,
   "metadata": {},
   "outputs": [
    {
     "data": {
      "text/html": [
       "<table border=\"1\" class=\"dataframe\">\n",
       "  <thead>\n",
       "    <tr style=\"text-align: right;\">\n",
       "      <th></th>\n",
       "      <th>m_subject</th>\n",
       "      <th>m_predicate</th>\n",
       "      <th>m_object</th>\n",
       "    </tr>\n",
       "  </thead>\n",
       "  <tbody>\n",
       "    <tr>\n",
       "      <th>0</th>\n",
       "      <td>Acharya_Institute_of_Technology</td>\n",
       "      <td>affiliation</td>\n",
       "      <td>Visvesvaraya_Technological_University</td>\n",
       "    </tr>\n",
       "    <tr>\n",
       "      <th>1</th>\n",
       "      <td>Acharya_Institute_of_Technology</td>\n",
       "      <td>president</td>\n",
       "      <td>\"B.M. Reddy\"</td>\n",
       "    </tr>\n",
       "    <tr>\n",
       "      <th>2</th>\n",
       "      <td>Acharya_Institute_of_Technology</td>\n",
       "      <td>city</td>\n",
       "      <td>Bangalore</td>\n",
       "    </tr>\n",
       "    <tr>\n",
       "      <th>3</th>\n",
       "      <td>Acharya_Institute_of_Technology</td>\n",
       "      <td>established</td>\n",
       "      <td>2000</td>\n",
       "    </tr>\n",
       "    <tr>\n",
       "      <th>4</th>\n",
       "      <td>Acharya_Institute_of_Technology</td>\n",
       "      <td>country</td>\n",
       "      <td>\"India\"</td>\n",
       "    </tr>\n",
       "    <tr>\n",
       "      <th>5</th>\n",
       "      <td>Acharya_Institute_of_Technology</td>\n",
       "      <td>state</td>\n",
       "      <td>Karnataka</td>\n",
       "    </tr>\n",
       "  </tbody>\n",
       "</table>"
      ],
      "text/plain": [
       "<IPython.core.display.HTML object>"
      ]
     },
     "metadata": {},
     "output_type": "display_data"
    },
    {
     "data": {
      "text/html": [
       "<table border=\"1\" class=\"dataframe\">\n",
       "  <thead>\n",
       "    <tr style=\"text-align: right;\">\n",
       "      <th></th>\n",
       "      <th>ltext</th>\n",
       "    </tr>\n",
       "  </thead>\n",
       "  <tbody>\n",
       "    <tr>\n",
       "      <th>0</th>\n",
       "      <td>The Acharya Institute of Technology in Bangalore, Karnataka, India was established in 2000. Its president is B.M. Reddy and it is affiliated with the Visvesvaraya Technological University.</td>\n",
       "    </tr>\n",
       "    <tr>\n",
       "      <th>1</th>\n",
       "      <td>The city of Bangalore in the state of Karnataka in India is the location of the Acharya Institute of Technology. The President of the Institute which was established in 2000 and is affiliated with Visvesvaraya Technological University is B M Reddy .</td>\n",
       "    </tr>\n",
       "    <tr>\n",
       "      <th>2</th>\n",
       "      <td>Established in 2000, the Acharya Institute of Technology is in Bangalore, Karnataka India. The institute's president is B.M. Reddy and it is affiliated with the Visvesvaraya Technological University.</td>\n",
       "    </tr>\n",
       "  </tbody>\n",
       "</table>"
      ],
      "text/plain": [
       "<IPython.core.display.HTML object>"
      ]
     },
     "metadata": {},
     "output_type": "display_data"
    }
   ],
   "source": [
    "corpus.sample_w_mtext(mtext='Acharya_Institute_of_Technology | affiliation | Visvesvaraya_Technological_University').display()"
   ]
  },
  {
   "cell_type": "code",
   "execution_count": 219,
   "metadata": {},
   "outputs": [
    {
     "data": {
      "text/html": [
       "<table border=\"1\" class=\"dataframe\">\n",
       "  <thead>\n",
       "    <tr style=\"text-align: right;\">\n",
       "      <th></th>\n",
       "      <th>m_subject</th>\n",
       "      <th>m_predicate</th>\n",
       "      <th>m_object</th>\n",
       "    </tr>\n",
       "  </thead>\n",
       "  <tbody>\n",
       "    <tr>\n",
       "      <th>0</th>\n",
       "      <td>Acharya_Institute_of_Technology</td>\n",
       "      <td>affiliation</td>\n",
       "      <td>Visvesvaraya_Technological_University</td>\n",
       "    </tr>\n",
       "    <tr>\n",
       "      <th>1</th>\n",
       "      <td>Acharya_Institute_of_Technology</td>\n",
       "      <td>was given the 'Technical Campus' status by</td>\n",
       "      <td>All_India_Council_for_Technical_Education</td>\n",
       "    </tr>\n",
       "    <tr>\n",
       "      <th>2</th>\n",
       "      <td>All_India_Council_for_Technical_Education</td>\n",
       "      <td>location</td>\n",
       "      <td>Mumbai</td>\n",
       "    </tr>\n",
       "    <tr>\n",
       "      <th>3</th>\n",
       "      <td>Karnataka</td>\n",
       "      <td>has to its northeast</td>\n",
       "      <td>Telangana</td>\n",
       "    </tr>\n",
       "    <tr>\n",
       "      <th>4</th>\n",
       "      <td>Acharya_Institute_of_Technology</td>\n",
       "      <td>city</td>\n",
       "      <td>Bangalore</td>\n",
       "    </tr>\n",
       "    <tr>\n",
       "      <th>5</th>\n",
       "      <td>Acharya_Institute_of_Technology</td>\n",
       "      <td>state</td>\n",
       "      <td>Karnataka</td>\n",
       "    </tr>\n",
       "  </tbody>\n",
       "</table>"
      ],
      "text/plain": [
       "<IPython.core.display.HTML object>"
      ]
     },
     "metadata": {},
     "output_type": "display_data"
    },
    {
     "data": {
      "text/html": [
       "<table border=\"1\" class=\"dataframe\">\n",
       "  <thead>\n",
       "    <tr style=\"text-align: right;\">\n",
       "      <th></th>\n",
       "      <th>ltext</th>\n",
       "    </tr>\n",
       "  </thead>\n",
       "  <tbody>\n",
       "    <tr>\n",
       "      <th>0</th>\n",
       "      <td>The Acharya Institute of Technology in Bangalore, Karnataka is affiliated to the Visvesvaraya Technological University. It was given the \"Technical Campus\" status by the All India Council for Technical Education (located in Mumbai). Karnataka has Telangana to its northeast.</td>\n",
       "    </tr>\n",
       "    <tr>\n",
       "      <th>1</th>\n",
       "      <td>The city of Bangalore in the state of Karnataka, India which lies southwest of Telangana is the location of the Acharya Institute of Technology ffiliated to the Visvesvaraya Technological University. The Institute was given Technical Campus status by the All India Council for Technical Education based in Mumbai.</td>\n",
       "    </tr>\n",
       "    <tr>\n",
       "      <th>2</th>\n",
       "      <td>The Acharya Institute of Technolgoy is located in the state of Karnataka which is positioned with Telangana to the northeast. The Institute is in the city of Bangalore and has strong connections with the Visvesvaraya Technological University. Along with these connections the Institute was also given the 'Technical Campus' status by the All India Council for Technical Education which is based in Mumbai.</td>\n",
       "    </tr>\n",
       "  </tbody>\n",
       "</table>"
      ],
      "text/plain": [
       "<IPython.core.display.HTML object>"
      ]
     },
     "metadata": {},
     "output_type": "display_data"
    }
   ],
   "source": [
    "corpus.sample_w_mtext(mtext='Acharya_Institute_of_Technology | affiliation | Visvesvaraya_Technological_University').display()"
   ]
  },
  {
   "cell_type": "markdown",
   "metadata": {},
   "source": [
    "# Modified triple analysis"
   ]
  },
  {
   "cell_type": "code",
   "execution_count": 229,
   "metadata": {},
   "outputs": [
    {
     "name": "stdout",
     "output_type": "stream",
     "text": [
      "There are 20458 triples\n"
     ]
    }
   ],
   "source": [
    "print(\"There are {} triples\".format(corpus.mdf.shape[0]))"
   ]
  },
  {
   "cell_type": "markdown",
   "metadata": {},
   "source": [
    "## Number of distinct subjects, predicates, objects"
   ]
  },
  {
   "cell_type": "code",
   "execution_count": 247,
   "metadata": {},
   "outputs": [
    {
     "name": "stdout",
     "output_type": "stream",
     "text": [
      "Subjects:\t430\n",
      "Predicates:\t246\n",
      "Objects:\t1619\n"
     ]
    }
   ],
   "source": [
    "print(\"Subjects:\\t{}\\nPredicates:\\t{}\\nObjects:\\t{}\".format(\\\n",
    "                                                         corpus.mdf.m_subject.unique().shape[0],\n",
    "                                                         corpus.mdf.m_predicate.unique().shape[0],\n",
    "                                                         corpus.mdf.m_object.unique().shape[0]))"
   ]
  },
  {
   "cell_type": "code",
   "execution_count": 286,
   "metadata": {},
   "outputs": [],
   "source": [
    "s_size = corpus.mdf.groupby('m_subject').size()\n",
    "p_size = corpus.mdf.groupby('m_predicate').size()\n",
    "o_size = corpus.mdf.groupby('m_object').size()"
   ]
  },
  {
   "cell_type": "code",
   "execution_count": 287,
   "metadata": {},
   "outputs": [
    {
     "data": {
      "text/html": [
       "<div>\n",
       "<style scoped>\n",
       "    .dataframe tbody tr th:only-of-type {\n",
       "        vertical-align: middle;\n",
       "    }\n",
       "\n",
       "    .dataframe tbody tr th {\n",
       "        vertical-align: top;\n",
       "    }\n",
       "\n",
       "    .dataframe thead th {\n",
       "        text-align: right;\n",
       "    }\n",
       "</style>\n",
       "<table border=\"1\" class=\"dataframe\">\n",
       "  <thead>\n",
       "    <tr style=\"text-align: right;\">\n",
       "      <th></th>\n",
       "      <th>0</th>\n",
       "      <th>1</th>\n",
       "      <th>2</th>\n",
       "    </tr>\n",
       "  </thead>\n",
       "  <tbody>\n",
       "    <tr>\n",
       "      <th>count</th>\n",
       "      <td>430.000000</td>\n",
       "      <td>246.000000</td>\n",
       "      <td>1619.000000</td>\n",
       "    </tr>\n",
       "    <tr>\n",
       "      <th>mean</th>\n",
       "      <td>47.576744</td>\n",
       "      <td>83.162602</td>\n",
       "      <td>12.636195</td>\n",
       "    </tr>\n",
       "    <tr>\n",
       "      <th>std</th>\n",
       "      <td>70.587527</td>\n",
       "      <td>203.773158</td>\n",
       "      <td>27.229700</td>\n",
       "    </tr>\n",
       "    <tr>\n",
       "      <th>min</th>\n",
       "      <td>1.000000</td>\n",
       "      <td>1.000000</td>\n",
       "      <td>1.000000</td>\n",
       "    </tr>\n",
       "    <tr>\n",
       "      <th>25%</th>\n",
       "      <td>6.000000</td>\n",
       "      <td>7.000000</td>\n",
       "      <td>3.000000</td>\n",
       "    </tr>\n",
       "    <tr>\n",
       "      <th>50%</th>\n",
       "      <td>19.500000</td>\n",
       "      <td>22.000000</td>\n",
       "      <td>7.000000</td>\n",
       "    </tr>\n",
       "    <tr>\n",
       "      <th>75%</th>\n",
       "      <td>68.000000</td>\n",
       "      <td>72.500000</td>\n",
       "      <td>14.000000</td>\n",
       "    </tr>\n",
       "    <tr>\n",
       "      <th>max</th>\n",
       "      <td>692.000000</td>\n",
       "      <td>2150.000000</td>\n",
       "      <td>858.000000</td>\n",
       "    </tr>\n",
       "  </tbody>\n",
       "</table>\n",
       "</div>"
      ],
      "text/plain": [
       "                0            1            2\n",
       "count  430.000000   246.000000  1619.000000\n",
       "mean    47.576744    83.162602    12.636195\n",
       "std     70.587527   203.773158    27.229700\n",
       "min      1.000000     1.000000     1.000000\n",
       "25%      6.000000     7.000000     3.000000\n",
       "50%     19.500000    22.000000     7.000000\n",
       "75%     68.000000    72.500000    14.000000\n",
       "max    692.000000  2150.000000   858.000000"
      ]
     },
     "execution_count": 287,
     "metadata": {},
     "output_type": "execute_result"
    }
   ],
   "source": [
    "pd.concat([s_size.describe(), p_size.describe(), o_size.describe()], axis=1)"
   ]
  },
  {
   "cell_type": "markdown",
   "metadata": {},
   "source": [
    "## Most frequent subjects, predicates, objects"
   ]
  },
  {
   "cell_type": "code",
   "execution_count": 297,
   "metadata": {},
   "outputs": [
    {
     "data": {
      "text/plain": [
       "m_subject\n",
       "United_States                       692\n",
       "Acharya_Institute_of_Technology     452\n",
       "Elliot_See                          416\n",
       "Alan_Shepard                        399\n",
       "Alan_Bean                           385\n",
       "dtype: int64"
      ]
     },
     "execution_count": 297,
     "metadata": {},
     "output_type": "execute_result"
    }
   ],
   "source": [
    "s_size.nlargest(5)"
   ]
  },
  {
   "cell_type": "code",
   "execution_count": 298,
   "metadata": {},
   "outputs": [
    {
     "data": {
      "text/plain": [
       "m_predicate\n",
       " country        2150\n",
       " location       1363\n",
       " leaderName     1227\n",
       " ingredient      652\n",
       " isPartOf        573\n",
       "dtype: int64"
      ]
     },
     "execution_count": 298,
     "metadata": {},
     "output_type": "execute_result"
    }
   ],
   "source": [
    "p_size.nlargest(5)"
   ]
  },
  {
   "cell_type": "code",
   "execution_count": 299,
   "metadata": {},
   "outputs": [
    {
     "data": {
      "text/plain": [
       "m_object\n",
       " United_States       858\n",
       " English_language    264\n",
       " Indonesia           166\n",
       " Spain               150\n",
       " Italy               122\n",
       "dtype: int64"
      ]
     },
     "execution_count": 299,
     "metadata": {},
     "output_type": "execute_result"
    }
   ],
   "source": [
    "o_size.nlargest(5)"
   ]
  },
  {
   "cell_type": "markdown",
   "metadata": {},
   "source": [
    "# Is tripleset connected?"
   ]
  },
  {
   "cell_type": "markdown",
   "metadata": {},
   "source": [
    "## Let's check a sample"
   ]
  },
  {
   "cell_type": "code",
   "execution_count": 380,
   "metadata": {},
   "outputs": [
    {
     "data": {
      "text/html": [
       "<table border=\"1\" class=\"dataframe\">\n",
       "  <thead>\n",
       "    <tr style=\"text-align: right;\">\n",
       "      <th></th>\n",
       "      <th>m_subject</th>\n",
       "      <th>m_predicate</th>\n",
       "      <th>m_object</th>\n",
       "    </tr>\n",
       "  </thead>\n",
       "  <tbody>\n",
       "    <tr>\n",
       "      <th>0</th>\n",
       "      <td>Accademia_di_Architettura_di_Mendrisio</td>\n",
       "      <td>dean</td>\n",
       "      <td>Mario_Botta</td>\n",
       "    </tr>\n",
       "    <tr>\n",
       "      <th>1</th>\n",
       "      <td>Accademia_di_Architettura_di_Mendrisio</td>\n",
       "      <td>city</td>\n",
       "      <td>Mendrisio</td>\n",
       "    </tr>\n",
       "    <tr>\n",
       "      <th>2</th>\n",
       "      <td>Accademia_di_Architettura_di_Mendrisio</td>\n",
       "      <td>established</td>\n",
       "      <td>1996</td>\n",
       "    </tr>\n",
       "  </tbody>\n",
       "</table>"
      ],
      "text/plain": [
       "<IPython.core.display.HTML object>"
      ]
     },
     "metadata": {},
     "output_type": "display_data"
    },
    {
     "data": {
      "text/html": [
       "<table border=\"1\" class=\"dataframe\">\n",
       "  <thead>\n",
       "    <tr style=\"text-align: right;\">\n",
       "      <th></th>\n",
       "      <th>ltext</th>\n",
       "    </tr>\n",
       "  </thead>\n",
       "  <tbody>\n",
       "    <tr>\n",
       "      <th>0</th>\n",
       "      <td>The Accademia di Architettura di Mendrisio was established in Mendrisio in 1996. Its dean is Mario Botta.</td>\n",
       "    </tr>\n",
       "    <tr>\n",
       "      <th>1</th>\n",
       "      <td>Mario Botta is Dean of the Accademia di Architettura di Mendrisio which is located in the city of Mendrisio and was established in 1996.</td>\n",
       "    </tr>\n",
       "    <tr>\n",
       "      <th>2</th>\n",
       "      <td>The dean of the Accademia di Architettura di Mendrisio is Mario Botta and the university was established in 1996.</td>\n",
       "    </tr>\n",
       "  </tbody>\n",
       "</table>"
      ],
      "text/plain": [
       "<IPython.core.display.HTML object>"
      ]
     },
     "metadata": {},
     "output_type": "display_data"
    }
   ],
   "source": [
    "sample = corpus.sample(\"University\", 3)\n",
    "sample.display()"
   ]
  },
  {
   "cell_type": "code",
   "execution_count": 382,
   "metadata": {},
   "outputs": [
    {
     "data": {
      "text/plain": [
       "True"
      ]
     },
     "execution_count": 382,
     "metadata": {},
     "output_type": "execute_result"
    }
   ],
   "source": [
    "import networkx as nx\n",
    "\n",
    "g = nx.from_pandas_edgelist(sample.mtriples, 'm_subject', 'm_object', 'm_predicate')\n",
    "\n",
    "nx.is_connected(g)"
   ]
  },
  {
   "cell_type": "markdown",
   "metadata": {},
   "source": [
    "## Let's check all tripleset"
   ]
  },
  {
   "cell_type": "code",
   "execution_count": 419,
   "metadata": {},
   "outputs": [],
   "source": [
    "is_connected = []\n",
    "\n",
    "graphs = {}\n",
    "\n",
    "for name, entry_group in corpus.mdf.groupby(['category', 'ntriples', 'eid']):\n",
    "    \n",
    "    entry_group.reset_index(inplace=True)\n",
    "    \n",
    "    d_g = nx.from_pandas_edgelist(entry_group, 'm_subject', 'm_object', 'm_predicate', create_using=nx.DiGraph())\n",
    "    u_g = nx.Graph(d_g)\n",
    "    \n",
    "    graphs[name] = d_g\n",
    "    \n",
    "    is_connected.append(list(name) + [nx.is_connected(u_g)])\n",
    "    \n",
    "is_connected_df = pd.DataFrame(is_connected, columns=['category', 'ntriples', 'eid', 'is_connected'])"
   ]
  },
  {
   "cell_type": "code",
   "execution_count": 402,
   "metadata": {},
   "outputs": [
    {
     "data": {
      "text/plain": [
       "True     6930\n",
       "False      10\n",
       "Name: is_connected, dtype: int64"
      ]
     },
     "execution_count": 402,
     "metadata": {},
     "output_type": "execute_result"
    }
   ],
   "source": [
    "is_connected_df.is_connected.value_counts()"
   ]
  },
  {
   "cell_type": "markdown",
   "metadata": {},
   "source": [
    "### Let's have a look at a disconnected tripleset"
   ]
  },
  {
   "cell_type": "code",
   "execution_count": 412,
   "metadata": {},
   "outputs": [
    {
     "data": {
      "text/html": [
       "<div>\n",
       "<style scoped>\n",
       "    .dataframe tbody tr th:only-of-type {\n",
       "        vertical-align: middle;\n",
       "    }\n",
       "\n",
       "    .dataframe tbody tr th {\n",
       "        vertical-align: top;\n",
       "    }\n",
       "\n",
       "    .dataframe thead th {\n",
       "        text-align: right;\n",
       "    }\n",
       "</style>\n",
       "<table border=\"1\" class=\"dataframe\">\n",
       "  <thead>\n",
       "    <tr style=\"text-align: right;\">\n",
       "      <th></th>\n",
       "      <th>category</th>\n",
       "      <th>ntriples</th>\n",
       "      <th>eid</th>\n",
       "      <th>is_connected</th>\n",
       "    </tr>\n",
       "  </thead>\n",
       "  <tbody>\n",
       "    <tr>\n",
       "      <th>970</th>\n",
       "      <td>Airport</td>\n",
       "      <td>5</td>\n",
       "      <td>Id173</td>\n",
       "      <td>False</td>\n",
       "    </tr>\n",
       "  </tbody>\n",
       "</table>\n",
       "</div>"
      ],
      "text/plain": [
       "    category  ntriples    eid  is_connected\n",
       "970  Airport         5  Id173         False"
      ]
     },
     "execution_count": 412,
     "metadata": {},
     "output_type": "execute_result"
    }
   ],
   "source": [
    "sample = is_connected_df[~is_connected_df.is_connected].sample()\n",
    "sample"
   ]
  },
  {
   "cell_type": "code",
   "execution_count": 414,
   "metadata": {},
   "outputs": [
    {
     "data": {
      "text/html": [
       "<table border=\"1\" class=\"dataframe\">\n",
       "  <thead>\n",
       "    <tr style=\"text-align: right;\">\n",
       "      <th></th>\n",
       "      <th>m_subject</th>\n",
       "      <th>m_predicate</th>\n",
       "      <th>m_object</th>\n",
       "    </tr>\n",
       "  </thead>\n",
       "  <tbody>\n",
       "    <tr>\n",
       "      <th>0</th>\n",
       "      <td>Belgium</td>\n",
       "      <td>leaderName</td>\n",
       "      <td>Philippe_of_Belgium</td>\n",
       "    </tr>\n",
       "    <tr>\n",
       "      <th>1</th>\n",
       "      <td>Antwerp_International_Airport</td>\n",
       "      <td>cityServed</td>\n",
       "      <td>Antwerp</td>\n",
       "    </tr>\n",
       "    <tr>\n",
       "      <th>2</th>\n",
       "      <td>Flemish_Region</td>\n",
       "      <td>leaderName</td>\n",
       "      <td>Flemish_Government</td>\n",
       "    </tr>\n",
       "    <tr>\n",
       "      <th>3</th>\n",
       "      <td>Flemish_Region</td>\n",
       "      <td>country</td>\n",
       "      <td>Belgium</td>\n",
       "    </tr>\n",
       "    <tr>\n",
       "      <th>4</th>\n",
       "      <td>Flemish_Government</td>\n",
       "      <td>jurisdiction</td>\n",
       "      <td>Flemish_Region</td>\n",
       "    </tr>\n",
       "  </tbody>\n",
       "</table>"
      ],
      "text/plain": [
       "<IPython.core.display.HTML object>"
      ]
     },
     "metadata": {},
     "output_type": "display_data"
    },
    {
     "data": {
      "text/html": [
       "<table border=\"1\" class=\"dataframe\">\n",
       "  <thead>\n",
       "    <tr style=\"text-align: right;\">\n",
       "      <th></th>\n",
       "      <th>ltext</th>\n",
       "    </tr>\n",
       "  </thead>\n",
       "  <tbody>\n",
       "    <tr>\n",
       "      <th>0</th>\n",
       "      <td>Led by the Flemish government, the Flemish region is in the country of Belgium where Philippe of Belgium is the leader. Also in Belgium is Antwerp, which is served by Antwerp International airport.</td>\n",
       "    </tr>\n",
       "    <tr>\n",
       "      <th>1</th>\n",
       "      <td>The Flemish Government leads and has jurisdiction of the Flemish region. The Flemish region is in the country of Belgium where Philippe of Belgium is the leader and the city of Antwerp is served by Antwerp International Airport.</td>\n",
       "    </tr>\n",
       "    <tr>\n",
       "      <th>2</th>\n",
       "      <td>Antwerp International Airport serves the city of Antwerp in Belgium which is led by Philippe. The jurisdiction of the Flemish Government in Belgium is the Flemish Region.</td>\n",
       "    </tr>\n",
       "  </tbody>\n",
       "</table>"
      ],
      "text/plain": [
       "<IPython.core.display.HTML object>"
      ]
     },
     "metadata": {},
     "output_type": "display_data"
    }
   ],
   "source": [
    "entry = corpus.get('Airport', 5, 'Id173')\n",
    "entry.display()"
   ]
  },
  {
   "cell_type": "markdown",
   "metadata": {},
   "source": [
    "# Is it possible to determine a 'root' entity?"
   ]
  },
  {
   "cell_type": "code",
   "execution_count": 420,
   "metadata": {},
   "outputs": [
    {
     "name": "stdout",
     "output_type": "stream",
     "text": [
      "{'Antwerp': {},\n",
      " 'Antwerp_International_Airport': {'Antwerp': {'m_predicate': 'cityServed'}},\n",
      " 'Belgium': {'Philippe_of_Belgium': {'m_predicate': 'leaderName'}},\n",
      " 'Flemish_Government': {'Flemish_Region': {'m_predicate': 'jurisdiction'}},\n",
      " 'Flemish_Region': {'Belgium': {'m_predicate': 'country'},\n",
      "                    'Flemish_Government': {'m_predicate': 'leaderName'}},\n",
      " 'Philippe_of_Belgium': {}}\n"
     ]
    }
   ],
   "source": [
    "from pprint import pprint\n",
    "\n",
    "g = graphs[('Airport', 5, 'Id173')]\n",
    "\n",
    "pprint(nx.to_dict_of_dicts(g))"
   ]
  },
  {
   "cell_type": "code",
   "execution_count": 421,
   "metadata": {},
   "outputs": [
    {
     "data": {
      "text/plain": [
       "[('Flemish_Region', 3),\n",
       " ('Belgium', 2),\n",
       " ('Flemish_Government', 2),\n",
       " ('Philippe_of_Belgium', 1),\n",
       " ('Antwerp_International_Airport', 1),\n",
       " ('Antwerp', 1)]"
      ]
     },
     "execution_count": 421,
     "metadata": {},
     "output_type": "execute_result"
    }
   ],
   "source": [
    "sorted(g.degree, key=lambda x: x[1], reverse=True)"
   ]
  },
  {
   "cell_type": "markdown",
   "metadata": {},
   "source": [
    "# Max number of reference texts"
   ]
  },
  {
   "cell_type": "code",
   "execution_count": 422,
   "metadata": {},
   "outputs": [
    {
     "data": {
      "text/plain": [
       "category   ntriples  eid \n",
       "Astronaut  1         Id37    8\n",
       "Monument   1         Id23    8\n",
       "Astronaut  1         Id14    7\n",
       "                     Id20    7\n",
       "                     Id34    7\n",
       "dtype: int64"
      ]
     },
     "execution_count": 422,
     "metadata": {},
     "output_type": "execute_result"
    }
   ],
   "source": [
    "corpus.ldf.groupby(['category', 'ntriples', 'eid']).size().nlargest(5)"
   ]
  },
  {
   "cell_type": "code",
   "execution_count": 437,
   "metadata": {},
   "outputs": [
    {
     "data": {
      "text/html": [
       "<table border=\"1\" class=\"dataframe\">\n",
       "  <thead>\n",
       "    <tr style=\"text-align: right;\">\n",
       "      <th></th>\n",
       "      <th>m_subject</th>\n",
       "      <th>m_predicate</th>\n",
       "      <th>m_object</th>\n",
       "    </tr>\n",
       "  </thead>\n",
       "  <tbody>\n",
       "    <tr>\n",
       "      <th>0</th>\n",
       "      <td>Buzz_Aldrin</td>\n",
       "      <td>dateOfRetirement</td>\n",
       "      <td>\"1971-07-01\"</td>\n",
       "    </tr>\n",
       "  </tbody>\n",
       "</table>"
      ],
      "text/plain": [
       "<IPython.core.display.HTML object>"
      ]
     },
     "metadata": {},
     "output_type": "display_data"
    },
    {
     "data": {
      "text/html": [
       "<table border=\"1\" class=\"dataframe\">\n",
       "  <thead>\n",
       "    <tr style=\"text-align: right;\">\n",
       "      <th></th>\n",
       "      <th>ltext</th>\n",
       "    </tr>\n",
       "  </thead>\n",
       "  <tbody>\n",
       "    <tr>\n",
       "      <th>0</th>\n",
       "      <td>Buzz Aldrin retired on the 7th of January 1971.</td>\n",
       "    </tr>\n",
       "    <tr>\n",
       "      <th>1</th>\n",
       "      <td>Buzz Aldrin date of retirement was 1971/07/01.</td>\n",
       "    </tr>\n",
       "    <tr>\n",
       "      <th>2</th>\n",
       "      <td>Buzz Aldrin's retirement date is \"1971-07-01\".</td>\n",
       "    </tr>\n",
       "    <tr>\n",
       "      <th>3</th>\n",
       "      <td>Buzz Aldrin retired on July 1st, 1971.</td>\n",
       "    </tr>\n",
       "    <tr>\n",
       "      <th>4</th>\n",
       "      <td>Buzz Aldrin retired on July 1, 1971.</td>\n",
       "    </tr>\n",
       "    <tr>\n",
       "      <th>5</th>\n",
       "      <td>Buzz Aldrin retired on the 1st of July 1971.</td>\n",
       "    </tr>\n",
       "    <tr>\n",
       "      <th>6</th>\n",
       "      <td>Buzz Aldrin retired on 1971-07-01.</td>\n",
       "    </tr>\n",
       "    <tr>\n",
       "      <th>7</th>\n",
       "      <td>Buzz Aldrin retired on Jul 1, 1971.</td>\n",
       "    </tr>\n",
       "  </tbody>\n",
       "</table>"
      ],
      "text/plain": [
       "<IPython.core.display.HTML object>"
      ]
     },
     "metadata": {},
     "output_type": "display_data"
    }
   ],
   "source": [
    "a = corpus.get('Astronaut', 1, 'Id37')\n",
    "a.display()"
   ]
  },
  {
   "cell_type": "markdown",
   "metadata": {},
   "source": [
    "# Vocabulary size"
   ]
  },
  {
   "cell_type": "code",
   "execution_count": 435,
   "metadata": {},
   "outputs": [
    {
     "data": {
      "text/plain": [
       "2001"
      ]
     },
     "execution_count": 435,
     "metadata": {},
     "output_type": "execute_result"
    }
   ],
   "source": [
    "s_set = set(corpus.mdf.m_subject.unique())\n",
    "p_set = set(corpus.mdf.m_predicate.unique())\n",
    "o_set = set(corpus.mdf.m_object.unique())\n",
    "\n",
    "len(s_set.union(p_set).union(o_set))"
   ]
  },
  {
   "cell_type": "markdown",
   "metadata": {},
   "source": [
    "## Is there any predicate used as subject or object?"
   ]
  },
  {
   "cell_type": "code",
   "execution_count": 436,
   "metadata": {},
   "outputs": [
    {
     "data": {
      "text/plain": [
       "set()"
      ]
     },
     "execution_count": 436,
     "metadata": {},
     "output_type": "execute_result"
    }
   ],
   "source": [
    "p_set.intersection(s_set.union(o_set))"
   ]
  }
 ],
 "metadata": {
  "kernelspec": {
   "display_name": "Python 3",
   "language": "python",
   "name": "python3"
  },
  "language_info": {
   "codemirror_mode": {
    "name": "ipython",
    "version": 3
   },
   "file_extension": ".py",
   "mimetype": "text/x-python",
   "name": "python",
   "nbconvert_exporter": "python",
   "pygments_lexer": "ipython3",
   "version": "3.6.5"
  }
 },
 "nbformat": 4,
 "nbformat_minor": 2
}
