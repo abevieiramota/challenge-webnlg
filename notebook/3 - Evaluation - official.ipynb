{
 "cells": [
  {
   "cell_type": "code",
   "execution_count": 4,
   "metadata": {},
   "outputs": [],
   "source": [
    "from textacy.preprocess import preprocess_text\n",
    "\n",
    "def preprocess(ref):\n",
    "    \n",
    "    return preprocess_text(ref, \n",
    "                           # replace accenteds with unaccented versions\n",
    "                           no_accents=True,\n",
    "                           # lowercase\n",
    "                           lowercase=True, \n",
    "                           # replace punctuation with empty string\n",
    "                           no_punct=True)"
   ]
  },
  {
   "cell_type": "code",
   "execution_count": 2,
   "metadata": {},
   "outputs": [],
   "source": [
    "SUBMISSION_FILEPATHS = [\n",
    "    \"../data/webnlg2017/submissions/melbourne/final_result.txt\",\n",
    "    \"../data/webnlg2017/submissions/tilburg/smt_test.out.ordered\",\n",
    "    \"../data/webnlg2017/submissions/pkuwriter/PKUWriter_results.txt\",\n",
    "    \"../data/webnlg2017/submissions/upf/UPF_All_sent_final.txt\",\n",
    "    \"../data/webnlg2017/submissions/tilburg/template_test.out.ordered\",\n",
    "    \"../data/webnlg2017/submissions/tilburg/nmt_test.out.ordered\",\n",
    "    \"../data/webnlg2017/submissions/baseline_sorted.txt\",\n",
    "    \"../data/webnlg2017/submissions/adaptCenter/ADAPTcentreWebNLGsubmission.txt\",\n",
    "    \"../data/webnlg2017/submissions/uit-danglt-clnlp/Submission-UIT-DANGNT-CLNLP.txt\"\n",
    "]"
   ]
  },
  {
   "cell_type": "markdown",
   "metadata": {},
   "source": [
    "# BLEU"
   ]
  },
  {
   "cell_type": "markdown",
   "metadata": {},
   "source": [
    "## Preprocessing submited files"
   ]
  },
  {
   "cell_type": "code",
   "execution_count": 13,
   "metadata": {},
   "outputs": [],
   "source": [
    "# for each submited file, generate a preprocessed file\n",
    "\n",
    "for filepath in SUBMISSION_FILEPATHS:\n",
    "    \n",
    "    with open(filepath) as f, open(filepath + '_preprocessed', 'w') as f_out:\n",
    "\n",
    "        for ref in f:\n",
    "\n",
    "            f_out.write(preprocess(ref) + '\\n')"
   ]
  },
  {
   "cell_type": "markdown",
   "metadata": {},
   "source": [
    "## Let's have a look at reference texts"
   ]
  },
  {
   "cell_type": "code",
   "execution_count": 15,
   "metadata": {},
   "outputs": [],
   "source": [
    "# loads reference texts\n",
    "\n",
    "import xml.etree.ElementTree as ET\n",
    "\n",
    "tree = ET.parse(\"../data/webnlg2017/testdata_with_lex.xml\")\n",
    "root = tree.getroot()\n",
    "\n",
    "references = []\n",
    "\n",
    "for entry in root.iter('entry'):\n",
    "    \n",
    "    references_of_entry = []\n",
    "    for ref in entry.findall('lex'):\n",
    "        \n",
    "        ref_final = preprocess(ref.text)\n",
    "        \n",
    "        references_of_entry.append(ref_final)\n",
    "    \n",
    "    references.append(references_of_entry)"
   ]
  },
  {
   "cell_type": "code",
   "execution_count": 8,
   "metadata": {},
   "outputs": [
    {
     "data": {
      "text/plain": [
       "['abilene texas is served by the abilene regional airport',\n",
       " 'abilene regional airport serves the city of abilene in texas']"
      ]
     },
     "execution_count": 8,
     "metadata": {},
     "output_type": "execute_result"
    }
   ],
   "source": [
    "references[0]"
   ]
  },
  {
   "cell_type": "markdown",
   "metadata": {},
   "source": [
    "## Let's calculate BLEU with NLTK"
   ]
  },
  {
   "cell_type": "code",
   "execution_count": 50,
   "metadata": {},
   "outputs": [
    {
     "data": {
      "text/plain": [
       "0.4303379633651451"
      ]
     },
     "execution_count": 50,
     "metadata": {},
     "output_type": "execute_result"
    }
   ],
   "source": [
    "from nltk.translate.bleu_score import corpus_bleu\n",
    "\n",
    "with open('../data/webnlg2017/submissions/melbourne/final_result.txt_preprocessed') as f:\n",
    "    \n",
    "    candidates = [line for line in f.readlines()]\n",
    "\n",
    "split_candidates = [candidate.split() for candidate in candidates]\n",
    "split_references = [[reference_text.split() for reference_text in reference] for reference in references]\n",
    "\n",
    "corpus_bleu(split_references, split_candidates)"
   ]
  },
  {
   "cell_type": "markdown",
   "metadata": {},
   "source": [
    "# Let's calculate BLEU with multi-bleu.perl\n",
    "\n",
    "https://github.com/moses-smt/mosesdecoder/blob/master/scripts/generic/multi-bleu.perl"
   ]
  },
  {
   "cell_type": "markdown",
   "metadata": {},
   "source": [
    "## First we need to generate reference files"
   ]
  },
  {
   "cell_type": "code",
   "execution_count": 9,
   "metadata": {},
   "outputs": [],
   "source": [
    "import xml.etree.ElementTree as ET\n",
    "\n",
    "tree = ET.parse('test_reference_files_bleu/testdata_with_lex.xml')\n",
    "root = tree.getroot()\n",
    "\n",
    "references = []\n",
    "for entry in root.iter('entry'):\n",
    "    \n",
    "    references_of_entry = []\n",
    "    for ref in entry.findall('lex'):\n",
    "        \n",
    "        ref_final = preprocess(ref.text)\n",
    "        \n",
    "        references_of_entry.append(ref_final)\n",
    "    \n",
    "    references.append(references_of_entry)"
   ]
  },
  {
   "cell_type": "code",
   "execution_count": 10,
   "metadata": {},
   "outputs": [],
   "source": [
    "ref_per_id = [[] for _ in range(8)]\n",
    "\n",
    "for i in range(8):\n",
    "    \n",
    "    for reference_list in references:\n",
    "        \n",
    "        if len(reference_list) > i:\n",
    "            \n",
    "            ref_per_id[i].append(reference_list[i])\n",
    "        else:\n",
    "            ref_per_id[i].append('')"
   ]
  },
  {
   "cell_type": "code",
   "execution_count": 11,
   "metadata": {},
   "outputs": [],
   "source": [
    "for i, refs in enumerate(ref_per_id):\n",
    "    \n",
    "    with open('test_reference_files_bleu/ref_{}.txt'.format(i), 'w') as f:\n",
    "        \n",
    "        f.writelines(('{}\\n'.format(ref) for ref in refs))"
   ]
  },
  {
   "cell_type": "code",
   "execution_count": 6,
   "metadata": {},
   "outputs": [
    {
     "name": "stdout",
     "output_type": "stream",
     "text": [
      "abilene regional airport serves the city of abilene texas\n",
      "adolfo suarez madrid barajas airport is located in madrid paracuellos de jarama san sebastian de los reyes and alcobendas\n",
      "18l 36r is the runway name of adolfo suarez madrid barajas airport new zealand\n",
      "the icao location identifier of afonso pena international airport is sbct\n",
      "afonso pena international airport serves the city of curitiba\n",
      "al taqaddum air base serves the city of fallujah\n",
      "the runway length of al taqaddum air base is 3684 0\n",
      "the runway name of alderney airport is 14 32\n",
      "the runway length of allama iqbal international airport is 3360 12\n",
      "the number of the first runway at amsterdam airport schiphol is 18\n",
      "the 1st runway at amsterdam airport schiphol is made from asphalt\n",
      "the runway name of amsterdam airport schiphol is 06 24 kaagbaan\n",
      "andrews county airport is 973 0 metres above sea level\n",
      "andrews county texas is the owner of andrews county airport\n",
      "the runway length of andrews county airport is 896 0\n",
      "the 1st runway at angola international airport is made from asphalt\n",
      "antwerp international airport is 12 0 metres above sea level\n",
      "antwerp international airport is operated by flemish government\n",
      "the runway length of appleton international airport is 2439 0\n",
      "the runway length of ardmore airport is 518 0\n"
     ]
    }
   ],
   "source": [
    "!head -n 20 ../data/webnlg2017/submissions/melbourne/final_result.txt_ascii"
   ]
  },
  {
   "cell_type": "code",
   "execution_count": 13,
   "metadata": {},
   "outputs": [
    {
     "name": "stdout",
     "output_type": "stream",
     "text": [
      "abilene texas is served by the abilene regional airport\n",
      "adolfo suarez madrid barajas airport can be found in madrid paracuellos de jarama san sebastian de los reyes and alcobendas\n",
      "the runway name of adolfo suarez madrid barajas airport is 18l 36r\n",
      "afonso pena international airport icao location idenitifier is sbct\n",
      "afonso pena international airport serves the city of curitiba\n",
      "the al taqaddum air base serves the city of fallujah\n",
      "the runway length of al taqaddum air base is 3684 0\n",
      "alderney airport runway name is 14 32\n",
      "the runway length at allama iqbal international airport is 3 360 12\n",
      "the first runway at amsterdam s schiphol airport is known as number 18\n",
      "the 5th runway at amsterdam airport schiphol has an asphalt surfacing\n",
      "amsterdam airport schiphol runway name is 06 24 kaagbaan\n",
      "andrews county airport is 973 metres above sea level\n",
      "the andrews county airport is owned by andrews county texas\n",
      "the runway length of andrews county airport is 896\n",
      "angola international airport is the first runway made of asphalt\n",
      "antwerp international airport is 12 metres above sea level\n",
      "the antwerp international airport is operated by the flemish government\n",
      "the runway length of appleton international airport is 2 439\n",
      "ardmore airport new zealand runway length is 518 0\n"
     ]
    }
   ],
   "source": [
    "!head -n 20 test_reference_files_bleu/ref_0.txt"
   ]
  },
  {
   "cell_type": "markdown",
   "metadata": {},
   "source": [
    "# A realidade é que ainda não consegui replicar a métrica BLEU\n",
    "* é necessário gerar arquivos pre processados, com o script evaluation.py\n",
    "* ainda não entendi como gerar para arquivos novos, além dos submited files"
   ]
  },
  {
   "cell_type": "markdown",
   "metadata": {},
   "source": [
    "## And then let's try multi-bleu.perl"
   ]
  },
  {
   "cell_type": "markdown",
   "metadata": {},
   "source": [
    "## Melbourne"
   ]
  },
  {
   "cell_type": "code",
   "execution_count": 56,
   "metadata": {},
   "outputs": [
    {
     "name": "stdout",
     "output_type": "stream",
     "text": [
      "BLEU = 45.13, 79.9/55.4/38.8/27.4 (BP=0.969, ratio=0.969, hyp_len=40642, ref_len=41921)\n"
     ]
    }
   ],
   "source": [
    "!../evaluation/webnlg2017/webnlg-baseline-master/multi-bleu.perl -lc ../evaluation/webnlg2017/webnlg-automatic-evaluation/references/gold-all-cat-reference0.lex ../evaluation/webnlg2017/webnlg-automatic-evaluation/references/gold-all-cat-reference1.lex ../evaluation/webnlg2017/webnlg-automatic-evaluation/references/gold-all-cat-reference2.lex < ../evaluation/webnlg2017/webnlg-automatic-evaluation/teams/GKB_Unimelb_all-cat.txt"
   ]
  },
  {
   "cell_type": "code",
   "execution_count": 52,
   "metadata": {},
   "outputs": [
    {
     "name": "stdout",
     "output_type": "stream",
     "text": [
      "BLEU = 45.13, 79.9/55.4/38.8/27.4 (BP=0.969, ratio=0.969, hyp_len=40642, ref_len=41921)\n",
      "BLEU = 45.13, 79.9/55.4/38.8/27.4 (BP=0.969, ratio=0.969, hyp_len=40642, ref_len=41921)\n"
     ]
    }
   ],
   "source": [
    "!head ../evaluation/webnlg2017/webnlg-automatic-evaluation/eval/bleu3ref-GKB_Unimelb_all-cat.txt"
   ]
  },
  {
   "cell_type": "markdown",
   "metadata": {},
   "source": [
    "## Tilb-SMT"
   ]
  },
  {
   "cell_type": "code",
   "execution_count": 15,
   "metadata": {},
   "outputs": [
    {
     "name": "stdout",
     "output_type": "stream",
     "text": [
      "BLEU = 44.34, 76.0/54.3/37.3/26.1 (BP=0.991, ratio=0.991, hyp_len=36180, ref_len=36518)\n"
     ]
    }
   ],
   "source": [
    "!../evaluation/webnlg2017/webnlg-baseline-master/multi-bleu.perl test_reference_files_bleu/ref_0.txt test_reference_files_bleu/ref_1.txt test_reference_files_bleu/ref_2.txt < ../data/webnlg2017/submissions/tilburg/smt_test.out.ordered_ascii"
   ]
  },
  {
   "cell_type": "markdown",
   "metadata": {},
   "source": [
    "## PKUWriter"
   ]
  },
  {
   "cell_type": "code",
   "execution_count": 16,
   "metadata": {},
   "outputs": [
    {
     "name": "stdout",
     "output_type": "stream",
     "text": [
      "BLEU = 37.93, 73.6/50.2/34.5/24.2 (BP=0.906, ratio=0.910, hyp_len=31950, ref_len=35120)\n"
     ]
    }
   ],
   "source": [
    "!../evaluation/webnlg2017/webnlg-baseline-master/multi-bleu.perl test_reference_files_bleu/ref_0.txt test_reference_files_bleu/ref_1.txt test_reference_files_bleu/ref_2.txt < ../data/webnlg2017/submissions/pkuwriter/PKUWriter_results.txt_ascii"
   ]
  },
  {
   "cell_type": "markdown",
   "metadata": {},
   "source": [
    "## UPF-FORGe"
   ]
  },
  {
   "cell_type": "code",
   "execution_count": 17,
   "metadata": {},
   "outputs": [
    {
     "name": "stdout",
     "output_type": "stream",
     "text": [
      "BLEU = 39.07, 77.6/50.7/31.2/19.0 (BP=1.000, ratio=1.012, hyp_len=37497, ref_len=37038)\n"
     ]
    }
   ],
   "source": [
    "!../evaluation/webnlg2017/webnlg-baseline-master/multi-bleu.perl test_reference_files_bleu/ref_0.txt test_reference_files_bleu/ref_1.txt test_reference_files_bleu/ref_2.txt < ../data/webnlg2017/submissions/upf/UPF_All_sent_final.txt_ascii"
   ]
  },
  {
   "cell_type": "markdown",
   "metadata": {},
   "source": [
    "## Tilb-Pipeline"
   ]
  },
  {
   "cell_type": "code",
   "execution_count": 18,
   "metadata": {},
   "outputs": [
    {
     "name": "stdout",
     "output_type": "stream",
     "text": [
      "BLEU = 33.71, 82.1/56.9/37.6/24.9 (BP=0.737, ratio=0.766, hyp_len=25481, ref_len=33256)\n"
     ]
    }
   ],
   "source": [
    "!../evaluation/webnlg2017/webnlg-baseline-master/multi-bleu.perl test_reference_files_bleu/ref_0.txt test_reference_files_bleu/ref_1.txt test_reference_files_bleu/ref_2.txt < ../data/webnlg2017/submissions/tilburg/template_test.out.ordered_ascii"
   ]
  },
  {
   "cell_type": "markdown",
   "metadata": {},
   "source": [
    "## Tilb-NMT"
   ]
  },
  {
   "cell_type": "code",
   "execution_count": 19,
   "metadata": {},
   "outputs": [
    {
     "name": "stdout",
     "output_type": "stream",
     "text": [
      "BLEU = 33.00, 68.4/42.4/25.8/15.8 (BP=1.000, ratio=1.036, hyp_len=38328, ref_len=37014)\n"
     ]
    }
   ],
   "source": [
    "!../evaluation/webnlg2017/webnlg-baseline-master/multi-bleu.perl test_reference_files_bleu/ref_0.txt test_reference_files_bleu/ref_1.txt test_reference_files_bleu/ref_2.txt < ../data/webnlg2017/submissions/tilburg/nmt_test.out.ordered_ascii"
   ]
  },
  {
   "cell_type": "markdown",
   "metadata": {},
   "source": [
    "## Baseline"
   ]
  },
  {
   "cell_type": "code",
   "execution_count": 20,
   "metadata": {},
   "outputs": [
    {
     "name": "stdout",
     "output_type": "stream",
     "text": [
      "BLEU = 32.61, 62.8/41.9/30.9/23.8 (BP=0.874, ratio=0.882, hyp_len=30830, ref_len=34974)\n"
     ]
    }
   ],
   "source": [
    "!../evaluation/webnlg2017/webnlg-baseline-master/multi-bleu.perl test_reference_files_bleu/ref_0.txt test_reference_files_bleu/ref_1.txt test_reference_files_bleu/ref_2.txt < ../data/webnlg2017/submissions/baseline_sorted.txt_ascii"
   ]
  },
  {
   "cell_type": "markdown",
   "metadata": {},
   "source": [
    "## Adapt"
   ]
  },
  {
   "cell_type": "code",
   "execution_count": 21,
   "metadata": {},
   "outputs": [
    {
     "name": "stdout",
     "output_type": "stream",
     "text": [
      "BLEU = 30.31, 53.2/35.3/24.8/18.2 (BP=1.000, ratio=1.333, hyp_len=51161, ref_len=38388)\n"
     ]
    }
   ],
   "source": [
    "!../evaluation/webnlg2017/webnlg-baseline-master/multi-bleu.perl test_reference_files_bleu/ref_0.txt test_reference_files_bleu/ref_1.txt test_reference_files_bleu/ref_2.txt < ../data/webnlg2017/submissions/adaptCenter/ADAPTcentreWebNLGsubmission.txt_ascii"
   ]
  },
  {
   "cell_type": "markdown",
   "metadata": {},
   "source": [
    "## UIT-VNU"
   ]
  },
  {
   "cell_type": "code",
   "execution_count": 22,
   "metadata": {},
   "outputs": [
    {
     "name": "stdout",
     "output_type": "stream",
     "text": [
      "BLEU = 7.09, 65.1/53.1/37.3/26.7 (BP=0.165, ratio=0.357, hyp_len=9793, ref_len=27457)\n"
     ]
    }
   ],
   "source": [
    "!../evaluation/webnlg2017/webnlg-baseline-master/multi-bleu.perl test_reference_files_bleu/ref_0.txt test_reference_files_bleu/ref_1.txt test_reference_files_bleu/ref_2.txt < ../data/webnlg2017/submissions/uit-danglt-clnlp/Submission-UIT-DANGNT-CLNLP.txt_ascii"
   ]
  },
  {
   "cell_type": "code",
   "execution_count": null,
   "metadata": {},
   "outputs": [],
   "source": []
  }
 ],
 "metadata": {
  "kernelspec": {
   "display_name": "Python 3",
   "language": "python",
   "name": "python3"
  },
  "language_info": {
   "codemirror_mode": {
    "name": "ipython",
    "version": 3
   },
   "file_extension": ".py",
   "mimetype": "text/x-python",
   "name": "python",
   "nbconvert_exporter": "python",
   "pygments_lexer": "ipython3",
   "version": "3.6.5"
  }
 },
 "nbformat": 4,
 "nbformat_minor": 2
}
