{
 "cells": [
  {
   "cell_type": "markdown",
   "metadata": {},
   "source": [
    "# BLEU"
   ]
  },
  {
   "cell_type": "markdown",
   "metadata": {},
   "source": [
    "https://github.com/moses-smt/mosesdecoder/blob/master/scripts/generic/multi-bleu.perl"
   ]
  },
  {
   "cell_type": "markdown",
   "metadata": {},
   "source": [
    "## Results\n",
    "\n",
    "From: <a href=\"../paper/webnlg2017/The WebNLG Challenge -  Generating Text from RDF Data.pdf\">The WebNLG Challenge - Generating Text from RDF Data</a>\n",
    "\n",
    "<img src='../img/bleu_result.jpg' />"
   ]
  },
  {
   "cell_type": "markdown",
   "metadata": {},
   "source": [
    "## Melbourne\n",
    "\n",
    "<a href=\"../data/webnlg2017/submissions/melbourne/WebNLG Challenge - Bayu Distiawan T.pdf\">report</a>"
   ]
  },
  {
   "cell_type": "code",
   "execution_count": 1,
   "metadata": {},
   "outputs": [
    {
     "name": "stdout",
     "output_type": "stream",
     "text": [
      "BLEU = 45.13, 79.9/55.4/38.8/27.4 (BP=0.969, ratio=0.969, hyp_len=40642, ref_len=41921)\n"
     ]
    }
   ],
   "source": [
    "!../evaluation/webnlg2017/webnlg-baseline-master/multi-bleu.perl -lc ../evaluation/webnlg2017/webnlg-automatic-evaluation/references/gold-all-cat-reference0.lex ../evaluation/webnlg2017/webnlg-automatic-evaluation/references/gold-all-cat-reference1.lex ../evaluation/webnlg2017/webnlg-automatic-evaluation/references/gold-all-cat-reference2.lex < ../evaluation/webnlg2017/webnlg-automatic-evaluation/teams/GKB_Unimelb_all-cat.txt"
   ]
  },
  {
   "cell_type": "code",
   "execution_count": 3,
   "metadata": {},
   "outputs": [
    {
     "name": "stdout",
     "output_type": "stream",
     "text": [
      "castle is english language .\r\n",
      "eric flint was born in burbank , california .\r\n",
      "macmillan publishers is the parent company of farrar , straus and giroux .\r\n",
      "john cowper powys was a glastonbury romance .\r\n",
      "soho press is in united states .\r\n",
      "the secret scripture was published by faber and faber .\r\n",
      "asian americans are an ethnic group in united states .\r\n",
      "english language is spoken in united states .\r\n",
      "weymouth sands was preceded by a glastonbury romance .\r\n",
      "the manager of a . c . chievo verona is rolando maran .\r\n"
     ]
    }
   ],
   "source": [
    "!head -100 ../evaluation/webnlg2017/webnlg-automatic-evaluation/teams/GKB_Unimelb_all-cat.txt | tail -10"
   ]
  },
  {
   "cell_type": "markdown",
   "metadata": {},
   "source": [
    "## Tilb-SMT\n",
    "\n",
    "<a href=\"../data/webnlg2017/submissions/tilburg/report.pdf\">report</a>"
   ]
  },
  {
   "cell_type": "code",
   "execution_count": 16,
   "metadata": {},
   "outputs": [
    {
     "name": "stdout",
     "output_type": "stream",
     "text": [
      "novel castle is english language\r\n",
      ". eric flint was born in burbank , california .\r\n",
      "macmillan publishers is the parent company of farrar , straus and giroux\r\n",
      "john cowper powys notablework a glastonbury romance\r\n",
      "soho press , united states .\r\n",
      ", published by faber and faber\r\n",
      "asian americans are an ethnic group .\r\n",
      "english is the language of the united states .\r\n",
      "weymouth sands was preceded by a glastonbury romance\r\n",
      "the manager of a . c . chievo verona is rolando maran\r\n"
     ]
    }
   ],
   "source": [
    "!head -100 ../evaluation/webnlg2017/webnlg-automatic-evaluation/teams/Tilburg_University-2_all-cat.txt | tail -10"
   ]
  },
  {
   "cell_type": "code",
   "execution_count": 15,
   "metadata": {},
   "outputs": [
    {
     "name": "stdout",
     "output_type": "stream",
     "text": [
      "BLEU = 44.28, 74.4/53.0/37.5/26.8 (BP=0.992, ratio=0.992, hyp_len=42193, ref_len=42521)\r\n"
     ]
    }
   ],
   "source": [
    "!../evaluation/webnlg2017/webnlg-baseline-master/multi-bleu.perl -lc ../evaluation/webnlg2017/webnlg-automatic-evaluation/references/gold-all-cat-reference0.lex ../evaluation/webnlg2017/webnlg-automatic-evaluation/references/gold-all-cat-reference1.lex ../evaluation/webnlg2017/webnlg-automatic-evaluation/references/gold-all-cat-reference2.lex < ../evaluation/webnlg2017/webnlg-automatic-evaluation/teams/Tilburg_University-2_all-cat.txt"
   ]
  },
  {
   "cell_type": "markdown",
   "metadata": {},
   "source": [
    "## PKUWriter\n",
    "\n",
    "<a href=\"../data/webnlg2017/submissions/pkuwriter/PKUWriter_system.pdf\">report</a>"
   ]
  },
  {
   "cell_type": "code",
   "execution_count": 2,
   "metadata": {},
   "outputs": [
    {
     "name": "stdout",
     "output_type": "stream",
     "text": [
      "the novel into battle is written by the english language .\r\n",
      "john cowper powys was born in burbank , california .\r\n",
      "the parent company of the macmillan publishers press is the macmillan publishers company of the macmillan publishers .\r\n",
      "the novel owen glendower is a notable work by john cowper powys .\r\n",
      "soho press is located in united states .\r\n",
      "the polish academy for writtenwork is referencenumber _ in _ the _ national _ register _ of _ historic _ places .\r\n",
      "asian americans are an ethnic group in the united states .\r\n",
      "english is the language spoken in the united states .\r\n",
      "the novel into battle is preceded by a glastonbury romance .\r\n",
      "rolando maran manages the a . c . chievo verona .\r\n"
     ]
    }
   ],
   "source": [
    "!head -100 ../evaluation/webnlg2017/webnlg-automatic-evaluation/teams/PKUWriter_all-cat.txt | tail -10"
   ]
  },
  {
   "cell_type": "code",
   "execution_count": 5,
   "metadata": {},
   "outputs": [
    {
     "name": "stdout",
     "output_type": "stream",
     "text": [
      "BLEU = 39.88, 73.9/49.9/35.6/26.0 (BP=0.927, ratio=0.930, hyp_len=38248, ref_len=41143)\n"
     ]
    }
   ],
   "source": [
    "!../evaluation/webnlg2017/webnlg-baseline-master/multi-bleu.perl -lc ../evaluation/webnlg2017/webnlg-automatic-evaluation/references/gold-all-cat-reference0.lex ../evaluation/webnlg2017/webnlg-automatic-evaluation/references/gold-all-cat-reference1.lex ../evaluation/webnlg2017/webnlg-automatic-evaluation/references/gold-all-cat-reference2.lex < ../evaluation/webnlg2017/webnlg-automatic-evaluation/teams/PKUWriter_all-cat.txt"
   ]
  },
  {
   "cell_type": "markdown",
   "metadata": {},
   "source": [
    "## UPF-FORGe\n",
    "\n",
    "<a href=\"../data/webnlg2017/submissions/upf/WebNLG_V0.2.pdf\">report</a>"
   ]
  },
  {
   "cell_type": "code",
   "execution_count": 4,
   "metadata": {},
   "outputs": [
    {
     "name": "stdout",
     "output_type": "stream",
     "text": [
      "the english language is spoken in castle ( novel ) .\r\n",
      "eric flint was born in burbank ( california ) .\r\n",
      "the parent company of farrar , straus and giroux is macmillan publishers .\r\n",
      "a glastonbury romance wrote john cowper powys .\r\n",
      "soho press is published in the united states .\r\n",
      "the publisher of the secret scripture is faber and faber .\r\n",
      "a ethnic group of the united states are asian americans .\r\n",
      "the english language is spoken in the united states .\r\n",
      "weymouth sands follows a glastonbury romance .\r\n",
      "rolando maran is the manager of a . c . chievo verona .\r\n"
     ]
    }
   ],
   "source": [
    "!head -100 ../evaluation/webnlg2017/webnlg-automatic-evaluation/teams/UPF-TALN_all-cat.txt | tail -10"
   ]
  },
  {
   "cell_type": "code",
   "execution_count": 6,
   "metadata": {},
   "outputs": [
    {
     "name": "stdout",
     "output_type": "stream",
     "text": [
      "BLEU = 38.65, 75.5/48.7/31.1/19.5 (BP=1.000, ratio=1.064, hyp_len=47234, ref_len=44405)\n"
     ]
    }
   ],
   "source": [
    "!../evaluation/webnlg2017/webnlg-baseline-master/multi-bleu.perl -lc ../evaluation/webnlg2017/webnlg-automatic-evaluation/references/gold-all-cat-reference0.lex ../evaluation/webnlg2017/webnlg-automatic-evaluation/references/gold-all-cat-reference1.lex ../evaluation/webnlg2017/webnlg-automatic-evaluation/references/gold-all-cat-reference2.lex < ../evaluation/webnlg2017/webnlg-automatic-evaluation/teams/UPF-TALN_all-cat.txt"
   ]
  },
  {
   "cell_type": "markdown",
   "metadata": {},
   "source": [
    "## Tilb-Pipeline\n",
    "\n",
    "<a href=\"../data/webnlg2017/submissions/tilburg/report.pdf\">report</a>"
   ]
  },
  {
   "cell_type": "code",
   "execution_count": 5,
   "metadata": {},
   "outputs": [
    {
     "name": "stdout",
     "output_type": "stream",
     "text": [
      "castle is in english .\r\n",
      "eric flint was born in burbank , california .\r\n",
      "macmillan publishers owns farrar , straus , and giroux .\r\n",
      "a glastonbury romance is a notable work by john cowper powys .\r\n",
      "soho press is in united states .\r\n",
      "the secret scripture publisher of faber and faber .\r\n",
      "asian americans live in united states .\r\n",
      "united states is in english .\r\n",
      "weymouth sands was preceded by a glastonbury romance .\r\n",
      "rolando maran manages a . c . chievo verona .\r\n"
     ]
    }
   ],
   "source": [
    "!head -100 ../evaluation/webnlg2017/webnlg-automatic-evaluation/teams/Tilburg_University-3_all-cat.txt | tail -10"
   ]
  },
  {
   "cell_type": "code",
   "execution_count": 8,
   "metadata": {},
   "outputs": [
    {
     "name": "stdout",
     "output_type": "stream",
     "text": [
      "BLEU = 35.29, 81.8/56.6/38.8/26.5 (BP=0.755, ratio=0.781, hyp_len=30335, ref_len=38854)\n"
     ]
    }
   ],
   "source": [
    "!../evaluation/webnlg2017/webnlg-baseline-master/multi-bleu.perl -lc ../evaluation/webnlg2017/webnlg-automatic-evaluation/references/gold-all-cat-reference0.lex ../evaluation/webnlg2017/webnlg-automatic-evaluation/references/gold-all-cat-reference1.lex ../evaluation/webnlg2017/webnlg-automatic-evaluation/references/gold-all-cat-reference2.lex < ../evaluation/webnlg2017/webnlg-automatic-evaluation/teams/Tilburg_University-3_all-cat.txt"
   ]
  },
  {
   "cell_type": "markdown",
   "metadata": {},
   "source": [
    "## Tilb-NMT\n",
    "\n",
    "<a href=\"../data/webnlg2017/submissions/tilburg/report.pdf\">report</a>"
   ]
  },
  {
   "cell_type": "code",
   "execution_count": 6,
   "metadata": {},
   "outputs": [
    {
     "name": "stdout",
     "output_type": "stream",
     "text": [
      "english is the language of castle .\r\n",
      "eric flint was born in burbank , california .\r\n",
      "macmillan publishers is the parent company of farrar , straus , and giroux .\r\n",
      "a glastonbury romance is a notable work by john cowper powys .\r\n",
      "soho press is located in united states .\r\n",
      "th secret scriptures was published by faber and faber .\r\n",
      "asian americans are an ethnic group in united states .\r\n",
      "english is the language of united states .\r\n",
      "weymouth sands was preceded by a glastonbury romance .\r\n",
      "the manager of a . c . chievo verona is rolando maran .\r\n"
     ]
    }
   ],
   "source": [
    "!head -100 ../evaluation/webnlg2017/webnlg-automatic-evaluation/teams/Tilburg_University-1_all-cat.txt | tail -10"
   ]
  },
  {
   "cell_type": "code",
   "execution_count": 9,
   "metadata": {},
   "outputs": [
    {
     "name": "stdout",
     "output_type": "stream",
     "text": [
      "BLEU = 34.60, 68.8/42.7/27.5/17.7 (BP=1.000, ratio=1.054, hyp_len=45605, ref_len=43278)\n"
     ]
    }
   ],
   "source": [
    "!../evaluation/webnlg2017/webnlg-baseline-master/multi-bleu.perl -lc ../evaluation/webnlg2017/webnlg-automatic-evaluation/references/gold-all-cat-reference0.lex ../evaluation/webnlg2017/webnlg-automatic-evaluation/references/gold-all-cat-reference1.lex ../evaluation/webnlg2017/webnlg-automatic-evaluation/references/gold-all-cat-reference2.lex < ../evaluation/webnlg2017/webnlg-automatic-evaluation/teams/Tilburg_University-1_all-cat.txt"
   ]
  },
  {
   "cell_type": "markdown",
   "metadata": {},
   "source": [
    "## Baseline"
   ]
  },
  {
   "cell_type": "code",
   "execution_count": 7,
   "metadata": {},
   "outputs": [
    {
     "name": "stdout",
     "output_type": "stream",
     "text": [
      "the english language is spoken in the republic of ireland .\r\n",
      "author was born in burbank , california .\r\n",
      "the parent company of wiley - blackwell is macmillan publishers .\r\n",
      "a glastonbury romance was written by author .\r\n",
      "lahore is in the united states .\r\n",
      "the parent company of wiley - blackwell is parentcompany .\r\n",
      "asian americans are an ethnic group in the united states .\r\n",
      "english is the language of the united states .\r\n",
      "a glastonbury romance was preceded by precededby .\r\n",
      "the manager of a . c . chievo verona is rolando maran .\r\n"
     ]
    }
   ],
   "source": [
    "!head -100 ../evaluation/webnlg2017/webnlg-automatic-evaluation/teams/Baseline_all-cat.txt | tail -10"
   ]
  },
  {
   "cell_type": "code",
   "execution_count": 10,
   "metadata": {},
   "outputs": [
    {
     "name": "stdout",
     "output_type": "stream",
     "text": [
      "BLEU = 33.24, 65.4/42.3/31.8/24.8 (BP=0.865, ratio=0.873, hyp_len=35312, ref_len=40435)\n"
     ]
    }
   ],
   "source": [
    "!../evaluation/webnlg2017/webnlg-baseline-master/multi-bleu.perl -lc ../evaluation/webnlg2017/webnlg-automatic-evaluation/references/gold-all-cat-reference0.lex ../evaluation/webnlg2017/webnlg-automatic-evaluation/references/gold-all-cat-reference1.lex ../evaluation/webnlg2017/webnlg-automatic-evaluation/references/gold-all-cat-reference2.lex < ../evaluation/webnlg2017/webnlg-automatic-evaluation/teams/Baseline_all-cat.txt"
   ]
  },
  {
   "cell_type": "markdown",
   "metadata": {},
   "source": [
    "## Adapt\n",
    "\n",
    "<a href=\"../data/webnlg2017/submissions/adaptCenter/WebNLG_system.pdf\">report</a>"
   ]
  },
  {
   "cell_type": "code",
   "execution_count": 8,
   "metadata": {},
   "outputs": [
    {
     "name": "stdout",
     "output_type": "stream",
     "text": [
      "the novel castle is the language spoken in the english language .\r\n",
      "eric flint was born in burbank , california .\r\n",
      "macmillan publishers is the parent company of farrar , straus and giroux .\r\n",
      "a glastonbury romance is the notable work of john cowper powys .\r\n",
      "soho press is located in the united states .\r\n",
      "the novel the secret scriptures , is published by faber and faber .\r\n",
      "asian americans are an ethnic group in the u . s .\r\n",
      "english is the language of the united states .\r\n",
      "a glastonbury romance is the sequel to weymouth sands .\r\n",
      "the manager of a . c . chievo verona is rolando maran .\r\n"
     ]
    }
   ],
   "source": [
    "!head -100 ../evaluation/webnlg2017/webnlg-automatic-evaluation/teams/ADAPT_Centre_all-cat.txt | tail -10"
   ]
  },
  {
   "cell_type": "code",
   "execution_count": 11,
   "metadata": {},
   "outputs": [
    {
     "name": "stdout",
     "output_type": "stream",
     "text": [
      "BLEU = 31.06, 54.9/35.7/25.3/18.7 (BP=1.000, ratio=1.337, hyp_len=59727, ref_len=44663)\n"
     ]
    }
   ],
   "source": [
    "!../evaluation/webnlg2017/webnlg-baseline-master/multi-bleu.perl -lc ../evaluation/webnlg2017/webnlg-automatic-evaluation/references/gold-all-cat-reference0.lex ../evaluation/webnlg2017/webnlg-automatic-evaluation/references/gold-all-cat-reference1.lex ../evaluation/webnlg2017/webnlg-automatic-evaluation/references/gold-all-cat-reference2.lex < ../evaluation/webnlg2017/webnlg-automatic-evaluation/teams/ADAPT_Centre_all-cat.txt"
   ]
  },
  {
   "cell_type": "markdown",
   "metadata": {},
   "source": [
    "## UIT-VNU\n",
    "\n",
    "<a href=\"../data/webnlg2017/submissions/uit-danglt-clnlp/Phong-Nguyen-Tran_Dang-Tuan-Nguyen.docx\">report</a>"
   ]
  },
  {
   "cell_type": "code",
   "execution_count": 9,
   "metadata": {},
   "outputs": [
    {
     "name": "stdout",
     "output_type": "stream",
     "text": [
      "english language is one of the languages that is spoken in castle ( novel ) .\r\n",
      "the birth place of eric flint is burbank , california .\r\n",
      "macmillan publishers is the parent company of the farrar , straus and giroux .\r\n",
      "null\r\n",
      "soho press is located within the country of the united states .\r\n",
      "the book the secret scripture was published by faber and faber .\r\n",
      "asian americans are part of one of the ethnic groups in the united states .\r\n",
      "english language is one of the languages that is spoken in united states .\r\n",
      "a glastonbury romance was written prior to weymouth sands .\r\n",
      "rolando maran is the manager of the a . c . chievo verona .\r\n"
     ]
    }
   ],
   "source": [
    "!head -100 ../evaluation/webnlg2017/webnlg-automatic-evaluation/teams/UIT-DANGNT-CLNLP_all-cat.txt | tail -10"
   ]
  },
  {
   "cell_type": "code",
   "execution_count": 12,
   "metadata": {},
   "outputs": [
    {
     "name": "stdout",
     "output_type": "stream",
     "text": [
      "BLEU = 7.07, 67.5/54.4/39.5/29.2 (BP=0.156, ratio=0.350, hyp_len=11219, ref_len=32072)\n"
     ]
    }
   ],
   "source": [
    "!../evaluation/webnlg2017/webnlg-baseline-master/multi-bleu.perl -lc ../evaluation/webnlg2017/webnlg-automatic-evaluation/references/gold-all-cat-reference0.lex ../evaluation/webnlg2017/webnlg-automatic-evaluation/references/gold-all-cat-reference1.lex ../evaluation/webnlg2017/webnlg-automatic-evaluation/references/gold-all-cat-reference2.lex < ../evaluation/webnlg2017/webnlg-automatic-evaluation/teams/UIT-DANGNT-CLNLP_all-cat.txt"
   ]
  },
  {
   "cell_type": "markdown",
   "metadata": {},
   "source": [
    "# METEOR"
   ]
  },
  {
   "cell_type": "markdown",
   "metadata": {},
   "source": [
    "http://www.cs.cmu.edu/~alavie/METEOR/\n",
    "\n",
    "Download meteor-1.5 and unpack into ../evaluation/webnlg2017/\n",
    "\n",
    "The jar path must be ../evaluation/webnlg2017/meteor-1.5/meteor-1.5.jar"
   ]
  },
  {
   "cell_type": "markdown",
   "metadata": {},
   "source": [
    "## Results"
   ]
  },
  {
   "cell_type": "markdown",
   "metadata": {},
   "source": [
    "From: <a href=\"../paper/webnlg2017/The WebNLG Challenge -  Generating Text from RDF Data.pdf\">The WebNLG Challenge - Generating Text from RDF Data</a>\n",
    "\n",
    "<img src='../img/meteor_result.jpg' />"
   ]
  },
  {
   "cell_type": "markdown",
   "metadata": {},
   "source": [
    "## UPF-FORGe\n",
    "\n",
    "<a href=\"../data/webnlg2017/submissions/upf/WebNLG_V0.2.pdf\">report</a>"
   ]
  },
  {
   "cell_type": "code",
   "execution_count": 5,
   "metadata": {},
   "outputs": [
    {
     "name": "stdout",
     "output_type": "stream",
     "text": [
      "Test words:             47234\r\n",
      "Reference words:        42200\r\n",
      "Chunks:                 14422\r\n",
      "Precision:              0.7391270509045015\r\n",
      "Recall:                 0.8031416242379965\r\n",
      "f1:                     0.7698058188555684\r\n",
      "fMean:                  0.7928416187351017\r\n",
      "Fragmentation penalty:  0.5067403511305503\r\n",
      "\r\n",
      "Final score:            0.3910767784663624\r\n"
     ]
    }
   ],
   "source": [
    "!java -Xmx2G -jar ../evaluation/webnlg2017/meteor-1.5/meteor-1.5.jar ../evaluation/webnlg2017/webnlg-automatic-evaluation/teams/UPF-TALN_all-cat.txt ../evaluation/webnlg2017/webnlg-automatic-evaluation/references/gold-all-cat-reference-3ref.meteor -l en -norm -r 3 -a ../evaluation/webnlg2017/meteor-1.5/data/paraphrase-en.gz | tail -10"
   ]
  },
  {
   "cell_type": "markdown",
   "metadata": {},
   "source": [
    "## Tilb-SMT\n",
    "\n",
    "<a href=\"../data/webnlg2017/submissions/tilburg/report.pdf\">report</a>"
   ]
  },
  {
   "cell_type": "code",
   "execution_count": 6,
   "metadata": {},
   "outputs": [
    {
     "name": "stdout",
     "output_type": "stream",
     "text": [
      "Test words:             42193\r\n",
      "Reference words:        42317\r\n",
      "Chunks:                 11454\r\n",
      "Precision:              0.6986051446343317\r\n",
      "Recall:                 0.7644854923281655\r\n",
      "f1:                     0.7300620815229181\r\n",
      "fMean:                  0.7538223701991189\r\n",
      "Fragmentation penalty:  0.49528804709412466\r\n",
      "\r\n",
      "Final score:            0.38046316060733304\r\n"
     ]
    }
   ],
   "source": [
    "!java -Xmx2G -jar ../evaluation/webnlg2017/meteor-1.5/meteor-1.5.jar ../evaluation/webnlg2017/webnlg-automatic-evaluation/teams/Tilburg_University-2_all-cat.txt ../evaluation/webnlg2017/webnlg-automatic-evaluation/references/gold-all-cat-reference-3ref.meteor -l en -norm -r 3 -a ../evaluation/webnlg2017/meteor-1.5/data/paraphrase-en.gz | tail -10"
   ]
  },
  {
   "cell_type": "markdown",
   "metadata": {},
   "source": [
    "## Melbourne\n",
    "\n",
    "<a href=\"../data/webnlg2017/submissions/melbourne/WebNLG Challenge - Bayu Distiawan T.pdf\">report</a>"
   ]
  },
  {
   "cell_type": "code",
   "execution_count": 7,
   "metadata": {},
   "outputs": [
    {
     "name": "stdout",
     "output_type": "stream",
     "text": [
      "Test words:             40666\r\n",
      "Reference words:        42030\r\n",
      "Chunks:                 12139\r\n",
      "Precision:              0.7721945285853984\r\n",
      "Recall:                 0.7449236133412855\r\n",
      "f1:                     0.7583139671715875\r\n",
      "fMean:                  0.7488908010393752\r\n",
      "Fragmentation penalty:  0.497395080474511\r\n",
      "\r\n",
      "Final score:            0.3763962007897742\r\n"
     ]
    }
   ],
   "source": [
    "!java -Xmx2G -jar ../evaluation/webnlg2017/meteor-1.5/meteor-1.5.jar ../evaluation/webnlg2017/webnlg-automatic-evaluation/teams/GKB_Unimelb_all-cat.txt ../evaluation/webnlg2017/webnlg-automatic-evaluation/references/gold-all-cat-reference-3ref.meteor -l en -norm -r 3 -a ../evaluation/webnlg2017/meteor-1.5/data/paraphrase-en.gz | tail -10"
   ]
  },
  {
   "cell_type": "markdown",
   "metadata": {},
   "source": [
    "## Tilb-NMT\n",
    "\n",
    "<a href=\"../data/webnlg2017/submissions/tilburg/report.pdf\">report</a>"
   ]
  },
  {
   "cell_type": "code",
   "execution_count": 8,
   "metadata": {},
   "outputs": [
    {
     "name": "stdout",
     "output_type": "stream",
     "text": [
      "Test words:             45605\r\n",
      "Reference words:        42143\r\n",
      "Chunks:                 13486\r\n",
      "Precision:              0.6629704974017897\r\n",
      "Recall:                 0.7226106746263194\r\n",
      "f1:                     0.6915070268797431\r\n",
      "fMean:                  0.7129896963141423\r\n",
      "Fragmentation penalty:  0.510814499480972\r\n",
      "\r\n",
      "Final score:            0.34878422145634347\r\n"
     ]
    }
   ],
   "source": [
    "!java -Xmx2G -jar ../evaluation/webnlg2017/meteor-1.5/meteor-1.5.jar ../evaluation/webnlg2017/webnlg-automatic-evaluation/teams/Tilburg_University-1_all-cat.txt ../evaluation/webnlg2017/webnlg-automatic-evaluation/references/gold-all-cat-reference-3ref.meteor -l en -norm -r 3 -a ../evaluation/webnlg2017/meteor-1.5/data/paraphrase-en.gz | tail -10"
   ]
  },
  {
   "cell_type": "markdown",
   "metadata": {},
   "source": [
    "## Adapt\n",
    "\n",
    "<a href=\"../data/webnlg2017/submissions/adaptCenter/WebNLG_system.pdf\">report</a>"
   ]
  },
  {
   "cell_type": "code",
   "execution_count": 9,
   "metadata": {},
   "outputs": [
    {
     "name": "stdout",
     "output_type": "stream",
     "text": [
      "Test words:             59727\r\n",
      "Reference words:        43177\r\n",
      "Chunks:                 13045\r\n",
      "Precision:              0.5086640217307478\r\n",
      "Recall:                 0.6676700499074749\r\n",
      "f1:                     0.5774205490828529\r\n",
      "fMean:                  0.6377656591777211\r\n",
      "Fragmentation penalty:  0.5045522048796571\r\n",
      "\r\n",
      "Final score:            0.315979589643074\r\n"
     ]
    }
   ],
   "source": [
    "!java -Xmx2G -jar ../evaluation/webnlg2017/meteor-1.5/meteor-1.5.jar ../evaluation/webnlg2017/webnlg-automatic-evaluation/teams/ADAPT_Centre_all-cat.txt ../evaluation/webnlg2017/webnlg-automatic-evaluation/references/gold-all-cat-reference-3ref.meteor -l en -norm -r 3 -a ../evaluation/webnlg2017/meteor-1.5/data/paraphrase-en.gz | tail -10"
   ]
  },
  {
   "cell_type": "markdown",
   "metadata": {},
   "source": [
    "## PKUWriter\n",
    "\n",
    "<a href=\"../data/webnlg2017/submissions/pkuwriter/PKUWriter_system.pdf\">report</a>"
   ]
  },
  {
   "cell_type": "code",
   "execution_count": 10,
   "metadata": {},
   "outputs": [
    {
     "name": "stdout",
     "output_type": "stream",
     "text": [
      "Test words:             38248\r\n",
      "Reference words:        42618\r\n",
      "Chunks:                 11252\r\n",
      "Precision:              0.7107364891009933\r\n",
      "Recall:                 0.6261925845196739\r\n",
      "f1:                     0.6657913688978063\r\n",
      "fMean:                  0.6375686451682541\r\n",
      "Fragmentation penalty:  0.5021382567514663\r\n",
      "\r\n",
      "Final score:            0.3174210371240728\r\n"
     ]
    }
   ],
   "source": [
    "!java -Xmx2G -jar ../evaluation/webnlg2017/meteor-1.5/meteor-1.5.jar ../evaluation/webnlg2017/webnlg-automatic-evaluation/teams/PKUWriter_all-cat.txt ../evaluation/webnlg2017/webnlg-automatic-evaluation/references/gold-all-cat-reference-3ref.meteor -l en -norm -r 3 -a ../evaluation/webnlg2017/meteor-1.5/data/paraphrase-en.gz | tail -10"
   ]
  },
  {
   "cell_type": "markdown",
   "metadata": {},
   "source": [
    "## Tilb-Pipeline\n",
    "\n",
    "<a href=\"../data/webnlg2017/submissions/tilburg/report.pdf\">report</a>"
   ]
  },
  {
   "cell_type": "code",
   "execution_count": 11,
   "metadata": {},
   "outputs": [
    {
     "name": "stdout",
     "output_type": "stream",
     "text": [
      "Test words:             30335\r\n",
      "Reference words:        41846\r\n",
      "Chunks:                 9683\r\n",
      "Precision:              0.7952671826196668\r\n",
      "Recall:                 0.5943403590944575\r\n",
      "f1:                     0.6802775153496506\r\n",
      "fMean:                  0.6177519115958529\r\n",
      "Fragmentation penalty:  0.500867362329304\r\n",
      "\r\n",
      "Final score:            0.3083401410609527\r\n"
     ]
    }
   ],
   "source": [
    "!java -Xmx2G -jar ../evaluation/webnlg2017/meteor-1.5/meteor-1.5.jar ../evaluation/webnlg2017/webnlg-automatic-evaluation/teams/Tilburg_University-3_all-cat.txt ../evaluation/webnlg2017/webnlg-automatic-evaluation/references/gold-all-cat-reference-3ref.meteor -l en -norm -r 3 -a ../evaluation/webnlg2017/meteor-1.5/data/paraphrase-en.gz | tail -10"
   ]
  },
  {
   "cell_type": "markdown",
   "metadata": {},
   "source": [
    "## Baseline"
   ]
  },
  {
   "cell_type": "code",
   "execution_count": 12,
   "metadata": {},
   "outputs": [
    {
     "name": "stdout",
     "output_type": "stream",
     "text": [
      "Test words:             35326\r\n",
      "Reference words:        42886\r\n",
      "Chunks:                 9941\r\n",
      "Precision:              0.5854253097193214\r\n",
      "Recall:                 0.4659432085368059\r\n",
      "f1:                     0.5188950257360138\r\n",
      "fMean:                  0.48065816355637425\r\n",
      "Fragmentation penalty:  0.5101800648231838\r\n",
      "\r\n",
      "Final score:            0.23543595051539076\r\n"
     ]
    }
   ],
   "source": [
    "!java -Xmx2G -jar ../evaluation/webnlg2017/meteor-1.5/meteor-1.5.jar ../evaluation/webnlg2017/webnlg-automatic-evaluation/teams/Baseline_all-cat.txt ../evaluation/webnlg2017/webnlg-automatic-evaluation/references/gold-all-cat-reference-3ref.meteor -l en -norm -r 3 -a ../evaluation/webnlg2017/meteor-1.5/data/paraphrase-en.gz | tail -10"
   ]
  },
  {
   "cell_type": "markdown",
   "metadata": {},
   "source": [
    "## UIT-VNU\n",
    "\n",
    "<a href=\"../data/webnlg2017/submissions/uit-danglt-clnlp/Phong-Nguyen-Tran_Dang-Tuan-Nguyen.docx\">report</a>"
   ]
  },
  {
   "cell_type": "code",
   "execution_count": 13,
   "metadata": {},
   "outputs": [
    {
     "name": "stdout",
     "output_type": "stream",
     "text": [
      "Test words:             11219\r\n",
      "Reference words:        43444\r\n",
      "Chunks:                 2534\r\n",
      "Precision:              0.638817898022893\r\n",
      "Recall:                 0.1714209246827397\r\n",
      "f1:                     0.2703073506581485\r\n",
      "fMean:                  0.1925534492216448\r\n",
      "Fragmentation penalty:  0.4847845962347004\r\n",
      "\r\n",
      "Final score:            0.09920650308713085\r\n"
     ]
    }
   ],
   "source": [
    "!java -Xmx2G -jar ../evaluation/webnlg2017/meteor-1.5/meteor-1.5.jar ../evaluation/webnlg2017/webnlg-automatic-evaluation/teams/UIT-DANGNT-CLNLP_all-cat.txt ../evaluation/webnlg2017/webnlg-automatic-evaluation/references/gold-all-cat-reference-3ref.meteor -l en -norm -r 3 -a ../evaluation/webnlg2017/meteor-1.5/data/paraphrase-en.gz | tail -10"
   ]
  },
  {
   "cell_type": "markdown",
   "metadata": {},
   "source": [
    "# My models"
   ]
  },
  {
   "cell_type": "code",
   "execution_count": 2,
   "metadata": {},
   "outputs": [],
   "source": [
    "models = !ls -R -d ../tmp/**/*\n",
    "\n",
    "models = [m for m in models if m.endswith('_all-cat.txt')]"
   ]
  },
  {
   "cell_type": "code",
   "execution_count": 3,
   "metadata": {},
   "outputs": [
    {
     "name": "stdout",
     "output_type": "stream",
     "text": [
      "../tmp/4 - Baseline - Just join triples_c952c4774651e01f72450b3ac8ebcde98ab9f157/4 - Baseline - Just join triples_c952c4774651e01f72450b3ac8ebcde98ab9f157_all-cat.txt\n",
      "BLEU = 24.83, 64.6/36.0/19.5/11.2 (BP=0.930, ratio=0.932, hyp_len=38801, ref_len=41636)\n",
      "Final score:            0.33796981192245906\n",
      "\n",
      "../tmp/5 - Model - Template Based - roots_310dd152c335dfb79d9d63de09095d7f70ce7c7c/5 - Model - Template Based - roots_310dd152c335dfb79d9d63de09095d7f70ce7c7c0_all-cat.txt\n",
      "BLEU = 36.97, 70.8/45.1/29.9/19.6 (BP=1.000, ratio=1.138, hyp_len=52032, ref_len=45719)\n",
      "Final score:            0.3920785470630326\n",
      "\n",
      "../tmp/5 - Model - Template Based - roots_310dd152c335dfb79d9d63de09095d7f70ce7c7c/5 - Model - Template Based - roots_310dd152c335dfb79d9d63de09095d7f70ce7c7c1_all-cat.txt\n",
      "BLEU = 38.57, 73.4/47.3/31.2/20.5 (BP=1.000, ratio=1.097, hyp_len=49259, ref_len=44910)\n",
      "Final score:            0.3983897243681605\n",
      "\n",
      "../tmp/5 - Model - Template Based - roots_310dd152c335dfb79d9d63de09095d7f70ce7c7c/5 - Model - Template Based - roots_310dd152c335dfb79d9d63de09095d7f70ce7c7c2_all-cat.txt\n",
      "BLEU = 38.94, 74.1/47.8/31.4/20.7 (BP=1.000, ratio=1.085, hyp_len=48519, ref_len=44714)\n",
      "Final score:            0.39807510827435183\n",
      "\n",
      "../tmp/5 - Model - Template Based - roots_310dd152c335dfb79d9d63de09095d7f70ce7c7c/5 - Model - Template Based - roots_310dd152c335dfb79d9d63de09095d7f70ce7c7c3_all-cat.txt\n",
      "BLEU = 32.02, 65.7/39.7/25.3/16.0 (BP=1.000, ratio=1.175, hyp_len=53718, ref_len=45703)\n",
      "Final score:            0.3659873008017573\n",
      "\n",
      "../tmp/5 - Model - Template Based - roots_310dd152c335dfb79d9d63de09095d7f70ce7c7c/5 - Model - Template Based - roots_310dd152c335dfb79d9d63de09095d7f70ce7c7c4_all-cat.txt\n",
      "BLEU = 33.33, 68.4/41.6/26.2/16.6 (BP=1.000, ratio=1.129, hyp_len=50663, ref_len=44889)\n",
      "Final score:            0.3720786393385922\n",
      "\n",
      "../tmp/5 - Model - Template Based - roots_310dd152c335dfb79d9d63de09095d7f70ce7c7c/5 - Model - Template Based - roots_310dd152c335dfb79d9d63de09095d7f70ce7c7c5_all-cat.txt\n",
      "BLEU = 33.80, 69.2/42.2/26.5/16.9 (BP=1.000, ratio=1.113, hyp_len=49718, ref_len=44672)\n",
      "Final score:            0.3722986646245116\n",
      "\n",
      "../tmp/5 - Model - Template Based - roots_310dd152c335dfb79d9d63de09095d7f70ce7c7c/5 - Model - Template Based - roots_310dd152c335dfb79d9d63de09095d7f70ce7c7c6_all-cat.txt\n",
      "BLEU = 39.40, 74.6/48.1/32.1/20.9 (BP=1.000, ratio=1.061, hyp_len=47444, ref_len=44702)\n",
      "Final score:            0.3917925849246384\n",
      "\n",
      "../tmp/5 - Model - Template Based - roots_310dd152c335dfb79d9d63de09095d7f70ce7c7c/5 - Model - Template Based - roots_310dd152c335dfb79d9d63de09095d7f70ce7c7c7_all-cat.txt\n",
      "BLEU = 40.52, 76.6/49.8/32.9/21.5 (BP=1.000, ratio=1.030, hyp_len=45505, ref_len=44163)\n",
      "Final score:            0.3969641269178021\n",
      "\n",
      "../tmp/5 - Model - Template Based - roots_310dd152c335dfb79d9d63de09095d7f70ce7c7c/5 - Model - Template Based - roots_310dd152c335dfb79d9d63de09095d7f70ce7c7c8_all-cat.txt\n",
      "BLEU = 40.84, 77.2/50.2/33.1/21.7 (BP=1.000, ratio=1.021, hyp_len=44946, ref_len=44016)\n",
      "Final score:            0.3967378857763312\n",
      "\n",
      "../tmp/5 - Model - Template Based - roots_9c17c33ef5d01be49d733d80c2fca2e8708bc9e2/5 - Model - Template Based - roots_9c17c33ef5d01be49d733d80c2fca2e8708bc9e2_all-cat.txt\n",
      "BLEU = 39.89, 75.3/49.0/32.3/21.2 (BP=1.000, ratio=1.068, hyp_len=47712, ref_len=44677)\n",
      "Final score:            0.40124136053623805\n",
      "\n",
      "../tmp/5 - Model - Template Based - roots_c952c4774651e01f72450b3ac8ebcde98ab9f157/5 - Model - Template Based - roots_c952c4774651e01f72450b3ac8ebcde98ab9f157_all-cat.txt\n",
      "BLEU = 39.89, 75.3/49.0/32.3/21.2 (BP=1.000, ratio=1.068, hyp_len=47712, ref_len=44677)\n",
      "Final score:            0.40124136053623805\n",
      "\n",
      "../tmp/scikit-learn/scikit-learn_all-cat.txt\n",
      "BLEU = 25.45, 74.0/44.0/25.4/15.0 (BP=0.763, ratio=0.787, hyp_len=30926, ref_len=39274)\n",
      "Final score:            0.31858919899090316\n",
      "\n"
     ]
    }
   ],
   "source": [
    "for model in models:\n",
    "    \n",
    "    print(model)\n",
    "    \n",
    "    !../evaluation/webnlg2017/webnlg-baseline-master/multi-bleu.perl -lc ../evaluation/webnlg2017/webnlg-automatic-evaluation/references/gold-all-cat-reference0.lex ../evaluation/webnlg2017/webnlg-automatic-evaluation/references/gold-all-cat-reference1.lex ../evaluation/webnlg2017/webnlg-automatic-evaluation/references/gold-all-cat-reference2.lex < \"$model\"\n",
    "    \n",
    "    !java -Xmx2G -jar ../evaluation/webnlg2017/meteor-1.5/meteor-1.5.jar \"$model\" ../evaluation/webnlg2017/webnlg-automatic-evaluation/references/gold-all-cat-reference-3ref.meteor -l en -norm -r 3 -a ../evaluation/webnlg2017/meteor-1.5/data/paraphrase-en.gz | tail -1\n",
    "    \n",
    "    print()"
   ]
  }
 ],
 "metadata": {
  "kernelspec": {
   "display_name": "Python 3",
   "language": "python",
   "name": "python3"
  },
  "language_info": {
   "codemirror_mode": {
    "name": "ipython",
    "version": 3
   },
   "file_extension": ".py",
   "mimetype": "text/x-python",
   "name": "python",
   "nbconvert_exporter": "python",
   "pygments_lexer": "ipython3",
   "version": "3.6.7"
  }
 },
 "nbformat": 4,
 "nbformat_minor": 2
}
