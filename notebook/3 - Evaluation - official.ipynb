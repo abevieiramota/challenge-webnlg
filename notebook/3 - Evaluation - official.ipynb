{
 "cells": [
  {
   "cell_type": "code",
   "execution_count": 4,
   "metadata": {},
   "outputs": [],
   "source": [
    "from textacy.preprocess import preprocess_text\n",
    "\n",
    "def preprocess(ref):\n",
    "    \n",
    "    return preprocess_text(ref, \n",
    "                           # replace accenteds with unaccented versions\n",
    "                           no_accents=True,\n",
    "                           # lowercase\n",
    "                           lowercase=True, \n",
    "                           # replace punctuation with empty string\n",
    "                           no_punct=True)"
   ]
  },
  {
   "cell_type": "code",
   "execution_count": 2,
   "metadata": {},
   "outputs": [],
   "source": [
    "SUBMISSION_FILEPATHS = [\n",
    "    \"../data/webnlg2017/submissions/melbourne/final_result.txt\",\n",
    "    \"../data/webnlg2017/submissions/tilburg/smt_test.out.ordered\",\n",
    "    \"../data/webnlg2017/submissions/pkuwriter/PKUWriter_results.txt\",\n",
    "    \"../data/webnlg2017/submissions/upf/UPF_All_sent_final.txt\",\n",
    "    \"../data/webnlg2017/submissions/tilburg/template_test.out.ordered\",\n",
    "    \"../data/webnlg2017/submissions/tilburg/nmt_test.out.ordered\",\n",
    "    \"../data/webnlg2017/submissions/baseline_sorted.txt\",\n",
    "    \"../data/webnlg2017/submissions/adaptCenter/ADAPTcentreWebNLGsubmission.txt\",\n",
    "    \"../data/webnlg2017/submissions/uit-danglt-clnlp/Submission-UIT-DANGNT-CLNLP.txt\"\n",
    "]"
   ]
  },
  {
   "cell_type": "markdown",
   "metadata": {},
   "source": [
    "# BLEU"
   ]
  },
  {
   "cell_type": "markdown",
   "metadata": {},
   "source": [
    "https://github.com/moses-smt/mosesdecoder/blob/master/scripts/generic/multi-bleu.perl"
   ]
  },
  {
   "cell_type": "code",
   "execution_count": 17,
   "metadata": {},
   "outputs": [
    {
     "name": "stdout",
     "output_type": "stream",
     "text": [
      "The WebNLG Challenge - Generating Text from DBPedia Data.pdf\n",
      "The WebNLG Challenge -  Generating Text from RDF Data.pdf\n",
      "WebNLG Challenge - Human Evaluation.pdf\n"
     ]
    }
   ],
   "source": [
    "!ls ../paper/webnlg2017/"
   ]
  },
  {
   "cell_type": "markdown",
   "metadata": {},
   "source": [
    "## Results\n",
    "\n",
    "From: <a href=\"../paper/webnlg2017/The WebNLG Challenge -  Generating Text from RDF Data.pdf\">The WebNLG Challenge - Generating Text from RDF Data</a>\n",
    "\n",
    "<img src='../img/bleu_result.jpg' />"
   ]
  },
  {
   "cell_type": "markdown",
   "metadata": {},
   "source": [
    "## Melbourne\n",
    "\n",
    "<a href=\"../data/webnlg2017/submissions/melbourne/WebNLG Challenge - Bayu Distiawan T.pdf\">report</a>"
   ]
  },
  {
   "cell_type": "code",
   "execution_count": 1,
   "metadata": {},
   "outputs": [
    {
     "name": "stdout",
     "output_type": "stream",
     "text": [
      "BLEU = 45.13, 79.9/55.4/38.8/27.4 (BP=0.969, ratio=0.969, hyp_len=40642, ref_len=41921)\n"
     ]
    }
   ],
   "source": [
    "!../evaluation/webnlg2017/webnlg-baseline-master/multi-bleu.perl -lc ../evaluation/webnlg2017/webnlg-automatic-evaluation/references/gold-all-cat-reference0.lex ../evaluation/webnlg2017/webnlg-automatic-evaluation/references/gold-all-cat-reference1.lex ../evaluation/webnlg2017/webnlg-automatic-evaluation/references/gold-all-cat-reference2.lex < ../evaluation/webnlg2017/webnlg-automatic-evaluation/teams/GKB_Unimelb_all-cat.txt"
   ]
  },
  {
   "cell_type": "code",
   "execution_count": 3,
   "metadata": {},
   "outputs": [
    {
     "name": "stdout",
     "output_type": "stream",
     "text": [
      "castle is english language .\r\n",
      "eric flint was born in burbank , california .\r\n",
      "macmillan publishers is the parent company of farrar , straus and giroux .\r\n",
      "john cowper powys was a glastonbury romance .\r\n",
      "soho press is in united states .\r\n",
      "the secret scripture was published by faber and faber .\r\n",
      "asian americans are an ethnic group in united states .\r\n",
      "english language is spoken in united states .\r\n",
      "weymouth sands was preceded by a glastonbury romance .\r\n",
      "the manager of a . c . chievo verona is rolando maran .\r\n"
     ]
    }
   ],
   "source": [
    "!head -100 ../evaluation/webnlg2017/webnlg-automatic-evaluation/teams/GKB_Unimelb_all-cat.txt | tail -10"
   ]
  },
  {
   "cell_type": "markdown",
   "metadata": {},
   "source": [
    "## PKUWriter\n",
    "\n",
    "<a href=\"../data/webnlg2017/submissions/pkuwriter/PKUWriter_system.pdf\">report</a>"
   ]
  },
  {
   "cell_type": "code",
   "execution_count": 2,
   "metadata": {},
   "outputs": [
    {
     "name": "stdout",
     "output_type": "stream",
     "text": [
      "the novel into battle is written by the english language .\r\n",
      "john cowper powys was born in burbank , california .\r\n",
      "the parent company of the macmillan publishers press is the macmillan publishers company of the macmillan publishers .\r\n",
      "the novel owen glendower is a notable work by john cowper powys .\r\n",
      "soho press is located in united states .\r\n",
      "the polish academy for writtenwork is referencenumber _ in _ the _ national _ register _ of _ historic _ places .\r\n",
      "asian americans are an ethnic group in the united states .\r\n",
      "english is the language spoken in the united states .\r\n",
      "the novel into battle is preceded by a glastonbury romance .\r\n",
      "rolando maran manages the a . c . chievo verona .\r\n"
     ]
    }
   ],
   "source": [
    "!head -100 ../evaluation/webnlg2017/webnlg-automatic-evaluation/teams/PKUWriter_all-cat.txt | tail -10"
   ]
  },
  {
   "cell_type": "code",
   "execution_count": 5,
   "metadata": {},
   "outputs": [
    {
     "name": "stdout",
     "output_type": "stream",
     "text": [
      "BLEU = 39.88, 73.9/49.9/35.6/26.0 (BP=0.927, ratio=0.930, hyp_len=38248, ref_len=41143)\n"
     ]
    }
   ],
   "source": [
    "!../evaluation/webnlg2017/webnlg-baseline-master/multi-bleu.perl -lc ../evaluation/webnlg2017/webnlg-automatic-evaluation/references/gold-all-cat-reference0.lex ../evaluation/webnlg2017/webnlg-automatic-evaluation/references/gold-all-cat-reference1.lex ../evaluation/webnlg2017/webnlg-automatic-evaluation/references/gold-all-cat-reference2.lex < ../evaluation/webnlg2017/webnlg-automatic-evaluation/teams/PKUWriter_all-cat.txt"
   ]
  },
  {
   "cell_type": "markdown",
   "metadata": {},
   "source": [
    "## UPF-FORGe\n",
    "\n",
    "<a href=\"../data/webnlg2017/submissions/upf/WebNLG_V0.2.pdf\">report</a>"
   ]
  },
  {
   "cell_type": "code",
   "execution_count": 4,
   "metadata": {},
   "outputs": [
    {
     "name": "stdout",
     "output_type": "stream",
     "text": [
      "the english language is spoken in castle ( novel ) .\r\n",
      "eric flint was born in burbank ( california ) .\r\n",
      "the parent company of farrar , straus and giroux is macmillan publishers .\r\n",
      "a glastonbury romance wrote john cowper powys .\r\n",
      "soho press is published in the united states .\r\n",
      "the publisher of the secret scripture is faber and faber .\r\n",
      "a ethnic group of the united states are asian americans .\r\n",
      "the english language is spoken in the united states .\r\n",
      "weymouth sands follows a glastonbury romance .\r\n",
      "rolando maran is the manager of a . c . chievo verona .\r\n"
     ]
    }
   ],
   "source": [
    "!head -100 ../evaluation/webnlg2017/webnlg-automatic-evaluation/teams/UPF-TALN_all-cat.txt | tail -10"
   ]
  },
  {
   "cell_type": "code",
   "execution_count": 6,
   "metadata": {},
   "outputs": [
    {
     "name": "stdout",
     "output_type": "stream",
     "text": [
      "BLEU = 38.65, 75.5/48.7/31.1/19.5 (BP=1.000, ratio=1.064, hyp_len=47234, ref_len=44405)\n"
     ]
    }
   ],
   "source": [
    "!../evaluation/webnlg2017/webnlg-baseline-master/multi-bleu.perl -lc ../evaluation/webnlg2017/webnlg-automatic-evaluation/references/gold-all-cat-reference0.lex ../evaluation/webnlg2017/webnlg-automatic-evaluation/references/gold-all-cat-reference1.lex ../evaluation/webnlg2017/webnlg-automatic-evaluation/references/gold-all-cat-reference2.lex < ../evaluation/webnlg2017/webnlg-automatic-evaluation/teams/UPF-TALN_all-cat.txt"
   ]
  },
  {
   "cell_type": "markdown",
   "metadata": {},
   "source": [
    "## Tilb-Pipeline\n",
    "\n",
    "<a href=\"../data/webnlg2017/submissions/tilburg/report.pdf\">report</a>"
   ]
  },
  {
   "cell_type": "code",
   "execution_count": 5,
   "metadata": {},
   "outputs": [
    {
     "name": "stdout",
     "output_type": "stream",
     "text": [
      "castle is in english .\r\n",
      "eric flint was born in burbank , california .\r\n",
      "macmillan publishers owns farrar , straus , and giroux .\r\n",
      "a glastonbury romance is a notable work by john cowper powys .\r\n",
      "soho press is in united states .\r\n",
      "the secret scripture publisher of faber and faber .\r\n",
      "asian americans live in united states .\r\n",
      "united states is in english .\r\n",
      "weymouth sands was preceded by a glastonbury romance .\r\n",
      "rolando maran manages a . c . chievo verona .\r\n"
     ]
    }
   ],
   "source": [
    "!head -100 ../evaluation/webnlg2017/webnlg-automatic-evaluation/teams/Tilburg_University-3_all-cat.txt | tail -10"
   ]
  },
  {
   "cell_type": "code",
   "execution_count": 8,
   "metadata": {},
   "outputs": [
    {
     "name": "stdout",
     "output_type": "stream",
     "text": [
      "BLEU = 35.29, 81.8/56.6/38.8/26.5 (BP=0.755, ratio=0.781, hyp_len=30335, ref_len=38854)\n"
     ]
    }
   ],
   "source": [
    "!../evaluation/webnlg2017/webnlg-baseline-master/multi-bleu.perl -lc ../evaluation/webnlg2017/webnlg-automatic-evaluation/references/gold-all-cat-reference0.lex ../evaluation/webnlg2017/webnlg-automatic-evaluation/references/gold-all-cat-reference1.lex ../evaluation/webnlg2017/webnlg-automatic-evaluation/references/gold-all-cat-reference2.lex < ../evaluation/webnlg2017/webnlg-automatic-evaluation/teams/Tilburg_University-3_all-cat.txt"
   ]
  },
  {
   "cell_type": "markdown",
   "metadata": {},
   "source": [
    "## Tilb-NMT\n",
    "\n",
    "<a href=\"../data/webnlg2017/submissions/tilburg/report.pdf\">report</a>"
   ]
  },
  {
   "cell_type": "code",
   "execution_count": 6,
   "metadata": {},
   "outputs": [
    {
     "name": "stdout",
     "output_type": "stream",
     "text": [
      "english is the language of castle .\r\n",
      "eric flint was born in burbank , california .\r\n",
      "macmillan publishers is the parent company of farrar , straus , and giroux .\r\n",
      "a glastonbury romance is a notable work by john cowper powys .\r\n",
      "soho press is located in united states .\r\n",
      "th secret scriptures was published by faber and faber .\r\n",
      "asian americans are an ethnic group in united states .\r\n",
      "english is the language of united states .\r\n",
      "weymouth sands was preceded by a glastonbury romance .\r\n",
      "the manager of a . c . chievo verona is rolando maran .\r\n"
     ]
    }
   ],
   "source": [
    "!head -100 ../evaluation/webnlg2017/webnlg-automatic-evaluation/teams/Tilburg_University-1_all-cat.txt | tail -10"
   ]
  },
  {
   "cell_type": "code",
   "execution_count": 9,
   "metadata": {},
   "outputs": [
    {
     "name": "stdout",
     "output_type": "stream",
     "text": [
      "BLEU = 34.60, 68.8/42.7/27.5/17.7 (BP=1.000, ratio=1.054, hyp_len=45605, ref_len=43278)\n"
     ]
    }
   ],
   "source": [
    "!../evaluation/webnlg2017/webnlg-baseline-master/multi-bleu.perl -lc ../evaluation/webnlg2017/webnlg-automatic-evaluation/references/gold-all-cat-reference0.lex ../evaluation/webnlg2017/webnlg-automatic-evaluation/references/gold-all-cat-reference1.lex ../evaluation/webnlg2017/webnlg-automatic-evaluation/references/gold-all-cat-reference2.lex < ../evaluation/webnlg2017/webnlg-automatic-evaluation/teams/Tilburg_University-1_all-cat.txt"
   ]
  },
  {
   "cell_type": "markdown",
   "metadata": {},
   "source": [
    "## Baseline"
   ]
  },
  {
   "cell_type": "code",
   "execution_count": 7,
   "metadata": {},
   "outputs": [
    {
     "name": "stdout",
     "output_type": "stream",
     "text": [
      "the english language is spoken in the republic of ireland .\r\n",
      "author was born in burbank , california .\r\n",
      "the parent company of wiley - blackwell is macmillan publishers .\r\n",
      "a glastonbury romance was written by author .\r\n",
      "lahore is in the united states .\r\n",
      "the parent company of wiley - blackwell is parentcompany .\r\n",
      "asian americans are an ethnic group in the united states .\r\n",
      "english is the language of the united states .\r\n",
      "a glastonbury romance was preceded by precededby .\r\n",
      "the manager of a . c . chievo verona is rolando maran .\r\n"
     ]
    }
   ],
   "source": [
    "!head -100 ../evaluation/webnlg2017/webnlg-automatic-evaluation/teams/Baseline_all-cat.txt | tail -10"
   ]
  },
  {
   "cell_type": "code",
   "execution_count": 10,
   "metadata": {},
   "outputs": [
    {
     "name": "stdout",
     "output_type": "stream",
     "text": [
      "BLEU = 33.24, 65.4/42.3/31.8/24.8 (BP=0.865, ratio=0.873, hyp_len=35312, ref_len=40435)\n"
     ]
    }
   ],
   "source": [
    "!../evaluation/webnlg2017/webnlg-baseline-master/multi-bleu.perl -lc ../evaluation/webnlg2017/webnlg-automatic-evaluation/references/gold-all-cat-reference0.lex ../evaluation/webnlg2017/webnlg-automatic-evaluation/references/gold-all-cat-reference1.lex ../evaluation/webnlg2017/webnlg-automatic-evaluation/references/gold-all-cat-reference2.lex < ../evaluation/webnlg2017/webnlg-automatic-evaluation/teams/Baseline_all-cat.txt"
   ]
  },
  {
   "cell_type": "markdown",
   "metadata": {},
   "source": [
    "## Adapt\n",
    "\n",
    "<a href=\"../data/webnlg2017/submissions/adaptCenter/WebNLG_system.pdf\">report</a>"
   ]
  },
  {
   "cell_type": "code",
   "execution_count": 8,
   "metadata": {},
   "outputs": [
    {
     "name": "stdout",
     "output_type": "stream",
     "text": [
      "the novel castle is the language spoken in the english language .\r\n",
      "eric flint was born in burbank , california .\r\n",
      "macmillan publishers is the parent company of farrar , straus and giroux .\r\n",
      "a glastonbury romance is the notable work of john cowper powys .\r\n",
      "soho press is located in the united states .\r\n",
      "the novel the secret scriptures , is published by faber and faber .\r\n",
      "asian americans are an ethnic group in the u . s .\r\n",
      "english is the language of the united states .\r\n",
      "a glastonbury romance is the sequel to weymouth sands .\r\n",
      "the manager of a . c . chievo verona is rolando maran .\r\n"
     ]
    }
   ],
   "source": [
    "!head -100 ../evaluation/webnlg2017/webnlg-automatic-evaluation/teams/ADAPT_Centre_all-cat.txt | tail -10"
   ]
  },
  {
   "cell_type": "code",
   "execution_count": 11,
   "metadata": {},
   "outputs": [
    {
     "name": "stdout",
     "output_type": "stream",
     "text": [
      "BLEU = 31.06, 54.9/35.7/25.3/18.7 (BP=1.000, ratio=1.337, hyp_len=59727, ref_len=44663)\n"
     ]
    }
   ],
   "source": [
    "!../evaluation/webnlg2017/webnlg-baseline-master/multi-bleu.perl -lc ../evaluation/webnlg2017/webnlg-automatic-evaluation/references/gold-all-cat-reference0.lex ../evaluation/webnlg2017/webnlg-automatic-evaluation/references/gold-all-cat-reference1.lex ../evaluation/webnlg2017/webnlg-automatic-evaluation/references/gold-all-cat-reference2.lex < ../evaluation/webnlg2017/webnlg-automatic-evaluation/teams/ADAPT_Centre_all-cat.txt"
   ]
  },
  {
   "cell_type": "markdown",
   "metadata": {},
   "source": [
    "## UIT-VNU\n",
    "\n",
    "<a href=\"../data/webnlg2017/submissions/uit-danglt-clnlp/Phong-Nguyen-Tran_Dang-Tuan-Nguyen.docx\">report</a>"
   ]
  },
  {
   "cell_type": "code",
   "execution_count": 9,
   "metadata": {},
   "outputs": [
    {
     "name": "stdout",
     "output_type": "stream",
     "text": [
      "english language is one of the languages that is spoken in castle ( novel ) .\r\n",
      "the birth place of eric flint is burbank , california .\r\n",
      "macmillan publishers is the parent company of the farrar , straus and giroux .\r\n",
      "null\r\n",
      "soho press is located within the country of the united states .\r\n",
      "the book the secret scripture was published by faber and faber .\r\n",
      "asian americans are part of one of the ethnic groups in the united states .\r\n",
      "english language is one of the languages that is spoken in united states .\r\n",
      "a glastonbury romance was written prior to weymouth sands .\r\n",
      "rolando maran is the manager of the a . c . chievo verona .\r\n"
     ]
    }
   ],
   "source": [
    "!head -100 ../evaluation/webnlg2017/webnlg-automatic-evaluation/teams/UIT-DANGNT-CLNLP_all-cat.txt | tail -10"
   ]
  },
  {
   "cell_type": "code",
   "execution_count": 12,
   "metadata": {},
   "outputs": [
    {
     "name": "stdout",
     "output_type": "stream",
     "text": [
      "BLEU = 7.07, 67.5/54.4/39.5/29.2 (BP=0.156, ratio=0.350, hyp_len=11219, ref_len=32072)\n"
     ]
    }
   ],
   "source": [
    "!../evaluation/webnlg2017/webnlg-baseline-master/multi-bleu.perl -lc ../evaluation/webnlg2017/webnlg-automatic-evaluation/references/gold-all-cat-reference0.lex ../evaluation/webnlg2017/webnlg-automatic-evaluation/references/gold-all-cat-reference1.lex ../evaluation/webnlg2017/webnlg-automatic-evaluation/references/gold-all-cat-reference2.lex < ../evaluation/webnlg2017/webnlg-automatic-evaluation/teams/UIT-DANGNT-CLNLP_all-cat.txt"
   ]
  }
 ],
 "metadata": {
  "kernelspec": {
   "display_name": "Python 3",
   "language": "python",
   "name": "python3"
  },
  "language_info": {
   "codemirror_mode": {
    "name": "ipython",
    "version": 3
   },
   "file_extension": ".py",
   "mimetype": "text/x-python",
   "name": "python",
   "nbconvert_exporter": "python",
   "pygments_lexer": "ipython3",
   "version": "3.6.5"
  }
 },
 "nbformat": 4,
 "nbformat_minor": 2
}
