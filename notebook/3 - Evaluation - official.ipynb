{
 "cells": [
  {
   "cell_type": "markdown",
   "metadata": {},
   "source": [
    "# BLEU"
   ]
  },
  {
   "cell_type": "markdown",
   "metadata": {},
   "source": [
    "https://github.com/moses-smt/mosesdecoder/blob/master/scripts/generic/multi-bleu.perl"
   ]
  },
  {
   "cell_type": "markdown",
   "metadata": {},
   "source": [
    "## Results\n",
    "\n",
    "From: <a href=\"../paper/webnlg2017/The WebNLG Challenge -  Generating Text from RDF Data.pdf\">The WebNLG Challenge - Generating Text from RDF Data</a>\n",
    "\n",
    "<img src='../img/bleu_result.jpg' />"
   ]
  },
  {
   "cell_type": "markdown",
   "metadata": {},
   "source": [
    "## Melbourne\n",
    "\n",
    "<a href=\"../data/webnlg2017/submissions/melbourne/WebNLG Challenge - Bayu Distiawan T.pdf\">report</a>"
   ]
  },
  {
   "cell_type": "code",
   "execution_count": 1,
   "metadata": {},
   "outputs": [
    {
     "name": "stdout",
     "output_type": "stream",
     "text": [
      "BLEU = 45.13, 79.9/55.4/38.8/27.4 (BP=0.969, ratio=0.969, hyp_len=40642, ref_len=41921)\n"
     ]
    }
   ],
   "source": [
    "!../evaluation/webnlg2017/webnlg-baseline-master/multi-bleu.perl -lc ../evaluation/webnlg2017/webnlg-automatic-evaluation/references/gold-all-cat-reference0.lex ../evaluation/webnlg2017/webnlg-automatic-evaluation/references/gold-all-cat-reference1.lex ../evaluation/webnlg2017/webnlg-automatic-evaluation/references/gold-all-cat-reference2.lex < ../evaluation/webnlg2017/webnlg-automatic-evaluation/teams/GKB_Unimelb_all-cat.txt"
   ]
  },
  {
   "cell_type": "code",
   "execution_count": 3,
   "metadata": {},
   "outputs": [
    {
     "name": "stdout",
     "output_type": "stream",
     "text": [
      "castle is english language .\r\n",
      "eric flint was born in burbank , california .\r\n",
      "macmillan publishers is the parent company of farrar , straus and giroux .\r\n",
      "john cowper powys was a glastonbury romance .\r\n",
      "soho press is in united states .\r\n",
      "the secret scripture was published by faber and faber .\r\n",
      "asian americans are an ethnic group in united states .\r\n",
      "english language is spoken in united states .\r\n",
      "weymouth sands was preceded by a glastonbury romance .\r\n",
      "the manager of a . c . chievo verona is rolando maran .\r\n"
     ]
    }
   ],
   "source": [
    "!head -100 ../evaluation/webnlg2017/webnlg-automatic-evaluation/teams/GKB_Unimelb_all-cat.txt | tail -10"
   ]
  },
  {
   "cell_type": "markdown",
   "metadata": {},
   "source": [
    "## PKUWriter\n",
    "\n",
    "<a href=\"../data/webnlg2017/submissions/pkuwriter/PKUWriter_system.pdf\">report</a>"
   ]
  },
  {
   "cell_type": "code",
   "execution_count": 2,
   "metadata": {},
   "outputs": [
    {
     "name": "stdout",
     "output_type": "stream",
     "text": [
      "the novel into battle is written by the english language .\r\n",
      "john cowper powys was born in burbank , california .\r\n",
      "the parent company of the macmillan publishers press is the macmillan publishers company of the macmillan publishers .\r\n",
      "the novel owen glendower is a notable work by john cowper powys .\r\n",
      "soho press is located in united states .\r\n",
      "the polish academy for writtenwork is referencenumber _ in _ the _ national _ register _ of _ historic _ places .\r\n",
      "asian americans are an ethnic group in the united states .\r\n",
      "english is the language spoken in the united states .\r\n",
      "the novel into battle is preceded by a glastonbury romance .\r\n",
      "rolando maran manages the a . c . chievo verona .\r\n"
     ]
    }
   ],
   "source": [
    "!head -100 ../evaluation/webnlg2017/webnlg-automatic-evaluation/teams/PKUWriter_all-cat.txt | tail -10"
   ]
  },
  {
   "cell_type": "code",
   "execution_count": 5,
   "metadata": {},
   "outputs": [
    {
     "name": "stdout",
     "output_type": "stream",
     "text": [
      "BLEU = 39.88, 73.9/49.9/35.6/26.0 (BP=0.927, ratio=0.930, hyp_len=38248, ref_len=41143)\n"
     ]
    }
   ],
   "source": [
    "!../evaluation/webnlg2017/webnlg-baseline-master/multi-bleu.perl -lc ../evaluation/webnlg2017/webnlg-automatic-evaluation/references/gold-all-cat-reference0.lex ../evaluation/webnlg2017/webnlg-automatic-evaluation/references/gold-all-cat-reference1.lex ../evaluation/webnlg2017/webnlg-automatic-evaluation/references/gold-all-cat-reference2.lex < ../evaluation/webnlg2017/webnlg-automatic-evaluation/teams/PKUWriter_all-cat.txt"
   ]
  },
  {
   "cell_type": "markdown",
   "metadata": {},
   "source": [
    "## UPF-FORGe\n",
    "\n",
    "<a href=\"../data/webnlg2017/submissions/upf/WebNLG_V0.2.pdf\">report</a>"
   ]
  },
  {
   "cell_type": "code",
   "execution_count": 4,
   "metadata": {},
   "outputs": [
    {
     "name": "stdout",
     "output_type": "stream",
     "text": [
      "the english language is spoken in castle ( novel ) .\r\n",
      "eric flint was born in burbank ( california ) .\r\n",
      "the parent company of farrar , straus and giroux is macmillan publishers .\r\n",
      "a glastonbury romance wrote john cowper powys .\r\n",
      "soho press is published in the united states .\r\n",
      "the publisher of the secret scripture is faber and faber .\r\n",
      "a ethnic group of the united states are asian americans .\r\n",
      "the english language is spoken in the united states .\r\n",
      "weymouth sands follows a glastonbury romance .\r\n",
      "rolando maran is the manager of a . c . chievo verona .\r\n"
     ]
    }
   ],
   "source": [
    "!head -100 ../evaluation/webnlg2017/webnlg-automatic-evaluation/teams/UPF-TALN_all-cat.txt | tail -10"
   ]
  },
  {
   "cell_type": "code",
   "execution_count": 6,
   "metadata": {},
   "outputs": [
    {
     "name": "stdout",
     "output_type": "stream",
     "text": [
      "BLEU = 38.65, 75.5/48.7/31.1/19.5 (BP=1.000, ratio=1.064, hyp_len=47234, ref_len=44405)\n"
     ]
    }
   ],
   "source": [
    "!../evaluation/webnlg2017/webnlg-baseline-master/multi-bleu.perl -lc ../evaluation/webnlg2017/webnlg-automatic-evaluation/references/gold-all-cat-reference0.lex ../evaluation/webnlg2017/webnlg-automatic-evaluation/references/gold-all-cat-reference1.lex ../evaluation/webnlg2017/webnlg-automatic-evaluation/references/gold-all-cat-reference2.lex < ../evaluation/webnlg2017/webnlg-automatic-evaluation/teams/UPF-TALN_all-cat.txt"
   ]
  },
  {
   "cell_type": "markdown",
   "metadata": {},
   "source": [
    "## Tilb-Pipeline\n",
    "\n",
    "<a href=\"../data/webnlg2017/submissions/tilburg/report.pdf\">report</a>"
   ]
  },
  {
   "cell_type": "code",
   "execution_count": 5,
   "metadata": {},
   "outputs": [
    {
     "name": "stdout",
     "output_type": "stream",
     "text": [
      "castle is in english .\r\n",
      "eric flint was born in burbank , california .\r\n",
      "macmillan publishers owns farrar , straus , and giroux .\r\n",
      "a glastonbury romance is a notable work by john cowper powys .\r\n",
      "soho press is in united states .\r\n",
      "the secret scripture publisher of faber and faber .\r\n",
      "asian americans live in united states .\r\n",
      "united states is in english .\r\n",
      "weymouth sands was preceded by a glastonbury romance .\r\n",
      "rolando maran manages a . c . chievo verona .\r\n"
     ]
    }
   ],
   "source": [
    "!head -100 ../evaluation/webnlg2017/webnlg-automatic-evaluation/teams/Tilburg_University-3_all-cat.txt | tail -10"
   ]
  },
  {
   "cell_type": "code",
   "execution_count": 8,
   "metadata": {},
   "outputs": [
    {
     "name": "stdout",
     "output_type": "stream",
     "text": [
      "BLEU = 35.29, 81.8/56.6/38.8/26.5 (BP=0.755, ratio=0.781, hyp_len=30335, ref_len=38854)\n"
     ]
    }
   ],
   "source": [
    "!../evaluation/webnlg2017/webnlg-baseline-master/multi-bleu.perl -lc ../evaluation/webnlg2017/webnlg-automatic-evaluation/references/gold-all-cat-reference0.lex ../evaluation/webnlg2017/webnlg-automatic-evaluation/references/gold-all-cat-reference1.lex ../evaluation/webnlg2017/webnlg-automatic-evaluation/references/gold-all-cat-reference2.lex < ../evaluation/webnlg2017/webnlg-automatic-evaluation/teams/Tilburg_University-3_all-cat.txt"
   ]
  },
  {
   "cell_type": "markdown",
   "metadata": {},
   "source": [
    "## Tilb-NMT\n",
    "\n",
    "<a href=\"../data/webnlg2017/submissions/tilburg/report.pdf\">report</a>"
   ]
  },
  {
   "cell_type": "code",
   "execution_count": 6,
   "metadata": {},
   "outputs": [
    {
     "name": "stdout",
     "output_type": "stream",
     "text": [
      "english is the language of castle .\r\n",
      "eric flint was born in burbank , california .\r\n",
      "macmillan publishers is the parent company of farrar , straus , and giroux .\r\n",
      "a glastonbury romance is a notable work by john cowper powys .\r\n",
      "soho press is located in united states .\r\n",
      "th secret scriptures was published by faber and faber .\r\n",
      "asian americans are an ethnic group in united states .\r\n",
      "english is the language of united states .\r\n",
      "weymouth sands was preceded by a glastonbury romance .\r\n",
      "the manager of a . c . chievo verona is rolando maran .\r\n"
     ]
    }
   ],
   "source": [
    "!head -100 ../evaluation/webnlg2017/webnlg-automatic-evaluation/teams/Tilburg_University-1_all-cat.txt | tail -10"
   ]
  },
  {
   "cell_type": "code",
   "execution_count": 9,
   "metadata": {},
   "outputs": [
    {
     "name": "stdout",
     "output_type": "stream",
     "text": [
      "BLEU = 34.60, 68.8/42.7/27.5/17.7 (BP=1.000, ratio=1.054, hyp_len=45605, ref_len=43278)\n"
     ]
    }
   ],
   "source": [
    "!../evaluation/webnlg2017/webnlg-baseline-master/multi-bleu.perl -lc ../evaluation/webnlg2017/webnlg-automatic-evaluation/references/gold-all-cat-reference0.lex ../evaluation/webnlg2017/webnlg-automatic-evaluation/references/gold-all-cat-reference1.lex ../evaluation/webnlg2017/webnlg-automatic-evaluation/references/gold-all-cat-reference2.lex < ../evaluation/webnlg2017/webnlg-automatic-evaluation/teams/Tilburg_University-1_all-cat.txt"
   ]
  },
  {
   "cell_type": "markdown",
   "metadata": {},
   "source": [
    "## Baseline"
   ]
  },
  {
   "cell_type": "code",
   "execution_count": 7,
   "metadata": {},
   "outputs": [
    {
     "name": "stdout",
     "output_type": "stream",
     "text": [
      "the english language is spoken in the republic of ireland .\r\n",
      "author was born in burbank , california .\r\n",
      "the parent company of wiley - blackwell is macmillan publishers .\r\n",
      "a glastonbury romance was written by author .\r\n",
      "lahore is in the united states .\r\n",
      "the parent company of wiley - blackwell is parentcompany .\r\n",
      "asian americans are an ethnic group in the united states .\r\n",
      "english is the language of the united states .\r\n",
      "a glastonbury romance was preceded by precededby .\r\n",
      "the manager of a . c . chievo verona is rolando maran .\r\n"
     ]
    }
   ],
   "source": [
    "!head -100 ../evaluation/webnlg2017/webnlg-automatic-evaluation/teams/Baseline_all-cat.txt | tail -10"
   ]
  },
  {
   "cell_type": "code",
   "execution_count": 10,
   "metadata": {},
   "outputs": [
    {
     "name": "stdout",
     "output_type": "stream",
     "text": [
      "BLEU = 33.24, 65.4/42.3/31.8/24.8 (BP=0.865, ratio=0.873, hyp_len=35312, ref_len=40435)\n"
     ]
    }
   ],
   "source": [
    "!../evaluation/webnlg2017/webnlg-baseline-master/multi-bleu.perl -lc ../evaluation/webnlg2017/webnlg-automatic-evaluation/references/gold-all-cat-reference0.lex ../evaluation/webnlg2017/webnlg-automatic-evaluation/references/gold-all-cat-reference1.lex ../evaluation/webnlg2017/webnlg-automatic-evaluation/references/gold-all-cat-reference2.lex < ../evaluation/webnlg2017/webnlg-automatic-evaluation/teams/Baseline_all-cat.txt"
   ]
  },
  {
   "cell_type": "markdown",
   "metadata": {},
   "source": [
    "## Adapt\n",
    "\n",
    "<a href=\"../data/webnlg2017/submissions/adaptCenter/WebNLG_system.pdf\">report</a>"
   ]
  },
  {
   "cell_type": "code",
   "execution_count": 8,
   "metadata": {},
   "outputs": [
    {
     "name": "stdout",
     "output_type": "stream",
     "text": [
      "the novel castle is the language spoken in the english language .\r\n",
      "eric flint was born in burbank , california .\r\n",
      "macmillan publishers is the parent company of farrar , straus and giroux .\r\n",
      "a glastonbury romance is the notable work of john cowper powys .\r\n",
      "soho press is located in the united states .\r\n",
      "the novel the secret scriptures , is published by faber and faber .\r\n",
      "asian americans are an ethnic group in the u . s .\r\n",
      "english is the language of the united states .\r\n",
      "a glastonbury romance is the sequel to weymouth sands .\r\n",
      "the manager of a . c . chievo verona is rolando maran .\r\n"
     ]
    }
   ],
   "source": [
    "!head -100 ../evaluation/webnlg2017/webnlg-automatic-evaluation/teams/ADAPT_Centre_all-cat.txt | tail -10"
   ]
  },
  {
   "cell_type": "code",
   "execution_count": 11,
   "metadata": {},
   "outputs": [
    {
     "name": "stdout",
     "output_type": "stream",
     "text": [
      "BLEU = 31.06, 54.9/35.7/25.3/18.7 (BP=1.000, ratio=1.337, hyp_len=59727, ref_len=44663)\n"
     ]
    }
   ],
   "source": [
    "!../evaluation/webnlg2017/webnlg-baseline-master/multi-bleu.perl -lc ../evaluation/webnlg2017/webnlg-automatic-evaluation/references/gold-all-cat-reference0.lex ../evaluation/webnlg2017/webnlg-automatic-evaluation/references/gold-all-cat-reference1.lex ../evaluation/webnlg2017/webnlg-automatic-evaluation/references/gold-all-cat-reference2.lex < ../evaluation/webnlg2017/webnlg-automatic-evaluation/teams/ADAPT_Centre_all-cat.txt"
   ]
  },
  {
   "cell_type": "markdown",
   "metadata": {},
   "source": [
    "## UIT-VNU\n",
    "\n",
    "<a href=\"../data/webnlg2017/submissions/uit-danglt-clnlp/Phong-Nguyen-Tran_Dang-Tuan-Nguyen.docx\">report</a>"
   ]
  },
  {
   "cell_type": "code",
   "execution_count": 9,
   "metadata": {},
   "outputs": [
    {
     "name": "stdout",
     "output_type": "stream",
     "text": [
      "english language is one of the languages that is spoken in castle ( novel ) .\r\n",
      "the birth place of eric flint is burbank , california .\r\n",
      "macmillan publishers is the parent company of the farrar , straus and giroux .\r\n",
      "null\r\n",
      "soho press is located within the country of the united states .\r\n",
      "the book the secret scripture was published by faber and faber .\r\n",
      "asian americans are part of one of the ethnic groups in the united states .\r\n",
      "english language is one of the languages that is spoken in united states .\r\n",
      "a glastonbury romance was written prior to weymouth sands .\r\n",
      "rolando maran is the manager of the a . c . chievo verona .\r\n"
     ]
    }
   ],
   "source": [
    "!head -100 ../evaluation/webnlg2017/webnlg-automatic-evaluation/teams/UIT-DANGNT-CLNLP_all-cat.txt | tail -10"
   ]
  },
  {
   "cell_type": "code",
   "execution_count": 12,
   "metadata": {},
   "outputs": [
    {
     "name": "stdout",
     "output_type": "stream",
     "text": [
      "BLEU = 7.07, 67.5/54.4/39.5/29.2 (BP=0.156, ratio=0.350, hyp_len=11219, ref_len=32072)\n"
     ]
    }
   ],
   "source": [
    "!../evaluation/webnlg2017/webnlg-baseline-master/multi-bleu.perl -lc ../evaluation/webnlg2017/webnlg-automatic-evaluation/references/gold-all-cat-reference0.lex ../evaluation/webnlg2017/webnlg-automatic-evaluation/references/gold-all-cat-reference1.lex ../evaluation/webnlg2017/webnlg-automatic-evaluation/references/gold-all-cat-reference2.lex < ../evaluation/webnlg2017/webnlg-automatic-evaluation/teams/UIT-DANGNT-CLNLP_all-cat.txt"
   ]
  },
  {
   "cell_type": "markdown",
   "metadata": {},
   "source": [
    "# My models"
   ]
  },
  {
   "cell_type": "code",
   "execution_count": 34,
   "metadata": {},
   "outputs": [],
   "source": [
    "models = !ls -R -d ../tmp/**/*\n",
    "\n",
    "models = [m for m in models if m.endswith('_all-cat.txt')]"
   ]
  },
  {
   "cell_type": "code",
   "execution_count": 37,
   "metadata": {},
   "outputs": [
    {
     "name": "stdout",
     "output_type": "stream",
     "text": [
      "../tmp/4 - Baseline - Just join triples_e089e6d2328637218601e68ee1216f624e70d78f/4 - Baseline - Just join triples_e089e6d2328637218601e68ee1216f624e70d78f_all-cat.txt\n",
      "BLEU = 23.56, 61.2/34.8/19.6/11.4 (BP=0.896, ratio=0.901, hyp_len=36820, ref_len=40883)\n",
      "\n",
      "../tmp/5 - Model - Template Based - roots_3ae48a5d03a715d609dc8d73f82ac5682cba128d/5 - Model - Template Based - roots_3ae48a5d03a715d609dc8d73f82ac5682cba128d_all-cat.txt\n",
      "BLEU = 36.88, 74.6/46.6/29.2/18.3 (BP=1.000, ratio=1.044, hyp_len=46087, ref_len=44165)\n",
      "\n",
      "../tmp/5 - Model - Template Based - roots_4e9245cbbc05e4fdf0de404fbada20d8294127b2/5 - Model - Template Based - roots_4e9245cbbc05e4fdf0de404fbada20d8294127b2_all-cat.txt\n",
      "BLEU = 40.12, 75.6/49.0/32.5/21.5 (BP=1.000, ratio=1.037, hyp_len=45726, ref_len=44096)\n",
      "\n",
      "../tmp/5 - Model - Template Based - roots_55f9d82b420c5cbc6a01d5a65082414b87a81195/5 - Model - Template Based - roots_55f9d82b420c5cbc6a01d5a65082414b87a81195_all-cat.txt\n",
      "BLEU = 39.97, 74.8/48.9/32.5/21.5 (BP=1.000, ratio=1.070, hyp_len=47755, ref_len=44618)\n",
      "\n",
      "../tmp/5 - Model - Template Based - roots_604049f5126c8e7723be2bcc42a5b3ba96fb29e8/5 - Model - Template Based - roots_604049f5126c8e7723be2bcc42a5b3ba96fb29e8_all-cat.txt\n",
      "BLEU = 38.74, 73.3/47.6/31.4/20.6 (BP=1.000, ratio=1.059, hyp_len=47219, ref_len=44580)\n",
      "\n",
      "../tmp/5 - Model - Template Based - roots_68ac39512ab8a4825bd4174fc6e2e1165446677e/5 - Model - Template Based - roots_68ac39512ab8a4825bd4174fc6e2e1165446677e_all-cat.txt\n",
      "BLEU = 38.79, 73.4/47.6/31.4/20.6 (BP=1.000, ratio=1.063, hyp_len=47488, ref_len=44692)\n",
      "\n",
      "../tmp/5 - Model - Template Based - roots_6dd871aa81bea6fcaf35b71faf932af2e82e17e6/5 - Model - Template Based - roots_6dd871aa81bea6fcaf35b71faf932af2e82e17e6_all-cat.txt\n",
      "BLEU = 38.08, 66.4/45.8/31.7/21.8 (BP=1.000, ratio=1.124, hyp_len=50693, ref_len=45098)\n",
      "\n",
      "../tmp/5 - Model - Template Based - roots_b6a7d881636c7be572e04d2d10a4523354324356/5 - Model - Template Based - roots_b6a7d881636c7be572e04d2d10a4523354324356_all-cat.txt\n",
      "BLEU = 37.04, 65.1/44.8/30.8/21.0 (BP=1.000, ratio=1.155, hyp_len=52188, ref_len=45187)\n",
      "\n",
      "../tmp/5 - Model - Template Based - roots_e089e6d2328637218601e68ee1216f624e70d78f/5 - Model - Template Based - roots_e089e6d2328637218601e68ee1216f624e70d78f_all-cat.txt\n",
      "BLEU = 37.02, 65.0/44.8/30.8/21.0 (BP=1.000, ratio=1.156, hyp_len=52251, ref_len=45199)\n",
      "\n",
      "../tmp/5 - Model - Template Based - roots_ef0aa8122b6669218ec93658c2b7f74042635996/5 - Model - Template Based - roots_ef0aa8122b6669218ec93658c2b7f74042635996_all-cat.txt\n",
      "BLEU = 33.90, 68.5/42.1/26.6/17.2 (BP=1.000, ratio=1.124, hyp_len=50396, ref_len=44840)\n",
      "\n"
     ]
    }
   ],
   "source": [
    "for model in models:\n",
    "    \n",
    "    print(model)\n",
    "    \n",
    "    !../evaluation/webnlg2017/webnlg-baseline-master/multi-bleu.perl -lc ../evaluation/webnlg2017/webnlg-automatic-evaluation/references/gold-all-cat-reference0.lex ../evaluation/webnlg2017/webnlg-automatic-evaluation/references/gold-all-cat-reference1.lex ../evaluation/webnlg2017/webnlg-automatic-evaluation/references/gold-all-cat-reference2.lex < \"$model\"\n",
    "    \n",
    "    print()"
   ]
  }
 ],
 "metadata": {
  "kernelspec": {
   "display_name": "Python 3",
   "language": "python",
   "name": "python3"
  },
  "language_info": {
   "codemirror_mode": {
    "name": "ipython",
    "version": 3
   },
   "file_extension": ".py",
   "mimetype": "text/x-python",
   "name": "python",
   "nbconvert_exporter": "python",
   "pygments_lexer": "ipython3",
   "version": "3.6.5"
  }
 },
 "nbformat": 4,
 "nbformat_minor": 2
}
