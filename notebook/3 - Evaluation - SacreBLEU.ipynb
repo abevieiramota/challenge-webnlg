{
 "cells": [
  {
   "cell_type": "code",
   "execution_count": 1,
   "metadata": {},
   "outputs": [
    {
     "ename": "ModuleNotFoundError",
     "evalue": "No module named 'sacrebleu'",
     "output_type": "error",
     "traceback": [
      "\u001b[0;31m---------------------------------------------------------------------------\u001b[0m",
      "\u001b[0;31mModuleNotFoundError\u001b[0m                       Traceback (most recent call last)",
      "\u001b[0;32m<ipython-input-1-ff78f51b6610>\u001b[0m in \u001b[0;36m<module>\u001b[0;34m()\u001b[0m\n\u001b[0;32m----> 1\u001b[0;31m \u001b[0;32mfrom\u001b[0m \u001b[0msacrebleu\u001b[0m \u001b[0;32mimport\u001b[0m \u001b[0mcorpus_bleu\u001b[0m\u001b[0;34m,\u001b[0m \u001b[0mraw_corpus_bleu\u001b[0m\u001b[0;34m\u001b[0m\u001b[0m\n\u001b[0m",
      "\u001b[0;31mModuleNotFoundError\u001b[0m: No module named 'sacrebleu'"
     ]
    }
   ],
   "source": [
    "from sacrebleu import corpus_bleu, raw_corpus_bleu"
   ]
  },
  {
   "cell_type": "code",
   "execution_count": 8,
   "metadata": {},
   "outputs": [],
   "source": [
    "import xml.etree.ElementTree as ET\n",
    "from spacy.lang.en import English\n",
    "\n",
    "tree = ET.parse('test_reference_files_bleu/testdata_with_lex.xml')\n",
    "root = tree.getroot()\n",
    "\n",
    "references = []\n",
    "for entry in root.iter('entry'):\n",
    "    \n",
    "    references_of_entry = []\n",
    "    for ref in entry.findall('lex'):\n",
    "        \n",
    "        references_of_entry.append(ref.text)\n",
    "    \n",
    "    references.append(references_of_entry)\n",
    "    \n",
    "ref_per_id = [[] for _ in range(8)]\n",
    "\n",
    "for i in range(8):\n",
    "    \n",
    "    for reference_list in references:\n",
    "        \n",
    "        if len(reference_list) > i:\n",
    "            \n",
    "            ref_per_id[i].append(reference_list[i])\n",
    "        else:\n",
    "            ref_per_id[i].append('')"
   ]
  },
  {
   "cell_type": "code",
   "execution_count": 29,
   "metadata": {},
   "outputs": [],
   "source": [
    "SUBMISSION_FILEPATHS = [\n",
    "    \"../data/webnlg2017/submissions/melbourne/final_result.txt\",\n",
    "    \"../data/webnlg2017/submissions/tilburg/smt_test.out.ordered\",\n",
    "    \"../data/webnlg2017/submissions/pkuwriter/PKUWriter_results.txt\",\n",
    "    \"../data/webnlg2017/submissions/upf/UPF_All_sent_final.txt\",\n",
    "    \"../data/webnlg2017/submissions/tilburg/template_test.out.ordered\",\n",
    "    \"../data/webnlg2017/submissions/tilburg/nmt_test.out.ordered\",\n",
    "    \"../data/webnlg2017/submissions/baseline_sorted.txt\",\n",
    "    \"../data/webnlg2017/submissions/adaptCenter/ADAPTcentreWebNLGsubmission.txt\",\n",
    "    \"../data/webnlg2017/submissions/uit-danglt-clnlp/Submission-UIT-DANGNT-CLNLP.txt\"\n",
    "]"
   ]
  },
  {
   "cell_type": "code",
   "execution_count": 43,
   "metadata": {},
   "outputs": [],
   "source": [
    "scores = {}\n",
    "\n",
    "for filepath in SUBMISSION_FILEPATHS:\n",
    "\n",
    "    with open(filepath + \"_ascii\") as f:\n",
    "\n",
    "        candidates = [c for c in f.readlines()]\n",
    "        \n",
    "        scores[filepath] = corpus_bleu(candidates, ref_per_id)"
   ]
  },
  {
   "cell_type": "code",
   "execution_count": 44,
   "metadata": {},
   "outputs": [
    {
     "name": "stdout",
     "output_type": "stream",
     "text": [
      "../data/webnlg2017/submissions/melbourne/final_result.txt \t 11.213988131686005\n",
      "../data/webnlg2017/submissions/tilburg/smt_test.out.ordered \t 11.020262933628045\n",
      "../data/webnlg2017/submissions/pkuwriter/PKUWriter_results.txt \t 11.925156538380197\n",
      "../data/webnlg2017/submissions/upf/UPF_All_sent_final.txt \t 8.221828311925481\n",
      "../data/webnlg2017/submissions/tilburg/template_test.out.ordered \t 10.366440983077513\n",
      "../data/webnlg2017/submissions/tilburg/nmt_test.out.ordered \t 8.05162816322033\n",
      "../data/webnlg2017/submissions/baseline_sorted.txt \t 11.930338100845603\n",
      "../data/webnlg2017/submissions/adaptCenter/ADAPTcentreWebNLGsubmission.txt \t 10.604425619953128\n",
      "../data/webnlg2017/submissions/uit-danglt-clnlp/Submission-UIT-DANGNT-CLNLP.txt \t 11.942660918508576\n"
     ]
    }
   ],
   "source": [
    "for f, bleu in scores.items():\n",
    "    \n",
    "    print(\"{} \\t {}\".format(f, bleu.score))"
   ]
  },
  {
   "cell_type": "code",
   "execution_count": null,
   "metadata": {},
   "outputs": [],
   "source": []
  }
 ],
 "metadata": {
  "kernelspec": {
   "display_name": "Python 3",
   "language": "python",
   "name": "python3"
  },
  "language_info": {
   "codemirror_mode": {
    "name": "ipython",
    "version": 3
   },
   "file_extension": ".py",
   "mimetype": "text/x-python",
   "name": "python",
   "nbconvert_exporter": "python",
   "pygments_lexer": "ipython3",
   "version": "3.6.5"
  }
 },
 "nbformat": 4,
 "nbformat_minor": 2
}
