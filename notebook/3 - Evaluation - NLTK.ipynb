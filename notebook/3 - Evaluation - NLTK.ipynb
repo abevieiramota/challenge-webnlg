{
 "cells": [
  {
   "cell_type": "code",
   "execution_count": 2,
   "metadata": {},
   "outputs": [
    {
     "name": "stdout",
     "output_type": "stream",
     "text": [
      "['al-taqaddum_air_base', 'serves', 'the', 'city', 'of', 'fallujah', '.']\n"
     ]
    }
   ],
   "source": [
    "%run ../script/webnlg.py\n",
    "\n",
    "lex = WebNLGDataset(\"../data/webnlg2017/testdata_with_lex.xml\")\n",
    "\n",
    "s_multiwordexpressions = lex.mdf.m_subject.str.lower().str.replace('_', ' ').str.split().tolist()\n",
    "o_multiwordexpressions = lex.mdf.m_object.str.lower().str.replace('_', ' ').str.split().tolist()\n",
    "\n",
    "all_multiwordexpressions = s_multiwordexpressions + o_multiwordexpressions\n",
    "all_multiwordexpressions = list(set([tuple(s) for s in all_multiwordexpressions]))\n",
    "\n",
    "from nltk.tokenize.mwe import MWETokenizer\n",
    "\n",
    "t = MWETokenizer(all_multiwordexpressions)\n",
    "\n",
    "print(t.tokenize('al-taqaddum air base serves the city of fallujah .\\n'.split()))"
   ]
  },
  {
   "cell_type": "code",
   "execution_count": 95,
   "metadata": {},
   "outputs": [],
   "source": [
    "from nltk.translate.bleu_score import corpus_bleu\n",
    "from textacy.preprocess import preprocess_text\n",
    "import xml.etree.ElementTree as ET\n",
    "\n",
    "def preprocess(ref):\n",
    "    \n",
    "    ref = preprocess_text(ref, no_accents=True, lowercase=True)\n",
    "    \n",
    "    return t.tokenize(ref.split())\n",
    "\n",
    "tree = ET.parse(\"../data/webnlg2017/testdata_with_lex.xml\")\n",
    "root = tree.getroot()\n",
    "\n",
    "references_original = []\n",
    "references_preprocessed = []\n",
    "\n",
    "for entry in root.iter('entry'):\n",
    "    \n",
    "    references_of_entry, references_of_entry_preprocessed = [], []\n",
    "    for ref in entry.findall('lex'):\n",
    "        \n",
    "        references_of_entry.append(ref.text)\n",
    "        references_of_entry_preprocessed.append(preprocess(ref.text))\n",
    "    \n",
    "    references_preprocessed.append(references_of_entry_preprocessed)\n",
    "    references_original.append(references_of_entry)"
   ]
  },
  {
   "cell_type": "code",
   "execution_count": 13,
   "metadata": {},
   "outputs": [],
   "source": [
    "SUBMISSION_FILEPATHS = [\n",
    "    \"../data/webnlg2017/submissions/melbourne/final_result.txt\",\n",
    "    \"../data/webnlg2017/submissions/tilburg/smt_test.out.ordered\",\n",
    "    \"../data/webnlg2017/submissions/pkuwriter/PKUWriter_results.txt\",\n",
    "    \"../data/webnlg2017/submissions/upf/UPF_All_sent_final.txt\",\n",
    "    \"../data/webnlg2017/submissions/tilburg/template_test.out.ordered\",\n",
    "    \"../data/webnlg2017/submissions/tilburg/nmt_test.out.ordered\",\n",
    "    \"../data/webnlg2017/submissions/baseline_sorted.txt\",\n",
    "    \"../data/webnlg2017/submissions/adaptCenter/ADAPTcentreWebNLGsubmission.txt\",\n",
    "    \"../data/webnlg2017/submissions/uit-danglt-clnlp/Submission-UIT-DANGNT-CLNLP.txt\"\n",
    "]"
   ]
  },
  {
   "cell_type": "code",
   "execution_count": 14,
   "metadata": {},
   "outputs": [],
   "source": [
    "submissions = {}\n",
    "\n",
    "for filepath in SUBMISSION_FILEPATHS:\n",
    "\n",
    "    submissions[filepath] = {}\n",
    "    \n",
    "    with open(filepath) as f:\n",
    "\n",
    "        lines = f.readlines()\n",
    "        submissions[filepath]['candidates_original'] = lines\n",
    "        submissions[filepath]['candidates_preprocessed'] = [preprocess(line) for line in lines]"
   ]
  },
  {
   "cell_type": "code",
   "execution_count": 15,
   "metadata": {},
   "outputs": [
    {
     "data": {
      "text/plain": [
       "'al-taqaddum air base serves the city of fallujah .\\n'"
      ]
     },
     "execution_count": 15,
     "metadata": {},
     "output_type": "execute_result"
    }
   ],
   "source": [
    "submissions['../data/webnlg2017/submissions/melbourne/final_result.txt']['candidates_original'][5]"
   ]
  },
  {
   "cell_type": "code",
   "execution_count": 16,
   "metadata": {},
   "outputs": [
    {
     "data": {
      "text/plain": [
       "['al-taqaddum_air_base', 'serves', 'the', 'city', 'of', 'fallujah', '.']"
      ]
     },
     "execution_count": 16,
     "metadata": {},
     "output_type": "execute_result"
    }
   ],
   "source": [
    "submissions['../data/webnlg2017/submissions/melbourne/final_result.txt']['candidates_preprocessed'][5]"
   ]
  },
  {
   "cell_type": "code",
   "execution_count": 17,
   "metadata": {},
   "outputs": [
    {
     "data": {
      "text/plain": [
       "['The Al Taqaddum Air Base serves the city of Fallujah.',\n",
       " 'Al-Taqaddum Air Base serves the city of Fallujah.']"
      ]
     },
     "execution_count": 17,
     "metadata": {},
     "output_type": "execute_result"
    }
   ],
   "source": [
    "references_original[5]"
   ]
  },
  {
   "cell_type": "code",
   "execution_count": 18,
   "metadata": {},
   "outputs": [
    {
     "data": {
      "text/plain": [
       "[['the',\n",
       "  'al',\n",
       "  'taqaddum',\n",
       "  'air',\n",
       "  'base',\n",
       "  'serves',\n",
       "  'the',\n",
       "  'city',\n",
       "  'of',\n",
       "  'fallujah.'],\n",
       " ['al-taqaddum_air_base', 'serves', 'the', 'city', 'of', 'fallujah.']]"
      ]
     },
     "execution_count": 18,
     "metadata": {},
     "output_type": "execute_result"
    }
   ],
   "source": [
    "references_preprocessed[5]"
   ]
  },
  {
   "cell_type": "code",
   "execution_count": 19,
   "metadata": {},
   "outputs": [
    {
     "data": {
      "text/plain": [
       "0.238959236874247"
      ]
     },
     "execution_count": 19,
     "metadata": {},
     "output_type": "execute_result"
    }
   ],
   "source": [
    "corpus_bleu(references_preprocessed, submissions['../data/webnlg2017/submissions/melbourne/final_result.txt']['candidates_preprocessed'])"
   ]
  },
  {
   "cell_type": "code",
   "execution_count": 20,
   "metadata": {},
   "outputs": [
    {
     "name": "stdout",
     "output_type": "stream",
     "text": [
      "../data/webnlg2017/submissions/melbourne/final_result.txt\n",
      "0.238959236874247\n",
      "\n",
      "../data/webnlg2017/submissions/tilburg/smt_test.out.ordered\n",
      "0.2434789580589374\n",
      "\n",
      "../data/webnlg2017/submissions/pkuwriter/PKUWriter_results.txt\n",
      "0.18480246526227984\n",
      "\n",
      "../data/webnlg2017/submissions/upf/UPF_All_sent_final.txt\n",
      "0.15576518171470138\n",
      "\n",
      "../data/webnlg2017/submissions/tilburg/template_test.out.ordered\n",
      "0.16512476933647605\n",
      "\n",
      "../data/webnlg2017/submissions/tilburg/nmt_test.out.ordered\n",
      "0.15104097109989256\n",
      "\n",
      "../data/webnlg2017/submissions/baseline_sorted.txt\n",
      "0.19296743398818347\n",
      "\n",
      "../data/webnlg2017/submissions/adaptCenter/ADAPTcentreWebNLGsubmission.txt\n",
      "0.16253063000877843\n",
      "\n",
      "../data/webnlg2017/submissions/uit-danglt-clnlp/Submission-UIT-DANGNT-CLNLP.txt\n",
      "0.020733098629933357\n",
      "\n"
     ]
    }
   ],
   "source": [
    "for filepath, data in submissions.items():\n",
    "    \n",
    "    print(filepath)\n",
    "    \n",
    "    print(corpus_bleu(references_preprocessed, data['candidates_preprocessed']))\n",
    "    \n",
    "    print()"
   ]
  },
  {
   "cell_type": "code",
   "execution_count": null,
   "metadata": {},
   "outputs": [],
   "source": []
  }
 ],
 "metadata": {
  "kernelspec": {
   "display_name": "Python 3",
   "language": "python",
   "name": "python3"
  },
  "language_info": {
   "codemirror_mode": {
    "name": "ipython",
    "version": 3
   },
   "file_extension": ".py",
   "mimetype": "text/x-python",
   "name": "python",
   "nbconvert_exporter": "python",
   "pygments_lexer": "ipython3",
   "version": "3.6.5"
  }
 },
 "nbformat": 4,
 "nbformat_minor": 2
}
