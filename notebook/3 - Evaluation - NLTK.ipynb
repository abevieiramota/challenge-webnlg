{
 "cells": [
  {
   "cell_type": "code",
   "execution_count": 17,
   "metadata": {},
   "outputs": [],
   "source": [
    "import os\n",
    "\n",
    "os.sys.path.insert(0, '../script')\n",
    "\n",
    "from config import SUBMISSIONS_FILEPATHS\n",
    "\n",
    "from nltk.translate.bleu_score import corpus_bleu\n",
    "from textacy.preprocess import preprocess_text\n",
    "\n",
    "def preprocess(ref):\n",
    "    \n",
    "    ref = preprocess_text(ref, no_accents=True, lowercase=True)\n",
    "    \n",
    "    return ref.split()\n",
    "\n",
    "\n",
    "with open('../evaluation/webnlg2017/webnlg-automatic-evaluation-v2/references/gold-all-cat-reference0.lex', 'r') as f:\n",
    "    \n",
    "    references_preprocessed = [[preprocess(lex)] for lex in f.readlines()]\n",
    "    \n",
    "with open('../evaluation/webnlg2017/webnlg-automatic-evaluation-v2/references/gold-all-cat-reference1.lex', 'r') as f:\n",
    "    \n",
    "    for i, lex in enumerate(f.readlines()):\n",
    "        \n",
    "        if lex:\n",
    "            \n",
    "            references_preprocessed[i].append(preprocess(lex))\n",
    "            \n",
    "with open('../evaluation/webnlg2017/webnlg-automatic-evaluation-v2/references/gold-all-cat-reference2.lex', 'r') as f:\n",
    "    \n",
    "    for i, lex in enumerate(f.readlines()):\n",
    "        \n",
    "        if lex != '\\n':\n",
    "            \n",
    "            references_preprocessed[i].append(preprocess(lex))"
   ]
  },
  {
   "cell_type": "code",
   "execution_count": 25,
   "metadata": {},
   "outputs": [],
   "source": [
    "submissions = {}\n",
    "\n",
    "for filepath in SUBMISSIONS_FILEPATHS:\n",
    "    \n",
    "    team = '/'.join(filepath.split(sep='/')[4:6])\n",
    "\n",
    "    submissions[team] = {}\n",
    "    \n",
    "    with open(filepath) as f:\n",
    "\n",
    "        lines = f.readlines()\n",
    "        submissions[team]['candidates_original'] = lines\n",
    "        submissions[team]['candidates_preprocessed'] = [preprocess(line) for line in lines]"
   ]
  },
  {
   "cell_type": "code",
   "execution_count": 26,
   "metadata": {},
   "outputs": [
    {
     "data": {
      "text/plain": [
       "[['abilene',\n",
       "  ',',\n",
       "  'texas',\n",
       "  'is',\n",
       "  'served',\n",
       "  'by',\n",
       "  'the',\n",
       "  'abilene',\n",
       "  'regional',\n",
       "  'airport',\n",
       "  '.'],\n",
       " ['abilene',\n",
       "  'regional',\n",
       "  'airport',\n",
       "  'serves',\n",
       "  'the',\n",
       "  'city',\n",
       "  'of',\n",
       "  'abilene',\n",
       "  'in',\n",
       "  'texas',\n",
       "  '.']]"
      ]
     },
     "execution_count": 26,
     "metadata": {},
     "output_type": "execute_result"
    }
   ],
   "source": [
    "references_preprocessed[0]"
   ]
  },
  {
   "cell_type": "code",
   "execution_count": 28,
   "metadata": {},
   "outputs": [
    {
     "data": {
      "text/plain": [
       "['abilene',\n",
       " 'regional',\n",
       " 'airport',\n",
       " 'serves',\n",
       " 'the',\n",
       " 'city',\n",
       " 'of',\n",
       " 'abilene,',\n",
       " 'texas',\n",
       " '.']"
      ]
     },
     "execution_count": 28,
     "metadata": {},
     "output_type": "execute_result"
    }
   ],
   "source": [
    "submissions['melbourne/final_result.txt']['candidates_preprocessed'][0]"
   ]
  },
  {
   "cell_type": "code",
   "execution_count": 29,
   "metadata": {},
   "outputs": [],
   "source": [
    "??corpus_bleu"
   ]
  },
  {
   "cell_type": "code",
   "execution_count": 30,
   "metadata": {},
   "outputs": [],
   "source": [
    "from nltk.translate.bleu_score import brevity_penalty"
   ]
  },
  {
   "cell_type": "code",
   "execution_count": 31,
   "metadata": {},
   "outputs": [],
   "source": [
    "??brevity_penalty"
   ]
  },
  {
   "cell_type": "code",
   "execution_count": 20,
   "metadata": {},
   "outputs": [
    {
     "name": "stdout",
     "output_type": "stream",
     "text": [
      "('pkuwriter/PKUWriter_results.txt', 0.3851657709606538)\n",
      "('tilburg/smt_test.out.ordered', 0.3807397414523145)\n",
      "('upf/UPF_All_sent_final.txt', 0.33983638267118216)\n",
      "('melbourne/final_result.txt', 0.33317632552618914)\n",
      "('baseline_sorted.txt', 0.3259263658946901)\n",
      "('tilburg/nmt_test.out.ordered', 0.310622031926917)\n",
      "('adaptCenter/ADAPTcentreWebNLGsubmission.txt', 0.29210378090711353)\n",
      "('tilburg/template_test.out.ordered', 0.28298735346206216)\n",
      "('uit-danglt-clnlp/Submission-UIT-DANGNT-CLNLP.txt', 0.029708716699778898)\n"
     ]
    }
   ],
   "source": [
    "from nltk.translate.bleu_score import SmoothingFunction\n",
    "\n",
    "sf = SmoothingFunction()\n",
    "\n",
    "bleus = []\n",
    "\n",
    "for team, data in submissions.items():\n",
    "    \n",
    "    bleu = corpus_bleu(references_preprocessed, data['candidates_preprocessed'])\n",
    "    \n",
    "    bleus.append((team, bleu))\n",
    "    \n",
    "\n",
    "for x in sorted(bleus, key=lambda x: x[1], reverse=True):\n",
    "    print(x)"
   ]
  },
  {
   "cell_type": "markdown",
   "metadata": {},
   "source": [
    "From: <a href=\"../paper/webnlg2017/The WebNLG Challenge -  Generating Text from RDF Data.pdf\">The WebNLG Challenge - Generating Text from RDF Data</a>\n",
    "\n",
    "<img src='../img/bleu_result.jpg' />"
   ]
  },
  {
   "cell_type": "code",
   "execution_count": null,
   "metadata": {},
   "outputs": [],
   "source": []
  }
 ],
 "metadata": {
  "kernelspec": {
   "display_name": "Python 3",
   "language": "python",
   "name": "python3"
  },
  "language_info": {
   "codemirror_mode": {
    "name": "ipython",
    "version": 3
   },
   "file_extension": ".py",
   "mimetype": "text/x-python",
   "name": "python",
   "nbconvert_exporter": "python",
   "pygments_lexer": "ipython3",
   "version": "3.6.7"
  }
 },
 "nbformat": 4,
 "nbformat_minor": 2
}
