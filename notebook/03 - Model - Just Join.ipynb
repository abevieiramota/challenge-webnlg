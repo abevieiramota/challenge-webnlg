{
 "cells": [
  {
   "cell_type": "code",
   "execution_count": 1,
   "metadata": {},
   "outputs": [],
   "source": [
    "import os\n",
    "\n",
    "os.sys.path.insert(0, '../script')\n",
    "\n",
    "from evaluation import evaluate_model\n",
    "\n",
    "from content_selection import SelectAllContentSelector\n",
    "from discourse_structuring import DoesntSortDiscourseStructurer\n",
    "from sentence_aggregation import OneSentenceSentenceAggregator\n",
    "from lexicalization import PreprocessLexicalizer, preprocess_so\n",
    "from sentence_generation import JustJoinTripleSentenceGenerator\n",
    "from text_generation import TextGenerator"
   ]
  },
  {
   "cell_type": "code",
   "execution_count": 2,
   "metadata": {},
   "outputs": [],
   "source": [
    "model = TextGenerator(\n",
    "    content_selection_model=SelectAllContentSelector(),\n",
    "    discourse_structuring_model=DoesntSortDiscourseStructurer(),\n",
    "    sentence_aggregation_model=OneSentenceSentenceAggregator(),\n",
    "    lexicalization_model=PreprocessLexicalizer(preprocess=preprocess_so),\n",
    "    sentence_generation_model=JustJoinTripleSentenceGenerator()\n",
    ")"
   ]
  },
  {
   "cell_type": "code",
   "execution_count": 2,
   "metadata": {},
   "outputs": [],
   "source": [
    "from webnlg_corpus import webnlg\n",
    "\n",
    "corpus = webnlg.load('webnlg_challenge_2017')"
   ]
  },
  {
   "cell_type": "code",
   "execution_count": 3,
   "metadata": {},
   "outputs": [
    {
     "data": {
      "text/plain": [
       "Triple info: Category=MeanOfTransportation eid=Id1515 idx=test_MeanOfTransportation_3_Id1515\n",
       "\n",
       "\tModified Triples:\n",
       "\n",
       "Aston_Martin_V8 | relatedMeanOfTransportation | Aston_Martin_DBS\n",
       "Aston_Martin_V8 | assembly | \"Newport Pagnell, Buckinghamshire, England, United Kingdom\"\n",
       "Aston_Martin_V8 | engine | 5.3 (litres)\n",
       "\n",
       "\n",
       "\tLexicalizations:\n",
       "\n",
       "The Aston Martin V8 is similar to the DBS and has a 5.3 litre engine. It is made in Newport Pagnell, Buckinghamshire, England, UK.\n",
       "\n",
       "\n",
       "The Aston Martin V8 assembly took place in Newport Pagnell, Buckinghamshire, England, United Kingdom. The Aston Martin V8(has a engine volume of 5.3 litres) and the Aston Martin DBS are related means of transport.\n",
       "\n",
       "\n",
       "The Aston Martin V8 has a 5.3 litre engine and its assembly took place in Newport Pagnell, Buckinghamshire, England, United Kingdom. The Aston Martin V8 and the Aston Martin DBS are related means of transport.\n"
      ]
     },
     "execution_count": 3,
     "metadata": {},
     "output_type": "execute_result"
    }
   ],
   "source": [
    "s = corpus.sample(seed=100)\n",
    "s"
   ]
  },
  {
   "cell_type": "code",
   "execution_count": 7,
   "metadata": {},
   "outputs": [
    {
     "data": {
      "text/plain": [
       "'Aston Martin V8 related Mean Of Transportation Aston Martin DBS Aston Martin V8 assembly Newport Pagnell, Buckinghamshire, England, United Kingdom Aston Martin V8 engine litres 5.3'"
      ]
     },
     "execution_count": 7,
     "metadata": {},
     "output_type": "execute_result"
    }
   ],
   "source": [
    "model.predict_entry(s.data)"
   ]
  },
  {
   "cell_type": "code",
   "execution_count": 5,
   "metadata": {},
   "outputs": [
    {
     "data": {
      "text/plain": [
       "{'bleu': 24.83, 'meteor': 0.33796256777976597, 'ter': 0.6401647072405756}"
      ]
     },
     "execution_count": 5,
     "metadata": {},
     "output_type": "execute_result"
    }
   ],
   "source": [
    "evaluate_model(model, 'just-join')"
   ]
  },
  {
   "cell_type": "markdown",
   "metadata": {},
   "source": [
    "# New version"
   ]
  },
  {
   "cell_type": "code",
   "execution_count": 10,
   "metadata": {},
   "outputs": [],
   "source": [
    "from importlib import reload\n",
    "import template_based\n",
    "reload(template_based)\n",
    "from template_based import *"
   ]
  },
  {
   "cell_type": "code",
   "execution_count": 11,
   "metadata": {},
   "outputs": [],
   "source": [
    "from collections import ChainMap, defaultdict\n",
    "from template_based import *\n",
    "\n",
    "class TemplateBasedModel:\n",
    "    \n",
    "    def __init__(self, template_db):\n",
    "        \n",
    "        fallback_template_db = defaultdict(lambda: [JustJoinTemplate()])\n",
    "        \n",
    "        self.template_db = ChainMap(template_db, fallback_template_db)\n",
    "        self.ss = StructureData(self.template_db)\n",
    "        self.st = SelectTemplate()\n",
    "        self.mt = MakeText(preprocess_so)\n",
    "    \n",
    "    def predict(self, X):\n",
    "        \n",
    "        for x in X:\n",
    "            \n",
    "            structured_data = self.ss.structure(x)\n",
    "            selected_templates = self.st.select_template(structured_data)\n",
    "            text = self.mt.make_text(selected_templates)\n",
    "            \n",
    "            yield text       "
   ]
  },
  {
   "cell_type": "code",
   "execution_count": 12,
   "metadata": {},
   "outputs": [
    {
     "data": {
      "text/plain": [
       "{'bleu': 26.68, 'meteor': 0.32044680722795377, 'ter': 0.6323834446133413}"
      ]
     },
     "execution_count": 12,
     "metadata": {},
     "output_type": "execute_result"
    }
   ],
   "source": [
    "tbm = TemplateBasedModel({})\n",
    "\n",
    "evaluate_model(tbm, 'template-based-model')"
   ]
  },
  {
   "cell_type": "code",
   "execution_count": 13,
   "metadata": {},
   "outputs": [],
   "source": [
    "from reading_thiagos_templates import read_thiagos_templates\n",
    "\n",
    "template_db = read_thiagos_templates()"
   ]
  },
  {
   "cell_type": "code",
   "execution_count": 14,
   "metadata": {},
   "outputs": [],
   "source": [
    "tbm = TemplateBasedModel(template_db)"
   ]
  },
  {
   "cell_type": "code",
   "execution_count": 16,
   "metadata": {},
   "outputs": [
    {
     "data": {
      "text/plain": [
       "{'bleu': 35.31, 'meteor': 0.3785699895492735, 'ter': 0.6655403975293905}"
      ]
     },
     "execution_count": 16,
     "metadata": {},
     "output_type": "execute_result"
    }
   ],
   "source": [
    "evaluate_model(tbm, 'template-based-model-w-steroids')"
   ]
  }
 ],
 "metadata": {
  "kernelspec": {
   "display_name": "Python 3",
   "language": "python",
   "name": "python3"
  },
  "language_info": {
   "codemirror_mode": {
    "name": "ipython",
    "version": 3
   },
   "file_extension": ".py",
   "mimetype": "text/x-python",
   "name": "python",
   "nbconvert_exporter": "python",
   "pygments_lexer": "ipython3",
   "version": "3.6.7"
  }
 },
 "nbformat": 4,
 "nbformat_minor": 2
}
