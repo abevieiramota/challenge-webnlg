{
 "cells": [
  {
   "cell_type": "code",
   "execution_count": 1,
   "metadata": {},
   "outputs": [],
   "source": [
    "%load_ext autoreload\n",
    "%autoreload 2\n",
    "import os\n",
    "\n",
    "os.sys.path.insert(0, '../script')\n",
    "\n",
    "from evaluation import evaluate_model\n",
    "from collections import ChainMap, defaultdict, Counter\n",
    "from template_based import *\n",
    "import re"
   ]
  },
  {
   "cell_type": "code",
   "execution_count": 2,
   "metadata": {},
   "outputs": [],
   "source": [
    "PARENTHESIS_RE = re.compile(r'(.*?)\\((.*?)\\)')\n",
    "CAMELCASE_RE = re.compile(r'([a-z])([A-Z])')\n",
    "\n",
    "def preprocess_so(so):\n",
    "\n",
    "    parenthesis_preprocessed = PARENTHESIS_RE.sub('\\g<2> \\g<1>', so)\n",
    "    underline_removed = parenthesis_preprocessed.replace('_', ' ')\n",
    "    camelcase_preprocessed = CAMELCASE_RE.sub('\\g<1> \\g<2>', underline_removed)\n",
    "\n",
    "    return camelcase_preprocessed.strip('\" ')"
   ]
  },
  {
   "cell_type": "code",
   "execution_count": 3,
   "metadata": {},
   "outputs": [],
   "source": [
    "class TemplateBasedModel:\n",
    "    \n",
    "    def __init__(self, template_db, lexicalization_f):\n",
    "        \n",
    "        fallback_template_db = defaultdict(lambda: Counter([JustJoinTemplate()]))\n",
    "        \n",
    "        self.template_db = ChainMap(template_db, fallback_template_db)\n",
    "        self.ss = StructureData(self.template_db)\n",
    "        self.st = SelectTemplate()\n",
    "        self.mt = MakeText(lexicalization_f=lexicalization_f)\n",
    "    \n",
    "    def predict(self, X):\n",
    "        \n",
    "        result = []\n",
    "        \n",
    "        for x in X:\n",
    "            \n",
    "            structured_data = self.ss.structure(x)\n",
    "            selected_templates = self.st.select_template(structured_data)\n",
    "            text = self.mt.make_text(selected_templates)\n",
    "            \n",
    "            result.append(text)\n",
    "        \n",
    "        return result"
   ]
  },
  {
   "cell_type": "code",
   "execution_count": 4,
   "metadata": {},
   "outputs": [
    {
     "data": {
      "text/plain": [
       "{'bleu': 28.25, 'meteor': 0.3514776430040795, 'ter': 0.6457524388601327}"
      ]
     },
     "execution_count": 4,
     "metadata": {},
     "output_type": "execute_result"
    }
   ],
   "source": [
    "tbm = TemplateBasedModel(template_db={}, lexicalization_f=preprocess_so)\n",
    "\n",
    "evaluate_model(tbm, 'template-based-model-just-join')"
   ]
  },
  {
   "cell_type": "code",
   "execution_count": 5,
   "metadata": {},
   "outputs": [],
   "source": [
    "from reading_thiagos_templates import read_thiagos_templates\n",
    "\n",
    "thiagos_templates, thiagos_lexicalizations, _ = read_thiagos_templates()"
   ]
  },
  {
   "cell_type": "code",
   "execution_count": 6,
   "metadata": {},
   "outputs": [],
   "source": [
    "def lexicalize(s):\n",
    "    \n",
    "    if s in thiagos_lexicalizations:\n",
    "        lexis = thiagos_lexicalizations[s]\n",
    "        \n",
    "        return lexis.most_common()[0][0]\n",
    "    else:\n",
    "        return preprocess_so(s)\n",
    "    \n",
    "tbm = TemplateBasedModel(template_db=thiagos_templates, lexicalization_f=lexicalize)"
   ]
  },
  {
   "cell_type": "code",
   "execution_count": 7,
   "metadata": {},
   "outputs": [
    {
     "data": {
      "text/plain": [
       "{'bleu': 39.71, 'meteor': 0.39587524325901247, 'ter': 0.6288276154008958}"
      ]
     },
     "execution_count": 7,
     "metadata": {},
     "output_type": "execute_result"
    }
   ],
   "source": [
    "evaluate_model(tbm, 'template-based-model-thiago')"
   ]
  },
  {
   "cell_type": "code",
   "execution_count": 8,
   "metadata": {},
   "outputs": [
    {
     "name": "stdout",
     "output_type": "stream",
     "text": [
      "Abilene Regional Airport serves the city of Abilene, Texas.\r\n",
      "Adolfo Suárez Madrid–Barajas Airport is located in Madrid, Paracuellos de Jarama, San Sebastián de los Reyes and Alcobendas.\r\n",
      "The runway name of Adolfo Suárez Madrid–Barajas Airport is 18L/36R.\r\n",
      "The ICAO Location Identifier of Afonso Pena International Airport is SBCT.\r\n",
      "Afonso Pena International Airport serves the city of Curitiba.\r\n",
      "Al Taqaddum Air Base serves the city of Fallujah.\r\n",
      "The runway length of Al Taqaddum Air Base is 3684.0.\r\n",
      "The runway name of Alderney Airport is 14/32.\r\n",
      "The runway length of Allama Iqbal International Airport is 3360.12.\r\n",
      "Amsterdam Airport Schiphol 1st runway is Number 18.\r\n"
     ]
    }
   ],
   "source": [
    "!head -10 ../model/template-based-model-thiago.txt"
   ]
  },
  {
   "cell_type": "code",
   "execution_count": 9,
   "metadata": {},
   "outputs": [
    {
     "name": "stdout",
     "output_type": "stream",
     "text": [
      "Abilene Regional Airport city Served Abilene, Texas.\r\n",
      "Adolfo Suárez Madrid–Barajas Airport location Madrid, Paracuellos de Jarama, San Sebastián de los Reyes and Alcobendas.\r\n",
      "Adolfo Suárez Madrid–Barajas Airport runway Name 18L/36R.\r\n",
      "Afonso Pena International Airport ICAO Location Identifier SBCT.\r\n",
      "Afonso Pena International Airport city Served Curitiba.\r\n",
      "Al-Taqaddum Air Base city Served Fallujah.\r\n",
      "Al-Taqaddum Air Base runway Length 3684.0.\r\n",
      "Alderney Airport runway Name 14/32.\r\n",
      "Allama Iqbal International Airport runway Length 3360.12.\r\n",
      "Amsterdam Airport Schiphol 1st runway Number 18.\r\n"
     ]
    }
   ],
   "source": [
    "!head -10 ../model/template-based-model-just-join.txt"
   ]
  },
  {
   "cell_type": "markdown",
   "metadata": {},
   "source": [
    "def get_structure_for_predicate(predicate):\n",
    "    \n",
    "    s0 = Slot('', [])\n",
    "    p0 = Predicate(predicate, [s0])\n",
    "    s1 = Slot('', [p0])\n",
    "    \n",
    "    return Structure(s1)"
   ]
  },
  {
   "cell_type": "markdown",
   "metadata": {},
   "source": [
    "template_db[get_structure_for_predicate('birthDate')]"
   ]
  }
 ],
 "metadata": {
  "kernelspec": {
   "display_name": "Python 3",
   "language": "python",
   "name": "python3"
  },
  "language_info": {
   "codemirror_mode": {
    "name": "ipython",
    "version": 3
   },
   "file_extension": ".py",
   "mimetype": "text/x-python",
   "name": "python",
   "nbconvert_exporter": "python",
   "pygments_lexer": "ipython3",
   "version": "3.6.7"
  }
 },
 "nbformat": 4,
 "nbformat_minor": 2
}
