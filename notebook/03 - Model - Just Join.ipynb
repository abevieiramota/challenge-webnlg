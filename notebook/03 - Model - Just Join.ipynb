{
 "cells": [
  {
   "cell_type": "code",
   "execution_count": 2,
   "metadata": {},
   "outputs": [],
   "source": [
    "%load_ext autoreload\n",
    "%autoreload 2\n",
    "import os\n",
    "\n",
    "os.sys.path.insert(0, '../script')\n",
    "\n",
    "from evaluation import evaluate_model\n",
    "from collections import ChainMap, defaultdict, Counter\n",
    "from template_based import *\n",
    "import re"
   ]
  },
  {
   "cell_type": "code",
   "execution_count": 3,
   "metadata": {},
   "outputs": [],
   "source": [
    "PARENTHESIS_RE = re.compile(r'(.*?)\\((.*?)\\)')\n",
    "CAMELCASE_RE = re.compile(r'([a-z])([A-Z])')\n",
    "\n",
    "def preprocess_so(so):\n",
    "\n",
    "    parenthesis_preprocessed = PARENTHESIS_RE.sub('\\g<2> \\g<1>', so)\n",
    "    underline_removed = parenthesis_preprocessed.replace('_', ' ')\n",
    "    camelcase_preprocessed = CAMELCASE_RE.sub('\\g<1> \\g<2>', underline_removed)\n",
    "\n",
    "    return camelcase_preprocessed.strip('\" ')"
   ]
  },
  {
   "cell_type": "code",
   "execution_count": 4,
   "metadata": {},
   "outputs": [],
   "source": [
    "class TemplateBasedModel:\n",
    "    \n",
    "    def __init__(self, template_db):\n",
    "        \n",
    "        fallback_template_db = defaultdict(lambda: Counter([JustJoinTemplate()]))\n",
    "        \n",
    "        self.template_db = ChainMap(template_db, fallback_template_db)\n",
    "        self.ss = StructureData(self.template_db)\n",
    "        self.st = SelectTemplate()\n",
    "        self.mt = MakeText(preprocess_so)\n",
    "    \n",
    "    def predict(self, X):\n",
    "        \n",
    "        result = []\n",
    "        \n",
    "        for x in X:\n",
    "            \n",
    "            structured_data = self.ss.structure(x)\n",
    "            selected_templates = self.st.select_template(structured_data)\n",
    "            text = self.mt.make_text(selected_templates)\n",
    "            \n",
    "            result.append(text)\n",
    "        \n",
    "        return result"
   ]
  },
  {
   "cell_type": "code",
   "execution_count": 13,
   "metadata": {},
   "outputs": [],
   "source": [
    "from reading_thiagos_templates import read_thiagos_templates\n",
    "\n",
    "template_db = read_thiagos_templates()"
   ]
  },
  {
   "cell_type": "code",
   "execution_count": 15,
   "metadata": {},
   "outputs": [],
   "source": [
    "tbm = TemplateBasedModel(template_db)"
   ]
  },
  {
   "cell_type": "code",
   "execution_count": 17,
   "metadata": {},
   "outputs": [
    {
     "data": {
      "text/plain": [
       "{'bleu': 38.05, 'meteor': 0.39508048381289684, 'ter': 0.6373246618306355}"
      ]
     },
     "execution_count": 17,
     "metadata": {},
     "output_type": "execute_result"
    }
   ],
   "source": [
    "evaluate_model(tbm, 'template-based-model-w-steroids')"
   ]
  },
  {
   "cell_type": "code",
   "execution_count": 20,
   "metadata": {},
   "outputs": [
    {
     "name": "stdout",
     "output_type": "stream",
     "text": [
      "Abilene Regional Airport serves the city of Abilene, Texas .\r\n",
      "Adolfo Suárez Madrid–Barajas Airport is located in Madrid, Paracuellos de Jarama, San Sebastián de los Reyes and Alcobendas .\r\n",
      "The runway name of Adolfo Suárez Madrid–Barajas Airport is 18L/36R .\r\n",
      "The ICAO Location Identifier of Afonso Pena International Airport is SBCT .\r\n",
      "Afonso Pena International Airport serves the city of Curitiba .\r\n",
      "Al-Taqaddum Air Base serves the city of Fallujah .\r\n",
      "The runway length of Al-Taqaddum Air Base is 3684.0 .\r\n",
      "The runway name of Alderney Airport is 14/32 .\r\n",
      "The runway length of Allama Iqbal International Airport is 3360.12 .\r\n",
      "Amsterdam Airport Schiphol 1st runway is Number 18 .\r\n",
      "Amsterdam Airport Schiphol 5th runway Surface Type Asphalt.\r\n",
      "The runway name of Amsterdam Airport Schiphol is 06/24 'Kaagbaan' .\r\n",
      "Andrews County Airport is 973.0 metres above sea level .\r\n",
      "Andrews County Airport is owned by Andrews County, Texas .\r\n",
      "The runway length of Andrews County Airport is 896.0 .\r\n",
      "The 1st runway at Angola International Airport is made from Asphalt .\r\n",
      "Antwerp International Airport is 12.0 metres above sea level .\r\n",
      "Antwerp International Airport is operated by Flemish Government .\r\n",
      "The runway length of Appleton International Airport is 2439.0 .\r\n",
      "The runway length of New Zealand Ardmore Airport is 518.0 .\r\n"
     ]
    }
   ],
   "source": [
    "!head -20 ../model/template-based-model-w-steroids.txt"
   ]
  },
  {
   "cell_type": "code",
   "execution_count": 9,
   "metadata": {},
   "outputs": [],
   "source": [
    "def get_structure_for_predicate(predicate):\n",
    "    \n",
    "    s0 = Slot('', [])\n",
    "    p0 = Predicate(predicate, [s0])\n",
    "    s1 = Slot('', [p0])\n",
    "    \n",
    "    return Structure(s1)"
   ]
  },
  {
   "cell_type": "code",
   "execution_count": 18,
   "metadata": {},
   "outputs": [
    {
     "data": {
      "text/plain": [
       "Counter({<AGENT-1, birthDate, PATIENT-1>\n",
       "         {AGENT-1} was born on {PATIENT-1} .: 19,\n",
       "         <AGENT-1, birthDate, PATIENT-1>\n",
       "         {AGENT-1} was born {PATIENT-1} .: 4,\n",
       "         <AGENT-1, birthDate, PATIENT-1>\n",
       "         {AGENT-1} 's birth date was {PATIENT-1} .: 1,\n",
       "         <AGENT-1, birthDate, PATIENT-1>\n",
       "         {AGENT-1} 's birth date is {PATIENT-1} .: 1})"
      ]
     },
     "execution_count": 18,
     "metadata": {},
     "output_type": "execute_result"
    }
   ],
   "source": [
    "template_db[get_structure_for_predicate('birthDate')]"
   ]
  }
 ],
 "metadata": {
  "kernelspec": {
   "display_name": "Python 3",
   "language": "python",
   "name": "python3"
  },
  "language_info": {
   "codemirror_mode": {
    "name": "ipython",
    "version": 3
   },
   "file_extension": ".py",
   "mimetype": "text/x-python",
   "name": "python",
   "nbconvert_exporter": "python",
   "pygments_lexer": "ipython3",
   "version": "3.6.7"
  }
 },
 "nbformat": 4,
 "nbformat_minor": 2
}
