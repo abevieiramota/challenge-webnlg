{
 "cells": [
  {
   "cell_type": "code",
   "execution_count": null,
   "metadata": {},
   "outputs": [],
   "source": [
    "import os\n",
    "\n",
    "os.sys.path.insert(0, '../script')\n",
    "\n",
    "from evaluation import evaluate_texts"
   ]
  },
  {
   "cell_type": "markdown",
   "metadata": {},
   "source": [
    "# BLEU"
   ]
  },
  {
   "cell_type": "markdown",
   "metadata": {},
   "source": [
    "https://github.com/moses-smt/mosesdecoder/blob/master/scripts/generic/multi-bleu.perl"
   ]
  },
  {
   "cell_type": "markdown",
   "metadata": {},
   "source": [
    "# METEOR"
   ]
  },
  {
   "cell_type": "markdown",
   "metadata": {},
   "source": [
    "http://www.cs.cmu.edu/~alavie/METEOR/\n",
    "\n",
    "Download meteor-1.5 and unpack into **../evaluation/webnlg2017/**\n",
    "\n",
    "The jar path must be **../evaluation/webnlg2017/meteor-1.5/meteor-1.5.jar**"
   ]
  },
  {
   "cell_type": "markdown",
   "metadata": {},
   "source": [
    "# TER"
   ]
  },
  {
   "cell_type": "markdown",
   "metadata": {},
   "source": [
    "http://www.cs.umd.edu/~snover/tercom/\n",
    "\n",
    "Download tercom-0.7.25 and unpack into **../evaluation/webnlg2017/**\n",
    "\n",
    "The jar path must be **../evaluation/webnlg2017/tercom-0.7.25/tercom-0.7.25.jar**"
   ]
  },
  {
   "cell_type": "markdown",
   "metadata": {},
   "source": [
    "<img src=\"../img/competition_results.jpg\" />"
   ]
  },
  {
   "cell_type": "markdown",
   "metadata": {},
   "source": [
    "## Melbourne\n",
    "\n",
    "<a href=\"../data/webnlg2017/submissions/melbourne/WebNLG Challenge - Bayu Distiawan T.pdf\">report</a>"
   ]
  },
  {
   "cell_type": "code",
   "execution_count": 2,
   "metadata": {},
   "outputs": [
    {
     "data": {
      "text/plain": [
       "{'bleu': 45.13, 'meteor': 0.3763962007897742, 'ter': 0.47440303246041}"
      ]
     },
     "execution_count": 2,
     "metadata": {},
     "output_type": "execute_result"
    }
   ],
   "source": [
    "evaluate_texts('../evaluation/webnlg2017/webnlg-automatic-evaluation/teams/GKB_Unimelb_all-cat.txt')"
   ]
  },
  {
   "cell_type": "code",
   "execution_count": 3,
   "metadata": {},
   "outputs": [
    {
     "name": "stdout",
     "output_type": "stream",
     "text": [
      "castle is english language .\r\n",
      "eric flint was born in burbank , california .\r\n",
      "macmillan publishers is the parent company of farrar , straus and giroux .\r\n",
      "john cowper powys was a glastonbury romance .\r\n",
      "soho press is in united states .\r\n",
      "the secret scripture was published by faber and faber .\r\n",
      "asian americans are an ethnic group in united states .\r\n",
      "english language is spoken in united states .\r\n",
      "weymouth sands was preceded by a glastonbury romance .\r\n",
      "the manager of a . c . chievo verona is rolando maran .\r\n"
     ]
    }
   ],
   "source": [
    "!head -100 ../evaluation/webnlg2017/webnlg-automatic-evaluation/teams/GKB_Unimelb_all-cat.txt | tail -10"
   ]
  },
  {
   "cell_type": "markdown",
   "metadata": {},
   "source": [
    "## Tilb-SMT\n",
    "\n",
    "<a href=\"../data/webnlg2017/submissions/tilburg/report.pdf\">report</a>"
   ]
  },
  {
   "cell_type": "code",
   "execution_count": 6,
   "metadata": {},
   "outputs": [
    {
     "data": {
      "text/plain": [
       "{'bleu': 44.28, 'meteor': 0.38046316060733304, 'ter': 0.537692174481922}"
      ]
     },
     "execution_count": 6,
     "metadata": {},
     "output_type": "execute_result"
    }
   ],
   "source": [
    "evaluate_texts('../evaluation/webnlg2017/webnlg-automatic-evaluation/teams/Tilburg_University-2_all-cat.txt')"
   ]
  },
  {
   "cell_type": "code",
   "execution_count": 7,
   "metadata": {},
   "outputs": [
    {
     "name": "stdout",
     "output_type": "stream",
     "text": [
      "novel castle is english language\r\n",
      ". eric flint was born in burbank , california .\r\n",
      "macmillan publishers is the parent company of farrar , straus and giroux\r\n",
      "john cowper powys notablework a glastonbury romance\r\n",
      "soho press , united states .\r\n",
      ", published by faber and faber\r\n",
      "asian americans are an ethnic group .\r\n",
      "english is the language of the united states .\r\n",
      "weymouth sands was preceded by a glastonbury romance\r\n",
      "the manager of a . c . chievo verona is rolando maran\r\n"
     ]
    }
   ],
   "source": [
    "!head -100 ../evaluation/webnlg2017/webnlg-automatic-evaluation/teams/Tilburg_University-2_all-cat.txt | tail -10"
   ]
  },
  {
   "cell_type": "markdown",
   "metadata": {},
   "source": [
    "## PKUWriter\n",
    "\n",
    "<a href=\"../data/webnlg2017/submissions/pkuwriter/PKUWriter_system.pdf\">report</a>"
   ]
  },
  {
   "cell_type": "code",
   "execution_count": 8,
   "metadata": {},
   "outputs": [
    {
     "data": {
      "text/plain": [
       "{'bleu': 39.88, 'meteor': 0.3174210371240728, 'ter': 0.5530007119355018}"
      ]
     },
     "execution_count": 8,
     "metadata": {},
     "output_type": "execute_result"
    }
   ],
   "source": [
    "evaluate_texts('../evaluation/webnlg2017/webnlg-automatic-evaluation/teams/PKUWriter_all-cat.txt')"
   ]
  },
  {
   "cell_type": "code",
   "execution_count": 9,
   "metadata": {},
   "outputs": [
    {
     "name": "stdout",
     "output_type": "stream",
     "text": [
      "the novel into battle is written by the english language .\r\n",
      "john cowper powys was born in burbank , california .\r\n",
      "the parent company of the macmillan publishers press is the macmillan publishers company of the macmillan publishers .\r\n",
      "the novel owen glendower is a notable work by john cowper powys .\r\n",
      "soho press is located in united states .\r\n",
      "the polish academy for writtenwork is referencenumber _ in _ the _ national _ register _ of _ historic _ places .\r\n",
      "asian americans are an ethnic group in the united states .\r\n",
      "english is the language spoken in the united states .\r\n",
      "the novel into battle is preceded by a glastonbury romance .\r\n",
      "rolando maran manages the a . c . chievo verona .\r\n"
     ]
    }
   ],
   "source": [
    "!head -100 ../evaluation/webnlg2017/webnlg-automatic-evaluation/teams/PKUWriter_all-cat.txt | tail -10"
   ]
  },
  {
   "cell_type": "markdown",
   "metadata": {},
   "source": [
    "## UPF-FORGe\n",
    "\n",
    "<a href=\"../data/webnlg2017/submissions/upf/WebNLG_V0.2.pdf\">report</a>"
   ]
  },
  {
   "cell_type": "code",
   "execution_count": 10,
   "metadata": {},
   "outputs": [
    {
     "data": {
      "text/plain": [
       "{'bleu': 38.65, 'meteor': 0.3910767784663624, 'ter': 0.5593273171576449}"
      ]
     },
     "execution_count": 10,
     "metadata": {},
     "output_type": "execute_result"
    }
   ],
   "source": [
    "evaluate_texts('../evaluation/webnlg2017/webnlg-automatic-evaluation/teams/UPF-TALN_all-cat.txt')"
   ]
  },
  {
   "cell_type": "code",
   "execution_count": 11,
   "metadata": {},
   "outputs": [
    {
     "name": "stdout",
     "output_type": "stream",
     "text": [
      "the english language is spoken in castle ( novel ) .\r\n",
      "eric flint was born in burbank ( california ) .\r\n",
      "the parent company of farrar , straus and giroux is macmillan publishers .\r\n",
      "a glastonbury romance wrote john cowper powys .\r\n",
      "soho press is published in the united states .\r\n",
      "the publisher of the secret scripture is faber and faber .\r\n",
      "a ethnic group of the united states are asian americans .\r\n",
      "the english language is spoken in the united states .\r\n",
      "weymouth sands follows a glastonbury romance .\r\n",
      "rolando maran is the manager of a . c . chievo verona .\r\n"
     ]
    }
   ],
   "source": [
    "!head -100 ../evaluation/webnlg2017/webnlg-automatic-evaluation/teams/UPF-TALN_all-cat.txt | tail -10"
   ]
  },
  {
   "cell_type": "markdown",
   "metadata": {},
   "source": [
    "## Tilb-Pipeline\n",
    "\n",
    "<a href=\"../data/webnlg2017/submissions/tilburg/report.pdf\">report</a>"
   ]
  },
  {
   "cell_type": "code",
   "execution_count": 12,
   "metadata": {},
   "outputs": [
    {
     "data": {
      "text/plain": [
       "{'bleu': 35.29, 'meteor': 0.3083401410609527, 'ter': 0.566023359181081}"
      ]
     },
     "execution_count": 12,
     "metadata": {},
     "output_type": "execute_result"
    }
   ],
   "source": [
    "evaluate_texts('../evaluation/webnlg2017/webnlg-automatic-evaluation/teams/Tilburg_University-3_all-cat.txt')"
   ]
  },
  {
   "cell_type": "code",
   "execution_count": 13,
   "metadata": {},
   "outputs": [
    {
     "name": "stdout",
     "output_type": "stream",
     "text": [
      "castle is in english .\r\n",
      "eric flint was born in burbank , california .\r\n",
      "macmillan publishers owns farrar , straus , and giroux .\r\n",
      "a glastonbury romance is a notable work by john cowper powys .\r\n",
      "soho press is in united states .\r\n",
      "the secret scripture publisher of faber and faber .\r\n",
      "asian americans live in united states .\r\n",
      "united states is in english .\r\n",
      "weymouth sands was preceded by a glastonbury romance .\r\n",
      "rolando maran manages a . c . chievo verona .\r\n"
     ]
    }
   ],
   "source": [
    "!head -100 ../evaluation/webnlg2017/webnlg-automatic-evaluation/teams/Tilburg_University-3_all-cat.txt | tail -10"
   ]
  },
  {
   "cell_type": "markdown",
   "metadata": {},
   "source": [
    "## Tilb-NMT\n",
    "\n",
    "<a href=\"../data/webnlg2017/submissions/tilburg/report.pdf\">report</a>"
   ]
  },
  {
   "cell_type": "code",
   "execution_count": 14,
   "metadata": {},
   "outputs": [
    {
     "data": {
      "text/plain": [
       "{'bleu': 34.6, 'meteor': 0.34878422145634347, 'ter': 0.6095014527332543}"
      ]
     },
     "execution_count": 14,
     "metadata": {},
     "output_type": "execute_result"
    }
   ],
   "source": [
    "evaluate_texts('../evaluation/webnlg2017/webnlg-automatic-evaluation/teams/Tilburg_University-1_all-cat.txt')"
   ]
  },
  {
   "cell_type": "code",
   "execution_count": 15,
   "metadata": {},
   "outputs": [
    {
     "name": "stdout",
     "output_type": "stream",
     "text": [
      "english is the language of castle .\r\n",
      "eric flint was born in burbank , california .\r\n",
      "macmillan publishers is the parent company of farrar , straus , and giroux .\r\n",
      "a glastonbury romance is a notable work by john cowper powys .\r\n",
      "soho press is located in united states .\r\n",
      "th secret scriptures was published by faber and faber .\r\n",
      "asian americans are an ethnic group in united states .\r\n",
      "english is the language of united states .\r\n",
      "weymouth sands was preceded by a glastonbury romance .\r\n",
      "the manager of a . c . chievo verona is rolando maran .\r\n"
     ]
    }
   ],
   "source": [
    "!head -100 ../evaluation/webnlg2017/webnlg-automatic-evaluation/teams/Tilburg_University-1_all-cat.txt | tail -10"
   ]
  },
  {
   "cell_type": "markdown",
   "metadata": {},
   "source": [
    "## Baseline"
   ]
  },
  {
   "cell_type": "code",
   "execution_count": 16,
   "metadata": {},
   "outputs": [
    {
     "data": {
      "text/plain": [
       "{'bleu': 33.24, 'meteor': 0.23543595051539076, 'ter': 0.6130803717457806}"
      ]
     },
     "execution_count": 16,
     "metadata": {},
     "output_type": "execute_result"
    }
   ],
   "source": [
    "evaluate_texts('../evaluation/webnlg2017/webnlg-automatic-evaluation/teams/Baseline_all-cat.txt')"
   ]
  },
  {
   "cell_type": "code",
   "execution_count": 17,
   "metadata": {},
   "outputs": [
    {
     "name": "stdout",
     "output_type": "stream",
     "text": [
      "the english language is spoken in the republic of ireland .\r\n",
      "author was born in burbank , california .\r\n",
      "the parent company of wiley - blackwell is macmillan publishers .\r\n",
      "a glastonbury romance was written by author .\r\n",
      "lahore is in the united states .\r\n",
      "the parent company of wiley - blackwell is parentcompany .\r\n",
      "asian americans are an ethnic group in the united states .\r\n",
      "english is the language of the united states .\r\n",
      "a glastonbury romance was preceded by precededby .\r\n",
      "the manager of a . c . chievo verona is rolando maran .\r\n"
     ]
    }
   ],
   "source": [
    "!head -100 ../evaluation/webnlg2017/webnlg-automatic-evaluation/teams/Baseline_all-cat.txt | tail -10"
   ]
  },
  {
   "cell_type": "markdown",
   "metadata": {},
   "source": [
    "## Adapt\n",
    "\n",
    "<a href=\"../data/webnlg2017/submissions/adaptCenter/WebNLG_system.pdf\">report</a>"
   ]
  },
  {
   "cell_type": "code",
   "execution_count": 18,
   "metadata": {},
   "outputs": [
    {
     "data": {
      "text/plain": [
       "{'bleu': 31.06, 'meteor': 0.315979589643074, 'ter': 0.8492659367724297}"
      ]
     },
     "execution_count": 18,
     "metadata": {},
     "output_type": "execute_result"
    }
   ],
   "source": [
    "evaluate_texts('../evaluation/webnlg2017/webnlg-automatic-evaluation/teams/ADAPT_Centre_all-cat.txt')"
   ]
  },
  {
   "cell_type": "code",
   "execution_count": 19,
   "metadata": {},
   "outputs": [
    {
     "name": "stdout",
     "output_type": "stream",
     "text": [
      "the novel castle is the language spoken in the english language .\r\n",
      "eric flint was born in burbank , california .\r\n",
      "macmillan publishers is the parent company of farrar , straus and giroux .\r\n",
      "a glastonbury romance is the notable work of john cowper powys .\r\n",
      "soho press is located in the united states .\r\n",
      "the novel the secret scriptures , is published by faber and faber .\r\n",
      "asian americans are an ethnic group in the u . s .\r\n",
      "english is the language of the united states .\r\n",
      "a glastonbury romance is the sequel to weymouth sands .\r\n",
      "the manager of a . c . chievo verona is rolando maran .\r\n"
     ]
    }
   ],
   "source": [
    "!head -100 ../evaluation/webnlg2017/webnlg-automatic-evaluation/teams/ADAPT_Centre_all-cat.txt | tail -10"
   ]
  },
  {
   "cell_type": "markdown",
   "metadata": {},
   "source": [
    "## UIT-VNU\n",
    "\n",
    "<a href=\"../data/webnlg2017/submissions/uit-danglt-clnlp/Phong-Nguyen-Tran_Dang-Tuan-Nguyen.docx\">report</a>"
   ]
  },
  {
   "cell_type": "code",
   "execution_count": 20,
   "metadata": {},
   "outputs": [
    {
     "data": {
      "text/plain": [
       "{'bleu': 7.07, 'meteor': 0.09920650308713085, 'ter': 0.8274922552962218}"
      ]
     },
     "execution_count": 20,
     "metadata": {},
     "output_type": "execute_result"
    }
   ],
   "source": [
    "evaluate_texts('../evaluation/webnlg2017/webnlg-automatic-evaluation/teams/UIT-DANGNT-CLNLP_all-cat.txt')"
   ]
  },
  {
   "cell_type": "code",
   "execution_count": 9,
   "metadata": {},
   "outputs": [
    {
     "name": "stdout",
     "output_type": "stream",
     "text": [
      "english language is one of the languages that is spoken in castle ( novel ) .\r\n",
      "the birth place of eric flint is burbank , california .\r\n",
      "macmillan publishers is the parent company of the farrar , straus and giroux .\r\n",
      "null\r\n",
      "soho press is located within the country of the united states .\r\n",
      "the book the secret scripture was published by faber and faber .\r\n",
      "asian americans are part of one of the ethnic groups in the united states .\r\n",
      "english language is one of the languages that is spoken in united states .\r\n",
      "a glastonbury romance was written prior to weymouth sands .\r\n",
      "rolando maran is the manager of the a . c . chievo verona .\r\n"
     ]
    }
   ],
   "source": [
    "!head -100 ../evaluation/webnlg2017/webnlg-automatic-evaluation/teams/UIT-DANGNT-CLNLP_all-cat.txt | tail -10"
   ]
  }
 ],
 "metadata": {
  "kernelspec": {
   "display_name": "Python 3",
   "language": "python",
   "name": "python3"
  },
  "language_info": {
   "codemirror_mode": {
    "name": "ipython",
    "version": 3
   },
   "file_extension": ".py",
   "mimetype": "text/x-python",
   "name": "python",
   "nbconvert_exporter": "python",
   "pygments_lexer": "ipython3",
   "version": "3.6.7"
  }
 },
 "nbformat": 4,
 "nbformat_minor": 2
}
