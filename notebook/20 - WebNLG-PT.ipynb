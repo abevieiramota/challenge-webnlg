{
 "cells": [
  {
   "cell_type": "code",
   "execution_count": 2,
   "metadata": {},
   "outputs": [],
   "source": [
    "from webnlg_corpus import webnlg\n",
    "from random import choice"
   ]
  },
  {
   "cell_type": "code",
   "execution_count": 84,
   "metadata": {},
   "outputs": [],
   "source": [
    "pt = webnlg.load('webnlg_pt_v0.1')\n",
    "en = webnlg.load('webnlg_challenge_2017')"
   ]
  },
  {
   "cell_type": "markdown",
   "metadata": {},
   "source": [
    "# Multiple quotation marks"
   ]
  },
  {
   "cell_type": "code",
   "execution_count": 105,
   "metadata": {},
   "outputs": [
    {
     "data": {
      "text/plain": [
       "888"
      ]
     },
     "execution_count": 105,
     "metadata": {},
     "output_type": "execute_result"
    }
   ],
   "source": [
    "w_quotes = [e for e in pt if any(('\"\"' in lexe for lexe in e.lexes))]\n",
    "\n",
    "len(w_quotes)"
   ]
  },
  {
   "cell_type": "code",
   "execution_count": 86,
   "metadata": {},
   "outputs": [
    {
     "data": {
      "text/plain": [
       "Triple info: Category=Airport eid=Id12 idx=dev_Airport_1_Id12\n",
       "\n",
       "\tModified Triples:\n",
       "\n",
       "Allama_Iqbal_International_Airport | runwayName | \"18R/36L\"\n",
       "\n",
       "\n",
       "\tLexicalizations:\n",
       "\n",
       "18R / 36L é o nome da pista no aeroporto internacional Allama Iqbal.\n",
       "\n",
       "\n",
       "Allama Iqbal International Airport tem uma pista chamada 18R / 36L.\n",
       "\n",
       "\n",
       "\"\"\"O nome da pista do Aeroporto Internacional de Alla Iqbal é\"\" \"\"18R / 36L\"\" \"\".\"\"\"\n"
      ]
     },
     "execution_count": 86,
     "metadata": {},
     "output_type": "execute_result"
    }
   ],
   "source": [
    "w_quotes[0]"
   ]
  },
  {
   "cell_type": "code",
   "execution_count": 88,
   "metadata": {},
   "outputs": [
    {
     "data": {
      "text/plain": [
       "Triple info: Category=Airport eid=Id12 idx=dev_Airport_1_Id12\n",
       "\n",
       "\tModified Triples:\n",
       "\n",
       "Allama_Iqbal_International_Airport | runwayName | \"18R/36L\"\n",
       "\n",
       "\n",
       "\tLexicalizations:\n",
       "\n",
       "18R/36L is the runway name at Allama Iqbal International airport.\n",
       "\n",
       "\n",
       "Allama Iqbal International Airport has a runway named 18R/36L.\n",
       "\n",
       "\n",
       "Allama Iqbal International Airport's runway name is \"18R/36L\".\n"
      ]
     },
     "execution_count": 88,
     "metadata": {},
     "output_type": "execute_result"
    }
   ],
   "source": [
    "en.sample(idx='dev_Airport_1_Id12')"
   ]
  },
  {
   "cell_type": "markdown",
   "metadata": {},
   "source": [
    "# Unnecessary quotations"
   ]
  },
  {
   "cell_type": "code",
   "execution_count": 107,
   "metadata": {},
   "outputs": [
    {
     "data": {
      "text/plain": [
       "6644"
      ]
     },
     "execution_count": 107,
     "metadata": {},
     "output_type": "execute_result"
    }
   ],
   "source": [
    "w_unnecessary_quotes = [e for e in pt if any((lexe[0] == '\"' and lexe[-1] == '\"' for lexe in e.lexes))]\n",
    "\n",
    "len(w_unnecessary_quotes)"
   ]
  },
  {
   "cell_type": "code",
   "execution_count": 108,
   "metadata": {},
   "outputs": [
    {
     "data": {
      "text/plain": [
       "Triple info: Category=Airport eid=Id10 idx=dev_Airport_1_Id10\n",
       "\n",
       "\tModified Triples:\n",
       "\n",
       "Al-Taqaddum_Air_Base | elevationAboveTheSeaLevel_(in_metres) | 84.0\n",
       "\n",
       "\n",
       "\tLexicalizations:\n",
       "\n",
       "A Base Aérea Al-Taqaddum está a 84 metros acima do nível do mar.\n",
       "\n",
       "\n",
       "A Base Aérea Al Taqaddum está a 84 metros acima do nível do mar.\n",
       "\n",
       "\n",
       "\"A elevação acima do nível do mar (em metros) da Base Aérea de Al-Taqaddum é de 84,0.\"\n"
      ]
     },
     "execution_count": 108,
     "metadata": {},
     "output_type": "execute_result"
    }
   ],
   "source": [
    "w_unnecessary_quotes[0]"
   ]
  },
  {
   "cell_type": "code",
   "execution_count": 109,
   "metadata": {},
   "outputs": [
    {
     "data": {
      "text/plain": [
       "Triple info: Category=Airport eid=Id10 idx=dev_Airport_1_Id10\n",
       "\n",
       "\tModified Triples:\n",
       "\n",
       "Al-Taqaddum_Air_Base | elevationAboveTheSeaLevel_(in_metres) | 84.0\n",
       "\n",
       "\n",
       "\tLexicalizations:\n",
       "\n",
       "Al-Taqaddum Air Base is 84 metres above sea level.\n",
       "\n",
       "\n",
       "Al Taqaddum Air Base is 84 metres above sea level.\n",
       "\n",
       "\n",
       "The elevation above the sea level (in metres) of Al-Taqaddum Air Base is 84.0.\n"
      ]
     },
     "execution_count": 109,
     "metadata": {},
     "output_type": "execute_result"
    }
   ],
   "source": [
    "en.sample(idx='dev_Airport_1_Id10')"
   ]
  },
  {
   "cell_type": "markdown",
   "metadata": {},
   "source": [
    "# Repeated lexicalizations"
   ]
  },
  {
   "cell_type": "code",
   "execution_count": 76,
   "metadata": {},
   "outputs": [
    {
     "data": {
      "text/plain": [
       "204"
      ]
     },
     "execution_count": 76,
     "metadata": {},
     "output_type": "execute_result"
    }
   ],
   "source": [
    "repeated_lexes = [e for e in pt if len(list(e.lexes)) > len(set(e.lexes))]\n",
    "\n",
    "len(repeated_lexes)"
   ]
  },
  {
   "cell_type": "code",
   "execution_count": 87,
   "metadata": {},
   "outputs": [
    {
     "data": {
      "text/plain": [
       "Triple info: Category=Airport eid=Id20 idx=dev_Airport_1_Id20\n",
       "\n",
       "\tModified Triples:\n",
       "\n",
       "Angola_International_Airport | cityServed | Luanda\n",
       "\n",
       "\n",
       "\tLexicalizations:\n",
       "\n",
       "A cidade do Aeroporto Internacional de Angola é Luanda.\n",
       "\n",
       "\n",
       "O Aeroporto Internacional de Angola serve a cidade de Luanda.\n",
       "\n",
       "\n",
       "O Aeroporto Internacional de Angola serve a cidade de Luanda.\n"
      ]
     },
     "execution_count": 87,
     "metadata": {},
     "output_type": "execute_result"
    }
   ],
   "source": [
    "repeated_lexes[0]"
   ]
  },
  {
   "cell_type": "code",
   "execution_count": 89,
   "metadata": {},
   "outputs": [
    {
     "data": {
      "text/plain": [
       "Triple info: Category=Airport eid=Id20 idx=dev_Airport_1_Id20\n",
       "\n",
       "\tModified Triples:\n",
       "\n",
       "Angola_International_Airport | cityServed | Luanda\n",
       "\n",
       "\n",
       "\tLexicalizations:\n",
       "\n",
       "Angola International Airport city served is Luanda.\n",
       "\n",
       "\n",
       "Angola International Airport serves the city of Luanda.\n",
       "\n",
       "\n",
       "Angola International Airport serves Luanda.\n"
      ]
     },
     "execution_count": 89,
     "metadata": {},
     "output_type": "execute_result"
    }
   ],
   "source": [
    "en.sample(idx='dev_Airport_1_Id20')"
   ]
  },
  {
   "cell_type": "markdown",
   "metadata": {},
   "source": [
    "# Weird translation"
   ]
  },
  {
   "cell_type": "code",
   "execution_count": 82,
   "metadata": {},
   "outputs": [
    {
     "data": {
      "text/plain": [
       "Triple info: Category=SportsTeam eid=Id10 idx=dev_SportsTeam_1_Id10\n",
       "\n",
       "\tModified Triples:\n",
       "\n",
       "A.S._Gubbio_1910 | ground | Italy\n",
       "\n",
       "\n",
       "\tLexicalizations:\n",
       "\n",
       "O chão do A.S. Gubbio 1910 está localizado em Itália.\n"
      ]
     },
     "execution_count": 82,
     "metadata": {},
     "output_type": "execute_result"
    }
   ],
   "source": [
    "pt.sample(idx='dev_SportsTeam_1_Id10')"
   ]
  },
  {
   "cell_type": "code",
   "execution_count": 85,
   "metadata": {},
   "outputs": [
    {
     "data": {
      "text/plain": [
       "Triple info: Category=SportsTeam eid=Id10 idx=dev_SportsTeam_1_Id10\n",
       "\n",
       "\tModified Triples:\n",
       "\n",
       "A.S._Gubbio_1910 | ground | Italy\n",
       "\n",
       "\n",
       "\tLexicalizations:\n",
       "\n",
       "The ground of A.S. Gubbio 1910 is located in Italy.\n"
      ]
     },
     "execution_count": 85,
     "metadata": {},
     "output_type": "execute_result"
    }
   ],
   "source": [
    "en.sample(idx='dev_SportsTeam_1_Id10')"
   ]
  },
  {
   "cell_type": "markdown",
   "metadata": {},
   "source": [
    "# Weird triple"
   ]
  },
  {
   "cell_type": "code",
   "execution_count": 94,
   "metadata": {},
   "outputs": [
    {
     "data": {
      "text/plain": [
       "Triple info: Category=ComicsCharacter eid=Id12 idx=train_ComicsCharacter_1_Id12\n",
       "\n",
       "\tModified Triples:\n",
       "\n",
       "Aurakles | alternativeName | \"Aurakles\"\n",
       "\n",
       "\n",
       "\tLexicalizations:\n",
       "\n",
       "Aurakles também é conhecido como \"Aurakles\".\n",
       "\n",
       "\n",
       "Um nome alternativo para Aurakles é Aurakles.\n",
       "\n",
       "\n",
       "Aurakles nome alternativo é também Aurakles.\n"
      ]
     },
     "execution_count": 94,
     "metadata": {},
     "output_type": "execute_result"
    }
   ],
   "source": [
    "pt.sample(idx='train_ComicsCharacter_1_Id12')"
   ]
  },
  {
   "cell_type": "code",
   "execution_count": 95,
   "metadata": {},
   "outputs": [
    {
     "data": {
      "text/plain": [
       "Triple info: Category=ComicsCharacter eid=Id12 idx=train_ComicsCharacter_1_Id12\n",
       "\n",
       "\tModified Triples:\n",
       "\n",
       "Aurakles | alternativeName | \"Aurakles\"\n",
       "\n",
       "\n",
       "\tLexicalizations:\n",
       "\n",
       "Aurakles is also known as ''Aurakles''.\n",
       "\n",
       "\n",
       "An alternative name for Aurakles is Aurakles.\n",
       "\n",
       "\n",
       "Aurakles alternative name is also Aurakles.\n"
      ]
     },
     "execution_count": 95,
     "metadata": {},
     "output_type": "execute_result"
    }
   ],
   "source": [
    "en.sample(idx='train_ComicsCharacter_1_Id12')"
   ]
  },
  {
   "cell_type": "markdown",
   "metadata": {},
   "source": [
    "# Typos"
   ]
  },
  {
   "cell_type": "markdown",
   "metadata": {},
   "source": [
    "Schiphol -> Schipol, Schuphol"
   ]
  },
  {
   "cell_type": "code",
   "execution_count": 117,
   "metadata": {},
   "outputs": [
    {
     "data": {
      "text/plain": [
       "Triple info: Category=Airport eid=Id15 idx=dev_Airport_1_Id15\n",
       "\n",
       "\tModified Triples:\n",
       "\n",
       "Amsterdam_Airport_Schiphol | cityServed | Amsterdam\n",
       "\n",
       "\n",
       "\tLexicalizations:\n",
       "\n",
       "O Aeroporto Schiphol de Amsterdã serve a cidade de Amsterdã.\n",
       "\n",
       "\n",
       "\"\"\"O aeroporto de Amsterdã, Schipol, serve a cidade de Amsterdã.\"\"\"\n",
       "\n",
       "\n",
       "O Aeroporto Schuphol de Amsterdã serve Amsterdã.\n"
      ]
     },
     "execution_count": 117,
     "metadata": {},
     "output_type": "execute_result"
    }
   ],
   "source": [
    "pt.sample(idx='dev_Airport_1_Id15')"
   ]
  },
  {
   "cell_type": "code",
   "execution_count": 118,
   "metadata": {},
   "outputs": [
    {
     "data": {
      "text/plain": [
       "Triple info: Category=Airport eid=Id15 idx=dev_Airport_1_Id15\n",
       "\n",
       "\tModified Triples:\n",
       "\n",
       "Amsterdam_Airport_Schiphol | cityServed | Amsterdam\n",
       "\n",
       "\n",
       "\tLexicalizations:\n",
       "\n",
       "Amsterdam Airport Schiphol serves the city of Amsterdam.\n",
       "\n",
       "\n",
       "Amsterdam airport, Schipol serves the city of Amsterdam.\n",
       "\n",
       "\n",
       "Amsterdam Airport Schuphol serves Amsterdam.\n"
      ]
     },
     "execution_count": 118,
     "metadata": {},
     "output_type": "execute_result"
    }
   ],
   "source": [
    "en.sample(idx='dev_Airport_1_Id15')"
   ]
  },
  {
   "cell_type": "markdown",
   "metadata": {},
   "source": [
    "# Undefined verbe tense"
   ]
  },
  {
   "cell_type": "code",
   "execution_count": 128,
   "metadata": {},
   "outputs": [
    {
     "data": {
      "text/plain": [
       "Triple info: Category=ComicsCharacter eid=Id4 idx=dev_ComicsCharacter_1_Id4\n",
       "\n",
       "\tModified Triples:\n",
       "\n",
       "Bananaman | broadcastedBy | \"STV\"\n",
       "\n",
       "\n",
       "\tLexicalizations:\n",
       "\n",
       "O Bananaman é transmitido pela STV.\n",
       "\n",
       "\n",
       "\"Bananaman é transmitido por\" \"STV\" \".\"\n",
       "\n",
       "\n",
       "Bananaman foi transmitido pela STV.\n"
      ]
     },
     "execution_count": 128,
     "metadata": {},
     "output_type": "execute_result"
    }
   ],
   "source": [
    "pt.sample(idx='dev_ComicsCharacter_1_Id4')"
   ]
  },
  {
   "cell_type": "markdown",
   "metadata": {},
   "source": [
    "# Multiple/wrong referring expression generation?"
   ]
  },
  {
   "cell_type": "markdown",
   "metadata": {},
   "source": [
    "Aeroporto do Condado de Andrews \n",
    "\n",
    "Aeroporto Andrews Country"
   ]
  },
  {
   "cell_type": "code",
   "execution_count": 133,
   "metadata": {},
   "outputs": [
    {
     "data": {
      "text/plain": [
       "Triple info: Category=Airport eid=Id18 idx=dev_Airport_1_Id18\n",
       "\n",
       "\tModified Triples:\n",
       "\n",
       "Andrews_County_Airport | runwayName | \"11/29\"\n",
       "\n",
       "\n",
       "\tLexicalizations:\n",
       "\n",
       "O nome da pista do Aeroporto Andrews Country é 29/11.\n",
       "\n",
       "\n",
       "29/11 é o nome da pista do Aeroporto do Condado de Andrews.\n",
       "\n",
       "\n",
       "O nome da pista do Aeroporto do Condado de Andrews é 11/29.\n"
      ]
     },
     "execution_count": 133,
     "metadata": {},
     "output_type": "execute_result"
    }
   ],
   "source": [
    "pt.sample(idx='dev_Airport_1_Id18')"
   ]
  },
  {
   "cell_type": "markdown",
   "metadata": {},
   "source": [
    "Helipad -> Heliporto?"
   ]
  },
  {
   "cell_type": "code",
   "execution_count": 135,
   "metadata": {},
   "outputs": [
    {
     "data": {
      "text/plain": [
       "Triple info: Category=Airport eid=Id19 idx=dev_Airport_1_Id19\n",
       "\n",
       "\tModified Triples:\n",
       "\n",
       "Andrews_County_Airport | runwayName | \"Helipad\"\n",
       "\n",
       "\n",
       "\tLexicalizations:\n",
       "\n",
       "O nome da pista no Aeroporto do Condado de Andrews é Heliporto.\n",
       "\n",
       "\n",
       "Heliporto é o nome da pista do Aeroporto do Condado de Andrews.\n",
       "\n",
       "\n",
       "A pista no Aeroporto do Condado de Andrews é chamada Heliporto.\n"
      ]
     },
     "execution_count": 135,
     "metadata": {},
     "output_type": "execute_result"
    }
   ],
   "source": [
    "pt.sample(idx='dev_Airport_1_Id19')"
   ]
  },
  {
   "cell_type": "markdown",
   "metadata": {},
   "source": [
    "# Walking"
   ]
  },
  {
   "cell_type": "code",
   "execution_count": 100,
   "metadata": {},
   "outputs": [],
   "source": [
    "iterator = pt.__iter__()"
   ]
  },
  {
   "cell_type": "code",
   "execution_count": 134,
   "metadata": {},
   "outputs": [
    {
     "data": {
      "text/plain": [
       "Triple info: Category=Airport eid=Id19 idx=dev_Airport_1_Id19\n",
       "\n",
       "\tModified Triples:\n",
       "\n",
       "Andrews_County_Airport | runwayName | \"Helipad\"\n",
       "\n",
       "\n",
       "\tLexicalizations:\n",
       "\n",
       "O nome da pista no Aeroporto do Condado de Andrews é Heliporto.\n",
       "\n",
       "\n",
       "Heliporto é o nome da pista do Aeroporto do Condado de Andrews.\n",
       "\n",
       "\n",
       "A pista no Aeroporto do Condado de Andrews é chamada Heliporto.\n"
      ]
     },
     "execution_count": 134,
     "metadata": {},
     "output_type": "execute_result"
    }
   ],
   "source": [
    "next(iterator)"
   ]
  },
  {
   "cell_type": "code",
   "execution_count": 130,
   "metadata": {},
   "outputs": [
    {
     "data": {
      "text/plain": [
       "Triple info: Category=Airport eid=Id17 idx=dev_Airport_1_Id17\n",
       "\n",
       "\tModified Triples:\n",
       "\n",
       "Andrews_County_Airport | cityServed | Andrews,_Texas\n",
       "\n",
       "\n",
       "\tLexicalizations:\n",
       "\n",
       "Andrews Country Airport's city is served by Andrews, Texas.\n",
       "\n",
       "\n",
       "Andrews County Airport serves Andrews, Texas.\n",
       "\n",
       "\n",
       "Andrews County Airport serves the city of Andrews in Texas.\n"
      ]
     },
     "execution_count": 130,
     "metadata": {},
     "output_type": "execute_result"
    }
   ],
   "source": [
    "en.sample(idx='dev_Airport_1_Id17')"
   ]
  },
  {
   "cell_type": "code",
   "execution_count": 124,
   "metadata": {},
   "outputs": [],
   "source": [
    "w_quotes = [e for e in en if any(('\"' in lexe for lexe in e.lexes))]"
   ]
  },
  {
   "cell_type": "code",
   "execution_count": 127,
   "metadata": {},
   "outputs": [
    {
     "data": {
      "text/plain": [
       "Triple info: Category=ComicsCharacter eid=Id4 idx=dev_ComicsCharacter_1_Id4\n",
       "\n",
       "\tModified Triples:\n",
       "\n",
       "Bananaman | broadcastedBy | \"STV\"\n",
       "\n",
       "\n",
       "\tLexicalizations:\n",
       "\n",
       "Bananaman is broadcast by STV.\n",
       "\n",
       "\n",
       "Bananaman is broadcasted by \"STV\".\n",
       "\n",
       "\n",
       "Bananaman was broadcasted by STV.\n"
      ]
     },
     "execution_count": 127,
     "metadata": {},
     "output_type": "execute_result"
    }
   ],
   "source": [
    "w_quotes[2]"
   ]
  },
  {
   "cell_type": "code",
   "execution_count": null,
   "metadata": {},
   "outputs": [],
   "source": []
  }
 ],
 "metadata": {
  "kernelspec": {
   "display_name": "Python 3",
   "language": "python",
   "name": "python3"
  },
  "language_info": {
   "codemirror_mode": {
    "name": "ipython",
    "version": 3
   },
   "file_extension": ".py",
   "mimetype": "text/x-python",
   "name": "python",
   "nbconvert_exporter": "python",
   "pygments_lexer": "ipython3",
   "version": "3.7.3"
  }
 },
 "nbformat": 4,
 "nbformat_minor": 2
}
