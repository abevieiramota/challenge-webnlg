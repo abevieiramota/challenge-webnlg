{
 "cells": [
  {
   "cell_type": "code",
   "execution_count": 4,
   "metadata": {},
   "outputs": [],
   "source": [
    "import os\n",
    "import pandas as pd\n",
    "import numpy as np\n",
    "from matplotlib import pyplot as plt\n",
    "\n",
    "%matplotlib inline\n",
    "\n",
    "pd.set_option('max_colwidth', 1000)\n",
    "\n",
    "import seaborn as sns"
   ]
  },
  {
   "cell_type": "code",
   "execution_count": 6,
   "metadata": {},
   "outputs": [],
   "source": [
    "import pandas as pd\n",
    "from collections import defaultdict\n",
    "\n",
    "from webnlg_corpus import webnlg\n",
    "\n",
    "corpus = webnlg.load('webnlg_challenge_2017')\n",
    "\n",
    "train_dev = corpus.subset(datasets=['train', 'dev'])\n",
    "test = corpus.subset(datasets=['test'])"
   ]
  },
  {
   "cell_type": "code",
   "execution_count": 12,
   "metadata": {},
   "outputs": [
    {
     "data": {
      "text/plain": [
       "Triple info: Category=Building eid=Id19 idx=dev_Building_3_Id19\n",
       "\n",
       "\tModified Triples:\n",
       "\n",
       "Alan_B._Miller_Hall | owner | College_of_William_&_Mary\n",
       "Alan_B._Miller_Hall | location | Williamsburg,_Virginia\n",
       "Alan_B._Miller_Hall | buildingStartDate | \"30 March 2007\"\n",
       "\n",
       "\n",
       "\tLexicalizations:\n",
       "\n",
       "Alan B. Miller Hall, the building of which began 30 March, 2007, is located in Williamsburg, Virginia and owned by the College of William and Mary.\n",
       "\n",
       "\n",
       "Alan B. Miller Hall's building, started on 30th March 2007, is located in Williamsburg, Virginia, and owned by the College of William and Mary.\n",
       "\n",
       "\n",
       "The Alan B. Miller Hall, owned by The College of William and Mary, is in Williamsburg, Virginia and was opened on the 30th March 2007.\n"
      ]
     },
     "execution_count": 12,
     "metadata": {},
     "output_type": "execute_result"
    }
   ],
   "source": [
    "train_dev.sample(seed=123)"
   ]
  },
  {
   "cell_type": "code",
   "execution_count": 102,
   "metadata": {
    "scrolled": true
   },
   "outputs": [
    {
     "data": {
      "text/html": [
       "<div>\n",
       "<style scoped>\n",
       "    .dataframe tbody tr th:only-of-type {\n",
       "        vertical-align: middle;\n",
       "    }\n",
       "\n",
       "    .dataframe tbody tr th {\n",
       "        vertical-align: top;\n",
       "    }\n",
       "\n",
       "    .dataframe thead th {\n",
       "        text-align: right;\n",
       "    }\n",
       "</style>\n",
       "<table border=\"1\" class=\"dataframe\">\n",
       "  <thead>\n",
       "    <tr style=\"text-align: right;\">\n",
       "      <th></th>\n",
       "      <th>n_entries</th>\n",
       "      <th>n_distinct_triples</th>\n",
       "      <th>n_distinct_lexes</th>\n",
       "      <th>n_lexes</th>\n",
       "      <th>n_triples</th>\n",
       "      <th>text_length_mean</th>\n",
       "      <th>n_unique_subject</th>\n",
       "      <th>n_unique_predicate</th>\n",
       "      <th>n_unique_object</th>\n",
       "    </tr>\n",
       "  </thead>\n",
       "  <tbody>\n",
       "    <tr>\n",
       "      <th>train_dev</th>\n",
       "      <td>7812</td>\n",
       "      <td>2131</td>\n",
       "      <td>20308</td>\n",
       "      <td>20370</td>\n",
       "      <td>23021</td>\n",
       "      <td>117.367354</td>\n",
       "      <td>434</td>\n",
       "      <td>246</td>\n",
       "      <td>1642</td>\n",
       "    </tr>\n",
       "    <tr>\n",
       "      <th>test</th>\n",
       "      <td>1862</td>\n",
       "      <td>2331</td>\n",
       "      <td>4922</td>\n",
       "      <td>4928</td>\n",
       "      <td>5378</td>\n",
       "      <td>114.805195</td>\n",
       "      <td>575</td>\n",
       "      <td>300</td>\n",
       "      <td>1888</td>\n",
       "    </tr>\n",
       "  </tbody>\n",
       "</table>\n",
       "</div>"
      ],
      "text/plain": [
       "           n_entries  n_distinct_triples  n_distinct_lexes  n_lexes  \\\n",
       "train_dev       7812                2131             20308    20370   \n",
       "test            1862                2331              4922     4928   \n",
       "\n",
       "           n_triples  text_length_mean  n_unique_subject  n_unique_predicate  \\\n",
       "train_dev      23021        117.367354               434                 246   \n",
       "test            5378        114.805195               575                 300   \n",
       "\n",
       "           n_unique_object  \n",
       "train_dev             1642  \n",
       "test                  1888  "
      ]
     },
     "execution_count": 102,
     "metadata": {},
     "output_type": "execute_result"
    }
   ],
   "source": [
    "statistics = defaultdict(list)\n",
    "idx = ['train_dev', 'test']\n",
    "\n",
    "for ds in [train_dev, test]:\n",
    "    \n",
    "    statistics['n_entries'].append(len(ds.edf)) # number of entries\n",
    "    statistics['n_distinct_triples'].append(ds.mdf.text.nunique()) # number of distinct triples\n",
    "    statistics['n_distinct_lexes'].append(ds.ldf.text.nunique()) # number of distinct generated texts\n",
    "    statistics['n_lexes'].append(len(ds.ldf)) # number of generated texts\n",
    "    statistics['n_triples'].append(len(ds.mdf)) # number of triples -> each entry can have up to 7 triples\n",
    "    statistics['text_length_mean'].append(ds.ldf.text.str.len().mean())\n",
    "    statistics['n_unique_subject'].append(ds.mdf.subject.nunique()),\n",
    "    statistics['n_unique_predicate'].append(ds.mdf.predicate.nunique()),\n",
    "    statistics['n_unique_object'].append(ds.mdf.object.nunique())\n",
    "    \n",
    "\n",
    "pd.DataFrame(statistics, index=idx)"
   ]
  },
  {
   "cell_type": "code",
   "execution_count": 51,
   "metadata": {},
   "outputs": [
    {
     "data": {
      "text/plain": [
       "{'Artist', 'Athlete', 'CelestialBody', 'MeanOfTransportation', 'Politician'}"
      ]
     },
     "execution_count": 51,
     "metadata": {},
     "output_type": "execute_result"
    }
   ],
   "source": [
    "# unseen categories\n",
    "\n",
    "set(test.edf.category.unique()) - set(train_dev.edf.category.unique())"
   ]
  },
  {
   "cell_type": "markdown",
   "metadata": {},
   "source": [
    "## Are entries with shared triples lexicalized the same way?\n",
    "\n",
    "Remember that the same triple can appear in more than one entry.\n",
    "\n",
    "There are some patterns..."
   ]
  },
  {
   "cell_type": "code",
   "execution_count": 84,
   "metadata": {},
   "outputs": [],
   "source": [
    "def mtriples_with_generated_lexes(ds):\n",
    "    \n",
    "    df = pd.merge(ds.mdf, ds.ldf, on='idx', suffixes=('_mdf', '_ldf'))\n",
    "    \n",
    "    # groups by triple and for each triple generates a list of lexicalizations\n",
    "    ddf = df.groupby('text_mdf').text_ldf.apply(list).to_frame()\n",
    "    # adds a column with the number of lexicalizations\n",
    "    ddf['size'] = ddf.text_ldf.apply(len)\n",
    "    \n",
    "    return ddf\n",
    "\n",
    "# prints triple and its lexicalizations\n",
    "def print_mtriple_with_generated_lexes(mtriple):\n",
    "    \n",
    "    print(\"triple: \", mtriple.name, '\\n')\n",
    "    for text in mtriple.text_ldf:\n",
    "        print(\"lexicalization: \", text, '\\n')"
   ]
  },
  {
   "cell_type": "markdown",
   "metadata": {},
   "source": [
    "### train_dev"
   ]
  },
  {
   "cell_type": "code",
   "execution_count": 93,
   "metadata": {},
   "outputs": [
    {
     "data": {
      "text/plain": [
       "count    2131.000000\n",
       "mean       28.432191\n",
       "std        34.977128\n",
       "min         1.000000\n",
       "25%         6.000000\n",
       "50%        17.000000\n",
       "75%        36.000000\n",
       "max       319.000000\n",
       "Name: size, dtype: float64"
      ]
     },
     "execution_count": 93,
     "metadata": {},
     "output_type": "execute_result"
    }
   ],
   "source": [
    "mtriples_w_lexes_train = mtriples_with_generated_lexes(train_dev)\n",
    "\n",
    "mtriples_w_lexes_train['size'].describe()"
   ]
  },
  {
   "cell_type": "code",
   "execution_count": 85,
   "metadata": {},
   "outputs": [
    {
     "name": "stdout",
     "output_type": "stream",
     "text": [
      "triple:  11_Diagonal_Street | floorArea | 1200 (square metres) \n",
      "\n",
      "lexicalization:  11 Diagonal Street has a floor area of 1200 square metres. \n",
      "\n",
      "lexicalization:  The architect of 11 Diagonal Street is Helmut Jahn and it was completed in 1983. It has 20 floors and a floor area of 1200 square metres. \n",
      "\n",
      "lexicalization:  11 Diagonal Street was designed by Helmut Jahn and was completed in 1983. It has 20 floors and an area of 1200 square metres. \n",
      "\n",
      "lexicalization:  Helmut Jahn was the architect of 11 Diagonal Street which was completed in 1983 with 20 floors and a total floor area of 1200 square metres. \n",
      "\n"
     ]
    }
   ],
   "source": [
    "# some examples of triples that are lexicalizad in more than one way\n",
    "mtriples_w_lexes_train_size_lt_5 = mtriples_w_lexes_train[mtriples_w_lexes_train['size'] < 5]\n",
    "\n",
    "print_mtriple_with_generated_lexes(mtriples_w_lexes_train_size_lt_5.iloc[0, :])"
   ]
  },
  {
   "cell_type": "code",
   "execution_count": 86,
   "metadata": {},
   "outputs": [
    {
     "name": "stdout",
     "output_type": "stream",
     "text": [
      "triple:  11_Diagonal_Street | location | Johannesburg \n",
      "\n",
      "lexicalization:  11 Diagonal Street is in Johannesburg. \n",
      "\n",
      "lexicalization:  11 Diagonal Street is located in Johannesburg. \n",
      "\n"
     ]
    }
   ],
   "source": [
    "print_mtriple_with_generated_lexes(mtriples_w_lexes_train_size_lt_5.iloc[1, :])"
   ]
  },
  {
   "cell_type": "code",
   "execution_count": 87,
   "metadata": {},
   "outputs": [
    {
     "name": "stdout",
     "output_type": "stream",
     "text": [
      "triple:  1634:_The_Bavarian_Crisis | language | English_language \n",
      "\n",
      "lexicalization:  1634: The Bavarian Crisis is written in English. \n",
      "\n",
      "lexicalization:  1634: The Bavarian Crisis was written by Eric Flint in English and was preceded by Grantville Gazette III. \n",
      "\n",
      "lexicalization:  Eric Flint wrote the book 1634: The Bavarian Crisis. It is the sequel to Grantville Gazette III. \n",
      "\n",
      "lexicalization:  1634: The Bavarian Crisis is written in English and the sequel to Grantville Gazette III written by Eric Flint. \n",
      "\n"
     ]
    }
   ],
   "source": [
    "print_mtriple_with_generated_lexes(mtriples_w_lexes_train_size_lt_5.iloc[2, :])"
   ]
  },
  {
   "cell_type": "markdown",
   "metadata": {},
   "source": [
    "# And what about lexicalizations for same predicates?"
   ]
  },
  {
   "cell_type": "code",
   "execution_count": 100,
   "metadata": {},
   "outputs": [],
   "source": [
    "def m_predicates_with_generated_lexes(ds):\n",
    "    \n",
    "    df = pd.merge(ds.mdf, ds.ldf, on='idx', suffixes=('_mdf', '_ldf'))\n",
    "    \n",
    "    ddf = df.groupby('predicate').text_ldf.apply(list).to_frame()\n",
    "    ddf['size'] = ddf.text_ldf.apply(len)\n",
    "    \n",
    "    return ddf\n",
    "\n",
    "def print_m_predicate_with_generated_lexes(mtriple):\n",
    "    \n",
    "    print(\"predicate: \", mtriple.name, '\\n')\n",
    "    for text in sorted(mtriple.text_ldf):\n",
    "        print(\"lexicalization: \", text, '\\n')"
   ]
  },
  {
   "cell_type": "code",
   "execution_count": 94,
   "metadata": {},
   "outputs": [
    {
     "data": {
      "text/plain": [
       "count     246.000000\n",
       "mean      246.296748\n",
       "std       597.935924\n",
       "min         1.000000\n",
       "25%        20.000000\n",
       "50%        67.000000\n",
       "75%       219.500000\n",
       "max      6345.000000\n",
       "Name: size, dtype: float64"
      ]
     },
     "execution_count": 94,
     "metadata": {},
     "output_type": "execute_result"
    }
   ],
   "source": [
    "m_predicates_w_lexes_train = m_predicates_with_generated_lexes(train_dev)\n",
    "\n",
    "m_predicates_w_lexes_train['size'].describe()"
   ]
  },
  {
   "cell_type": "code",
   "execution_count": 95,
   "metadata": {},
   "outputs": [
    {
     "data": {
      "text/html": [
       "<div>\n",
       "<style scoped>\n",
       "    .dataframe tbody tr th:only-of-type {\n",
       "        vertical-align: middle;\n",
       "    }\n",
       "\n",
       "    .dataframe tbody tr th {\n",
       "        vertical-align: top;\n",
       "    }\n",
       "\n",
       "    .dataframe thead th {\n",
       "        text-align: right;\n",
       "    }\n",
       "</style>\n",
       "<table border=\"1\" class=\"dataframe\">\n",
       "  <thead>\n",
       "    <tr style=\"text-align: right;\">\n",
       "      <th></th>\n",
       "      <th>predicate</th>\n",
       "      <th>size</th>\n",
       "    </tr>\n",
       "  </thead>\n",
       "  <tbody>\n",
       "    <tr>\n",
       "      <th>0</th>\n",
       "      <td>country</td>\n",
       "      <td>6345</td>\n",
       "    </tr>\n",
       "    <tr>\n",
       "      <th>1</th>\n",
       "      <td>location</td>\n",
       "      <td>4046</td>\n",
       "    </tr>\n",
       "    <tr>\n",
       "      <th>2</th>\n",
       "      <td>leaderName</td>\n",
       "      <td>3537</td>\n",
       "    </tr>\n",
       "    <tr>\n",
       "      <th>3</th>\n",
       "      <td>ingredient</td>\n",
       "      <td>1930</td>\n",
       "    </tr>\n",
       "    <tr>\n",
       "      <th>4</th>\n",
       "      <td>region</td>\n",
       "      <td>1673</td>\n",
       "    </tr>\n",
       "    <tr>\n",
       "      <th>5</th>\n",
       "      <td>isPartOf</td>\n",
       "      <td>1640</td>\n",
       "    </tr>\n",
       "    <tr>\n",
       "      <th>6</th>\n",
       "      <td>language</td>\n",
       "      <td>1596</td>\n",
       "    </tr>\n",
       "    <tr>\n",
       "      <th>7</th>\n",
       "      <td>ethnicGroup</td>\n",
       "      <td>1524</td>\n",
       "    </tr>\n",
       "    <tr>\n",
       "      <th>8</th>\n",
       "      <td>birthPlace</td>\n",
       "      <td>1281</td>\n",
       "    </tr>\n",
       "    <tr>\n",
       "      <th>9</th>\n",
       "      <td>club</td>\n",
       "      <td>1145</td>\n",
       "    </tr>\n",
       "  </tbody>\n",
       "</table>\n",
       "</div>"
      ],
      "text/plain": [
       "     predicate  size\n",
       "0      country  6345\n",
       "1     location  4046\n",
       "2   leaderName  3537\n",
       "3   ingredient  1930\n",
       "4       region  1673\n",
       "5     isPartOf  1640\n",
       "6     language  1596\n",
       "7  ethnicGroup  1524\n",
       "8   birthPlace  1281\n",
       "9         club  1145"
      ]
     },
     "execution_count": 95,
     "metadata": {},
     "output_type": "execute_result"
    }
   ],
   "source": [
    "m_predicates_w_lexes_train.nlargest(10, 'size').reset_index()[['predicate', 'size']]"
   ]
  },
  {
   "cell_type": "code",
   "execution_count": 96,
   "metadata": {},
   "outputs": [
    {
     "data": {
      "text/plain": [
       "<matplotlib.axes._subplots.AxesSubplot at 0x18a8ffa6828>"
      ]
     },
     "execution_count": 96,
     "metadata": {},
     "output_type": "execute_result"
    },
    {
     "data": {
      "image/png": "[encoded data removed]",
      "text/plain": [
       "<Figure size 720x360 with 1 Axes>"
      ]
     },
     "metadata": {
      "needs_background": "light"
     },
     "output_type": "display_data"
    }
   ],
   "source": [
    "m_predicates_w_lexes_train['size'].hist(bins=20, figsize=(10, 5))"
   ]
  },
  {
   "cell_type": "code",
   "execution_count": 101,
   "metadata": {},
   "outputs": [
    {
     "name": "stdout",
     "output_type": "stream",
     "text": [
      "predicate:  placeOfDeath \n",
      "\n",
      "lexicalization:  Alfred Giles was born in England and died in Kendall County, Texas. He designed the Asher and Mary Isabelle Richardson House . \n",
      "\n",
      "lexicalization:  Alfred Giles was the architect of Asher and Mary Isabelle Richardson House and died in Kendall County, Texas. \n",
      "\n",
      "lexicalization:  Alfred Giles, architect of The Asher and Mary Isabelle Richardson House died in Kendall County, Texas. \n",
      "\n",
      "lexicalization:  Asher and Mary Isabelle Richardson House was designed by architect Alfred Giles who died in Kendall County, Texas. \n",
      "\n",
      "lexicalization:  The architect Alfred Giles died in Kendall County Texas. \n",
      "\n",
      "lexicalization:  The architect Alfred Giles died in Kendall County, Texas. \n",
      "\n",
      "lexicalization:  The architect Alfred Giles was born in England and he died in Kendall County, Texas. He was the architect of Asher and Mary Isabelle Richardson House. \n",
      "\n",
      "lexicalization:  The architect of Asher and Mary Isabelle Richardson House Alfred Giles was born in England and died in Kendall County Texas. \n",
      "\n"
     ]
    }
   ],
   "source": [
    "m_predicates_w_lexes_train_size_lt_10 = m_predicates_w_lexes_train[m_predicates_w_lexes_train['size'] < 10]\n",
    "\n",
    "print_m_predicate_with_generated_lexes(m_predicates_w_lexes_train_size_lt_10.sample().iloc[0, :])"
   ]
  },
  {
   "cell_type": "markdown",
   "metadata": {},
   "source": [
    "## Most frequent subjects, predicates, objects\n",
    "\n",
    "in relation to amount of entries in which they occur, not the amount of lexicalizations where they appear(remember that an entry can have more than one lexicalization)"
   ]
  },
  {
   "cell_type": "code",
   "execution_count": 106,
   "metadata": {},
   "outputs": [],
   "source": [
    "def most_frequent(ds, type_, n=5):\n",
    "    \n",
    "    if type_ == 'subject':\n",
    "        return ds.mdf.subject.value_counts().nlargest(n)\n",
    "    if type_ == 'object':\n",
    "        return ds.mdf.object.value_counts().nlargest(n)\n",
    "    if type_ == 'predicate':\n",
    "        return ds.mdf.predicate.value_counts().nlargest(n)"
   ]
  },
  {
   "cell_type": "markdown",
   "metadata": {},
   "source": [
    "### train_dev"
   ]
  },
  {
   "cell_type": "code",
   "execution_count": 107,
   "metadata": {},
   "outputs": [
    {
     "data": {
      "text/plain": [
       "United_States                      760\n",
       "Acharya_Institute_of_Technology    539\n",
       "Alan_Shepard                       478\n",
       "Elliot_See                         474\n",
       "Alan_Bean                          410\n",
       "Name: subject, dtype: int64"
      ]
     },
     "execution_count": 107,
     "metadata": {},
     "output_type": "execute_result"
    }
   ],
   "source": [
    "most_frequent(train_dev, 'subject')"
   ]
  },
  {
   "cell_type": "code",
   "execution_count": 108,
   "metadata": {},
   "outputs": [
    {
     "data": {
      "text/plain": [
       "United_States       944\n",
       "English_language    294\n",
       "Indonesia           185\n",
       "Spain               169\n",
       "Italy               142\n",
       "Name: object, dtype: int64"
      ]
     },
     "execution_count": 108,
     "metadata": {},
     "output_type": "execute_result"
    }
   ],
   "source": [
    "most_frequent(train_dev, 'object')"
   ]
  },
  {
   "cell_type": "code",
   "execution_count": 109,
   "metadata": {},
   "outputs": [
    {
     "data": {
      "text/plain": [
       "country       2409\n",
       "location      1537\n",
       "leaderName    1385\n",
       "ingredient     738\n",
       "isPartOf       641\n",
       "Name: predicate, dtype: int64"
      ]
     },
     "execution_count": 109,
     "metadata": {},
     "output_type": "execute_result"
    }
   ],
   "source": [
    "most_frequent(train_dev, 'predicate')"
   ]
  },
  {
   "cell_type": "markdown",
   "metadata": {},
   "source": [
    "## Vocabulary distribution"
   ]
  },
  {
   "cell_type": "markdown",
   "metadata": {},
   "source": [
    "### m_subject"
   ]
  },
  {
   "cell_type": "code",
   "execution_count": 110,
   "metadata": {},
   "outputs": [
    {
     "data": {
      "text/plain": [
       "count    434.000000\n",
       "mean      53.043779\n",
       "std       79.166678\n",
       "min        1.000000\n",
       "50%       20.000000\n",
       "75%       79.750000\n",
       "90%      124.000000\n",
       "99%      409.670000\n",
       "max      760.000000\n",
       "Name: subject, dtype: float64"
      ]
     },
     "execution_count": 110,
     "metadata": {},
     "output_type": "execute_result"
    }
   ],
   "source": [
    "m_subject_vc = train_dev.mdf.subject.value_counts()\n",
    "\n",
    "m_subject_vc.describe(percentiles=[.5, .75, .9, .99])"
   ]
  },
  {
   "cell_type": "markdown",
   "metadata": {},
   "source": [
    "* 50% dos m_subject ocorrem 20 ou menos vezes\n",
    "* 50% dos m_subject ocorrem 21 ou mais vezes"
   ]
  },
  {
   "cell_type": "code",
   "execution_count": 112,
   "metadata": {},
   "outputs": [
    {
     "data": {
      "text/plain": [
       "<matplotlib.axes._subplots.AxesSubplot at 0x18a9b43f0b8>"
      ]
     },
     "execution_count": 112,
     "metadata": {},
     "output_type": "execute_result"
    },
    {
     "data": {
      "image/png": "[encoded data removed]",
      "text/plain": [
       "<Figure size 720x360 with 1 Axes>"
      ]
     },
     "metadata": {
      "needs_background": "light"
     },
     "output_type": "display_data"
    }
   ],
   "source": [
    "m_subject_vc.hist(bins=20, figsize=(10, 5))"
   ]
  },
  {
   "cell_type": "markdown",
   "metadata": {},
   "source": [
    "### m_predicate"
   ]
  },
  {
   "cell_type": "code",
   "execution_count": 113,
   "metadata": {},
   "outputs": [
    {
     "data": {
      "text/plain": [
       "count     246.000000\n",
       "mean       93.581301\n",
       "std       228.610263\n",
       "min         1.000000\n",
       "50%        25.000000\n",
       "75%        80.000000\n",
       "90%       228.000000\n",
       "99%      1093.850000\n",
       "max      2409.000000\n",
       "Name: predicate, dtype: float64"
      ]
     },
     "execution_count": 113,
     "metadata": {},
     "output_type": "execute_result"
    }
   ],
   "source": [
    "m_predicate_vc = train_dev.mdf.predicate.value_counts()\n",
    "\n",
    "m_predicate_vc.describe(percentiles=[.5, .75, .9, .99])"
   ]
  },
  {
   "cell_type": "markdown",
   "metadata": {},
   "source": [
    "* 50% dos m_predicate ocorrem 25 ou menos vezes\n",
    "* 50% dos m_predicate ocorrem 26 ou mais vezes"
   ]
  },
  {
   "cell_type": "code",
   "execution_count": 114,
   "metadata": {},
   "outputs": [
    {
     "data": {
      "text/plain": [
       "<matplotlib.axes._subplots.AxesSubplot at 0x18a9ad7cbe0>"
      ]
     },
     "execution_count": 114,
     "metadata": {},
     "output_type": "execute_result"
    },
    {
     "data": {
      "image/png": "[encoded data removed]",
      "text/plain": [
       "<Figure size 720x360 with 1 Axes>"
      ]
     },
     "metadata": {
      "needs_background": "light"
     },
     "output_type": "display_data"
    }
   ],
   "source": [
    "m_predicate_vc.hist(bins=20, figsize=(10, 5))"
   ]
  },
  {
   "cell_type": "markdown",
   "metadata": {},
   "source": [
    "### m_object"
   ]
  },
  {
   "cell_type": "code",
   "execution_count": 50,
   "metadata": {},
   "outputs": [
    {
     "data": {
      "text/plain": [
       "count    1642.000000\n",
       "mean       14.020097\n",
       "std        30.023659\n",
       "min         1.000000\n",
       "50%         7.000000\n",
       "75%        16.000000\n",
       "90%        31.000000\n",
       "99%        93.180000\n",
       "max       944.000000\n",
       "Name: object, dtype: float64"
      ]
     },
     "execution_count": 50,
     "metadata": {},
     "output_type": "execute_result"
    }
   ],
   "source": [
    "m_object_vc = train_dev.mdf.object.value_counts()\n",
    "\n",
    "m_object_vc.describe(percentiles=[.5, .75, .9, .99])"
   ]
  },
  {
   "cell_type": "markdown",
   "metadata": {},
   "source": [
    "* 50% dos m_object ocorrem 7 ou menos vezes\n",
    "* 50% dos m_object ocorrem 8 ou mais vezes"
   ]
  },
  {
   "cell_type": "code",
   "execution_count": 51,
   "metadata": {},
   "outputs": [
    {
     "data": {
      "text/plain": [
       "<matplotlib.axes._subplots.AxesSubplot at 0x7fbc0c172b00>"
      ]
     },
     "execution_count": 51,
     "metadata": {},
     "output_type": "execute_result"
    },
    {
     "data": {
      "image/png": "[encoded data removed]",
      "text/plain": [
       "<Figure size 864x360 with 1 Axes>"
      ]
     },
     "metadata": {
      "needs_background": "light"
     },
     "output_type": "display_data"
    }
   ],
   "source": [
    "m_object_vc.hist(bins=20, figsize=(12, 5))"
   ]
  }
 ],
 "metadata": {
  "kernelspec": {
   "display_name": "Python 3",
   "language": "python",
   "name": "python3"
  },
  "language_info": {
   "codemirror_mode": {
    "name": "ipython",
    "version": 3
   },
   "file_extension": ".py",
   "mimetype": "text/x-python",
   "name": "python",
   "nbconvert_exporter": "python",
   "pygments_lexer": "ipython3",
   "version": "3.6.7"
  }
 },
 "nbformat": 4,
 "nbformat_minor": 2
}
