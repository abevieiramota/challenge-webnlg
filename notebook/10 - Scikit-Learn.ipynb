{
 "cells": [
  {
   "cell_type": "code",
   "execution_count": 1,
   "metadata": {},
   "outputs": [],
   "source": [
    "import logging\n",
    "logger = logging.getLogger()\n",
    "logger.setLevel(logging.CRITICAL)\n",
    "\n",
    "from sklearn.base import BaseEstimator, RegressorMixin\n",
    "from itertools import repeat, chain\n",
    "import numpy as np\n",
    "from sklearn.model_selection import GridSearchCV\n",
    "from sklearn.metrics import make_scorer\n",
    "from nltk.translate.bleu_score import corpus_bleu, sentence_bleu\n",
    "from nltk.tokenize import WhitespaceTokenizer\n",
    "\n",
    "import os\n",
    "\n",
    "os.sys.path.insert(0, '../script')\n",
    "from webnlg import WebNLGCorpus\n",
    "from lexicalization import preprocess_so\n",
    "\n",
    "from sentence_aggregation import JustJoinSentencesSentenceAggregator\n",
    "from sentence_generation import JustJoinTripleSentenceGenerator, MostFrequentTemplateSentenceGenerator, FallBackPipelineSentenceGenerator, NearestPredicateTemplateSentenceGenerator\n",
    "from discourse_structuring import MostFrequentFirstDiscourseStructuring, ChainDiscourseStructuring\n",
    "from data_alignment import RootDataAlignmentModel, NGramDataAlignmentModel, SPODataAlignmentModel, FallBackDataAlignmentModel\n",
    "from template_extraction import TemplateExtractor\n",
    "from text_generation import IfAfterNthProcessPipelineTextGenerator\n",
    "from lexicalization import LexicalizeAsAligned, LexicalizePreprocessed, FallBackLexicalize\n",
    "from webnlg import preprocess_triple_text\n",
    "from textacy import similarity\n",
    "import spacy\n",
    "\n",
    "nlp = spacy.load('en_core_web_lg')"
   ]
  },
  {
   "cell_type": "code",
   "execution_count": 42,
   "metadata": {},
   "outputs": [],
   "source": [
    "class NLGBaseline(BaseEstimator, RegressorMixin):\n",
    "    \n",
    "    def __init__(self, sep=None, preprocess_data=None):\n",
    "        \n",
    "        self.sep = sep\n",
    "        self.preprocess_data = preprocess_data\n",
    "\n",
    "            \n",
    "    def fit(self, X, y=None):\n",
    "        pass\n",
    "    \n",
    "    \n",
    "    def predict_entry(self, x):\n",
    "        \n",
    "        sens = []\n",
    "        \n",
    "        for data in x:\n",
    "                \n",
    "            m_s = self.preprocess_data(data['subject'])\n",
    "            m_p = self.preprocess_data(data['predicate'])\n",
    "            m_o = self.preprocess_data(data['object'])\n",
    "        \n",
    "            sens.append(f'{m_s} {m_p} {m_o}')\n",
    "        \n",
    "        return self.sep.join(sens)\n",
    "    \n",
    "    \n",
    "    def predict(self, X, y=None):\n",
    "        \n",
    "        return [self.predict_entry(x) for x in X]"
   ]
  },
  {
   "cell_type": "code",
   "execution_count": 2,
   "metadata": {},
   "outputs": [],
   "source": [
    "test = WebNLGCorpus.load(\"test_with_lex\")\n",
    "train = WebNLGCorpus.load(['train', 'dev'])\n",
    "\n",
    "X = np.array([t.get_data() for t in train])\n",
    "y = np.array([t.lexes() for t in train])\n",
    "\n",
    "X_test = np.array([t.get_data() for t in test])\n",
    "y_test = np.array([t.lexes() for t in test])"
   ]
  },
  {
   "cell_type": "code",
   "execution_count": 43,
   "metadata": {},
   "outputs": [
    {
     "data": {
      "text/plain": [
       "GridSearchCV(cv=4, error_score='raise',\n",
       "       estimator=NLGBaseline(preprocess_data=None, sep=None),\n",
       "       fit_params={}, iid=True, n_jobs=1,\n",
       "       param_grid={'sep': [' '], 'preprocess_data': [<function preprocess_so at 0x7f4be2e73048>]},\n",
       "       pre_dispatch='2*n_jobs', refit=True, scoring=make_scorer(bleu_),\n",
       "       verbose=0)"
      ]
     },
     "execution_count": 43,
     "metadata": {},
     "output_type": "execute_result"
    }
   ],
   "source": [
    "wt = WhitespaceTokenizer()\n",
    "\n",
    "def bleu_(y_true, y_pred):\n",
    "    \n",
    "    y_true_ = [[wt.tokenize(ref) for ref in refs] for refs in y_true]\n",
    "    y_pred_ = [wt.tokenize(hypothesi) for hypothesi in y_pred]\n",
    "    \n",
    "    return corpus_bleu(y_true_, y_pred_)\n",
    "\n",
    "\n",
    "bleu = make_scorer(bleu_)\n",
    "param_grid = {'sep': [' '],\n",
    "              'preprocess_data': [preprocess_so]}\n",
    "\n",
    "cv = GridSearchCV(NLGBaseline(), param_grid, scoring=bleu, cv=4)\n",
    "\n",
    "cv.fit(X, y)"
   ]
  },
  {
   "cell_type": "code",
   "execution_count": 44,
   "metadata": {},
   "outputs": [
    {
     "data": {
      "text/plain": [
       "[mean: 0.17828, std: 0.02259, params: {'preprocess_data': <function preprocess_so at 0x7f4be2e73048>, 'sep': ' '}]"
      ]
     },
     "execution_count": 44,
     "metadata": {},
     "output_type": "execute_result"
    }
   ],
   "source": [
    "cv.grid_scores_"
   ]
  },
  {
   "cell_type": "markdown",
   "metadata": {},
   "source": [
    "# Template-Based"
   ]
  },
  {
   "cell_type": "code",
   "execution_count": 3,
   "metadata": {},
   "outputs": [],
   "source": [
    "class NLGTemplateBased(BaseEstimator, RegressorMixin):\n",
    "    \n",
    "    def __init__(self, data_alignment=None, discourse_structurer=None, processor=lambda x: x, sentence_generator=None, lexicalizer=None, sentence_aggregator=None, nth=-1):\n",
    "        \n",
    "        self.data_alignment = data_alignment\n",
    "        self.discourse_structurer = discourse_structurer\n",
    "        self.sentence_generator = sentence_generator\n",
    "        self.lexicalizer = lexicalizer\n",
    "        self.sentence_aggregator = sentence_aggregator\n",
    "        self.nth = nth\n",
    "        self.processor = processor\n",
    "        \n",
    "\n",
    "    def fit(self, X, y=None):\n",
    "        \n",
    "        self.template_extractor = TemplateExtractor(self.data_alignment)\n",
    "        \n",
    "        # 1-triple size\n",
    "        X_1, y_1 = zip(*[(x[0], y_) for (x, y_) in zip(X, y) if len(x) == 1])\n",
    "        \n",
    "        X_1 = list(chain.from_iterable([x_1]*len(y_1_) for (x_1, y_1_) in zip(X_1, y_1)))\n",
    "        y_1 = list(chain.from_iterable(y_1))\n",
    "        \n",
    "        self.template_extractor.fit(y_1, X_1)\n",
    "        self.sentence_generator.fit(self.template_extractor)\n",
    "        self.lexicalizer.fit(self.data_alignment)\n",
    "        self.discourse_structurer.fit(self.template_extractor)\n",
    "    \n",
    "\n",
    "    def predict(self, X, y=None):\n",
    "        \n",
    "        generated_texts = []\n",
    "\n",
    "        for entry in X:\n",
    "\n",
    "            sorted_data = self.discourse_structurer.sort(entry)\n",
    "            \n",
    "            sentences = []\n",
    "            for i, d in enumerate(sorted_data):\n",
    "\n",
    "                if i > self.nth:\n",
    "\n",
    "                    d = self.processor(d)\n",
    "                    \n",
    "                lexicalized = self.lexicalizer.lexicalize(d)\n",
    "                \n",
    "                sentence = self.sentence_generator.generate(lexicalized)\n",
    "                \n",
    "                sentences.append(sentence)\n",
    "                \n",
    "            text = self.sentence_aggregator.aggregate(sentences)\n",
    "\n",
    "            generated_texts.append(text)\n",
    "\n",
    "        return generated_texts"
   ]
  },
  {
   "cell_type": "code",
   "execution_count": 23,
   "metadata": {},
   "outputs": [
    {
     "data": {
      "text/plain": [
       "['Balder (comics Character)  alternativeName  Balder Odinson , creator Stan Lee']"
      ]
     },
     "execution_count": 23,
     "metadata": {},
     "output_type": "execute_result"
    }
   ],
   "source": [
    "# Data Alignment\n",
    "rda = RootDataAlignmentModel(similarity.token_sort_ratio, nlp)\n",
    "ngramda = NGramDataAlignmentModel(3, similarity.jaro_winkler, nlp)\n",
    "spoda = SPODataAlignmentModel(nlp)\n",
    "\n",
    "da = FallBackDataAlignmentModel(models=[ngramda, spoda, rda])\n",
    "\n",
    "# Sentence Generation\n",
    "mft = MostFrequentTemplateSentenceGenerator()\n",
    "# npt = NearestPredicateTemplateSentenceGenerator(mft, similarity.token_sort_ratio, .6)\n",
    "jjt = JustJoinTripleSentenceGenerator()\n",
    "sent_pipe = FallBackPipelineSentenceGenerator([mft, jjt])\n",
    "\n",
    "text_agg = JustJoinSentencesSentenceAggregator(sep=' ')\n",
    "\n",
    "#cds = ChainDiscourseStructuring()\n",
    "cds = MostFrequentFirstDiscourseStructuring()\n",
    "\n",
    "le = LexicalizeAsAligned()\n",
    "lp = LexicalizePreprocessed(preprocess_triple_text)\n",
    "fle = FallBackLexicalize([le, lp])\n",
    "\n",
    "def replace_subject(d):\n",
    "    \n",
    "    d['subject'] = ','\n",
    "    \n",
    "    return d\n",
    "\n",
    "nlg = NLGTemplateBased(data_alignment=da,\n",
    "                       discourse_structurer=cds,\n",
    "                       processor=replace_subject,\n",
    "                       sentence_generator=sent_pipe,\n",
    "                       sentence_aggregator=text_agg,\n",
    "                       lexicalizer=fle,\n",
    "                       nth=0)\n",
    "\n",
    "nlg.fit(X[:200], y[:200])\n",
    "\n",
    "nlg.predict([[{'idx': '11_19',\n",
    "  'mtext': 'Balder_(comicsCharacter) | alternativeName | \"Balder Odinson\"',\n",
    "  'subject': 'Balder_(comicsCharacter) ',\n",
    "  'predicate': ' alternativeName ',\n",
    "  'object': ' \"Balder Odinson\"'},\n",
    " {'idx': '11_19',\n",
    "  'mtext': 'Balder_(comicsCharacter) | creator | Stan_Lee',\n",
    "  'subject': 'Balder_(comicsCharacter) ',\n",
    "  'predicate': 'creator',\n",
    "  'object': ' Stan_Lee'}]])"
   ]
  },
  {
   "cell_type": "code",
   "execution_count": 38,
   "metadata": {},
   "outputs": [],
   "source": [
    "from importlib import reload\n",
    "\n",
    "import discourse_structuring\n",
    "reload(discourse_structuring)\n",
    "from discourse_structuring import ChainDiscourseStructuring"
   ]
  },
  {
   "cell_type": "code",
   "execution_count": 45,
   "metadata": {},
   "outputs": [
    {
     "name": "stdout",
     "output_type": "stream",
     "text": [
      "CPU times: user 49min 28s, sys: 2.29 s, total: 49min 30s\n",
      "Wall time: 1d 15h 37min 30s\n"
     ]
    }
   ],
   "source": [
    "%%time\n",
    "\n",
    "from itertools import product\n",
    "\n",
    "rdas = [RootDataAlignmentModel(sim, nlp) for sim in [similarity.token_sort_ratio, similarity.levenshtein]]\n",
    "ngramdas = [NGramDataAlignmentModel(3, sim, nlp) for sim in [similarity.token_sort_ratio, similarity.levenshtein]]\n",
    "das = [FallBackDataAlignmentModel(models) for models in product(rdas, ngramdas)]\n",
    "\n",
    "# Sentence Generation\n",
    "mft = MostFrequentTemplateSentenceGenerator()\n",
    "# npt = NearestPredicateTemplateSentenceGenerator(mft, similarity.token_sort_ratio, .6)\n",
    "jjt = JustJoinTripleSentenceGenerator()\n",
    "sent_pipes = [FallBackPipelineSentenceGenerator([mft, jjt]), FallBackPipelineSentenceGenerator([jjt, mft])]\n",
    "\n",
    "text_agg = JustJoinSentencesSentenceAggregator(sep=' ')\n",
    "\n",
    "# poor results ChainDiscourseStructuring()\n",
    "cdss = [MostFrequentFirstDiscourseStructuring()]\n",
    "\n",
    "la = LexicalizeAsAligned()\n",
    "lp = LexicalizePreprocessed(preprocess_triple_text)\n",
    "les = [FallBackLexicalize([la, lp]), FallBackLexicalize([lp, la])]\n",
    "\n",
    "def replace_subject(d):\n",
    "    \n",
    "    d['subject'] = ','\n",
    "    \n",
    "    return d\n",
    "\n",
    "# scorer\n",
    "wt = WhitespaceTokenizer()\n",
    "\n",
    "def bleu_(y_true, y_pred):\n",
    "    \n",
    "    y_true_ = [[wt.tokenize(ref) for ref in refs] for refs in y_true]\n",
    "    y_pred_ = [wt.tokenize(hypothesi) for hypothesi in y_pred]\n",
    "    \n",
    "    return corpus_bleu(y_true_, y_pred_)\n",
    "\n",
    "bleu = make_scorer(bleu_)\n",
    "\n",
    "# grid\n",
    "param_grid = {'data_alignment': das,\n",
    "              'discourse_structurer': cdss,\n",
    "              'sentence_generator': sent_pipes,\n",
    "              'sentence_aggregator': [text_agg],\n",
    "              'lexicalizer': les,\n",
    "              'nth': [0],\n",
    "              'processor': [replace_subject]}\n",
    "\n",
    "# data\n",
    "from sklearn.utils import shuffle\n",
    "X_train, y_train = shuffle(X, y, random_state=100)\n",
    "\n",
    "cv = GridSearchCV(NLGTemplateBased(), param_grid, scoring=bleu, cv=2, return_train_score=True)\n",
    "\n",
    "cv.fit(X_train, y_train)"
   ]
  },
  {
   "cell_type": "code",
   "execution_count": 46,
   "metadata": {},
   "outputs": [
    {
     "name": "stderr",
     "output_type": "stream",
     "text": [
      "/home/abevieiramota/anaconda3/envs/webnlg/lib/python3.6/site-packages/sklearn/model_selection/_search.py:761: DeprecationWarning: The grid_scores_ attribute was deprecated in version 0.18 in favor of the more elaborate cv_results_ attribute. The grid_scores_ attribute will not be available from 0.20\n",
      "  DeprecationWarning)\n"
     ]
    },
    {
     "data": {
      "text/plain": [
       "[mean: 0.30081, std: 0.00178, params: {'data_alignment': FallBackDataAlignmentModel(models=(RootDataAlignmentModel(nlp=<spacy.lang.en.English object at 0x7f6d829087b8>,\n",
       "             similarity_metric=<function token_sort_ratio at 0x7f6d826a1bf8>), NGramDataAlignmentModel(max_n=3,\n",
       "             nlp=<spacy.lang.en.English object at 0x7f6d829087b8>,\n",
       "             similarity_metric=<function token_sort_ratio at 0x7f6d826a1bf8>))), 'discourse_structurer': MostFrequentFirstDiscourseStructuring(template_model=None), 'lexicalizer': FallBackLexicalize(models=[LexicalizeAsAligned(data_alignment=FallBackDataAlignmentModel(models=(RootDataAlignmentModel(nlp=<spacy.lang.en.English object at 0x7f6d829087b8>,\n",
       "             similarity_metric=<function token_sort_ratio at 0x7f6d826a1bf8>), NGramDataAlignmentModel(max_n=3,\n",
       "             nlp=<spacy.lang.en.Eng...1bf8>)))), LexicalizePreprocessed(preprocessor=<function preprocess_triple_text at 0x7f6d8ee92950>)]), 'nth': 0, 'processor': <function replace_subject at 0x7f6d1c211d08>, 'sentence_aggregator': JustJoinSentencesSentenceAggregator(sep=' '), 'sentence_generator': FallBackPipelineSentenceGenerator(models=[MostFrequentTemplateSentenceGenerator(), JustJoinTripleSentenceGenerator(sentence_template='{subject} {predicate} {object}')])},\n",
       " mean: 0.14442, std: 0.00254, params: {'data_alignment': FallBackDataAlignmentModel(models=(RootDataAlignmentModel(nlp=<spacy.lang.en.English object at 0x7f6d829087b8>,\n",
       "             similarity_metric=<function token_sort_ratio at 0x7f6d826a1bf8>), NGramDataAlignmentModel(max_n=3,\n",
       "             nlp=<spacy.lang.en.English object at 0x7f6d829087b8>,\n",
       "             similarity_metric=<function token_sort_ratio at 0x7f6d826a1bf8>))), 'discourse_structurer': MostFrequentFirstDiscourseStructuring(template_model=None), 'lexicalizer': FallBackLexicalize(models=[LexicalizeAsAligned(data_alignment=FallBackDataAlignmentModel(models=(RootDataAlignmentModel(nlp=<spacy.lang.en.English object at 0x7f6d829087b8>,\n",
       "             similarity_metric=<function token_sort_ratio at 0x7f6d826a1bf8>), NGramDataAlignmentModel(max_n=3,\n",
       "             nlp=<spacy.lang.en.Eng...1bf8>)))), LexicalizePreprocessed(preprocessor=<function preprocess_triple_text at 0x7f6d8ee92950>)]), 'nth': 0, 'processor': <function replace_subject at 0x7f6d1c211d08>, 'sentence_aggregator': JustJoinSentencesSentenceAggregator(sep=' '), 'sentence_generator': FallBackPipelineSentenceGenerator(models=[JustJoinTripleSentenceGenerator(sentence_template='{subject} {predicate} {object}'), MostFrequentTemplateSentenceGenerator()])},\n",
       " mean: 0.29738, std: 0.00555, params: {'data_alignment': FallBackDataAlignmentModel(models=(RootDataAlignmentModel(nlp=<spacy.lang.en.English object at 0x7f6d829087b8>,\n",
       "             similarity_metric=<function token_sort_ratio at 0x7f6d826a1bf8>), NGramDataAlignmentModel(max_n=3,\n",
       "             nlp=<spacy.lang.en.English object at 0x7f6d829087b8>,\n",
       "             similarity_metric=<function token_sort_ratio at 0x7f6d826a1bf8>))), 'discourse_structurer': MostFrequentFirstDiscourseStructuring(template_model=None), 'lexicalizer': FallBackLexicalize(models=[LexicalizePreprocessed(preprocessor=<function preprocess_triple_text at 0x7f6d8ee92950>), LexicalizeAsAligned(data_alignment=FallBackDataAlignmentModel(models=(RootDataAlignmentModel(nlp=<spacy.lang.en.English object at 0x7f6d829087b8>,\n",
       "             similarity_metric=<function token_sort_rati...at 0x7f6d829087b8>,\n",
       "             similarity_metric=<function token_sort_ratio at 0x7f6d826a1bf8>))))]), 'nth': 0, 'processor': <function replace_subject at 0x7f6d1c211d08>, 'sentence_aggregator': JustJoinSentencesSentenceAggregator(sep=' '), 'sentence_generator': FallBackPipelineSentenceGenerator(models=[MostFrequentTemplateSentenceGenerator(), JustJoinTripleSentenceGenerator(sentence_template='{subject} {predicate} {object}')])},\n",
       " mean: 0.14555, std: 0.00118, params: {'data_alignment': FallBackDataAlignmentModel(models=(RootDataAlignmentModel(nlp=<spacy.lang.en.English object at 0x7f6d829087b8>,\n",
       "             similarity_metric=<function token_sort_ratio at 0x7f6d826a1bf8>), NGramDataAlignmentModel(max_n=3,\n",
       "             nlp=<spacy.lang.en.English object at 0x7f6d829087b8>,\n",
       "             similarity_metric=<function token_sort_ratio at 0x7f6d826a1bf8>))), 'discourse_structurer': MostFrequentFirstDiscourseStructuring(template_model=None), 'lexicalizer': FallBackLexicalize(models=[LexicalizePreprocessed(preprocessor=<function preprocess_triple_text at 0x7f6d8ee92950>), LexicalizeAsAligned(data_alignment=FallBackDataAlignmentModel(models=(RootDataAlignmentModel(nlp=<spacy.lang.en.English object at 0x7f6d829087b8>,\n",
       "             similarity_metric=<function token_sort_rati...at 0x7f6d829087b8>,\n",
       "             similarity_metric=<function token_sort_ratio at 0x7f6d826a1bf8>))))]), 'nth': 0, 'processor': <function replace_subject at 0x7f6d1c211d08>, 'sentence_aggregator': JustJoinSentencesSentenceAggregator(sep=' '), 'sentence_generator': FallBackPipelineSentenceGenerator(models=[JustJoinTripleSentenceGenerator(sentence_template='{subject} {predicate} {object}'), MostFrequentTemplateSentenceGenerator()])},\n",
       " mean: 0.29696, std: 0.00621, params: {'data_alignment': FallBackDataAlignmentModel(models=(RootDataAlignmentModel(nlp=<spacy.lang.en.English object at 0x7f6d829087b8>,\n",
       "             similarity_metric=<function token_sort_ratio at 0x7f6d826a1bf8>), NGramDataAlignmentModel(max_n=3,\n",
       "             nlp=<spacy.lang.en.English object at 0x7f6d829087b8>,\n",
       "             similarity_metric=<function levenshtein at 0x7f6d826a1ae8>))), 'discourse_structurer': MostFrequentFirstDiscourseStructuring(template_model=None), 'lexicalizer': FallBackLexicalize(models=[LexicalizeAsAligned(data_alignment=FallBackDataAlignmentModel(models=(RootDataAlignmentModel(nlp=<spacy.lang.en.English object at 0x7f6d829087b8>,\n",
       "             similarity_metric=<function token_sort_ratio at 0x7f6d826a1bf8>), NGramDataAlignmentModel(max_n=3,\n",
       "             nlp=<spacy.lang.en.Eng...1bf8>)))), LexicalizePreprocessed(preprocessor=<function preprocess_triple_text at 0x7f6d8ee92950>)]), 'nth': 0, 'processor': <function replace_subject at 0x7f6d1c211d08>, 'sentence_aggregator': JustJoinSentencesSentenceAggregator(sep=' '), 'sentence_generator': FallBackPipelineSentenceGenerator(models=[MostFrequentTemplateSentenceGenerator(), JustJoinTripleSentenceGenerator(sentence_template='{subject} {predicate} {object}')])},\n",
       " mean: 0.14448, std: 0.00247, params: {'data_alignment': FallBackDataAlignmentModel(models=(RootDataAlignmentModel(nlp=<spacy.lang.en.English object at 0x7f6d829087b8>,\n",
       "             similarity_metric=<function token_sort_ratio at 0x7f6d826a1bf8>), NGramDataAlignmentModel(max_n=3,\n",
       "             nlp=<spacy.lang.en.English object at 0x7f6d829087b8>,\n",
       "             similarity_metric=<function levenshtein at 0x7f6d826a1ae8>))), 'discourse_structurer': MostFrequentFirstDiscourseStructuring(template_model=None), 'lexicalizer': FallBackLexicalize(models=[LexicalizeAsAligned(data_alignment=FallBackDataAlignmentModel(models=(RootDataAlignmentModel(nlp=<spacy.lang.en.English object at 0x7f6d829087b8>,\n",
       "             similarity_metric=<function token_sort_ratio at 0x7f6d826a1bf8>), NGramDataAlignmentModel(max_n=3,\n",
       "             nlp=<spacy.lang.en.Eng...1bf8>)))), LexicalizePreprocessed(preprocessor=<function preprocess_triple_text at 0x7f6d8ee92950>)]), 'nth': 0, 'processor': <function replace_subject at 0x7f6d1c211d08>, 'sentence_aggregator': JustJoinSentencesSentenceAggregator(sep=' '), 'sentence_generator': FallBackPipelineSentenceGenerator(models=[JustJoinTripleSentenceGenerator(sentence_template='{subject} {predicate} {object}'), MostFrequentTemplateSentenceGenerator()])},\n",
       " mean: 0.29724, std: 0.00547, params: {'data_alignment': FallBackDataAlignmentModel(models=(RootDataAlignmentModel(nlp=<spacy.lang.en.English object at 0x7f6d829087b8>,\n",
       "             similarity_metric=<function token_sort_ratio at 0x7f6d826a1bf8>), NGramDataAlignmentModel(max_n=3,\n",
       "             nlp=<spacy.lang.en.English object at 0x7f6d829087b8>,\n",
       "             similarity_metric=<function levenshtein at 0x7f6d826a1ae8>))), 'discourse_structurer': MostFrequentFirstDiscourseStructuring(template_model=None), 'lexicalizer': FallBackLexicalize(models=[LexicalizePreprocessed(preprocessor=<function preprocess_triple_text at 0x7f6d8ee92950>), LexicalizeAsAligned(data_alignment=FallBackDataAlignmentModel(models=(RootDataAlignmentModel(nlp=<spacy.lang.en.English object at 0x7f6d829087b8>,\n",
       "             similarity_metric=<function token_sort_rati...at 0x7f6d829087b8>,\n",
       "             similarity_metric=<function token_sort_ratio at 0x7f6d826a1bf8>))))]), 'nth': 0, 'processor': <function replace_subject at 0x7f6d1c211d08>, 'sentence_aggregator': JustJoinSentencesSentenceAggregator(sep=' '), 'sentence_generator': FallBackPipelineSentenceGenerator(models=[MostFrequentTemplateSentenceGenerator(), JustJoinTripleSentenceGenerator(sentence_template='{subject} {predicate} {object}')])},\n",
       " mean: 0.14555, std: 0.00118, params: {'data_alignment': FallBackDataAlignmentModel(models=(RootDataAlignmentModel(nlp=<spacy.lang.en.English object at 0x7f6d829087b8>,\n",
       "             similarity_metric=<function token_sort_ratio at 0x7f6d826a1bf8>), NGramDataAlignmentModel(max_n=3,\n",
       "             nlp=<spacy.lang.en.English object at 0x7f6d829087b8>,\n",
       "             similarity_metric=<function levenshtein at 0x7f6d826a1ae8>))), 'discourse_structurer': MostFrequentFirstDiscourseStructuring(template_model=None), 'lexicalizer': FallBackLexicalize(models=[LexicalizePreprocessed(preprocessor=<function preprocess_triple_text at 0x7f6d8ee92950>), LexicalizeAsAligned(data_alignment=FallBackDataAlignmentModel(models=(RootDataAlignmentModel(nlp=<spacy.lang.en.English object at 0x7f6d829087b8>,\n",
       "             similarity_metric=<function token_sort_rati...at 0x7f6d829087b8>,\n",
       "             similarity_metric=<function token_sort_ratio at 0x7f6d826a1bf8>))))]), 'nth': 0, 'processor': <function replace_subject at 0x7f6d1c211d08>, 'sentence_aggregator': JustJoinSentencesSentenceAggregator(sep=' '), 'sentence_generator': FallBackPipelineSentenceGenerator(models=[JustJoinTripleSentenceGenerator(sentence_template='{subject} {predicate} {object}'), MostFrequentTemplateSentenceGenerator()])},\n",
       " mean: 0.29420, std: 0.00872, params: {'data_alignment': FallBackDataAlignmentModel(models=(RootDataAlignmentModel(nlp=<spacy.lang.en.English object at 0x7f6d829087b8>,\n",
       "             similarity_metric=<function levenshtein at 0x7f6d826a1ae8>), NGramDataAlignmentModel(max_n=3,\n",
       "             nlp=<spacy.lang.en.English object at 0x7f6d829087b8>,\n",
       "             similarity_metric=<function token_sort_ratio at 0x7f6d826a1bf8>))), 'discourse_structurer': MostFrequentFirstDiscourseStructuring(template_model=None), 'lexicalizer': FallBackLexicalize(models=[LexicalizeAsAligned(data_alignment=FallBackDataAlignmentModel(models=(RootDataAlignmentModel(nlp=<spacy.lang.en.English object at 0x7f6d829087b8>,\n",
       "             similarity_metric=<function token_sort_ratio at 0x7f6d826a1bf8>), NGramDataAlignmentModel(max_n=3,\n",
       "             nlp=<spacy.lang.en.Eng...1bf8>)))), LexicalizePreprocessed(preprocessor=<function preprocess_triple_text at 0x7f6d8ee92950>)]), 'nth': 0, 'processor': <function replace_subject at 0x7f6d1c211d08>, 'sentence_aggregator': JustJoinSentencesSentenceAggregator(sep=' '), 'sentence_generator': FallBackPipelineSentenceGenerator(models=[MostFrequentTemplateSentenceGenerator(), JustJoinTripleSentenceGenerator(sentence_template='{subject} {predicate} {object}')])},\n",
       " mean: 0.14440, std: 0.00236, params: {'data_alignment': FallBackDataAlignmentModel(models=(RootDataAlignmentModel(nlp=<spacy.lang.en.English object at 0x7f6d829087b8>,\n",
       "             similarity_metric=<function levenshtein at 0x7f6d826a1ae8>), NGramDataAlignmentModel(max_n=3,\n",
       "             nlp=<spacy.lang.en.English object at 0x7f6d829087b8>,\n",
       "             similarity_metric=<function token_sort_ratio at 0x7f6d826a1bf8>))), 'discourse_structurer': MostFrequentFirstDiscourseStructuring(template_model=None), 'lexicalizer': FallBackLexicalize(models=[LexicalizeAsAligned(data_alignment=FallBackDataAlignmentModel(models=(RootDataAlignmentModel(nlp=<spacy.lang.en.English object at 0x7f6d829087b8>,\n",
       "             similarity_metric=<function token_sort_ratio at 0x7f6d826a1bf8>), NGramDataAlignmentModel(max_n=3,\n",
       "             nlp=<spacy.lang.en.Eng...1bf8>)))), LexicalizePreprocessed(preprocessor=<function preprocess_triple_text at 0x7f6d8ee92950>)]), 'nth': 0, 'processor': <function replace_subject at 0x7f6d1c211d08>, 'sentence_aggregator': JustJoinSentencesSentenceAggregator(sep=' '), 'sentence_generator': FallBackPipelineSentenceGenerator(models=[JustJoinTripleSentenceGenerator(sentence_template='{subject} {predicate} {object}'), MostFrequentTemplateSentenceGenerator()])},\n",
       " mean: 0.29496, std: 0.00779, params: {'data_alignment': FallBackDataAlignmentModel(models=(RootDataAlignmentModel(nlp=<spacy.lang.en.English object at 0x7f6d829087b8>,\n",
       "             similarity_metric=<function levenshtein at 0x7f6d826a1ae8>), NGramDataAlignmentModel(max_n=3,\n",
       "             nlp=<spacy.lang.en.English object at 0x7f6d829087b8>,\n",
       "             similarity_metric=<function token_sort_ratio at 0x7f6d826a1bf8>))), 'discourse_structurer': MostFrequentFirstDiscourseStructuring(template_model=None), 'lexicalizer': FallBackLexicalize(models=[LexicalizePreprocessed(preprocessor=<function preprocess_triple_text at 0x7f6d8ee92950>), LexicalizeAsAligned(data_alignment=FallBackDataAlignmentModel(models=(RootDataAlignmentModel(nlp=<spacy.lang.en.English object at 0x7f6d829087b8>,\n",
       "             similarity_metric=<function token_sort_rati...at 0x7f6d829087b8>,\n",
       "             similarity_metric=<function token_sort_ratio at 0x7f6d826a1bf8>))))]), 'nth': 0, 'processor': <function replace_subject at 0x7f6d1c211d08>, 'sentence_aggregator': JustJoinSentencesSentenceAggregator(sep=' '), 'sentence_generator': FallBackPipelineSentenceGenerator(models=[MostFrequentTemplateSentenceGenerator(), JustJoinTripleSentenceGenerator(sentence_template='{subject} {predicate} {object}')])},\n",
       " mean: 0.14532, std: 0.00121, params: {'data_alignment': FallBackDataAlignmentModel(models=(RootDataAlignmentModel(nlp=<spacy.lang.en.English object at 0x7f6d829087b8>,\n",
       "             similarity_metric=<function levenshtein at 0x7f6d826a1ae8>), NGramDataAlignmentModel(max_n=3,\n",
       "             nlp=<spacy.lang.en.English object at 0x7f6d829087b8>,\n",
       "             similarity_metric=<function token_sort_ratio at 0x7f6d826a1bf8>))), 'discourse_structurer': MostFrequentFirstDiscourseStructuring(template_model=None), 'lexicalizer': FallBackLexicalize(models=[LexicalizePreprocessed(preprocessor=<function preprocess_triple_text at 0x7f6d8ee92950>), LexicalizeAsAligned(data_alignment=FallBackDataAlignmentModel(models=(RootDataAlignmentModel(nlp=<spacy.lang.en.English object at 0x7f6d829087b8>,\n",
       "             similarity_metric=<function token_sort_rati...at 0x7f6d829087b8>,\n",
       "             similarity_metric=<function token_sort_ratio at 0x7f6d826a1bf8>))))]), 'nth': 0, 'processor': <function replace_subject at 0x7f6d1c211d08>, 'sentence_aggregator': JustJoinSentencesSentenceAggregator(sep=' '), 'sentence_generator': FallBackPipelineSentenceGenerator(models=[JustJoinTripleSentenceGenerator(sentence_template='{subject} {predicate} {object}'), MostFrequentTemplateSentenceGenerator()])},\n",
       " mean: 0.29452, std: 0.00840, params: {'data_alignment': FallBackDataAlignmentModel(models=(RootDataAlignmentModel(nlp=<spacy.lang.en.English object at 0x7f6d829087b8>,\n",
       "             similarity_metric=<function levenshtein at 0x7f6d826a1ae8>), NGramDataAlignmentModel(max_n=3,\n",
       "             nlp=<spacy.lang.en.English object at 0x7f6d829087b8>,\n",
       "             similarity_metric=<function levenshtein at 0x7f6d826a1ae8>))), 'discourse_structurer': MostFrequentFirstDiscourseStructuring(template_model=None), 'lexicalizer': FallBackLexicalize(models=[LexicalizeAsAligned(data_alignment=FallBackDataAlignmentModel(models=(RootDataAlignmentModel(nlp=<spacy.lang.en.English object at 0x7f6d829087b8>,\n",
       "             similarity_metric=<function token_sort_ratio at 0x7f6d826a1bf8>), NGramDataAlignmentModel(max_n=3,\n",
       "             nlp=<spacy.lang.en.Eng...1bf8>)))), LexicalizePreprocessed(preprocessor=<function preprocess_triple_text at 0x7f6d8ee92950>)]), 'nth': 0, 'processor': <function replace_subject at 0x7f6d1c211d08>, 'sentence_aggregator': JustJoinSentencesSentenceAggregator(sep=' '), 'sentence_generator': FallBackPipelineSentenceGenerator(models=[MostFrequentTemplateSentenceGenerator(), JustJoinTripleSentenceGenerator(sentence_template='{subject} {predicate} {object}')])},\n",
       " mean: 0.14440, std: 0.00236, params: {'data_alignment': FallBackDataAlignmentModel(models=(RootDataAlignmentModel(nlp=<spacy.lang.en.English object at 0x7f6d829087b8>,\n",
       "             similarity_metric=<function levenshtein at 0x7f6d826a1ae8>), NGramDataAlignmentModel(max_n=3,\n",
       "             nlp=<spacy.lang.en.English object at 0x7f6d829087b8>,\n",
       "             similarity_metric=<function levenshtein at 0x7f6d826a1ae8>))), 'discourse_structurer': MostFrequentFirstDiscourseStructuring(template_model=None), 'lexicalizer': FallBackLexicalize(models=[LexicalizeAsAligned(data_alignment=FallBackDataAlignmentModel(models=(RootDataAlignmentModel(nlp=<spacy.lang.en.English object at 0x7f6d829087b8>,\n",
       "             similarity_metric=<function token_sort_ratio at 0x7f6d826a1bf8>), NGramDataAlignmentModel(max_n=3,\n",
       "             nlp=<spacy.lang.en.Eng...1bf8>)))), LexicalizePreprocessed(preprocessor=<function preprocess_triple_text at 0x7f6d8ee92950>)]), 'nth': 0, 'processor': <function replace_subject at 0x7f6d1c211d08>, 'sentence_aggregator': JustJoinSentencesSentenceAggregator(sep=' '), 'sentence_generator': FallBackPipelineSentenceGenerator(models=[JustJoinTripleSentenceGenerator(sentence_template='{subject} {predicate} {object}'), MostFrequentTemplateSentenceGenerator()])},\n",
       " mean: 0.29496, std: 0.00779, params: {'data_alignment': FallBackDataAlignmentModel(models=(RootDataAlignmentModel(nlp=<spacy.lang.en.English object at 0x7f6d829087b8>,\n",
       "             similarity_metric=<function levenshtein at 0x7f6d826a1ae8>), NGramDataAlignmentModel(max_n=3,\n",
       "             nlp=<spacy.lang.en.English object at 0x7f6d829087b8>,\n",
       "             similarity_metric=<function levenshtein at 0x7f6d826a1ae8>))), 'discourse_structurer': MostFrequentFirstDiscourseStructuring(template_model=None), 'lexicalizer': FallBackLexicalize(models=[LexicalizePreprocessed(preprocessor=<function preprocess_triple_text at 0x7f6d8ee92950>), LexicalizeAsAligned(data_alignment=FallBackDataAlignmentModel(models=(RootDataAlignmentModel(nlp=<spacy.lang.en.English object at 0x7f6d829087b8>,\n",
       "             similarity_metric=<function token_sort_rati...at 0x7f6d829087b8>,\n",
       "             similarity_metric=<function token_sort_ratio at 0x7f6d826a1bf8>))))]), 'nth': 0, 'processor': <function replace_subject at 0x7f6d1c211d08>, 'sentence_aggregator': JustJoinSentencesSentenceAggregator(sep=' '), 'sentence_generator': FallBackPipelineSentenceGenerator(models=[MostFrequentTemplateSentenceGenerator(), JustJoinTripleSentenceGenerator(sentence_template='{subject} {predicate} {object}')])},\n",
       " mean: 0.14532, std: 0.00121, params: {'data_alignment': FallBackDataAlignmentModel(models=(RootDataAlignmentModel(nlp=<spacy.lang.en.English object at 0x7f6d829087b8>,\n",
       "             similarity_metric=<function levenshtein at 0x7f6d826a1ae8>), NGramDataAlignmentModel(max_n=3,\n",
       "             nlp=<spacy.lang.en.English object at 0x7f6d829087b8>,\n",
       "             similarity_metric=<function levenshtein at 0x7f6d826a1ae8>))), 'discourse_structurer': MostFrequentFirstDiscourseStructuring(template_model=None), 'lexicalizer': FallBackLexicalize(models=[LexicalizePreprocessed(preprocessor=<function preprocess_triple_text at 0x7f6d8ee92950>), LexicalizeAsAligned(data_alignment=FallBackDataAlignmentModel(models=(RootDataAlignmentModel(nlp=<spacy.lang.en.English object at 0x7f6d829087b8>,\n",
       "             similarity_metric=<function token_sort_rati...at 0x7f6d829087b8>,\n",
       "             similarity_metric=<function token_sort_ratio at 0x7f6d826a1bf8>))))]), 'nth': 0, 'processor': <function replace_subject at 0x7f6d1c211d08>, 'sentence_aggregator': JustJoinSentencesSentenceAggregator(sep=' '), 'sentence_generator': FallBackPipelineSentenceGenerator(models=[JustJoinTripleSentenceGenerator(sentence_template='{subject} {predicate} {object}'), MostFrequentTemplateSentenceGenerator()])}]"
      ]
     },
     "execution_count": 46,
     "metadata": {},
     "output_type": "execute_result"
    }
   ],
   "source": [
    "cv.grid_scores_"
   ]
  },
  {
   "cell_type": "code",
   "execution_count": 47,
   "metadata": {},
   "outputs": [
    {
     "ename": "NameError",
     "evalue": "name 'model' is not defined",
     "output_type": "error",
     "traceback": [
      "\u001b[0;31m---------------------------------------------------------------------------\u001b[0m",
      "\u001b[0;31mNameError\u001b[0m                                 Traceback (most recent call last)",
      "\u001b[0;32m<ipython-input-47-2518635a6356>\u001b[0m in \u001b[0;36m<module>\u001b[0;34m\u001b[0m\n\u001b[0;32m----> 1\u001b[0;31m \u001b[0mbleu\u001b[0m\u001b[0;34m(\u001b[0m\u001b[0mmodel\u001b[0m\u001b[0;34m,\u001b[0m \u001b[0mX_test\u001b[0m\u001b[0;34m,\u001b[0m \u001b[0my_test\u001b[0m\u001b[0;34m)\u001b[0m\u001b[0;34m\u001b[0m\u001b[0m\n\u001b[0m",
      "\u001b[0;31mNameError\u001b[0m: name 'model' is not defined"
     ]
    }
   ],
   "source": [
    "bleu(model, X_test, y_test)"
   ]
  },
  {
   "cell_type": "code",
   "execution_count": null,
   "metadata": {},
   "outputs": [],
   "source": [
    "texts = model.predict(X_test)"
   ]
  },
  {
   "cell_type": "code",
   "execution_count": null,
   "metadata": {},
   "outputs": [],
   "source": [
    "import codecs\n",
    "\n",
    "with codecs.open('../data/models/scikit-learn', 'w', 'utf-8') as f:\n",
    "    \n",
    "    for text in texts:\n",
    "        \n",
    "        f.write(\"{}\\n\".format(text))"
   ]
  },
  {
   "cell_type": "code",
   "execution_count": null,
   "metadata": {},
   "outputs": [],
   "source": [
    "!head -100 ../data/models/scikit-learn | tail -10"
   ]
  },
  {
   "cell_type": "code",
   "execution_count": null,
   "metadata": {},
   "outputs": [],
   "source": [
    "!mkdir ../tmp/scikit-learn "
   ]
  },
  {
   "cell_type": "code",
   "execution_count": null,
   "metadata": {},
   "outputs": [],
   "source": [
    "!python ../evaluation/webnlg2017/webnlg-automatic-evaluation-v2/evaluation_v2.py --team_name scikit-learn --team_filepath ../data/models/scikit-learn --outdir ../tmp/scikit-learn "
   ]
  },
  {
   "cell_type": "code",
   "execution_count": null,
   "metadata": {},
   "outputs": [],
   "source": [
    "bleu_all_cat = \"../tmp/scikit-learn/scikit-learn_all-cat.txt\"\n",
    "\n",
    "!../evaluation/webnlg2017/webnlg-baseline-master/multi-bleu.perl -lc ../evaluation/webnlg2017/webnlg-automatic-evaluation/references/gold-all-cat-reference0.lex ../evaluation/webnlg2017/webnlg-automatic-evaluation/references/gold-all-cat-reference1.lex ../evaluation/webnlg2017/webnlg-automatic-evaluation/references/gold-all-cat-reference2.lex < \"$bleu_all_cat\""
   ]
  },
  {
   "cell_type": "code",
   "execution_count": null,
   "metadata": {},
   "outputs": [],
   "source": []
  }
 ],
 "metadata": {
  "kernelspec": {
   "display_name": "Python 3",
   "language": "python",
   "name": "python3"
  },
  "language_info": {
   "codemirror_mode": {
    "name": "ipython",
    "version": 3
   },
   "file_extension": ".py",
   "mimetype": "text/x-python",
   "name": "python",
   "nbconvert_exporter": "python",
   "pygments_lexer": "ipython3",
   "version": "3.6.6"
  }
 },
 "nbformat": 4,
 "nbformat_minor": 2
}
