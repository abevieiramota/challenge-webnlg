{
 "cells": [
  {
   "cell_type": "code",
   "execution_count": 28,
   "metadata": {},
   "outputs": [
    {
     "data": {
      "text/plain": [
       "dict_keys(['cityServed', 'elevationAboveTheSeaLevel_(in_metres)', 'location', 'operatingOrganisation', 'runwayLength', 'runwayName', 'country', 'isPartOf', '1st_runway_LengthFeet', '1st_runway_SurfaceType', '3rd_runway_LengthFeet', 'ICAO_Location_Identifier', 'locationIdentifier', 'elevationAboveTheSeaLevel_(in_feet)', 'IATA_Location_Identifier', 'nativeName', 'leaderParty', 'capital', 'language', 'leaderName', 'owner', '1st_runway_LengthMetre', '4th_runway_SurfaceType', '5th_runway_Number', 'largestCity', '4th_runway_LengthFeet', '1st_runway_Number', 'administrativeArrondissement', 'mayor', '2nd_runway_SurfaceType', '3rd_runway_SurfaceType', 'runwaySurfaceType', 'officialLanguage', 'locationCity', 'jurisdiction', 'demonym', 'aircraftHelicopter', 'transportAircraft', 'currency', 'headquarter', 'class', 'division', 'order', 'regionServed', 'leaderTitle', 'hubAirport', 'aircraftFighter', 'attackAircraft', 'battles', 'areaOfWater', 'areaTotal', 'elevationAboveTheSeaLevel', 'populationDensity', 'areaCode', 'areaOfLand', 'leader', 'UTCOffset', 'populationTotal', 'postalCode', 'chairperson', 'countySeat', 'ethnicGroup', 'alternativeName', 'creator', 'fullName', 'foundedBy', 'keyPerson', 'product', 'lastAired', 'starring', 'firstAppearanceInFilm', 'voice', 'distributor', 'birthPlace', 'nationality', 'award', 'architecturalStyle', 'buildingStartDate', 'completionDate', 'floorCount', 'cost', 'floorArea', 'architect', 'formerName', 'height', 'buildingType', 'developer', 'tenant', 'currentTenants', 'address', 'inaugurationDate', 'placeOfDeath', 'bedCount', 'region', 'state', 'website', 'yearOfConstruction', 'ReferenceNumber in the National Register of Historic Places', 'added to the National Register of Historic Places', 'significantBuilding', 'governingBody', 'chancellor', 'governmentType', 'hometown', 'significantProject', 'foundationPlace', 'author', 'ISBN_number', 'followedBy', 'mediaType', 'numberOfPages', 'precededBy', 'almaMater', 'doctoralAdvisor', 'residence', 'CODEN_code', 'ISSN_number', 'LCCN_number', 'abbreviation', 'academicDiscipline', 'publisher', 'firstPublicationYear', 'editor', 'impactFactor', 'OCLC_number', 'LibraryofCongressClassification', 'genre', 'literaryGenre', 'EISSN_number', 'frequency', 'affiliation', 'city', 'president', 'spokenIn', 'influencedBy', 'family', 'deathPlace', 'notableWork', 'parentCompany', 'founder', 'ingredient', 'course', 'dishVariation', 'mainIngredients', 'creatorOfDish', 'servingTemperature', 'carbohydrate', 'fat', 'year', 'related', 'similarDish', 'genus', 'administrativeCounty', 'numberOfMembers', 'season', 'league', 'manager', 'ground', 'fullname', 'chairman', 'nickname', 'chairmanTitle', 'part', 'champions', 'club', 'placeOfBirth', 'youthclub', 'operator', 'birthDate', 'birthName', 'dateOfRetirement', 'occupation', 'status', 'timeInSpace', 'was a crew member of', 'was selected by NASA', 'deathDate', 'served as Chief of the Astronaut Office in', 'title', 'was awarded', 'backup pilot', 'commander', 'crewMembers', 'representative', 'alternativeNames', 'awards', 'fossil', 'senators', 'partsType', 'higher', 'bird', 'compete in', 'category', 'municipality', 'district', 'established', 'foundingDate', 'owningOrganisation', 'has to its north', 'has to its southwest', 'has to its west', 'legislature', 'dedicatedTo', 'designer', 'material', 'ethnicGroups', 'languages', 'religion', 'nearestCity', 'latinName', 'rector', 'academicStaffSize', 'has to its northeast', 'dean', 'numberOfStudents', 'director', 'motto', 'numberOfPostgraduateStudents', 'numberOfUndergraduateStudents', 'officialSchoolColour', 'outlookRanking', 'sportsOffered', \"was given the 'Technical Campus' status by\", 'headquarters', 'river', 'anthem', 'sportsGoverningBody', 'broadcastedBy', 'firstAired', 'series', 'child', 'affiliations', 'mascot', 'campus', 'patronSaint', 'chief', 'protein'])"
      ]
     },
     "execution_count": 28,
     "metadata": {},
     "output_type": "execute_result"
    }
   ],
   "source": [
    "te.template_db.keys()"
   ]
  },
  {
   "cell_type": "code",
   "execution_count": 21,
   "metadata": {},
   "outputs": [
    {
     "data": {
      "text/plain": [
       "dict_keys(['cityServed', 'elevationAboveTheSeaLevel_(in_metres)', 'location', 'operatingOrganisation', 'runwayLength', 'runwayName', 'country', 'isPartOf', '1st_runway_LengthFeet', '1st_runway_SurfaceType', '3rd_runway_LengthFeet', 'ICAO_Location_Identifier', 'locationIdentifier', 'elevationAboveTheSeaLevel_(in_feet)', 'IATA_Location_Identifier', 'nativeName', 'leaderParty', 'capital', 'language', 'leaderName', 'owner', '1st_runway_LengthMetre', '4th_runway_SurfaceType', '5th_runway_Number', 'largestCity', '4th_runway_LengthFeet', '1st_runway_Number', 'administrativeArrondissement', 'mayor', '2nd_runway_SurfaceType', '3rd_runway_SurfaceType', 'runwaySurfaceType', 'officialLanguage', 'locationCity', 'jurisdiction', 'demonym', 'aircraftHelicopter', 'transportAircraft', 'currency', 'headquarter', 'class', 'division', 'order', 'regionServed', 'leaderTitle', 'hubAirport', 'aircraftFighter', 'attackAircraft', 'battles', 'areaOfWater', 'areaTotal', 'elevationAboveTheSeaLevel', 'populationDensity', 'areaCode', 'areaOfLand', 'leader', 'UTCOffset', 'populationTotal', 'postalCode', 'chairperson', 'countySeat', 'ethnicGroup', 'alternativeName', 'creator', 'fullName', 'foundedBy', 'keyPerson', 'product', 'lastAired', 'starring', 'firstAppearanceInFilm', 'voice', 'distributor', 'birthPlace', 'nationality', 'award', 'architecturalStyle', 'buildingStartDate', 'completionDate', 'floorCount', 'cost', 'floorArea', 'architect', 'formerName', 'height', 'buildingType', 'developer', 'tenant', 'currentTenants', 'address', 'inaugurationDate', 'placeOfDeath', 'bedCount', 'region', 'state', 'website', 'yearOfConstruction', 'ReferenceNumber in the National Register of Historic Places', 'added to the National Register of Historic Places', 'significantBuilding', 'governingBody', 'chancellor', 'governmentType', 'hometown', 'significantProject', 'foundationPlace', 'author', 'ISBN_number', 'followedBy', 'mediaType', 'numberOfPages', 'precededBy', 'almaMater', 'doctoralAdvisor', 'residence', 'CODEN_code', 'ISSN_number', 'LCCN_number', 'abbreviation', 'academicDiscipline', 'publisher', 'firstPublicationYear', 'editor', 'impactFactor', 'OCLC_number', 'LibraryofCongressClassification', 'genre', 'literaryGenre', 'EISSN_number', 'frequency', 'affiliation', 'city', 'president', 'spokenIn', 'influencedBy', 'family', 'deathPlace', 'notableWork', 'parentCompany', 'founder', 'ingredient', 'course', 'dishVariation', 'mainIngredients', 'creatorOfDish', 'servingTemperature', 'carbohydrate', 'fat', 'year', 'related', 'similarDish', 'genus', 'administrativeCounty', 'numberOfMembers', 'season', 'league', 'manager', 'ground', 'fullname', 'chairman', 'nickname', 'chairmanTitle', 'part', 'champions', 'club', 'placeOfBirth', 'youthclub', 'operator', 'birthDate', 'birthName', 'dateOfRetirement', 'occupation', 'status', 'timeInSpace', 'was a crew member of', 'was selected by NASA', 'deathDate', 'served as Chief of the Astronaut Office in', 'title', 'was awarded', 'backup pilot', 'commander', 'crewMembers', 'representative', 'alternativeNames', 'awards', 'fossil', 'senators', 'partsType', 'higher', 'bird', 'compete in', 'category', 'municipality', 'district', 'established', 'foundingDate', 'owningOrganisation', 'has to its north', 'has to its southwest', 'has to its west', 'legislature', 'dedicatedTo', 'designer', 'material', 'ethnicGroups', 'languages', 'religion', 'nearestCity', 'latinName', 'rector', 'academicStaffSize', 'has to its northeast', 'dean', 'numberOfStudents', 'director', 'motto', 'numberOfPostgraduateStudents', 'numberOfUndergraduateStudents', 'officialSchoolColour', 'outlookRanking', 'sportsOffered', \"was given the 'Technical Campus' status by\", 'headquarters', 'river', 'anthem', 'sportsGoverningBody', 'broadcastedBy', 'firstAired', 'series', 'child', 'affiliations', 'mascot', 'campus', 'patronSaint', 'chief', 'protein'])"
      ]
     },
     "execution_count": 21,
     "metadata": {},
     "output_type": "execute_result"
    }
   ],
   "source": [
    "mft.template_db.keys()"
   ]
  },
  {
   "cell_type": "code",
   "execution_count": 83,
   "metadata": {},
   "outputs": [],
   "source": [
    "npt = NearestPredicateTemplateSentenceGenerator(template_sentence_generator=mft,\n",
    "                                                similarity_metric=similarity.levenshtein,\n",
    "                                                predicates=test_not_in_1,\n",
    "                                                preprocessor=preprocess_triple_text,\n",
    "                                                threshold=.7)"
   ]
  },
  {
   "cell_type": "code",
   "execution_count": 43,
   "metadata": {},
   "outputs": [
    {
     "data": {
      "text/plain": [
       "('demonym', 1.0)"
      ]
     },
     "execution_count": 43,
     "metadata": {},
     "output_type": "execute_result"
    }
   ],
   "source": [
    "npt.get_nearest_predicate('demonym')"
   ]
  },
  {
   "cell_type": "code",
   "execution_count": 44,
   "metadata": {},
   "outputs": [
    {
     "data": {
      "text/plain": [
       "{m_subject} is inhabited by {m_object}."
      ]
     },
     "execution_count": 44,
     "metadata": {},
     "output_type": "execute_result"
    }
   ],
   "source": [
    "mft.template_db['demonym']"
   ]
  },
  {
   "cell_type": "code",
   "execution_count": 75,
   "metadata": {},
   "outputs": [
    {
     "data": {
      "text/plain": [
       "[({m_subject} {m_object} Location Identifier is KABI.,\n",
       "  1,\n",
       "  [('Abilene Regional Airport ICAO Location Identifier is KABI.',\n",
       "    {'m_subject': 'Abilene_Regional_Airport',\n",
       "     'm_predicate': 'ICAO_Location_Identifier',\n",
       "     'm_object': '\"KABI\"'})]),\n",
       " (KABI is the {m_object} location identifier of {m_subject}.,\n",
       "  1,\n",
       "  [('KABI is the ICAO location identifier of Abilene Regional Airport.',\n",
       "    {'m_subject': 'Abilene_Regional_Airport',\n",
       "     'm_predicate': 'ICAO_Location_Identifier',\n",
       "     'm_object': '\"KABI\"'})]),\n",
       " (The {m_object} Location Identifier of {m_subject} is KABI.,\n",
       "  1,\n",
       "  [('The ICAO Location Identifier of Abilene Regional Airport is KABI.',\n",
       "    {'m_subject': 'Abilene_Regional_Airport',\n",
       "     'm_predicate': 'ICAO_Location_Identifier',\n",
       "     'm_object': '\"KABI\"'})]),\n",
       " ({m_object} location identifier for {m_subject} is VIAG.,\n",
       "  1,\n",
       "  [('The location identifier for Agra Airport is VIAG.',\n",
       "    {'m_subject': 'Agra_Airport',\n",
       "     'm_predicate': 'ICAO_Location_Identifier',\n",
       "     'm_object': '\"VIAG\"'})]),\n",
       " ({m_object} {m_subject}'s ICAO location identifier is \"VIAG\".,\n",
       "  1,\n",
       "  [('The Agra Airport\\'s ICAO location identifier is \"VIAG\".',\n",
       "    {'m_subject': 'Agra_Airport',\n",
       "     'm_predicate': 'ICAO_Location_Identifier',\n",
       "     'm_object': '\"VIAG\"'})]),\n",
       " ({m_object} ICAO Location Identifier of {m_subject} is VIAG.,\n",
       "  1,\n",
       "  [('The ICAO Location Identifier of Agra Airport is VIAG.',\n",
       "    {'m_subject': 'Agra_Airport',\n",
       "     'm_predicate': 'ICAO_Location_Identifier',\n",
       "     'm_object': '\"VIAG\"'})]),\n",
       " ({m_object} is the ICAO location identifier of {m_subject},.,\n",
       "  1,\n",
       "  [('ORAA is the ICAO location identifier of Al Asad Airbase,.',\n",
       "    {'m_subject': 'Al_Asad_Airbase',\n",
       "     'm_predicate': 'ICAO_Location_Identifier',\n",
       "     'm_object': '\"ORAA\"'})]),\n",
       " (The ICAO Location Identifier of {m_subject} is {m_object}.,\n",
       "  1,\n",
       "  [('The ICAO Location Identifier of Al Asad Airbase is ORAA.',\n",
       "    {'m_subject': 'Al_Asad_Airbase',\n",
       "     'm_predicate': 'ICAO_Location_Identifier',\n",
       "     'm_object': '\"ORAA\"'})]),\n",
       " ({m_subject}'s {m_object} Location Identifier is KACY.,\n",
       "  1,\n",
       "  [(\"Atlantic City International Airport's ICAO Location Identifier is KACY.\",\n",
       "    {'m_subject': 'Atlantic_City_International_Airport',\n",
       "     'm_predicate': 'ICAO_Location_Identifier',\n",
       "     'm_object': '\"KACY\"'})]),\n",
       " (KACY is the {m_object} Location Identifier of {m_subject}.,\n",
       "  1,\n",
       "  [('KACY is the ICAO Location Identifier of Atlantic City International Airport.',\n",
       "    {'m_subject': 'Atlantic_City_International_Airport',\n",
       "     'm_predicate': 'ICAO_Location_Identifier',\n",
       "     'm_object': '\"KACY\"'})])]"
      ]
     },
     "execution_count": 75,
     "metadata": {},
     "output_type": "execute_result"
    }
   ],
   "source": [
    "sorted([(k, len(v), v) for k, v in te.template_db['ICAO_Location_Identifier'].items()], key=lambda x: x[1], reverse=True)"
   ]
  },
  {
   "cell_type": "code",
   "execution_count": 32,
   "metadata": {},
   "outputs": [
    {
     "data": {
      "text/plain": [
       "(Schiphol Airport in Amsterdam, asphalt)"
      ]
     },
     "execution_count": 32,
     "metadata": {},
     "output_type": "execute_result"
    }
   ],
   "source": [
    "da = NGramDataAlignmentModel(4, similarity.jaccard, nlp)\n",
    "da.align_data('The fourth runway at Schiphol Airport in Amsterdam is made of asphalt.', {'m_subject': 'Amsterdam_Airport_Schiphol',\n",
    "                'm_predicate': '4th_runway_SurfaceType',\n",
    "                'm_object': '\"Asphalt\"'})"
   ]
  },
  {
   "cell_type": "code",
   "execution_count": 64,
   "metadata": {},
   "outputs": [
    {
     "data": {
      "text/plain": [
       "{'m_subject': 'Afonso Pena International Airport',\n",
       " 'm_predicate': 'ICAO_Location_Identifier',\n",
       " 'm_object': '\"SBCT\"'}"
      ]
     },
     "execution_count": 64,
     "metadata": {},
     "output_type": "execute_result"
    }
   ],
   "source": [
    "le.lexicalize({'m_subject': 'Afonso_Pena_International_Airport',\n",
    "  'm_predicate': 'ICAO_Location_Identifier',\n",
    "  'm_object': '\"SBCT\"'})"
   ]
  },
  {
   "cell_type": "code",
   "execution_count": null,
   "metadata": {},
   "outputs": [],
   "source": []
  },
  {
   "cell_type": "code",
   "execution_count": 1,
   "metadata": {},
   "outputs": [],
   "source": [
    "import os\n",
    "\n",
    "os.sys.path.insert(0, '../script')"
   ]
  },
  {
   "cell_type": "markdown",
   "metadata": {},
   "source": [
    "# Gets notebook name and commit hash"
   ]
  },
  {
   "cell_type": "code",
   "execution_count": 2,
   "metadata": {},
   "outputs": [
    {
     "data": {
      "application/javascript": [
       "IPython.notebook.kernel.execute('nb_name = \"' + IPython.notebook.notebook_name + '\"')"
      ],
      "text/plain": [
       "<IPython.core.display.Javascript object>"
      ]
     },
     "metadata": {},
     "output_type": "display_data"
    }
   ],
   "source": [
    "%%javascript\n",
    "IPython.notebook.kernel.execute('nb_name = \"' + IPython.notebook.notebook_name + '\"')"
   ]
  },
  {
   "cell_type": "code",
   "execution_count": 3,
   "metadata": {},
   "outputs": [],
   "source": [
    "nb_name = nb_name.rsplit('.')[0]\n",
    "\n",
    "commit = !git rev-parse HEAD\n",
    "commit = commit[0]\n",
    "\n",
    "model_name = \"{}_{}\".format(nb_name, commit)"
   ]
  },
  {
   "cell_type": "code",
   "execution_count": 4,
   "metadata": {},
   "outputs": [],
   "source": [
    "output_filename = \"{}.txt\".format(model_name)\n",
    "model_filename = \"{}\".format(model_name)\n",
    "log_filename = \"{}.log\".format(model_name)\n",
    "\n",
    "import os\n",
    "\n",
    "output_filepath = os.path.join('../data/models', output_filename)\n",
    "model_filepath = os.path.join('../data/models', model_filename)\n",
    "log_filepath = os.path.join('../data/models', log_filename)\n",
    "\n",
    "model_temp_dir = os.path.join('../tmp/', model_name)\n",
    "\n",
    "bleu_all_cat = os.path.join(model_temp_dir, \"{}_all-cat.txt\".format(model_name))\n",
    "\n",
    "if not os.path.isdir('../tmp'):\n",
    "    os.mkdir('../tmp')\n",
    "    \n",
    "if not os.path.isdir(model_temp_dir):\n",
    "    os.mkdir(model_temp_dir)"
   ]
  },
  {
   "cell_type": "code",
   "execution_count": 5,
   "metadata": {},
   "outputs": [
    {
     "data": {
      "text/plain": [
       "'5 - Model - Template Based - roots_3ae48a5d03a715d609dc8d73f82ac5682cba128d'"
      ]
     },
     "execution_count": 5,
     "metadata": {},
     "output_type": "execute_result"
    }
   ],
   "source": [
    "model_name"
   ]
  },
  {
   "cell_type": "markdown",
   "metadata": {},
   "source": [
    "# Logs to file"
   ]
  },
  {
   "cell_type": "code",
   "execution_count": 6,
   "metadata": {},
   "outputs": [],
   "source": [
    "import logging\n",
    "\n",
    "logging.basicConfig(filename=log_filepath, \n",
    "                    level=logging.DEBUG, \n",
    "                    format='%(asctime)s - %(levelname)s - %(name)s - %(message)s',\n",
    "                    filemode='w')"
   ]
  },
  {
   "cell_type": "code",
   "execution_count": 7,
   "metadata": {},
   "outputs": [],
   "source": [
    "logging.getLogger().setLevel(logging.ERROR)"
   ]
  },
  {
   "cell_type": "markdown",
   "metadata": {},
   "source": [
    "# Data"
   ]
  },
  {
   "cell_type": "code",
   "execution_count": 8,
   "metadata": {},
   "outputs": [],
   "source": [
    "import spacy\n",
    "from webnlg import WebNLGCorpus\n",
    "\n",
    "nlp = spacy.load('en_core_web_lg')\n",
    "\n",
    "train = WebNLGCorpus.load('train')\n",
    "dev = WebNLGCorpus.load('dev')\n",
    "test = WebNLGCorpus.load('test_no_lex')\n",
    "\n",
    "# BIAS: use only 1 tripleset size dataset\n",
    "train_1 = train.subset(ntriples=1)\n",
    "dev_1 = dev.subset(ntriples=1)"
   ]
  },
  {
   "cell_type": "markdown",
   "metadata": {},
   "source": [
    "### how many m_predicates exists in train+dev and not in train_1+dev_1?"
   ]
  },
  {
   "cell_type": "code",
   "execution_count": 9,
   "metadata": {},
   "outputs": [
    {
     "name": "stdout",
     "output_type": "stream",
     "text": [
      "There are 9 m_predicates in train+dev not present in train_1+dev_1.\n",
      "They are:\n",
      "\n",
      "5th_runway_SurfaceType\n",
      "served\n",
      "has to its southeast\n",
      "has to its northwest\n",
      "architecture\n",
      "gemstone\n",
      "numberOfRooms\n",
      "neighboringMunicipality\n",
      "servingSize\n"
     ]
    }
   ],
   "source": [
    "train_dev_1_predicates = set(train_1.mdf.m_predicate.unique()).union(dev_1.mdf.m_predicate.unique())\n",
    "train_dev_predicates = set(train.mdf.m_predicate.unique()).union(dev.mdf.m_predicate.unique())\n",
    "\n",
    "all_not_in_1 = train_dev_predicates.difference(train_dev_1_predicates)\n",
    "\n",
    "print(\"There are {} m_predicates in train+dev not present in train_1+dev_1.\\nThey are:\\n\\n{}\".format(\n",
    "      len(all_not_in_1), '\\n'.join(all_not_in_1)))"
   ]
  },
  {
   "cell_type": "markdown",
   "metadata": {},
   "source": [
    "### how many m_predicates exists in test and not in train_1+dev_1?"
   ]
  },
  {
   "cell_type": "code",
   "execution_count": 10,
   "metadata": {},
   "outputs": [
    {
     "data": {
      "text/plain": [
       "\"There are 117 predicates in test, from 300, which don't have a template\""
      ]
     },
     "execution_count": 10,
     "metadata": {},
     "output_type": "execute_result"
    }
   ],
   "source": [
    "predicates_in_test = set(test.mdf.m_predicate.unique())\n",
    "test_not_in_1 = predicates_in_test.difference(train_dev_1_predicates)\n",
    "\n",
    "\"There are {} predicates in test, from {}, which don't have a template\".format(len(test_not_in_1),\n",
    "                                                                               len(predicates_in_test))"
   ]
  },
  {
   "cell_type": "markdown",
   "metadata": {},
   "source": [
    "# If the predicate doesn't exist, fall back to baseline"
   ]
  },
  {
   "cell_type": "code",
   "execution_count": 11,
   "metadata": {},
   "outputs": [],
   "source": [
    "from importlib import reload\n",
    "import lexicalization\n",
    "reload(lexicalization)\n",
    "from lexicalization import LexicalizeAsAligned"
   ]
  },
  {
   "cell_type": "code",
   "execution_count": 40,
   "metadata": {},
   "outputs": [
    {
     "name": "stdout",
     "output_type": "stream",
     "text": [
      "CPU times: user 0 ns, sys: 0 ns, total: 0 ns\n",
      "Wall time: 32.9 µs\n"
     ]
    }
   ],
   "source": [
    "%%time\n",
    "from sentence_generation import FallBackPipelineSentenceGenerator, NearestPredicateTemplateSentenceGenerator\n",
    "from sentence_aggregation import JustJoinSentencesSentenceAggregator\n",
    "from sentence_generation import JustJoinTripleSentenceGenerator, MostFrequentTemplateSentenceGenerator\n",
    "from discourse_structuring import MostFrequentFirstDiscourseStructuring, ChainDiscourseStructuring\n",
    "from data_alignment import RootDataAlignmentModel, NGramDataAlignmentModel\n",
    "from template_extraction import TemplateExtractor\n",
    "from text_generation import IfAfterNthProcessPipelineTextGenerator\n",
    "from lexicalization import LexicalizeAsAligned\n",
    "from webnlg import preprocess_triple_text\n",
    "from collections import Counter\n",
    "from itertools import chain\n",
    "from textacy import similarity\n",
    "\n",
    "\n",
    "#da = RootDataAlignmentModel(similarity.token_sort_ratio, nlp)\n",
    "da = NGramDataAlignmentModel(4, similarity.jaccard, nlp)"
   ]
  },
  {
   "cell_type": "code",
   "execution_count": 41,
   "metadata": {},
   "outputs": [
    {
     "name": "stdout",
     "output_type": "stream",
     "text": [
      "CPU times: user 2min 21s, sys: 1min 23s, total: 3min 45s\n",
      "Wall time: 1min 9s\n"
     ]
    }
   ],
   "source": [
    "%%time\n",
    "te = TemplateExtractor(da)\n",
    "\n",
    "#! BIAS: using only train_1 sentences\n",
    "# for each sentence, extracts template\n",
    "texts = chain.from_iterable((entry.ldf.ltext.tolist() for entry in chain(train_1, dev_1)))\n",
    "# to dictionary of s, o; [0] because to_dict returns a list of dicts(and, in this case, there\n",
    "#    will be only one element)\n",
    "datas = chain.from_iterable(([entry.get_data()[0]] * entry.ldf.shape[0] for entry in chain(train_1, dev_1)))\n",
    "\n",
    "te.fit(texts, datas)\n",
    "\n",
    "TemplateExtractor.save(te, model_filepath)"
   ]
  },
  {
   "cell_type": "code",
   "execution_count": 42,
   "metadata": {},
   "outputs": [],
   "source": [
    "te = TemplateExtractor.load(model_filepath)"
   ]
  },
  {
   "cell_type": "code",
   "execution_count": 43,
   "metadata": {},
   "outputs": [],
   "source": [
    "mft = MostFrequentTemplateSentenceGenerator(te, preprocessor=preprocess_triple_text)\n",
    "\n",
    "#nlp.vocab.prune_vectors(1000)\n",
    "#def word2vec_similarity(text1, text2):\n",
    "#    \n",
    "#    doc1 = nlp(preprocess_triple_text(text1))\n",
    "#    doc2 = nlp(preprocess_triple_text(text2))\n",
    "#    \n",
    "#    return similarity.word2vec(doc1, doc2)\n",
    "\n",
    "# only deteriorates the score :(\n",
    "npt = NearestPredicateTemplateSentenceGenerator(template_sentence_generator=mft,\n",
    "                                                similarity_metric=similarity.levenshtein,\n",
    "                                                predicates=test_not_in_1,\n",
    "                                                preprocessor=preprocess_triple_text,\n",
    "                                                threshold=.7)\n",
    "\n",
    "jjt = JustJoinTripleSentenceGenerator(preprocessor=preprocess_triple_text)\n",
    "\n",
    "sent_pipe = FallBackPipelineSentenceGenerator([mft, npt, jjt])\n",
    "text_agg = JustJoinSentencesSentenceAggregator(sep=' ')\n",
    "mff = MostFrequentFirstDiscourseStructuring(template_model=te)\n",
    "cds = ChainDiscourseStructuring()\n",
    "le = LexicalizeAsAligned(da)\n",
    "\n",
    "def replace_subject(d):\n",
    "    \n",
    "    d['m_subject'] = ','\n",
    "    \n",
    "    return d\n",
    "\n",
    "pipe = IfAfterNthProcessPipelineTextGenerator(sent_pipe, text_agg, cds, le, processor=replace_subject, nth=0)"
   ]
  },
  {
   "cell_type": "markdown",
   "metadata": {},
   "source": [
    "# Example"
   ]
  },
  {
   "cell_type": "code",
   "execution_count": 44,
   "metadata": {},
   "outputs": [
    {
     "data": {
      "text/plain": [
       "Triple info: {'category': 'Airport', 'eid': 'Id4', 'idx': '0_3', 'ntriples': 1}\n",
       "\n",
       "\tModified triples:\n",
       "\n",
       "Afonso_Pena_International_Airport | ICAO_Location_Identifier | \"SBCT\"\n"
      ]
     },
     "execution_count": 44,
     "metadata": {},
     "output_type": "execute_result"
    }
   ],
   "source": [
    "e = test.sample(idx='0_3')\n",
    "e"
   ]
  },
  {
   "cell_type": "code",
   "execution_count": 45,
   "metadata": {},
   "outputs": [
    {
     "data": {
      "text/plain": [
       "'The ICAO Location Identifier of Afonso Pena International Airport is SBCT.'"
      ]
     },
     "execution_count": 45,
     "metadata": {},
     "output_type": "execute_result"
    }
   ],
   "source": [
    "pipe.generate([e.get_data()])[0]"
   ]
  },
  {
   "cell_type": "code",
   "execution_count": 46,
   "metadata": {},
   "outputs": [
    {
     "data": {
      "text/plain": [
       "{'m_subject': 'Afonso Pena International Airport',\n",
       " 'm_predicate': 'ICAO_Location_Identifier',\n",
       " 'm_object': '\"SBCT\"'}"
      ]
     },
     "execution_count": 46,
     "metadata": {},
     "output_type": "execute_result"
    }
   ],
   "source": [
    "le.lexicalize(e.get_data()[0])"
   ]
  },
  {
   "cell_type": "markdown",
   "metadata": {},
   "source": [
    "# Test evaluation"
   ]
  },
  {
   "cell_type": "code",
   "execution_count": 47,
   "metadata": {},
   "outputs": [
    {
     "name": "stdout",
     "output_type": "stream",
     "text": [
      "CPU times: user 4.97 s, sys: 156 ms, total: 5.12 s\n",
      "Wall time: 5.19 s\n"
     ]
    }
   ],
   "source": [
    "%%time \n",
    "import codecs\n",
    "\n",
    "def abeeee(data):\n",
    "    \n",
    "    result = []\n",
    "    for d in data:\n",
    "        \n",
    "        r = if_has_comma_first_part(d)\n",
    "        result.append(r)\n",
    "        \n",
    "    return result\n",
    "\n",
    "with codecs.open(output_filepath, 'w', 'utf-8') as f:\n",
    "    \n",
    "    for text in pipe.generate((entry.get_data() for entry in test)):\n",
    "        \n",
    "        f.write(\"{}\\n\".format(text))"
   ]
  },
  {
   "cell_type": "code",
   "execution_count": 48,
   "metadata": {},
   "outputs": [
    {
     "name": "stdout",
     "output_type": "stream",
     "text": [
      "The language used in the is spoken in Castle.\r\n",
      "Eric Flint was born in Burbank, California.\r\n",
      "Macmillan Publishers is the parent company of Farrar, Straus and Giroux.\r\n",
      "One of John Cowper Powys notable works is A Glastonbury Romance.\r\n",
      "Soho Press is located in United States.\r\n",
      "The Secret Scripture was published by Faber and Faber.\r\n",
      "Americans are an ethnic group in the United States.\r\n",
      "The language used in the is spoken in United States.\r\n",
      "Weymouth Sands was preceded by A Glastonbury Romance.\r\n",
      "The manager of A.C. Chievo Verona is Rolando Maran.\r\n"
     ]
    }
   ],
   "source": [
    "!head -100 \"$output_filepath\" | tail -10"
   ]
  },
  {
   "cell_type": "code",
   "execution_count": 49,
   "metadata": {},
   "outputs": [
    {
     "name": "stdout",
     "output_type": "stream",
     "text": [
      "Files creating finished for:  5 - Model - Template Based - roots_3ae48a5d03a715d609dc8d73f82ac5682cba128d\r\n"
     ]
    }
   ],
   "source": [
    "!python ../evaluation/webnlg2017/webnlg-automatic-evaluation-v2/evaluation_v2.py --team_name \"$model_name\" --team_filepath \"$output_filepath\" --outdir \"$model_temp_dir\""
   ]
  },
  {
   "cell_type": "code",
   "execution_count": 50,
   "metadata": {},
   "outputs": [
    {
     "name": "stdout",
     "output_type": "stream",
     "text": [
      "BLEU = 36.88, 74.6/46.6/29.2/18.3 (BP=1.000, ratio=1.044, hyp_len=46087, ref_len=44165)\r\n"
     ]
    }
   ],
   "source": [
    "!../evaluation/webnlg2017/webnlg-baseline-master/multi-bleu.perl -lc ../evaluation/webnlg2017/webnlg-automatic-evaluation/references/gold-all-cat-reference0.lex ../evaluation/webnlg2017/webnlg-automatic-evaluation/references/gold-all-cat-reference1.lex ../evaluation/webnlg2017/webnlg-automatic-evaluation/references/gold-all-cat-reference2.lex < \"$bleu_all_cat\""
   ]
  }
 ],
 "metadata": {
  "kernelspec": {
   "display_name": "Python 3",
   "language": "python",
   "name": "python3"
  },
  "language_info": {
   "codemirror_mode": {
    "name": "ipython",
    "version": 3
   },
   "file_extension": ".py",
   "mimetype": "text/x-python",
   "name": "python",
   "nbconvert_exporter": "python",
   "pygments_lexer": "ipython3",
   "version": "3.6.5"
  }
 },
 "nbformat": 4,
 "nbformat_minor": 2
}
