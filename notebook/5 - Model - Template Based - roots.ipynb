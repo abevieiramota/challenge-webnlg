{
 "cells": [
  {
   "cell_type": "markdown",
   "metadata": {},
   "source": [
    "### gets notebook name and commit hash"
   ]
  },
  {
   "cell_type": "code",
   "execution_count": 4,
   "metadata": {},
   "outputs": [
    {
     "data": {
      "application/javascript": [
       "IPython.notebook.kernel.execute('nb_name = \"' + IPython.notebook.notebook_name + '\"')"
      ],
      "text/plain": [
       "<IPython.core.display.Javascript object>"
      ]
     },
     "metadata": {},
     "output_type": "display_data"
    }
   ],
   "source": [
    "%%javascript\n",
    "IPython.notebook.kernel.execute('nb_name = \"' + IPython.notebook.notebook_name + '\"')"
   ]
  },
  {
   "cell_type": "code",
   "execution_count": 5,
   "metadata": {},
   "outputs": [],
   "source": [
    "nb_name = nb_name.rsplit('.')[0]\n",
    "\n",
    "commit = !git rev-parse HEAD\n",
    "commit = commit[0]\n",
    "\n",
    "model_name = \"{}_{}\".format(nb_name, commit)"
   ]
  },
  {
   "cell_type": "code",
   "execution_count": 6,
   "metadata": {},
   "outputs": [],
   "source": [
    "output_filename = \"{}.txt\".format(model_name)\n",
    "log_filename = \"{}.log\".format(model_name)\n",
    "\n",
    "import os\n",
    "\n",
    "output_filepath = os.path.join('../data/models', output_filename)\n",
    "log_filepath = os.path.join('../data/models', log_filename)\n",
    "\n",
    "model_temp_dir = os.path.join('../tmp/', model_name)\n",
    "\n",
    "bleu_all_cat = os.path.join(model_temp_dir, \"{}_all-cat.txt\".format(model_name))\n",
    "\n",
    "if not os.path.isdir(model_temp_dir):\n",
    "    os.mkdir(model_temp_dir)"
   ]
  },
  {
   "cell_type": "markdown",
   "metadata": {},
   "source": [
    "### logs to file"
   ]
  },
  {
   "cell_type": "code",
   "execution_count": 90,
   "metadata": {},
   "outputs": [],
   "source": [
    "import logging\n",
    "\n",
    "logging.basicConfig(filename=log_filepath, \n",
    "                    level=logging.DEBUG, \n",
    "                    format='%(asctime)s - %(levelname)s - %(name)s - %(message)s',\n",
    "                    filemode='w')"
   ]
  },
  {
   "cell_type": "markdown",
   "metadata": {},
   "source": [
    "# Let's generate the template based model"
   ]
  },
  {
   "cell_type": "code",
   "execution_count": 8,
   "metadata": {},
   "outputs": [],
   "source": [
    "%run ../script/webnlg.py\n",
    "%run ../script/data_alignment.py\n",
    "\n",
    "pd.set_option('max_colwidth', 1000)\n",
    "\n",
    "nlp = spacy.load('en_core_web_lg')"
   ]
  },
  {
   "cell_type": "markdown",
   "metadata": {},
   "source": [
    "# Template Extraction"
   ]
  },
  {
   "cell_type": "code",
   "execution_count": 9,
   "metadata": {},
   "outputs": [],
   "source": [
    "class TemplateExtractionModel:\n",
    "    \n",
    "    def __init__(self, data_alignment_model):\n",
    "    \n",
    "        self.data_alignment_model = data_alignment_model\n",
    "        \n",
    "\n",
    "    def extract_template(self, text, data):\n",
    "\n",
    "        # spacy model\n",
    "        doc = nlp(text)\n",
    "        \n",
    "        # TODO: monitor success of subj/obje alignment\n",
    "        m_subject_span, m_object_span = self.data_alignment_model.align_data(doc, data)\n",
    "\n",
    "        # breaks text into char array\n",
    "        text_char = list(text)\n",
    "\n",
    "        # replaces subject text with m_subject placeholder\n",
    "        text_char[m_subject_span.start_char: m_subject_span.end_char] = '{m_subject}'\n",
    "\n",
    "        if m_object_span:\n",
    "            # tests if the object occurs after the subject >\n",
    "            #    if it is the case, you have to adjust the indexes accordingly\n",
    "            if m_subject_span.start_char > m_object_span.end_char:\n",
    "\n",
    "                base = 0\n",
    "            else:\n",
    "                # adjustes the indexes\n",
    "                # length of the extracted subject text\n",
    "                len_subject_text = m_subject_span.end_char - m_subject_span.start_char\n",
    "                # length of the placeholder minus len_subject_text\n",
    "                base = len('{m_subject}') - len_subject_text\n",
    "\n",
    "            # replaces object text with m_object placeholder\n",
    "            text_char[base + m_object_span.start_char: base + m_object_span.end_char] = '{m_object}'\n",
    "\n",
    "        # build template using the char array\n",
    "        return ''.join(text_char)"
   ]
  },
  {
   "cell_type": "markdown",
   "metadata": {},
   "source": [
    "# WebNLG"
   ]
  },
  {
   "cell_type": "code",
   "execution_count": 17,
   "metadata": {},
   "outputs": [],
   "source": [
    "train = WebNLGCorpus.load('train')\n",
    "dev = WebNLGCorpus.load('dev')\n",
    "\n",
    "# BIAS: use only 1 tripleset size dataset\n",
    "train_1 = train.subset(ntriples=1)\n",
    "dev_1 = dev.subset(ntriples=1)"
   ]
  },
  {
   "cell_type": "markdown",
   "metadata": {},
   "source": [
    "### how many m_predicates exists in train and not in train_1?"
   ]
  },
  {
   "cell_type": "code",
   "execution_count": 18,
   "metadata": {},
   "outputs": [
    {
     "data": {
      "text/plain": [
       "{'5th_runway_SurfaceType',\n",
       " 'affiliations',\n",
       " 'architecture',\n",
       " 'broadcastedBy',\n",
       " 'campus',\n",
       " 'chief',\n",
       " 'child',\n",
       " 'firstAired',\n",
       " 'gemstone',\n",
       " 'has to its northwest',\n",
       " 'has to its southeast',\n",
       " 'mascot',\n",
       " 'neighboringMunicipality',\n",
       " 'numberOfRooms',\n",
       " 'patronSaint',\n",
       " 'protein',\n",
       " 'series',\n",
       " 'served',\n",
       " 'servingSize'}"
      ]
     },
     "execution_count": 18,
     "metadata": {},
     "output_type": "execute_result"
    }
   ],
   "source": [
    "in_train_ni_train_1 = set(train.mdf.m_predicate.unique()).difference(train_1.mdf.m_predicate.unique())\n",
    "in_train_ni_train_1"
   ]
  },
  {
   "cell_type": "markdown",
   "metadata": {},
   "source": [
    "# Example"
   ]
  },
  {
   "cell_type": "code",
   "execution_count": 19,
   "metadata": {},
   "outputs": [
    {
     "data": {
      "text/html": [
       "<div class=\"entities\" style=\"line-height: 2.5\">\n",
       "<mark class=\"entity\" style=\"background: #ddd; padding: 0.45em 0.6em; margin: 0 0.25em; line-height: 1; border-radius: 0.35em; box-decoration-break: clone; -webkit-box-decoration-break: clone\">\n",
       "    The Faroese language\n",
       "    <span style=\"font-size: 0.8em; font-weight: bold; line-height: 1; border-radius: 0.35em; text-transform: uppercase; vertical-align: middle; margin-left: 0.5rem\">m_object: : Faroese language</span>\n",
       "</mark>\n",
       " is spoken in \n",
       "<mark class=\"entity\" style=\"background: #ddd; padding: 0.45em 0.6em; margin: 0 0.25em; line-height: 1; border-radius: 0.35em; box-decoration-break: clone; -webkit-box-decoration-break: clone\">\n",
       "    Denmark\n",
       "    <span style=\"font-size: 0.8em; font-weight: bold; line-height: 1; border-radius: 0.35em; text-transform: uppercase; vertical-align: middle; margin-left: 0.5rem\">m_subject: Denmark</span>\n",
       "</mark>\n",
       ".</div>"
      ],
      "text/plain": [
       "<IPython.core.display.HTML object>"
      ]
     },
     "metadata": {},
     "output_type": "display_data"
    }
   ],
   "source": [
    "# sample an entry\n",
    "e = train_1.sample(idx='0_210')\n",
    "\n",
    "# data alignment model with token_sort_ratio similarity metric\n",
    "# PARAM/BIAS: similarity_metric \n",
    "# TODO: train changing similarity_metric\n",
    "da = RootDataAlignmentModel(similarity.token_sort_ratio)\n",
    "# template extraction model\n",
    "te = TemplateExtractionModel(da)\n",
    "    \n",
    "# uses the first reference text\n",
    "# it can have more than 1 reference text\n",
    "first_lexicalization = e.ldf.ltext.values.tolist()[0]\n",
    "# uses the first triple\n",
    "first_triple = e.preprocessed_so()[0]\n",
    "\n",
    "da.render_aligned(nlp(first_lexicalization), first_triple)"
   ]
  },
  {
   "cell_type": "code",
   "execution_count": 20,
   "metadata": {},
   "outputs": [
    {
     "data": {
      "text/plain": [
       "'language'"
      ]
     },
     "execution_count": 20,
     "metadata": {},
     "output_type": "execute_result"
    }
   ],
   "source": [
    "e.mdf.m_predicate.values[0]"
   ]
  },
  {
   "cell_type": "code",
   "execution_count": 21,
   "metadata": {},
   "outputs": [
    {
     "data": {
      "text/plain": [
       "'{m_object} is spoken in {m_subject}.'"
      ]
     },
     "execution_count": 21,
     "metadata": {},
     "output_type": "execute_result"
    }
   ],
   "source": [
    "# extracts the template\n",
    "template = te.extract_template(first_lexicalization, first_triple)\n",
    "template"
   ]
  },
  {
   "cell_type": "code",
   "execution_count": 22,
   "metadata": {},
   "outputs": [
    {
     "data": {
      "text/plain": [
       "'Portuguese is spoken in Brazil.'"
      ]
     },
     "execution_count": 22,
     "metadata": {},
     "output_type": "execute_result"
    }
   ],
   "source": [
    "template.format(**{'m_subject': 'Brazil', 'm_object': 'Portuguese'})"
   ]
  },
  {
   "cell_type": "code",
   "execution_count": 23,
   "metadata": {},
   "outputs": [
    {
     "name": "stdout",
     "output_type": "stream",
     "text": [
      "{m_subject} picks up the {m_object} in the church\n"
     ]
    },
    {
     "data": {
      "text/plain": [
       "'Abelardo Vieira Mota picks up the car in the church'"
      ]
     },
     "execution_count": 23,
     "metadata": {},
     "output_type": "execute_result"
    }
   ],
   "source": [
    "# TODO: remove lexicalized information not present in data\n",
    "text = 'Eleanor Rigby picks up the rice in the church'\n",
    "data = {'m_subject': 'Eleanor Rigby', \n",
    "        'm_object': 'rice'}\n",
    "\n",
    "da = RootDataAlignmentModel(similarity.token_sort_ratio)\n",
    "te = TemplateExtractionModel(da)\n",
    "\n",
    "template = te.extract_template(text, data)\n",
    "\n",
    "print(template)\n",
    "\n",
    "template.format(**{'m_subject': 'Abelardo Vieira Mota', 'm_object': 'car'})"
   ]
  },
  {
   "cell_type": "markdown",
   "metadata": {},
   "source": [
    "# Train"
   ]
  },
  {
   "cell_type": "code",
   "execution_count": 24,
   "metadata": {},
   "outputs": [
    {
     "name": "stdout",
     "output_type": "stream",
     "text": [
      "CPU times: user 3min 32s, sys: 3.11 s, total: 3min 35s\n",
      "Wall time: 59.7 s\n"
     ]
    }
   ],
   "source": [
    "%%time\n",
    "\n",
    "from collections import Counter, defaultdict\n",
    "from itertools import chain\n",
    "\n",
    "da = RootDataAlignmentModel(similarity.token_sort_ratio)\n",
    "te = TemplateExtractionModel(da)\n",
    "\n",
    "template_db = defaultdict(list)\n",
    "\n",
    "#! BIAS: using only train_1 sentences\n",
    "# for each sentence, extracts template\n",
    "for entry in chain(train_1, dev_1):\n",
    "    \n",
    "    for text in entry.ldf.ltext.tolist():\n",
    "        # to dictionary of s, o; [0] because to_dict returns a list of dicts(and, in this case, there\n",
    "        #    will be only one element)\n",
    "        data = entry.preprocessed_so()[0]\n",
    "        predicate = data['m_predicate']\n",
    "\n",
    "        template = te.extract_template(text, data)\n",
    "\n",
    "        # add to db\n",
    "        template_db[predicate].append(template)\n",
    "    \n",
    "# most frequent template\n",
    "# BIAS: not necessarily are the better ones -> they can be a flawed one, like the ones without m_object\n",
    "for k, templates in template_db.items():\n",
    "    \n",
    "    template_db[k] = Counter(templates).most_common(1)[0][0]\n",
    "    \n",
    "predicates_in_db = list(template_db.keys())"
   ]
  },
  {
   "cell_type": "code",
   "execution_count": 25,
   "metadata": {},
   "outputs": [
    {
     "data": {
      "text/plain": [
       "237"
      ]
     },
     "execution_count": 25,
     "metadata": {},
     "output_type": "execute_result"
    }
   ],
   "source": [
    "len(template_db)"
   ]
  },
  {
   "cell_type": "code",
   "execution_count": 26,
   "metadata": {},
   "outputs": [
    {
     "data": {
      "text/plain": [
       "'{m_object} is spoken in {m_subject}.'"
      ]
     },
     "execution_count": 26,
     "metadata": {},
     "output_type": "execute_result"
    }
   ],
   "source": [
    "template_db['language']"
   ]
  },
  {
   "cell_type": "code",
   "execution_count": 179,
   "metadata": {},
   "outputs": [
    {
     "data": {
      "text/plain": [
       "defaultdict(list,\n",
       "            {'city Served': '{m_subject} serves the city of {m_object}.',\n",
       "             'elevation Above The Sea Level (in metres)': '{m_subject} is {m_object} metres above sea level.',\n",
       "             'location': '{m_subject} is located in {m_object}.',\n",
       "             'operating Organisation': '{m_subject} is operated by {m_object}.',\n",
       "             'runway Length': 'The runway length of {m_subject} is {m_object}.',\n",
       "             'runway Name': '{m_object} is the runway name of {m_subject}.',\n",
       "             'country': '{m_subject} is located in {m_object}.',\n",
       "             'is Part Of': '{m_subject} part of {m_object}.',\n",
       "             '1st runway Length Feet': 'The length of the first runway at {m_subject} is {m_object} feet.',\n",
       "             '1st runway Surface Type': 'The 1st runway at {m_subject} is made from {m_object}.',\n",
       "             '3rd runway Length Feet': \"{m_subject}'s 3rd runway length in ft is {m_object}.\",\n",
       "             'ICAO Location Identifier': 'The ICAO Location Identifier of {m_subject} is {m_object}.',\n",
       "             'location Identifier': 'The location identifier for {m_subject} is {m_object}.',\n",
       "             'elevation Above The Sea Level (in feet)': '{m_subject} has an elevation above the sea level (in feet) of {m_object}.',\n",
       "             'IATA Location Identifier': 'Agra {m_subject} IATA Location Identifier is {m_object}.',\n",
       "             'native Name': '{m_object} is the native name of {m_subject}.',\n",
       "             'leader Party': 'The leader party at {m_subject} is {m_object}.',\n",
       "             'capital': '{m_object} is the capital of {m_subject}.',\n",
       "             'language': '{m_object} is spoken in {m_subject}.',\n",
       "             'leader Name': '{m_object} is the leader of {m_subject}.',\n",
       "             'owner': '{m_object} is the owner of {m_subject}.',\n",
       "             '1st runway Length Metre': 'The length of the first runway at {m_subject} is {m_object} metres.',\n",
       "             '4th runway Surface Type': 'The fourth runway at {m_subject} is made of {m_object}.',\n",
       "             '5th runway Number': '{m_subject} is 5th runway number {m_object}.',\n",
       "             'largest City': '{m_object} is the largest city in {m_subject}.',\n",
       "             '4th runway Length Feet': '{m_subject} is 4th runway length feet of {m_object}.',\n",
       "             '1st runway Number': '{m_subject} runway is Number {m_object}.',\n",
       "             'administrative Arrondissement': '{m_subject} is admin Arrondissement {m_object}.',\n",
       "             'mayor': 'The mayor of {m_subject} is {m_object}.',\n",
       "             '2nd runway Surface Type': '{m_object} is the surface type of the second runway of {m_subject}.',\n",
       "             '3rd runway Surface Type': '{m_subject} 3rd runway surface type is {m_object}.',\n",
       "             'runway Surface Type': 'The runway surface at {m_subject} is made from {m_object}.',\n",
       "             'official Language': 'The official language of {m_subject} is {m_object}.',\n",
       "             'location City': '{m_subject} is located in {m_object}.',\n",
       "             'jurisdiction': '{m_subject} jurisdiction is {m_object}.',\n",
       "             'demonym': '{m_object} are from {m_subject}.',\n",
       "             'aircraft Helicopter': '{m_subject} has an aircraft-capable helicopter known as {m_object}.',\n",
       "             'transport Aircraft': '{m_object} is a transport aircraft in {m_subject}.',\n",
       "             'currency': 'The currency of {m_subject} is {m_object}.',\n",
       "             'headquarter': '{m_subject} is {m_object}.',\n",
       "             'class': '{m_subject} class is {m_object}.',\n",
       "             'division': '{m_subject} belongs to the division of {m_object}.',\n",
       "             'order': '{m_subject} is of the order {m_object}.',\n",
       "             'region Served': '{m_subject} serves {m_object}.',\n",
       "             'leader Title': '{m_object} leads {m_subject}.',\n",
       "             'hub Airport': 'The hub airport for {m_subject} is {m_object}.',\n",
       "             'aircraft Fighter': '{m_object} is an aircraft fighter in {m_subject}.',\n",
       "             'attack Aircraft': '{m_object} can be {m_subject}',\n",
       "             'battles': '{m_object} was a battle involving {m_subject}.',\n",
       "             'area Of Water': '{m_subject} has a water area of {m_object}.',\n",
       "             'area Total': '{m_subject} has a total area of {m_object}.',\n",
       "             'elevation Above The Sea Level': '{m_subject} at {m_object} above sea level.',\n",
       "             'population Density': '{m_subject} has a population density of {m_object}.',\n",
       "             'area Code': 'The area code for {m_subject} is {m_object}.',\n",
       "             'area Of Land': 'The land area, of {m_subject}), is {m_object}.',\n",
       "             'leader': 'The leader of {m_subject} is {m_object}.',\n",
       "             'UTCOffset': 'The UTC offset {m_subject} California is {m_object}.',\n",
       "             'population Total': 'The total population of {m_subject} is {m_object}.',\n",
       "             'postal Code': '{m_subject} postal codes {m_object}.',\n",
       "             'chairperson': 'The chair of {m_subject} is {m_object}.',\n",
       "             'county Seat': '{m_object} the county seat of {m_subject}.',\n",
       "             'ethnic Group': '{m_object} are an ethnic group in {m_subject}.',\n",
       "             'alternative Name': '{m_subject} is also known as {m_object}.',\n",
       "             'creator': '{m_subject} was created by {m_object}.',\n",
       "             'full Name': 'the full name of {m_subject} is \"{m_object}\".',\n",
       "             'founded By': '{m_subject} was founded {m_object} Baron Reith.',\n",
       "             'key Person': 'A key person at the {m_subject} is {m_object}.',\n",
       "             'product': 'One of the products of BCC is {m_subject} {m_object}.',\n",
       "             'last Aired': '{m_subject} last aired on April {m_object}.',\n",
       "             'starring': '{m_object} starred in {m_subject}.',\n",
       "             'first Appearance In Film': \"{m_object} was {m_subject}'s first film appearance.\",\n",
       "             'voice': '{m_object} does the voice for {m_subject}.',\n",
       "             'distributor': '{m_object} is the distributor of the film , {m_subject}.',\n",
       "             'birth Place': '{m_subject} was born in {m_object}.',\n",
       "             'nationality': 'The nationality of {m_subject} is {m_object}.',\n",
       "             'award': '{m_subject} won {m_object}.',\n",
       "             'architectural Style': '{m_subject} has {m_object}.',\n",
       "             'building Start Date': 'The construction of {m_subject} began in {m_object}.',\n",
       "             'completion Date': '{m_subject} was completed in {m_object}.',\n",
       "             'floor Count': '{m_subject} has {m_object} floors.',\n",
       "             'cost': '{m_subject} cost {m_object}.',\n",
       "             'floor Area': '{m_subject} has a floor area of {m_object}.',\n",
       "             'architect': 'The architect of {m_subject} is {m_object}.',\n",
       "             'former Name': '{m_subject} was formerly called {m_object}.',\n",
       "             'height': 'The height of {m_subject} is {m_object}.',\n",
       "             'building Type': '{m_subject} is the {m_object}.',\n",
       "             'developer': '{m_subject} by {m_object}.',\n",
       "             'tenant': 'The tenant of {m_subject} is {m_object}.',\n",
       "             'current Tenants': 'The {m_object} is the current tenant of {m_subject}.',\n",
       "             'address': 'The address of {m_subject} is {m_object}.',\n",
       "             'inauguration Date': '{m_subject} was in augurated on {m_object}.',\n",
       "             'place Of Death': '{m_subject} in {m_object}.',\n",
       "             'bed Count': 'The bed count of {m_subject} is {m_object}.',\n",
       "             'region': '{m_subject} is from the {m_object} region.',\n",
       "             'state': '{m_subject} is in {m_object}.',\n",
       "             'website': '{m_subject} {m_object}',\n",
       "             'year Of Construction': '{m_subject} was built in {m_object}.',\n",
       "             'Reference Number in the National Register of Historic Places': '{m_subject} has the reference number {m_object} in the National Register of Historic Places.',\n",
       "             'added to the National Register of Historic Places': '{m_subject} was added to the National Register of Historic Places on {m_object}\".',\n",
       "             'significant Building': 'One of the significant buildings designed by {m_subject} is the {m_object}.',\n",
       "             'governing Body': \"{m_subject}'s governing body is {m_object}.\",\n",
       "             'chancellor': '{m_object} is the chancellor of the {m_subject}.',\n",
       "             'government Type': '{m_subject} is governed by {m_object}.',\n",
       "             'hometown': '{m_object} is the home town of {m_subject}.',\n",
       "             'significant Project': '{m_object} was a significant project of {m_subject}.',\n",
       "             'foundation Place': '{m_subject} was founded in {m_object}',\n",
       "             'author': '{m_subject} was written by {m_object}.',\n",
       "             'ISBN number': '{m_subject} has the ISBN {m_object}.',\n",
       "             'followed By': '{m_subject} was followed by {m_object}.',\n",
       "             'media Type': '{m_subject} was published in {m_object}.',\n",
       "             'number Of Pages': '{m_subject} has {m_object} pages.',\n",
       "             'preceded By': '{m_subject} is preceded by {m_object}.',\n",
       "             'alma Mater': \"{m_object} is {m_subject}'s almaMater.\",\n",
       "             'doctoral Advisor': '{m_subject} is the doctoral advisor for {m_object}.',\n",
       "             'residence': '{m_subject} resides in {m_object}.',\n",
       "             'CODEN code': 'The CODEN code for {m_subject} is {m_object}.',\n",
       "             'ISSN number': 'The ISSN number of {m_subject} is {m_object}.',\n",
       "             'LCCN number': 'The LCCN number of {m_subject} is {m_object}.',\n",
       "             'abbreviation': '{m_subject} is abbreviated to {m_object}.',\n",
       "             'academic Discipline': 'The academic discipline of {m_subject} is {m_object}.',\n",
       "             'publisher': '{m_subject} is published by {m_object}.',\n",
       "             'first Publication Year': '{m_subject} was first published in {m_object}.',\n",
       "             'editor': '{m_subject} editors include the following: {m_object}.',\n",
       "             'impact Factor': 'The impact factor of {m_subject} is {m_object}.',\n",
       "             'OCLC number': 'The OCLC number of {m_subject} is {m_object}.',\n",
       "             'Libraryof Congress Classification': 'The Library of Congress Classification of \"{m_subject}\" is {m_object}.',\n",
       "             'genre': '{m_subject} is in the genre of {m_object}.',\n",
       "             'literary Genre': '{m_subject} the Evil Librarians is {m_object}.',\n",
       "             'EISSN number': 'The EISSN number of {m_subject} is {m_object}.',\n",
       "             'frequency': '{m_subject} is published {m_object}.',\n",
       "             'affiliation': '{m_subject} is affiliated with {m_object}.',\n",
       "             'city': '{m_subject} is in the city of {m_object}.',\n",
       "             'president': 'The president of {m_subject} is {m_object}.',\n",
       "             'spoken In': '{m_subject} is spoken in {m_object}.',\n",
       "             'influenced By': '{m_subject} was influenced by {m_object}.',\n",
       "             'family': '{m_subject} is part of the {m_object} family.',\n",
       "             'death Place': '{m_subject} died in {m_object}.',\n",
       "             'notable Work': 'One of {m_subject} notable works is {m_object}.',\n",
       "             'parent Company': '{m_object} is the parent company of {m_subject}.',\n",
       "             'founder': '{m_object} is the founder of {m_subject}.',\n",
       "             'ingredient': '{m_object} is an ingredient in {m_subject}.',\n",
       "             'course': '{m_subject} is a {m_object}.',\n",
       "             'dish Variation': '{m_subject} is a variation of {m_object}.',\n",
       "             'main Ingredients': 'The main ingredients of {m_subject} are {m_object}.',\n",
       "             'creator Of Dish': '{m_subject} is a dish that was created within {m_object}.',\n",
       "             'serving Temperature': '{m_subject} can be served {m_object}.',\n",
       "             'carbohydrate': '{m_subject} have {m_object} of carbs.',\n",
       "             'fat': '{m_subject} contain {m_object} of fat.',\n",
       "             'year': '{m_subject} were invented in {m_object}.',\n",
       "             'related': 'The dish {m_subject} is related to {m_object}.',\n",
       "             'similar Dish': '{m_subject} is a dish similar to {m_object}.',\n",
       "             'genus': '{m_subject} is from the genus {m_object}.',\n",
       "             'administrative County': '{m_subject} is found in the County of {m_object}.',\n",
       "             'number Of Members': '{m_subject} has {m_object} members.',\n",
       "             'season': '{m_subject} played in the {m_object} season.',\n",
       "             'league': '{m_subject} play in {m_object}.',\n",
       "             'manager': 'The manager of {m_subject} is {m_object}.',\n",
       "             'ground': \"{m_subject}'s ground is in {m_object}.\",\n",
       "             'fullname': 'The fullname of {m_subject} is {m_object}.',\n",
       "             'chairman': '{m_object} is the chairman of {m_subject}.',\n",
       "             'nickname': '{m_subject} is nicknamed {m_object}.',\n",
       "             'chairman Title': 'The title of the chairman of {m_subject} is {m_object}.',\n",
       "             'part': '{m_subject} Noord is part {m_object}.',\n",
       "             'champions': 'The champions of {m_subject} are {m_object}.',\n",
       "             'club': '{m_subject} plays for {m_object}.',\n",
       "             'place Of Birth': '{m_subject} was born in {m_object}.',\n",
       "             'youthclub': '{m_subject} played youth football {m_object}.',\n",
       "             'operator': '{m_subject} is operated by {m_object}.',\n",
       "             'birth Date': '{m_subject} was born on {m_object}.',\n",
       "             'birth Name': '{m_subject}\\'s full name was \"{m_object}\".',\n",
       "             'date Of Retirement': '{m_subject} retired on {m_object}.',\n",
       "             'occupation': '{m_subject} was {m_object}.',\n",
       "             'status': '{m_subject} is {m_object}.',\n",
       "             'time In Space': '{m_subject} spent {m_object} in space.',\n",
       "             'was a crew member of': '{m_subject} served as a crew member of {m_object}.',\n",
       "             'was selected by NASA': '{m_subject} was chosen by NASA in {m_object}.',\n",
       "             'death Date': '{m_subject} died on {m_object}.',\n",
       "             'served as Chief of the Astronaut Office in': '{m_subject} served as Chief of the Astronaut Office in {m_object}.',\n",
       "             'title': '{m_subject} is {m_object}.',\n",
       "             'was awarded': '{m_subject} was awarded {m_object}.',\n",
       "             'backup pilot': '{m_subject} backup pilot was {m_object}.',\n",
       "             'commander': '{m_subject} was commanded by {m_object}.',\n",
       "             'crew Members': '{m_object} was a member of the crew on {m_subject}.',\n",
       "             'representative': '{m_object} served as a representative of {m_subject}.',\n",
       "             'alternative Names': '{m_object}, Jr. was commonly known as {m_subject}.',\n",
       "             'awards': '{m_subject} was awarded {m_object}.',\n",
       "             'fossil': '{m_object} is a fossil from {m_subject}.',\n",
       "             'senators': 'The Senator representing {m_subject} was {m_object}.',\n",
       "             'parts Type': '{m_subject} {m_object}',\n",
       "             'higher': '{m_subject} is higher than the {m_object}.',\n",
       "             'bird': '{m_object} is a native bird to {m_subject}.',\n",
       "             'compete in': 'The {m_subject} is competing in {m_object}.',\n",
       "             'category': '{m_subject} is categorised as {m_object}.',\n",
       "             'municipality': '{m_subject} is in the municipality of {m_object}.',\n",
       "             'district': '{m_subject} is located in the district of {m_object}.',\n",
       "             'established': '{m_subject} was established in {m_object}.',\n",
       "             'founding Date': '14th {m_subject} was founded {m_object}.',\n",
       "             'owning Organisation': '{m_subject} is owned by {m_object}.',\n",
       "             'has to its north': '{m_subject} has {m_object} to its north.',\n",
       "             'has to its southwest': '{m_object} is to the southwest of {m_subject}.',\n",
       "             'has to its west': '{m_subject} is East of {m_object}.',\n",
       "             'legislature': '{m_object} dictates the legislature of {m_subject}.',\n",
       "             'dedicated To': '{m_subject} is dedicated to {m_object}.',\n",
       "             'designer': '{m_subject} was designed by {m_object}.',\n",
       "             'material': '{m_subject} is made of {m_object}.',\n",
       "             'ethnic Groups': 'One of the ethnic groups found in {m_subject} is {m_object}.',\n",
       "             'languages': 'One of the languages spoken in {m_subject} is {m_object}.',\n",
       "             'religion': 'In {m_subject} the main religion is the {m_object}.',\n",
       "             'nearest City': 'The city nearest to {m_subject} is {m_object}.',\n",
       "             'latin Name': 'The Latin name of {m_subject} is {m_object}\".',\n",
       "             'rector': '{m_object} is rector of {m_subject}.',\n",
       "             'academic Staff Size': '{m_subject} has an academic staff of {m_object}.',\n",
       "             'has to its northeast': '{m_subject} has to its northeast {m_object}.',\n",
       "             'dean': 'The dean of {m_subject} is {m_object}.',\n",
       "             'number Of Students': 'There are {m_object} students at {m_subject}.',\n",
       "             'director': '{m_object} is the director of {m_subject}.',\n",
       "             'motto': '{m_subject} motto is {m_object}.',\n",
       "             'number Of Postgraduate Students': 'The number of post graduate students at {m_subject} is about {m_object}.',\n",
       "             'number Of Undergraduate Students': '{m_subject} has {m_object} undergraduate students.',\n",
       "             'official School Colour': '{m_object} are the colours adopted by {m_subject}.',\n",
       "             'outlook Ranking': 'The outlook ranking for {m_subject} is {m_object}.',\n",
       "             'sports Offered': '{m_object} is one of the sports offered at {m_subject}.',\n",
       "             \"was given the 'Technical Campus' status by\": '{m_object} was proud to give the Technical Campus status to {m_subject}.',\n",
       "             'headquarters': 'The headquarters of {m_subject} is in {m_object}.',\n",
       "             'river': 'The {m_object} is a river in {m_subject}.',\n",
       "             'anthem': 'The anthem of {m_subject} is called {m_object}.',\n",
       "             'sports Governing Body': 'The sport {m_subject} has a Governing Body called {m_object}.',\n",
       "             'broadcasted By': '{m_subject} is broadcast by {m_object}.',\n",
       "             'first Aired': '{m_subject} first aired on 3rd October {m_object}.',\n",
       "             'series': '{m_subject} is a character in {m_object}.',\n",
       "             'child': \"{m_subject}'s daughter is {m_object}.\",\n",
       "             'affiliations': 'The {m_subject} is affiliated to the {m_object}.',\n",
       "             'mascot': 'The {m_subject} is called {m_object}.',\n",
       "             'campus': 'The campus address for {m_subject} {m_object}',\n",
       "             'patron Saint': 'The patron Saint of {m_subject} is {m_object}.',\n",
       "             'chief': '{m_object} is the chief of {m_subject}.',\n",
       "             'protein': '{m_subject} contain {m_object} of protein.'})"
      ]
     },
     "execution_count": 179,
     "metadata": {},
     "output_type": "execute_result"
    }
   ],
   "source": [
    "template_db"
   ]
  },
  {
   "cell_type": "code",
   "execution_count": 180,
   "metadata": {},
   "outputs": [
    {
     "data": {
      "text/html": [
       "<div>\n",
       "<style scoped>\n",
       "    .dataframe tbody tr th:only-of-type {\n",
       "        vertical-align: middle;\n",
       "    }\n",
       "\n",
       "    .dataframe tbody tr th {\n",
       "        vertical-align: top;\n",
       "    }\n",
       "\n",
       "    .dataframe thead th {\n",
       "        text-align: right;\n",
       "    }\n",
       "</style>\n",
       "<table border=\"1\" class=\"dataframe\">\n",
       "  <thead>\n",
       "    <tr style=\"text-align: right;\">\n",
       "      <th></th>\n",
       "      <th>idx</th>\n",
       "      <th>mtext</th>\n",
       "      <th>m_subject</th>\n",
       "      <th>m_predicate</th>\n",
       "      <th>m_object</th>\n",
       "    </tr>\n",
       "  </thead>\n",
       "  <tbody>\n",
       "    <tr>\n",
       "      <th>878</th>\n",
       "      <td>4_0</td>\n",
       "      <td>1634:_The_Baltic_War | author | David_Weber</td>\n",
       "      <td>1634:_The_Baltic_War</td>\n",
       "      <td>author</td>\n",
       "      <td>David_Weber</td>\n",
       "    </tr>\n",
       "    <tr>\n",
       "      <th>880</th>\n",
       "      <td>4_2</td>\n",
       "      <td>1634:_The_Bavarian_Crisis | author | \"Virginia DeMarce and Eric Flint\"</td>\n",
       "      <td>1634:_The_Bavarian_Crisis</td>\n",
       "      <td>author</td>\n",
       "      <td>\"Virginia DeMarce and Eric Flint\"</td>\n",
       "    </tr>\n",
       "    <tr>\n",
       "      <th>881</th>\n",
       "      <td>4_3</td>\n",
       "      <td>1634:_The_Bavarian_Crisis | author | Virginia_DeMarce</td>\n",
       "      <td>1634:_The_Bavarian_Crisis</td>\n",
       "      <td>author</td>\n",
       "      <td>Virginia_DeMarce</td>\n",
       "    </tr>\n",
       "    <tr>\n",
       "      <th>894</th>\n",
       "      <td>4_16</td>\n",
       "      <td>1634:_The_Ram_Rebellion | author | \"Eric Flint, Virginia DeMarce, et al.\"</td>\n",
       "      <td>1634:_The_Ram_Rebellion</td>\n",
       "      <td>author</td>\n",
       "      <td>\"Eric Flint, Virginia DeMarce, et al.\"</td>\n",
       "    </tr>\n",
       "    <tr>\n",
       "      <th>895</th>\n",
       "      <td>4_17</td>\n",
       "      <td>1634:_The_Ram_Rebellion | author | Virginia_DeMarce</td>\n",
       "      <td>1634:_The_Ram_Rebellion</td>\n",
       "      <td>author</td>\n",
       "      <td>Virginia_DeMarce</td>\n",
       "    </tr>\n",
       "    <tr>\n",
       "      <th>932</th>\n",
       "      <td>4_54</td>\n",
       "      <td>A_Fortress_of_Grey_Ice | author | J._V._Jones</td>\n",
       "      <td>A_Fortress_of_Grey_Ice</td>\n",
       "      <td>author</td>\n",
       "      <td>J._V._Jones</td>\n",
       "    </tr>\n",
       "    <tr>\n",
       "      <th>940</th>\n",
       "      <td>4_62</td>\n",
       "      <td>A_Glastonbury_Romance | author | John_Cowper_Powys</td>\n",
       "      <td>A_Glastonbury_Romance</td>\n",
       "      <td>author</td>\n",
       "      <td>John_Cowper_Powys</td>\n",
       "    </tr>\n",
       "    <tr>\n",
       "      <th>956</th>\n",
       "      <td>4_78</td>\n",
       "      <td>A_Loyal_Character_Dancer | author | Qiu_Xiaolong</td>\n",
       "      <td>A_Loyal_Character_Dancer</td>\n",
       "      <td>author</td>\n",
       "      <td>Qiu_Xiaolong</td>\n",
       "    </tr>\n",
       "    <tr>\n",
       "      <th>1018</th>\n",
       "      <td>4_140</td>\n",
       "      <td>Aenir | author | Garth_Nix</td>\n",
       "      <td>Aenir</td>\n",
       "      <td>author</td>\n",
       "      <td>Garth_Nix</td>\n",
       "    </tr>\n",
       "    <tr>\n",
       "      <th>1026</th>\n",
       "      <td>4_148</td>\n",
       "      <td>Alcatraz_Versus_the_Evil_Librarians | author | Brandon_Sanderson</td>\n",
       "      <td>Alcatraz_Versus_the_Evil_Librarians</td>\n",
       "      <td>author</td>\n",
       "      <td>Brandon_Sanderson</td>\n",
       "    </tr>\n",
       "    <tr>\n",
       "      <th>1032</th>\n",
       "      <td>4_154</td>\n",
       "      <td>Alcatraz_Versus_the_Scrivener's_Bones | author | Brandon_Sanderson</td>\n",
       "      <td>Alcatraz_Versus_the_Scrivener's_Bones</td>\n",
       "      <td>author</td>\n",
       "      <td>Brandon_Sanderson</td>\n",
       "    </tr>\n",
       "    <tr>\n",
       "      <th>1092</th>\n",
       "      <td>4_214</td>\n",
       "      <td>Weymouth_Sands | author | John_Cowper_Powys</td>\n",
       "      <td>Weymouth_Sands</td>\n",
       "      <td>author</td>\n",
       "      <td>John_Cowper_Powys</td>\n",
       "    </tr>\n",
       "  </tbody>\n",
       "</table>\n",
       "</div>"
      ],
      "text/plain": [
       "        idx  \\\n",
       "878     4_0   \n",
       "880     4_2   \n",
       "881     4_3   \n",
       "894    4_16   \n",
       "895    4_17   \n",
       "932    4_54   \n",
       "940    4_62   \n",
       "956    4_78   \n",
       "1018  4_140   \n",
       "1026  4_148   \n",
       "1032  4_154   \n",
       "1092  4_214   \n",
       "\n",
       "                                                                          mtext  \\\n",
       "878                                 1634:_The_Baltic_War | author | David_Weber   \n",
       "880      1634:_The_Bavarian_Crisis | author | \"Virginia DeMarce and Eric Flint\"   \n",
       "881                       1634:_The_Bavarian_Crisis | author | Virginia_DeMarce   \n",
       "894   1634:_The_Ram_Rebellion | author | \"Eric Flint, Virginia DeMarce, et al.\"   \n",
       "895                         1634:_The_Ram_Rebellion | author | Virginia_DeMarce   \n",
       "932                               A_Fortress_of_Grey_Ice | author | J._V._Jones   \n",
       "940                          A_Glastonbury_Romance | author | John_Cowper_Powys   \n",
       "956                            A_Loyal_Character_Dancer | author | Qiu_Xiaolong   \n",
       "1018                                                 Aenir | author | Garth_Nix   \n",
       "1026           Alcatraz_Versus_the_Evil_Librarians | author | Brandon_Sanderson   \n",
       "1032         Alcatraz_Versus_the_Scrivener's_Bones | author | Brandon_Sanderson   \n",
       "1092                                Weymouth_Sands | author | John_Cowper_Powys   \n",
       "\n",
       "                                  m_subject m_predicate  \\\n",
       "878                    1634:_The_Baltic_War      author   \n",
       "880               1634:_The_Bavarian_Crisis      author   \n",
       "881               1634:_The_Bavarian_Crisis      author   \n",
       "894                 1634:_The_Ram_Rebellion      author   \n",
       "895                 1634:_The_Ram_Rebellion      author   \n",
       "932                  A_Fortress_of_Grey_Ice      author   \n",
       "940                   A_Glastonbury_Romance      author   \n",
       "956                A_Loyal_Character_Dancer      author   \n",
       "1018                                  Aenir      author   \n",
       "1026    Alcatraz_Versus_the_Evil_Librarians      author   \n",
       "1032  Alcatraz_Versus_the_Scrivener's_Bones      author   \n",
       "1092                         Weymouth_Sands      author   \n",
       "\n",
       "                                    m_object  \n",
       "878                              David_Weber  \n",
       "880        \"Virginia DeMarce and Eric Flint\"  \n",
       "881                         Virginia_DeMarce  \n",
       "894   \"Eric Flint, Virginia DeMarce, et al.\"  \n",
       "895                         Virginia_DeMarce  \n",
       "932                              J._V._Jones  \n",
       "940                        John_Cowper_Powys  \n",
       "956                             Qiu_Xiaolong  \n",
       "1018                               Garth_Nix  \n",
       "1026                       Brandon_Sanderson  \n",
       "1032                       Brandon_Sanderson  \n",
       "1092                       John_Cowper_Powys  "
      ]
     },
     "execution_count": 180,
     "metadata": {},
     "output_type": "execute_result"
    }
   ],
   "source": [
    "train_1.mdf[train_1.mdf.m_predicate == 'author']"
   ]
  },
  {
   "cell_type": "code",
   "execution_count": 181,
   "metadata": {},
   "outputs": [
    {
     "data": {
      "text/plain": [
       "Triple info: {'category': 'WrittenWork', 'eid': 'Id55', 'idx': '4_54', 'ntriples': 1}\n",
       "\n",
       "\tModified triples:\n",
       "\n",
       "A_Fortress_of_Grey_Ice | author | J._V._Jones\n",
       "\n",
       "\n",
       "\tLexicalizations:\n",
       "\n",
       "J.V. Jones authored A Fortress of Grey Ice.\n",
       "The author of A Fortress of Grey Ice is J.V. Jones.\n",
       "A Fortress of Grey Ice was written by J. V. Jones."
      ]
     },
     "execution_count": 181,
     "metadata": {},
     "output_type": "execute_result"
    }
   ],
   "source": [
    "train_1.sample(idx='4_54')"
   ]
  },
  {
   "cell_type": "markdown",
   "metadata": {},
   "source": [
    "## Do I have one predicate for each predicate in test set?"
   ]
  },
  {
   "cell_type": "code",
   "execution_count": 27,
   "metadata": {},
   "outputs": [],
   "source": [
    "test = WebNLGCorpus.load('test_no_lex')"
   ]
  },
  {
   "cell_type": "code",
   "execution_count": 28,
   "metadata": {},
   "outputs": [],
   "source": [
    "predicates_in_train_dev = set(train.mdf.m_predicate.tolist())\n",
    "predicates_in_train_dev = predicates_in_train_dev.union(set(dev.mdf.m_predicate.tolist()))"
   ]
  },
  {
   "cell_type": "code",
   "execution_count": 29,
   "metadata": {},
   "outputs": [
    {
     "data": {
      "text/plain": [
       "246"
      ]
     },
     "execution_count": 29,
     "metadata": {},
     "output_type": "execute_result"
    }
   ],
   "source": [
    "len(predicates_in_train_dev)"
   ]
  },
  {
   "cell_type": "code",
   "execution_count": 30,
   "metadata": {},
   "outputs": [
    {
     "data": {
      "text/plain": [
       "\"There are 117 predicates in test, from 300, which don't have a template\""
      ]
     },
     "execution_count": 30,
     "metadata": {},
     "output_type": "execute_result"
    }
   ],
   "source": [
    "# TODO: how to deal with?\n",
    "predicates_in_test = set(test.mdf.m_predicate.apply(preprocess_triple_text).tolist())\n",
    "predicates_w_template = template_db.keys()\n",
    "\n",
    "\"There are {} predicates in test, from {}, which don't have a template\".format(len(predicates_in_test.difference(predicates_w_template)),\n",
    "                                                                               len(predicates_in_test))"
   ]
  },
  {
   "cell_type": "markdown",
   "metadata": {},
   "source": [
    "117 predicates não tiveram templates extraídos. Why?"
   ]
  },
  {
   "cell_type": "markdown",
   "metadata": {},
   "source": [
    "# So, let them fall back to the nearest predicate and then to baseline model"
   ]
  },
  {
   "cell_type": "code",
   "execution_count": null,
   "metadata": {},
   "outputs": [],
   "source": [
    "logger.setLevel(logging.INFO)\n",
    "\n",
    "from spacy.lang.en.stop_words import STOP_WORDS\n",
    "\n",
    "def remove_stops(t):\n",
    "    \n",
    "    return ' '.join([w for w in t.split() if w not in STOP_WORDS])\n",
    "\n",
    "predicates_not_in_train_1 = set(test.mdf.m_predicate.unique()).difference(train_1.mdf.m_predicate.unique())\n",
    "predicates_not_in_train_1 = [preprocess_triple_text(p) for p in predicates_not_in_train_1]\n",
    "\n",
    "def get_nearest_predicate(predicate):\n",
    "    \n",
    "    similarities = []\n",
    "    \n",
    "    for in_db in predicates_in_db:\n",
    "        \n",
    "        no_stop_in_db = remove_stops(in_db)\n",
    "        no_stop_predicate = remove_stops(predicate)\n",
    "        \n",
    "        doc_in_db = nlp(no_stop_in_db)\n",
    "        doc_predicate = nlp(no_stop_predicate)\n",
    "        \n",
    "        sim = similarity.word2vec(doc_predicate, doc_in_db)\n",
    "        \n",
    "        similarities.append((in_db, sim))\n",
    "    \n",
    "    return max(similarities, key=lambda v: v[1])\n",
    "\n",
    "template_nearest_db = {}\n",
    "\n",
    "for m_predicate in predicates_not_in_train_1:\n",
    "    \n",
    "    logging.info(\"Processando {}\".format(m_predicate))\n",
    "    \n",
    "    nearest, sim = get_nearest_predicate(m_predicate)\n",
    "\n",
    "    template_nearest_db[m_predicate] = (nearest, sim)\n",
    "    \n",
    "    logging.info(\"Processado {}\".format(m_predicate))"
   ]
  },
  {
   "cell_type": "code",
   "execution_count": 129,
   "metadata": {},
   "outputs": [
    {
     "data": {
      "text/plain": [
       "122"
      ]
     },
     "execution_count": 129,
     "metadata": {},
     "output_type": "execute_result"
    }
   ],
   "source": [
    "len(template_nearest_db)"
   ]
  },
  {
   "cell_type": "code",
   "execution_count": 174,
   "metadata": {},
   "outputs": [],
   "source": [
    "logger = logging.getLogger(\"Generate Sentence\")\n",
    "\n",
    "PREDICATE_NEAREST_SIMILARITY_THRESHOLD = .9\n",
    "\n",
    "# gets the nearest predicate in template_db\n",
    "# BIAS: similarity metric for predicate fallback\n",
    "# TODO: parameterize\n",
    "def get_nearest_predicate(predicate, similarity_metric):\n",
    "    \n",
    "    distances = [(in_db, similarity_metric(predicate, in_db)) for in_db in predicates_in_db]\n",
    "    \n",
    "    return max(distances, key=lambda v: v[1])\n",
    "\n",
    "# generates the sentences\n",
    "def generate_sentences(entry, similarity_metric):\n",
    "    \n",
    "    texts = []\n",
    "    \n",
    "    for i, triple in enumerate(entry.preprocessed_so()):\n",
    "\n",
    "        m_predicate = triple['m_predicate']\n",
    "\n",
    "        if m_predicate in template_db:\n",
    "            \n",
    "            template = template_db[m_predicate]\n",
    "            \n",
    "            if i > 0:\n",
    "                triple['m_subject'] = ','\n",
    "            \n",
    "            text = template.format(**triple)\n",
    "\n",
    "        else:\n",
    "            \n",
    "            nearest_predicate, sim = template_nearest_db[m_predicate]\n",
    "            \n",
    "            if sim > PREDICATE_NEAREST_SIMILARITY_THRESHOLD:\n",
    "            \n",
    "                template = template_db[nearest_predicate]\n",
    "                \n",
    "                if i > 0:\n",
    "                    triple['m_subject'] = ','\n",
    "\n",
    "                text = template.format(**triple)\n",
    "            \n",
    "            else:\n",
    "                \n",
    "                logger.warning(\"Fallback baseline for predicate %s\", m_predicate)\n",
    "                \n",
    "                text = '{m_subject} {m_predicate} {m_object}'.format(**triple)\n",
    "\n",
    "        texts.append(text)\n",
    "    \n",
    "    return texts"
   ]
  },
  {
   "cell_type": "code",
   "execution_count": 111,
   "metadata": {},
   "outputs": [
    {
     "data": {
      "text/html": [
       "<div>\n",
       "<style scoped>\n",
       "    .dataframe tbody tr th:only-of-type {\n",
       "        vertical-align: middle;\n",
       "    }\n",
       "\n",
       "    .dataframe tbody tr th {\n",
       "        vertical-align: top;\n",
       "    }\n",
       "\n",
       "    .dataframe thead th {\n",
       "        text-align: right;\n",
       "    }\n",
       "</style>\n",
       "<table border=\"1\" class=\"dataframe\">\n",
       "  <thead>\n",
       "    <tr style=\"text-align: right;\">\n",
       "      <th></th>\n",
       "      <th>idx</th>\n",
       "      <th>mtext</th>\n",
       "      <th>m_subject</th>\n",
       "      <th>m_predicate</th>\n",
       "      <th>m_object</th>\n",
       "    </tr>\n",
       "  </thead>\n",
       "  <tbody>\n",
       "    <tr>\n",
       "      <th>639</th>\n",
       "      <td>0_419</td>\n",
       "      <td>Acta_Palaeontologica_Polonica | ISSN_number | \"0567-7920\"</td>\n",
       "      <td>Acta_Palaeontologica_Polonica</td>\n",
       "      <td>ISSN_number</td>\n",
       "      <td>\"0567-7920\"</td>\n",
       "    </tr>\n",
       "    <tr>\n",
       "      <th>640</th>\n",
       "      <td>0_419</td>\n",
       "      <td>Acta_Palaeontologica_Polonica | LCCN_number | 60040714</td>\n",
       "      <td>Acta_Palaeontologica_Polonica</td>\n",
       "      <td>LCCN_number</td>\n",
       "      <td>60040714</td>\n",
       "    </tr>\n",
       "    <tr>\n",
       "      <th>641</th>\n",
       "      <td>0_419</td>\n",
       "      <td>Acta_Palaeontologica_Polonica | abbreviation | \"Acta Palaeontol. Pol.\"</td>\n",
       "      <td>Acta_Palaeontologica_Polonica</td>\n",
       "      <td>abbreviation</td>\n",
       "      <td>\"Acta Palaeontol. Pol.\"</td>\n",
       "    </tr>\n",
       "  </tbody>\n",
       "</table>\n",
       "</div>"
      ],
      "text/plain": [
       "       idx  \\\n",
       "639  0_419   \n",
       "640  0_419   \n",
       "641  0_419   \n",
       "\n",
       "                                                                      mtext  \\\n",
       "639               Acta_Palaeontologica_Polonica | ISSN_number | \"0567-7920\"   \n",
       "640                  Acta_Palaeontologica_Polonica | LCCN_number | 60040714   \n",
       "641  Acta_Palaeontologica_Polonica | abbreviation | \"Acta Palaeontol. Pol.\"   \n",
       "\n",
       "                         m_subject   m_predicate                 m_object  \n",
       "639  Acta_Palaeontologica_Polonica   ISSN_number              \"0567-7920\"  \n",
       "640  Acta_Palaeontologica_Polonica   LCCN_number                 60040714  \n",
       "641  Acta_Palaeontologica_Polonica  abbreviation  \"Acta Palaeontol. Pol.\"  "
      ]
     },
     "execution_count": 111,
     "metadata": {},
     "output_type": "execute_result"
    }
   ],
   "source": [
    "test_sample = test.sample(idx='0_419')\n",
    "\n",
    "test_sample.mdf"
   ]
  },
  {
   "cell_type": "code",
   "execution_count": 112,
   "metadata": {},
   "outputs": [
    {
     "data": {
      "text/plain": [
       "['The ISSN number of Acta Palaeontologica Polonica is 0567-7920.',\n",
       " 'The LCCN number of Acta Palaeontologica Polonica is 60040714.',\n",
       " 'Acta Palaeontologica Polonica is abbreviated to Acta Palaeontol. Pol..']"
      ]
     },
     "execution_count": 112,
     "metadata": {},
     "output_type": "execute_result"
    }
   ],
   "source": [
    "logger.setLevel(logging.WARNING)\n",
    "generate_sentences(test_sample, similarity_metric=similarity.jaro_winkler)"
   ]
  },
  {
   "cell_type": "markdown",
   "metadata": {},
   "source": [
    "# Generating texts for test set"
   ]
  },
  {
   "cell_type": "code",
   "execution_count": 175,
   "metadata": {},
   "outputs": [
    {
     "name": "stdout",
     "output_type": "stream",
     "text": [
      "CPU times: user 7.38 s, sys: 156 ms, total: 7.53 s\n",
      "Wall time: 7.6 s\n"
     ]
    }
   ],
   "source": [
    "%%time \n",
    "\n",
    "import codecs\n",
    "\n",
    "with codecs.open(output_filepath, 'w', 'utf-8') as f:\n",
    "    \n",
    "    for entry in test:\n",
    "        \n",
    "        # generates one sentence per triple\n",
    "        entry_sentences = generate_sentences(entry, similarity.jaro_winkler)\n",
    "        \n",
    "        # BIAS: aggregation\n",
    "        # TODO: how to deal with?\n",
    "        entry_text = ' '.join(entry_sentences)\n",
    "        \n",
    "        f.write(entry_text)\n",
    "        f.write('\\n')"
   ]
  },
  {
   "cell_type": "code",
   "execution_count": 176,
   "metadata": {},
   "outputs": [
    {
     "name": "stdout",
     "output_type": "stream",
     "text": [
      "English language is spoken in Castle (novel).\r\n",
      "Eric Flint was born in Burbank, California.\r\n",
      "Macmillan Publishers is the parent company of Farrar, Straus and Giroux.\r\n",
      "One of John Cowper Powys notable works is A Glastonbury Romance.\r\n",
      "Soho Press is located in United States.\r\n",
      "The Secret Scripture is published by Faber and Faber.\r\n",
      "Asian Americans are an ethnic group in United States.\r\n",
      "English language is spoken in United States.\r\n",
      "Weymouth Sands is preceded by A Glastonbury Romance.\r\n",
      "The manager of A.C. Chievo Verona is Rolando Maran.\r\n"
     ]
    }
   ],
   "source": [
    "!head -100 \"$output_filepath\" | tail -10"
   ]
  },
  {
   "cell_type": "code",
   "execution_count": 177,
   "metadata": {},
   "outputs": [
    {
     "name": "stdout",
     "output_type": "stream",
     "text": [
      "Files creating finished for:  5 - Model - Template Based - roots_604049f5126c8e7723be2bcc42a5b3ba96fb29e8\r\n"
     ]
    }
   ],
   "source": [
    "!python ../evaluation/webnlg2017/webnlg-automatic-evaluation-v2/evaluation_v2.py --team_name \"$model_name\" --team_filepath \"$output_filepath\" --outdir \"$model_temp_dir\""
   ]
  },
  {
   "cell_type": "code",
   "execution_count": 178,
   "metadata": {},
   "outputs": [
    {
     "name": "stdout",
     "output_type": "stream",
     "text": [
      "BLEU = 38.74, 73.3/47.6/31.4/20.6 (BP=1.000, ratio=1.059, hyp_len=47219, ref_len=44580)\r\n"
     ]
    }
   ],
   "source": [
    "!../evaluation/webnlg2017/webnlg-baseline-master/multi-bleu.perl -lc ../evaluation/webnlg2017/webnlg-automatic-evaluation/references/gold-all-cat-reference0.lex ../evaluation/webnlg2017/webnlg-automatic-evaluation/references/gold-all-cat-reference1.lex ../evaluation/webnlg2017/webnlg-automatic-evaluation/references/gold-all-cat-reference2.lex < \"$bleu_all_cat\""
   ]
  },
  {
   "cell_type": "code",
   "execution_count": null,
   "metadata": {},
   "outputs": [],
   "source": []
  }
 ],
 "metadata": {
  "kernelspec": {
   "display_name": "Python 3",
   "language": "python",
   "name": "python3"
  }
 },
 "nbformat": 4,
 "nbformat_minor": 2
}
