{
 "cells": [
  {
   "cell_type": "code",
   "execution_count": 20,
   "metadata": {},
   "outputs": [
    {
     "data": {
      "text/plain": [
       "dict_keys(['cityServed', 'elevationAboveTheSeaLevel_(in_metres)', 'location', 'operatingOrganisation', 'runwayLength', 'runwayName', 'country', 'isPartOf', '1st_runway_LengthFeet', '1st_runway_SurfaceType', '3rd_runway_LengthFeet', 'ICAO_Location_Identifier', 'locationIdentifier', 'elevationAboveTheSeaLevel_(in_feet)', 'IATA_Location_Identifier', 'nativeName', 'leaderParty', 'capital', 'language', 'leaderName', 'owner', '1st_runway_LengthMetre', '4th_runway_SurfaceType', '5th_runway_Number', 'largestCity', '4th_runway_LengthFeet', '1st_runway_Number', 'administrativeArrondissement', 'mayor', '2nd_runway_SurfaceType', '3rd_runway_SurfaceType', 'runwaySurfaceType', 'officialLanguage', 'locationCity', 'jurisdiction', 'demonym', 'aircraftHelicopter', 'transportAircraft', 'currency', 'headquarter', 'class', 'division', 'order', 'regionServed', 'leaderTitle', 'hubAirport', 'aircraftFighter', 'attackAircraft', 'battles', 'areaOfWater', 'areaTotal', 'elevationAboveTheSeaLevel', 'populationDensity', 'areaCode', 'areaOfLand', 'leader', 'UTCOffset', 'populationTotal', 'postalCode', 'chairperson', 'countySeat', 'ethnicGroup', 'alternativeName', 'creator', 'fullName', 'foundedBy', 'keyPerson', 'product', 'lastAired', 'starring', 'firstAppearanceInFilm', 'voice', 'distributor', 'birthPlace', 'nationality', 'award', 'architecturalStyle', 'buildingStartDate', 'completionDate', 'floorCount', 'cost', 'floorArea', 'architect', 'formerName', 'height', 'buildingType', 'developer', 'tenant', 'currentTenants', 'address', 'inaugurationDate', 'placeOfDeath', 'bedCount', 'region', 'state', 'website', 'yearOfConstruction', 'ReferenceNumber in the National Register of Historic Places', 'added to the National Register of Historic Places', 'significantBuilding', 'governingBody', 'chancellor', 'governmentType', 'hometown', 'significantProject', 'foundationPlace', 'author', 'ISBN_number', 'followedBy', 'mediaType', 'numberOfPages', 'precededBy', 'almaMater', 'doctoralAdvisor', 'residence', 'CODEN_code', 'ISSN_number', 'LCCN_number', 'abbreviation', 'academicDiscipline', 'publisher', 'firstPublicationYear', 'editor', 'impactFactor', 'OCLC_number', 'LibraryofCongressClassification', 'genre', 'literaryGenre', 'EISSN_number', 'frequency', 'affiliation', 'city', 'president', 'spokenIn', 'influencedBy', 'family', 'deathPlace', 'notableWork', 'parentCompany', 'founder', 'ingredient', 'course', 'dishVariation', 'mainIngredients', 'creatorOfDish', 'servingTemperature', 'carbohydrate', 'fat', 'year', 'related', 'similarDish', 'genus', 'administrativeCounty', 'numberOfMembers', 'season', 'league', 'manager', 'ground', 'fullname', 'chairman', 'nickname', 'chairmanTitle', 'part', 'champions', 'club', 'placeOfBirth', 'youthclub', 'operator', 'birthDate', 'birthName', 'dateOfRetirement', 'occupation', 'status', 'timeInSpace', 'was a crew member of', 'was selected by NASA', 'deathDate', 'served as Chief of the Astronaut Office in', 'title', 'was awarded', 'backup pilot', 'commander', 'crewMembers', 'representative', 'alternativeNames', 'awards', 'fossil', 'senators', 'partsType', 'higher', 'bird', 'compete in', 'category', 'municipality', 'district', 'established', 'foundingDate', 'owningOrganisation', 'has to its north', 'has to its southwest', 'has to its west', 'legislature', 'dedicatedTo', 'designer', 'material', 'ethnicGroups', 'languages', 'religion', 'nearestCity', 'latinName', 'rector', 'academicStaffSize', 'has to its northeast', 'dean', 'numberOfStudents', 'director', 'motto', 'numberOfPostgraduateStudents', 'numberOfUndergraduateStudents', 'officialSchoolColour', 'outlookRanking', 'sportsOffered', \"was given the 'Technical Campus' status by\", 'headquarters', 'river', 'anthem', 'sportsGoverningBody', 'broadcastedBy', 'firstAired', 'series', 'child', 'affiliations', 'mascot', 'campus', 'patronSaint', 'chief', 'protein'])"
      ]
     },
     "execution_count": 20,
     "metadata": {},
     "output_type": "execute_result"
    }
   ],
   "source": [
    "te.template_db.keys()"
   ]
  },
  {
   "cell_type": "code",
   "execution_count": 21,
   "metadata": {},
   "outputs": [
    {
     "data": {
      "text/plain": [
       "dict_keys(['cityServed', 'elevationAboveTheSeaLevel_(in_metres)', 'location', 'operatingOrganisation', 'runwayLength', 'runwayName', 'country', 'isPartOf', '1st_runway_LengthFeet', '1st_runway_SurfaceType', '3rd_runway_LengthFeet', 'ICAO_Location_Identifier', 'locationIdentifier', 'elevationAboveTheSeaLevel_(in_feet)', 'IATA_Location_Identifier', 'nativeName', 'leaderParty', 'capital', 'language', 'leaderName', 'owner', '1st_runway_LengthMetre', '4th_runway_SurfaceType', '5th_runway_Number', 'largestCity', '4th_runway_LengthFeet', '1st_runway_Number', 'administrativeArrondissement', 'mayor', '2nd_runway_SurfaceType', '3rd_runway_SurfaceType', 'runwaySurfaceType', 'officialLanguage', 'locationCity', 'jurisdiction', 'demonym', 'aircraftHelicopter', 'transportAircraft', 'currency', 'headquarter', 'class', 'division', 'order', 'regionServed', 'leaderTitle', 'hubAirport', 'aircraftFighter', 'attackAircraft', 'battles', 'areaOfWater', 'areaTotal', 'elevationAboveTheSeaLevel', 'populationDensity', 'areaCode', 'areaOfLand', 'leader', 'UTCOffset', 'populationTotal', 'postalCode', 'chairperson', 'countySeat', 'ethnicGroup', 'alternativeName', 'creator', 'fullName', 'foundedBy', 'keyPerson', 'product', 'lastAired', 'starring', 'firstAppearanceInFilm', 'voice', 'distributor', 'birthPlace', 'nationality', 'award', 'architecturalStyle', 'buildingStartDate', 'completionDate', 'floorCount', 'cost', 'floorArea', 'architect', 'formerName', 'height', 'buildingType', 'developer', 'tenant', 'currentTenants', 'address', 'inaugurationDate', 'placeOfDeath', 'bedCount', 'region', 'state', 'website', 'yearOfConstruction', 'ReferenceNumber in the National Register of Historic Places', 'added to the National Register of Historic Places', 'significantBuilding', 'governingBody', 'chancellor', 'governmentType', 'hometown', 'significantProject', 'foundationPlace', 'author', 'ISBN_number', 'followedBy', 'mediaType', 'numberOfPages', 'precededBy', 'almaMater', 'doctoralAdvisor', 'residence', 'CODEN_code', 'ISSN_number', 'LCCN_number', 'abbreviation', 'academicDiscipline', 'publisher', 'firstPublicationYear', 'editor', 'impactFactor', 'OCLC_number', 'LibraryofCongressClassification', 'genre', 'literaryGenre', 'EISSN_number', 'frequency', 'affiliation', 'city', 'president', 'spokenIn', 'influencedBy', 'family', 'deathPlace', 'notableWork', 'parentCompany', 'founder', 'ingredient', 'course', 'dishVariation', 'mainIngredients', 'creatorOfDish', 'servingTemperature', 'carbohydrate', 'fat', 'year', 'related', 'similarDish', 'genus', 'administrativeCounty', 'numberOfMembers', 'season', 'league', 'manager', 'ground', 'fullname', 'chairman', 'nickname', 'chairmanTitle', 'part', 'champions', 'club', 'placeOfBirth', 'youthclub', 'operator', 'birthDate', 'birthName', 'dateOfRetirement', 'occupation', 'status', 'timeInSpace', 'was a crew member of', 'was selected by NASA', 'deathDate', 'served as Chief of the Astronaut Office in', 'title', 'was awarded', 'backup pilot', 'commander', 'crewMembers', 'representative', 'alternativeNames', 'awards', 'fossil', 'senators', 'partsType', 'higher', 'bird', 'compete in', 'category', 'municipality', 'district', 'established', 'foundingDate', 'owningOrganisation', 'has to its north', 'has to its southwest', 'has to its west', 'legislature', 'dedicatedTo', 'designer', 'material', 'ethnicGroups', 'languages', 'religion', 'nearestCity', 'latinName', 'rector', 'academicStaffSize', 'has to its northeast', 'dean', 'numberOfStudents', 'director', 'motto', 'numberOfPostgraduateStudents', 'numberOfUndergraduateStudents', 'officialSchoolColour', 'outlookRanking', 'sportsOffered', \"was given the 'Technical Campus' status by\", 'headquarters', 'river', 'anthem', 'sportsGoverningBody', 'broadcastedBy', 'firstAired', 'series', 'child', 'affiliations', 'mascot', 'campus', 'patronSaint', 'chief', 'protein'])"
      ]
     },
     "execution_count": 21,
     "metadata": {},
     "output_type": "execute_result"
    }
   ],
   "source": [
    "mft.template_db.keys()"
   ]
  },
  {
   "cell_type": "code",
   "execution_count": 22,
   "metadata": {},
   "outputs": [
    {
     "data": {
      "text/plain": [
       "('4th_runway_SurfaceType', 0.9545454545454546)"
      ]
     },
     "execution_count": 22,
     "metadata": {},
     "output_type": "execute_result"
    }
   ],
   "source": [
    "npt.get_nearest_predicate('5th_runway_SurfaceType')"
   ]
  },
  {
   "cell_type": "code",
   "execution_count": 48,
   "metadata": {},
   "outputs": [
    {
     "data": {
      "text/plain": [
       "False"
      ]
     },
     "execution_count": 48,
     "metadata": {},
     "output_type": "execute_result"
    }
   ],
   "source": [
    "'5th_runway_SurfaceType' in npt.known_predicates"
   ]
  },
  {
   "cell_type": "code",
   "execution_count": 25,
   "metadata": {},
   "outputs": [
    {
     "data": {
      "text/plain": [
       "The fourth runway {m_subject} is made of {m_object}."
      ]
     },
     "execution_count": 25,
     "metadata": {},
     "output_type": "execute_result"
    }
   ],
   "source": [
    "mft.template_db['4th_runway_SurfaceType']"
   ]
  },
  {
   "cell_type": "code",
   "execution_count": 40,
   "metadata": {},
   "outputs": [
    {
     "data": {
      "text/plain": [
       "dict_keys(['city Served', 'elevation Above The Sea Level (in metres)', 'location', 'operating Organisation', 'runway Length', 'runway Name', 'country', 'is Part Of', '1st runway Length Feet', '1st runway Surface Type', '3rd runway Length Feet', 'ICAO Location Identifier', 'location Identifier', 'elevation Above The Sea Level (in feet)', 'IATA Location Identifier', 'native Name', 'leader Party', 'capital', 'language', 'leader Name', 'owner', '1st runway Length Metre', '4th runway Surface Type', '5th runway Number', 'largest City', '4th runway Length Feet', '1st runway Number', 'administrative Arrondissement', 'mayor', '2nd runway Surface Type', '3rd runway Surface Type', 'runway Surface Type', 'official Language', 'location City', 'jurisdiction', 'demonym', 'aircraft Helicopter', 'transport Aircraft', 'currency', 'headquarter', 'class', 'division', 'order', 'region Served', 'leader Title', 'hub Airport', 'aircraft Fighter', 'attack Aircraft', 'battles', 'area Of Water', 'area Total', 'elevation Above The Sea Level', 'population Density', 'area Code', 'area Of Land', 'leader', 'UTCOffset', 'population Total', 'postal Code', 'chairperson', 'county Seat', 'ethnic Group', 'alternative Name', 'creator', 'full Name', 'founded By', 'key Person', 'product', 'last Aired', 'starring', 'first Appearance In Film', 'voice', 'distributor', 'birth Place', 'nationality', 'award', 'architectural Style', 'building Start Date', 'completion Date', 'floor Count', 'cost', 'floor Area', 'architect', 'former Name', 'height', 'building Type', 'developer', 'tenant', 'current Tenants', 'address', 'inauguration Date', 'place Of Death', 'bed Count', 'region', 'state', 'website', 'year Of Construction', 'Reference Number in the National Register of Historic Places', 'added to the National Register of Historic Places', 'significant Building', 'governing Body', 'chancellor', 'government Type', 'hometown', 'significant Project', 'foundation Place', 'author', 'ISBN number', 'followed By', 'media Type', 'number Of Pages', 'preceded By', 'alma Mater', 'doctoral Advisor', 'residence', 'CODEN code', 'ISSN number', 'LCCN number', 'abbreviation', 'academic Discipline', 'publisher', 'first Publication Year', 'editor', 'impact Factor', 'OCLC number', 'Libraryof Congress Classification', 'genre', 'literary Genre', 'EISSN number', 'frequency', 'affiliation', 'city', 'president', 'spoken In', 'influenced By', 'family', 'death Place', 'notable Work', 'parent Company', 'founder', 'ingredient', 'course', 'dish Variation', 'main Ingredients', 'creator Of Dish', 'serving Temperature', 'carbohydrate', 'fat', 'year', 'related', 'similar Dish', 'genus', 'administrative County', 'number Of Members', 'season', 'league', 'manager', 'ground', 'fullname', 'chairman', 'nickname', 'chairman Title', 'part', 'champions', 'club', 'place Of Birth', 'youthclub', 'operator', 'birth Date', 'birth Name', 'date Of Retirement', 'occupation', 'status', 'time In Space', 'was a crew member of', 'was selected by NASA', 'death Date', 'served as Chief of the Astronaut Office in', 'title', 'was awarded', 'backup pilot', 'commander', 'crew Members', 'representative', 'alternative Names', 'awards', 'fossil', 'senators', 'parts Type', 'higher', 'bird', 'compete in', 'category', 'municipality', 'district', 'established', 'founding Date', 'owning Organisation', 'has to its north', 'has to its southwest', 'has to its west', 'legislature', 'dedicated To', 'designer', 'material', 'ethnic Groups', 'languages', 'religion', 'nearest City', 'latin Name', 'rector', 'academic Staff Size', 'has to its northeast', 'dean', 'number Of Students', 'director', 'motto', 'number Of Postgraduate Students', 'number Of Undergraduate Students', 'official School Colour', 'outlook Ranking', 'sports Offered', \"was given the 'Technical Campus' status by\", 'headquarters', 'river', 'anthem', 'sports Governing Body', 'broadcasted By', 'first Aired', 'series', 'child', 'affiliations', 'mascot', 'campus', 'patron Saint', 'chief', 'protein'])"
      ]
     },
     "execution_count": 40,
     "metadata": {},
     "output_type": "execute_result"
    }
   ],
   "source": [
    "te.template_db.keys()"
   ]
  },
  {
   "cell_type": "code",
   "execution_count": 1,
   "metadata": {},
   "outputs": [],
   "source": [
    "import os\n",
    "\n",
    "os.sys.path.insert(0, '../script')"
   ]
  },
  {
   "cell_type": "markdown",
   "metadata": {},
   "source": [
    "# Gets notebook name and commit hash"
   ]
  },
  {
   "cell_type": "code",
   "execution_count": 2,
   "metadata": {},
   "outputs": [
    {
     "data": {
      "application/javascript": [
       "IPython.notebook.kernel.execute('nb_name = \"' + IPython.notebook.notebook_name + '\"')"
      ],
      "text/plain": [
       "<IPython.core.display.Javascript object>"
      ]
     },
     "metadata": {},
     "output_type": "display_data"
    }
   ],
   "source": [
    "%%javascript\n",
    "IPython.notebook.kernel.execute('nb_name = \"' + IPython.notebook.notebook_name + '\"')"
   ]
  },
  {
   "cell_type": "code",
   "execution_count": 3,
   "metadata": {},
   "outputs": [],
   "source": [
    "nb_name = nb_name.rsplit('.')[0]\n",
    "\n",
    "commit = !git rev-parse HEAD\n",
    "commit = commit[0]\n",
    "\n",
    "model_name = \"{}_{}\".format(nb_name, commit)"
   ]
  },
  {
   "cell_type": "code",
   "execution_count": 4,
   "metadata": {},
   "outputs": [],
   "source": [
    "output_filename = \"{}.txt\".format(model_name)\n",
    "model_filename = \"{}\".format(model_name)\n",
    "log_filename = \"{}.log\".format(model_name)\n",
    "\n",
    "import os\n",
    "\n",
    "output_filepath = os.path.join('../data/models', output_filename)\n",
    "model_filepath = os.path.join('../data/models', model_filename)\n",
    "log_filepath = os.path.join('../data/models', log_filename)\n",
    "\n",
    "model_temp_dir = os.path.join('../tmp/', model_name)\n",
    "\n",
    "bleu_all_cat = os.path.join(model_temp_dir, \"{}_all-cat.txt\".format(model_name))\n",
    "\n",
    "if not os.path.isdir('../tmp'):\n",
    "    os.mkdir('../tmp')\n",
    "    \n",
    "if not os.path.isdir(model_temp_dir):\n",
    "    os.mkdir(model_temp_dir)"
   ]
  },
  {
   "cell_type": "code",
   "execution_count": 5,
   "metadata": {},
   "outputs": [
    {
     "data": {
      "text/plain": [
       "'5 - Model - Template Based - roots_55f9d82b420c5cbc6a01d5a65082414b87a81195'"
      ]
     },
     "execution_count": 5,
     "metadata": {},
     "output_type": "execute_result"
    }
   ],
   "source": [
    "model_name"
   ]
  },
  {
   "cell_type": "markdown",
   "metadata": {},
   "source": [
    "# Logs to file"
   ]
  },
  {
   "cell_type": "code",
   "execution_count": 6,
   "metadata": {},
   "outputs": [],
   "source": [
    "import logging\n",
    "\n",
    "logging.basicConfig(filename=log_filepath, \n",
    "                    level=logging.DEBUG, \n",
    "                    format='%(asctime)s - %(levelname)s - %(name)s - %(message)s',\n",
    "                    filemode='w')"
   ]
  },
  {
   "cell_type": "markdown",
   "metadata": {},
   "source": [
    "# Data"
   ]
  },
  {
   "cell_type": "code",
   "execution_count": 7,
   "metadata": {},
   "outputs": [],
   "source": [
    "import spacy\n",
    "from webnlg import WebNLGCorpus\n",
    "\n",
    "nlp = spacy.load('en_core_web_lg')\n",
    "\n",
    "train = WebNLGCorpus.load('train')\n",
    "dev = WebNLGCorpus.load('dev')\n",
    "test = WebNLGCorpus.load('test_no_lex')\n",
    "\n",
    "# BIAS: use only 1 tripleset size dataset\n",
    "train_1 = train.subset(ntriples=1)\n",
    "dev_1 = dev.subset(ntriples=1)"
   ]
  },
  {
   "cell_type": "markdown",
   "metadata": {},
   "source": [
    "### how many m_predicates exists in train+dev and not in train_1+dev_1?"
   ]
  },
  {
   "cell_type": "code",
   "execution_count": 8,
   "metadata": {},
   "outputs": [
    {
     "name": "stdout",
     "output_type": "stream",
     "text": [
      "There are 9 m_predicates in train+dev not present in train_1+dev_1.\n",
      "They are:\n",
      "\n",
      "neighboringMunicipality\n",
      "served\n",
      "gemstone\n",
      "numberOfRooms\n",
      "servingSize\n",
      "5th_runway_SurfaceType\n",
      "has to its southeast\n",
      "has to its northwest\n",
      "architecture\n"
     ]
    }
   ],
   "source": [
    "train_dev_1_predicates = set(train_1.mdf.m_predicate.unique()).union(dev_1.mdf.m_predicate.unique())\n",
    "train_dev_predicates = set(train.mdf.m_predicate.unique()).union(dev.mdf.m_predicate.unique())\n",
    "\n",
    "all_not_in_1 = train_dev_predicates.difference(train_dev_1_predicates)\n",
    "\n",
    "print(\"There are {} m_predicates in train+dev not present in train_1+dev_1.\\nThey are:\\n\\n{}\".format(\n",
    "      len(all_not_in_1), '\\n'.join(all_not_in_1)))"
   ]
  },
  {
   "cell_type": "markdown",
   "metadata": {},
   "source": [
    "### how many m_predicates exists in test and not in train_1+dev_1?"
   ]
  },
  {
   "cell_type": "code",
   "execution_count": 9,
   "metadata": {},
   "outputs": [
    {
     "data": {
      "text/plain": [
       "\"There are 117 predicates in test, from 300, which don't have a template\""
      ]
     },
     "execution_count": 9,
     "metadata": {},
     "output_type": "execute_result"
    }
   ],
   "source": [
    "predicates_in_test = set(test.mdf.m_predicate.unique())\n",
    "test_not_in_1 = predicates_in_test.difference(train_dev_1_predicates)\n",
    "\n",
    "\"There are {} predicates in test, from {}, which don't have a template\".format(len(test_not_in_1),\n",
    "                                                                               len(predicates_in_test))"
   ]
  },
  {
   "cell_type": "markdown",
   "metadata": {},
   "source": [
    "# If the predicate doesn't exist, fall back to baseline"
   ]
  },
  {
   "cell_type": "code",
   "execution_count": 10,
   "metadata": {},
   "outputs": [
    {
     "name": "stdout",
     "output_type": "stream",
     "text": [
      "CPU times: user 844 ms, sys: 391 ms, total: 1.23 s\n",
      "Wall time: 1.54 s\n"
     ]
    }
   ],
   "source": [
    "%%time\n",
    "from sentence_generation import FallBackPipelineSentenceGenerator, NearestPredicateTemplateSentenceGenerator\n",
    "from sentence_aggregation import JustJoinSentencesSentenceAggregator\n",
    "from sentence_generation import JustJoinTripleSentenceGenerator, MostFrequentTemplateSentenceGenerator\n",
    "from discourse_structuring import MostFrequentFirstDiscourseStructuring, ChainDiscourseStructuring\n",
    "from data_alignment import RootDataAlignmentModel\n",
    "from template_extraction import TemplateExtractor\n",
    "from text_generation import IfAfterNthProcessPipelineTextGenerator\n",
    "from webnlg import preprocess_triple_text\n",
    "from collections import Counter\n",
    "from itertools import chain\n",
    "from textacy import similarity\n",
    "\n",
    "\n",
    "da = RootDataAlignmentModel(similarity.token_sort_ratio, nlp)"
   ]
  },
  {
   "cell_type": "code",
   "execution_count": 11,
   "metadata": {},
   "outputs": [
    {
     "name": "stdout",
     "output_type": "stream",
     "text": [
      "CPU times: user 1min 59s, sys: 1min 15s, total: 3min 15s\n",
      "Wall time: 1min 27s\n"
     ]
    }
   ],
   "source": [
    "%%time\n",
    "te = TemplateExtractor(da)\n",
    "\n",
    "#! BIAS: using only train_1 sentences\n",
    "# for each sentence, extracts template\n",
    "texts = chain.from_iterable((entry.ldf.ltext.tolist() for entry in chain(train_1, dev_1)))\n",
    "# to dictionary of s, o; [0] because to_dict returns a list of dicts(and, in this case, there\n",
    "#    will be only one element)\n",
    "datas = chain.from_iterable(([entry.get_data()[0]] * entry.ldf.shape[0] for entry in chain(train_1, dev_1)))\n",
    "\n",
    "te.fit(texts, datas)\n",
    "\n",
    "TemplateExtractor.save(te, model_filepath)"
   ]
  },
  {
   "cell_type": "code",
   "execution_count": 11,
   "metadata": {},
   "outputs": [],
   "source": [
    "te = TemplateExtractor.load(model_filepath)"
   ]
  },
  {
   "cell_type": "code",
   "execution_count": 20,
   "metadata": {},
   "outputs": [],
   "source": [
    "mft = MostFrequentTemplateSentenceGenerator(te, preprocessor=preprocess_triple_text)\n",
    "\n",
    "#nlp.vocab.prune_vectors(1000)\n",
    "#def word2vec_similarity(text1, text2):\n",
    "#    \n",
    "#    doc1 = nlp(preprocess_triple_text(text1))\n",
    "#    doc2 = nlp(preprocess_triple_text(text2))\n",
    "#    \n",
    "#    return similarity.word2vec(doc1, doc2)\n",
    "\n",
    "# only deteriorates the score :(\n",
    "npt = NearestPredicateTemplateSentenceGenerator(template_sentence_generator=mft,\n",
    "                                                similarity_metric=similarity.levenshtein,\n",
    "                                                predicates=test_not_in_1,\n",
    "                                                preprocessor=preprocess_triple_text,\n",
    "                                                threshold=1.)\n",
    "\n",
    "jjt = JustJoinTripleSentenceGenerator(preprocessor=preprocess_triple_text)\n",
    "\n",
    "sent_pipe = FallBackPipelineSentenceGenerator([mft, npt, jjt])\n",
    "text_agg = JustJoinSentencesSentenceAggregator(sep=' ')\n",
    "mff = MostFrequentFirstDiscourseStructuring(template_model=te)\n",
    "cds = ChainDiscourseStructuring()\n",
    "\n",
    "def replace_subject(d):\n",
    "    \n",
    "    d['m_subject'] = ','\n",
    "    \n",
    "    return d\n",
    "\n",
    "pipe = IfAfterNthProcessPipelineTextGenerator(sent_pipe, text_agg, cds, processor=replace_subject, nth=0)"
   ]
  },
  {
   "cell_type": "markdown",
   "metadata": {},
   "source": [
    "# Example"
   ]
  },
  {
   "cell_type": "code",
   "execution_count": 21,
   "metadata": {},
   "outputs": [
    {
     "data": {
      "text/plain": [
       "Triple info: {'category': 'Astronaut', 'eid': 'Id40', 'idx': '32_39', 'ntriples': 4}\n",
       "\n",
       "\tModified triples:\n",
       "\n",
       "Buzz_Aldrin | birthPlace | Glen_Ridge,_New_Jersey\n",
       "Buzz_Aldrin | was a crew member of | Apollo_11\n",
       "Buzz_Aldrin | almaMater | \"Massachusetts Institute of Technology, Sc.D. 1963\"\n",
       "Buzz_Aldrin | birthDate | \"1930-01-20\"\n",
       "\n",
       "\n",
       "\tLexicalizations:\n",
       "\n",
       "Buzz Aldrin was born in Glen Ridge, New Jersey on 1930-01-20. He attended the Massachusetts Institute of Technology obtaining a Sc.D in 1963. He was a crew member on Apollo 11.\n",
       "Buzz Aldrin was born in Glen Ridge, New Jersey on 20 January 1930. He graduated from MIT ScD in 1963 and was a crew member of Apollo 11."
      ]
     },
     "execution_count": 21,
     "metadata": {},
     "output_type": "execute_result"
    }
   ],
   "source": [
    "e = train.sample(idx='32_39')\n",
    "e"
   ]
  },
  {
   "cell_type": "code",
   "execution_count": 22,
   "metadata": {},
   "outputs": [
    {
     "data": {
      "text/plain": [
       "'Buzz Aldrin was born in Glen Ridge, New Jersey. , was a part of the crew of Apollo 11 12. Massachusetts Institute of Technology, Sc.D. 1963 is , almaMater. , was born on 1930-01-20.'"
      ]
     },
     "execution_count": 22,
     "metadata": {},
     "output_type": "execute_result"
    }
   ],
   "source": [
    "pipe.generate([e.get_data()])[0]"
   ]
  },
  {
   "cell_type": "markdown",
   "metadata": {},
   "source": [
    "# Test evaluation"
   ]
  },
  {
   "cell_type": "code",
   "execution_count": 23,
   "metadata": {},
   "outputs": [
    {
     "name": "stdout",
     "output_type": "stream",
     "text": [
      "CPU times: user 4.94 s, sys: 172 ms, total: 5.11 s\n",
      "Wall time: 5.12 s\n"
     ]
    }
   ],
   "source": [
    "%%time \n",
    "import codecs\n",
    "\n",
    "with codecs.open(output_filepath, 'w', 'utf-8') as f:\n",
    "    \n",
    "    for text in pipe.generate((entry.get_data() for entry in test)):\n",
    "        \n",
    "        f.write(\"{}\\n\".format(text))"
   ]
  },
  {
   "cell_type": "code",
   "execution_count": 24,
   "metadata": {},
   "outputs": [
    {
     "name": "stdout",
     "output_type": "stream",
     "text": [
      "English language is spoken in Castle (novel).\r\n",
      "Eric Flint was born in Burbank, California.\r\n",
      "Farrar, Straus and Giroux is the parent company of the Macmillan Publishers Press.\r\n",
      "One of John Cowper Powys notable works is Oliver A Glastonbury Romance.\r\n",
      "Soho Press is located in United States.\r\n",
      "Faber and Faber is the publisher of The Secret Scripture.\r\n",
      "Asian Americans are an ethnic group in the United United States.\r\n",
      "English language is spoken in United States.\r\n",
      "A Glastonbury Romance preceded 1634: The Weymouth Sands Crisis.\r\n",
      "The manager of A.C. Chievo Verona is Rolando Maran.\r\n"
     ]
    }
   ],
   "source": [
    "!head -100 \"$output_filepath\" | tail -10"
   ]
  },
  {
   "cell_type": "code",
   "execution_count": 25,
   "metadata": {},
   "outputs": [
    {
     "name": "stdout",
     "output_type": "stream",
     "text": [
      "Files creating finished for:  5 - Model - Template Based - roots_55f9d82b420c5cbc6a01d5a65082414b87a81195\r\n"
     ]
    }
   ],
   "source": [
    "!python ../evaluation/webnlg2017/webnlg-automatic-evaluation-v2/evaluation_v2.py --team_name \"$model_name\" --team_filepath \"$output_filepath\" --outdir \"$model_temp_dir\""
   ]
  },
  {
   "cell_type": "code",
   "execution_count": 26,
   "metadata": {},
   "outputs": [
    {
     "name": "stdout",
     "output_type": "stream",
     "text": [
      "BLEU = 39.97, 74.8/48.9/32.5/21.5 (BP=1.000, ratio=1.070, hyp_len=47755, ref_len=44618)\r\n"
     ]
    }
   ],
   "source": [
    "!../evaluation/webnlg2017/webnlg-baseline-master/multi-bleu.perl -lc ../evaluation/webnlg2017/webnlg-automatic-evaluation/references/gold-all-cat-reference0.lex ../evaluation/webnlg2017/webnlg-automatic-evaluation/references/gold-all-cat-reference1.lex ../evaluation/webnlg2017/webnlg-automatic-evaluation/references/gold-all-cat-reference2.lex < \"$bleu_all_cat\""
   ]
  }
 ],
 "metadata": {
  "kernelspec": {
   "display_name": "Python 3",
   "language": "python",
   "name": "python3"
  },
  "language_info": {
   "codemirror_mode": {
    "name": "ipython",
    "version": 3
   },
   "file_extension": ".py",
   "mimetype": "text/x-python",
   "name": "python",
   "nbconvert_exporter": "python",
   "pygments_lexer": "ipython3",
   "version": "3.6.5"
  }
 },
 "nbformat": 4,
 "nbformat_minor": 2
}
