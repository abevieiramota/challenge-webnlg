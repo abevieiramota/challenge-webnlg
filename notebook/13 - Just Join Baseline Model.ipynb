{
 "cells": [
  {
   "cell_type": "code",
   "execution_count": 20,
   "metadata": {},
   "outputs": [],
   "source": [
    "from sklearn.base import BaseEstimator, RegressorMixin\n",
    "\n",
    "import numpy as np\n",
    "\n",
    "import os\n",
    "\n",
    "os.sys.path.insert(0, '../script')\n",
    "from webnlg import WebNLGCorpus"
   ]
  },
  {
   "cell_type": "code",
   "execution_count": 67,
   "metadata": {},
   "outputs": [],
   "source": [
    "model_name = 'just-join-baseline'"
   ]
  },
  {
   "cell_type": "markdown",
   "metadata": {},
   "source": [
    "# Algorithm"
   ]
  },
  {
   "cell_type": "code",
   "execution_count": 71,
   "metadata": {},
   "outputs": [],
   "source": [
    "# The algorithm using the scikit-learn framework\n",
    "class NLGBaseline(BaseEstimator, RegressorMixin):\n",
    "    \n",
    "    def __init__(self, sop_sep=' ', sentence_sep=','):\n",
    "        \n",
    "        self.sop_sep = sop_sep\n",
    "        self.sentence_sep = sentence_sep\n",
    "        \n",
    "    \n",
    "    # there isn't any training step, as it's all rule-based        \n",
    "    def fit(self, X, y=None):\n",
    "        pass\n",
    "    \n",
    "    # generating text for an entry\n",
    "    def predict_entry(self, x):\n",
    "        \n",
    "        # first, generate, for each content unit, a string which is simply the subject, followed by the predicate,\n",
    "        #    and then by the object, separated by a single space\n",
    "        sens = [self.sop_sep.join([data['subject'], data['predicate'], data['object']]) for data in x]\n",
    "        \n",
    "        # secondly, join each sentence with a comma between then\n",
    "        return self.sentence_sep.join(sens)\n",
    "    \n",
    "    \n",
    "    def predict(self, X, y=None):\n",
    "        \n",
    "        # for each entry, generate a text\n",
    "        return [self.predict_entry(x) for x in X]"
   ]
  },
  {
   "cell_type": "markdown",
   "metadata": {},
   "source": [
    "# Loading dataset"
   ]
  },
  {
   "cell_type": "code",
   "execution_count": 76,
   "metadata": {},
   "outputs": [],
   "source": [
    "test = WebNLGCorpus.load(\"test_with_lex\")\n",
    "\n",
    "X_test = np.array([t.get_data() for t in test])\n",
    "y_test = np.array([t.lexes() for t in test])"
   ]
  },
  {
   "cell_type": "markdown",
   "metadata": {},
   "source": [
    "# Generating texts"
   ]
  },
  {
   "cell_type": "code",
   "execution_count": 59,
   "metadata": {},
   "outputs": [
    {
     "name": "stdout",
     "output_type": "stream",
     "text": [
      "CPU times: user 15.6 ms, sys: 0 ns, total: 15.6 ms\n",
      "Wall time: 14.7 ms\n"
     ]
    }
   ],
   "source": [
    "%%time\n",
    "\n",
    "texts = model.predict(X_test)\n",
    "\n",
    "import codecs\n",
    "\n",
    "with codecs.open('../data/models/just-join-baseline', 'w', 'utf-8') as f:\n",
    "    \n",
    "    for text in texts:\n",
    "        \n",
    "        f.write(\"{}\\n\".format(text))"
   ]
  },
  {
   "cell_type": "markdown",
   "metadata": {},
   "source": [
    "## Generated texts sample"
   ]
  },
  {
   "cell_type": "code",
   "execution_count": 60,
   "metadata": {},
   "outputs": [
    {
     "name": "stdout",
     "output_type": "stream",
     "text": [
      "Castle_(novel) language English_language\r\n",
      "Eric_Flint birthPlace Burbank,_California\r\n",
      "Farrar,_Straus_and_Giroux parentCompany Macmillan_Publishers\r\n",
      "John_Cowper_Powys notableWork A_Glastonbury_Romance\r\n",
      "Soho_Press country United_States\r\n",
      "The_Secret_Scripture publisher Faber_and_Faber\r\n",
      "United_States ethnicGroup Asian_Americans\r\n",
      "United_States language English_language\r\n",
      "Weymouth_Sands precededBy A_Glastonbury_Romance\r\n",
      "A.C._Chievo_Verona manager Rolando_Maran\r\n"
     ]
    }
   ],
   "source": [
    "!head -100 ../data/models/just-join-baseline | tail -10"
   ]
  },
  {
   "cell_type": "markdown",
   "metadata": {},
   "source": [
    "## Individual samples"
   ]
  },
  {
   "cell_type": "markdown",
   "metadata": {},
   "source": [
    "### Sample with ntriples = 1"
   ]
  },
  {
   "cell_type": "code",
   "execution_count": 96,
   "metadata": {},
   "outputs": [
    {
     "data": {
      "text/plain": [
       "Triple info: category=Airport eid=Id10\n",
       "\n",
       "\tModified triples:\n",
       "\n",
       "Amsterdam_Airport_Schiphol | 1st_runway_Number | 18\n",
       "\n",
       "\n",
       "\tLexicalizations:\n",
       "\n",
       "The first runway at Amsterdam's Schiphol Airport is known as Number 18.\n",
       "The Amsterdam Airport Schiphol's 1st runway number is 18.\n",
       "The number of the 1st runway at Amsterdam Airport Schiphol is 18."
      ]
     },
     "execution_count": 96,
     "metadata": {},
     "output_type": "execute_result"
    }
   ],
   "source": [
    "sample = test.sample(eid='Id10')\n",
    "\n",
    "sample"
   ]
  },
  {
   "cell_type": "code",
   "execution_count": 97,
   "metadata": {},
   "outputs": [
    {
     "data": {
      "text/plain": [
       "'Amsterdam_Airport_Schiphol 1st_runway_Number 18'"
      ]
     },
     "execution_count": 97,
     "metadata": {},
     "output_type": "execute_result"
    }
   ],
   "source": [
    "model.predict([sample.get_data()])[0]"
   ]
  },
  {
   "cell_type": "markdown",
   "metadata": {},
   "source": [
    "### Sample with ntriples = 3"
   ]
  },
  {
   "cell_type": "code",
   "execution_count": 88,
   "metadata": {},
   "outputs": [
    {
     "data": {
      "text/plain": [
       "Triple info: category=Astronaut eid=Id397\n",
       "\n",
       "\tModified triples:\n",
       "\n",
       "Alan_Bean | nationality | United_States\n",
       "Alan_Bean | birthPlace | Wheeler,_Texas\n",
       "Alan_Bean | status | \"Retired\"\n",
       "\n",
       "\n",
       "\tLexicalizations:\n",
       "\n",
       "American retiree Alan Bean was born in Wheeler, Texas.\n",
       "Retired US National Alan Bean was born in Wheeler, Texas.\n",
       "Alan Bean was born in the United States in Wheeler, Texas and has retired."
      ]
     },
     "execution_count": 88,
     "metadata": {},
     "output_type": "execute_result"
    }
   ],
   "source": [
    "sample = test.sample(eid='Id397')\n",
    "\n",
    "sample"
   ]
  },
  {
   "cell_type": "code",
   "execution_count": 89,
   "metadata": {},
   "outputs": [
    {
     "data": {
      "text/plain": [
       "'Alan_Bean nationality United_States, Alan_Bean birthPlace Wheeler,_Texas, Alan_Bean status \"Retired\"'"
      ]
     },
     "execution_count": 89,
     "metadata": {},
     "output_type": "execute_result"
    }
   ],
   "source": [
    "model.predict([sample.get_data()])[0]"
   ]
  },
  {
   "cell_type": "markdown",
   "metadata": {},
   "source": [
    "# Evaluation"
   ]
  },
  {
   "cell_type": "markdown",
   "metadata": {},
   "source": [
    "## Generating the files needed to evaluate with BLEU and METEOR"
   ]
  },
  {
   "cell_type": "code",
   "execution_count": 68,
   "metadata": {},
   "outputs": [
    {
     "name": "stdout",
     "output_type": "stream",
     "text": [
      "Files creating finished for:  just-join-baseline\r\n"
     ]
    }
   ],
   "source": [
    "!mkdir -p ../tmp/\"$model_name\"\n",
    "\n",
    "!python ../evaluation/webnlg2017/webnlg-automatic-evaluation-v2/evaluation_v2.py --team_name \"$model_name\" --team_filepath ../data/models/\"$model_name\" --outdir ../tmp/\"$model_name\" \n",
    "\n",
    "all_cat = f\"../tmp/{model_name}/{model_name}_all-cat.txt\""
   ]
  },
  {
   "cell_type": "markdown",
   "metadata": {},
   "source": [
    "## BLEU"
   ]
  },
  {
   "cell_type": "code",
   "execution_count": 69,
   "metadata": {},
   "outputs": [
    {
     "name": "stdout",
     "output_type": "stream",
     "text": [
      "BLEU = 11.62, 40.3/16.4/10.0/6.8 (BP=0.800, ratio=0.817, hyp_len=30962, ref_len=37882)\r\n"
     ]
    }
   ],
   "source": [
    "!../evaluation/webnlg2017/webnlg-baseline-master/multi-bleu.perl -lc ../evaluation/webnlg2017/webnlg-automatic-evaluation/references/gold-all-cat-reference0.lex ../evaluation/webnlg2017/webnlg-automatic-evaluation/references/gold-all-cat-reference1.lex ../evaluation/webnlg2017/webnlg-automatic-evaluation/references/gold-all-cat-reference2.lex < \"$all_cat\""
   ]
  },
  {
   "cell_type": "markdown",
   "metadata": {},
   "source": [
    "## METEOR"
   ]
  },
  {
   "cell_type": "code",
   "execution_count": 70,
   "metadata": {},
   "outputs": [
    {
     "name": "stdout",
     "output_type": "stream",
     "text": [
      "Test words:             53267\r\n",
      "Reference words:        42542\r\n",
      "Chunks:                 17826\r\n",
      "Precision:              0.4226531779768414\r\n",
      "Recall:                 0.6629579252811026\r\n",
      "f1:                     0.5162093002624989\r\n",
      "fMean:                  0.6108610246271051\r\n",
      "Fragmentation penalty:  0.5691478919224137\r\n",
      "\r\n",
      "Final score:            0.2631907602030226\r\n"
     ]
    }
   ],
   "source": [
    "!java -Xmx2G -jar ../evaluation/webnlg2017/meteor-1.5/meteor-1.5.jar \"$all_cat\" ../evaluation/webnlg2017/webnlg-automatic-evaluation/references/gold-all-cat-reference-3ref.meteor -l en -norm -r 3 -a ../evaluation/webnlg2017/meteor-1.5/data/paraphrase-en.gz | tail -10"
   ]
  }
 ],
 "metadata": {
  "kernelspec": {
   "display_name": "Python 3",
   "language": "python",
   "name": "python3"
  },
  "language_info": {
   "codemirror_mode": {
    "name": "ipython",
    "version": 3
   },
   "file_extension": ".py",
   "mimetype": "text/x-python",
   "name": "python",
   "nbconvert_exporter": "python",
   "pygments_lexer": "ipython3",
   "version": "3.6.7"
  }
 },
 "nbformat": 4,
 "nbformat_minor": 2
}
