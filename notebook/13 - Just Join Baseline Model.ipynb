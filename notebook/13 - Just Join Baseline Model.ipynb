{
 "cells": [
  {
   "cell_type": "code",
   "execution_count": 1,
   "metadata": {},
   "outputs": [],
   "source": [
    "import os\n",
    "\n",
    "os.sys.path.insert(0, '../script')\n",
    "from webnlg import WebNLGCorpus\n",
    "from just_join import *\n",
    "from evaluation import *"
   ]
  },
  {
   "cell_type": "markdown",
   "metadata": {},
   "source": [
    "# Model"
   ]
  },
  {
   "cell_type": "code",
   "execution_count": 2,
   "metadata": {},
   "outputs": [],
   "source": [
    "model = JustJoinGenerator()"
   ]
  },
  {
   "cell_type": "code",
   "execution_count": 3,
   "metadata": {},
   "outputs": [
    {
     "data": {
      "text/plain": [
       "{'bleu': 11.62, 'meteor': 0.2631907602030226, 'ter': 0.7995305073983557}"
      ]
     },
     "execution_count": 3,
     "metadata": {},
     "output_type": "execute_result"
    }
   ],
   "source": [
    "evaluate_model(model, 'just-join')"
   ]
  },
  {
   "cell_type": "markdown",
   "metadata": {},
   "source": [
    "## Individual samples"
   ]
  },
  {
   "cell_type": "markdown",
   "metadata": {},
   "source": [
    "### Sample with ntriples = 1"
   ]
  },
  {
   "cell_type": "code",
   "execution_count": 17,
   "metadata": {},
   "outputs": [
    {
     "data": {
      "text/plain": [
       "Triple info: category=Airport eid=Id24\n",
       "\n",
       "\tModified triples:\n",
       "\n",
       "Atlantic_City_International_Airport | runwayName | \"13/31\"\n",
       "\n",
       "\n",
       "\tLexicalizations:\n",
       "\n",
       "The name of the runway at Atlantic City International Airport is \"13/31\".\n",
       "13/31 is the runway name for Atlantic City International airport.\n",
       "Atlantic City International Airport's runway name is \"13/31\"."
      ]
     },
     "execution_count": 17,
     "metadata": {},
     "output_type": "execute_result"
    }
   ],
   "source": [
    "sample = test.sample(ntriples=1, seed=200)\n",
    "\n",
    "sample"
   ]
  },
  {
   "cell_type": "code",
   "execution_count": 18,
   "metadata": {},
   "outputs": [
    {
     "data": {
      "text/plain": [
       "'Atlantic_City_International_Airport runwayName \"13/31\"'"
      ]
     },
     "execution_count": 18,
     "metadata": {},
     "output_type": "execute_result"
    }
   ],
   "source": [
    "model.predict([sample.get_data()])[0]"
   ]
  },
  {
   "cell_type": "markdown",
   "metadata": {},
   "source": [
    "### Sample with ntriples = 5"
   ]
  },
  {
   "cell_type": "code",
   "execution_count": 7,
   "metadata": {},
   "outputs": [
    {
     "data": {
      "text/plain": [
       "Triple info: category=City eid=Id806\n",
       "\n",
       "\tModified triples:\n",
       "\n",
       "Austin,_Texas | isPartOf | Texas\n",
       "Texas | language | English_language\n",
       "Austin,_Texas | isPartOf | Williamson_County,_Texas\n",
       "Williamson_County,_Texas | largestCity | Round_Rock,_Texas\n",
       "Williamson_County,_Texas | countySeat | Georgetown,_Texas\n",
       "\n",
       "\n",
       "\tLexicalizations:\n",
       "\n",
       "Austin is part of Williamson County, in Texas, where English is a language spoken. Round Rock is the largest city in Williamson County and Georgetown is the county seat.\n",
       "Austin is located in Texas which is where English is spoken. Austin is part of Williamson County, Texas and the largest city is Round Rock while Georgetown is the county seat."
      ]
     },
     "execution_count": 7,
     "metadata": {},
     "output_type": "execute_result"
    }
   ],
   "source": [
    "sample = test.sample(ntriples=5, seed=200)\n",
    "sample"
   ]
  },
  {
   "cell_type": "code",
   "execution_count": 8,
   "metadata": {},
   "outputs": [
    {
     "data": {
      "text/plain": [
       "'Austin,_Texas isPartOf Texas,Texas language English_language,Austin,_Texas isPartOf Williamson_County,_Texas,Williamson_County,_Texas largestCity Round_Rock,_Texas,Williamson_County,_Texas countySeat Georgetown,_Texas'"
      ]
     },
     "execution_count": 8,
     "metadata": {},
     "output_type": "execute_result"
    }
   ],
   "source": [
    "model.predict([sample.get_data()])[0]"
   ]
  },
  {
   "cell_type": "markdown",
   "metadata": {},
   "source": [
    "# Variantions"
   ]
  },
  {
   "cell_type": "code",
   "execution_count": 26,
   "metadata": {},
   "outputs": [
    {
     "data": {
      "text/plain": [
       "'Austin,_Texas isPartOf Texas,Texas language English_language,Austin,_Texas isPartOf Williamson_County,_Texas,Williamson_County,_Texas largestCity Round_Rock,_Texas,Williamson_County,_Texas countySeat Georgetown,_Texas'"
      ]
     },
     "execution_count": 26,
     "metadata": {},
     "output_type": "execute_result"
    }
   ],
   "source": [
    "model = JustJoinGenerator()\n",
    "\n",
    "model.predict([sample.get_data()])[0]"
   ]
  },
  {
   "cell_type": "code",
   "execution_count": 30,
   "metadata": {},
   "outputs": [
    {
     "data": {
      "text/plain": [
       "'Williamson_County,_Texas countySeat Georgetown,_Texas,Williamson_County,_Texas largestCity Round_Rock,_Texas,Austin,_Texas isPartOf Williamson_County,_Texas,Texas language English_language,Austin,_Texas isPartOf Texas'"
      ]
     },
     "execution_count": 30,
     "metadata": {},
     "output_type": "execute_result"
    }
   ],
   "source": [
    "model = JustJoinGenerator(sen_sort=reversed)\n",
    "\n",
    "model.predict([sample.get_data()])[0]"
   ]
  },
  {
   "cell_type": "code",
   "execution_count": 35,
   "metadata": {},
   "outputs": [
    {
     "data": {
      "text/plain": [
       "'Austin, Texas is Part Of Texas, Texas language English language, Austin, Texas is Part Of Williamson County, Texas, Williamson County, Texas largest City Round Rock, Texas, Williamson County, Texas county Seat Georgetown, Texas'"
      ]
     },
     "execution_count": 35,
     "metadata": {},
     "output_type": "execute_result"
    }
   ],
   "source": [
    "model = JustJoinGenerator(preprocess_subject=parenthesis_underline_camelcase,\n",
    "                          preprocess_predicate=parenthesis_underline_camelcase,\n",
    "                          preprocess_object=parenthesis_underline_camelcase,\n",
    "                          sen_sep=', ')\n",
    "\n",
    "model.predict([sample.get_data()])[0]"
   ]
  },
  {
   "cell_type": "markdown",
   "metadata": {},
   "source": [
    "# Evaluation"
   ]
  },
  {
   "cell_type": "markdown",
   "metadata": {},
   "source": [
    "### Models"
   ]
  },
  {
   "cell_type": "code",
   "execution_count": 2,
   "metadata": {},
   "outputs": [
    {
     "name": "stdout",
     "output_type": "stream",
     "text": [
      "CPU times: user 1min 3s, sys: 2min 22s, total: 3min 26s\n",
      "Wall time: 3h 36min 27s\n"
     ]
    }
   ],
   "source": [
    "%%time\n",
    "\n",
    "\n",
    "param_grid = {'spo_sep': [' '],\n",
    "              'sen_sep': [','],\n",
    "              'spo_order': [SPO_ORDER, OPS_ORDER],\n",
    "              'sen_sort': [as_is, reversed],\n",
    "              'preprocess_subject': [as_is, remove_and_invert_parenthesis, remove_underline, camelcase_to_normal, parenthesis_underline, parenthesis_underline_camelcase],\n",
    "              'preprocess_predicate': [as_is, remove_and_invert_parenthesis, remove_underline, camelcase_to_normal, parenthesis_underline, parenthesis_underline_camelcase],\n",
    "              'preprocess_object': [as_is, remove_and_invert_parenthesis, remove_underline, camelcase_to_normal, parenthesis_underline, parenthesis_underline_camelcase]\n",
    "             }\n",
    "\n",
    "results = evaluate_grid(JustJoinGenerator(), param_grid)\n",
    "results.to_csv('just_join_baseline_evaluation.csv')"
   ]
  },
  {
   "cell_type": "markdown",
   "metadata": {},
   "source": [
    "# Analysis results"
   ]
  },
  {
   "cell_type": "code",
   "execution_count": 36,
   "metadata": {},
   "outputs": [
    {
     "data": {
      "text/plain": [
       "(1728, 10)"
      ]
     },
     "execution_count": 36,
     "metadata": {},
     "output_type": "execute_result"
    }
   ],
   "source": [
    "df = pd.read_csv('just_join_baseline_evaluation.csv')\n",
    "\n",
    "df.shape"
   ]
  },
  {
   "cell_type": "code",
   "execution_count": 3,
   "metadata": {},
   "outputs": [
    {
     "data": {
      "text/html": [
       "<div>\n",
       "<style scoped>\n",
       "    .dataframe tbody tr th:only-of-type {\n",
       "        vertical-align: middle;\n",
       "    }\n",
       "\n",
       "    .dataframe tbody tr th {\n",
       "        vertical-align: top;\n",
       "    }\n",
       "\n",
       "    .dataframe thead th {\n",
       "        text-align: right;\n",
       "    }\n",
       "</style>\n",
       "<table border=\"1\" class=\"dataframe\">\n",
       "  <thead>\n",
       "    <tr style=\"text-align: right;\">\n",
       "      <th></th>\n",
       "      <th>Unnamed: 0</th>\n",
       "      <th>bleu</th>\n",
       "      <th>meteor</th>\n",
       "      <th>preprocess_object</th>\n",
       "      <th>preprocess_predicate</th>\n",
       "      <th>preprocess_subject</th>\n",
       "      <th>sen_sep</th>\n",
       "      <th>sen_sort</th>\n",
       "      <th>spo_order</th>\n",
       "      <th>spo_sep</th>\n",
       "    </tr>\n",
       "  </thead>\n",
       "  <tbody>\n",
       "    <tr>\n",
       "      <th>0</th>\n",
       "      <td>0</td>\n",
       "      <td>11.62</td>\n",
       "      <td>0.263191</td>\n",
       "      <td>&lt;function as_is at 0x7f2c41d17a60&gt;</td>\n",
       "      <td>&lt;function as_is at 0x7f2c41d17a60&gt;</td>\n",
       "      <td>&lt;function as_is at 0x7f2c41d17a60&gt;</td>\n",
       "      <td>,</td>\n",
       "      <td>&lt;function as_is at 0x7f2c41d17a60&gt;</td>\n",
       "      <td>['subject', 'predicate', 'object']</td>\n",
       "      <td></td>\n",
       "    </tr>\n",
       "    <tr>\n",
       "      <th>1</th>\n",
       "      <td>1</td>\n",
       "      <td>11.13</td>\n",
       "      <td>0.262815</td>\n",
       "      <td>&lt;function remove_and_invert_parenthesis at 0x7...</td>\n",
       "      <td>&lt;function as_is at 0x7f2c41d17a60&gt;</td>\n",
       "      <td>&lt;function as_is at 0x7f2c41d17a60&gt;</td>\n",
       "      <td>,</td>\n",
       "      <td>&lt;function as_is at 0x7f2c41d17a60&gt;</td>\n",
       "      <td>['subject', 'predicate', 'object']</td>\n",
       "      <td></td>\n",
       "    </tr>\n",
       "    <tr>\n",
       "      <th>2</th>\n",
       "      <td>2</td>\n",
       "      <td>20.86</td>\n",
       "      <td>0.287080</td>\n",
       "      <td>&lt;function remove_underline at 0x7f2c41a46510&gt;</td>\n",
       "      <td>&lt;function as_is at 0x7f2c41d17a60&gt;</td>\n",
       "      <td>&lt;function as_is at 0x7f2c41d17a60&gt;</td>\n",
       "      <td>,</td>\n",
       "      <td>&lt;function as_is at 0x7f2c41d17a60&gt;</td>\n",
       "      <td>['subject', 'predicate', 'object']</td>\n",
       "      <td></td>\n",
       "    </tr>\n",
       "    <tr>\n",
       "      <th>3</th>\n",
       "      <td>3</td>\n",
       "      <td>11.59</td>\n",
       "      <td>0.263470</td>\n",
       "      <td>&lt;function camelcase_to_normal at 0x7f2c42760e18&gt;</td>\n",
       "      <td>&lt;function as_is at 0x7f2c41d17a60&gt;</td>\n",
       "      <td>&lt;function as_is at 0x7f2c41d17a60&gt;</td>\n",
       "      <td>,</td>\n",
       "      <td>&lt;function as_is at 0x7f2c41d17a60&gt;</td>\n",
       "      <td>['subject', 'predicate', 'object']</td>\n",
       "      <td></td>\n",
       "    </tr>\n",
       "    <tr>\n",
       "      <th>4</th>\n",
       "      <td>4</td>\n",
       "      <td>20.48</td>\n",
       "      <td>0.286698</td>\n",
       "      <td>&lt;function pipeline.&lt;locals&gt;.f at 0x7f2c4276f048&gt;</td>\n",
       "      <td>&lt;function as_is at 0x7f2c41d17a60&gt;</td>\n",
       "      <td>&lt;function as_is at 0x7f2c41d17a60&gt;</td>\n",
       "      <td>,</td>\n",
       "      <td>&lt;function as_is at 0x7f2c41d17a60&gt;</td>\n",
       "      <td>['subject', 'predicate', 'object']</td>\n",
       "      <td></td>\n",
       "    </tr>\n",
       "  </tbody>\n",
       "</table>\n",
       "</div>"
      ],
      "text/plain": [
       "   Unnamed: 0   bleu    meteor  \\\n",
       "0           0  11.62  0.263191   \n",
       "1           1  11.13  0.262815   \n",
       "2           2  20.86  0.287080   \n",
       "3           3  11.59  0.263470   \n",
       "4           4  20.48  0.286698   \n",
       "\n",
       "                                   preprocess_object  \\\n",
       "0                 <function as_is at 0x7f2c41d17a60>   \n",
       "1  <function remove_and_invert_parenthesis at 0x7...   \n",
       "2      <function remove_underline at 0x7f2c41a46510>   \n",
       "3   <function camelcase_to_normal at 0x7f2c42760e18>   \n",
       "4   <function pipeline.<locals>.f at 0x7f2c4276f048>   \n",
       "\n",
       "                 preprocess_predicate                  preprocess_subject  \\\n",
       "0  <function as_is at 0x7f2c41d17a60>  <function as_is at 0x7f2c41d17a60>   \n",
       "1  <function as_is at 0x7f2c41d17a60>  <function as_is at 0x7f2c41d17a60>   \n",
       "2  <function as_is at 0x7f2c41d17a60>  <function as_is at 0x7f2c41d17a60>   \n",
       "3  <function as_is at 0x7f2c41d17a60>  <function as_is at 0x7f2c41d17a60>   \n",
       "4  <function as_is at 0x7f2c41d17a60>  <function as_is at 0x7f2c41d17a60>   \n",
       "\n",
       "  sen_sep                            sen_sort  \\\n",
       "0       ,  <function as_is at 0x7f2c41d17a60>   \n",
       "1       ,  <function as_is at 0x7f2c41d17a60>   \n",
       "2       ,  <function as_is at 0x7f2c41d17a60>   \n",
       "3       ,  <function as_is at 0x7f2c41d17a60>   \n",
       "4       ,  <function as_is at 0x7f2c41d17a60>   \n",
       "\n",
       "                            spo_order spo_sep  \n",
       "0  ['subject', 'predicate', 'object']          \n",
       "1  ['subject', 'predicate', 'object']          \n",
       "2  ['subject', 'predicate', 'object']          \n",
       "3  ['subject', 'predicate', 'object']          \n",
       "4  ['subject', 'predicate', 'object']          "
      ]
     },
     "execution_count": 3,
     "metadata": {},
     "output_type": "execute_result"
    }
   ],
   "source": [
    "df.head()"
   ]
  },
  {
   "cell_type": "code",
   "execution_count": 11,
   "metadata": {},
   "outputs": [
    {
     "data": {
      "text/html": [
       "<div>\n",
       "<style scoped>\n",
       "    .dataframe tbody tr th:only-of-type {\n",
       "        vertical-align: middle;\n",
       "    }\n",
       "\n",
       "    .dataframe tbody tr th {\n",
       "        vertical-align: top;\n",
       "    }\n",
       "\n",
       "    .dataframe thead th {\n",
       "        text-align: right;\n",
       "    }\n",
       "</style>\n",
       "<table border=\"1\" class=\"dataframe\">\n",
       "  <thead>\n",
       "    <tr style=\"text-align: right;\">\n",
       "      <th></th>\n",
       "      <th>Unnamed: 0</th>\n",
       "      <th>bleu</th>\n",
       "      <th>meteor</th>\n",
       "      <th>preprocess_object</th>\n",
       "      <th>preprocess_predicate</th>\n",
       "      <th>preprocess_subject</th>\n",
       "      <th>sen_sep</th>\n",
       "      <th>sen_sort</th>\n",
       "      <th>spo_order</th>\n",
       "      <th>spo_sep</th>\n",
       "    </tr>\n",
       "  </thead>\n",
       "  <tbody>\n",
       "    <tr>\n",
       "      <th>176</th>\n",
       "      <td>176</td>\n",
       "      <td>26.36</td>\n",
       "      <td>0.342489</td>\n",
       "      <td>&lt;function remove_underline at 0x7f2c41a46510&gt;</td>\n",
       "      <td>&lt;function pipeline.&lt;locals&gt;.f at 0x7f2c41d17bf8&gt;</td>\n",
       "      <td>&lt;function pipeline.&lt;locals&gt;.f at 0x7f2c4276f048&gt;</td>\n",
       "      <td>,</td>\n",
       "      <td>&lt;function as_is at 0x7f2c41d17a60&gt;</td>\n",
       "      <td>['subject', 'predicate', 'object']</td>\n",
       "      <td></td>\n",
       "    </tr>\n",
       "    <tr>\n",
       "      <th>212</th>\n",
       "      <td>212</td>\n",
       "      <td>26.33</td>\n",
       "      <td>0.342301</td>\n",
       "      <td>&lt;function remove_underline at 0x7f2c41a46510&gt;</td>\n",
       "      <td>&lt;function pipeline.&lt;locals&gt;.f at 0x7f2c41d17bf8&gt;</td>\n",
       "      <td>&lt;function pipeline.&lt;locals&gt;.f at 0x7f2c41d17bf8&gt;</td>\n",
       "      <td>,</td>\n",
       "      <td>&lt;function as_is at 0x7f2c41d17a60&gt;</td>\n",
       "      <td>['subject', 'predicate', 'object']</td>\n",
       "      <td></td>\n",
       "    </tr>\n",
       "    <tr>\n",
       "      <th>178</th>\n",
       "      <td>178</td>\n",
       "      <td>26.28</td>\n",
       "      <td>0.341974</td>\n",
       "      <td>&lt;function pipeline.&lt;locals&gt;.f at 0x7f2c4276f048&gt;</td>\n",
       "      <td>&lt;function pipeline.&lt;locals&gt;.f at 0x7f2c41d17bf8&gt;</td>\n",
       "      <td>&lt;function pipeline.&lt;locals&gt;.f at 0x7f2c4276f048&gt;</td>\n",
       "      <td>,</td>\n",
       "      <td>&lt;function as_is at 0x7f2c41d17a60&gt;</td>\n",
       "      <td>['subject', 'predicate', 'object']</td>\n",
       "      <td></td>\n",
       "    </tr>\n",
       "  </tbody>\n",
       "</table>\n",
       "</div>"
      ],
      "text/plain": [
       "     Unnamed: 0   bleu    meteor  \\\n",
       "176         176  26.36  0.342489   \n",
       "212         212  26.33  0.342301   \n",
       "178         178  26.28  0.341974   \n",
       "\n",
       "                                    preprocess_object  \\\n",
       "176     <function remove_underline at 0x7f2c41a46510>   \n",
       "212     <function remove_underline at 0x7f2c41a46510>   \n",
       "178  <function pipeline.<locals>.f at 0x7f2c4276f048>   \n",
       "\n",
       "                                 preprocess_predicate  \\\n",
       "176  <function pipeline.<locals>.f at 0x7f2c41d17bf8>   \n",
       "212  <function pipeline.<locals>.f at 0x7f2c41d17bf8>   \n",
       "178  <function pipeline.<locals>.f at 0x7f2c41d17bf8>   \n",
       "\n",
       "                                   preprocess_subject sen_sep  \\\n",
       "176  <function pipeline.<locals>.f at 0x7f2c4276f048>       ,   \n",
       "212  <function pipeline.<locals>.f at 0x7f2c41d17bf8>       ,   \n",
       "178  <function pipeline.<locals>.f at 0x7f2c4276f048>       ,   \n",
       "\n",
       "                               sen_sort                           spo_order  \\\n",
       "176  <function as_is at 0x7f2c41d17a60>  ['subject', 'predicate', 'object']   \n",
       "212  <function as_is at 0x7f2c41d17a60>  ['subject', 'predicate', 'object']   \n",
       "178  <function as_is at 0x7f2c41d17a60>  ['subject', 'predicate', 'object']   \n",
       "\n",
       "    spo_sep  \n",
       "176          \n",
       "212          \n",
       "178          "
      ]
     },
     "execution_count": 11,
     "metadata": {},
     "output_type": "execute_result"
    }
   ],
   "source": [
    "df.nlargest(3, 'bleu')"
   ]
  },
  {
   "cell_type": "code",
   "execution_count": 27,
   "metadata": {},
   "outputs": [
    {
     "data": {
      "text/html": [
       "<div>\n",
       "<style scoped>\n",
       "    .dataframe tbody tr th:only-of-type {\n",
       "        vertical-align: middle;\n",
       "    }\n",
       "\n",
       "    .dataframe tbody tr th {\n",
       "        vertical-align: top;\n",
       "    }\n",
       "\n",
       "    .dataframe thead th {\n",
       "        text-align: right;\n",
       "    }\n",
       "</style>\n",
       "<table border=\"1\" class=\"dataframe\">\n",
       "  <thead>\n",
       "    <tr style=\"text-align: right;\">\n",
       "      <th></th>\n",
       "      <th>Unnamed: 0</th>\n",
       "      <th>bleu</th>\n",
       "      <th>meteor</th>\n",
       "      <th>preprocess_object</th>\n",
       "      <th>preprocess_predicate</th>\n",
       "      <th>preprocess_subject</th>\n",
       "      <th>sen_sep</th>\n",
       "      <th>sen_sort</th>\n",
       "      <th>spo_order</th>\n",
       "      <th>spo_sep</th>\n",
       "    </tr>\n",
       "  </thead>\n",
       "  <tbody>\n",
       "    <tr>\n",
       "      <th>1339</th>\n",
       "      <td>1339</td>\n",
       "      <td>10.62</td>\n",
       "      <td>0.256942</td>\n",
       "      <td>&lt;function remove_and_invert_parenthesis at 0x7...</td>\n",
       "      <td>&lt;function remove_and_invert_parenthesis at 0x7...</td>\n",
       "      <td>&lt;function remove_and_invert_parenthesis at 0x7...</td>\n",
       "      <td></td>\n",
       "      <td>&lt;function as_is at 0x7f2c41d17a60&gt;</td>\n",
       "      <td>['object', 'predicate', 'subject']</td>\n",
       "      <td></td>\n",
       "    </tr>\n",
       "    <tr>\n",
       "      <th>1555</th>\n",
       "      <td>1555</td>\n",
       "      <td>10.62</td>\n",
       "      <td>0.256912</td>\n",
       "      <td>&lt;function remove_and_invert_parenthesis at 0x7...</td>\n",
       "      <td>&lt;function remove_and_invert_parenthesis at 0x7...</td>\n",
       "      <td>&lt;function remove_and_invert_parenthesis at 0x7...</td>\n",
       "      <td></td>\n",
       "      <td>&lt;class 'reversed'&gt;</td>\n",
       "      <td>['object', 'predicate', 'subject']</td>\n",
       "      <td></td>\n",
       "    </tr>\n",
       "    <tr>\n",
       "      <th>1333</th>\n",
       "      <td>1333</td>\n",
       "      <td>10.63</td>\n",
       "      <td>0.256946</td>\n",
       "      <td>&lt;function remove_and_invert_parenthesis at 0x7...</td>\n",
       "      <td>&lt;function as_is at 0x7f2c41d17a60&gt;</td>\n",
       "      <td>&lt;function remove_and_invert_parenthesis at 0x7...</td>\n",
       "      <td></td>\n",
       "      <td>&lt;function as_is at 0x7f2c41d17a60&gt;</td>\n",
       "      <td>['object', 'predicate', 'subject']</td>\n",
       "      <td></td>\n",
       "    </tr>\n",
       "  </tbody>\n",
       "</table>\n",
       "</div>"
      ],
      "text/plain": [
       "      Unnamed: 0   bleu    meteor  \\\n",
       "1339        1339  10.62  0.256942   \n",
       "1555        1555  10.62  0.256912   \n",
       "1333        1333  10.63  0.256946   \n",
       "\n",
       "                                      preprocess_object  \\\n",
       "1339  <function remove_and_invert_parenthesis at 0x7...   \n",
       "1555  <function remove_and_invert_parenthesis at 0x7...   \n",
       "1333  <function remove_and_invert_parenthesis at 0x7...   \n",
       "\n",
       "                                   preprocess_predicate  \\\n",
       "1339  <function remove_and_invert_parenthesis at 0x7...   \n",
       "1555  <function remove_and_invert_parenthesis at 0x7...   \n",
       "1333                 <function as_is at 0x7f2c41d17a60>   \n",
       "\n",
       "                                     preprocess_subject sen_sep  \\\n",
       "1339  <function remove_and_invert_parenthesis at 0x7...           \n",
       "1555  <function remove_and_invert_parenthesis at 0x7...           \n",
       "1333  <function remove_and_invert_parenthesis at 0x7...           \n",
       "\n",
       "                                sen_sort                           spo_order  \\\n",
       "1339  <function as_is at 0x7f2c41d17a60>  ['object', 'predicate', 'subject']   \n",
       "1555                  <class 'reversed'>  ['object', 'predicate', 'subject']   \n",
       "1333  <function as_is at 0x7f2c41d17a60>  ['object', 'predicate', 'subject']   \n",
       "\n",
       "     spo_sep  \n",
       "1339          \n",
       "1555          \n",
       "1333          "
      ]
     },
     "execution_count": 27,
     "metadata": {},
     "output_type": "execute_result"
    }
   ],
   "source": [
    "df.nsmallest(3, 'bleu')"
   ]
  },
  {
   "cell_type": "code",
   "execution_count": 34,
   "metadata": {},
   "outputs": [
    {
     "name": "stdout",
     "output_type": "stream",
     "text": [
      "Abilene Regional Airport city Served Abilene, Texas\r\n",
      "Adolfo Suárez Madrid–Barajas Airport location \"Madrid, Paracuellos de Jarama, San Sebastián de los Reyes and Alcobendas\"\r\n",
      "Adolfo Suárez Madrid–Barajas Airport runway Name \"18L/36R\"\r\n"
     ]
    }
   ],
   "source": [
    "!head -3 ../data/models/176"
   ]
  },
  {
   "cell_type": "code",
   "execution_count": 37,
   "metadata": {},
   "outputs": [
    {
     "name": "stdout",
     "output_type": "stream",
     "text": [
      "Abilene,_Texas cityServed Abilene_Regional_Airport\r\n",
      "\"Madrid, Paracuellos de Jarama, San Sebastián de los Reyes and Alcobendas\" location Adolfo_Suárez_Madrid–Barajas_Airport\r\n",
      "\"18L/36R\" runwayName Adolfo_Suárez_Madrid–Barajas_Airport\r\n"
     ]
    }
   ],
   "source": [
    "!head -3 ../data/models/1339"
   ]
  },
  {
   "cell_type": "code",
   "execution_count": 10,
   "metadata": {},
   "outputs": [
    {
     "data": {
      "text/html": [
       "<div>\n",
       "<style scoped>\n",
       "    .dataframe tbody tr th:only-of-type {\n",
       "        vertical-align: middle;\n",
       "    }\n",
       "\n",
       "    .dataframe tbody tr th {\n",
       "        vertical-align: top;\n",
       "    }\n",
       "\n",
       "    .dataframe thead th {\n",
       "        text-align: right;\n",
       "    }\n",
       "</style>\n",
       "<table border=\"1\" class=\"dataframe\">\n",
       "  <thead>\n",
       "    <tr style=\"text-align: right;\">\n",
       "      <th></th>\n",
       "      <th>Unnamed: 0</th>\n",
       "      <th>bleu</th>\n",
       "      <th>meteor</th>\n",
       "      <th>preprocess_object</th>\n",
       "      <th>preprocess_predicate</th>\n",
       "      <th>preprocess_subject</th>\n",
       "      <th>sen_sep</th>\n",
       "      <th>sen_sort</th>\n",
       "      <th>spo_order</th>\n",
       "      <th>spo_sep</th>\n",
       "    </tr>\n",
       "  </thead>\n",
       "  <tbody>\n",
       "    <tr>\n",
       "      <th>104</th>\n",
       "      <td>104</td>\n",
       "      <td>26.24</td>\n",
       "      <td>0.342777</td>\n",
       "      <td>&lt;function remove_underline at 0x7f2c41a46510&gt;</td>\n",
       "      <td>&lt;function pipeline.&lt;locals&gt;.f at 0x7f2c41d17bf8&gt;</td>\n",
       "      <td>&lt;function remove_underline at 0x7f2c41a46510&gt;</td>\n",
       "      <td>,</td>\n",
       "      <td>&lt;function as_is at 0x7f2c41d17a60&gt;</td>\n",
       "      <td>['subject', 'predicate', 'object']</td>\n",
       "      <td></td>\n",
       "    </tr>\n",
       "    <tr>\n",
       "      <th>107</th>\n",
       "      <td>107</td>\n",
       "      <td>26.16</td>\n",
       "      <td>0.342720</td>\n",
       "      <td>&lt;function pipeline.&lt;locals&gt;.f at 0x7f2c41d17bf8&gt;</td>\n",
       "      <td>&lt;function pipeline.&lt;locals&gt;.f at 0x7f2c41d17bf8&gt;</td>\n",
       "      <td>&lt;function remove_underline at 0x7f2c41a46510&gt;</td>\n",
       "      <td>,</td>\n",
       "      <td>&lt;function as_is at 0x7f2c41d17a60&gt;</td>\n",
       "      <td>['subject', 'predicate', 'object']</td>\n",
       "      <td></td>\n",
       "    </tr>\n",
       "    <tr>\n",
       "      <th>106</th>\n",
       "      <td>106</td>\n",
       "      <td>26.27</td>\n",
       "      <td>0.342496</td>\n",
       "      <td>&lt;function pipeline.&lt;locals&gt;.f at 0x7f2c4276f048&gt;</td>\n",
       "      <td>&lt;function pipeline.&lt;locals&gt;.f at 0x7f2c41d17bf8&gt;</td>\n",
       "      <td>&lt;function remove_underline at 0x7f2c41a46510&gt;</td>\n",
       "      <td>,</td>\n",
       "      <td>&lt;function as_is at 0x7f2c41d17a60&gt;</td>\n",
       "      <td>['subject', 'predicate', 'object']</td>\n",
       "      <td></td>\n",
       "    </tr>\n",
       "  </tbody>\n",
       "</table>\n",
       "</div>"
      ],
      "text/plain": [
       "     Unnamed: 0   bleu    meteor  \\\n",
       "104         104  26.24  0.342777   \n",
       "107         107  26.16  0.342720   \n",
       "106         106  26.27  0.342496   \n",
       "\n",
       "                                    preprocess_object  \\\n",
       "104     <function remove_underline at 0x7f2c41a46510>   \n",
       "107  <function pipeline.<locals>.f at 0x7f2c41d17bf8>   \n",
       "106  <function pipeline.<locals>.f at 0x7f2c4276f048>   \n",
       "\n",
       "                                 preprocess_predicate  \\\n",
       "104  <function pipeline.<locals>.f at 0x7f2c41d17bf8>   \n",
       "107  <function pipeline.<locals>.f at 0x7f2c41d17bf8>   \n",
       "106  <function pipeline.<locals>.f at 0x7f2c41d17bf8>   \n",
       "\n",
       "                                preprocess_subject sen_sep  \\\n",
       "104  <function remove_underline at 0x7f2c41a46510>       ,   \n",
       "107  <function remove_underline at 0x7f2c41a46510>       ,   \n",
       "106  <function remove_underline at 0x7f2c41a46510>       ,   \n",
       "\n",
       "                               sen_sort                           spo_order  \\\n",
       "104  <function as_is at 0x7f2c41d17a60>  ['subject', 'predicate', 'object']   \n",
       "107  <function as_is at 0x7f2c41d17a60>  ['subject', 'predicate', 'object']   \n",
       "106  <function as_is at 0x7f2c41d17a60>  ['subject', 'predicate', 'object']   \n",
       "\n",
       "    spo_sep  \n",
       "104          \n",
       "107          \n",
       "106          "
      ]
     },
     "execution_count": 10,
     "metadata": {},
     "output_type": "execute_result"
    }
   ],
   "source": [
    "df.nlargest(3, 'meteor')"
   ]
  },
  {
   "cell_type": "code",
   "execution_count": 20,
   "metadata": {},
   "outputs": [
    {
     "data": {
      "text/html": [
       "<div>\n",
       "<style scoped>\n",
       "    .dataframe tbody tr th:only-of-type {\n",
       "        vertical-align: middle;\n",
       "    }\n",
       "\n",
       "    .dataframe tbody tr th {\n",
       "        vertical-align: top;\n",
       "    }\n",
       "\n",
       "    .dataframe thead tr th {\n",
       "        text-align: left;\n",
       "    }\n",
       "\n",
       "    .dataframe thead tr:last-of-type th {\n",
       "        text-align: right;\n",
       "    }\n",
       "</style>\n",
       "<table border=\"1\" class=\"dataframe\">\n",
       "  <thead>\n",
       "    <tr>\n",
       "      <th></th>\n",
       "      <th colspan=\"2\" halign=\"left\">bleu</th>\n",
       "      <th colspan=\"2\" halign=\"left\">meteor</th>\n",
       "    </tr>\n",
       "    <tr>\n",
       "      <th></th>\n",
       "      <th>max</th>\n",
       "      <th>mean</th>\n",
       "      <th>max</th>\n",
       "      <th>mean</th>\n",
       "    </tr>\n",
       "    <tr>\n",
       "      <th>preprocess_object</th>\n",
       "      <th></th>\n",
       "      <th></th>\n",
       "      <th></th>\n",
       "      <th></th>\n",
       "    </tr>\n",
       "  </thead>\n",
       "  <tbody>\n",
       "    <tr>\n",
       "      <th>&lt;function remove_underline at 0x7f2c41a46510&gt;</th>\n",
       "      <td>26.36</td>\n",
       "      <td>22.354549</td>\n",
       "      <td>0.342777</td>\n",
       "      <td>0.306842</td>\n",
       "    </tr>\n",
       "    <tr>\n",
       "      <th>&lt;function pipeline.&lt;locals&gt;.f at 0x7f2c4276f048&gt;</th>\n",
       "      <td>26.28</td>\n",
       "      <td>21.945486</td>\n",
       "      <td>0.342496</td>\n",
       "      <td>0.306384</td>\n",
       "    </tr>\n",
       "    <tr>\n",
       "      <th>&lt;function pipeline.&lt;locals&gt;.f at 0x7f2c41d17bf8&gt;</th>\n",
       "      <td>26.17</td>\n",
       "      <td>21.872951</td>\n",
       "      <td>0.342720</td>\n",
       "      <td>0.306622</td>\n",
       "    </tr>\n",
       "    <tr>\n",
       "      <th>&lt;function as_is at 0x7f2c41d17a60&gt;</th>\n",
       "      <td>20.25</td>\n",
       "      <td>15.124549</td>\n",
       "      <td>0.317702</td>\n",
       "      <td>0.282630</td>\n",
       "    </tr>\n",
       "    <tr>\n",
       "      <th>&lt;function camelcase_to_normal at 0x7f2c42760e18&gt;</th>\n",
       "      <td>20.21</td>\n",
       "      <td>15.089826</td>\n",
       "      <td>0.317967</td>\n",
       "      <td>0.282899</td>\n",
       "    </tr>\n",
       "    <tr>\n",
       "      <th>&lt;function remove_and_invert_parenthesis at 0x7f2c41d17598&gt;</th>\n",
       "      <td>19.85</td>\n",
       "      <td>14.645208</td>\n",
       "      <td>0.317334</td>\n",
       "      <td>0.282193</td>\n",
       "    </tr>\n",
       "  </tbody>\n",
       "</table>\n",
       "</div>"
      ],
      "text/plain": [
       "                                                     bleu             \\\n",
       "                                                      max       mean   \n",
       "preprocess_object                                                      \n",
       "<function remove_underline at 0x7f2c41a46510>       26.36  22.354549   \n",
       "<function pipeline.<locals>.f at 0x7f2c4276f048>    26.28  21.945486   \n",
       "<function pipeline.<locals>.f at 0x7f2c41d17bf8>    26.17  21.872951   \n",
       "<function as_is at 0x7f2c41d17a60>                  20.25  15.124549   \n",
       "<function camelcase_to_normal at 0x7f2c42760e18>    20.21  15.089826   \n",
       "<function remove_and_invert_parenthesis at 0x7f...  19.85  14.645208   \n",
       "\n",
       "                                                      meteor            \n",
       "                                                         max      mean  \n",
       "preprocess_object                                                       \n",
       "<function remove_underline at 0x7f2c41a46510>       0.342777  0.306842  \n",
       "<function pipeline.<locals>.f at 0x7f2c4276f048>    0.342496  0.306384  \n",
       "<function pipeline.<locals>.f at 0x7f2c41d17bf8>    0.342720  0.306622  \n",
       "<function as_is at 0x7f2c41d17a60>                  0.317702  0.282630  \n",
       "<function camelcase_to_normal at 0x7f2c42760e18>    0.317967  0.282899  \n",
       "<function remove_and_invert_parenthesis at 0x7f...  0.317334  0.282193  "
      ]
     },
     "execution_count": 20,
     "metadata": {},
     "output_type": "execute_result"
    }
   ],
   "source": [
    "df.groupby('preprocess_object')[['bleu', 'meteor']].agg(['max', 'mean']).sort_values(('bleu', 'max'), ascending=False)"
   ]
  },
  {
   "cell_type": "code",
   "execution_count": 21,
   "metadata": {},
   "outputs": [
    {
     "data": {
      "text/html": [
       "<div>\n",
       "<style scoped>\n",
       "    .dataframe tbody tr th:only-of-type {\n",
       "        vertical-align: middle;\n",
       "    }\n",
       "\n",
       "    .dataframe tbody tr th {\n",
       "        vertical-align: top;\n",
       "    }\n",
       "\n",
       "    .dataframe thead tr th {\n",
       "        text-align: left;\n",
       "    }\n",
       "\n",
       "    .dataframe thead tr:last-of-type th {\n",
       "        text-align: right;\n",
       "    }\n",
       "</style>\n",
       "<table border=\"1\" class=\"dataframe\">\n",
       "  <thead>\n",
       "    <tr>\n",
       "      <th></th>\n",
       "      <th colspan=\"2\" halign=\"left\">bleu</th>\n",
       "      <th colspan=\"2\" halign=\"left\">meteor</th>\n",
       "    </tr>\n",
       "    <tr>\n",
       "      <th></th>\n",
       "      <th>max</th>\n",
       "      <th>mean</th>\n",
       "      <th>max</th>\n",
       "      <th>mean</th>\n",
       "    </tr>\n",
       "    <tr>\n",
       "      <th>preprocess_subject</th>\n",
       "      <th></th>\n",
       "      <th></th>\n",
       "      <th></th>\n",
       "      <th></th>\n",
       "    </tr>\n",
       "  </thead>\n",
       "  <tbody>\n",
       "    <tr>\n",
       "      <th>&lt;function pipeline.&lt;locals&gt;.f at 0x7f2c4276f048&gt;</th>\n",
       "      <td>26.36</td>\n",
       "      <td>21.166076</td>\n",
       "      <td>0.342489</td>\n",
       "      <td>0.306935</td>\n",
       "    </tr>\n",
       "    <tr>\n",
       "      <th>&lt;function pipeline.&lt;locals&gt;.f at 0x7f2c41d17bf8&gt;</th>\n",
       "      <td>26.33</td>\n",
       "      <td>21.146215</td>\n",
       "      <td>0.342301</td>\n",
       "      <td>0.306742</td>\n",
       "    </tr>\n",
       "    <tr>\n",
       "      <th>&lt;function remove_underline at 0x7f2c41a46510&gt;</th>\n",
       "      <td>26.27</td>\n",
       "      <td>21.370312</td>\n",
       "      <td>0.342777</td>\n",
       "      <td>0.307332</td>\n",
       "    </tr>\n",
       "    <tr>\n",
       "      <th>&lt;function as_is at 0x7f2c41d17a60&gt;</th>\n",
       "      <td>22.73</td>\n",
       "      <td>15.799236</td>\n",
       "      <td>0.317673</td>\n",
       "      <td>0.282307</td>\n",
       "    </tr>\n",
       "    <tr>\n",
       "      <th>&lt;function camelcase_to_normal at 0x7f2c42760e18&gt;</th>\n",
       "      <td>22.73</td>\n",
       "      <td>15.796632</td>\n",
       "      <td>0.317542</td>\n",
       "      <td>0.282177</td>\n",
       "    </tr>\n",
       "    <tr>\n",
       "      <th>&lt;function remove_and_invert_parenthesis at 0x7f2c41d17598&gt;</th>\n",
       "      <td>22.70</td>\n",
       "      <td>15.754097</td>\n",
       "      <td>0.317480</td>\n",
       "      <td>0.282077</td>\n",
       "    </tr>\n",
       "  </tbody>\n",
       "</table>\n",
       "</div>"
      ],
      "text/plain": [
       "                                                     bleu             \\\n",
       "                                                      max       mean   \n",
       "preprocess_subject                                                     \n",
       "<function pipeline.<locals>.f at 0x7f2c4276f048>    26.36  21.166076   \n",
       "<function pipeline.<locals>.f at 0x7f2c41d17bf8>    26.33  21.146215   \n",
       "<function remove_underline at 0x7f2c41a46510>       26.27  21.370312   \n",
       "<function as_is at 0x7f2c41d17a60>                  22.73  15.799236   \n",
       "<function camelcase_to_normal at 0x7f2c42760e18>    22.73  15.796632   \n",
       "<function remove_and_invert_parenthesis at 0x7f...  22.70  15.754097   \n",
       "\n",
       "                                                      meteor            \n",
       "                                                         max      mean  \n",
       "preprocess_subject                                                      \n",
       "<function pipeline.<locals>.f at 0x7f2c4276f048>    0.342489  0.306935  \n",
       "<function pipeline.<locals>.f at 0x7f2c41d17bf8>    0.342301  0.306742  \n",
       "<function remove_underline at 0x7f2c41a46510>       0.342777  0.307332  \n",
       "<function as_is at 0x7f2c41d17a60>                  0.317673  0.282307  \n",
       "<function camelcase_to_normal at 0x7f2c42760e18>    0.317542  0.282177  \n",
       "<function remove_and_invert_parenthesis at 0x7f...  0.317480  0.282077  "
      ]
     },
     "execution_count": 21,
     "metadata": {},
     "output_type": "execute_result"
    }
   ],
   "source": [
    "df.groupby('preprocess_subject')[['bleu', 'meteor']].agg(['max', 'mean']).sort_values(('bleu', 'max'), ascending=False)"
   ]
  },
  {
   "cell_type": "code",
   "execution_count": 22,
   "metadata": {},
   "outputs": [
    {
     "data": {
      "text/html": [
       "<div>\n",
       "<style scoped>\n",
       "    .dataframe tbody tr th:only-of-type {\n",
       "        vertical-align: middle;\n",
       "    }\n",
       "\n",
       "    .dataframe tbody tr th {\n",
       "        vertical-align: top;\n",
       "    }\n",
       "\n",
       "    .dataframe thead tr th {\n",
       "        text-align: left;\n",
       "    }\n",
       "\n",
       "    .dataframe thead tr:last-of-type th {\n",
       "        text-align: right;\n",
       "    }\n",
       "</style>\n",
       "<table border=\"1\" class=\"dataframe\">\n",
       "  <thead>\n",
       "    <tr>\n",
       "      <th></th>\n",
       "      <th colspan=\"2\" halign=\"left\">bleu</th>\n",
       "      <th colspan=\"2\" halign=\"left\">meteor</th>\n",
       "    </tr>\n",
       "    <tr>\n",
       "      <th></th>\n",
       "      <th>max</th>\n",
       "      <th>mean</th>\n",
       "      <th>max</th>\n",
       "      <th>mean</th>\n",
       "    </tr>\n",
       "    <tr>\n",
       "      <th>preprocess_predicate</th>\n",
       "      <th></th>\n",
       "      <th></th>\n",
       "      <th></th>\n",
       "      <th></th>\n",
       "    </tr>\n",
       "  </thead>\n",
       "  <tbody>\n",
       "    <tr>\n",
       "      <th>&lt;function pipeline.&lt;locals&gt;.f at 0x7f2c41d17bf8&gt;</th>\n",
       "      <td>26.36</td>\n",
       "      <td>19.330938</td>\n",
       "      <td>0.342777</td>\n",
       "      <td>0.314603</td>\n",
       "    </tr>\n",
       "    <tr>\n",
       "      <th>&lt;function camelcase_to_normal at 0x7f2c42760e18&gt;</th>\n",
       "      <td>26.17</td>\n",
       "      <td>19.199792</td>\n",
       "      <td>0.342076</td>\n",
       "      <td>0.314047</td>\n",
       "    </tr>\n",
       "    <tr>\n",
       "      <th>&lt;function pipeline.&lt;locals&gt;.f at 0x7f2c4276f048&gt;</th>\n",
       "      <td>25.30</td>\n",
       "      <td>18.181111</td>\n",
       "      <td>0.312803</td>\n",
       "      <td>0.285011</td>\n",
       "    </tr>\n",
       "    <tr>\n",
       "      <th>&lt;function remove_underline at 0x7f2c41a46510&gt;</th>\n",
       "      <td>25.26</td>\n",
       "      <td>18.168507</td>\n",
       "      <td>0.312736</td>\n",
       "      <td>0.284971</td>\n",
       "    </tr>\n",
       "    <tr>\n",
       "      <th>&lt;function remove_and_invert_parenthesis at 0x7f2c41d17598&gt;</th>\n",
       "      <td>25.18</td>\n",
       "      <td>18.080208</td>\n",
       "      <td>0.312181</td>\n",
       "      <td>0.284488</td>\n",
       "    </tr>\n",
       "    <tr>\n",
       "      <th>&lt;function as_is at 0x7f2c41d17a60&gt;</th>\n",
       "      <td>25.15</td>\n",
       "      <td>18.072014</td>\n",
       "      <td>0.312115</td>\n",
       "      <td>0.284449</td>\n",
       "    </tr>\n",
       "  </tbody>\n",
       "</table>\n",
       "</div>"
      ],
      "text/plain": [
       "                                                     bleu             \\\n",
       "                                                      max       mean   \n",
       "preprocess_predicate                                                   \n",
       "<function pipeline.<locals>.f at 0x7f2c41d17bf8>    26.36  19.330938   \n",
       "<function camelcase_to_normal at 0x7f2c42760e18>    26.17  19.199792   \n",
       "<function pipeline.<locals>.f at 0x7f2c4276f048>    25.30  18.181111   \n",
       "<function remove_underline at 0x7f2c41a46510>       25.26  18.168507   \n",
       "<function remove_and_invert_parenthesis at 0x7f...  25.18  18.080208   \n",
       "<function as_is at 0x7f2c41d17a60>                  25.15  18.072014   \n",
       "\n",
       "                                                      meteor            \n",
       "                                                         max      mean  \n",
       "preprocess_predicate                                                    \n",
       "<function pipeline.<locals>.f at 0x7f2c41d17bf8>    0.342777  0.314603  \n",
       "<function camelcase_to_normal at 0x7f2c42760e18>    0.342076  0.314047  \n",
       "<function pipeline.<locals>.f at 0x7f2c4276f048>    0.312803  0.285011  \n",
       "<function remove_underline at 0x7f2c41a46510>       0.312736  0.284971  \n",
       "<function remove_and_invert_parenthesis at 0x7f...  0.312181  0.284488  \n",
       "<function as_is at 0x7f2c41d17a60>                  0.312115  0.284449  "
      ]
     },
     "execution_count": 22,
     "metadata": {},
     "output_type": "execute_result"
    }
   ],
   "source": [
    "df.groupby('preprocess_predicate')[['bleu', 'meteor']].agg(['max', 'mean']).sort_values(('bleu', 'max'), ascending=False)"
   ]
  },
  {
   "cell_type": "code",
   "execution_count": 23,
   "metadata": {},
   "outputs": [
    {
     "data": {
      "text/html": [
       "<div>\n",
       "<style scoped>\n",
       "    .dataframe tbody tr th:only-of-type {\n",
       "        vertical-align: middle;\n",
       "    }\n",
       "\n",
       "    .dataframe tbody tr th {\n",
       "        vertical-align: top;\n",
       "    }\n",
       "\n",
       "    .dataframe thead tr th {\n",
       "        text-align: left;\n",
       "    }\n",
       "\n",
       "    .dataframe thead tr:last-of-type th {\n",
       "        text-align: right;\n",
       "    }\n",
       "</style>\n",
       "<table border=\"1\" class=\"dataframe\">\n",
       "  <thead>\n",
       "    <tr>\n",
       "      <th></th>\n",
       "      <th colspan=\"2\" halign=\"left\">bleu</th>\n",
       "      <th colspan=\"2\" halign=\"left\">meteor</th>\n",
       "    </tr>\n",
       "    <tr>\n",
       "      <th></th>\n",
       "      <th>max</th>\n",
       "      <th>mean</th>\n",
       "      <th>max</th>\n",
       "      <th>mean</th>\n",
       "    </tr>\n",
       "    <tr>\n",
       "      <th>sen_sep</th>\n",
       "      <th></th>\n",
       "      <th></th>\n",
       "      <th></th>\n",
       "      <th></th>\n",
       "    </tr>\n",
       "  </thead>\n",
       "  <tbody>\n",
       "    <tr>\n",
       "      <th>,</th>\n",
       "      <td>26.36</td>\n",
       "      <td>19.024699</td>\n",
       "      <td>0.342777</td>\n",
       "      <td>0.296994</td>\n",
       "    </tr>\n",
       "    <tr>\n",
       "      <th></th>\n",
       "      <td>25.37</td>\n",
       "      <td>17.986157</td>\n",
       "      <td>0.338456</td>\n",
       "      <td>0.292196</td>\n",
       "    </tr>\n",
       "  </tbody>\n",
       "</table>\n",
       "</div>"
      ],
      "text/plain": [
       "          bleu               meteor          \n",
       "           max       mean       max      mean\n",
       "sen_sep                                      \n",
       ",        26.36  19.024699  0.342777  0.296994\n",
       "         25.37  17.986157  0.338456  0.292196"
      ]
     },
     "execution_count": 23,
     "metadata": {},
     "output_type": "execute_result"
    }
   ],
   "source": [
    "df.groupby('sen_sep')[['bleu', 'meteor']].agg(['max', 'mean']).sort_values(('bleu', 'max'), ascending=False)"
   ]
  },
  {
   "cell_type": "code",
   "execution_count": 24,
   "metadata": {},
   "outputs": [
    {
     "data": {
      "text/html": [
       "<div>\n",
       "<style scoped>\n",
       "    .dataframe tbody tr th:only-of-type {\n",
       "        vertical-align: middle;\n",
       "    }\n",
       "\n",
       "    .dataframe tbody tr th {\n",
       "        vertical-align: top;\n",
       "    }\n",
       "\n",
       "    .dataframe thead tr th {\n",
       "        text-align: left;\n",
       "    }\n",
       "\n",
       "    .dataframe thead tr:last-of-type th {\n",
       "        text-align: right;\n",
       "    }\n",
       "</style>\n",
       "<table border=\"1\" class=\"dataframe\">\n",
       "  <thead>\n",
       "    <tr>\n",
       "      <th></th>\n",
       "      <th colspan=\"2\" halign=\"left\">bleu</th>\n",
       "      <th colspan=\"2\" halign=\"left\">meteor</th>\n",
       "    </tr>\n",
       "    <tr>\n",
       "      <th></th>\n",
       "      <th>max</th>\n",
       "      <th>mean</th>\n",
       "      <th>max</th>\n",
       "      <th>mean</th>\n",
       "    </tr>\n",
       "    <tr>\n",
       "      <th>sen_sort</th>\n",
       "      <th></th>\n",
       "      <th></th>\n",
       "      <th></th>\n",
       "      <th></th>\n",
       "    </tr>\n",
       "  </thead>\n",
       "  <tbody>\n",
       "    <tr>\n",
       "      <th>&lt;function as_is at 0x7f2c41d17a60&gt;</th>\n",
       "      <td>26.36</td>\n",
       "      <td>18.514155</td>\n",
       "      <td>0.342777</td>\n",
       "      <td>0.294612</td>\n",
       "    </tr>\n",
       "    <tr>\n",
       "      <th>&lt;class 'reversed'&gt;</th>\n",
       "      <td>26.18</td>\n",
       "      <td>18.496701</td>\n",
       "      <td>0.342490</td>\n",
       "      <td>0.294578</td>\n",
       "    </tr>\n",
       "  </tbody>\n",
       "</table>\n",
       "</div>"
      ],
      "text/plain": [
       "                                     bleu               meteor          \n",
       "                                      max       mean       max      mean\n",
       "sen_sort                                                                \n",
       "<function as_is at 0x7f2c41d17a60>  26.36  18.514155  0.342777  0.294612\n",
       "<class 'reversed'>                  26.18  18.496701  0.342490  0.294578"
      ]
     },
     "execution_count": 24,
     "metadata": {},
     "output_type": "execute_result"
    }
   ],
   "source": [
    "df.groupby('sen_sort')[['bleu', 'meteor']].agg(['max', 'mean']).sort_values(('bleu', 'max'), ascending=False)"
   ]
  },
  {
   "cell_type": "code",
   "execution_count": 25,
   "metadata": {},
   "outputs": [
    {
     "data": {
      "text/html": [
       "<div>\n",
       "<style scoped>\n",
       "    .dataframe tbody tr th:only-of-type {\n",
       "        vertical-align: middle;\n",
       "    }\n",
       "\n",
       "    .dataframe tbody tr th {\n",
       "        vertical-align: top;\n",
       "    }\n",
       "\n",
       "    .dataframe thead tr th {\n",
       "        text-align: left;\n",
       "    }\n",
       "\n",
       "    .dataframe thead tr:last-of-type th {\n",
       "        text-align: right;\n",
       "    }\n",
       "</style>\n",
       "<table border=\"1\" class=\"dataframe\">\n",
       "  <thead>\n",
       "    <tr>\n",
       "      <th></th>\n",
       "      <th colspan=\"2\" halign=\"left\">bleu</th>\n",
       "      <th colspan=\"2\" halign=\"left\">meteor</th>\n",
       "    </tr>\n",
       "    <tr>\n",
       "      <th></th>\n",
       "      <th>max</th>\n",
       "      <th>mean</th>\n",
       "      <th>max</th>\n",
       "      <th>mean</th>\n",
       "    </tr>\n",
       "    <tr>\n",
       "      <th>spo_order</th>\n",
       "      <th></th>\n",
       "      <th></th>\n",
       "      <th></th>\n",
       "      <th></th>\n",
       "    </tr>\n",
       "  </thead>\n",
       "  <tbody>\n",
       "    <tr>\n",
       "      <th>['subject', 'predicate', 'object']</th>\n",
       "      <td>26.36</td>\n",
       "      <td>18.653275</td>\n",
       "      <td>0.342777</td>\n",
       "      <td>0.294837</td>\n",
       "    </tr>\n",
       "    <tr>\n",
       "      <th>['object', 'predicate', 'subject']</th>\n",
       "      <td>25.30</td>\n",
       "      <td>18.357581</td>\n",
       "      <td>0.340966</td>\n",
       "      <td>0.294353</td>\n",
       "    </tr>\n",
       "  </tbody>\n",
       "</table>\n",
       "</div>"
      ],
      "text/plain": [
       "                                     bleu               meteor          \n",
       "                                      max       mean       max      mean\n",
       "spo_order                                                               \n",
       "['subject', 'predicate', 'object']  26.36  18.653275  0.342777  0.294837\n",
       "['object', 'predicate', 'subject']  25.30  18.357581  0.340966  0.294353"
      ]
     },
     "execution_count": 25,
     "metadata": {},
     "output_type": "execute_result"
    }
   ],
   "source": [
    "df.groupby('spo_order')[['bleu', 'meteor']].agg(['max', 'mean']).sort_values(('bleu', 'max'), ascending=False)"
   ]
  }
 ],
 "metadata": {
  "kernelspec": {
   "display_name": "Python 3",
   "language": "python",
   "name": "python3"
  },
  "language_info": {
   "codemirror_mode": {
    "name": "ipython",
    "version": 3
   },
   "file_extension": ".py",
   "mimetype": "text/x-python",
   "name": "python",
   "nbconvert_exporter": "python",
   "pygments_lexer": "ipython3",
   "version": "3.6.7"
  }
 },
 "nbformat": 4,
 "nbformat_minor": 2
}
