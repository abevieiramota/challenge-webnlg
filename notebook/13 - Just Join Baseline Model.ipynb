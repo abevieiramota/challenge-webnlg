{
 "cells": [
  {
   "cell_type": "code",
   "execution_count": 2,
   "metadata": {},
   "outputs": [],
   "source": [
    "import os\n",
    "\n",
    "os.sys.path.insert(0, '../script')\n",
    "\n",
    "from just_join import *\n",
    "from evaluation import *"
   ]
  },
  {
   "cell_type": "markdown",
   "metadata": {},
   "source": [
    "# Model"
   ]
  },
  {
   "cell_type": "code",
   "execution_count": 2,
   "metadata": {},
   "outputs": [],
   "source": [
    "model = JustJoinGenerator()"
   ]
  },
  {
   "cell_type": "code",
   "execution_count": 23,
   "metadata": {},
   "outputs": [
    {
     "data": {
      "text/plain": [
       "{'bleu': 11.62, 'meteor': 0.2631907602030226, 'ter': 0.7995305073983557}"
      ]
     },
     "execution_count": 23,
     "metadata": {},
     "output_type": "execute_result"
    }
   ],
   "source": [
    "evaluate_model(model, 'just-join')"
   ]
  },
  {
   "cell_type": "markdown",
   "metadata": {},
   "source": [
    "## Individual samples"
   ]
  },
  {
   "cell_type": "code",
   "execution_count": 25,
   "metadata": {},
   "outputs": [
    {
     "data": {
      "text/plain": [
       "Triple info: Category=City eid=Id806 idx=test_City_5_Id806\n",
       "\n",
       "\tModified Triples:\n",
       "\n",
       "Austin,_Texas | isPartOf | Texas\n",
       "Texas | language | English_language\n",
       "Austin,_Texas | isPartOf | Williamson_County,_Texas\n",
       "Williamson_County,_Texas | largestCity | Round_Rock,_Texas\n",
       "Williamson_County,_Texas | countySeat | Georgetown,_Texas\n",
       "\n",
       "\n",
       "\tLexicalizations:\n",
       "\n",
       "Austin is part of Williamson County, in Texas, where English is a language spoken. Round Rock is the largest city in Williamson County and Georgetown is the county seat.\n",
       "\n",
       "\n",
       "Austin is located in Texas which is where English is spoken. Austin is part of Williamson County, Texas and the largest city is Round Rock while Georgetown is the county seat.\n"
      ]
     },
     "execution_count": 25,
     "metadata": {},
     "output_type": "execute_result"
    }
   ],
   "source": [
    "sample = test.sample(ntriples=[5], seed=200)\n",
    "sample"
   ]
  },
  {
   "cell_type": "code",
   "execution_count": 27,
   "metadata": {},
   "outputs": [
    {
     "data": {
      "text/plain": [
       "'Austin,_Texas isPartOf Texas,Texas language English_language,Austin,_Texas isPartOf Williamson_County,_Texas,Williamson_County,_Texas largestCity Round_Rock,_Texas,Williamson_County,_Texas countySeat Georgetown,_Texas'"
      ]
     },
     "execution_count": 27,
     "metadata": {},
     "output_type": "execute_result"
    }
   ],
   "source": [
    "model.predict([sample.data])[0]"
   ]
  },
  {
   "cell_type": "markdown",
   "metadata": {},
   "source": [
    "# Variantions"
   ]
  },
  {
   "cell_type": "code",
   "execution_count": 3,
   "metadata": {},
   "outputs": [
    {
     "data": {
      "text/plain": [
       "{'bleu': 26.13, 'meteor': 0.34194546816488575, 'ter': 0.680779665582728}"
      ]
     },
     "execution_count": 3,
     "metadata": {},
     "output_type": "execute_result"
    }
   ],
   "source": [
    "model = JustJoinGenerator(preprocess_subject=parenthesis_underline_camelcase,\n",
    "                          preprocess_predicate=parenthesis_underline_camelcase,\n",
    "                          preprocess_object=parenthesis_underline_camelcase,\n",
    "                          sen_sep=', ')\n",
    "\n",
    "evaluate_model(model, 'just-join-parenthesis_underline_camelcase')"
   ]
  }
 ],
 "metadata": {
  "kernelspec": {
   "display_name": "Python 3",
   "language": "python",
   "name": "python3"
  },
  "language_info": {
   "codemirror_mode": {
    "name": "ipython",
    "version": 3
   },
   "file_extension": ".py",
   "mimetype": "text/x-python",
   "name": "python",
   "nbconvert_exporter": "python",
   "pygments_lexer": "ipython3",
   "version": "3.6.7"
  }
 },
 "nbformat": 4,
 "nbformat_minor": 2
}
