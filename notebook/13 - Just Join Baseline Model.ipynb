{
 "cells": [
  {
   "cell_type": "code",
   "execution_count": 31,
   "metadata": {},
   "outputs": [],
   "source": [
    "from sklearn.base import BaseEstimator, RegressorMixin, clone\n",
    "\n",
    "import numpy as np\n",
    "\n",
    "import codecs\n",
    "\n",
    "import subprocess\n",
    "\n",
    "from itertools import islice, product\n",
    "\n",
    "import re\n",
    "\n",
    "import pandas as pd\n",
    "\n",
    "import os\n",
    "\n",
    "os.sys.path.insert(0, '../script')\n",
    "from webnlg import WebNLGCorpus"
   ]
  },
  {
   "cell_type": "code",
   "execution_count": 3,
   "metadata": {},
   "outputs": [],
   "source": [
    "model_name = 'just-join-baseline'"
   ]
  },
  {
   "cell_type": "markdown",
   "metadata": {},
   "source": [
    "# Algorithm"
   ]
  },
  {
   "cell_type": "code",
   "execution_count": 4,
   "metadata": {},
   "outputs": [],
   "source": [
    "# The algorithm using the scikit-learn framework\n",
    "\n",
    "def simple_spo_sort(spo):\n",
    "    \n",
    "    return [spo['subject'], spo['predicate'], spo['object']]\n",
    "\n",
    "def simple_ops_sort(spo):\n",
    "    \n",
    "    return [spo['object'], spo['predicate'], spo['subject']]\n",
    "\n",
    "\n",
    "class NLGBaseline(BaseEstimator, RegressorMixin):\n",
    "    \n",
    "    def __init__(self, spo_sep=' ', sen_sep=',', spo_sort=simple_spo_sort, sen_sort=lambda x:x):\n",
    "        \n",
    "        self.spo_sep = spo_sep\n",
    "        self.sen_sep = sen_sep\n",
    "        self.spo_sort = spo_sort\n",
    "        self.sen_sort = sen_sort\n",
    "        \n",
    "    \n",
    "    # there isn't any training step, as it's all rule-based        \n",
    "    def fit(self, X, y=None):\n",
    "        pass\n",
    "    \n",
    "    # generating text for an entry\n",
    "    def predict_entry(self, x):\n",
    "        \n",
    "        sens = []\n",
    "        \n",
    "        for t in self.sen_sort(x):\n",
    "            \n",
    "            t_sorted = self.spo_sort(t)\n",
    "            \n",
    "            sen = self.spo_sep.join(t_sorted)\n",
    "            \n",
    "            sens.append(sen)\n",
    "        \n",
    "        text = self.sen_sep.join(sens)\n",
    "            \n",
    "        return text\n",
    "    \n",
    "    \n",
    "    def predict(self, X, y=None):\n",
    "        \n",
    "        # for each entry, generate a text\n",
    "        return [self.predict_entry(x) for x in X]"
   ]
  },
  {
   "cell_type": "markdown",
   "metadata": {},
   "source": [
    "# Loading dataset"
   ]
  },
  {
   "cell_type": "code",
   "execution_count": 5,
   "metadata": {},
   "outputs": [],
   "source": [
    "test = WebNLGCorpus.load(\"test_with_lex\")\n",
    "\n",
    "X_test = np.array([t.get_data() for t in test])\n",
    "y_test = np.array([t.lexes() for t in test])"
   ]
  },
  {
   "cell_type": "markdown",
   "metadata": {},
   "source": [
    "# Generating texts"
   ]
  },
  {
   "cell_type": "code",
   "execution_count": 22,
   "metadata": {},
   "outputs": [
    {
     "name": "stdout",
     "output_type": "stream",
     "text": [
      "CPU times: user 0 ns, sys: 0 ns, total: 0 ns\n",
      "Wall time: 20.3 ms\n"
     ]
    }
   ],
   "source": [
    "%%time\n",
    "\n",
    "model = NLGBaseline()\n",
    "\n",
    "texts = model.predict(X_test)\n",
    "\n",
    "with codecs.open('../data/models/just-join-baseline', 'w', 'utf-8') as f:\n",
    "    \n",
    "    for text in texts:\n",
    "        \n",
    "        f.write(\"{}\\n\".format(text))"
   ]
  },
  {
   "cell_type": "markdown",
   "metadata": {},
   "source": [
    "## Generated texts sample"
   ]
  },
  {
   "cell_type": "code",
   "execution_count": 23,
   "metadata": {},
   "outputs": [
    {
     "name": "stdout",
     "output_type": "stream",
     "text": [
      "Castle_(novel) language English_language\r\n",
      "Eric_Flint birthPlace Burbank,_California\r\n",
      "Farrar,_Straus_and_Giroux parentCompany Macmillan_Publishers\r\n",
      "John_Cowper_Powys notableWork A_Glastonbury_Romance\r\n",
      "Soho_Press country United_States\r\n",
      "The_Secret_Scripture publisher Faber_and_Faber\r\n",
      "United_States ethnicGroup Asian_Americans\r\n",
      "United_States language English_language\r\n",
      "Weymouth_Sands precededBy A_Glastonbury_Romance\r\n",
      "A.C._Chievo_Verona manager Rolando_Maran\r\n"
     ]
    }
   ],
   "source": [
    "!head -100 ../data/models/just-join-baseline | tail -10"
   ]
  },
  {
   "cell_type": "markdown",
   "metadata": {},
   "source": [
    "## Individual samples"
   ]
  },
  {
   "cell_type": "markdown",
   "metadata": {},
   "source": [
    "### Sample with ntriples = 1"
   ]
  },
  {
   "cell_type": "code",
   "execution_count": 11,
   "metadata": {},
   "outputs": [
    {
     "data": {
      "text/plain": [
       "Triple info: category=Airport eid=Id10\n",
       "\n",
       "\tModified triples:\n",
       "\n",
       "Amsterdam_Airport_Schiphol | 1st_runway_Number | 18\n",
       "\n",
       "\n",
       "\tLexicalizations:\n",
       "\n",
       "The first runway at Amsterdam's Schiphol Airport is known as Number 18.\n",
       "The Amsterdam Airport Schiphol's 1st runway number is 18.\n",
       "The number of the 1st runway at Amsterdam Airport Schiphol is 18."
      ]
     },
     "execution_count": 11,
     "metadata": {},
     "output_type": "execute_result"
    }
   ],
   "source": [
    "sample = test.sample(eid='Id10')\n",
    "\n",
    "sample"
   ]
  },
  {
   "cell_type": "code",
   "execution_count": 16,
   "metadata": {},
   "outputs": [
    {
     "data": {
      "text/plain": [
       "',Amsterdam_Airport_Schiphol 1st_runway_Number 18'"
      ]
     },
     "execution_count": 16,
     "metadata": {},
     "output_type": "execute_result"
    }
   ],
   "source": [
    "model.predict([sample.get_data()])[0]"
   ]
  },
  {
   "cell_type": "markdown",
   "metadata": {},
   "source": [
    "### Sample with ntriples = 3"
   ]
  },
  {
   "cell_type": "code",
   "execution_count": 18,
   "metadata": {},
   "outputs": [
    {
     "data": {
      "text/plain": [
       "Triple info: category=Astronaut eid=Id397\n",
       "\n",
       "\tModified triples:\n",
       "\n",
       "Alan_Bean | nationality | United_States\n",
       "Alan_Bean | birthPlace | Wheeler,_Texas\n",
       "Alan_Bean | status | \"Retired\"\n",
       "\n",
       "\n",
       "\tLexicalizations:\n",
       "\n",
       "American retiree Alan Bean was born in Wheeler, Texas.\n",
       "Retired US National Alan Bean was born in Wheeler, Texas.\n",
       "Alan Bean was born in the United States in Wheeler, Texas and has retired."
      ]
     },
     "execution_count": 18,
     "metadata": {},
     "output_type": "execute_result"
    }
   ],
   "source": [
    "sample = test.sample(eid='Id397')\n",
    "\n",
    "sample"
   ]
  },
  {
   "cell_type": "code",
   "execution_count": 89,
   "metadata": {},
   "outputs": [
    {
     "data": {
      "text/plain": [
       "'Alan_Bean nationality United_States, Alan_Bean birthPlace Wheeler,_Texas, Alan_Bean status \"Retired\"'"
      ]
     },
     "execution_count": 89,
     "metadata": {},
     "output_type": "execute_result"
    }
   ],
   "source": [
    "model.predict([sample.get_data()])[0]"
   ]
  },
  {
   "cell_type": "markdown",
   "metadata": {},
   "source": [
    "# Evaluation"
   ]
  },
  {
   "cell_type": "markdown",
   "metadata": {},
   "source": [
    "### Function"
   ]
  },
  {
   "cell_type": "code",
   "execution_count": 52,
   "metadata": {},
   "outputs": [],
   "source": [
    "BLEU_RE = re.compile(r'BLEU\\ =\\ ([\\d\\.]*),')\n",
    "METEOR_RE = re.compile(r'Final score:\\s+([\\d\\.]+)\\n')\n",
    "\n",
    "def evaluate_model(base_model, param_grid):\n",
    "    \n",
    "    results = []\n",
    "    \n",
    "    for i, params in enumerate(product(*param_grid.values())):\n",
    "        \n",
    "        params = dict(zip(param_grid.keys(), params))\n",
    "        \n",
    "        model = clone(base_model)\n",
    "        \n",
    "        model.set_params(**params)\n",
    "        \n",
    "        # generate the texts\n",
    "        \n",
    "        with codecs.open(f'../data/models/{i}', 'w', 'utf-8') as f:\n",
    "\n",
    "            for text in model.predict(X_test):\n",
    "\n",
    "                f.write(\"{}\\n\".format(text))\n",
    "                \n",
    "        # generate the files needed to calculate BLEU and METEOR\n",
    "        \n",
    "        subprocess.run(['mkdir', '-p', f'../tmp/{i}'])\n",
    "        \n",
    "        subprocess.run(['python', '../evaluation/webnlg2017/webnlg-automatic-evaluation-v2/evaluation_v2.py',\n",
    "                        '--team_name', f'{i}',\n",
    "                        '--team_filepath', f'../data/models/{i}',\n",
    "                        '--outdir', f'../tmp/{i}'])\n",
    "        \n",
    "        all_cat_filepath = f'../tmp/{i}/{i}_all-cat.txt'\n",
    "        \n",
    "        result = dict(params)\n",
    "        results.append(result)\n",
    "                        \n",
    "        with open(all_cat_filepath, 'rb') as f:\n",
    "            # bleu\n",
    "            bleu_result = subprocess.run(['../evaluation/webnlg2017/webnlg-baseline-master/multi-bleu.perl', \n",
    "                                     '-lc',\n",
    "                                     '../evaluation/webnlg2017/webnlg-automatic-evaluation/references/gold-all-cat-reference0.lex',\n",
    "                                     '../evaluation/webnlg2017/webnlg-automatic-evaluation/references/gold-all-cat-reference1.lex',\n",
    "                                     '../evaluation/webnlg2017/webnlg-automatic-evaluation/references/gold-all-cat-reference2.lex'],\n",
    "                                     stdout=subprocess.PIPE,\n",
    "                                     input=f.read())\n",
    "                  \n",
    "            result['bleu'] = float(BLEU_RE.findall(bleu_result.stdout.decode('utf-8'))[0])\n",
    "                  \n",
    "        # meteor\n",
    "        meteor_result = subprocess.run(['java', '-Xmx2G', '-jar',\n",
    "                                        '../evaluation/webnlg2017/meteor-1.5/meteor-1.5.jar',\n",
    "                                        all_cat_filepath,\n",
    "                                        '../evaluation/webnlg2017/webnlg-automatic-evaluation/references/gold-all-cat-reference-3ref.meteor',\n",
    "                                        '-l', 'en', '-norm', '-r', '3', '-a', \n",
    "                                        '../evaluation/webnlg2017/meteor-1.5/data/paraphrase-en.gz'],\n",
    "                                        stdout=subprocess.PIPE)\n",
    "                        \n",
    "        result['meteor'] = float(METEOR_RE.findall(meteor_result.stdout.decode('utf-8'))[0])\n",
    "                  \n",
    "    return pd.DataFrame.from_records(results)"
   ]
  },
  {
   "cell_type": "markdown",
   "metadata": {},
   "source": [
    "### Models"
   ]
  },
  {
   "cell_type": "code",
   "execution_count": 53,
   "metadata": {},
   "outputs": [
    {
     "name": "stdout",
     "output_type": "stream",
     "text": [
      "CPU times: user 93.8 ms, sys: 1.36 s, total: 1.45 s\n",
      "Wall time: 1min 44s\n"
     ]
    }
   ],
   "source": [
    "%%time\n",
    "\n",
    "def as_is(x):\n",
    "    \n",
    "    return x\n",
    "\n",
    "\n",
    "param_grid = {'spo_sep': [' '],\n",
    "              'sen_sep': [',', ' '],\n",
    "              'spo_sort': [simple_spo_sort, simple_ops_sort],\n",
    "              'sen_sort': [as_is, reversed]\n",
    "             }\n",
    "\n",
    "results = evaluate_model(NLGBaseline(), param_grid)"
   ]
  },
  {
   "cell_type": "code",
   "execution_count": 54,
   "metadata": {},
   "outputs": [
    {
     "data": {
      "text/html": [
       "<div>\n",
       "<style scoped>\n",
       "    .dataframe tbody tr th:only-of-type {\n",
       "        vertical-align: middle;\n",
       "    }\n",
       "\n",
       "    .dataframe tbody tr th {\n",
       "        vertical-align: top;\n",
       "    }\n",
       "\n",
       "    .dataframe thead th {\n",
       "        text-align: right;\n",
       "    }\n",
       "</style>\n",
       "<table border=\"1\" class=\"dataframe\">\n",
       "  <thead>\n",
       "    <tr style=\"text-align: right;\">\n",
       "      <th></th>\n",
       "      <th>bleu</th>\n",
       "      <th>meteor</th>\n",
       "      <th>sen_sep</th>\n",
       "      <th>sen_sort</th>\n",
       "      <th>spo_sep</th>\n",
       "      <th>spo_sort</th>\n",
       "    </tr>\n",
       "  </thead>\n",
       "  <tbody>\n",
       "    <tr>\n",
       "      <th>0</th>\n",
       "      <td>11.62</td>\n",
       "      <td>0.263191</td>\n",
       "      <td>,</td>\n",
       "      <td>&lt;function as_is at 0x7fbcd2df68c8&gt;</td>\n",
       "      <td></td>\n",
       "      <td>&lt;function simple_spo_sort at 0x7fbcdb95ef28&gt;</td>\n",
       "    </tr>\n",
       "    <tr>\n",
       "      <th>1</th>\n",
       "      <td>11.61</td>\n",
       "      <td>0.263003</td>\n",
       "      <td>,</td>\n",
       "      <td>&lt;class 'reversed'&gt;</td>\n",
       "      <td></td>\n",
       "      <td>&lt;function simple_spo_sort at 0x7fbcdb95ef28&gt;</td>\n",
       "    </tr>\n",
       "    <tr>\n",
       "      <th>2</th>\n",
       "      <td>11.51</td>\n",
       "      <td>0.262994</td>\n",
       "      <td>,</td>\n",
       "      <td>&lt;function as_is at 0x7fbcd2df68c8&gt;</td>\n",
       "      <td></td>\n",
       "      <td>&lt;function simple_ops_sort at 0x7fbcdb95ec80&gt;</td>\n",
       "    </tr>\n",
       "    <tr>\n",
       "      <th>3</th>\n",
       "      <td>11.52</td>\n",
       "      <td>0.263060</td>\n",
       "      <td>,</td>\n",
       "      <td>&lt;class 'reversed'&gt;</td>\n",
       "      <td></td>\n",
       "      <td>&lt;function simple_ops_sort at 0x7fbcdb95ec80&gt;</td>\n",
       "    </tr>\n",
       "    <tr>\n",
       "      <th>4</th>\n",
       "      <td>11.29</td>\n",
       "      <td>0.257693</td>\n",
       "      <td></td>\n",
       "      <td>&lt;function as_is at 0x7fbcd2df68c8&gt;</td>\n",
       "      <td></td>\n",
       "      <td>&lt;function simple_spo_sort at 0x7fbcdb95ef28&gt;</td>\n",
       "    </tr>\n",
       "    <tr>\n",
       "      <th>5</th>\n",
       "      <td>11.29</td>\n",
       "      <td>0.257685</td>\n",
       "      <td></td>\n",
       "      <td>&lt;class 'reversed'&gt;</td>\n",
       "      <td></td>\n",
       "      <td>&lt;function simple_spo_sort at 0x7fbcdb95ef28&gt;</td>\n",
       "    </tr>\n",
       "    <tr>\n",
       "      <th>6</th>\n",
       "      <td>11.27</td>\n",
       "      <td>0.257691</td>\n",
       "      <td></td>\n",
       "      <td>&lt;function as_is at 0x7fbcd2df68c8&gt;</td>\n",
       "      <td></td>\n",
       "      <td>&lt;function simple_ops_sort at 0x7fbcdb95ec80&gt;</td>\n",
       "    </tr>\n",
       "    <tr>\n",
       "      <th>7</th>\n",
       "      <td>11.27</td>\n",
       "      <td>0.257636</td>\n",
       "      <td></td>\n",
       "      <td>&lt;class 'reversed'&gt;</td>\n",
       "      <td></td>\n",
       "      <td>&lt;function simple_ops_sort at 0x7fbcdb95ec80&gt;</td>\n",
       "    </tr>\n",
       "  </tbody>\n",
       "</table>\n",
       "</div>"
      ],
      "text/plain": [
       "    bleu    meteor sen_sep                            sen_sort spo_sep  \\\n",
       "0  11.62  0.263191       ,  <function as_is at 0x7fbcd2df68c8>           \n",
       "1  11.61  0.263003       ,                  <class 'reversed'>           \n",
       "2  11.51  0.262994       ,  <function as_is at 0x7fbcd2df68c8>           \n",
       "3  11.52  0.263060       ,                  <class 'reversed'>           \n",
       "4  11.29  0.257693          <function as_is at 0x7fbcd2df68c8>           \n",
       "5  11.29  0.257685                          <class 'reversed'>           \n",
       "6  11.27  0.257691          <function as_is at 0x7fbcd2df68c8>           \n",
       "7  11.27  0.257636                          <class 'reversed'>           \n",
       "\n",
       "                                       spo_sort  \n",
       "0  <function simple_spo_sort at 0x7fbcdb95ef28>  \n",
       "1  <function simple_spo_sort at 0x7fbcdb95ef28>  \n",
       "2  <function simple_ops_sort at 0x7fbcdb95ec80>  \n",
       "3  <function simple_ops_sort at 0x7fbcdb95ec80>  \n",
       "4  <function simple_spo_sort at 0x7fbcdb95ef28>  \n",
       "5  <function simple_spo_sort at 0x7fbcdb95ef28>  \n",
       "6  <function simple_ops_sort at 0x7fbcdb95ec80>  \n",
       "7  <function simple_ops_sort at 0x7fbcdb95ec80>  "
      ]
     },
     "execution_count": 54,
     "metadata": {},
     "output_type": "execute_result"
    }
   ],
   "source": [
    "results"
   ]
  }
 ],
 "metadata": {
  "kernelspec": {
   "display_name": "Python 3",
   "language": "python",
   "name": "python3"
  },
  "language_info": {
   "codemirror_mode": {
    "name": "ipython",
    "version": 3
   },
   "file_extension": ".py",
   "mimetype": "text/x-python",
   "name": "python",
   "nbconvert_exporter": "python",
   "pygments_lexer": "ipython3",
   "version": "3.6.7"
  }
 },
 "nbformat": 4,
 "nbformat_minor": 2
}
