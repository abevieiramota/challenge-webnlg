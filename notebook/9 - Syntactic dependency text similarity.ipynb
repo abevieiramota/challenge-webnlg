{
 "cells": [
  {
   "cell_type": "code",
   "execution_count": 1,
   "metadata": {},
   "outputs": [],
   "source": [
    "%matplotlib inline\n",
    "\n",
    "import spacy\n",
    "from spacy import displacy\n",
    "import networkx as nx\n",
    "\n",
    "%run ../script/webnlg.py\n",
    "\n",
    "train_dev = WebNLGCorpus.load(['train', 'dev'])"
   ]
  },
  {
   "cell_type": "markdown",
   "metadata": {},
   "source": [
    "# Makes graphs from dependency trees"
   ]
  },
  {
   "cell_type": "code",
   "execution_count": 2,
   "metadata": {},
   "outputs": [],
   "source": [
    "def make_graph(doc):\n",
    "    \n",
    "    g = nx.DiGraph()\n",
    "    \n",
    "    for token in doc:\n",
    "\n",
    "        if token.dep_ != 'ROOT':\n",
    "\n",
    "            g.add_edge(token.head, token, dep=token.dep_)\n",
    "            g.nodes[token.head]['token'] = token.head\n",
    "            g.nodes[token]['token'] = token\n",
    "            \n",
    "    return g"
   ]
  },
  {
   "cell_type": "markdown",
   "metadata": {},
   "source": [
    "# Calculate graph distances between dependency trees, using word embedding"
   ]
  },
  {
   "cell_type": "code",
   "execution_count": 3,
   "metadata": {},
   "outputs": [],
   "source": [
    "from itertools import islice\n",
    "import numpy as np\n",
    "from networkx.algorithms import similarity\n",
    "\n",
    "def p(x, y):\n",
    "    \n",
    "    x, y = x['token'], y['token']\n",
    "    \n",
    "    sim = x.similarity(y)\n",
    "    \n",
    "    return 1 - sim\n",
    "\n",
    "def calculate_distance(hypothesis_text, g, doc=None, n=10):\n",
    "    \n",
    "    hypothesis_doc = nlp(hypothesis_text)\n",
    "    hypothesis_g = make_graph(hypothesis_doc)    \n",
    "    \n",
    "    print(f'doc 1: \"{hypothesis_doc}\"')\n",
    "    if doc is not None:\n",
    "        print(f'doc 2: \"{doc}\"')\n",
    "\n",
    "    sim = list(islice(similarity.optimize_graph_edit_distance(hypothesis_g, g, node_subst_cost=p), 0, n))[-1]\n",
    "\n",
    "    print(f'Edit distance = {sim}')\n",
    "\n",
    "    print(\"\\n\")\n",
    "    \n",
    "    return sim\n",
    "    \n",
    "def calculate_distances(hypothesis_text, gs, docs, n=10):\n",
    "    \n",
    "    sims = [calculate_distance(hypothesis_text, g, doc, n) for g, doc in zip(gs, docs)]\n",
    "    \n",
    "    print(f'Mean: {np.mean(sims)}')\n",
    "    print(f'Min: {min(sims)}')\n",
    "    print(f'Std: {np.std(sims)}')"
   ]
  },
  {
   "cell_type": "markdown",
   "metadata": {},
   "source": [
    "# Example"
   ]
  },
  {
   "cell_type": "code",
   "execution_count": 4,
   "metadata": {},
   "outputs": [],
   "source": [
    "nlp = spacy.load('en_core_web_lg')"
   ]
  },
  {
   "cell_type": "code",
   "execution_count": 5,
   "metadata": {},
   "outputs": [
    {
     "data": {
      "text/plain": [
       "Triple info: {'category': 'Food', 'eid': 'Id41', 'idx': '5_40', 'ntriples': 1}\n",
       "\n",
       "\tModified triples:\n",
       "\n",
       "Asam_pedas | alternativeName | \"Asam padeh\"\n",
       "\n",
       "\n",
       "\tLexicalizations:\n",
       "\n",
       "The alternative name for asam pedas is asam padeh.\n",
       "Asam padeh is also known as Asam pedas.\n",
       "An alternative name for Asam pedas is Asam padeh."
      ]
     },
     "execution_count": 5,
     "metadata": {},
     "output_type": "execute_result"
    }
   ],
   "source": [
    "# sample\n",
    "e = train_dev.sample(idx='5_40')\n",
    "\n",
    "e"
   ]
  },
  {
   "cell_type": "code",
   "execution_count": 6,
   "metadata": {},
   "outputs": [],
   "source": [
    "# generate docs for the lexicalizations\n",
    "\n",
    "docs = [nlp(lex) for lex in e.lexes()]\n",
    "gs = [make_graph(doc) for doc in docs]"
   ]
  },
  {
   "cell_type": "markdown",
   "metadata": {},
   "source": [
    "# Calculating graph similarities between dependencies trees and word embeddings"
   ]
  },
  {
   "cell_type": "code",
   "execution_count": 7,
   "metadata": {},
   "outputs": [],
   "source": [
    "N = 2"
   ]
  },
  {
   "cell_type": "code",
   "execution_count": 8,
   "metadata": {},
   "outputs": [
    {
     "name": "stdout",
     "output_type": "stream",
     "text": [
      "doc 1: \"I call Asam pedas as Asam padeh.\"\n",
      "doc 2: \"The alternative name for asam pedas is asam padeh.\"\n",
      "Edit distance = 12.318304419517517\n",
      "\n",
      "\n",
      "doc 1: \"I call Asam pedas as Asam padeh.\"\n",
      "doc 2: \"Asam padeh is also known as Asam pedas.\"\n",
      "Edit distance = 16.000961780548096\n",
      "\n",
      "\n",
      "doc 1: \"I call Asam pedas as Asam padeh.\"\n",
      "doc 2: \"An alternative name for Asam pedas is Asam padeh.\"\n",
      "Edit distance = 12.329225301742554\n",
      "\n",
      "\n",
      "Mean: 13.549497167269388\n",
      "Min: 12.318304419517517\n",
      "Std: 1.7334529854283007\n"
     ]
    }
   ],
   "source": [
    "text = \"I call Asam pedas as Asam padeh.\"\n",
    "calculate_distances(text, gs, docs, n=N)"
   ]
  },
  {
   "cell_type": "code",
   "execution_count": 9,
   "metadata": {},
   "outputs": [
    {
     "name": "stdout",
     "output_type": "stream",
     "text": [
      "doc 1: \"The New York Times is a good online newspaper.\"\n",
      "doc 2: \"The alternative name for asam pedas is asam padeh.\"\n",
      "Edit distance = 18.146992914378643\n",
      "\n",
      "\n",
      "doc 1: \"The New York Times is a good online newspaper.\"\n",
      "doc 2: \"Asam padeh is also known as Asam pedas.\"\n",
      "Edit distance = 20.262665562331676\n",
      "\n",
      "\n",
      "doc 1: \"The New York Times is a good online newspaper.\"\n",
      "doc 2: \"An alternative name for Asam pedas is Asam padeh.\"\n",
      "Edit distance = 19.872984491288662\n",
      "\n",
      "\n",
      "Mean: 19.42754765599966\n",
      "Min: 18.146992914378643\n",
      "Std: 0.9193578081096829\n"
     ]
    }
   ],
   "source": [
    "text = \"The New York Times is a good online newspaper.\"\n",
    "calculate_distances(text, gs, docs, n=N)"
   ]
  },
  {
   "cell_type": "code",
   "execution_count": 10,
   "metadata": {},
   "outputs": [
    {
     "name": "stdout",
     "output_type": "stream",
     "text": [
      "doc 1: \"The alternative name for asam pedas is asam padeh.\"\n",
      "doc 2: \"The alternative name for asam pedas is asam padeh.\"\n",
      "Edit distance = 0.0\n",
      "\n",
      "\n",
      "doc 1: \"The alternative name for asam pedas is asam padeh.\"\n",
      "doc 2: \"Asam padeh is also known as Asam pedas.\"\n",
      "Edit distance = 7.370896875858307\n",
      "\n",
      "\n",
      "doc 1: \"The alternative name for asam pedas is asam padeh.\"\n",
      "doc 2: \"An alternative name for Asam pedas is Asam padeh.\"\n",
      "Edit distance = 0.4030686020851135\n",
      "\n",
      "\n",
      "Mean: 2.59132182598114\n",
      "Min: 0.0\n",
      "Std: 3.3836734788838547\n"
     ]
    }
   ],
   "source": [
    "text = e.lexes()[0]\n",
    "calculate_distances(text, gs, docs, n=N)"
   ]
  },
  {
   "cell_type": "code",
   "execution_count": 11,
   "metadata": {},
   "outputs": [
    {
     "name": "stdout",
     "output_type": "stream",
     "text": [
      "doc 1: \"Asam padeh is also known as Asam pedas.\"\n",
      "doc 2: \"The alternative name for asam pedas is asam padeh.\"\n",
      "Edit distance = 10.155589371919632\n",
      "\n",
      "\n",
      "doc 1: \"Asam padeh is also known as Asam pedas.\"\n",
      "doc 2: \"Asam padeh is also known as Asam pedas.\"\n",
      "Edit distance = 0.0\n",
      "\n",
      "\n",
      "doc 1: \"Asam padeh is also known as Asam pedas.\"\n",
      "doc 2: \"An alternative name for Asam pedas is Asam padeh.\"\n",
      "Edit distance = 10.201723039150238\n",
      "\n",
      "\n",
      "Mean: 6.785770803689957\n",
      "Min: 0.0\n",
      "Std: 4.798301514006202\n"
     ]
    }
   ],
   "source": [
    "text = e.lexes()[1]\n",
    "calculate_distances(text, gs, docs, n=N)"
   ]
  },
  {
   "cell_type": "code",
   "execution_count": 12,
   "metadata": {},
   "outputs": [
    {
     "name": "stdout",
     "output_type": "stream",
     "text": [
      "doc 1: \"An alternative name for Asam pedas is Asam padeh.\"\n",
      "doc 2: \"The alternative name for asam pedas is asam padeh.\"\n",
      "Edit distance = 0.4030686020851135\n",
      "\n",
      "\n",
      "doc 1: \"An alternative name for Asam pedas is Asam padeh.\"\n",
      "doc 2: \"Asam padeh is also known as Asam pedas.\"\n",
      "Edit distance = 7.417030543088913\n",
      "\n",
      "\n",
      "doc 1: \"An alternative name for Asam pedas is Asam padeh.\"\n",
      "doc 2: \"An alternative name for Asam pedas is Asam padeh.\"\n",
      "Edit distance = 0.0\n",
      "\n",
      "\n",
      "Mean: 2.6066997150580087\n",
      "Min: 0.0\n",
      "Std: 3.4053955307056554\n"
     ]
    }
   ],
   "source": [
    "text = e.lexes()[2]\n",
    "calculate_distances(text, gs, docs, n=N)"
   ]
  }
 ],
 "metadata": {
  "kernelspec": {
   "display_name": "Python 3",
   "language": "python",
   "name": "python3"
  },
  "language_info": {
   "codemirror_mode": {
    "name": "ipython",
    "version": 3
   },
   "file_extension": ".py",
   "mimetype": "text/x-python",
   "name": "python",
   "nbconvert_exporter": "python",
   "pygments_lexer": "ipython3",
   "version": "3.6.5"
  }
 },
 "nbformat": 4,
 "nbformat_minor": 2
}
