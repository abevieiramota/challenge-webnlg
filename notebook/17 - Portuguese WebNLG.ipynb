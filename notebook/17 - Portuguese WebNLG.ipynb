{
 "cells": [
  {
   "cell_type": "code",
   "execution_count": 1,
   "metadata": {},
   "outputs": [],
   "source": [
    "import os\n",
    "\n",
    "os.sys.path.insert(0, '../script')\n",
    "\n",
    "import webnlg\n",
    "\n",
    "import pandas as pd"
   ]
  },
  {
   "cell_type": "code",
   "execution_count": 2,
   "metadata": {},
   "outputs": [],
   "source": [
    "corpus = webnlg.load(dataset=['train', 'dev', 'test_with_lex'], structure='pandas')"
   ]
  },
  {
   "cell_type": "code",
   "execution_count": 3,
   "metadata": {},
   "outputs": [
    {
     "data": {
      "text/plain": [
       "number of entries                             9674\n",
       "number of distinct triples                    3221\n",
       "number of distinct generated texts           25214\n",
       "number of reference texts                    25298\n",
       "number of triples                            28399\n",
       "number of characters in reference texts    2956533\n",
       "dtype: int64"
      ]
     },
     "execution_count": 3,
     "metadata": {},
     "output_type": "execute_result"
    }
   ],
   "source": [
    "datasets_stats = pd.Series({\n",
    "    'number of entries': len(corpus.edf),\n",
    "    'number of distinct triples': corpus.mdf.mtext.nunique(),\n",
    "    'number of distinct generated texts': corpus.ldf.ltext.nunique(),\n",
    "    'number of reference texts': len(corpus.ldf),\n",
    "    'number of triples': len(corpus.mdf),\n",
    "    'number of characters in reference texts': corpus.ldf.ltext.str.len().sum()\n",
    "    })\n",
    "\n",
    "datasets_stats"
   ]
  },
  {
   "cell_type": "markdown",
   "metadata": {},
   "source": [
    "# One entry per category and triplesize"
   ]
  },
  {
   "cell_type": "code",
   "execution_count": 11,
   "metadata": {},
   "outputs": [
    {
     "data": {
      "text/plain": [
       "81"
      ]
     },
     "execution_count": 11,
     "metadata": {},
     "output_type": "execute_result"
    }
   ],
   "source": [
    "random_entries = corpus.edf.groupby(['category', 'ntriples']).apply(lambda g: g.sample(random_state=10))\n",
    "\n",
    "len(random_entries)"
   ]
  },
  {
   "cell_type": "code",
   "execution_count": 12,
   "metadata": {},
   "outputs": [
    {
     "data": {
      "text/plain": [
       "222"
      ]
     },
     "execution_count": 12,
     "metadata": {},
     "output_type": "execute_result"
    }
   ],
   "source": [
    "random_entries_with_lexes = pd.merge(random_entries, corpus.ldf, on='idx')\n",
    "\n",
    "len(random_entries_with_lexes)"
   ]
  },
  {
   "cell_type": "code",
   "execution_count": 16,
   "metadata": {},
   "outputs": [],
   "source": [
    "random_entries_with_lexes['Google Translate'] = None\n",
    "random_entries_with_lexes['Bing Translation'] = None\n",
    "\n",
    "\n",
    "random_entries_with_lexes.sort_values(['category', 'ntriples']).to_excel('sample_translation_evaluation.xlsx', index=False)"
   ]
  }
 ],
 "metadata": {
  "kernelspec": {
   "display_name": "Python 3",
   "language": "python",
   "name": "python3"
  },
  "language_info": {
   "codemirror_mode": {
    "name": "ipython",
    "version": 3
   },
   "file_extension": ".py",
   "mimetype": "text/x-python",
   "name": "python",
   "nbconvert_exporter": "python",
   "pygments_lexer": "ipython3",
   "version": "3.6.7"
  }
 },
 "nbformat": 4,
 "nbformat_minor": 2
}
