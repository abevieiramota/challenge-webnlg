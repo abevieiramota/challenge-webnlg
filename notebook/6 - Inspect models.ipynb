{
 "cells": [
  {
   "cell_type": "code",
   "execution_count": 1,
   "metadata": {},
   "outputs": [],
   "source": [
    "import warnings\n",
    "warnings.filterwarnings(\"ignore\")"
   ]
  },
  {
   "cell_type": "code",
   "execution_count": 2,
   "metadata": {},
   "outputs": [],
   "source": [
    "%run ../script/config.py"
   ]
  },
  {
   "cell_type": "code",
   "execution_count": 11,
   "metadata": {},
   "outputs": [
    {
     "data": {
      "text/plain": [
       "['../data/models/4 - Baseline - Just join triples_e089e6d2328637218601e68ee1216f624e70d78f.txt',\n",
       " '../data/models/5 - Model - Template Based - roots_604049f5126c8e7723be2bcc42a5b3ba96fb29e8.txt',\n",
       " '../data/models/5 - Model - Template Based - roots_6dd871aa81bea6fcaf35b71faf932af2e82e17e6.txt',\n",
       " '../data/models/5 - Model - Template Based - roots_b6a7d881636c7be572e04d2d10a4523354324356.txt']"
      ]
     },
     "execution_count": 11,
     "metadata": {},
     "output_type": "execute_result"
    }
   ],
   "source": [
    "my_models_paths = !ls -d -1 ../data/models/*.txt\n",
    "\n",
    "my_models_paths"
   ]
  },
  {
   "cell_type": "code",
   "execution_count": 12,
   "metadata": {},
   "outputs": [
    {
     "data": {
      "text/plain": [
       "['../data/models/4 - Baseline - Just join triples_e089e6d2328637218601e68ee1216f624e70d78f.txt',\n",
       " '../data/models/5 - Model - Template Based - roots_604049f5126c8e7723be2bcc42a5b3ba96fb29e8.txt',\n",
       " '../data/models/5 - Model - Template Based - roots_6dd871aa81bea6fcaf35b71faf932af2e82e17e6.txt',\n",
       " '../data/models/5 - Model - Template Based - roots_b6a7d881636c7be572e04d2d10a4523354324356.txt',\n",
       " '../data/webnlg2017/submissions/adaptCenter/ADAPTcentreWebNLGsubmission.txt',\n",
       " '../data/webnlg2017/submissions/melbourne/final_result.txt',\n",
       " '../data/webnlg2017/submissions/pkuwriter/PKUWriter_results.txt',\n",
       " '../data/webnlg2017/submissions/tilburg/nmt_test.out.ordered',\n",
       " '../data/webnlg2017/submissions/tilburg/smt_test.out.ordered',\n",
       " '../data/webnlg2017/submissions/tilburg/template_test.out.ordered',\n",
       " '../data/webnlg2017/submissions/uit-danglt-clnlp/Submission-UIT-DANGNT-CLNLP.txt',\n",
       " '../data/webnlg2017/submissions/upf/UPF_All_sent_final.txt',\n",
       " '../data/webnlg2017/submissions/baseline_sorted.txt']"
      ]
     },
     "execution_count": 12,
     "metadata": {},
     "output_type": "execute_result"
    }
   ],
   "source": [
    "models_paths = my_models_paths + SUBMISSIONS_FILEPATHS\n",
    "models_paths"
   ]
  },
  {
   "cell_type": "code",
   "execution_count": 13,
   "metadata": {},
   "outputs": [],
   "source": [
    "model_results = {}\n",
    "\n",
    "for model_path in models_paths:\n",
    "    \n",
    "    with open(model_path) as f:\n",
    "        \n",
    "        model_results[model_path] = [line[:-1] for line in f]"
   ]
  },
  {
   "cell_type": "code",
   "execution_count": 14,
   "metadata": {},
   "outputs": [],
   "source": [
    "%run ../script/webnlg.py"
   ]
  },
  {
   "cell_type": "code",
   "execution_count": 15,
   "metadata": {},
   "outputs": [],
   "source": [
    "import pandas as pd\n",
    "pd.set_option('max_colwidth', 1000)\n",
    "from nltk.translate.bleu_score import sentence_bleu\n",
    "\n",
    "lex = WebNLGCorpus.load(\"test_with_lex\")\n",
    "\n",
    "s_multiwordexpressions = lex.mdf.m_subject.str.lower().str.replace('_', ' ').str.split().tolist()\n",
    "o_multiwordexpressions = lex.mdf.m_object.str.lower().str.replace('_', ' ').str.split().tolist()\n",
    "\n",
    "all_multiwordexpressions = s_multiwordexpressions + o_multiwordexpressions\n",
    "all_multiwordexpressions = list(set([tuple(s) for s in all_multiwordexpressions]))\n",
    "\n",
    "from nltk.tokenize.mwe import MWETokenizer\n",
    "\n",
    "t = MWETokenizer(all_multiwordexpressions)\n",
    "\n",
    "from textacy.preprocess import preprocess_text\n",
    "\n",
    "def preprocess(ref):\n",
    "    \n",
    "    ref = preprocess_text(ref, no_accents=True, lowercase=True, no_punct=True)\n",
    "    \n",
    "    return t.tokenize(ref.split())\n",
    "\n",
    "\n",
    "\n",
    "def print_entry_and_models(e):\n",
    "    \n",
    "    print(e)\n",
    "    print('\\n')\n",
    "    \n",
    "    idx = int(e.idx().split('_')[1])\n",
    "    \n",
    "    references = [preprocess(ref) for ref in e.ldf.ltext.tolist()]\n",
    "    \n",
    "    texts = []\n",
    "    bleus = []\n",
    "    \n",
    "    for model_path in models_paths:\n",
    "        \n",
    "        model_text = model_results[model_path][idx]\n",
    "        \n",
    "        bleu = sentence_bleu(references, preprocess(model_text))\n",
    "        \n",
    "        texts.append(model_text)\n",
    "        bleus.append(bleu)\n",
    "        \n",
    "    return pd.DataFrame({'models': models_paths,\n",
    "                         'texts': texts,\n",
    "                         'bleu': bleus}).sort_values('bleu', ascending=False)"
   ]
  },
  {
   "cell_type": "code",
   "execution_count": 16,
   "metadata": {},
   "outputs": [],
   "source": [
    "test_with_lex = WebNLGCorpus.load('test_with_lex')"
   ]
  },
  {
   "cell_type": "code",
   "execution_count": 17,
   "metadata": {},
   "outputs": [
    {
     "name": "stdout",
     "output_type": "stream",
     "text": [
      "Triple info: {'category': 'WrittenWork', 'eid': 'Id405', 'idx': '0_404', 'ntriples': 3}\n",
      "\n",
      "\tModified triples:\n",
      "\n",
      "1634:_The_Bavarian_Crisis | numberOfPages | \"448\"\n",
      "1634:_The_Bavarian_Crisis | author | \"Virginia DeMarce and Eric Flint\"\n",
      "1634:_The_Bavarian_Crisis | mediaType | \"Print\"\n",
      "\n",
      "\n",
      "\tLexicalizations:\n",
      "\n",
      "Available in print form, '1634: The Bavarian Crisis' by Virginia DeMarce and Eric Flint has 448 pages.\n",
      "1634: The Bavarian Crisis is written by Virginia DeMarce and Eric Flint and has 448 pages in print.\n",
      "1634: The Bavarian Crisis was written by Virginia DeMarce and Eric Flint, has 448 pages and is available in print form.\n",
      "\n",
      "\n"
     ]
    }
   ],
   "source": [
    "e = test_with_lex.sample()\n",
    "\n",
    "df = print_entry_and_models(e)"
   ]
  },
  {
   "cell_type": "code",
   "execution_count": 18,
   "metadata": {},
   "outputs": [
    {
     "data": {
      "text/html": [
       "<div>\n",
       "<style scoped>\n",
       "    .dataframe tbody tr th:only-of-type {\n",
       "        vertical-align: middle;\n",
       "    }\n",
       "\n",
       "    .dataframe tbody tr th {\n",
       "        vertical-align: top;\n",
       "    }\n",
       "\n",
       "    .dataframe thead th {\n",
       "        text-align: right;\n",
       "    }\n",
       "</style>\n",
       "<table border=\"1\" class=\"dataframe\">\n",
       "  <thead>\n",
       "    <tr style=\"text-align: right;\">\n",
       "      <th></th>\n",
       "      <th>bleu</th>\n",
       "      <th>models</th>\n",
       "      <th>texts</th>\n",
       "    </tr>\n",
       "  </thead>\n",
       "  <tbody>\n",
       "    <tr>\n",
       "      <th>8</th>\n",
       "      <td>0.723776</td>\n",
       "      <td>../data/webnlg2017/submissions/tilburg/smt_test.out.ordered</td>\n",
       "      <td>: the bavarian crisis has 448 pages and 1634 : the bavarian crisis is written by virginia demarce and eric flint and is available in print form .</td>\n",
       "    </tr>\n",
       "    <tr>\n",
       "      <th>4</th>\n",
       "      <td>0.637202</td>\n",
       "      <td>../data/webnlg2017/submissions/adaptCenter/ADAPTcentreWebNLGsubmission.txt</td>\n",
       "      <td>1634 : the bavarian crisis , written by virginia demarce and eric flint , is available in print form and has 448 pages .</td>\n",
       "    </tr>\n",
       "    <tr>\n",
       "      <th>5</th>\n",
       "      <td>0.583027</td>\n",
       "      <td>../data/webnlg2017/submissions/melbourne/final_result.txt</td>\n",
       "      <td>the print book 1634: the bavarian crisis has 448 pages and was written by virginia demarce and eric flint .</td>\n",
       "    </tr>\n",
       "    <tr>\n",
       "      <th>9</th>\n",
       "      <td>0.582823</td>\n",
       "      <td>../data/webnlg2017/submissions/tilburg/template_test.out.ordered</td>\n",
       "      <td>1634 : the bavarian crisis by virginia demarce and eric flint is 448 pages long and in print .</td>\n",
       "    </tr>\n",
       "    <tr>\n",
       "      <th>12</th>\n",
       "      <td>0.579558</td>\n",
       "      <td>../data/webnlg2017/submissions/baseline_sorted.txt</td>\n",
       "      <td>1634 : the bavarian crisis , written by virginia demarce and eric flint , is in print and has 448 pages .</td>\n",
       "    </tr>\n",
       "    <tr>\n",
       "      <th>6</th>\n",
       "      <td>0.572685</td>\n",
       "      <td>../data/webnlg2017/submissions/pkuwriter/PKUWriter_results.txt</td>\n",
       "      <td>1634 : the bavarian crisis , written by virginia demarce and eric flint , is available in hardcover and has 448 pages .</td>\n",
       "    </tr>\n",
       "    <tr>\n",
       "      <th>3</th>\n",
       "      <td>0.548802</td>\n",
       "      <td>../data/models/5 - Model - Template Based - roots_b6a7d881636c7be572e04d2d10a4523354324356.txt</td>\n",
       "      <td>1634: The Bavarian Crisis has 448 pages. 1634: The Bavarian Crisis was written by Virginia DeMarce and Eric Flint. 1634: The Bavarian Crisis is available in Print.</td>\n",
       "    </tr>\n",
       "    <tr>\n",
       "      <th>10</th>\n",
       "      <td>0.529793</td>\n",
       "      <td>../data/webnlg2017/submissions/uit-danglt-clnlp/Submission-UIT-DANGNT-CLNLP.txt</td>\n",
       "      <td>1634 : the bavarian crisis by virginia demarce and eric flint was produced in print and is 448 pages long .</td>\n",
       "    </tr>\n",
       "    <tr>\n",
       "      <th>2</th>\n",
       "      <td>0.439620</td>\n",
       "      <td>../data/models/5 - Model - Template Based - roots_6dd871aa81bea6fcaf35b71faf932af2e82e17e6.txt</td>\n",
       "      <td>1634: The Bavarian Crisis has 448 pages. 1634: The Bavarian Crisis was written by Virginia DeMarce and Eric Flint. 1634: The Bavarian Crisis was published in Print.</td>\n",
       "    </tr>\n",
       "    <tr>\n",
       "      <th>1</th>\n",
       "      <td>0.298857</td>\n",
       "      <td>../data/models/5 - Model - Template Based - roots_604049f5126c8e7723be2bcc42a5b3ba96fb29e8.txt</td>\n",
       "      <td>1634: The Bavarian Crisis has 448 pages. 1634: The Bavarian Crisis was written by Virginia De Marce and Eric Flint. 1634: The Bavarian Crisis was published in Print.</td>\n",
       "    </tr>\n",
       "    <tr>\n",
       "      <th>7</th>\n",
       "      <td>0.292571</td>\n",
       "      <td>../data/webnlg2017/submissions/tilburg/nmt_test.out.ordered</td>\n",
       "      <td>the print book 1634 : the bavarian crisis is 448 pages long and the author is virginia demarce and eric flint .</td>\n",
       "    </tr>\n",
       "    <tr>\n",
       "      <th>11</th>\n",
       "      <td>0.285078</td>\n",
       "      <td>../data/webnlg2017/submissions/upf/UPF_All_sent_final.txt</td>\n",
       "      <td>1634: the bavarian crisis , the author of which is virginia demarce and , has 448 pages . it can be found in print .</td>\n",
       "    </tr>\n",
       "    <tr>\n",
       "      <th>0</th>\n",
       "      <td>0.184590</td>\n",
       "      <td>../data/models/4 - Baseline - Just join triples_e089e6d2328637218601e68ee1216f624e70d78f.txt</td>\n",
       "      <td>1634: The Bavarian Crisis numberOfPages 448  1634: The Bavarian Crisis author Virginia DeMarce and Eric Flint  1634: The Bavarian Crisis mediaType Print</td>\n",
       "    </tr>\n",
       "  </tbody>\n",
       "</table>\n",
       "</div>"
      ],
      "text/plain": [
       "        bleu  \\\n",
       "8   0.723776   \n",
       "4   0.637202   \n",
       "5   0.583027   \n",
       "9   0.582823   \n",
       "12  0.579558   \n",
       "6   0.572685   \n",
       "3   0.548802   \n",
       "10  0.529793   \n",
       "2   0.439620   \n",
       "1   0.298857   \n",
       "7   0.292571   \n",
       "11  0.285078   \n",
       "0   0.184590   \n",
       "\n",
       "                                                                                            models  \\\n",
       "8                                      ../data/webnlg2017/submissions/tilburg/smt_test.out.ordered   \n",
       "4                       ../data/webnlg2017/submissions/adaptCenter/ADAPTcentreWebNLGsubmission.txt   \n",
       "5                                        ../data/webnlg2017/submissions/melbourne/final_result.txt   \n",
       "9                                 ../data/webnlg2017/submissions/tilburg/template_test.out.ordered   \n",
       "12                                              ../data/webnlg2017/submissions/baseline_sorted.txt   \n",
       "6                                   ../data/webnlg2017/submissions/pkuwriter/PKUWriter_results.txt   \n",
       "3   ../data/models/5 - Model - Template Based - roots_b6a7d881636c7be572e04d2d10a4523354324356.txt   \n",
       "10                 ../data/webnlg2017/submissions/uit-danglt-clnlp/Submission-UIT-DANGNT-CLNLP.txt   \n",
       "2   ../data/models/5 - Model - Template Based - roots_6dd871aa81bea6fcaf35b71faf932af2e82e17e6.txt   \n",
       "1   ../data/models/5 - Model - Template Based - roots_604049f5126c8e7723be2bcc42a5b3ba96fb29e8.txt   \n",
       "7                                      ../data/webnlg2017/submissions/tilburg/nmt_test.out.ordered   \n",
       "11                                       ../data/webnlg2017/submissions/upf/UPF_All_sent_final.txt   \n",
       "0     ../data/models/4 - Baseline - Just join triples_e089e6d2328637218601e68ee1216f624e70d78f.txt   \n",
       "\n",
       "                                                                                                                                                                    texts  \n",
       "8                      : the bavarian crisis has 448 pages and 1634 : the bavarian crisis is written by virginia demarce and eric flint and is available in print form .   \n",
       "4                                                1634 : the bavarian crisis , written by virginia demarce and eric flint , is available in print form and has 448 pages .  \n",
       "5                                                             the print book 1634: the bavarian crisis has 448 pages and was written by virginia demarce and eric flint .  \n",
       "9                                                                         1634 : the bavarian crisis by virginia demarce and eric flint is 448 pages long and in print .   \n",
       "12                                                              1634 : the bavarian crisis , written by virginia demarce and eric flint , is in print and has 448 pages .  \n",
       "6                                                 1634 : the bavarian crisis , written by virginia demarce and eric flint , is available in hardcover and has 448 pages .  \n",
       "3     1634: The Bavarian Crisis has 448 pages. 1634: The Bavarian Crisis was written by Virginia DeMarce and Eric Flint. 1634: The Bavarian Crisis is available in Print.  \n",
       "10                                                            1634 : the bavarian crisis by virginia demarce and eric flint was produced in print and is 448 pages long .  \n",
       "2    1634: The Bavarian Crisis has 448 pages. 1634: The Bavarian Crisis was written by Virginia DeMarce and Eric Flint. 1634: The Bavarian Crisis was published in Print.  \n",
       "1   1634: The Bavarian Crisis has 448 pages. 1634: The Bavarian Crisis was written by Virginia De Marce and Eric Flint. 1634: The Bavarian Crisis was published in Print.  \n",
       "7                                                        the print book 1634 : the bavarian crisis is 448 pages long and the author is virginia demarce and eric flint .   \n",
       "11                                                   1634: the bavarian crisis , the author of which is virginia demarce and , has 448 pages . it can be found in print .  \n",
       "0               1634: The Bavarian Crisis numberOfPages 448  1634: The Bavarian Crisis author Virginia DeMarce and Eric Flint  1634: The Bavarian Crisis mediaType Print   "
      ]
     },
     "execution_count": 18,
     "metadata": {},
     "output_type": "execute_result"
    }
   ],
   "source": [
    "df"
   ]
  },
  {
   "cell_type": "code",
   "execution_count": 29,
   "metadata": {},
   "outputs": [],
   "source": [
    "%run ../script/data_alignment.py\n",
    "\n",
    "import spacy\n",
    "\n",
    "nlp = spacy.load('en_core_web_lg')"
   ]
  },
  {
   "cell_type": "code",
   "execution_count": 81,
   "metadata": {},
   "outputs": [],
   "source": [
    "%run ../script/data_alignment.py"
   ]
  },
  {
   "cell_type": "code",
   "execution_count": 82,
   "metadata": {},
   "outputs": [],
   "source": [
    "da = RootDataAlignmentModel(similarity_metric=similarity.token_sort_ratio)"
   ]
  },
  {
   "cell_type": "code",
   "execution_count": 83,
   "metadata": {},
   "outputs": [
    {
     "data": {
      "text/html": [
       "<div class=\"entities\" style=\"line-height: 2.5\">\n",
       "<mark class=\"entity\" style=\"background: #ddd; padding: 0.45em 0.6em; margin: 0 0.25em; line-height: 1; border-radius: 0.35em; box-decoration-break: clone; -webkit-box-decoration-break: clone\">\n",
       "    The Finnish language\n",
       "    <span style=\"font-size: 0.8em; font-weight: bold; line-height: 1; border-radius: 0.35em; text-transform: uppercase; vertical-align: middle; margin-left: 0.5rem\">m_object: : Finnish_language</span>\n",
       "</mark>\n",
       " is spoken in \n",
       "<mark class=\"entity\" style=\"background: #ddd; padding: 0.45em 0.6em; margin: 0 0.25em; line-height: 1; border-radius: 0.35em; box-decoration-break: clone; -webkit-box-decoration-break: clone\">\n",
       "    Finland\n",
       "    <span style=\"font-size: 0.8em; font-weight: bold; line-height: 1; border-radius: 0.35em; text-transform: uppercase; vertical-align: middle; margin-left: 0.5rem\">m_subject: Finland</span>\n",
       "</mark>\n",
       ".</div>"
      ],
      "text/plain": [
       "<IPython.core.display.HTML object>"
      ]
     },
     "metadata": {},
     "output_type": "display_data"
    }
   ],
   "source": [
    "first_lexicalization = e.ldf.ltext.values.tolist()[1]\n",
    "# uses the first triple\n",
    "first_triple = e.mdf[['m_subject', 'm_object']].to_dict(orient='records')[0]\n",
    "\n",
    "da.render_aligned(nlp(first_lexicalization), first_triple)"
   ]
  },
  {
   "cell_type": "code",
   "execution_count": null,
   "metadata": {},
   "outputs": [],
   "source": []
  }
 ],
 "metadata": {
  "kernelspec": {
   "display_name": "Python 3",
   "language": "python",
   "name": "python3"
  },
  "language_info": {
   "codemirror_mode": {
    "name": "ipython",
    "version": 3
   },
   "file_extension": ".py",
   "mimetype": "text/x-python",
   "name": "python",
   "nbconvert_exporter": "python",
   "pygments_lexer": "ipython3",
   "version": "3.6.5"
  }
 },
 "nbformat": 4,
 "nbformat_minor": 2
}
