{
 "cells": [
  {
   "cell_type": "code",
   "execution_count": 1,
   "metadata": {},
   "outputs": [],
   "source": [
    "import warnings\n",
    "warnings.filterwarnings(\"ignore\")\n",
    "import os\n",
    "\n",
    "os.sys.path.insert(0, '../script')\n",
    "\n",
    "from config import *\n",
    "from webnlg import *"
   ]
  },
  {
   "cell_type": "code",
   "execution_count": 2,
   "metadata": {},
   "outputs": [
    {
     "data": {
      "text/plain": [
       "['../data/models/5 - Model - Template Based - roots_3ae48a5d03a715d609dc8d73f82ac5682cba128d.txt',\n",
       " '../data/models/5 - Model - Template Based - roots_4e9245cbbc05e4fdf0de404fbada20d8294127b2.txt',\n",
       " '../data/models/5 - Model - Template Based - roots_55f9d82b420c5cbc6a01d5a65082414b87a81195.txt',\n",
       " '../data/models/5 - Model - Template Based - roots_ef0aa8122b6669218ec93658c2b7f74042635996.txt']"
      ]
     },
     "execution_count": 2,
     "metadata": {},
     "output_type": "execute_result"
    }
   ],
   "source": [
    "my_models_paths = !ls -d -1 ../data/models/*.txt\n",
    "\n",
    "my_models_paths"
   ]
  },
  {
   "cell_type": "code",
   "execution_count": 3,
   "metadata": {},
   "outputs": [
    {
     "data": {
      "text/plain": [
       "['../data/models/5 - Model - Template Based - roots_3ae48a5d03a715d609dc8d73f82ac5682cba128d.txt',\n",
       " '../data/models/5 - Model - Template Based - roots_4e9245cbbc05e4fdf0de404fbada20d8294127b2.txt',\n",
       " '../data/models/5 - Model - Template Based - roots_55f9d82b420c5cbc6a01d5a65082414b87a81195.txt',\n",
       " '../data/models/5 - Model - Template Based - roots_ef0aa8122b6669218ec93658c2b7f74042635996.txt',\n",
       " '../data/webnlg2017/submissions/adaptCenter/ADAPTcentreWebNLGsubmission.txt',\n",
       " '../data/webnlg2017/submissions/melbourne/final_result.txt',\n",
       " '../data/webnlg2017/submissions/pkuwriter/PKUWriter_results.txt',\n",
       " '../data/webnlg2017/submissions/tilburg/nmt_test.out.ordered',\n",
       " '../data/webnlg2017/submissions/tilburg/smt_test.out.ordered',\n",
       " '../data/webnlg2017/submissions/tilburg/template_test.out.ordered',\n",
       " '../data/webnlg2017/submissions/uit-danglt-clnlp/Submission-UIT-DANGNT-CLNLP.txt',\n",
       " '../data/webnlg2017/submissions/upf/UPF_All_sent_final.txt',\n",
       " '../data/webnlg2017/submissions/baseline_sorted.txt']"
      ]
     },
     "execution_count": 3,
     "metadata": {},
     "output_type": "execute_result"
    }
   ],
   "source": [
    "models_paths = my_models_paths + SUBMISSIONS_FILEPATHS\n",
    "models_paths"
   ]
  },
  {
   "cell_type": "code",
   "execution_count": 4,
   "metadata": {},
   "outputs": [],
   "source": [
    "model_results = {}\n",
    "\n",
    "for model_path in models_paths:\n",
    "    \n",
    "    with open(model_path) as f:\n",
    "        \n",
    "        model_results[model_path] = [line[:-1] for line in f]"
   ]
  },
  {
   "cell_type": "code",
   "execution_count": 5,
   "metadata": {},
   "outputs": [],
   "source": [
    "import pandas as pd\n",
    "pd.set_option('max_colwidth', 1000)\n",
    "from nltk.translate.bleu_score import sentence_bleu\n",
    "\n",
    "lex = WebNLGCorpus.load(\"test_with_lex\")\n",
    "\n",
    "s_multiwordexpressions = lex.mdf.m_subject.str.lower().str.replace('_', ' ').str.split().tolist()\n",
    "o_multiwordexpressions = lex.mdf.m_object.str.lower().str.replace('_', ' ').str.split().tolist()\n",
    "\n",
    "all_multiwordexpressions = s_multiwordexpressions + o_multiwordexpressions\n",
    "all_multiwordexpressions = list(set([tuple(s) for s in all_multiwordexpressions]))\n",
    "\n",
    "from nltk.tokenize.mwe import MWETokenizer\n",
    "\n",
    "t = MWETokenizer(all_multiwordexpressions)\n",
    "\n",
    "from textacy.preprocess import preprocess_text\n",
    "\n",
    "def preprocess(ref):\n",
    "    \n",
    "    ref = preprocess_text(ref, no_accents=True, lowercase=True, no_punct=True)\n",
    "    \n",
    "    return t.tokenize(ref.split())\n",
    "\n",
    "\n",
    "def print_entry_and_models(e):\n",
    "    \n",
    "    print(e)\n",
    "    print('\\n')\n",
    "    \n",
    "    idx = int(e.idx().split('_')[1])\n",
    "    \n",
    "    references = [preprocess(ref) for ref in e.ldf.ltext.tolist()]\n",
    "    \n",
    "    texts = []\n",
    "    bleus = []\n",
    "    \n",
    "    for model_path in models_paths:\n",
    "        \n",
    "        model_text = model_results[model_path][idx]\n",
    "        \n",
    "        bleu = sentence_bleu(references, preprocess(model_text))\n",
    "        \n",
    "        texts.append(model_text)\n",
    "        bleus.append(bleu)\n",
    "        \n",
    "    models_names = [model_path.split('/')[-1] for model_path in models_paths]\n",
    "        \n",
    "    return pd.DataFrame({'models': models_names,\n",
    "                         'texts': texts,\n",
    "                         'bleu': bleus}).sort_values('bleu', ascending=False)"
   ]
  },
  {
   "cell_type": "code",
   "execution_count": 6,
   "metadata": {},
   "outputs": [],
   "source": [
    "test_with_lex = WebNLGCorpus.load('test_with_lex')"
   ]
  },
  {
   "cell_type": "code",
   "execution_count": 7,
   "metadata": {},
   "outputs": [],
   "source": [
    "entries = list(test_with_lex)"
   ]
  },
  {
   "cell_type": "code",
   "execution_count": 8,
   "metadata": {},
   "outputs": [],
   "source": [
    "i = 0"
   ]
  },
  {
   "cell_type": "code",
   "execution_count": 40,
   "metadata": {},
   "outputs": [
    {
     "name": "stdout",
     "output_type": "stream",
     "text": [
      "Triple info: {'category': 'Airport', 'eid': 'Id27', 'idx': '0_26', 'ntriples': 1}\n",
      "\n",
      "\tModified triples:\n",
      "\n",
      "Denmark | demonym | Danes\n",
      "\n",
      "\n",
      "\tLexicalizations:\n",
      "\n",
      "Denmark demonym is Danes.\n",
      "The inhabitants of Denmark have the demonym of Danes.\n",
      "The people of Denmark are called Danes.\n",
      "\n",
      "\n",
      "foi\n"
     ]
    }
   ],
   "source": [
    "e = entries[i]\n",
    "i += 1\n",
    "\n",
    "df = print_entry_and_models(e)\n",
    "\n",
    "my_model_bleu = df[df.models == '5 - Model - Template Based - roots_ef0aa8122b6669218ec93658c2b7f74042635996.txt'].bleu.values[0]\n",
    "\n",
    "if df.bleu.max() - my_model_bleu > .5:\n",
    "    \n",
    "    print('foi')"
   ]
  },
  {
   "cell_type": "code",
   "execution_count": 41,
   "metadata": {},
   "outputs": [
    {
     "data": {
      "text/html": [
       "<div>\n",
       "<style scoped>\n",
       "    .dataframe tbody tr th:only-of-type {\n",
       "        vertical-align: middle;\n",
       "    }\n",
       "\n",
       "    .dataframe tbody tr th {\n",
       "        vertical-align: top;\n",
       "    }\n",
       "\n",
       "    .dataframe thead th {\n",
       "        text-align: right;\n",
       "    }\n",
       "</style>\n",
       "<table border=\"1\" class=\"dataframe\">\n",
       "  <thead>\n",
       "    <tr style=\"text-align: right;\">\n",
       "      <th></th>\n",
       "      <th>bleu</th>\n",
       "      <th>models</th>\n",
       "      <th>texts</th>\n",
       "    </tr>\n",
       "  </thead>\n",
       "  <tbody>\n",
       "    <tr>\n",
       "      <th>4</th>\n",
       "      <td>1.000000e+00</td>\n",
       "      <td>ADAPTcentreWebNLGsubmission.txt</td>\n",
       "      <td>the people of denmark are called danes .</td>\n",
       "    </tr>\n",
       "    <tr>\n",
       "      <th>9</th>\n",
       "      <td>1.000000e+00</td>\n",
       "      <td>template_test.out.ordered</td>\n",
       "      <td>denmark demonym is danes .</td>\n",
       "    </tr>\n",
       "    <tr>\n",
       "      <th>12</th>\n",
       "      <td>8.091067e-01</td>\n",
       "      <td>baseline_sorted.txt</td>\n",
       "      <td>the people of denmark are called texans .</td>\n",
       "    </tr>\n",
       "    <tr>\n",
       "      <th>8</th>\n",
       "      <td>7.071068e-01</td>\n",
       "      <td>smt_test.out.ordered</td>\n",
       "      <td>the people of denmark danes</td>\n",
       "    </tr>\n",
       "    <tr>\n",
       "      <th>6</th>\n",
       "      <td>6.147882e-01</td>\n",
       "      <td>PKUWriter_results.txt</td>\n",
       "      <td>the people of denmark are from denmark .</td>\n",
       "    </tr>\n",
       "    <tr>\n",
       "      <th>7</th>\n",
       "      <td>4.549941e-01</td>\n",
       "      <td>nmt_test.out.ordered</td>\n",
       "      <td>the inhabitants of denmark are known as danes .</td>\n",
       "    </tr>\n",
       "    <tr>\n",
       "      <th>10</th>\n",
       "      <td>9.367929e-155</td>\n",
       "      <td>Submission-UIT-DANGNT-CLNLP.txt</td>\n",
       "      <td>the demonym for people living in the denmark is danes .</td>\n",
       "    </tr>\n",
       "    <tr>\n",
       "      <th>3</th>\n",
       "      <td>1.695406e-231</td>\n",
       "      <td>5 - Model - Template Based - roots_ef0aa8122b6669218ec93658c2b7f74042635996.txt</td>\n",
       "      <td>Danes are from Denmark.</td>\n",
       "    </tr>\n",
       "    <tr>\n",
       "      <th>0</th>\n",
       "      <td>1.603416e-231</td>\n",
       "      <td>5 - Model - Template Based - roots_3ae48a5d03a715d609dc8d73f82ac5682cba128d.txt</td>\n",
       "      <td>Denmark is inhabited by Danes.</td>\n",
       "    </tr>\n",
       "    <tr>\n",
       "      <th>11</th>\n",
       "      <td>1.531972e-231</td>\n",
       "      <td>UPF_All_sent_final.txt</td>\n",
       "      <td>danes live in denmark .</td>\n",
       "    </tr>\n",
       "    <tr>\n",
       "      <th>1</th>\n",
       "      <td>1.179562e-231</td>\n",
       "      <td>5 - Model - Template Based - roots_4e9245cbbc05e4fdf0de404fbada20d8294127b2.txt</td>\n",
       "      <td>Danes inhabit Denmark.</td>\n",
       "    </tr>\n",
       "    <tr>\n",
       "      <th>2</th>\n",
       "      <td>1.179562e-231</td>\n",
       "      <td>5 - Model - Template Based - roots_55f9d82b420c5cbc6a01d5a65082414b87a81195.txt</td>\n",
       "      <td>Danes inhabit Denmark.</td>\n",
       "    </tr>\n",
       "    <tr>\n",
       "      <th>5</th>\n",
       "      <td>1.179562e-231</td>\n",
       "      <td>final_result.txt</td>\n",
       "      <td>danes inhabit denmark .</td>\n",
       "    </tr>\n",
       "  </tbody>\n",
       "</table>\n",
       "</div>"
      ],
      "text/plain": [
       "             bleu  \\\n",
       "4    1.000000e+00   \n",
       "9    1.000000e+00   \n",
       "12   8.091067e-01   \n",
       "8    7.071068e-01   \n",
       "6    6.147882e-01   \n",
       "7    4.549941e-01   \n",
       "10  9.367929e-155   \n",
       "3   1.695406e-231   \n",
       "0   1.603416e-231   \n",
       "11  1.531972e-231   \n",
       "1   1.179562e-231   \n",
       "2   1.179562e-231   \n",
       "5   1.179562e-231   \n",
       "\n",
       "                                                                             models  \\\n",
       "4                                                   ADAPTcentreWebNLGsubmission.txt   \n",
       "9                                                         template_test.out.ordered   \n",
       "12                                                              baseline_sorted.txt   \n",
       "8                                                              smt_test.out.ordered   \n",
       "6                                                             PKUWriter_results.txt   \n",
       "7                                                              nmt_test.out.ordered   \n",
       "10                                                  Submission-UIT-DANGNT-CLNLP.txt   \n",
       "3   5 - Model - Template Based - roots_ef0aa8122b6669218ec93658c2b7f74042635996.txt   \n",
       "0   5 - Model - Template Based - roots_3ae48a5d03a715d609dc8d73f82ac5682cba128d.txt   \n",
       "11                                                           UPF_All_sent_final.txt   \n",
       "1   5 - Model - Template Based - roots_4e9245cbbc05e4fdf0de404fbada20d8294127b2.txt   \n",
       "2   5 - Model - Template Based - roots_55f9d82b420c5cbc6a01d5a65082414b87a81195.txt   \n",
       "5                                                                  final_result.txt   \n",
       "\n",
       "                                                      texts  \n",
       "4                  the people of denmark are called danes .  \n",
       "9                               denmark demonym is danes .   \n",
       "12                the people of denmark are called texans .  \n",
       "8                              the people of denmark danes   \n",
       "6                  the people of denmark are from denmark .  \n",
       "7          the inhabitants of denmark are known as danes .   \n",
       "10  the demonym for people living in the denmark is danes .  \n",
       "3                                   Danes are from Denmark.  \n",
       "0                            Denmark is inhabited by Danes.  \n",
       "11                                  danes live in denmark .  \n",
       "1                                    Danes inhabit Denmark.  \n",
       "2                                    Danes inhabit Denmark.  \n",
       "5                                   danes inhabit denmark .  "
      ]
     },
     "execution_count": 41,
     "metadata": {},
     "output_type": "execute_result"
    }
   ],
   "source": [
    "df"
   ]
  },
  {
   "cell_type": "code",
   "execution_count": 21,
   "metadata": {},
   "outputs": [
    {
     "data": {
      "text/plain": [
       "[{'m_subject': 'Amsterdam_Airport_Schiphol',\n",
       "  'm_predicate': '5th_runway_SurfaceType',\n",
       "  'm_object': '\"Asphalt\"'}]"
      ]
     },
     "execution_count": 21,
     "metadata": {},
     "output_type": "execute_result"
    }
   ],
   "source": [
    "e.get_data()"
   ]
  },
  {
   "cell_type": "code",
   "execution_count": 23,
   "metadata": {},
   "outputs": [
    {
     "data": {
      "text/plain": [
       "Triple info: {'category': 'Airport', 'eid': 'Id11', 'idx': '0_10', 'ntriples': 1}\n",
       "\n",
       "\tModified triples:\n",
       "\n",
       "Amsterdam_Airport_Schiphol | 5th_runway_SurfaceType | \"Asphalt\"\n",
       "\n",
       "\n",
       "\tLexicalizations:\n",
       "\n",
       "The 5th runway at Amsterdam airport Schiphol has an asphalt surfacing.\n",
       "The fifth runway of Amsterdam Airport Schiphol has an asphalt surface.\n",
       "The 5th runway of the Amsterdam Airport Schiphol is asphalt."
      ]
     },
     "execution_count": 23,
     "metadata": {},
     "output_type": "execute_result"
    }
   ],
   "source": [
    "test_with_lex.sample(idx='0_10')"
   ]
  },
  {
   "cell_type": "markdown",
   "metadata": {},
   "source": [
    "<img src='../img/bad_template.jpg' />"
   ]
  },
  {
   "cell_type": "markdown",
   "metadata": {},
   "source": [
    "Last model verbalization:\n",
    "\n",
    "The fourth runway at Schiphol Airport in Amsterdam Airport Schuphol Asphalt."
   ]
  },
  {
   "cell_type": "code",
   "execution_count": null,
   "metadata": {},
   "outputs": [],
   "source": []
  }
 ],
 "metadata": {
  "kernelspec": {
   "display_name": "Python 3",
   "language": "python",
   "name": "python3"
  },
  "language_info": {
   "codemirror_mode": {
    "name": "ipython",
    "version": 3
   },
   "file_extension": ".py",
   "mimetype": "text/x-python",
   "name": "python",
   "nbconvert_exporter": "python",
   "pygments_lexer": "ipython3",
   "version": "3.6.5"
  }
 },
 "nbformat": 4,
 "nbformat_minor": 2
}
