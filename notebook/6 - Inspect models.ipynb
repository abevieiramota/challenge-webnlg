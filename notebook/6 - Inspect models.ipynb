{
 "cells": [
  {
   "cell_type": "code",
   "execution_count": 178,
   "metadata": {},
   "outputs": [],
   "source": [
    "import warnings\n",
    "warnings.filterwarnings(\"ignore\")\n",
    "import os\n",
    "\n",
    "os.sys.path.insert(0, '../script')\n",
    "\n",
    "from config import *\n",
    "from webnlg import *"
   ]
  },
  {
   "cell_type": "code",
   "execution_count": 179,
   "metadata": {},
   "outputs": [
    {
     "data": {
      "text/plain": [
       "['../data/models/5 - Model - Template Based - roots_3ae48a5d03a715d609dc8d73f82ac5682cba128d.txt',\n",
       " '../data/models/5 - Model - Template Based - roots_4e9245cbbc05e4fdf0de404fbada20d8294127b2.txt',\n",
       " '../data/models/5 - Model - Template Based - roots_55f9d82b420c5cbc6a01d5a65082414b87a81195.txt']"
      ]
     },
     "execution_count": 179,
     "metadata": {},
     "output_type": "execute_result"
    }
   ],
   "source": [
    "my_models_paths = !ls -d -1 ../data/models/*.txt\n",
    "\n",
    "my_models_paths"
   ]
  },
  {
   "cell_type": "code",
   "execution_count": 180,
   "metadata": {},
   "outputs": [
    {
     "data": {
      "text/plain": [
       "['../data/models/5 - Model - Template Based - roots_3ae48a5d03a715d609dc8d73f82ac5682cba128d.txt',\n",
       " '../data/models/5 - Model - Template Based - roots_4e9245cbbc05e4fdf0de404fbada20d8294127b2.txt',\n",
       " '../data/models/5 - Model - Template Based - roots_55f9d82b420c5cbc6a01d5a65082414b87a81195.txt',\n",
       " '../data/webnlg2017/submissions/adaptCenter/ADAPTcentreWebNLGsubmission.txt',\n",
       " '../data/webnlg2017/submissions/melbourne/final_result.txt',\n",
       " '../data/webnlg2017/submissions/pkuwriter/PKUWriter_results.txt',\n",
       " '../data/webnlg2017/submissions/tilburg/nmt_test.out.ordered',\n",
       " '../data/webnlg2017/submissions/tilburg/smt_test.out.ordered',\n",
       " '../data/webnlg2017/submissions/tilburg/template_test.out.ordered',\n",
       " '../data/webnlg2017/submissions/uit-danglt-clnlp/Submission-UIT-DANGNT-CLNLP.txt',\n",
       " '../data/webnlg2017/submissions/upf/UPF_All_sent_final.txt',\n",
       " '../data/webnlg2017/submissions/baseline_sorted.txt']"
      ]
     },
     "execution_count": 180,
     "metadata": {},
     "output_type": "execute_result"
    }
   ],
   "source": [
    "models_paths = my_models_paths + SUBMISSIONS_FILEPATHS\n",
    "models_paths"
   ]
  },
  {
   "cell_type": "code",
   "execution_count": 181,
   "metadata": {},
   "outputs": [],
   "source": [
    "model_results = {}\n",
    "\n",
    "for model_path in models_paths:\n",
    "    \n",
    "    with open(model_path) as f:\n",
    "        \n",
    "        model_results[model_path] = [line[:-1] for line in f]"
   ]
  },
  {
   "cell_type": "code",
   "execution_count": 182,
   "metadata": {},
   "outputs": [],
   "source": [
    "import pandas as pd\n",
    "pd.set_option('max_colwidth', 1000)\n",
    "from nltk.translate.bleu_score import sentence_bleu\n",
    "\n",
    "lex = WebNLGCorpus.load(\"test_with_lex\")\n",
    "\n",
    "s_multiwordexpressions = lex.mdf.m_subject.str.lower().str.replace('_', ' ').str.split().tolist()\n",
    "o_multiwordexpressions = lex.mdf.m_object.str.lower().str.replace('_', ' ').str.split().tolist()\n",
    "\n",
    "all_multiwordexpressions = s_multiwordexpressions + o_multiwordexpressions\n",
    "all_multiwordexpressions = list(set([tuple(s) for s in all_multiwordexpressions]))\n",
    "\n",
    "from nltk.tokenize.mwe import MWETokenizer\n",
    "\n",
    "t = MWETokenizer(all_multiwordexpressions)\n",
    "\n",
    "from textacy.preprocess import preprocess_text\n",
    "\n",
    "def preprocess(ref):\n",
    "    \n",
    "    ref = preprocess_text(ref, no_accents=True, lowercase=True, no_punct=True)\n",
    "    \n",
    "    return t.tokenize(ref.split())\n",
    "\n",
    "\n",
    "def print_entry_and_models(e):\n",
    "    \n",
    "    print(e)\n",
    "    print('\\n')\n",
    "    \n",
    "    idx = int(e.idx().split('_')[1])\n",
    "    \n",
    "    references = [preprocess(ref) for ref in e.ldf.ltext.tolist()]\n",
    "    \n",
    "    texts = []\n",
    "    bleus = []\n",
    "    \n",
    "    for model_path in models_paths:\n",
    "        \n",
    "        model_text = model_results[model_path][idx]\n",
    "        \n",
    "        bleu = sentence_bleu(references, preprocess(model_text))\n",
    "        \n",
    "        texts.append(model_text)\n",
    "        bleus.append(bleu)\n",
    "        \n",
    "    models_names = [model_path.split('/')[-1] for model_path in models_paths]\n",
    "        \n",
    "    return pd.DataFrame({'models': models_names,\n",
    "                         'texts': texts,\n",
    "                         'bleu': bleus}).sort_values('bleu', ascending=False)"
   ]
  },
  {
   "cell_type": "code",
   "execution_count": 183,
   "metadata": {},
   "outputs": [],
   "source": [
    "test_with_lex = WebNLGCorpus.load('test_with_lex')"
   ]
  },
  {
   "cell_type": "code",
   "execution_count": 184,
   "metadata": {},
   "outputs": [],
   "source": [
    "entries = list(test_with_lex)"
   ]
  },
  {
   "cell_type": "code",
   "execution_count": 185,
   "metadata": {},
   "outputs": [],
   "source": [
    "i = 0"
   ]
  },
  {
   "cell_type": "code",
   "execution_count": 189,
   "metadata": {},
   "outputs": [
    {
     "name": "stdout",
     "output_type": "stream",
     "text": [
      "Triple info: {'category': 'Airport', 'eid': 'Id4', 'idx': '0_3', 'ntriples': 1}\n",
      "\n",
      "\tModified triples:\n",
      "\n",
      "Afonso_Pena_International_Airport | ICAO_Location_Identifier | \"SBCT\"\n",
      "\n",
      "\n",
      "\tLexicalizations:\n",
      "\n",
      "Afonso Pena International Airport ICAO Location Idenitifier is SBCT.\n",
      "SBCT is the ICAO location identifier of Afonso Pena International Airport.\n",
      "\n",
      "\n",
      "foi\n"
     ]
    }
   ],
   "source": [
    "e = entries[i]\n",
    "i += 1\n",
    "\n",
    "df = print_entry_and_models(e)\n",
    "\n",
    "my_model_bleu = df[df.models == '5 - Model - Template Based - roots_3ae48a5d03a715d609dc8d73f82ac5682cba128d.txt'].bleu.values[0]\n",
    "\n",
    "if df.bleu.max() - my_model_bleu > .5:\n",
    "    \n",
    "    print('foi')"
   ]
  },
  {
   "cell_type": "code",
   "execution_count": 190,
   "metadata": {},
   "outputs": [
    {
     "data": {
      "text/html": [
       "<div>\n",
       "<style scoped>\n",
       "    .dataframe tbody tr th:only-of-type {\n",
       "        vertical-align: middle;\n",
       "    }\n",
       "\n",
       "    .dataframe tbody tr th {\n",
       "        vertical-align: top;\n",
       "    }\n",
       "\n",
       "    .dataframe thead th {\n",
       "        text-align: right;\n",
       "    }\n",
       "</style>\n",
       "<table border=\"1\" class=\"dataframe\">\n",
       "  <thead>\n",
       "    <tr style=\"text-align: right;\">\n",
       "      <th></th>\n",
       "      <th>bleu</th>\n",
       "      <th>models</th>\n",
       "      <th>texts</th>\n",
       "    </tr>\n",
       "  </thead>\n",
       "  <tbody>\n",
       "    <tr>\n",
       "      <th>9</th>\n",
       "      <td>1.000000e+00</td>\n",
       "      <td>Submission-UIT-DANGNT-CLNLP.txt</td>\n",
       "      <td>sbct is the icao location identifier of afonso pena international airport , .</td>\n",
       "    </tr>\n",
       "    <tr>\n",
       "      <th>1</th>\n",
       "      <td>7.652059e-01</td>\n",
       "      <td>5 - Model - Template Based - roots_4e9245cbbc05e4fdf0de404fbada20d8294127b2.txt</td>\n",
       "      <td>The ICAO Location Identifier of Afonso Pena International Airport is SBCT.</td>\n",
       "    </tr>\n",
       "    <tr>\n",
       "      <th>4</th>\n",
       "      <td>7.652059e-01</td>\n",
       "      <td>final_result.txt</td>\n",
       "      <td>the icao location identifier of afonso pena international airport is sbct .</td>\n",
       "    </tr>\n",
       "    <tr>\n",
       "      <th>5</th>\n",
       "      <td>7.652059e-01</td>\n",
       "      <td>PKUWriter_results.txt</td>\n",
       "      <td>the icao location identifier of afonso pena international airport is sbct .</td>\n",
       "    </tr>\n",
       "    <tr>\n",
       "      <th>11</th>\n",
       "      <td>7.652059e-01</td>\n",
       "      <td>baseline_sorted.txt</td>\n",
       "      <td>the icao location identifier of afonso pena international airport is sbct .</td>\n",
       "    </tr>\n",
       "    <tr>\n",
       "      <th>10</th>\n",
       "      <td>5.307712e-01</td>\n",
       "      <td>UPF_All_sent_final.txt</td>\n",
       "      <td>the icao location identifier of the afonso pena international airport is sbct .</td>\n",
       "    </tr>\n",
       "    <tr>\n",
       "      <th>2</th>\n",
       "      <td>9.712949e-78</td>\n",
       "      <td>5 - Model - Template Based - roots_55f9d82b420c5cbc6a01d5a65082414b87a81195.txt</td>\n",
       "      <td>Afonso Pena International Airport ICAO Location Identifier is SBCT.</td>\n",
       "    </tr>\n",
       "    <tr>\n",
       "      <th>3</th>\n",
       "      <td>6.608447e-78</td>\n",
       "      <td>ADAPTcentreWebNLGsubmission.txt</td>\n",
       "      <td>afonso pena international airport 's icao location identifier is sbct .</td>\n",
       "    </tr>\n",
       "    <tr>\n",
       "      <th>7</th>\n",
       "      <td>6.206022e-78</td>\n",
       "      <td>smt_test.out.ordered</td>\n",
       "      <td>sbct airport 's icao location identifier .</td>\n",
       "    </tr>\n",
       "    <tr>\n",
       "      <th>6</th>\n",
       "      <td>1.090574e-154</td>\n",
       "      <td>nmt_test.out.ordered</td>\n",
       "      <td>the location identifier for afonso pena international airport is sbct .</td>\n",
       "    </tr>\n",
       "    <tr>\n",
       "      <th>8</th>\n",
       "      <td>1.090574e-154</td>\n",
       "      <td>template_test.out.ordered</td>\n",
       "      <td>The location identifier for afonso pena international airport is sbct .</td>\n",
       "    </tr>\n",
       "    <tr>\n",
       "      <th>0</th>\n",
       "      <td>9.530911e-155</td>\n",
       "      <td>5 - Model - Template Based - roots_3ae48a5d03a715d609dc8d73f82ac5682cba128d.txt</td>\n",
       "      <td>Afonso Pena International Airport SBCT Location Identifier is KABI.</td>\n",
       "    </tr>\n",
       "  </tbody>\n",
       "</table>\n",
       "</div>"
      ],
      "text/plain": [
       "             bleu  \\\n",
       "9    1.000000e+00   \n",
       "1    7.652059e-01   \n",
       "4    7.652059e-01   \n",
       "5    7.652059e-01   \n",
       "11   7.652059e-01   \n",
       "10   5.307712e-01   \n",
       "2    9.712949e-78   \n",
       "3    6.608447e-78   \n",
       "7    6.206022e-78   \n",
       "6   1.090574e-154   \n",
       "8   1.090574e-154   \n",
       "0   9.530911e-155   \n",
       "\n",
       "                                                                             models  \\\n",
       "9                                                   Submission-UIT-DANGNT-CLNLP.txt   \n",
       "1   5 - Model - Template Based - roots_4e9245cbbc05e4fdf0de404fbada20d8294127b2.txt   \n",
       "4                                                                  final_result.txt   \n",
       "5                                                             PKUWriter_results.txt   \n",
       "11                                                              baseline_sorted.txt   \n",
       "10                                                           UPF_All_sent_final.txt   \n",
       "2   5 - Model - Template Based - roots_55f9d82b420c5cbc6a01d5a65082414b87a81195.txt   \n",
       "3                                                   ADAPTcentreWebNLGsubmission.txt   \n",
       "7                                                              smt_test.out.ordered   \n",
       "6                                                              nmt_test.out.ordered   \n",
       "8                                                         template_test.out.ordered   \n",
       "0   5 - Model - Template Based - roots_3ae48a5d03a715d609dc8d73f82ac5682cba128d.txt   \n",
       "\n",
       "                                                                              texts  \n",
       "9     sbct is the icao location identifier of afonso pena international airport , .  \n",
       "1        The ICAO Location Identifier of Afonso Pena International Airport is SBCT.  \n",
       "4       the icao location identifier of afonso pena international airport is sbct .  \n",
       "5       the icao location identifier of afonso pena international airport is sbct .  \n",
       "11      the icao location identifier of afonso pena international airport is sbct .  \n",
       "10  the icao location identifier of the afonso pena international airport is sbct .  \n",
       "2               Afonso Pena International Airport ICAO Location Identifier is SBCT.  \n",
       "3           afonso pena international airport 's icao location identifier is sbct .  \n",
       "7                                       sbct airport 's icao location identifier .   \n",
       "6          the location identifier for afonso pena international airport is sbct .   \n",
       "8          The location identifier for afonso pena international airport is sbct .   \n",
       "0               Afonso Pena International Airport SBCT Location Identifier is KABI.  "
      ]
     },
     "execution_count": 190,
     "metadata": {},
     "output_type": "execute_result"
    }
   ],
   "source": [
    "df"
   ]
  },
  {
   "cell_type": "code",
   "execution_count": 191,
   "metadata": {},
   "outputs": [
    {
     "data": {
      "text/plain": [
       "[{'m_subject': 'Afonso_Pena_International_Airport',\n",
       "  'm_predicate': 'ICAO_Location_Identifier',\n",
       "  'm_object': '\"SBCT\"'}]"
      ]
     },
     "execution_count": 191,
     "metadata": {},
     "output_type": "execute_result"
    }
   ],
   "source": [
    "e.get_data()"
   ]
  },
  {
   "cell_type": "code",
   "execution_count": null,
   "metadata": {},
   "outputs": [],
   "source": []
  }
 ],
 "metadata": {
  "kernelspec": {
   "display_name": "Python 3",
   "language": "python",
   "name": "python3"
  },
  "language_info": {
   "codemirror_mode": {
    "name": "ipython",
    "version": 3
   },
   "file_extension": ".py",
   "mimetype": "text/x-python",
   "name": "python",
   "nbconvert_exporter": "python",
   "pygments_lexer": "ipython3",
   "version": "3.6.5"
  }
 },
 "nbformat": 4,
 "nbformat_minor": 2
}
