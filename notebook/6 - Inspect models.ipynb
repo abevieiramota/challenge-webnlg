{
 "cells": [
  {
   "cell_type": "code",
   "execution_count": 1,
   "metadata": {},
   "outputs": [],
   "source": [
    "import warnings\n",
    "warnings.filterwarnings(\"ignore\")\n",
    "import os\n",
    "\n",
    "os.sys.path.insert(0, '../script')\n",
    "\n",
    "from config import *\n",
    "from webnlg import *"
   ]
  },
  {
   "cell_type": "code",
   "execution_count": 2,
   "metadata": {},
   "outputs": [
    {
     "data": {
      "text/plain": [
       "['../data/models/5 - Model - Template Based - roots_4e9245cbbc05e4fdf0de404fbada20d8294127b2.txt']"
      ]
     },
     "execution_count": 2,
     "metadata": {},
     "output_type": "execute_result"
    }
   ],
   "source": [
    "my_models_paths = !ls -d -1 ../data/models/*.txt\n",
    "\n",
    "my_models_paths"
   ]
  },
  {
   "cell_type": "code",
   "execution_count": 3,
   "metadata": {},
   "outputs": [
    {
     "data": {
      "text/plain": [
       "['../data/models/5 - Model - Template Based - roots_4e9245cbbc05e4fdf0de404fbada20d8294127b2.txt',\n",
       " '../data/webnlg2017/submissions/adaptCenter/ADAPTcentreWebNLGsubmission.txt',\n",
       " '../data/webnlg2017/submissions/melbourne/final_result.txt',\n",
       " '../data/webnlg2017/submissions/pkuwriter/PKUWriter_results.txt',\n",
       " '../data/webnlg2017/submissions/tilburg/nmt_test.out.ordered',\n",
       " '../data/webnlg2017/submissions/tilburg/smt_test.out.ordered',\n",
       " '../data/webnlg2017/submissions/tilburg/template_test.out.ordered',\n",
       " '../data/webnlg2017/submissions/uit-danglt-clnlp/Submission-UIT-DANGNT-CLNLP.txt',\n",
       " '../data/webnlg2017/submissions/upf/UPF_All_sent_final.txt',\n",
       " '../data/webnlg2017/submissions/baseline_sorted.txt']"
      ]
     },
     "execution_count": 3,
     "metadata": {},
     "output_type": "execute_result"
    }
   ],
   "source": [
    "models_paths = my_models_paths + SUBMISSIONS_FILEPATHS\n",
    "models_paths"
   ]
  },
  {
   "cell_type": "code",
   "execution_count": 4,
   "metadata": {},
   "outputs": [],
   "source": [
    "model_results = {}\n",
    "\n",
    "for model_path in models_paths:\n",
    "    \n",
    "    with open(model_path) as f:\n",
    "        \n",
    "        model_results[model_path] = [line[:-1] for line in f]"
   ]
  },
  {
   "cell_type": "code",
   "execution_count": 5,
   "metadata": {},
   "outputs": [],
   "source": [
    "import pandas as pd\n",
    "pd.set_option('max_colwidth', 1000)\n",
    "from nltk.translate.bleu_score import sentence_bleu\n",
    "\n",
    "lex = WebNLGCorpus.load(\"test_with_lex\")\n",
    "\n",
    "s_multiwordexpressions = lex.mdf.m_subject.str.lower().str.replace('_', ' ').str.split().tolist()\n",
    "o_multiwordexpressions = lex.mdf.m_object.str.lower().str.replace('_', ' ').str.split().tolist()\n",
    "\n",
    "all_multiwordexpressions = s_multiwordexpressions + o_multiwordexpressions\n",
    "all_multiwordexpressions = list(set([tuple(s) for s in all_multiwordexpressions]))\n",
    "\n",
    "from nltk.tokenize.mwe import MWETokenizer\n",
    "\n",
    "t = MWETokenizer(all_multiwordexpressions)\n",
    "\n",
    "from textacy.preprocess import preprocess_text\n",
    "\n",
    "def preprocess(ref):\n",
    "    \n",
    "    ref = preprocess_text(ref, no_accents=True, lowercase=True, no_punct=True)\n",
    "    \n",
    "    return t.tokenize(ref.split())\n",
    "\n",
    "\n",
    "def print_entry_and_models(e):\n",
    "    \n",
    "    print(e)\n",
    "    print('\\n')\n",
    "    \n",
    "    idx = int(e.idx().split('_')[1])\n",
    "    \n",
    "    references = [preprocess(ref) for ref in e.ldf.ltext.tolist()]\n",
    "    \n",
    "    texts = []\n",
    "    bleus = []\n",
    "    \n",
    "    for model_path in models_paths:\n",
    "        \n",
    "        model_text = model_results[model_path][idx]\n",
    "        \n",
    "        bleu = sentence_bleu(references, preprocess(model_text))\n",
    "        \n",
    "        texts.append(model_text)\n",
    "        bleus.append(bleu)\n",
    "        \n",
    "    models_names = [model_path.split('/')[-1] for model_path in models_paths]\n",
    "        \n",
    "    return pd.DataFrame({'models': models_names,\n",
    "                         'texts': texts,\n",
    "                         'bleu': bleus}).sort_values('bleu', ascending=False)"
   ]
  },
  {
   "cell_type": "code",
   "execution_count": 6,
   "metadata": {},
   "outputs": [],
   "source": [
    "test_with_lex = WebNLGCorpus.load('test_with_lex')"
   ]
  },
  {
   "cell_type": "code",
   "execution_count": 13,
   "metadata": {},
   "outputs": [
    {
     "name": "stdout",
     "output_type": "stream",
     "text": [
      "Triple info: {'category': 'Building', 'eid': 'Id382', 'idx': '0_381', 'ntriples': 2}\n",
      "\n",
      "\tModified triples:\n",
      "\n",
      "3Arena | location | Dublin\n",
      "3Arena | architect | Populous_(company)\n",
      "\n",
      "\n",
      "\tLexicalizations:\n",
      "\n",
      "The 3Arena, which was designed by the architect company Populous, is located in Dublin.\n",
      "The 3Arena, designed by Populous, is located in Dublin.\n",
      "3Arena is located in Dublin, which was built by the company Populous.\n",
      "\n",
      "\n"
     ]
    }
   ],
   "source": [
    "e = test_with_lex.sample()\n",
    "\n",
    "df = print_entry_and_models(e)"
   ]
  },
  {
   "cell_type": "code",
   "execution_count": 14,
   "metadata": {},
   "outputs": [
    {
     "data": {
      "text/html": [
       "<div>\n",
       "<style scoped>\n",
       "    .dataframe tbody tr th:only-of-type {\n",
       "        vertical-align: middle;\n",
       "    }\n",
       "\n",
       "    .dataframe tbody tr th {\n",
       "        vertical-align: top;\n",
       "    }\n",
       "\n",
       "    .dataframe thead th {\n",
       "        text-align: right;\n",
       "    }\n",
       "</style>\n",
       "<table border=\"1\" class=\"dataframe\">\n",
       "  <thead>\n",
       "    <tr style=\"text-align: right;\">\n",
       "      <th></th>\n",
       "      <th>bleu</th>\n",
       "      <th>models</th>\n",
       "      <th>texts</th>\n",
       "    </tr>\n",
       "  </thead>\n",
       "  <tbody>\n",
       "    <tr>\n",
       "      <th>1</th>\n",
       "      <td>8.118741e-01</td>\n",
       "      <td>ADAPTcentreWebNLGsubmission.txt</td>\n",
       "      <td>the 3arena , designed by the company populous , is located in dublin .</td>\n",
       "    </tr>\n",
       "    <tr>\n",
       "      <th>3</th>\n",
       "      <td>6.053287e-01</td>\n",
       "      <td>PKUWriter_results.txt</td>\n",
       "      <td>3arena is located in dublin and was designed by the architect populous ( company ) .</td>\n",
       "    </tr>\n",
       "    <tr>\n",
       "      <th>8</th>\n",
       "      <td>6.313993e-78</td>\n",
       "      <td>UPF_All_sent_final.txt</td>\n",
       "      <td>3arena , which the company populous designed , is in dublin .</td>\n",
       "    </tr>\n",
       "    <tr>\n",
       "      <th>5</th>\n",
       "      <td>5.572079e-78</td>\n",
       "      <td>smt_test.out.ordered</td>\n",
       "      <td>architect was the company populous . 3arena in dublin</td>\n",
       "    </tr>\n",
       "    <tr>\n",
       "      <th>7</th>\n",
       "      <td>4.601359e-78</td>\n",
       "      <td>Submission-UIT-DANGNT-CLNLP.txt</td>\n",
       "      <td>populous ( company ) was the architect of the 3arena , which is located at the dublin .</td>\n",
       "    </tr>\n",
       "    <tr>\n",
       "      <th>2</th>\n",
       "      <td>1.030133e-154</td>\n",
       "      <td>final_result.txt</td>\n",
       "      <td>populous is the architect of 3arena in dublin .</td>\n",
       "    </tr>\n",
       "    <tr>\n",
       "      <th>0</th>\n",
       "      <td>9.905379e-155</td>\n",
       "      <td>5 - Model - Template Based - roots_4e9245cbbc05e4fdf0de404fbada20d8294127b2.txt</td>\n",
       "      <td>3Arena is Dublin. The architect of , is Populous (company).</td>\n",
       "    </tr>\n",
       "    <tr>\n",
       "      <th>4</th>\n",
       "      <td>9.587021e-155</td>\n",
       "      <td>nmt_test.out.ordered</td>\n",
       "      <td>populous was the architect of 3arena which is located at '' dublin '' .</td>\n",
       "    </tr>\n",
       "    <tr>\n",
       "      <th>9</th>\n",
       "      <td>7.827317e-155</td>\n",
       "      <td>baseline_sorted.txt</td>\n",
       "      <td>the architect of 3arena , dublin , was populous ( company ) .</td>\n",
       "    </tr>\n",
       "    <tr>\n",
       "      <th>6</th>\n",
       "      <td>5.219636e-232</td>\n",
       "      <td>template_test.out.ordered</td>\n",
       "      <td>populous designed 3arena , dublin .</td>\n",
       "    </tr>\n",
       "  </tbody>\n",
       "</table>\n",
       "</div>"
      ],
      "text/plain": [
       "            bleu  \\\n",
       "1   8.118741e-01   \n",
       "3   6.053287e-01   \n",
       "8   6.313993e-78   \n",
       "5   5.572079e-78   \n",
       "7   4.601359e-78   \n",
       "2  1.030133e-154   \n",
       "0  9.905379e-155   \n",
       "4  9.587021e-155   \n",
       "9  7.827317e-155   \n",
       "6  5.219636e-232   \n",
       "\n",
       "                                                                            models  \\\n",
       "1                                                  ADAPTcentreWebNLGsubmission.txt   \n",
       "3                                                            PKUWriter_results.txt   \n",
       "8                                                           UPF_All_sent_final.txt   \n",
       "5                                                             smt_test.out.ordered   \n",
       "7                                                  Submission-UIT-DANGNT-CLNLP.txt   \n",
       "2                                                                 final_result.txt   \n",
       "0  5 - Model - Template Based - roots_4e9245cbbc05e4fdf0de404fbada20d8294127b2.txt   \n",
       "4                                                             nmt_test.out.ordered   \n",
       "9                                                              baseline_sorted.txt   \n",
       "6                                                        template_test.out.ordered   \n",
       "\n",
       "                                                                                     texts  \n",
       "1                   the 3arena , designed by the company populous , is located in dublin .  \n",
       "3     3arena is located in dublin and was designed by the architect populous ( company ) .  \n",
       "8                            3arena , which the company populous designed , is in dublin .  \n",
       "5                                   architect was the company populous . 3arena in dublin   \n",
       "7  populous ( company ) was the architect of the 3arena , which is located at the dublin .  \n",
       "2                                          populous is the architect of 3arena in dublin .  \n",
       "0                              3Arena is Dublin. The architect of , is Populous (company).  \n",
       "4                 populous was the architect of 3arena which is located at '' dublin '' .   \n",
       "9                            the architect of 3arena , dublin , was populous ( company ) .  \n",
       "6                                                     populous designed 3arena , dublin .   "
      ]
     },
     "execution_count": 14,
     "metadata": {},
     "output_type": "execute_result"
    }
   ],
   "source": [
    "df"
   ]
  },
  {
   "cell_type": "code",
   "execution_count": null,
   "metadata": {},
   "outputs": [],
   "source": []
  }
 ],
 "metadata": {
  "kernelspec": {
   "display_name": "Python 3",
   "language": "python",
   "name": "python3"
  },
  "language_info": {
   "codemirror_mode": {
    "name": "ipython",
    "version": 3
   },
   "file_extension": ".py",
   "mimetype": "text/x-python",
   "name": "python",
   "nbconvert_exporter": "python",
   "pygments_lexer": "ipython3",
   "version": "3.6.5"
  }
 },
 "nbformat": 4,
 "nbformat_minor": 2
}
