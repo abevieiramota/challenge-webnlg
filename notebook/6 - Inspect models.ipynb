{
 "cells": [
  {
   "cell_type": "code",
   "execution_count": 1,
   "metadata": {},
   "outputs": [],
   "source": [
    "import warnings\n",
    "warnings.filterwarnings(\"ignore\")"
   ]
  },
  {
   "cell_type": "code",
   "execution_count": 2,
   "metadata": {},
   "outputs": [],
   "source": [
    "%run ../script/config.py"
   ]
  },
  {
   "cell_type": "code",
   "execution_count": 36,
   "metadata": {},
   "outputs": [
    {
     "data": {
      "text/plain": [
       "['../data/models/4 - Baseline - Just join triples_e089e6d2328637218601e68ee1216f624e70d78f.txt',\n",
       " '../data/models/5 - Model - Template Based - roots_68ac39512ab8a4825bd4174fc6e2e1165446677e.txt']"
      ]
     },
     "execution_count": 36,
     "metadata": {},
     "output_type": "execute_result"
    }
   ],
   "source": [
    "my_models_paths = !ls -d -1 ../data/models/*.txt\n",
    "\n",
    "my_models_paths"
   ]
  },
  {
   "cell_type": "code",
   "execution_count": 37,
   "metadata": {},
   "outputs": [
    {
     "data": {
      "text/plain": [
       "['../data/models/4 - Baseline - Just join triples_e089e6d2328637218601e68ee1216f624e70d78f.txt',\n",
       " '../data/models/5 - Model - Template Based - roots_68ac39512ab8a4825bd4174fc6e2e1165446677e.txt',\n",
       " '../data/webnlg2017/submissions/adaptCenter/ADAPTcentreWebNLGsubmission.txt',\n",
       " '../data/webnlg2017/submissions/melbourne/final_result.txt',\n",
       " '../data/webnlg2017/submissions/pkuwriter/PKUWriter_results.txt',\n",
       " '../data/webnlg2017/submissions/tilburg/nmt_test.out.ordered',\n",
       " '../data/webnlg2017/submissions/tilburg/smt_test.out.ordered',\n",
       " '../data/webnlg2017/submissions/tilburg/template_test.out.ordered',\n",
       " '../data/webnlg2017/submissions/uit-danglt-clnlp/Submission-UIT-DANGNT-CLNLP.txt',\n",
       " '../data/webnlg2017/submissions/upf/UPF_All_sent_final.txt',\n",
       " '../data/webnlg2017/submissions/baseline_sorted.txt']"
      ]
     },
     "execution_count": 37,
     "metadata": {},
     "output_type": "execute_result"
    }
   ],
   "source": [
    "models_paths = my_models_paths + SUBMISSIONS_FILEPATHS\n",
    "models_paths"
   ]
  },
  {
   "cell_type": "code",
   "execution_count": 38,
   "metadata": {},
   "outputs": [],
   "source": [
    "model_results = {}\n",
    "\n",
    "for model_path in models_paths:\n",
    "    \n",
    "    with open(model_path) as f:\n",
    "        \n",
    "        model_results[model_path] = [line[:-1] for line in f]"
   ]
  },
  {
   "cell_type": "code",
   "execution_count": 6,
   "metadata": {},
   "outputs": [],
   "source": [
    "%run ../script/webnlg.py"
   ]
  },
  {
   "cell_type": "code",
   "execution_count": 7,
   "metadata": {},
   "outputs": [],
   "source": [
    "import pandas as pd\n",
    "pd.set_option('max_colwidth', 1000)\n",
    "from nltk.translate.bleu_score import sentence_bleu\n",
    "\n",
    "lex = WebNLGCorpus.load(\"test_with_lex\")\n",
    "\n",
    "s_multiwordexpressions = lex.mdf.m_subject.str.lower().str.replace('_', ' ').str.split().tolist()\n",
    "o_multiwordexpressions = lex.mdf.m_object.str.lower().str.replace('_', ' ').str.split().tolist()\n",
    "\n",
    "all_multiwordexpressions = s_multiwordexpressions + o_multiwordexpressions\n",
    "all_multiwordexpressions = list(set([tuple(s) for s in all_multiwordexpressions]))\n",
    "\n",
    "from nltk.tokenize.mwe import MWETokenizer\n",
    "\n",
    "t = MWETokenizer(all_multiwordexpressions)\n",
    "\n",
    "from textacy.preprocess import preprocess_text\n",
    "\n",
    "def preprocess(ref):\n",
    "    \n",
    "    ref = preprocess_text(ref, no_accents=True, lowercase=True, no_punct=True)\n",
    "    \n",
    "    return t.tokenize(ref.split())\n",
    "\n",
    "\n",
    "def print_entry_and_models(e):\n",
    "    \n",
    "    print(e)\n",
    "    print('\\n')\n",
    "    \n",
    "    idx = int(e.idx().split('_')[1])\n",
    "    \n",
    "    references = [preprocess(ref) for ref in e.ldf.ltext.tolist()]\n",
    "    \n",
    "    texts = []\n",
    "    bleus = []\n",
    "    \n",
    "    for model_path in models_paths:\n",
    "        \n",
    "        model_text = model_results[model_path][idx]\n",
    "        \n",
    "        bleu = sentence_bleu(references, preprocess(model_text))\n",
    "        \n",
    "        texts.append(model_text)\n",
    "        bleus.append(bleu)\n",
    "        \n",
    "    return pd.DataFrame({'models': models_paths,\n",
    "                         'texts': texts,\n",
    "                         'bleu': bleus}).sort_values('bleu', ascending=False)"
   ]
  },
  {
   "cell_type": "code",
   "execution_count": 8,
   "metadata": {},
   "outputs": [],
   "source": [
    "test_with_lex = WebNLGCorpus.load('test_with_lex')"
   ]
  },
  {
   "cell_type": "code",
   "execution_count": 39,
   "metadata": {},
   "outputs": [
    {
     "name": "stdout",
     "output_type": "stream",
     "text": [
      "Triple info: {'category': 'Artist', 'eid': 'Id1461', 'idx': '0_1460', 'ntriples': 3}\n",
      "\n",
      "\tModified triples:\n",
      "\n",
      "Albennie_Jones | genre | Jazz\n",
      "Jazz | stylisticOrigin | Blues\n",
      "Jazz | musicFusionGenre | Afrobeat\n",
      "\n",
      "\n",
      "\tLexicalizations:\n",
      "\n",
      "Albennie Jones plays Jazz music which originated from Blues music. A fusion of Jazz is Afrobeat music.\n",
      "Albennie Jones is a Jazz musician. Jazz comes from Blues music and the Afrobeat is a fusion genre of that music.\n",
      "Albennie Jones plays jazz which originates from Blues music. Afrobeat music also has elements of Jazz.\n",
      "\n",
      "\n"
     ]
    }
   ],
   "source": [
    "e = test_with_lex.sample()\n",
    "\n",
    "df = print_entry_and_models(e)"
   ]
  },
  {
   "cell_type": "code",
   "execution_count": 40,
   "metadata": {},
   "outputs": [
    {
     "data": {
      "text/html": [
       "<div>\n",
       "<style scoped>\n",
       "    .dataframe tbody tr th:only-of-type {\n",
       "        vertical-align: middle;\n",
       "    }\n",
       "\n",
       "    .dataframe tbody tr th {\n",
       "        vertical-align: top;\n",
       "    }\n",
       "\n",
       "    .dataframe thead th {\n",
       "        text-align: right;\n",
       "    }\n",
       "</style>\n",
       "<table border=\"1\" class=\"dataframe\">\n",
       "  <thead>\n",
       "    <tr style=\"text-align: right;\">\n",
       "      <th></th>\n",
       "      <th>bleu</th>\n",
       "      <th>models</th>\n",
       "      <th>texts</th>\n",
       "    </tr>\n",
       "  </thead>\n",
       "  <tbody>\n",
       "    <tr>\n",
       "      <th>4</th>\n",
       "      <td>3.359973e-01</td>\n",
       "      <td>../data/webnlg2017/submissions/pkuwriter/PKUWriter_results.txt</td>\n",
       "      <td>albennie jones belongs to the genre jazz , which originated from blues and was a fusion genre of afrobeat .</td>\n",
       "    </tr>\n",
       "    <tr>\n",
       "      <th>6</th>\n",
       "      <td>1.832557e-01</td>\n",
       "      <td>../data/webnlg2017/submissions/tilburg/smt_test.out.ordered</td>\n",
       "      <td>albennie jones is a jazz jazz stylisticorigin blues jazz musicfusiongenre afrobeat</td>\n",
       "    </tr>\n",
       "    <tr>\n",
       "      <th>1</th>\n",
       "      <td>8.596275e-155</td>\n",
       "      <td>../data/models/5 - Model - Template Based - roots_68ac39512ab8a4825bd4174fc6e2e1165446677e.txt</td>\n",
       "      <td>Albennie Jones is in the genre of Jazz. Jazz stylistic Origin Blues , is in the genre of Afrobeat.</td>\n",
       "    </tr>\n",
       "    <tr>\n",
       "      <th>5</th>\n",
       "      <td>6.590068e-155</td>\n",
       "      <td>../data/webnlg2017/submissions/tilburg/nmt_test.out.ordered</td>\n",
       "      <td>albennie jones is located in the city of afrobeat . albennie jones is affiliated with jazz in blues .</td>\n",
       "    </tr>\n",
       "    <tr>\n",
       "      <th>9</th>\n",
       "      <td>5.574804e-155</td>\n",
       "      <td>../data/webnlg2017/submissions/upf/UPF_All_sent_final.txt</td>\n",
       "      <td>albennie jones plays for jazz , blues has which influenced . it has influenced afrobeat .</td>\n",
       "    </tr>\n",
       "    <tr>\n",
       "      <th>3</th>\n",
       "      <td>4.276455e-155</td>\n",
       "      <td>../data/webnlg2017/submissions/melbourne/final_result.txt</td>\n",
       "      <td>albennie jones ( jazz ) is served by afrobeat and is blues .</td>\n",
       "    </tr>\n",
       "    <tr>\n",
       "      <th>2</th>\n",
       "      <td>2.104296e-155</td>\n",
       "      <td>../data/webnlg2017/submissions/adaptCenter/ADAPTcentreWebNLGsubmission.txt</td>\n",
       "      <td>the commeat is the genre of the genre of the genre of the genre of the genre of the genre of the genre of the genre of the genre of the genre of the genre of the genre of the genre of the genre of the genre of the genre of the genre of the genre of the genre of the genre of the genre of the genre of the genre of the genre of the genre of the genre of the genre of the genre of the genre of the genre of the genre of the genre of the g</td>\n",
       "    </tr>\n",
       "    <tr>\n",
       "      <th>7</th>\n",
       "      <td>2.297401e-156</td>\n",
       "      <td>../data/webnlg2017/submissions/tilburg/template_test.out.ordered</td>\n",
       "      <td>albennie jones is jazz .</td>\n",
       "    </tr>\n",
       "    <tr>\n",
       "      <th>0</th>\n",
       "      <td>8.451929e-232</td>\n",
       "      <td>../data/models/4 - Baseline - Just join triples_e089e6d2328637218601e68ee1216f624e70d78f.txt</td>\n",
       "      <td>Albennie Jones genre Jazz Jazz stylisticOrigin Blues Jazz musicFusionGenre Afrobeat</td>\n",
       "    </tr>\n",
       "    <tr>\n",
       "      <th>10</th>\n",
       "      <td>7.107197e-232</td>\n",
       "      <td>../data/webnlg2017/submissions/baseline_sorted.txt</td>\n",
       "      <td>the port authority of the republic of ireland is the aircrafthelicopter .</td>\n",
       "    </tr>\n",
       "    <tr>\n",
       "      <th>8</th>\n",
       "      <td>0.000000e+00</td>\n",
       "      <td>../data/webnlg2017/submissions/uit-danglt-clnlp/Submission-UIT-DANGNT-CLNLP.txt</td>\n",
       "      <td>null</td>\n",
       "    </tr>\n",
       "  </tbody>\n",
       "</table>\n",
       "</div>"
      ],
      "text/plain": [
       "             bleu  \\\n",
       "4    3.359973e-01   \n",
       "6    1.832557e-01   \n",
       "1   8.596275e-155   \n",
       "5   6.590068e-155   \n",
       "9   5.574804e-155   \n",
       "3   4.276455e-155   \n",
       "2   2.104296e-155   \n",
       "7   2.297401e-156   \n",
       "0   8.451929e-232   \n",
       "10  7.107197e-232   \n",
       "8    0.000000e+00   \n",
       "\n",
       "                                                                                            models  \\\n",
       "4                                   ../data/webnlg2017/submissions/pkuwriter/PKUWriter_results.txt   \n",
       "6                                      ../data/webnlg2017/submissions/tilburg/smt_test.out.ordered   \n",
       "1   ../data/models/5 - Model - Template Based - roots_68ac39512ab8a4825bd4174fc6e2e1165446677e.txt   \n",
       "5                                      ../data/webnlg2017/submissions/tilburg/nmt_test.out.ordered   \n",
       "9                                        ../data/webnlg2017/submissions/upf/UPF_All_sent_final.txt   \n",
       "3                                        ../data/webnlg2017/submissions/melbourne/final_result.txt   \n",
       "2                       ../data/webnlg2017/submissions/adaptCenter/ADAPTcentreWebNLGsubmission.txt   \n",
       "7                                 ../data/webnlg2017/submissions/tilburg/template_test.out.ordered   \n",
       "0     ../data/models/4 - Baseline - Just join triples_e089e6d2328637218601e68ee1216f624e70d78f.txt   \n",
       "10                                              ../data/webnlg2017/submissions/baseline_sorted.txt   \n",
       "8                  ../data/webnlg2017/submissions/uit-danglt-clnlp/Submission-UIT-DANGNT-CLNLP.txt   \n",
       "\n",
       "                                                                                                                                                                                                                                                                                                                                                                                                                                                   texts  \n",
       "4                                                                                                                                                                                                                                                                                                                                            albennie jones belongs to the genre jazz , which originated from blues and was a fusion genre of afrobeat .  \n",
       "6                                                                                                                                                                                                                                                                                                                                                                    albennie jones is a jazz jazz stylisticorigin blues jazz musicfusiongenre afrobeat   \n",
       "1                                                                                                                                                                                                                                                                                                                                                     Albennie Jones is in the genre of Jazz. Jazz stylistic Origin Blues , is in the genre of Afrobeat.  \n",
       "5                                                                                                                                                                                                                                                                                                                                                 albennie jones is located in the city of afrobeat . albennie jones is affiliated with jazz in blues .   \n",
       "9                                                                                                                                                                                                                                                                                                                                                              albennie jones plays for jazz , blues has which influenced . it has influenced afrobeat .  \n",
       "3                                                                                                                                                                                                                                                                                                                                                                                           albennie jones ( jazz ) is served by afrobeat and is blues .  \n",
       "2   the commeat is the genre of the genre of the genre of the genre of the genre of the genre of the genre of the genre of the genre of the genre of the genre of the genre of the genre of the genre of the genre of the genre of the genre of the genre of the genre of the genre of the genre of the genre of the genre of the genre of the genre of the genre of the genre of the genre of the genre of the genre of the genre of the genre of the g  \n",
       "7                                                                                                                                                                                                                                                                                                                                                                                                                              albennie jones is jazz .   \n",
       "0                                                                                                                                                                                                                                                                                                                                                                    Albennie Jones genre Jazz Jazz stylisticOrigin Blues Jazz musicFusionGenre Afrobeat  \n",
       "10                                                                                                                                                                                                                                                                                                                                                                             the port authority of the republic of ireland is the aircrafthelicopter .  \n",
       "8                                                                                                                                                                                                                                                                                                                                                                                                                                                   null  "
      ]
     },
     "execution_count": 40,
     "metadata": {},
     "output_type": "execute_result"
    }
   ],
   "source": [
    "df"
   ]
  },
  {
   "cell_type": "code",
   "execution_count": 29,
   "metadata": {},
   "outputs": [],
   "source": [
    "%run ../script/data_alignment.py\n",
    "\n",
    "import spacy\n",
    "\n",
    "nlp = spacy.load('en_core_web_lg')"
   ]
  },
  {
   "cell_type": "code",
   "execution_count": 42,
   "metadata": {},
   "outputs": [],
   "source": [
    "%run ../script/data_alignment.py"
   ]
  },
  {
   "cell_type": "code",
   "execution_count": 43,
   "metadata": {},
   "outputs": [],
   "source": [
    "da = RootDataAlignmentModel(similarity_metric=similarity.token_sort_ratio)"
   ]
  },
  {
   "cell_type": "code",
   "execution_count": 49,
   "metadata": {},
   "outputs": [
    {
     "data": {
      "text/html": [
       "<div class=\"entities\" style=\"line-height: 2.5\">\n",
       "<mark class=\"entity\" style=\"background: #ddd; padding: 0.45em 0.6em; margin: 0 0.25em; line-height: 1; border-radius: 0.35em; box-decoration-break: clone; -webkit-box-decoration-break: clone\">\n",
       "    Colin Powell\n",
       "    <span style=\"font-size: 0.8em; font-weight: bold; line-height: 1; border-radius: 0.35em; text-transform: uppercase; vertical-align: middle; margin-left: 0.5rem\">m_object: : Colin_Powell</span>\n",
       "</mark>\n",
       " was the commander in \n",
       "<mark class=\"entity\" style=\"background: #ddd; padding: 0.45em 0.6em; margin: 0 0.25em; line-height: 1; border-radius: 0.35em; box-decoration-break: clone; -webkit-box-decoration-break: clone\">\n",
       "    the Gulf War\n",
       "    <span style=\"font-size: 0.8em; font-weight: bold; line-height: 1; border-radius: 0.35em; text-transform: uppercase; vertical-align: middle; margin-left: 0.5rem\">m_subject: Gulf_War</span>\n",
       "</mark>\n",
       ".</div>"
      ],
      "text/plain": [
       "<IPython.core.display.HTML object>"
      ]
     },
     "metadata": {},
     "output_type": "display_data"
    }
   ],
   "source": [
    "first_lexicalization = e.ldf.ltext.values.tolist()[1]\n",
    "# uses the first triple\n",
    "first_triple = e.mdf[['m_subject', 'm_object']].to_dict(orient='records')[0]\n",
    "\n",
    "da.render_aligned(nlp(first_lexicalization), first_triple)"
   ]
  },
  {
   "cell_type": "code",
   "execution_count": null,
   "metadata": {},
   "outputs": [],
   "source": []
  }
 ],
 "metadata": {
  "kernelspec": {
   "display_name": "Python 3",
   "language": "python",
   "name": "python3"
  },
  "language_info": {
   "codemirror_mode": {
    "name": "ipython",
    "version": 3
   },
   "file_extension": ".py",
   "mimetype": "text/x-python",
   "name": "python",
   "nbconvert_exporter": "python",
   "pygments_lexer": "ipython3",
   "version": "3.6.5"
  }
 },
 "nbformat": 4,
 "nbformat_minor": 2
}
