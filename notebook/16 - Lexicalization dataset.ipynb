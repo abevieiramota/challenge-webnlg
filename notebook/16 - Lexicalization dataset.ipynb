{
 "cells": [
  {
   "cell_type": "code",
   "execution_count": 7,
   "metadata": {},
   "outputs": [],
   "source": [
    "import os\n",
    "os.sys.path.insert(0, '../script')\n",
    "from webnlg import WebNLGCorpus\n",
    "import re"
   ]
  },
  {
   "cell_type": "code",
   "execution_count": 219,
   "metadata": {},
   "outputs": [],
   "source": [
    "v_12 = WebNLGCorpus.load(['train_1.2', 'dev_1.2'])"
   ]
  },
  {
   "cell_type": "code",
   "execution_count": 81,
   "metadata": {},
   "outputs": [],
   "source": [
    "from functools import partial\n",
    "\n",
    "class Replacer:\n",
    "    \n",
    "    def __init__(self):\n",
    "        self._i = -1\n",
    "        \n",
    "    def replace_sop(self, m):\n",
    "        \n",
    "        self._i += 1\n",
    "        \n",
    "        return \"(?P<{}_{}>.*?)\".format(next((v for v in m.groupdict().values() if v)), self._i)"
   ]
  },
  {
   "cell_type": "code",
   "execution_count": 213,
   "metadata": {},
   "outputs": [],
   "source": [
    "replace_hifen_w_underline = re.compile(r'(?<=((RIDGE)|(TIENT)|(AGENT)))(\\-)')\n",
    "make_groups_re = re.compile(r'((?P<bridge>BRIDGE_\\d)|(?P<patient>PATIENT_\\d)|(?P<agent>AGENT_\\d))')\n",
    "REMOVE_SPACE_BEFORE_DOT_RE = re.compile(r\"(.*?)(\\s*)([\\.,'!])\")\n",
    "\n",
    "def remove_space_before_dot(s):\n",
    "    \n",
    "    return REMOVE_SPACE_BEFORE_DOT_RE.sub(r'\\1\\3', s)\n",
    "\n",
    "transtab = str.maketrans(\"’'\", \"''\")\n",
    "def normalize_text(s):\n",
    "    \n",
    "    return s.translate(transtab).replace('`` ', '').replace(\" '' \", '').replace('--', '-')\n",
    "\n",
    "def extract(text, template, entity_map):\n",
    "    \n",
    "    template = normalize_text(template)\n",
    "    template = replace_hifen_w_underline.sub(r'_', template)\n",
    "    template = remove_space_before_dot(template)\n",
    "    \n",
    "    r = Replacer()\n",
    "    template_re = re.compile('^{}$'.format(make_groups_re.sub(r.replace_sop, re.escape(template))))\n",
    "    \n",
    "    text = remove_space_before_dot(text)\n",
    "    \n",
    "    m = template_re.match(text)\n",
    "    \n",
    "    if m:\n",
    "        \n",
    "        result = []\n",
    "        \n",
    "        d = m.groupdict()\n",
    "        \n",
    "        for key, value in d.items():\n",
    "            \n",
    "            result.append((entity_map[key.rsplit('_', maxsplit=1)[0].replace('_', '-')], value))\n",
    "            \n",
    "        return result\n",
    "    \n",
    "    return None"
   ]
  },
  {
   "cell_type": "code",
   "execution_count": 228,
   "metadata": {},
   "outputs": [
    {
     "name": "stderr",
     "output_type": "stream",
     "text": [
      "100%|██████████| 7812/7812 [00:05<00:00, 1319.10it/s]\n"
     ]
    }
   ],
   "source": [
    "from tqdm import tqdm\n",
    "\n",
    "result = []\n",
    "\n",
    "for e in tqdm(v_12):\n",
    "    \n",
    "    for lexe in e.entry['lexes']:\n",
    "        \n",
    "        if lexe['template'] and lexe['template'] != 'NOT-FOUND':\n",
    "        \n",
    "            r = extract(lexe['ltext'], lexe['template'], e.entry['entity_map'])\n",
    "            \n",
    "            if r:\n",
    "\n",
    "                result.extend(r)"
   ]
  },
  {
   "cell_type": "code",
   "execution_count": 230,
   "metadata": {},
   "outputs": [
    {
     "data": {
      "text/plain": [
       "[('Aarhus_Airport', 'Aarhus Airport'),\n",
       " ('\"Aarhus, Denmark\"', 'Aarhus, Denmark'),\n",
       " ('Aarhus_Airport', 'Aarhus airport'),\n",
       " ('Aarhus', 'Aarhus'),\n",
       " ('Aarhus_Airport', 'Aarhus Airport'),\n",
       " ('25.0', '25 metres'),\n",
       " ('Aarhus_Airport', 'Aarhus airport'),\n",
       " ('25.0', '25 metres'),\n",
       " ('Aarhus_Airport', 'Aarhus Airport'),\n",
       " ('25.0', '25.0')]"
      ]
     },
     "execution_count": 230,
     "metadata": {},
     "output_type": "execute_result"
    }
   ],
   "source": [
    "result[:10]"
   ]
  },
  {
   "cell_type": "code",
   "execution_count": 232,
   "metadata": {},
   "outputs": [],
   "source": [
    "s = list(set(result))"
   ]
  },
  {
   "cell_type": "code",
   "execution_count": 238,
   "metadata": {},
   "outputs": [
    {
     "data": {
      "text/plain": [
       "[('\"hot\"', 'hot'),\n",
       " ('Harcourt_(publisher)', 'Harcourt (publishers)'),\n",
       " ('African_Americans', 'D.C. African Americans'),\n",
       " ('Philippines', \"The country's\"),\n",
       " ('12.0', '12'),\n",
       " ('Olympic_Stadium_(Athens)', 'The Olympic Stadium (in Athens)'),\n",
       " ('HAL_Light_Combat_Helicopter', 'HAL light combat helicopters'),\n",
       " ('California_State_Assembly', 'the California State Assembly'),\n",
       " ('A.S._Gubbio_1910', 'the club'),\n",
       " ('\"Deceased\"', 'The')]"
      ]
     },
     "execution_count": 238,
     "metadata": {},
     "output_type": "execute_result"
    }
   ],
   "source": [
    "s[:10]"
   ]
  },
  {
   "cell_type": "code",
   "execution_count": 236,
   "metadata": {},
   "outputs": [],
   "source": [
    "with open('felipe_melo.txt', 'w') as f:\n",
    "    \n",
    "    for r in s:\n",
    "        f.write('{},{}\\n'.format(*r))"
   ]
  },
  {
   "cell_type": "code",
   "execution_count": 237,
   "metadata": {},
   "outputs": [
    {
     "name": "stdout",
     "output_type": "stream",
     "text": [
      "\"hot\",hot\r\n",
      "Harcourt_(publisher),Harcourt (publishers)\r\n",
      "African_Americans,D.C. African Americans\r\n",
      "Philippines,The country's\r\n",
      "12.0,12\r\n",
      "Olympic_Stadium_(Athens),The Olympic Stadium (in Athens)\r\n",
      "HAL_Light_Combat_Helicopter,HAL light combat helicopters\r\n",
      "California_State_Assembly,the California State Assembly\r\n",
      "A.S._Gubbio_1910,the club\r\n",
      "\"Deceased\",The\r\n"
     ]
    }
   ],
   "source": [
    "!head felipe_melo.txt"
   ]
  }
 ],
 "metadata": {
  "kernelspec": {
   "display_name": "Python 3",
   "language": "python",
   "name": "python3"
  },
  "language_info": {
   "codemirror_mode": {
    "name": "ipython",
    "version": 3
   },
   "file_extension": ".py",
   "mimetype": "text/x-python",
   "name": "python",
   "nbconvert_exporter": "python",
   "pygments_lexer": "ipython3",
   "version": "3.6.7"
  }
 },
 "nbformat": 4,
 "nbformat_minor": 2
}
