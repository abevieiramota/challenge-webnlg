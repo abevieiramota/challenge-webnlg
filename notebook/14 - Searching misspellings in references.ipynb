{
 "cells": [
  {
   "cell_type": "code",
   "execution_count": 1,
   "metadata": {},
   "outputs": [],
   "source": [
    "import os\n",
    "\n",
    "os.sys.path.insert(0, '../script')\n",
    "from webnlg import WebNLGCorpus\n",
    "\n",
    "from enchant.checker import SpellChecker\n",
    "\n",
    "from tqdm import tqdm\n",
    "\n",
    "from collections import Counter"
   ]
  },
  {
   "cell_type": "code",
   "execution_count": 2,
   "metadata": {},
   "outputs": [],
   "source": [
    "chkr = SpellChecker('en_US', 'en_UK')\n",
    "\n",
    "def get_spellings_errors(t):\n",
    "    \n",
    "    chkr.set_text(t)\n",
    "    \n",
    "    return [(w.word, w.suggest()[0]) for w in chkr if w.word.islower()]"
   ]
  },
  {
   "cell_type": "code",
   "execution_count": 3,
   "metadata": {},
   "outputs": [],
   "source": [
    "train_dev = WebNLGCorpus.load(['train', 'dev'])"
   ]
  },
  {
   "cell_type": "code",
   "execution_count": 4,
   "metadata": {},
   "outputs": [
    {
     "name": "stderr",
     "output_type": "stream",
     "text": [
      "100%|██████████| 7812/7812 [02:51<00:00, 45.58it/s] \n"
     ]
    }
   ],
   "source": [
    "result = []\n",
    "\n",
    "for entry in tqdm(train_dev):\n",
    "    \n",
    "    entry_result = {'entry':entry, \n",
    "                    'misspellings': None\n",
    "                   }\n",
    "    result.append(entry_result)\n",
    "    \n",
    "    misspellings = []\n",
    "    \n",
    "    for lex in entry.lexes():\n",
    "        \n",
    "        r = get_spellings_errors(lex)\n",
    "        \n",
    "        if r:\n",
    "            \n",
    "            misspellings.extend(r)\n",
    "            \n",
    "    entry_result['misspellings'] = Counter(misspellings)"
   ]
  },
  {
   "cell_type": "code",
   "execution_count": 9,
   "metadata": {},
   "outputs": [
    {
     "name": "stdout",
     "output_type": "stream",
     "text": [
      "7812 - 2050\n"
     ]
    }
   ],
   "source": [
    "w_mispelling = [r for r in result if len(r['misspellings'])]\n",
    "\n",
    "print(f'{len(result)} - {len(w_mispelling)}')"
   ]
  },
  {
   "cell_type": "markdown",
   "metadata": {},
   "source": [
    "## augurated > inaugurated"
   ]
  },
  {
   "cell_type": "code",
   "execution_count": 12,
   "metadata": {},
   "outputs": [
    {
     "data": {
      "text/plain": [
       "{'entry': Triple info: category=Building eid=Id104\n",
       " \n",
       " \tModified triples:\n",
       " \n",
       " Alan_B._Miller_Hall | inaugurationDate | \"2009-10-02\"\n",
       " \n",
       " \n",
       " \tLexicalizations:\n",
       " \n",
       " Alan B. Miller Hall was in augurated on 2009-10-02.\n",
       " Alan B. Miller Hall was inaugurated on \"2009-10-02\".\n",
       " The inauguration date of the Alan B. Miller Hall was 2nd October, 2009.,\n",
       " 'misspellings': Counter({('augurated', 'inaugurated'): 1, ('nd', 'ND'): 1})}"
      ]
     },
     "execution_count": 12,
     "metadata": {},
     "output_type": "execute_result"
    }
   ],
   "source": [
    "w_mispelling[100]"
   ]
  },
  {
   "cell_type": "markdown",
   "metadata": {},
   "source": [
    "## potatotes > potatoes"
   ]
  },
  {
   "cell_type": "code",
   "execution_count": 20,
   "metadata": {},
   "outputs": [
    {
     "data": {
      "text/plain": [
       "{'entry': Triple info: category=Food eid=Id243\n",
       " \n",
       " \tModified triples:\n",
       " \n",
       " Binignit | mainIngredients | Sweet_potato\n",
       " Sweet_potato | division | Flowering_plant\n",
       " Binignit | ingredient | Coconut_milk\n",
       " Sweet_potato | order | Solanales\n",
       " \n",
       " \n",
       " \tLexicalizations:\n",
       " \n",
       " The main ingredients of binignit are sweet potatotes (flowering plant; a Solanales) and coconut milk.\n",
       " Coconut milk is an ingredient of binignit, which also contains sweet potato - of the order Solanales and a flowering plant.\n",
       " Binignit contains coconut and sweet potato (a member of the Solanales flowering plant order).,\n",
       " 'misspellings': Counter({('binignit', 'benignity'): 2,\n",
       "          ('potatotes', 'potatoes'): 1})}"
      ]
     },
     "execution_count": 20,
     "metadata": {},
     "output_type": "execute_result"
    }
   ],
   "source": [
    "w_mispelling[800]"
   ]
  }
 ],
 "metadata": {
  "kernelspec": {
   "display_name": "Python 3",
   "language": "python",
   "name": "python3"
  },
  "language_info": {
   "codemirror_mode": {
    "name": "ipython",
    "version": 3
   },
   "file_extension": ".py",
   "mimetype": "text/x-python",
   "name": "python",
   "nbconvert_exporter": "python",
   "pygments_lexer": "ipython3",
   "version": "3.6.7"
  }
 },
 "nbformat": 4,
 "nbformat_minor": 2
}
