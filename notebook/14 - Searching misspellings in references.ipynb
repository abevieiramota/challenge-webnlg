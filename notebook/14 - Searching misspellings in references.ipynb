{
 "cells": [
  {
   "cell_type": "code",
   "execution_count": 55,
   "metadata": {},
   "outputs": [],
   "source": [
    "import os\n",
    "\n",
    "os.sys.path.insert(0, '../script')\n",
    "from webnlg import WebNLGCorpus\n",
    "\n",
    "from enchant.checker import SpellChecker\n",
    "\n",
    "from tqdm import tqdm\n",
    "\n",
    "from collections import Counter"
   ]
  },
  {
   "cell_type": "code",
   "execution_count": 65,
   "metadata": {},
   "outputs": [],
   "source": [
    "chkr = SpellChecker('en_US', 'en_UK')\n",
    "\n",
    "def get_spellings_errors(t):\n",
    "    \n",
    "    chkr.set_text(t)\n",
    "    \n",
    "    return [(w.word, w.suggest()[0]) for w in chkr if w.word.islower()]"
   ]
  },
  {
   "cell_type": "code",
   "execution_count": 48,
   "metadata": {},
   "outputs": [],
   "source": [
    "train_dev = WebNLGCorpus.load(['train', 'dev'])"
   ]
  },
  {
   "cell_type": "code",
   "execution_count": 147,
   "metadata": {},
   "outputs": [
    {
     "name": "stderr",
     "output_type": "stream",
     "text": [
      "100%|██████████| 7812/7812 [02:32<00:00, 51.11it/s] \n"
     ]
    }
   ],
   "source": [
    "result = []\n",
    "\n",
    "for entry in tqdm(train_dev):\n",
    "    \n",
    "    entry_result = {'entry':entry, \n",
    "                    'misspellings': None\n",
    "                   }\n",
    "    result.append(entry_result)\n",
    "    \n",
    "    misspellings = []\n",
    "    \n",
    "    for lex in entry.lexes():\n",
    "        \n",
    "        r = get_spellings_errors(lex)\n",
    "        \n",
    "        if r:\n",
    "            \n",
    "            misspellings.extend(r)\n",
    "            \n",
    "    entry_result['misspellings'] = Counter(misspellings)"
   ]
  },
  {
   "cell_type": "code",
   "execution_count": 154,
   "metadata": {},
   "outputs": [
    {
     "data": {
      "text/plain": [
       "[{'entry': Triple info: category=WrittenWork eid=Id31\n",
       "  \n",
       "  \tModified triples:\n",
       "  \n",
       "  Administrative_Science_Quarterly | publisher | Cornell_University\n",
       "  Cornell_University | affiliation | Association_of_Public_and_Land-grant_Universities\n",
       "  Cornell_University | president | Elizabeth_Garrett\n",
       "  Cornell_University | state | New_York\n",
       "  Cornell_University | city | Ithaca,_New_York\n",
       "  \n",
       "  \n",
       "  \tLexicalizations:\n",
       "  \n",
       "  Cornell Unversity is in Ithaca, New York and Elizabeth Garrett is the president. They are the publisher of Administrative Science Quarterly and are affiliated with the Association of Public and Land grant Universities.\n",
       "  Affiliated with the Association of Public and Land grant Universities, Cornell University in Ithaca New York is the publisher of Administrative Science Quarterly. The president of the univesity is Elizabeth Garrett.\n",
       "  Affiliated with the Association of Public and Land grant Universities, Cornell University in Ithaca, New York is the publisher of the Administrative Science Quarterly. The university's president is Elizabeth Garrett.,\n",
       "  'misspellings': [Counter({('univesity', 'university'): 1})]}]"
      ]
     },
     "execution_count": 154,
     "metadata": {},
     "output_type": "execute_result"
    }
   ],
   "source": [
    "[x for x in result if x['misspellings'][0][('univesity', 'university')] > 0]"
   ]
  },
  {
   "cell_type": "code",
   "execution_count": null,
   "metadata": {},
   "outputs": [],
   "source": []
  }
 ],
 "metadata": {
  "kernelspec": {
   "display_name": "Python 3",
   "language": "python",
   "name": "python3"
  },
  "language_info": {
   "codemirror_mode": {
    "name": "ipython",
    "version": 3
   },
   "file_extension": ".py",
   "mimetype": "text/x-python",
   "name": "python",
   "nbconvert_exporter": "python",
   "pygments_lexer": "ipython3",
   "version": "3.6.7"
  }
 },
 "nbformat": 4,
 "nbformat_minor": 2
}
