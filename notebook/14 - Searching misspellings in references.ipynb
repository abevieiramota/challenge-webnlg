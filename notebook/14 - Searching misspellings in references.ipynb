{
 "cells": [
  {
   "cell_type": "code",
   "execution_count": 1,
   "metadata": {},
   "outputs": [],
   "source": [
    "import os\n",
    "\n",
    "os.sys.path.insert(0, '../script')\n",
    "from webnlg import WebNLGCorpus\n",
    "\n",
    "from enchant.checker import SpellChecker\n",
    "\n",
    "from tqdm import tqdm\n",
    "\n",
    "from collections import Counter, defaultdict"
   ]
  },
  {
   "cell_type": "code",
   "execution_count": 2,
   "metadata": {},
   "outputs": [],
   "source": [
    "# return only misspellings for both en_GB and en_US\n",
    "\n",
    "chkr_GB = SpellChecker('en_GB')\n",
    "chkr_US = SpellChecker('en_US')\n",
    "\n",
    "# return misspellings for both en_GB and en_US\n",
    "# limitations:\n",
    "# 1 - deals only with lower case words - assumes not lower case words are proper nouns\n",
    "# 2 - ignores cases of incorrect case, like brazil/Brazil\n",
    "def get_spellings_errors(t):\n",
    "    \n",
    "    chkr_GB.set_text(t)\n",
    "    chkr_US.set_text(t)\n",
    "    \n",
    "    # find misspellings and its first suggestion\n",
    "    #    only if the word is in lower case\n",
    "    gb_misspellings = set((w.word, w.suggest()[0]) for w in chkr_GB if w.word.islower())\n",
    "    us_misspellings = set((w.word, w.suggest()[0]) for w in chkr_US if w.word.islower())\n",
    "    \n",
    "    # only consider a misspelling if its a misspelling for both locales en_GB and en_US, and have the same suggestion\n",
    "    gb_us_misspellings = gb_misspellings & us_misspellings\n",
    "    \n",
    "    # remove cases which the only difference is the case\n",
    "    gb_us_misspellings = [w for w, s in gb_us_misspellings if w.lower() != s.lower()]\n",
    "    \n",
    "    return gb_us_misspellings"
   ]
  },
  {
   "cell_type": "code",
   "execution_count": 3,
   "metadata": {},
   "outputs": [],
   "source": [
    "# load all datasets\n",
    "\n",
    "db = WebNLGCorpus.load(['train', 'dev', 'test_with_lex'])"
   ]
  },
  {
   "cell_type": "code",
   "execution_count": 4,
   "metadata": {},
   "outputs": [
    {
     "name": "stderr",
     "output_type": "stream",
     "text": [
      "100%|██████████| 9674/9674 [03:42<00:00, 43.44it/s] "
     ]
    },
    {
     "name": "stdout",
     "output_type": "stream",
     "text": [
      "CPU times: user 3min 25s, sys: 11.3 s, total: 3min 36s\n",
      "Wall time: 3min 42s\n"
     ]
    },
    {
     "name": "stderr",
     "output_type": "stream",
     "text": [
      "\n"
     ]
    }
   ],
   "source": [
    "%%time\n",
    "\n",
    "result = []\n",
    "\n",
    "# for each entry in the dataset\n",
    "for entry in tqdm(db):\n",
    "    \n",
    "    misspellings = set()\n",
    "    \n",
    "    # for each reference text\n",
    "    for lex in entry.lexes():\n",
    "\n",
    "        # calculate misspellings\n",
    "        errs = get_spellings_errors(lex)\n",
    "        \n",
    "        # accumulate\n",
    "        misspellings.update(errs)\n",
    "            \n",
    "    # if some misspelling\n",
    "    if misspellings:\n",
    "        \n",
    "        entry_result = {'entry':entry, 'misspellings': misspellings}\n",
    "        \n",
    "        result.append(entry_result)"
   ]
  },
  {
   "cell_type": "code",
   "execution_count": 5,
   "metadata": {},
   "outputs": [],
   "source": [
    "# creates a dictionary mapping misspellings into entries where they occur\n",
    "ebm = defaultdict(list)\n",
    "\n",
    "for d in result:\n",
    "    \n",
    "    for misspell in d['misspellings']:\n",
    "        \n",
    "        ebm[misspell].append(d['entry'])"
   ]
  },
  {
   "cell_type": "code",
   "execution_count": 6,
   "metadata": {},
   "outputs": [],
   "source": [
    "# removes supposed misspellings if they occur in some of the entry's triples\n",
    "\n",
    "def key_is_in_some_triple(key, entries):\n",
    "    \n",
    "    for entry in entries:\n",
    "        \n",
    "        for triple in entry.triples(kind='text'):\n",
    "            \n",
    "            if key in triple:\n",
    "                \n",
    "                return True\n",
    "    return False\n",
    "    \n",
    "\n",
    "# retain only cases where the supposed misspelling doesn't occur in some of the entry's triples\n",
    "ebm = {key: entries for key, entries in ebm.items() if not key_is_in_some_triple(key, entries)}"
   ]
  },
  {
   "cell_type": "markdown",
   "metadata": {},
   "source": [
    "# Some examples"
   ]
  },
  {
   "cell_type": "code",
   "execution_count": 9,
   "metadata": {},
   "outputs": [
    {
     "data": {
      "text/plain": [
       "dict_keys(['idenitifier', 'loaction', 'sytle', 'studiies', 'publshed', 'discipine', 'journeal', 'abbreivated', 'ajoblanco', 'ayam', 'bakewell', 'batchoy', 'binignit', 'potatotes', 'bionico', 'apium', 'affilaited', 'bananaman', 'varient', 'arros', 'penet', 'persea', \"counrty's\", 'originiates', 'menbers', 'legue', 'managerof', 'hardcovered', 'unrelatedly', 'unreleated', 'denonym', 'inagurated', 'thge', 'relgiion', 'locaated', 'joing', 'figter', 'establishedin', 'ffiliated', 'comanded', 'ingridient', 'kethup', 'ingedients', 'straweberries', 'noodels', 'souce', 'confectionary', 'igredient', 'abreviated', 'focussed', 'abbreviatedform', 'homeground', 'constructionof', 'lanka', 'locacted', 'withreference', 'prevously', 'operationg', 'aboce', 'airforce', 'identfier', 'airbas', 'aircaft', 'lqbal', 'lcolo', 'whree', 'affliate', 'inaugrated', 'ethinic', 'panyet', 'sanwich', 'origintes', 'varation', 'bakewall', 'basko', 'penjey', 'retiral', 'univesity', 'sequeled', 'predominently', 'sppoken', 'punlished', \"airports's\", 'levle', 'aircarft', 'ruway', 'currecncy', 'ayem', 'peyney', 'inclusdes', 'variatons', 'orginated', 'whic', 'momument', 'birgmingham', 'nad', 'superleague', 'bookwriter', 'iin', 'runwiay', 'flacons', 'elevelation', 'sealevel', 'globemaster', 'abreviation', 'harback', 'architecct', 'kms', 'variaton', 'traditonal', 'suace', 'teos', 'ingrediens', 'ebook', 'sambel', 'sambla', 'subsidary', 'whiere', 'bahjo', 'containg', 'identifer', 'crewmember', 'currente', 'sucessor', 'chiarman', 'bhangra', 'perscussion', 'subgenre', 'disovered', 'emplyed', 'paricipated', 'astroid', 'shipbeam', 'asembled', 'simiilar', 'launchsite', 'alos', 'kmps', 'prbital', 'keyperson', 'supermini', 'twho', 'succcessor', 'preceeded', 'carreer', 'cyclinders', 'assemebled', 'diametre', 'byy', 'iof', 'origiins'])"
      ]
     },
     "execution_count": 9,
     "metadata": {},
     "output_type": "execute_result"
    }
   ],
   "source": [
    "ebm.keys()"
   ]
  },
  {
   "cell_type": "code",
   "execution_count": 10,
   "metadata": {},
   "outputs": [
    {
     "data": {
      "text/plain": [
       "[Triple info: category=Airport eid=Id29\n",
       " \n",
       " \tModified triples:\n",
       " \n",
       " Adirondack_Regional_Airport | locationIdentifier | \"SLK\"\n",
       " \n",
       " \n",
       " \tLexicalizations:\n",
       " \n",
       " Adirondack Regional Airport location idenitifier is SLK.\n",
       " SLK is the I.D. of the Adirondack Regional Airport.\n",
       " The Adirondack Regional Airport location identifier is SLK.]"
      ]
     },
     "execution_count": 10,
     "metadata": {},
     "output_type": "execute_result"
    }
   ],
   "source": [
    "ebm['idenitifier']"
   ]
  },
  {
   "cell_type": "code",
   "execution_count": 11,
   "metadata": {},
   "outputs": [
    {
     "data": {
      "text/plain": [
       "[Triple info: category=Airport eid=Id100\n",
       " \n",
       " \tModified triples:\n",
       " \n",
       " Alpena_County_Regional_Airport | locationIdentifier | \"APN\"\n",
       " \n",
       " \n",
       " \tLexicalizations:\n",
       " \n",
       " The location identifier of Alpena County Regional airport is APN.\n",
       " The Alpena County Regional Airport's location id is \"APN\".\n",
       " The loaction identifier of Alpena County Regional Airport is APN.]"
      ]
     },
     "execution_count": 11,
     "metadata": {},
     "output_type": "execute_result"
    }
   ],
   "source": [
    "ebm['loaction']"
   ]
  },
  {
   "cell_type": "code",
   "execution_count": 12,
   "metadata": {},
   "outputs": [
    {
     "data": {
      "text/plain": [
       "[Triple info: category=City eid=Id795\n",
       " \n",
       " \tModified triples:\n",
       " \n",
       " Albany,_Georgia | isPartOf | Georgia_(U.S._state)\n",
       " United_States | leaderTitle | President_of_the_United_States\n",
       " United_States | demonym | Americans\n",
       " United_States | ethnicGroup | Asian_Americans\n",
       " Albany,_Georgia | country | United_States\n",
       " \n",
       " \n",
       " \tLexicalizations:\n",
       " \n",
       " The United States, whiere the inhabitants are known as Americans, is led by the President and has Asian Americans as an ethnic group. It is the location of Albany, part of the state of Georgia.\n",
       " Albany is located in the US state of Georgia, U.S. With the leader called the President of the United States there are Asian Americans as well as Americans living there.\n",
       " Americans are the people occupying the U.S., whose leader is the President of the United States, and Asian Americans are an ethnic group there. Albany is part of the state of Georgia in the United States.]"
      ]
     },
     "execution_count": 12,
     "metadata": {},
     "output_type": "execute_result"
    }
   ],
   "source": [
    "ebm['whiere']"
   ]
  },
  {
   "cell_type": "code",
   "execution_count": 14,
   "metadata": {},
   "outputs": [
    {
     "data": {
      "text/plain": [
       "[Triple info: category=Airport eid=Id129\n",
       " \n",
       " \tModified triples:\n",
       " \n",
       " Appleton_International_Airport | location | Greenville,_Wisconsin\n",
       " Appleton_International_Airport | runwayLength | 1982.0\n",
       " Appleton_International_Airport | elevationAboveTheSeaLevel_(in_metres) | 280\n",
       " \n",
       " \n",
       " \tLexicalizations:\n",
       " \n",
       " Appleton International airport, which is located in Greenville, Wisconsin is located at 280 metres above sea level and a runway length of 1982.\n",
       " Appleton International airport is located in Greenville, Wisconsin,280 metres above sealevel and its runway is 1.982 km long.]"
      ]
     },
     "execution_count": 14,
     "metadata": {},
     "output_type": "execute_result"
    }
   ],
   "source": [
    "# well, it doesn't look like a misspelling \n",
    "ebm['sealevel']"
   ]
  },
  {
   "cell_type": "code",
   "execution_count": 15,
   "metadata": {},
   "outputs": [
    {
     "data": {
      "text/plain": [
       "[Triple info: category=Politician eid=Id1725\n",
       " \n",
       " \tModified triples:\n",
       " \n",
       " Albert_B._White | successor | William_M._O._Dawson\n",
       " Albert_B._White | birthPlace | Cleveland\n",
       " Albert_B._White | activeYearsEndDate | 1905-03-04\n",
       " Albert_B._White | activeYearsStartDate | 1901-03-04\n",
       " \n",
       " \n",
       " \tLexicalizations:\n",
       " \n",
       " Born in Cleveland, Albert B. White started his career on March 4, 1901 and finished it on March 4th 1905.\n",
       " Albert B. White was born in Cleveland and his successor was William M.O. Dawson. He started his career on March 4, 1901 and finished it on March 4th 1905.\n",
       " Albert B. White was born in Cleveland. he began his carreer on March 4, 1901 and ended it on March 4, 1905. His successor was William M. O. Dawson.]"
      ]
     },
     "execution_count": 15,
     "metadata": {},
     "output_type": "execute_result"
    }
   ],
   "source": [
    "ebm['carreer']"
   ]
  }
 ],
 "metadata": {
  "kernelspec": {
   "display_name": "Python 3",
   "language": "python",
   "name": "python3"
  },
  "language_info": {
   "codemirror_mode": {
    "name": "ipython",
    "version": 3
   },
   "file_extension": ".py",
   "mimetype": "text/x-python",
   "name": "python",
   "nbconvert_exporter": "python",
   "pygments_lexer": "ipython3",
   "version": "3.6.7"
  }
 },
 "nbformat": 4,
 "nbformat_minor": 2
}
